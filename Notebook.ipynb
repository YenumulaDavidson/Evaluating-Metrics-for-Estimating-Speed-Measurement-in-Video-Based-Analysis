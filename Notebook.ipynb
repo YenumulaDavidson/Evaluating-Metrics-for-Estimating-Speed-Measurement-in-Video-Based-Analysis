{
 "cells": [
  {
   "cell_type": "code",
   "execution_count": 1,
   "metadata": {
    "colab": {
     "base_uri": "https://localhost:8080/"
    },
    "executionInfo": {
     "elapsed": 19430,
     "status": "ok",
     "timestamp": 1710871318479,
     "user": {
      "displayName": "TruProjects yolo",
      "userId": "18414174829652366032"
     },
     "user_tz": -330
    },
    "id": "sc_1HsmkCYC_",
    "outputId": "063a6e3c-249c-4c34-b432-a89882fd9937"
   },
   "outputs": [
    {
     "name": "stdout",
     "output_type": "stream",
     "text": [
      "Mounted at /content/drive\n"
     ]
    }
   ],
   "source": [
    "from google.colab import drive\n",
    "drive.mount('/content/drive')"
   ]
  },
  {
   "cell_type": "code",
   "execution_count": 2,
   "metadata": {
    "executionInfo": {
     "elapsed": 2,
     "status": "ok",
     "timestamp": 1710866933241,
     "user": {
      "displayName": "TruProjects yolo",
      "userId": "18414174829652366032"
     },
     "user_tz": -330
    },
    "id": "ZPQrp941B8Mr"
   },
   "outputs": [],
   "source": [
    "import warnings\n",
    "warnings.filterwarnings('ignore')"
   ]
  },
  {
   "cell_type": "code",
   "execution_count": 3,
   "metadata": {
    "executionInfo": {
     "elapsed": 3256,
     "status": "ok",
     "timestamp": 1710866936496,
     "user": {
      "displayName": "TruProjects yolo",
      "userId": "18414174829652366032"
     },
     "user_tz": -330
    },
    "id": "_i73OY_dAZ3S"
   },
   "outputs": [],
   "source": [
    "import torch\n",
    "from IPython.display import Image\n",
    "import shutil\n",
    "import os\n",
    "from random import choice"
   ]
  },
  {
   "cell_type": "code",
   "execution_count": 4,
   "metadata": {
    "colab": {
     "base_uri": "https://localhost:8080/"
    },
    "executionInfo": {
     "elapsed": 5462,
     "status": "ok",
     "timestamp": 1710865246806,
     "user": {
      "displayName": "TruProjects yolo",
      "userId": "18414174829652366032"
     },
     "user_tz": -330
    },
    "id": "tB3BdlYjTmA1",
    "outputId": "be77b956-b814-4ccc-f166-a96fe572c5a8"
   },
   "outputs": [
    {
     "name": "stdout",
     "output_type": "stream",
     "text": [
      "Archive:  /content/drive/MyDrive/20_selected_projects/8_videoestimation/Vehicle Speed Detection.v1i.yolov5pytorch.zip\n",
      " extracting: /content/drive/MyDrive/20_selected_projects/8_videoestimation/yolov5/README.dataset.txt  \n",
      " extracting: /content/drive/MyDrive/20_selected_projects/8_videoestimation/yolov5/README.roboflow.txt  \n",
      " extracting: /content/drive/MyDrive/20_selected_projects/8_videoestimation/yolov5/data.yaml  \n",
      "   creating: /content/drive/MyDrive/20_selected_projects/8_videoestimation/yolov5/train/\n",
      "   creating: /content/drive/MyDrive/20_selected_projects/8_videoestimation/yolov5/train/images/\n",
      " extracting: /content/drive/MyDrive/20_selected_projects/8_videoestimation/yolov5/train/images/car101_png.rf.8d10704cb2313ab2ee8f189ff55d401e.jpg  \n",
      " extracting: /content/drive/MyDrive/20_selected_projects/8_videoestimation/yolov5/train/images/car102_png.rf.aa9c2e1231fff0752df4a98e5927b61c.jpg  \n",
      " extracting: /content/drive/MyDrive/20_selected_projects/8_videoestimation/yolov5/train/images/car103_png.rf.19520fea7bc94fd5bb4705f89c8fb89d.jpg  \n",
      " extracting: /content/drive/MyDrive/20_selected_projects/8_videoestimation/yolov5/train/images/car104_png.rf.0cd77dac8b9cf936c3cbda92591dc613.jpg  \n",
      " extracting: /content/drive/MyDrive/20_selected_projects/8_videoestimation/yolov5/train/images/car107_png.rf.8b7c696b630fef1f9bd5bdd537f78517.jpg  \n",
      " extracting: /content/drive/MyDrive/20_selected_projects/8_videoestimation/yolov5/train/images/car111_png.rf.54da3eabc8621289fff10d3eb3bad09b.jpg  \n",
      " extracting: /content/drive/MyDrive/20_selected_projects/8_videoestimation/yolov5/train/images/car112_png.rf.a302f850194b1e8ce9255b057737f954.jpg  \n",
      " extracting: /content/drive/MyDrive/20_selected_projects/8_videoestimation/yolov5/train/images/car113_png.rf.a7ea8c3bbbc8bf69894083e7f0a32172.jpg  \n",
      " extracting: /content/drive/MyDrive/20_selected_projects/8_videoestimation/yolov5/train/images/car114_png.rf.388791e92c5bc2a122e3907230e62dd6.jpg  \n",
      " extracting: /content/drive/MyDrive/20_selected_projects/8_videoestimation/yolov5/train/images/car115_png.rf.a8906e5ff1031e9963a9a0842bccca54.jpg  \n",
      " extracting: /content/drive/MyDrive/20_selected_projects/8_videoestimation/yolov5/train/images/car117_png.rf.560234944dce2f3b22777f4445e87035.jpg  \n",
      " extracting: /content/drive/MyDrive/20_selected_projects/8_videoestimation/yolov5/train/images/car118_png.rf.07061d6d49d5bc65cce2ddbb282d3c29.jpg  \n",
      " extracting: /content/drive/MyDrive/20_selected_projects/8_videoestimation/yolov5/train/images/car119_png.rf.abff51d1872ecba63397eae7bd756721.jpg  \n",
      " extracting: /content/drive/MyDrive/20_selected_projects/8_videoestimation/yolov5/train/images/car11_png.rf.a149a39b4ad0e6436efcef282a7fca60.jpg  \n",
      " extracting: /content/drive/MyDrive/20_selected_projects/8_videoestimation/yolov5/train/images/car120_png.rf.91685f3ca275536a8f9eefb600c78d7f.jpg  \n",
      " extracting: /content/drive/MyDrive/20_selected_projects/8_videoestimation/yolov5/train/images/car122_png.rf.6542da6435c866363af0c5eb6cf02441.jpg  \n",
      " extracting: /content/drive/MyDrive/20_selected_projects/8_videoestimation/yolov5/train/images/car123_png.rf.f2776a2b54027c552ec90c6518483552.jpg  \n",
      " extracting: /content/drive/MyDrive/20_selected_projects/8_videoestimation/yolov5/train/images/car124_png.rf.694c211ed2cd7b7ec0b72d79c2f939d3.jpg  \n",
      " extracting: /content/drive/MyDrive/20_selected_projects/8_videoestimation/yolov5/train/images/car126_png.rf.fa17c08c86f955186918a7eb0ae8a217.jpg  \n",
      " extracting: /content/drive/MyDrive/20_selected_projects/8_videoestimation/yolov5/train/images/car128_png.rf.a5d0fc3011ace0517fb7a779327e4393.jpg  \n",
      " extracting: /content/drive/MyDrive/20_selected_projects/8_videoestimation/yolov5/train/images/car131_png.rf.bbfe71e16b94ffb1905cf96ed85c56b9.jpg  \n",
      " extracting: /content/drive/MyDrive/20_selected_projects/8_videoestimation/yolov5/train/images/car132_png.rf.e1cd7970673292609228d0772c4a795a.jpg  \n",
      " extracting: /content/drive/MyDrive/20_selected_projects/8_videoestimation/yolov5/train/images/car133_png.rf.23263aee35281ddc57028a7e4fed4f04.jpg  \n",
      " extracting: /content/drive/MyDrive/20_selected_projects/8_videoestimation/yolov5/train/images/car134_png.rf.2840d39d9026af8178ba302e4b3c72d8.jpg  \n",
      " extracting: /content/drive/MyDrive/20_selected_projects/8_videoestimation/yolov5/train/images/car135_png.rf.aa27b921bd9fc6115ca36a3d0e3e25f6.jpg  \n",
      " extracting: /content/drive/MyDrive/20_selected_projects/8_videoestimation/yolov5/train/images/car136_png.rf.9bc93a872dc4c294b5838c94bd6cfb8a.jpg  \n",
      " extracting: /content/drive/MyDrive/20_selected_projects/8_videoestimation/yolov5/train/images/car137_png.rf.d358f248259f72a3fbaa4a728d4a0151.jpg  \n",
      " extracting: /content/drive/MyDrive/20_selected_projects/8_videoestimation/yolov5/train/images/car138_png.rf.d1571068116fca9d69ebbc2ca0785a9c.jpg  \n",
      " extracting: /content/drive/MyDrive/20_selected_projects/8_videoestimation/yolov5/train/images/car139_png.rf.d1474a2d261e0057700ccfae474161e6.jpg  \n",
      " extracting: /content/drive/MyDrive/20_selected_projects/8_videoestimation/yolov5/train/images/car140_png.rf.cc4922c7fdf7f188da0f2ee9710c80cf.jpg  \n",
      " extracting: /content/drive/MyDrive/20_selected_projects/8_videoestimation/yolov5/train/images/car141_png.rf.9a0be17c89814d9523cf69c5880353ad.jpg  \n",
      " extracting: /content/drive/MyDrive/20_selected_projects/8_videoestimation/yolov5/train/images/car142_png.rf.3e5321bf3d7032f0bf104688acd11298.jpg  \n",
      " extracting: /content/drive/MyDrive/20_selected_projects/8_videoestimation/yolov5/train/images/car143_png.rf.9a2c566838325afb11e578d534c304e7.jpg  \n",
      " extracting: /content/drive/MyDrive/20_selected_projects/8_videoestimation/yolov5/train/images/car144_png.rf.8f7787b995c5bed7197d4826956d2e25.jpg  \n",
      " extracting: /content/drive/MyDrive/20_selected_projects/8_videoestimation/yolov5/train/images/car145_png.rf.f137547df8046d1809beb2b506f3ec31.jpg  \n",
      " extracting: /content/drive/MyDrive/20_selected_projects/8_videoestimation/yolov5/train/images/car146_png.rf.a33d2cf1b41645acabfa447e9d03178d.jpg  \n",
      " extracting: /content/drive/MyDrive/20_selected_projects/8_videoestimation/yolov5/train/images/car147_png.rf.3379b5cf8d2598b0a0b1ce21f800cd27.jpg  \n",
      " extracting: /content/drive/MyDrive/20_selected_projects/8_videoestimation/yolov5/train/images/car148_png.rf.c92bea4250a72d9266c14b4161d34034.jpg  \n",
      " extracting: /content/drive/MyDrive/20_selected_projects/8_videoestimation/yolov5/train/images/car149_png.rf.f62cec8f9b25ea25115c1f5d464a2553.jpg  \n",
      " extracting: /content/drive/MyDrive/20_selected_projects/8_videoestimation/yolov5/train/images/car150_png.rf.e7f82c5012f7676d79bca7742b248dfd.jpg  \n",
      " extracting: /content/drive/MyDrive/20_selected_projects/8_videoestimation/yolov5/train/images/car151_png.rf.833b305a4866c010dce21b0f38a2f643.jpg  \n",
      " extracting: /content/drive/MyDrive/20_selected_projects/8_videoestimation/yolov5/train/images/car154_png.rf.26b99e3f2422df2b6f4fbf750757566e.jpg  \n",
      " extracting: /content/drive/MyDrive/20_selected_projects/8_videoestimation/yolov5/train/images/car155_png.rf.33a6eaa7309642f547d98afe9efc1f96.jpg  \n",
      " extracting: /content/drive/MyDrive/20_selected_projects/8_videoestimation/yolov5/train/images/car15_png.rf.5b55756903e603eedab2b55b4e0244c7.jpg  \n",
      " extracting: /content/drive/MyDrive/20_selected_projects/8_videoestimation/yolov5/train/images/car160_png.rf.30c38f7a41dc500d6425126530c28584.jpg  \n",
      " extracting: /content/drive/MyDrive/20_selected_projects/8_videoestimation/yolov5/train/images/car161_png.rf.d7d82dd23f6d8ad07463e9e43fbb6feb.jpg  \n",
      " extracting: /content/drive/MyDrive/20_selected_projects/8_videoestimation/yolov5/train/images/car163_png.rf.83864ce05c9cab048f83edbb8ec59c64.jpg  \n",
      " extracting: /content/drive/MyDrive/20_selected_projects/8_videoestimation/yolov5/train/images/car164_png.rf.3e336baa7a7398ebfa0ac07fb1936fe4.jpg  \n",
      " extracting: /content/drive/MyDrive/20_selected_projects/8_videoestimation/yolov5/train/images/car165_png.rf.4fb6d040bebfb694946719ea271705d1.jpg  \n",
      " extracting: /content/drive/MyDrive/20_selected_projects/8_videoestimation/yolov5/train/images/car166_png.rf.d7726e05b032e6b8f073145f626c2ef7.jpg  \n",
      " extracting: /content/drive/MyDrive/20_selected_projects/8_videoestimation/yolov5/train/images/car169_png.rf.cfcba22aec84f26e6c90aaa9bbb29f57.jpg  \n",
      " extracting: /content/drive/MyDrive/20_selected_projects/8_videoestimation/yolov5/train/images/car16_png.rf.ef72a9a268410b716bc0e1efc3c4a156.jpg  \n",
      " extracting: /content/drive/MyDrive/20_selected_projects/8_videoestimation/yolov5/train/images/car170_png.rf.8a365a77c363c1897442fd401ab28d19.jpg  \n",
      " extracting: /content/drive/MyDrive/20_selected_projects/8_videoestimation/yolov5/train/images/car172_png.rf.874bd318dbde20085ccd69fba5bebf1f.jpg  \n",
      " extracting: /content/drive/MyDrive/20_selected_projects/8_videoestimation/yolov5/train/images/car174_png.rf.0c898f51420481831714d3208e3dcbf8.jpg  \n",
      " extracting: /content/drive/MyDrive/20_selected_projects/8_videoestimation/yolov5/train/images/car175_png.rf.5714443e67dfe5b54a5b88b79507f074.jpg  \n",
      " extracting: /content/drive/MyDrive/20_selected_projects/8_videoestimation/yolov5/train/images/car178_png.rf.e1545c865a3be10f9e8747408dfba0a0.jpg  \n",
      " extracting: /content/drive/MyDrive/20_selected_projects/8_videoestimation/yolov5/train/images/car179_png.rf.e6b67160414bd5be56a8480072f26da3.jpg  \n",
      " extracting: /content/drive/MyDrive/20_selected_projects/8_videoestimation/yolov5/train/images/car17_png.rf.b65399a99e34179c443ffd21c2674805.jpg  \n",
      " extracting: /content/drive/MyDrive/20_selected_projects/8_videoestimation/yolov5/train/images/car180_png.rf.479e34d06e8f8efa4994a5fe917f2edf.jpg  \n",
      " extracting: /content/drive/MyDrive/20_selected_projects/8_videoestimation/yolov5/train/images/car182_png.rf.8e48dd3aca063e7c96cd34beb1dbc407.jpg  \n",
      " extracting: /content/drive/MyDrive/20_selected_projects/8_videoestimation/yolov5/train/images/car183_png.rf.df775ae808db0c09f60e15aa1b07a30a.jpg  \n",
      " extracting: /content/drive/MyDrive/20_selected_projects/8_videoestimation/yolov5/train/images/car186_png.rf.a3313d55d841d40e35bf101780d04063.jpg  \n",
      " extracting: /content/drive/MyDrive/20_selected_projects/8_videoestimation/yolov5/train/images/car187_png.rf.279700764f0bd0394614010547714b58.jpg  \n",
      " extracting: /content/drive/MyDrive/20_selected_projects/8_videoestimation/yolov5/train/images/car188_png.rf.745d1088acb67b49dc8ffa755ed9f144.jpg  \n",
      " extracting: /content/drive/MyDrive/20_selected_projects/8_videoestimation/yolov5/train/images/car189_png.rf.b32802847d101d9c47dc3d343dfba06f.jpg  \n",
      " extracting: /content/drive/MyDrive/20_selected_projects/8_videoestimation/yolov5/train/images/car18_png.rf.ff349b3934c32caa4c6b7192d5d5a90f.jpg  \n",
      " extracting: /content/drive/MyDrive/20_selected_projects/8_videoestimation/yolov5/train/images/car192_png.rf.9d50dd3411d2e15db606a023fc5773ac.jpg  \n",
      " extracting: /content/drive/MyDrive/20_selected_projects/8_videoestimation/yolov5/train/images/car193_png.rf.fbf45c482a5bbafdbfb07e0be4a382ae.jpg  \n",
      " extracting: /content/drive/MyDrive/20_selected_projects/8_videoestimation/yolov5/train/images/car195_png.rf.976ad36ca2df440a7e8d035ee865d81d.jpg  \n",
      " extracting: /content/drive/MyDrive/20_selected_projects/8_videoestimation/yolov5/train/images/car196_png.rf.d8874dfa5b423c11153c7bccbb6eb4e0.jpg  \n",
      " extracting: /content/drive/MyDrive/20_selected_projects/8_videoestimation/yolov5/train/images/car198_png.rf.ec29c2ece25c93be667b8e6232dee8ab.jpg  \n",
      " extracting: /content/drive/MyDrive/20_selected_projects/8_videoestimation/yolov5/train/images/car199_png.rf.856a83874fba6b6d6ed6432cfc70f8ac.jpg  \n",
      " extracting: /content/drive/MyDrive/20_selected_projects/8_videoestimation/yolov5/train/images/car200_png.rf.4f367e9b3fc696afe9600c8dff0490d0.jpg  \n",
      " extracting: /content/drive/MyDrive/20_selected_projects/8_videoestimation/yolov5/train/images/car202_png.rf.042ca9e838e7073d3d8f60ddb7d2c19e.jpg  \n",
      " extracting: /content/drive/MyDrive/20_selected_projects/8_videoestimation/yolov5/train/images/car203_png.rf.d76d885388522d6bdb59c197197f93f9.jpg  \n",
      " extracting: /content/drive/MyDrive/20_selected_projects/8_videoestimation/yolov5/train/images/car205_png.rf.8c4f62cb84f6910c17c32cc458f461d1.jpg  \n",
      " extracting: /content/drive/MyDrive/20_selected_projects/8_videoestimation/yolov5/train/images/car207_png.rf.1c8eace63107f59b937b792b3b48388f.jpg  \n",
      " extracting: /content/drive/MyDrive/20_selected_projects/8_videoestimation/yolov5/train/images/car208_png.rf.d5518a0df6a686a988cc1dd03ca571f6.jpg  \n",
      " extracting: /content/drive/MyDrive/20_selected_projects/8_videoestimation/yolov5/train/images/car210_png.rf.c14400596694143168b44c11aefc74d8.jpg  \n",
      " extracting: /content/drive/MyDrive/20_selected_projects/8_videoestimation/yolov5/train/images/car211_png.rf.25970903ea4ebbade178b69f9b64a8de.jpg  \n",
      " extracting: /content/drive/MyDrive/20_selected_projects/8_videoestimation/yolov5/train/images/car212_png.rf.dbb818e881ce955dafde3e8a320d8d62.jpg  \n",
      " extracting: /content/drive/MyDrive/20_selected_projects/8_videoestimation/yolov5/train/images/car213_png.rf.efd8bb8ca9fde69cd113a492b487a604.jpg  \n",
      " extracting: /content/drive/MyDrive/20_selected_projects/8_videoestimation/yolov5/train/images/car214_png.rf.99ff1582eff7b3703249f10b675d308e.jpg  \n",
      " extracting: /content/drive/MyDrive/20_selected_projects/8_videoestimation/yolov5/train/images/car215_png.rf.5837844bb309fc228aad4d398477c13c.jpg  \n",
      " extracting: /content/drive/MyDrive/20_selected_projects/8_videoestimation/yolov5/train/images/car216_png.rf.575c220e6b23d51542c79182c3699ae3.jpg  \n",
      " extracting: /content/drive/MyDrive/20_selected_projects/8_videoestimation/yolov5/train/images/car217_png.rf.d8aacf1341fead78b5e76bef1fd9dcc1.jpg  \n",
      " extracting: /content/drive/MyDrive/20_selected_projects/8_videoestimation/yolov5/train/images/car218_png.rf.b11b192711830ed9208c770ca8d5f760.jpg  \n",
      " extracting: /content/drive/MyDrive/20_selected_projects/8_videoestimation/yolov5/train/images/car220_png.rf.b9c9e8f3f831eb57e4eb4d383bf3df61.jpg  \n",
      " extracting: /content/drive/MyDrive/20_selected_projects/8_videoestimation/yolov5/train/images/car221_png.rf.df10b400340ee7a713242986eb5edc3d.jpg  \n",
      " extracting: /content/drive/MyDrive/20_selected_projects/8_videoestimation/yolov5/train/images/car222_png.rf.75b5eb354db2b7d64286d63d307c8eed.jpg  \n",
      " extracting: /content/drive/MyDrive/20_selected_projects/8_videoestimation/yolov5/train/images/car223_png.rf.e0e613e15063f7ef14cc3711f38fb932.jpg  \n",
      " extracting: /content/drive/MyDrive/20_selected_projects/8_videoestimation/yolov5/train/images/car224_png.rf.2fab4220cfc504a348e4067118f9736a.jpg  \n",
      " extracting: /content/drive/MyDrive/20_selected_projects/8_videoestimation/yolov5/train/images/car225_png.rf.008d73a2bad3d6ee82b55ae549c10585.jpg  \n",
      " extracting: /content/drive/MyDrive/20_selected_projects/8_videoestimation/yolov5/train/images/car226_png.rf.b6297fd9cc2d30ef21b3f753e4297475.jpg  \n",
      " extracting: /content/drive/MyDrive/20_selected_projects/8_videoestimation/yolov5/train/images/car227_png.rf.e8c18cdd5e590d5d06f126a2fb6ceee6.jpg  \n",
      " extracting: /content/drive/MyDrive/20_selected_projects/8_videoestimation/yolov5/train/images/car228_png.rf.3249a4712ce9ee23c16ec65d98222f5d.jpg  \n",
      " extracting: /content/drive/MyDrive/20_selected_projects/8_videoestimation/yolov5/train/images/car229_png.rf.a93354bc67dd37ab856cf4160e9f6327.jpg  \n",
      " extracting: /content/drive/MyDrive/20_selected_projects/8_videoestimation/yolov5/train/images/car22_png.rf.93b52e19c74dc62f9481daf0eb7cb6cc.jpg  \n",
      " extracting: /content/drive/MyDrive/20_selected_projects/8_videoestimation/yolov5/train/images/car230_png.rf.51ce073cd3637a1db8cb60cb768187a8.jpg  \n",
      " extracting: /content/drive/MyDrive/20_selected_projects/8_videoestimation/yolov5/train/images/car233_png.rf.3f7b71e228ff5c250eb8762f0af8b46f.jpg  \n",
      " extracting: /content/drive/MyDrive/20_selected_projects/8_videoestimation/yolov5/train/images/car234_png.rf.3497f3fc5e4db7e154494145ea3dd195.jpg  \n",
      " extracting: /content/drive/MyDrive/20_selected_projects/8_videoestimation/yolov5/train/images/car235_png.rf.25642fe8f9f55f27fdc7f36cb9aeec05.jpg  \n",
      " extracting: /content/drive/MyDrive/20_selected_projects/8_videoestimation/yolov5/train/images/car236_png.rf.e3881b4b78ab251592c6257f34a13794.jpg  \n",
      " extracting: /content/drive/MyDrive/20_selected_projects/8_videoestimation/yolov5/train/images/car238_png.rf.129aa67784c97091ea086f7a3241640b.jpg  \n",
      " extracting: /content/drive/MyDrive/20_selected_projects/8_videoestimation/yolov5/train/images/car239_png.rf.b766a452dd882118e21bc14a9a57a842.jpg  \n",
      " extracting: /content/drive/MyDrive/20_selected_projects/8_videoestimation/yolov5/train/images/car23_png.rf.3bd531d12c9cd6949e3377db2f97d3de.jpg  \n",
      " extracting: /content/drive/MyDrive/20_selected_projects/8_videoestimation/yolov5/train/images/car240_png.rf.f38b238ffcdae8b3e4d182262ce647ab.jpg  \n",
      " extracting: /content/drive/MyDrive/20_selected_projects/8_videoestimation/yolov5/train/images/car241_png.rf.1f562f2a570635b6fa10b5a0ed6f8e60.jpg  \n",
      " extracting: /content/drive/MyDrive/20_selected_projects/8_videoestimation/yolov5/train/images/car242_png.rf.b60d7631652853df87f26d83bbbc1668.jpg  \n",
      " extracting: /content/drive/MyDrive/20_selected_projects/8_videoestimation/yolov5/train/images/car243_png.rf.67431a95ac6f451be39c2d8ae4dad26f.jpg  \n",
      " extracting: /content/drive/MyDrive/20_selected_projects/8_videoestimation/yolov5/train/images/car244_png.rf.5a6cc8183a3a8fee4c82a9aeacb102d9.jpg  \n",
      " extracting: /content/drive/MyDrive/20_selected_projects/8_videoestimation/yolov5/train/images/car246_png.rf.cf9afbd227db7d5b26e71d5af5ef1f62.jpg  \n",
      " extracting: /content/drive/MyDrive/20_selected_projects/8_videoestimation/yolov5/train/images/car247_png.rf.443ccee7ed073a1afd60a8443d766b95.jpg  \n",
      " extracting: /content/drive/MyDrive/20_selected_projects/8_videoestimation/yolov5/train/images/car248_png.rf.0181137bb94fbfdd5dfa371776958598.jpg  \n",
      " extracting: /content/drive/MyDrive/20_selected_projects/8_videoestimation/yolov5/train/images/car249_png.rf.139334c915b1f7d7b5bcbe841ab14878.jpg  \n",
      " extracting: /content/drive/MyDrive/20_selected_projects/8_videoestimation/yolov5/train/images/car24_png.rf.995d94f6d740d53e6aac24f3493ca9bc.jpg  \n",
      " extracting: /content/drive/MyDrive/20_selected_projects/8_videoestimation/yolov5/train/images/car27_png.rf.423e56c783c4f9da220d48c74f3d85f8.jpg  \n",
      " extracting: /content/drive/MyDrive/20_selected_projects/8_videoestimation/yolov5/train/images/car28_png.rf.89bdab02d91dc34a539c768af0f2ad80.jpg  \n",
      " extracting: /content/drive/MyDrive/20_selected_projects/8_videoestimation/yolov5/train/images/car31_png.rf.e84644da8506e8a09990af79d94783db.jpg  \n",
      " extracting: /content/drive/MyDrive/20_selected_projects/8_videoestimation/yolov5/train/images/car32_png.rf.4f523cbc20aaec6674b2f8a08d02618a.jpg  \n",
      " extracting: /content/drive/MyDrive/20_selected_projects/8_videoestimation/yolov5/train/images/car33_png.rf.aecd6bf224db185729b2d1561991d8ad.jpg  \n",
      " extracting: /content/drive/MyDrive/20_selected_projects/8_videoestimation/yolov5/train/images/car35_png.rf.c103295c06b9607c947dfd9f90ff5e6d.jpg  \n",
      " extracting: /content/drive/MyDrive/20_selected_projects/8_videoestimation/yolov5/train/images/car36_png.rf.ad6e6de31cf9308c4782ed9536f1c7ca.jpg  \n",
      " extracting: /content/drive/MyDrive/20_selected_projects/8_videoestimation/yolov5/train/images/car37_png.rf.bbd22e54efc68e810a452f0ac0bdcbe2.jpg  \n",
      " extracting: /content/drive/MyDrive/20_selected_projects/8_videoestimation/yolov5/train/images/car38_png.rf.ab39d4c6ac75d13cc81a8eb2469a7494.jpg  \n",
      " extracting: /content/drive/MyDrive/20_selected_projects/8_videoestimation/yolov5/train/images/car3_png.rf.02f535b6d60600dbddc97b3d13f46af6.jpg  \n",
      " extracting: /content/drive/MyDrive/20_selected_projects/8_videoestimation/yolov5/train/images/car41_png.rf.9c148367615a11e98d9514d7b82ef853.jpg  \n",
      " extracting: /content/drive/MyDrive/20_selected_projects/8_videoestimation/yolov5/train/images/car42_png.rf.d7f74c76663e547102fcb83bae7ed3db.jpg  \n",
      " extracting: /content/drive/MyDrive/20_selected_projects/8_videoestimation/yolov5/train/images/car43_png.rf.5927044fd64a3e98a97d4799b0b2bdcc.jpg  \n",
      " extracting: /content/drive/MyDrive/20_selected_projects/8_videoestimation/yolov5/train/images/car44_png.rf.36485d6880c79a8e49e21ea716723e2d.jpg  \n",
      " extracting: /content/drive/MyDrive/20_selected_projects/8_videoestimation/yolov5/train/images/car47_png.rf.9b5ee70dba56a4686292cf905e39f60e.jpg  \n",
      " extracting: /content/drive/MyDrive/20_selected_projects/8_videoestimation/yolov5/train/images/car51_png.rf.7b956f2f06c2d22f76df3b9243514b8f.jpg  \n",
      " extracting: /content/drive/MyDrive/20_selected_projects/8_videoestimation/yolov5/train/images/car52_png.rf.0d29f3c49d5ee4d38052345cec7ca768.jpg  \n",
      " extracting: /content/drive/MyDrive/20_selected_projects/8_videoestimation/yolov5/train/images/car54_png.rf.7b3df7d344bac0d6f6446beb5d02d64f.jpg  \n",
      " extracting: /content/drive/MyDrive/20_selected_projects/8_videoestimation/yolov5/train/images/car55_png.rf.974e980e2922a89763b4a6a696a84f5b.jpg  \n",
      " extracting: /content/drive/MyDrive/20_selected_projects/8_videoestimation/yolov5/train/images/car58_png.rf.c9f0adacc15f52f7a124727371f35dfe.jpg  \n",
      " extracting: /content/drive/MyDrive/20_selected_projects/8_videoestimation/yolov5/train/images/car59_png.rf.9cac5f6721aa2bee1bd8555f5ffaba6d.jpg  \n",
      " extracting: /content/drive/MyDrive/20_selected_projects/8_videoestimation/yolov5/train/images/car63_png.rf.c844ad3fd9a10a73a93876e492cbebcb.jpg  \n",
      " extracting: /content/drive/MyDrive/20_selected_projects/8_videoestimation/yolov5/train/images/car64_png.rf.d15d2394f0de0203ab7c45422f4e38a5.jpg  \n",
      " extracting: /content/drive/MyDrive/20_selected_projects/8_videoestimation/yolov5/train/images/car66_png.rf.76ca3b52b2166015edaf45d59b78c7c6.jpg  \n",
      " extracting: /content/drive/MyDrive/20_selected_projects/8_videoestimation/yolov5/train/images/car68_png.rf.929489309482c06abcb24a1e1b87b7fb.jpg  \n",
      " extracting: /content/drive/MyDrive/20_selected_projects/8_videoestimation/yolov5/train/images/car69_png.rf.2e6802778308598749b929ef2318137c.jpg  \n",
      " extracting: /content/drive/MyDrive/20_selected_projects/8_videoestimation/yolov5/train/images/car6_png.rf.7eff05232972a075089760e065e76a14.jpg  \n",
      " extracting: /content/drive/MyDrive/20_selected_projects/8_videoestimation/yolov5/train/images/car70_png.rf.3f09ea91a4b6a785c7b8c8364cac4c26.jpg  \n",
      " extracting: /content/drive/MyDrive/20_selected_projects/8_videoestimation/yolov5/train/images/car71_png.rf.8d3d8c3d471ec786255b259640afc08e.jpg  \n",
      " extracting: /content/drive/MyDrive/20_selected_projects/8_videoestimation/yolov5/train/images/car72_png.rf.a2dc293f19f36d38195b18bb0d9d5ba5.jpg  \n",
      " extracting: /content/drive/MyDrive/20_selected_projects/8_videoestimation/yolov5/train/images/car76_png.rf.d387075bba1977fa53a7821e9b86be66.jpg  \n",
      " extracting: /content/drive/MyDrive/20_selected_projects/8_videoestimation/yolov5/train/images/car79_png.rf.49bf1cb778eef436bc89d765c2e6ca33.jpg  \n",
      " extracting: /content/drive/MyDrive/20_selected_projects/8_videoestimation/yolov5/train/images/car7_png.rf.efb6519ed988b50bc431169249cf3a9d.jpg  \n",
      " extracting: /content/drive/MyDrive/20_selected_projects/8_videoestimation/yolov5/train/images/car80_png.rf.a49418de36e4315ccf5c97167a93ab2c.jpg  \n",
      " extracting: /content/drive/MyDrive/20_selected_projects/8_videoestimation/yolov5/train/images/car87_png.rf.f7a874aab1d191f9b64e2aae46dc3ebd.jpg  \n",
      " extracting: /content/drive/MyDrive/20_selected_projects/8_videoestimation/yolov5/train/images/car89_png.rf.3722d1be0b8dc12d6485b7dc0429d7ad.jpg  \n",
      " extracting: /content/drive/MyDrive/20_selected_projects/8_videoestimation/yolov5/train/images/car8_png.rf.3b982c700540dcaf1647e9780c2623f4.jpg  \n",
      " extracting: /content/drive/MyDrive/20_selected_projects/8_videoestimation/yolov5/train/images/car90_png.rf.a5cd2161918d732fe32a85420b56d105.jpg  \n",
      " extracting: /content/drive/MyDrive/20_selected_projects/8_videoestimation/yolov5/train/images/car92_png.rf.40127e642760873cc6fb455e2d1d05bd.jpg  \n",
      " extracting: /content/drive/MyDrive/20_selected_projects/8_videoestimation/yolov5/train/images/car93_png.rf.215a511475d000dd1583b1e6de61d4cf.jpg  \n",
      " extracting: /content/drive/MyDrive/20_selected_projects/8_videoestimation/yolov5/train/images/car94_png.rf.aa3cd55f046140ea59d7de3e6c5bb222.jpg  \n",
      " extracting: /content/drive/MyDrive/20_selected_projects/8_videoestimation/yolov5/train/images/car96_png.rf.7f9a1429a1f73297570c938758b87f30.jpg  \n",
      " extracting: /content/drive/MyDrive/20_selected_projects/8_videoestimation/yolov5/train/images/car98_png.rf.3baa36c4adce15fb6ad905b9df850e51.jpg  \n",
      " extracting: /content/drive/MyDrive/20_selected_projects/8_videoestimation/yolov5/train/images/car99_png.rf.556e044d2732b77a56cc004393032ba5.jpg  \n",
      "   creating: /content/drive/MyDrive/20_selected_projects/8_videoestimation/yolov5/train/labels/\n",
      " extracting: /content/drive/MyDrive/20_selected_projects/8_videoestimation/yolov5/train/labels/car101_png.rf.8d10704cb2313ab2ee8f189ff55d401e.txt  \n",
      " extracting: /content/drive/MyDrive/20_selected_projects/8_videoestimation/yolov5/train/labels/car102_png.rf.aa9c2e1231fff0752df4a98e5927b61c.txt  \n",
      " extracting: /content/drive/MyDrive/20_selected_projects/8_videoestimation/yolov5/train/labels/car103_png.rf.19520fea7bc94fd5bb4705f89c8fb89d.txt  \n",
      " extracting: /content/drive/MyDrive/20_selected_projects/8_videoestimation/yolov5/train/labels/car104_png.rf.0cd77dac8b9cf936c3cbda92591dc613.txt  \n",
      " extracting: /content/drive/MyDrive/20_selected_projects/8_videoestimation/yolov5/train/labels/car107_png.rf.8b7c696b630fef1f9bd5bdd537f78517.txt  \n",
      " extracting: /content/drive/MyDrive/20_selected_projects/8_videoestimation/yolov5/train/labels/car111_png.rf.54da3eabc8621289fff10d3eb3bad09b.txt  \n",
      " extracting: /content/drive/MyDrive/20_selected_projects/8_videoestimation/yolov5/train/labels/car112_png.rf.a302f850194b1e8ce9255b057737f954.txt  \n",
      " extracting: /content/drive/MyDrive/20_selected_projects/8_videoestimation/yolov5/train/labels/car113_png.rf.a7ea8c3bbbc8bf69894083e7f0a32172.txt  \n",
      " extracting: /content/drive/MyDrive/20_selected_projects/8_videoestimation/yolov5/train/labels/car114_png.rf.388791e92c5bc2a122e3907230e62dd6.txt  \n",
      " extracting: /content/drive/MyDrive/20_selected_projects/8_videoestimation/yolov5/train/labels/car115_png.rf.a8906e5ff1031e9963a9a0842bccca54.txt  \n",
      " extracting: /content/drive/MyDrive/20_selected_projects/8_videoestimation/yolov5/train/labels/car117_png.rf.560234944dce2f3b22777f4445e87035.txt  \n",
      " extracting: /content/drive/MyDrive/20_selected_projects/8_videoestimation/yolov5/train/labels/car118_png.rf.07061d6d49d5bc65cce2ddbb282d3c29.txt  \n",
      " extracting: /content/drive/MyDrive/20_selected_projects/8_videoestimation/yolov5/train/labels/car119_png.rf.abff51d1872ecba63397eae7bd756721.txt  \n",
      " extracting: /content/drive/MyDrive/20_selected_projects/8_videoestimation/yolov5/train/labels/car11_png.rf.a149a39b4ad0e6436efcef282a7fca60.txt  \n",
      " extracting: /content/drive/MyDrive/20_selected_projects/8_videoestimation/yolov5/train/labels/car120_png.rf.91685f3ca275536a8f9eefb600c78d7f.txt  \n",
      " extracting: /content/drive/MyDrive/20_selected_projects/8_videoestimation/yolov5/train/labels/car122_png.rf.6542da6435c866363af0c5eb6cf02441.txt  \n",
      " extracting: /content/drive/MyDrive/20_selected_projects/8_videoestimation/yolov5/train/labels/car123_png.rf.f2776a2b54027c552ec90c6518483552.txt  \n",
      " extracting: /content/drive/MyDrive/20_selected_projects/8_videoestimation/yolov5/train/labels/car124_png.rf.694c211ed2cd7b7ec0b72d79c2f939d3.txt  \n",
      " extracting: /content/drive/MyDrive/20_selected_projects/8_videoestimation/yolov5/train/labels/car126_png.rf.fa17c08c86f955186918a7eb0ae8a217.txt  \n",
      " extracting: /content/drive/MyDrive/20_selected_projects/8_videoestimation/yolov5/train/labels/car128_png.rf.a5d0fc3011ace0517fb7a779327e4393.txt  \n",
      " extracting: /content/drive/MyDrive/20_selected_projects/8_videoestimation/yolov5/train/labels/car131_png.rf.bbfe71e16b94ffb1905cf96ed85c56b9.txt  \n",
      " extracting: /content/drive/MyDrive/20_selected_projects/8_videoestimation/yolov5/train/labels/car132_png.rf.e1cd7970673292609228d0772c4a795a.txt  \n",
      " extracting: /content/drive/MyDrive/20_selected_projects/8_videoestimation/yolov5/train/labels/car133_png.rf.23263aee35281ddc57028a7e4fed4f04.txt  \n",
      " extracting: /content/drive/MyDrive/20_selected_projects/8_videoestimation/yolov5/train/labels/car134_png.rf.2840d39d9026af8178ba302e4b3c72d8.txt  \n",
      " extracting: /content/drive/MyDrive/20_selected_projects/8_videoestimation/yolov5/train/labels/car135_png.rf.aa27b921bd9fc6115ca36a3d0e3e25f6.txt  \n",
      " extracting: /content/drive/MyDrive/20_selected_projects/8_videoestimation/yolov5/train/labels/car136_png.rf.9bc93a872dc4c294b5838c94bd6cfb8a.txt  \n",
      " extracting: /content/drive/MyDrive/20_selected_projects/8_videoestimation/yolov5/train/labels/car137_png.rf.d358f248259f72a3fbaa4a728d4a0151.txt  \n",
      " extracting: /content/drive/MyDrive/20_selected_projects/8_videoestimation/yolov5/train/labels/car138_png.rf.d1571068116fca9d69ebbc2ca0785a9c.txt  \n",
      " extracting: /content/drive/MyDrive/20_selected_projects/8_videoestimation/yolov5/train/labels/car139_png.rf.d1474a2d261e0057700ccfae474161e6.txt  \n",
      " extracting: /content/drive/MyDrive/20_selected_projects/8_videoestimation/yolov5/train/labels/car140_png.rf.cc4922c7fdf7f188da0f2ee9710c80cf.txt  \n",
      " extracting: /content/drive/MyDrive/20_selected_projects/8_videoestimation/yolov5/train/labels/car141_png.rf.9a0be17c89814d9523cf69c5880353ad.txt  \n",
      " extracting: /content/drive/MyDrive/20_selected_projects/8_videoestimation/yolov5/train/labels/car142_png.rf.3e5321bf3d7032f0bf104688acd11298.txt  \n",
      " extracting: /content/drive/MyDrive/20_selected_projects/8_videoestimation/yolov5/train/labels/car143_png.rf.9a2c566838325afb11e578d534c304e7.txt  \n",
      " extracting: /content/drive/MyDrive/20_selected_projects/8_videoestimation/yolov5/train/labels/car144_png.rf.8f7787b995c5bed7197d4826956d2e25.txt  \n",
      " extracting: /content/drive/MyDrive/20_selected_projects/8_videoestimation/yolov5/train/labels/car145_png.rf.f137547df8046d1809beb2b506f3ec31.txt  \n",
      " extracting: /content/drive/MyDrive/20_selected_projects/8_videoestimation/yolov5/train/labels/car146_png.rf.a33d2cf1b41645acabfa447e9d03178d.txt  \n",
      " extracting: /content/drive/MyDrive/20_selected_projects/8_videoestimation/yolov5/train/labels/car147_png.rf.3379b5cf8d2598b0a0b1ce21f800cd27.txt  \n",
      " extracting: /content/drive/MyDrive/20_selected_projects/8_videoestimation/yolov5/train/labels/car148_png.rf.c92bea4250a72d9266c14b4161d34034.txt  \n",
      " extracting: /content/drive/MyDrive/20_selected_projects/8_videoestimation/yolov5/train/labels/car149_png.rf.f62cec8f9b25ea25115c1f5d464a2553.txt  \n",
      " extracting: /content/drive/MyDrive/20_selected_projects/8_videoestimation/yolov5/train/labels/car150_png.rf.e7f82c5012f7676d79bca7742b248dfd.txt  \n",
      " extracting: /content/drive/MyDrive/20_selected_projects/8_videoestimation/yolov5/train/labels/car151_png.rf.833b305a4866c010dce21b0f38a2f643.txt  \n",
      " extracting: /content/drive/MyDrive/20_selected_projects/8_videoestimation/yolov5/train/labels/car154_png.rf.26b99e3f2422df2b6f4fbf750757566e.txt  \n",
      " extracting: /content/drive/MyDrive/20_selected_projects/8_videoestimation/yolov5/train/labels/car155_png.rf.33a6eaa7309642f547d98afe9efc1f96.txt  \n",
      " extracting: /content/drive/MyDrive/20_selected_projects/8_videoestimation/yolov5/train/labels/car15_png.rf.5b55756903e603eedab2b55b4e0244c7.txt  \n",
      " extracting: /content/drive/MyDrive/20_selected_projects/8_videoestimation/yolov5/train/labels/car160_png.rf.30c38f7a41dc500d6425126530c28584.txt  \n",
      " extracting: /content/drive/MyDrive/20_selected_projects/8_videoestimation/yolov5/train/labels/car161_png.rf.d7d82dd23f6d8ad07463e9e43fbb6feb.txt  \n",
      " extracting: /content/drive/MyDrive/20_selected_projects/8_videoestimation/yolov5/train/labels/car163_png.rf.83864ce05c9cab048f83edbb8ec59c64.txt  \n",
      " extracting: /content/drive/MyDrive/20_selected_projects/8_videoestimation/yolov5/train/labels/car164_png.rf.3e336baa7a7398ebfa0ac07fb1936fe4.txt  \n",
      " extracting: /content/drive/MyDrive/20_selected_projects/8_videoestimation/yolov5/train/labels/car165_png.rf.4fb6d040bebfb694946719ea271705d1.txt  \n",
      " extracting: /content/drive/MyDrive/20_selected_projects/8_videoestimation/yolov5/train/labels/car166_png.rf.d7726e05b032e6b8f073145f626c2ef7.txt  \n",
      " extracting: /content/drive/MyDrive/20_selected_projects/8_videoestimation/yolov5/train/labels/car169_png.rf.cfcba22aec84f26e6c90aaa9bbb29f57.txt  \n",
      " extracting: /content/drive/MyDrive/20_selected_projects/8_videoestimation/yolov5/train/labels/car16_png.rf.ef72a9a268410b716bc0e1efc3c4a156.txt  \n",
      " extracting: /content/drive/MyDrive/20_selected_projects/8_videoestimation/yolov5/train/labels/car170_png.rf.8a365a77c363c1897442fd401ab28d19.txt  \n",
      " extracting: /content/drive/MyDrive/20_selected_projects/8_videoestimation/yolov5/train/labels/car172_png.rf.874bd318dbde20085ccd69fba5bebf1f.txt  \n",
      " extracting: /content/drive/MyDrive/20_selected_projects/8_videoestimation/yolov5/train/labels/car174_png.rf.0c898f51420481831714d3208e3dcbf8.txt  \n",
      " extracting: /content/drive/MyDrive/20_selected_projects/8_videoestimation/yolov5/train/labels/car175_png.rf.5714443e67dfe5b54a5b88b79507f074.txt  \n",
      " extracting: /content/drive/MyDrive/20_selected_projects/8_videoestimation/yolov5/train/labels/car178_png.rf.e1545c865a3be10f9e8747408dfba0a0.txt  \n",
      " extracting: /content/drive/MyDrive/20_selected_projects/8_videoestimation/yolov5/train/labels/car179_png.rf.e6b67160414bd5be56a8480072f26da3.txt  \n",
      " extracting: /content/drive/MyDrive/20_selected_projects/8_videoestimation/yolov5/train/labels/car17_png.rf.b65399a99e34179c443ffd21c2674805.txt  \n",
      " extracting: /content/drive/MyDrive/20_selected_projects/8_videoestimation/yolov5/train/labels/car180_png.rf.479e34d06e8f8efa4994a5fe917f2edf.txt  \n",
      " extracting: /content/drive/MyDrive/20_selected_projects/8_videoestimation/yolov5/train/labels/car182_png.rf.8e48dd3aca063e7c96cd34beb1dbc407.txt  \n",
      " extracting: /content/drive/MyDrive/20_selected_projects/8_videoestimation/yolov5/train/labels/car183_png.rf.df775ae808db0c09f60e15aa1b07a30a.txt  \n",
      " extracting: /content/drive/MyDrive/20_selected_projects/8_videoestimation/yolov5/train/labels/car186_png.rf.a3313d55d841d40e35bf101780d04063.txt  \n",
      " extracting: /content/drive/MyDrive/20_selected_projects/8_videoestimation/yolov5/train/labels/car187_png.rf.279700764f0bd0394614010547714b58.txt  \n",
      " extracting: /content/drive/MyDrive/20_selected_projects/8_videoestimation/yolov5/train/labels/car188_png.rf.745d1088acb67b49dc8ffa755ed9f144.txt  \n",
      " extracting: /content/drive/MyDrive/20_selected_projects/8_videoestimation/yolov5/train/labels/car189_png.rf.b32802847d101d9c47dc3d343dfba06f.txt  \n",
      " extracting: /content/drive/MyDrive/20_selected_projects/8_videoestimation/yolov5/train/labels/car18_png.rf.ff349b3934c32caa4c6b7192d5d5a90f.txt  \n",
      " extracting: /content/drive/MyDrive/20_selected_projects/8_videoestimation/yolov5/train/labels/car192_png.rf.9d50dd3411d2e15db606a023fc5773ac.txt  \n",
      " extracting: /content/drive/MyDrive/20_selected_projects/8_videoestimation/yolov5/train/labels/car193_png.rf.fbf45c482a5bbafdbfb07e0be4a382ae.txt  \n",
      " extracting: /content/drive/MyDrive/20_selected_projects/8_videoestimation/yolov5/train/labels/car195_png.rf.976ad36ca2df440a7e8d035ee865d81d.txt  \n",
      " extracting: /content/drive/MyDrive/20_selected_projects/8_videoestimation/yolov5/train/labels/car196_png.rf.d8874dfa5b423c11153c7bccbb6eb4e0.txt  \n",
      " extracting: /content/drive/MyDrive/20_selected_projects/8_videoestimation/yolov5/train/labels/car198_png.rf.ec29c2ece25c93be667b8e6232dee8ab.txt  \n",
      " extracting: /content/drive/MyDrive/20_selected_projects/8_videoestimation/yolov5/train/labels/car199_png.rf.856a83874fba6b6d6ed6432cfc70f8ac.txt  \n",
      " extracting: /content/drive/MyDrive/20_selected_projects/8_videoestimation/yolov5/train/labels/car200_png.rf.4f367e9b3fc696afe9600c8dff0490d0.txt  \n",
      " extracting: /content/drive/MyDrive/20_selected_projects/8_videoestimation/yolov5/train/labels/car202_png.rf.042ca9e838e7073d3d8f60ddb7d2c19e.txt  \n",
      " extracting: /content/drive/MyDrive/20_selected_projects/8_videoestimation/yolov5/train/labels/car203_png.rf.d76d885388522d6bdb59c197197f93f9.txt  \n",
      " extracting: /content/drive/MyDrive/20_selected_projects/8_videoestimation/yolov5/train/labels/car205_png.rf.8c4f62cb84f6910c17c32cc458f461d1.txt  \n",
      " extracting: /content/drive/MyDrive/20_selected_projects/8_videoestimation/yolov5/train/labels/car207_png.rf.1c8eace63107f59b937b792b3b48388f.txt  \n",
      " extracting: /content/drive/MyDrive/20_selected_projects/8_videoestimation/yolov5/train/labels/car208_png.rf.d5518a0df6a686a988cc1dd03ca571f6.txt  \n",
      " extracting: /content/drive/MyDrive/20_selected_projects/8_videoestimation/yolov5/train/labels/car210_png.rf.c14400596694143168b44c11aefc74d8.txt  \n",
      " extracting: /content/drive/MyDrive/20_selected_projects/8_videoestimation/yolov5/train/labels/car211_png.rf.25970903ea4ebbade178b69f9b64a8de.txt  \n",
      " extracting: /content/drive/MyDrive/20_selected_projects/8_videoestimation/yolov5/train/labels/car212_png.rf.dbb818e881ce955dafde3e8a320d8d62.txt  \n",
      " extracting: /content/drive/MyDrive/20_selected_projects/8_videoestimation/yolov5/train/labels/car213_png.rf.efd8bb8ca9fde69cd113a492b487a604.txt  \n",
      " extracting: /content/drive/MyDrive/20_selected_projects/8_videoestimation/yolov5/train/labels/car214_png.rf.99ff1582eff7b3703249f10b675d308e.txt  \n",
      " extracting: /content/drive/MyDrive/20_selected_projects/8_videoestimation/yolov5/train/labels/car215_png.rf.5837844bb309fc228aad4d398477c13c.txt  \n",
      " extracting: /content/drive/MyDrive/20_selected_projects/8_videoestimation/yolov5/train/labels/car216_png.rf.575c220e6b23d51542c79182c3699ae3.txt  \n",
      " extracting: /content/drive/MyDrive/20_selected_projects/8_videoestimation/yolov5/train/labels/car217_png.rf.d8aacf1341fead78b5e76bef1fd9dcc1.txt  \n",
      " extracting: /content/drive/MyDrive/20_selected_projects/8_videoestimation/yolov5/train/labels/car218_png.rf.b11b192711830ed9208c770ca8d5f760.txt  \n",
      " extracting: /content/drive/MyDrive/20_selected_projects/8_videoestimation/yolov5/train/labels/car220_png.rf.b9c9e8f3f831eb57e4eb4d383bf3df61.txt  \n",
      " extracting: /content/drive/MyDrive/20_selected_projects/8_videoestimation/yolov5/train/labels/car221_png.rf.df10b400340ee7a713242986eb5edc3d.txt  \n",
      " extracting: /content/drive/MyDrive/20_selected_projects/8_videoestimation/yolov5/train/labels/car222_png.rf.75b5eb354db2b7d64286d63d307c8eed.txt  \n",
      " extracting: /content/drive/MyDrive/20_selected_projects/8_videoestimation/yolov5/train/labels/car223_png.rf.e0e613e15063f7ef14cc3711f38fb932.txt  \n",
      " extracting: /content/drive/MyDrive/20_selected_projects/8_videoestimation/yolov5/train/labels/car224_png.rf.2fab4220cfc504a348e4067118f9736a.txt  \n",
      " extracting: /content/drive/MyDrive/20_selected_projects/8_videoestimation/yolov5/train/labels/car225_png.rf.008d73a2bad3d6ee82b55ae549c10585.txt  \n",
      " extracting: /content/drive/MyDrive/20_selected_projects/8_videoestimation/yolov5/train/labels/car226_png.rf.b6297fd9cc2d30ef21b3f753e4297475.txt  \n",
      " extracting: /content/drive/MyDrive/20_selected_projects/8_videoestimation/yolov5/train/labels/car227_png.rf.e8c18cdd5e590d5d06f126a2fb6ceee6.txt  \n",
      " extracting: /content/drive/MyDrive/20_selected_projects/8_videoestimation/yolov5/train/labels/car228_png.rf.3249a4712ce9ee23c16ec65d98222f5d.txt  \n",
      " extracting: /content/drive/MyDrive/20_selected_projects/8_videoestimation/yolov5/train/labels/car229_png.rf.a93354bc67dd37ab856cf4160e9f6327.txt  \n",
      " extracting: /content/drive/MyDrive/20_selected_projects/8_videoestimation/yolov5/train/labels/car22_png.rf.93b52e19c74dc62f9481daf0eb7cb6cc.txt  \n",
      " extracting: /content/drive/MyDrive/20_selected_projects/8_videoestimation/yolov5/train/labels/car230_png.rf.51ce073cd3637a1db8cb60cb768187a8.txt  \n",
      " extracting: /content/drive/MyDrive/20_selected_projects/8_videoestimation/yolov5/train/labels/car233_png.rf.3f7b71e228ff5c250eb8762f0af8b46f.txt  \n",
      " extracting: /content/drive/MyDrive/20_selected_projects/8_videoestimation/yolov5/train/labels/car234_png.rf.3497f3fc5e4db7e154494145ea3dd195.txt  \n",
      " extracting: /content/drive/MyDrive/20_selected_projects/8_videoestimation/yolov5/train/labels/car235_png.rf.25642fe8f9f55f27fdc7f36cb9aeec05.txt  \n",
      " extracting: /content/drive/MyDrive/20_selected_projects/8_videoestimation/yolov5/train/labels/car236_png.rf.e3881b4b78ab251592c6257f34a13794.txt  \n",
      " extracting: /content/drive/MyDrive/20_selected_projects/8_videoestimation/yolov5/train/labels/car238_png.rf.129aa67784c97091ea086f7a3241640b.txt  \n",
      " extracting: /content/drive/MyDrive/20_selected_projects/8_videoestimation/yolov5/train/labels/car239_png.rf.b766a452dd882118e21bc14a9a57a842.txt  \n",
      " extracting: /content/drive/MyDrive/20_selected_projects/8_videoestimation/yolov5/train/labels/car23_png.rf.3bd531d12c9cd6949e3377db2f97d3de.txt  \n",
      " extracting: /content/drive/MyDrive/20_selected_projects/8_videoestimation/yolov5/train/labels/car240_png.rf.f38b238ffcdae8b3e4d182262ce647ab.txt  \n",
      " extracting: /content/drive/MyDrive/20_selected_projects/8_videoestimation/yolov5/train/labels/car241_png.rf.1f562f2a570635b6fa10b5a0ed6f8e60.txt  \n",
      " extracting: /content/drive/MyDrive/20_selected_projects/8_videoestimation/yolov5/train/labels/car242_png.rf.b60d7631652853df87f26d83bbbc1668.txt  \n",
      " extracting: /content/drive/MyDrive/20_selected_projects/8_videoestimation/yolov5/train/labels/car243_png.rf.67431a95ac6f451be39c2d8ae4dad26f.txt  \n",
      " extracting: /content/drive/MyDrive/20_selected_projects/8_videoestimation/yolov5/train/labels/car244_png.rf.5a6cc8183a3a8fee4c82a9aeacb102d9.txt  \n",
      " extracting: /content/drive/MyDrive/20_selected_projects/8_videoestimation/yolov5/train/labels/car246_png.rf.cf9afbd227db7d5b26e71d5af5ef1f62.txt  \n",
      " extracting: /content/drive/MyDrive/20_selected_projects/8_videoestimation/yolov5/train/labels/car247_png.rf.443ccee7ed073a1afd60a8443d766b95.txt  \n",
      " extracting: /content/drive/MyDrive/20_selected_projects/8_videoestimation/yolov5/train/labels/car248_png.rf.0181137bb94fbfdd5dfa371776958598.txt  \n",
      " extracting: /content/drive/MyDrive/20_selected_projects/8_videoestimation/yolov5/train/labels/car249_png.rf.139334c915b1f7d7b5bcbe841ab14878.txt  \n",
      " extracting: /content/drive/MyDrive/20_selected_projects/8_videoestimation/yolov5/train/labels/car24_png.rf.995d94f6d740d53e6aac24f3493ca9bc.txt  \n",
      " extracting: /content/drive/MyDrive/20_selected_projects/8_videoestimation/yolov5/train/labels/car27_png.rf.423e56c783c4f9da220d48c74f3d85f8.txt  \n",
      " extracting: /content/drive/MyDrive/20_selected_projects/8_videoestimation/yolov5/train/labels/car28_png.rf.89bdab02d91dc34a539c768af0f2ad80.txt  \n",
      " extracting: /content/drive/MyDrive/20_selected_projects/8_videoestimation/yolov5/train/labels/car31_png.rf.e84644da8506e8a09990af79d94783db.txt  \n",
      " extracting: /content/drive/MyDrive/20_selected_projects/8_videoestimation/yolov5/train/labels/car32_png.rf.4f523cbc20aaec6674b2f8a08d02618a.txt  \n",
      " extracting: /content/drive/MyDrive/20_selected_projects/8_videoestimation/yolov5/train/labels/car33_png.rf.aecd6bf224db185729b2d1561991d8ad.txt  \n",
      " extracting: /content/drive/MyDrive/20_selected_projects/8_videoestimation/yolov5/train/labels/car35_png.rf.c103295c06b9607c947dfd9f90ff5e6d.txt  \n",
      " extracting: /content/drive/MyDrive/20_selected_projects/8_videoestimation/yolov5/train/labels/car36_png.rf.ad6e6de31cf9308c4782ed9536f1c7ca.txt  \n",
      " extracting: /content/drive/MyDrive/20_selected_projects/8_videoestimation/yolov5/train/labels/car37_png.rf.bbd22e54efc68e810a452f0ac0bdcbe2.txt  \n",
      " extracting: /content/drive/MyDrive/20_selected_projects/8_videoestimation/yolov5/train/labels/car38_png.rf.ab39d4c6ac75d13cc81a8eb2469a7494.txt  \n",
      " extracting: /content/drive/MyDrive/20_selected_projects/8_videoestimation/yolov5/train/labels/car3_png.rf.02f535b6d60600dbddc97b3d13f46af6.txt  \n",
      " extracting: /content/drive/MyDrive/20_selected_projects/8_videoestimation/yolov5/train/labels/car41_png.rf.9c148367615a11e98d9514d7b82ef853.txt  \n",
      " extracting: /content/drive/MyDrive/20_selected_projects/8_videoestimation/yolov5/train/labels/car42_png.rf.d7f74c76663e547102fcb83bae7ed3db.txt  \n",
      " extracting: /content/drive/MyDrive/20_selected_projects/8_videoestimation/yolov5/train/labels/car43_png.rf.5927044fd64a3e98a97d4799b0b2bdcc.txt  \n",
      " extracting: /content/drive/MyDrive/20_selected_projects/8_videoestimation/yolov5/train/labels/car44_png.rf.36485d6880c79a8e49e21ea716723e2d.txt  \n",
      " extracting: /content/drive/MyDrive/20_selected_projects/8_videoestimation/yolov5/train/labels/car47_png.rf.9b5ee70dba56a4686292cf905e39f60e.txt  \n",
      " extracting: /content/drive/MyDrive/20_selected_projects/8_videoestimation/yolov5/train/labels/car51_png.rf.7b956f2f06c2d22f76df3b9243514b8f.txt  \n",
      " extracting: /content/drive/MyDrive/20_selected_projects/8_videoestimation/yolov5/train/labels/car52_png.rf.0d29f3c49d5ee4d38052345cec7ca768.txt  \n",
      " extracting: /content/drive/MyDrive/20_selected_projects/8_videoestimation/yolov5/train/labels/car54_png.rf.7b3df7d344bac0d6f6446beb5d02d64f.txt  \n",
      " extracting: /content/drive/MyDrive/20_selected_projects/8_videoestimation/yolov5/train/labels/car55_png.rf.974e980e2922a89763b4a6a696a84f5b.txt  \n",
      " extracting: /content/drive/MyDrive/20_selected_projects/8_videoestimation/yolov5/train/labels/car58_png.rf.c9f0adacc15f52f7a124727371f35dfe.txt  \n",
      " extracting: /content/drive/MyDrive/20_selected_projects/8_videoestimation/yolov5/train/labels/car59_png.rf.9cac5f6721aa2bee1bd8555f5ffaba6d.txt  \n",
      " extracting: /content/drive/MyDrive/20_selected_projects/8_videoestimation/yolov5/train/labels/car63_png.rf.c844ad3fd9a10a73a93876e492cbebcb.txt  \n",
      " extracting: /content/drive/MyDrive/20_selected_projects/8_videoestimation/yolov5/train/labels/car64_png.rf.d15d2394f0de0203ab7c45422f4e38a5.txt  \n",
      " extracting: /content/drive/MyDrive/20_selected_projects/8_videoestimation/yolov5/train/labels/car66_png.rf.76ca3b52b2166015edaf45d59b78c7c6.txt  \n",
      " extracting: /content/drive/MyDrive/20_selected_projects/8_videoestimation/yolov5/train/labels/car68_png.rf.929489309482c06abcb24a1e1b87b7fb.txt  \n",
      " extracting: /content/drive/MyDrive/20_selected_projects/8_videoestimation/yolov5/train/labels/car69_png.rf.2e6802778308598749b929ef2318137c.txt  \n",
      " extracting: /content/drive/MyDrive/20_selected_projects/8_videoestimation/yolov5/train/labels/car6_png.rf.7eff05232972a075089760e065e76a14.txt  \n",
      " extracting: /content/drive/MyDrive/20_selected_projects/8_videoestimation/yolov5/train/labels/car70_png.rf.3f09ea91a4b6a785c7b8c8364cac4c26.txt  \n",
      " extracting: /content/drive/MyDrive/20_selected_projects/8_videoestimation/yolov5/train/labels/car71_png.rf.8d3d8c3d471ec786255b259640afc08e.txt  \n",
      " extracting: /content/drive/MyDrive/20_selected_projects/8_videoestimation/yolov5/train/labels/car72_png.rf.a2dc293f19f36d38195b18bb0d9d5ba5.txt  \n",
      " extracting: /content/drive/MyDrive/20_selected_projects/8_videoestimation/yolov5/train/labels/car76_png.rf.d387075bba1977fa53a7821e9b86be66.txt  \n",
      " extracting: /content/drive/MyDrive/20_selected_projects/8_videoestimation/yolov5/train/labels/car79_png.rf.49bf1cb778eef436bc89d765c2e6ca33.txt  \n",
      " extracting: /content/drive/MyDrive/20_selected_projects/8_videoestimation/yolov5/train/labels/car7_png.rf.efb6519ed988b50bc431169249cf3a9d.txt  \n",
      " extracting: /content/drive/MyDrive/20_selected_projects/8_videoestimation/yolov5/train/labels/car80_png.rf.a49418de36e4315ccf5c97167a93ab2c.txt  \n",
      " extracting: /content/drive/MyDrive/20_selected_projects/8_videoestimation/yolov5/train/labels/car87_png.rf.f7a874aab1d191f9b64e2aae46dc3ebd.txt  \n",
      " extracting: /content/drive/MyDrive/20_selected_projects/8_videoestimation/yolov5/train/labels/car89_png.rf.3722d1be0b8dc12d6485b7dc0429d7ad.txt  \n",
      " extracting: /content/drive/MyDrive/20_selected_projects/8_videoestimation/yolov5/train/labels/car8_png.rf.3b982c700540dcaf1647e9780c2623f4.txt  \n",
      " extracting: /content/drive/MyDrive/20_selected_projects/8_videoestimation/yolov5/train/labels/car90_png.rf.a5cd2161918d732fe32a85420b56d105.txt  \n",
      " extracting: /content/drive/MyDrive/20_selected_projects/8_videoestimation/yolov5/train/labels/car92_png.rf.40127e642760873cc6fb455e2d1d05bd.txt  \n",
      " extracting: /content/drive/MyDrive/20_selected_projects/8_videoestimation/yolov5/train/labels/car93_png.rf.215a511475d000dd1583b1e6de61d4cf.txt  \n",
      " extracting: /content/drive/MyDrive/20_selected_projects/8_videoestimation/yolov5/train/labels/car94_png.rf.aa3cd55f046140ea59d7de3e6c5bb222.txt  \n",
      " extracting: /content/drive/MyDrive/20_selected_projects/8_videoestimation/yolov5/train/labels/car96_png.rf.7f9a1429a1f73297570c938758b87f30.txt  \n",
      " extracting: /content/drive/MyDrive/20_selected_projects/8_videoestimation/yolov5/train/labels/car98_png.rf.3baa36c4adce15fb6ad905b9df850e51.txt  \n",
      " extracting: /content/drive/MyDrive/20_selected_projects/8_videoestimation/yolov5/train/labels/car99_png.rf.556e044d2732b77a56cc004393032ba5.txt  \n",
      "   creating: /content/drive/MyDrive/20_selected_projects/8_videoestimation/yolov5/valid/\n",
      "   creating: /content/drive/MyDrive/20_selected_projects/8_videoestimation/yolov5/valid/images/\n",
      " extracting: /content/drive/MyDrive/20_selected_projects/8_videoestimation/yolov5/valid/images/car105_png.rf.ef6dcb8e70fd6f23b77bb4cf0772ab79.jpg  \n",
      " extracting: /content/drive/MyDrive/20_selected_projects/8_videoestimation/yolov5/valid/images/car116_png.rf.53be72678fd81eba8e3c4a7585b352fc.jpg  \n",
      " extracting: /content/drive/MyDrive/20_selected_projects/8_videoestimation/yolov5/valid/images/car121_png.rf.aa5fa23ae16aa5457fc24bebe5d95463.jpg  \n",
      " extracting: /content/drive/MyDrive/20_selected_projects/8_videoestimation/yolov5/valid/images/car127_png.rf.5d3c484162ddb49398768abbfbd65320.jpg  \n",
      " extracting: /content/drive/MyDrive/20_selected_projects/8_videoestimation/yolov5/valid/images/car129_png.rf.4054bd6acaa5557a86f0860103a8d772.jpg  \n",
      " extracting: /content/drive/MyDrive/20_selected_projects/8_videoestimation/yolov5/valid/images/car12_png.rf.92adbaeb351ccdb5dce14d6981c5793d.jpg  \n",
      " extracting: /content/drive/MyDrive/20_selected_projects/8_videoestimation/yolov5/valid/images/car130_png.rf.8a6f0e694a7b35b212e7ab134dab5f31.jpg  \n",
      " extracting: /content/drive/MyDrive/20_selected_projects/8_videoestimation/yolov5/valid/images/car13_png.rf.1b2375d65e9e1c551bea79c17f35c96a.jpg  \n",
      " extracting: /content/drive/MyDrive/20_selected_projects/8_videoestimation/yolov5/valid/images/car152_png.rf.a71f0f5eb77670e796917c923b808d24.jpg  \n",
      " extracting: /content/drive/MyDrive/20_selected_projects/8_videoestimation/yolov5/valid/images/car156_png.rf.690b58831281d3f589b402c0e1ea47da.jpg  \n",
      " extracting: /content/drive/MyDrive/20_selected_projects/8_videoestimation/yolov5/valid/images/car157_png.rf.a78076c9f9b8a9a7fc1e925fa6c9222c.jpg  \n",
      " extracting: /content/drive/MyDrive/20_selected_projects/8_videoestimation/yolov5/valid/images/car159_png.rf.b36649faecd6e58dd5568ace6be44656.jpg  \n",
      " extracting: /content/drive/MyDrive/20_selected_projects/8_videoestimation/yolov5/valid/images/car162_png.rf.1fce015d4dbd9cbf75a9a68440a9cb39.jpg  \n",
      " extracting: /content/drive/MyDrive/20_selected_projects/8_videoestimation/yolov5/valid/images/car173_png.rf.c54436d2865ececbe4b9f26aee5c7a47.jpg  \n",
      " extracting: /content/drive/MyDrive/20_selected_projects/8_videoestimation/yolov5/valid/images/car176_png.rf.9ac3bbbe4d30f1185c0d76ecb36a401d.jpg  \n",
      " extracting: /content/drive/MyDrive/20_selected_projects/8_videoestimation/yolov5/valid/images/car181_png.rf.7ace0cc90310c70f80e0cb5464e5887f.jpg  \n",
      " extracting: /content/drive/MyDrive/20_selected_projects/8_videoestimation/yolov5/valid/images/car184_png.rf.85342fd35550b9ef0d34afab62a90cb2.jpg  \n",
      " extracting: /content/drive/MyDrive/20_selected_projects/8_videoestimation/yolov5/valid/images/car185_png.rf.5f4fe3f401701fa0c34b021de88401e0.jpg  \n",
      " extracting: /content/drive/MyDrive/20_selected_projects/8_videoestimation/yolov5/valid/images/car194_png.rf.b7c6095cfdf99075ada871a4e2c0f4e0.jpg  \n",
      " extracting: /content/drive/MyDrive/20_selected_projects/8_videoestimation/yolov5/valid/images/car209_png.rf.6461f6162be8723d41a6b0c865382b7c.jpg  \n",
      " extracting: /content/drive/MyDrive/20_selected_projects/8_videoestimation/yolov5/valid/images/car20_png.rf.a240383d46f079607207e37f1d4fae31.jpg  \n",
      " extracting: /content/drive/MyDrive/20_selected_projects/8_videoestimation/yolov5/valid/images/car219_png.rf.c4534696b53ec41b4fbad6f7cb7c9834.jpg  \n",
      " extracting: /content/drive/MyDrive/20_selected_projects/8_videoestimation/yolov5/valid/images/car21_png.rf.76e2cfdffb59158a36807c076a7922ed.jpg  \n",
      " extracting: /content/drive/MyDrive/20_selected_projects/8_videoestimation/yolov5/valid/images/car231_png.rf.4788582a20a31cb758e0d04c180a030e.jpg  \n",
      " extracting: /content/drive/MyDrive/20_selected_projects/8_videoestimation/yolov5/valid/images/car232_png.rf.a33624e722f10a23504e7f5df21c5939.jpg  \n",
      " extracting: /content/drive/MyDrive/20_selected_projects/8_videoestimation/yolov5/valid/images/car237_png.rf.e1a10db8a81b666d1ce967cf78cb5995.jpg  \n",
      " extracting: /content/drive/MyDrive/20_selected_projects/8_videoestimation/yolov5/valid/images/car250_png.rf.7cbd03beeb1e60b1118b2a3152c09a37.jpg  \n",
      " extracting: /content/drive/MyDrive/20_selected_projects/8_videoestimation/yolov5/valid/images/car29_png.rf.e92c445f5fa4e416c7b1793587199baf.jpg  \n",
      " extracting: /content/drive/MyDrive/20_selected_projects/8_videoestimation/yolov5/valid/images/car34_png.rf.4862f861a834409f622785ae43d0aa3c.jpg  \n",
      " extracting: /content/drive/MyDrive/20_selected_projects/8_videoestimation/yolov5/valid/images/car39_png.rf.7d8c122216e6a3cb5e105b7b6d5c5764.jpg  \n",
      " extracting: /content/drive/MyDrive/20_selected_projects/8_videoestimation/yolov5/valid/images/car40_png.rf.180c36c49dba36de82785a774ed0e0f8.jpg  \n",
      " extracting: /content/drive/MyDrive/20_selected_projects/8_videoestimation/yolov5/valid/images/car45_png.rf.e3036e79ff95d9874b8cfbf9ba0a0791.jpg  \n",
      " extracting: /content/drive/MyDrive/20_selected_projects/8_videoestimation/yolov5/valid/images/car48_png.rf.a9c2c7d50d9ed9f3077658a812989896.jpg  \n",
      " extracting: /content/drive/MyDrive/20_selected_projects/8_videoestimation/yolov5/valid/images/car49_png.rf.724c48b083b136190ed337da05cf1fa9.jpg  \n",
      " extracting: /content/drive/MyDrive/20_selected_projects/8_videoestimation/yolov5/valid/images/car56_png.rf.b8eae38ad513148b4cd4f8f003ca7326.jpg  \n",
      " extracting: /content/drive/MyDrive/20_selected_projects/8_videoestimation/yolov5/valid/images/car57_png.rf.a3c0626bf3a1e95149751ce400366a72.jpg  \n",
      " extracting: /content/drive/MyDrive/20_selected_projects/8_videoestimation/yolov5/valid/images/car60_png.rf.ed4743d2572d10d23896272495fc16fb.jpg  \n",
      " extracting: /content/drive/MyDrive/20_selected_projects/8_videoestimation/yolov5/valid/images/car61_png.rf.8231fa8978ad5b7a7df9eb6c6dfc577c.jpg  \n",
      " extracting: /content/drive/MyDrive/20_selected_projects/8_videoestimation/yolov5/valid/images/car73_png.rf.675906cc3b595411bb6da2b9530a1ceb.jpg  \n",
      " extracting: /content/drive/MyDrive/20_selected_projects/8_videoestimation/yolov5/valid/images/car78_png.rf.4501496d3c62266860aa7a13e96de2c5.jpg  \n",
      "   creating: /content/drive/MyDrive/20_selected_projects/8_videoestimation/yolov5/valid/labels/\n",
      " extracting: /content/drive/MyDrive/20_selected_projects/8_videoestimation/yolov5/valid/labels/car105_png.rf.ef6dcb8e70fd6f23b77bb4cf0772ab79.txt  \n",
      " extracting: /content/drive/MyDrive/20_selected_projects/8_videoestimation/yolov5/valid/labels/car116_png.rf.53be72678fd81eba8e3c4a7585b352fc.txt  \n",
      " extracting: /content/drive/MyDrive/20_selected_projects/8_videoestimation/yolov5/valid/labels/car121_png.rf.aa5fa23ae16aa5457fc24bebe5d95463.txt  \n",
      " extracting: /content/drive/MyDrive/20_selected_projects/8_videoestimation/yolov5/valid/labels/car127_png.rf.5d3c484162ddb49398768abbfbd65320.txt  \n",
      " extracting: /content/drive/MyDrive/20_selected_projects/8_videoestimation/yolov5/valid/labels/car129_png.rf.4054bd6acaa5557a86f0860103a8d772.txt  \n",
      " extracting: /content/drive/MyDrive/20_selected_projects/8_videoestimation/yolov5/valid/labels/car12_png.rf.92adbaeb351ccdb5dce14d6981c5793d.txt  \n",
      " extracting: /content/drive/MyDrive/20_selected_projects/8_videoestimation/yolov5/valid/labels/car130_png.rf.8a6f0e694a7b35b212e7ab134dab5f31.txt  \n",
      " extracting: /content/drive/MyDrive/20_selected_projects/8_videoestimation/yolov5/valid/labels/car13_png.rf.1b2375d65e9e1c551bea79c17f35c96a.txt  \n",
      " extracting: /content/drive/MyDrive/20_selected_projects/8_videoestimation/yolov5/valid/labels/car152_png.rf.a71f0f5eb77670e796917c923b808d24.txt  \n",
      " extracting: /content/drive/MyDrive/20_selected_projects/8_videoestimation/yolov5/valid/labels/car156_png.rf.690b58831281d3f589b402c0e1ea47da.txt  \n",
      " extracting: /content/drive/MyDrive/20_selected_projects/8_videoestimation/yolov5/valid/labels/car157_png.rf.a78076c9f9b8a9a7fc1e925fa6c9222c.txt  \n",
      " extracting: /content/drive/MyDrive/20_selected_projects/8_videoestimation/yolov5/valid/labels/car159_png.rf.b36649faecd6e58dd5568ace6be44656.txt  \n",
      " extracting: /content/drive/MyDrive/20_selected_projects/8_videoestimation/yolov5/valid/labels/car162_png.rf.1fce015d4dbd9cbf75a9a68440a9cb39.txt  \n",
      " extracting: /content/drive/MyDrive/20_selected_projects/8_videoestimation/yolov5/valid/labels/car173_png.rf.c54436d2865ececbe4b9f26aee5c7a47.txt  \n",
      " extracting: /content/drive/MyDrive/20_selected_projects/8_videoestimation/yolov5/valid/labels/car176_png.rf.9ac3bbbe4d30f1185c0d76ecb36a401d.txt  \n",
      " extracting: /content/drive/MyDrive/20_selected_projects/8_videoestimation/yolov5/valid/labels/car181_png.rf.7ace0cc90310c70f80e0cb5464e5887f.txt  \n",
      " extracting: /content/drive/MyDrive/20_selected_projects/8_videoestimation/yolov5/valid/labels/car184_png.rf.85342fd35550b9ef0d34afab62a90cb2.txt  \n",
      " extracting: /content/drive/MyDrive/20_selected_projects/8_videoestimation/yolov5/valid/labels/car185_png.rf.5f4fe3f401701fa0c34b021de88401e0.txt  \n",
      " extracting: /content/drive/MyDrive/20_selected_projects/8_videoestimation/yolov5/valid/labels/car194_png.rf.b7c6095cfdf99075ada871a4e2c0f4e0.txt  \n",
      " extracting: /content/drive/MyDrive/20_selected_projects/8_videoestimation/yolov5/valid/labels/car209_png.rf.6461f6162be8723d41a6b0c865382b7c.txt  \n",
      " extracting: /content/drive/MyDrive/20_selected_projects/8_videoestimation/yolov5/valid/labels/car20_png.rf.a240383d46f079607207e37f1d4fae31.txt  \n",
      " extracting: /content/drive/MyDrive/20_selected_projects/8_videoestimation/yolov5/valid/labels/car219_png.rf.c4534696b53ec41b4fbad6f7cb7c9834.txt  \n",
      " extracting: /content/drive/MyDrive/20_selected_projects/8_videoestimation/yolov5/valid/labels/car21_png.rf.76e2cfdffb59158a36807c076a7922ed.txt  \n",
      " extracting: /content/drive/MyDrive/20_selected_projects/8_videoestimation/yolov5/valid/labels/car231_png.rf.4788582a20a31cb758e0d04c180a030e.txt  \n",
      " extracting: /content/drive/MyDrive/20_selected_projects/8_videoestimation/yolov5/valid/labels/car232_png.rf.a33624e722f10a23504e7f5df21c5939.txt  \n",
      " extracting: /content/drive/MyDrive/20_selected_projects/8_videoestimation/yolov5/valid/labels/car237_png.rf.e1a10db8a81b666d1ce967cf78cb5995.txt  \n",
      " extracting: /content/drive/MyDrive/20_selected_projects/8_videoestimation/yolov5/valid/labels/car250_png.rf.7cbd03beeb1e60b1118b2a3152c09a37.txt  \n",
      " extracting: /content/drive/MyDrive/20_selected_projects/8_videoestimation/yolov5/valid/labels/car29_png.rf.e92c445f5fa4e416c7b1793587199baf.txt  \n",
      " extracting: /content/drive/MyDrive/20_selected_projects/8_videoestimation/yolov5/valid/labels/car34_png.rf.4862f861a834409f622785ae43d0aa3c.txt  \n",
      " extracting: /content/drive/MyDrive/20_selected_projects/8_videoestimation/yolov5/valid/labels/car39_png.rf.7d8c122216e6a3cb5e105b7b6d5c5764.txt  \n",
      " extracting: /content/drive/MyDrive/20_selected_projects/8_videoestimation/yolov5/valid/labels/car40_png.rf.180c36c49dba36de82785a774ed0e0f8.txt  \n",
      " extracting: /content/drive/MyDrive/20_selected_projects/8_videoestimation/yolov5/valid/labels/car45_png.rf.e3036e79ff95d9874b8cfbf9ba0a0791.txt  \n",
      " extracting: /content/drive/MyDrive/20_selected_projects/8_videoestimation/yolov5/valid/labels/car48_png.rf.a9c2c7d50d9ed9f3077658a812989896.txt  \n",
      " extracting: /content/drive/MyDrive/20_selected_projects/8_videoestimation/yolov5/valid/labels/car49_png.rf.724c48b083b136190ed337da05cf1fa9.txt  \n",
      " extracting: /content/drive/MyDrive/20_selected_projects/8_videoestimation/yolov5/valid/labels/car56_png.rf.b8eae38ad513148b4cd4f8f003ca7326.txt  \n",
      " extracting: /content/drive/MyDrive/20_selected_projects/8_videoestimation/yolov5/valid/labels/car57_png.rf.a3c0626bf3a1e95149751ce400366a72.txt  \n",
      " extracting: /content/drive/MyDrive/20_selected_projects/8_videoestimation/yolov5/valid/labels/car60_png.rf.ed4743d2572d10d23896272495fc16fb.txt  \n",
      " extracting: /content/drive/MyDrive/20_selected_projects/8_videoestimation/yolov5/valid/labels/car61_png.rf.8231fa8978ad5b7a7df9eb6c6dfc577c.txt  \n",
      " extracting: /content/drive/MyDrive/20_selected_projects/8_videoestimation/yolov5/valid/labels/car73_png.rf.675906cc3b595411bb6da2b9530a1ceb.txt  \n",
      " extracting: /content/drive/MyDrive/20_selected_projects/8_videoestimation/yolov5/valid/labels/car78_png.rf.4501496d3c62266860aa7a13e96de2c5.txt  \n"
     ]
    }
   ],
   "source": [
    "!unzip \"/content/drive/MyDrive/20_selected_projects/8_videoestimation/Vehicle Speed Detection.v1i.yolov5pytorch.zip\" -d \"/content/drive/MyDrive/20_selected_projects/8_videoestimation/yolov5\""
   ]
  },
  {
   "cell_type": "code",
   "execution_count": 5,
   "metadata": {
    "colab": {
     "base_uri": "https://localhost:8080/"
    },
    "executionInfo": {
     "elapsed": 5110,
     "status": "ok",
     "timestamp": 1710865251914,
     "user": {
      "displayName": "TruProjects yolo",
      "userId": "18414174829652366032"
     },
     "user_tz": -330
    },
    "id": "t__KamFsTmGk",
    "outputId": "e26fc65b-4cb3-409a-bba8-f0eae37f3112"
   },
   "outputs": [
    {
     "name": "stdout",
     "output_type": "stream",
     "text": [
      "Archive:  /content/drive/MyDrive/20_selected_projects/8_videoestimation/Vehicle Speed Detection.v1i.yolov8.zip\n",
      " extracting: /content/drive/MyDrive/20_selected_projects/8_videoestimation/yolov8/README.dataset.txt  \n",
      " extracting: /content/drive/MyDrive/20_selected_projects/8_videoestimation/yolov8/README.roboflow.txt  \n",
      " extracting: /content/drive/MyDrive/20_selected_projects/8_videoestimation/yolov8/data.yaml  \n",
      "   creating: /content/drive/MyDrive/20_selected_projects/8_videoestimation/yolov8/train/\n",
      "   creating: /content/drive/MyDrive/20_selected_projects/8_videoestimation/yolov8/train/images/\n",
      " extracting: /content/drive/MyDrive/20_selected_projects/8_videoestimation/yolov8/train/images/car101_png.rf.8d10704cb2313ab2ee8f189ff55d401e.jpg  \n",
      " extracting: /content/drive/MyDrive/20_selected_projects/8_videoestimation/yolov8/train/images/car102_png.rf.aa9c2e1231fff0752df4a98e5927b61c.jpg  \n",
      " extracting: /content/drive/MyDrive/20_selected_projects/8_videoestimation/yolov8/train/images/car103_png.rf.19520fea7bc94fd5bb4705f89c8fb89d.jpg  \n",
      " extracting: /content/drive/MyDrive/20_selected_projects/8_videoestimation/yolov8/train/images/car104_png.rf.0cd77dac8b9cf936c3cbda92591dc613.jpg  \n",
      " extracting: /content/drive/MyDrive/20_selected_projects/8_videoestimation/yolov8/train/images/car107_png.rf.8b7c696b630fef1f9bd5bdd537f78517.jpg  \n",
      " extracting: /content/drive/MyDrive/20_selected_projects/8_videoestimation/yolov8/train/images/car111_png.rf.54da3eabc8621289fff10d3eb3bad09b.jpg  \n",
      " extracting: /content/drive/MyDrive/20_selected_projects/8_videoestimation/yolov8/train/images/car112_png.rf.a302f850194b1e8ce9255b057737f954.jpg  \n",
      " extracting: /content/drive/MyDrive/20_selected_projects/8_videoestimation/yolov8/train/images/car113_png.rf.a7ea8c3bbbc8bf69894083e7f0a32172.jpg  \n",
      " extracting: /content/drive/MyDrive/20_selected_projects/8_videoestimation/yolov8/train/images/car114_png.rf.388791e92c5bc2a122e3907230e62dd6.jpg  \n",
      " extracting: /content/drive/MyDrive/20_selected_projects/8_videoestimation/yolov8/train/images/car115_png.rf.a8906e5ff1031e9963a9a0842bccca54.jpg  \n",
      " extracting: /content/drive/MyDrive/20_selected_projects/8_videoestimation/yolov8/train/images/car117_png.rf.560234944dce2f3b22777f4445e87035.jpg  \n",
      " extracting: /content/drive/MyDrive/20_selected_projects/8_videoestimation/yolov8/train/images/car118_png.rf.07061d6d49d5bc65cce2ddbb282d3c29.jpg  \n",
      " extracting: /content/drive/MyDrive/20_selected_projects/8_videoestimation/yolov8/train/images/car119_png.rf.abff51d1872ecba63397eae7bd756721.jpg  \n",
      " extracting: /content/drive/MyDrive/20_selected_projects/8_videoestimation/yolov8/train/images/car11_png.rf.a149a39b4ad0e6436efcef282a7fca60.jpg  \n",
      " extracting: /content/drive/MyDrive/20_selected_projects/8_videoestimation/yolov8/train/images/car120_png.rf.91685f3ca275536a8f9eefb600c78d7f.jpg  \n",
      " extracting: /content/drive/MyDrive/20_selected_projects/8_videoestimation/yolov8/train/images/car122_png.rf.6542da6435c866363af0c5eb6cf02441.jpg  \n",
      " extracting: /content/drive/MyDrive/20_selected_projects/8_videoestimation/yolov8/train/images/car123_png.rf.f2776a2b54027c552ec90c6518483552.jpg  \n",
      " extracting: /content/drive/MyDrive/20_selected_projects/8_videoestimation/yolov8/train/images/car124_png.rf.694c211ed2cd7b7ec0b72d79c2f939d3.jpg  \n",
      " extracting: /content/drive/MyDrive/20_selected_projects/8_videoestimation/yolov8/train/images/car126_png.rf.fa17c08c86f955186918a7eb0ae8a217.jpg  \n",
      " extracting: /content/drive/MyDrive/20_selected_projects/8_videoestimation/yolov8/train/images/car128_png.rf.a5d0fc3011ace0517fb7a779327e4393.jpg  \n",
      " extracting: /content/drive/MyDrive/20_selected_projects/8_videoestimation/yolov8/train/images/car131_png.rf.bbfe71e16b94ffb1905cf96ed85c56b9.jpg  \n",
      " extracting: /content/drive/MyDrive/20_selected_projects/8_videoestimation/yolov8/train/images/car132_png.rf.e1cd7970673292609228d0772c4a795a.jpg  \n",
      " extracting: /content/drive/MyDrive/20_selected_projects/8_videoestimation/yolov8/train/images/car133_png.rf.23263aee35281ddc57028a7e4fed4f04.jpg  \n",
      " extracting: /content/drive/MyDrive/20_selected_projects/8_videoestimation/yolov8/train/images/car134_png.rf.2840d39d9026af8178ba302e4b3c72d8.jpg  \n",
      " extracting: /content/drive/MyDrive/20_selected_projects/8_videoestimation/yolov8/train/images/car135_png.rf.aa27b921bd9fc6115ca36a3d0e3e25f6.jpg  \n",
      " extracting: /content/drive/MyDrive/20_selected_projects/8_videoestimation/yolov8/train/images/car136_png.rf.9bc93a872dc4c294b5838c94bd6cfb8a.jpg  \n",
      " extracting: /content/drive/MyDrive/20_selected_projects/8_videoestimation/yolov8/train/images/car137_png.rf.d358f248259f72a3fbaa4a728d4a0151.jpg  \n",
      " extracting: /content/drive/MyDrive/20_selected_projects/8_videoestimation/yolov8/train/images/car138_png.rf.d1571068116fca9d69ebbc2ca0785a9c.jpg  \n",
      " extracting: /content/drive/MyDrive/20_selected_projects/8_videoestimation/yolov8/train/images/car139_png.rf.d1474a2d261e0057700ccfae474161e6.jpg  \n",
      " extracting: /content/drive/MyDrive/20_selected_projects/8_videoestimation/yolov8/train/images/car140_png.rf.cc4922c7fdf7f188da0f2ee9710c80cf.jpg  \n",
      " extracting: /content/drive/MyDrive/20_selected_projects/8_videoestimation/yolov8/train/images/car141_png.rf.9a0be17c89814d9523cf69c5880353ad.jpg  \n",
      " extracting: /content/drive/MyDrive/20_selected_projects/8_videoestimation/yolov8/train/images/car142_png.rf.3e5321bf3d7032f0bf104688acd11298.jpg  \n",
      " extracting: /content/drive/MyDrive/20_selected_projects/8_videoestimation/yolov8/train/images/car143_png.rf.9a2c566838325afb11e578d534c304e7.jpg  \n",
      " extracting: /content/drive/MyDrive/20_selected_projects/8_videoestimation/yolov8/train/images/car144_png.rf.8f7787b995c5bed7197d4826956d2e25.jpg  \n",
      " extracting: /content/drive/MyDrive/20_selected_projects/8_videoestimation/yolov8/train/images/car145_png.rf.f137547df8046d1809beb2b506f3ec31.jpg  \n",
      " extracting: /content/drive/MyDrive/20_selected_projects/8_videoestimation/yolov8/train/images/car146_png.rf.a33d2cf1b41645acabfa447e9d03178d.jpg  \n",
      " extracting: /content/drive/MyDrive/20_selected_projects/8_videoestimation/yolov8/train/images/car147_png.rf.3379b5cf8d2598b0a0b1ce21f800cd27.jpg  \n",
      " extracting: /content/drive/MyDrive/20_selected_projects/8_videoestimation/yolov8/train/images/car148_png.rf.c92bea4250a72d9266c14b4161d34034.jpg  \n",
      " extracting: /content/drive/MyDrive/20_selected_projects/8_videoestimation/yolov8/train/images/car149_png.rf.f62cec8f9b25ea25115c1f5d464a2553.jpg  \n",
      " extracting: /content/drive/MyDrive/20_selected_projects/8_videoestimation/yolov8/train/images/car150_png.rf.e7f82c5012f7676d79bca7742b248dfd.jpg  \n",
      " extracting: /content/drive/MyDrive/20_selected_projects/8_videoestimation/yolov8/train/images/car151_png.rf.833b305a4866c010dce21b0f38a2f643.jpg  \n",
      " extracting: /content/drive/MyDrive/20_selected_projects/8_videoestimation/yolov8/train/images/car154_png.rf.26b99e3f2422df2b6f4fbf750757566e.jpg  \n",
      " extracting: /content/drive/MyDrive/20_selected_projects/8_videoestimation/yolov8/train/images/car155_png.rf.33a6eaa7309642f547d98afe9efc1f96.jpg  \n",
      " extracting: /content/drive/MyDrive/20_selected_projects/8_videoestimation/yolov8/train/images/car15_png.rf.5b55756903e603eedab2b55b4e0244c7.jpg  \n",
      " extracting: /content/drive/MyDrive/20_selected_projects/8_videoestimation/yolov8/train/images/car160_png.rf.30c38f7a41dc500d6425126530c28584.jpg  \n",
      " extracting: /content/drive/MyDrive/20_selected_projects/8_videoestimation/yolov8/train/images/car161_png.rf.d7d82dd23f6d8ad07463e9e43fbb6feb.jpg  \n",
      " extracting: /content/drive/MyDrive/20_selected_projects/8_videoestimation/yolov8/train/images/car163_png.rf.83864ce05c9cab048f83edbb8ec59c64.jpg  \n",
      " extracting: /content/drive/MyDrive/20_selected_projects/8_videoestimation/yolov8/train/images/car164_png.rf.3e336baa7a7398ebfa0ac07fb1936fe4.jpg  \n",
      " extracting: /content/drive/MyDrive/20_selected_projects/8_videoestimation/yolov8/train/images/car165_png.rf.4fb6d040bebfb694946719ea271705d1.jpg  \n",
      " extracting: /content/drive/MyDrive/20_selected_projects/8_videoestimation/yolov8/train/images/car166_png.rf.d7726e05b032e6b8f073145f626c2ef7.jpg  \n",
      " extracting: /content/drive/MyDrive/20_selected_projects/8_videoestimation/yolov8/train/images/car169_png.rf.cfcba22aec84f26e6c90aaa9bbb29f57.jpg  \n",
      " extracting: /content/drive/MyDrive/20_selected_projects/8_videoestimation/yolov8/train/images/car16_png.rf.ef72a9a268410b716bc0e1efc3c4a156.jpg  \n",
      " extracting: /content/drive/MyDrive/20_selected_projects/8_videoestimation/yolov8/train/images/car170_png.rf.8a365a77c363c1897442fd401ab28d19.jpg  \n",
      " extracting: /content/drive/MyDrive/20_selected_projects/8_videoestimation/yolov8/train/images/car172_png.rf.874bd318dbde20085ccd69fba5bebf1f.jpg  \n",
      " extracting: /content/drive/MyDrive/20_selected_projects/8_videoestimation/yolov8/train/images/car174_png.rf.0c898f51420481831714d3208e3dcbf8.jpg  \n",
      " extracting: /content/drive/MyDrive/20_selected_projects/8_videoestimation/yolov8/train/images/car175_png.rf.5714443e67dfe5b54a5b88b79507f074.jpg  \n",
      " extracting: /content/drive/MyDrive/20_selected_projects/8_videoestimation/yolov8/train/images/car178_png.rf.e1545c865a3be10f9e8747408dfba0a0.jpg  \n",
      " extracting: /content/drive/MyDrive/20_selected_projects/8_videoestimation/yolov8/train/images/car179_png.rf.e6b67160414bd5be56a8480072f26da3.jpg  \n",
      " extracting: /content/drive/MyDrive/20_selected_projects/8_videoestimation/yolov8/train/images/car17_png.rf.b65399a99e34179c443ffd21c2674805.jpg  \n",
      " extracting: /content/drive/MyDrive/20_selected_projects/8_videoestimation/yolov8/train/images/car180_png.rf.479e34d06e8f8efa4994a5fe917f2edf.jpg  \n",
      " extracting: /content/drive/MyDrive/20_selected_projects/8_videoestimation/yolov8/train/images/car182_png.rf.8e48dd3aca063e7c96cd34beb1dbc407.jpg  \n",
      " extracting: /content/drive/MyDrive/20_selected_projects/8_videoestimation/yolov8/train/images/car183_png.rf.df775ae808db0c09f60e15aa1b07a30a.jpg  \n",
      " extracting: /content/drive/MyDrive/20_selected_projects/8_videoestimation/yolov8/train/images/car186_png.rf.a3313d55d841d40e35bf101780d04063.jpg  \n",
      " extracting: /content/drive/MyDrive/20_selected_projects/8_videoestimation/yolov8/train/images/car187_png.rf.279700764f0bd0394614010547714b58.jpg  \n",
      " extracting: /content/drive/MyDrive/20_selected_projects/8_videoestimation/yolov8/train/images/car188_png.rf.745d1088acb67b49dc8ffa755ed9f144.jpg  \n",
      " extracting: /content/drive/MyDrive/20_selected_projects/8_videoestimation/yolov8/train/images/car189_png.rf.b32802847d101d9c47dc3d343dfba06f.jpg  \n",
      " extracting: /content/drive/MyDrive/20_selected_projects/8_videoestimation/yolov8/train/images/car18_png.rf.ff349b3934c32caa4c6b7192d5d5a90f.jpg  \n",
      " extracting: /content/drive/MyDrive/20_selected_projects/8_videoestimation/yolov8/train/images/car192_png.rf.9d50dd3411d2e15db606a023fc5773ac.jpg  \n",
      " extracting: /content/drive/MyDrive/20_selected_projects/8_videoestimation/yolov8/train/images/car193_png.rf.fbf45c482a5bbafdbfb07e0be4a382ae.jpg  \n",
      " extracting: /content/drive/MyDrive/20_selected_projects/8_videoestimation/yolov8/train/images/car195_png.rf.976ad36ca2df440a7e8d035ee865d81d.jpg  \n",
      " extracting: /content/drive/MyDrive/20_selected_projects/8_videoestimation/yolov8/train/images/car196_png.rf.d8874dfa5b423c11153c7bccbb6eb4e0.jpg  \n",
      " extracting: /content/drive/MyDrive/20_selected_projects/8_videoestimation/yolov8/train/images/car198_png.rf.ec29c2ece25c93be667b8e6232dee8ab.jpg  \n",
      " extracting: /content/drive/MyDrive/20_selected_projects/8_videoestimation/yolov8/train/images/car199_png.rf.856a83874fba6b6d6ed6432cfc70f8ac.jpg  \n",
      " extracting: /content/drive/MyDrive/20_selected_projects/8_videoestimation/yolov8/train/images/car200_png.rf.4f367e9b3fc696afe9600c8dff0490d0.jpg  \n",
      " extracting: /content/drive/MyDrive/20_selected_projects/8_videoestimation/yolov8/train/images/car202_png.rf.042ca9e838e7073d3d8f60ddb7d2c19e.jpg  \n",
      " extracting: /content/drive/MyDrive/20_selected_projects/8_videoestimation/yolov8/train/images/car203_png.rf.d76d885388522d6bdb59c197197f93f9.jpg  \n",
      " extracting: /content/drive/MyDrive/20_selected_projects/8_videoestimation/yolov8/train/images/car205_png.rf.8c4f62cb84f6910c17c32cc458f461d1.jpg  \n",
      " extracting: /content/drive/MyDrive/20_selected_projects/8_videoestimation/yolov8/train/images/car207_png.rf.1c8eace63107f59b937b792b3b48388f.jpg  \n",
      " extracting: /content/drive/MyDrive/20_selected_projects/8_videoestimation/yolov8/train/images/car208_png.rf.d5518a0df6a686a988cc1dd03ca571f6.jpg  \n",
      " extracting: /content/drive/MyDrive/20_selected_projects/8_videoestimation/yolov8/train/images/car210_png.rf.c14400596694143168b44c11aefc74d8.jpg  \n",
      " extracting: /content/drive/MyDrive/20_selected_projects/8_videoestimation/yolov8/train/images/car211_png.rf.25970903ea4ebbade178b69f9b64a8de.jpg  \n",
      " extracting: /content/drive/MyDrive/20_selected_projects/8_videoestimation/yolov8/train/images/car212_png.rf.dbb818e881ce955dafde3e8a320d8d62.jpg  \n",
      " extracting: /content/drive/MyDrive/20_selected_projects/8_videoestimation/yolov8/train/images/car213_png.rf.efd8bb8ca9fde69cd113a492b487a604.jpg  \n",
      " extracting: /content/drive/MyDrive/20_selected_projects/8_videoestimation/yolov8/train/images/car214_png.rf.99ff1582eff7b3703249f10b675d308e.jpg  \n",
      " extracting: /content/drive/MyDrive/20_selected_projects/8_videoestimation/yolov8/train/images/car215_png.rf.5837844bb309fc228aad4d398477c13c.jpg  \n",
      " extracting: /content/drive/MyDrive/20_selected_projects/8_videoestimation/yolov8/train/images/car216_png.rf.575c220e6b23d51542c79182c3699ae3.jpg  \n",
      " extracting: /content/drive/MyDrive/20_selected_projects/8_videoestimation/yolov8/train/images/car217_png.rf.d8aacf1341fead78b5e76bef1fd9dcc1.jpg  \n",
      " extracting: /content/drive/MyDrive/20_selected_projects/8_videoestimation/yolov8/train/images/car218_png.rf.b11b192711830ed9208c770ca8d5f760.jpg  \n",
      " extracting: /content/drive/MyDrive/20_selected_projects/8_videoestimation/yolov8/train/images/car220_png.rf.b9c9e8f3f831eb57e4eb4d383bf3df61.jpg  \n",
      " extracting: /content/drive/MyDrive/20_selected_projects/8_videoestimation/yolov8/train/images/car221_png.rf.df10b400340ee7a713242986eb5edc3d.jpg  \n",
      " extracting: /content/drive/MyDrive/20_selected_projects/8_videoestimation/yolov8/train/images/car222_png.rf.75b5eb354db2b7d64286d63d307c8eed.jpg  \n",
      " extracting: /content/drive/MyDrive/20_selected_projects/8_videoestimation/yolov8/train/images/car223_png.rf.e0e613e15063f7ef14cc3711f38fb932.jpg  \n",
      " extracting: /content/drive/MyDrive/20_selected_projects/8_videoestimation/yolov8/train/images/car224_png.rf.2fab4220cfc504a348e4067118f9736a.jpg  \n",
      " extracting: /content/drive/MyDrive/20_selected_projects/8_videoestimation/yolov8/train/images/car225_png.rf.008d73a2bad3d6ee82b55ae549c10585.jpg  \n",
      " extracting: /content/drive/MyDrive/20_selected_projects/8_videoestimation/yolov8/train/images/car226_png.rf.b6297fd9cc2d30ef21b3f753e4297475.jpg  \n",
      " extracting: /content/drive/MyDrive/20_selected_projects/8_videoestimation/yolov8/train/images/car227_png.rf.e8c18cdd5e590d5d06f126a2fb6ceee6.jpg  \n",
      " extracting: /content/drive/MyDrive/20_selected_projects/8_videoestimation/yolov8/train/images/car228_png.rf.3249a4712ce9ee23c16ec65d98222f5d.jpg  \n",
      " extracting: /content/drive/MyDrive/20_selected_projects/8_videoestimation/yolov8/train/images/car229_png.rf.a93354bc67dd37ab856cf4160e9f6327.jpg  \n",
      " extracting: /content/drive/MyDrive/20_selected_projects/8_videoestimation/yolov8/train/images/car22_png.rf.93b52e19c74dc62f9481daf0eb7cb6cc.jpg  \n",
      " extracting: /content/drive/MyDrive/20_selected_projects/8_videoestimation/yolov8/train/images/car230_png.rf.51ce073cd3637a1db8cb60cb768187a8.jpg  \n",
      " extracting: /content/drive/MyDrive/20_selected_projects/8_videoestimation/yolov8/train/images/car233_png.rf.3f7b71e228ff5c250eb8762f0af8b46f.jpg  \n",
      " extracting: /content/drive/MyDrive/20_selected_projects/8_videoestimation/yolov8/train/images/car234_png.rf.3497f3fc5e4db7e154494145ea3dd195.jpg  \n",
      " extracting: /content/drive/MyDrive/20_selected_projects/8_videoestimation/yolov8/train/images/car235_png.rf.25642fe8f9f55f27fdc7f36cb9aeec05.jpg  \n",
      " extracting: /content/drive/MyDrive/20_selected_projects/8_videoestimation/yolov8/train/images/car236_png.rf.e3881b4b78ab251592c6257f34a13794.jpg  \n",
      " extracting: /content/drive/MyDrive/20_selected_projects/8_videoestimation/yolov8/train/images/car238_png.rf.129aa67784c97091ea086f7a3241640b.jpg  \n",
      " extracting: /content/drive/MyDrive/20_selected_projects/8_videoestimation/yolov8/train/images/car239_png.rf.b766a452dd882118e21bc14a9a57a842.jpg  \n",
      " extracting: /content/drive/MyDrive/20_selected_projects/8_videoestimation/yolov8/train/images/car23_png.rf.3bd531d12c9cd6949e3377db2f97d3de.jpg  \n",
      " extracting: /content/drive/MyDrive/20_selected_projects/8_videoestimation/yolov8/train/images/car240_png.rf.f38b238ffcdae8b3e4d182262ce647ab.jpg  \n",
      " extracting: /content/drive/MyDrive/20_selected_projects/8_videoestimation/yolov8/train/images/car241_png.rf.1f562f2a570635b6fa10b5a0ed6f8e60.jpg  \n",
      " extracting: /content/drive/MyDrive/20_selected_projects/8_videoestimation/yolov8/train/images/car242_png.rf.b60d7631652853df87f26d83bbbc1668.jpg  \n",
      " extracting: /content/drive/MyDrive/20_selected_projects/8_videoestimation/yolov8/train/images/car243_png.rf.67431a95ac6f451be39c2d8ae4dad26f.jpg  \n",
      " extracting: /content/drive/MyDrive/20_selected_projects/8_videoestimation/yolov8/train/images/car244_png.rf.5a6cc8183a3a8fee4c82a9aeacb102d9.jpg  \n",
      " extracting: /content/drive/MyDrive/20_selected_projects/8_videoestimation/yolov8/train/images/car246_png.rf.cf9afbd227db7d5b26e71d5af5ef1f62.jpg  \n",
      " extracting: /content/drive/MyDrive/20_selected_projects/8_videoestimation/yolov8/train/images/car247_png.rf.443ccee7ed073a1afd60a8443d766b95.jpg  \n",
      " extracting: /content/drive/MyDrive/20_selected_projects/8_videoestimation/yolov8/train/images/car248_png.rf.0181137bb94fbfdd5dfa371776958598.jpg  \n",
      " extracting: /content/drive/MyDrive/20_selected_projects/8_videoestimation/yolov8/train/images/car249_png.rf.139334c915b1f7d7b5bcbe841ab14878.jpg  \n",
      " extracting: /content/drive/MyDrive/20_selected_projects/8_videoestimation/yolov8/train/images/car24_png.rf.995d94f6d740d53e6aac24f3493ca9bc.jpg  \n",
      " extracting: /content/drive/MyDrive/20_selected_projects/8_videoestimation/yolov8/train/images/car27_png.rf.423e56c783c4f9da220d48c74f3d85f8.jpg  \n",
      " extracting: /content/drive/MyDrive/20_selected_projects/8_videoestimation/yolov8/train/images/car28_png.rf.89bdab02d91dc34a539c768af0f2ad80.jpg  \n",
      " extracting: /content/drive/MyDrive/20_selected_projects/8_videoestimation/yolov8/train/images/car31_png.rf.e84644da8506e8a09990af79d94783db.jpg  \n",
      " extracting: /content/drive/MyDrive/20_selected_projects/8_videoestimation/yolov8/train/images/car32_png.rf.4f523cbc20aaec6674b2f8a08d02618a.jpg  \n",
      " extracting: /content/drive/MyDrive/20_selected_projects/8_videoestimation/yolov8/train/images/car33_png.rf.aecd6bf224db185729b2d1561991d8ad.jpg  \n",
      " extracting: /content/drive/MyDrive/20_selected_projects/8_videoestimation/yolov8/train/images/car35_png.rf.c103295c06b9607c947dfd9f90ff5e6d.jpg  \n",
      " extracting: /content/drive/MyDrive/20_selected_projects/8_videoestimation/yolov8/train/images/car36_png.rf.ad6e6de31cf9308c4782ed9536f1c7ca.jpg  \n",
      " extracting: /content/drive/MyDrive/20_selected_projects/8_videoestimation/yolov8/train/images/car37_png.rf.bbd22e54efc68e810a452f0ac0bdcbe2.jpg  \n",
      " extracting: /content/drive/MyDrive/20_selected_projects/8_videoestimation/yolov8/train/images/car38_png.rf.ab39d4c6ac75d13cc81a8eb2469a7494.jpg  \n",
      " extracting: /content/drive/MyDrive/20_selected_projects/8_videoestimation/yolov8/train/images/car3_png.rf.02f535b6d60600dbddc97b3d13f46af6.jpg  \n",
      " extracting: /content/drive/MyDrive/20_selected_projects/8_videoestimation/yolov8/train/images/car41_png.rf.9c148367615a11e98d9514d7b82ef853.jpg  \n",
      " extracting: /content/drive/MyDrive/20_selected_projects/8_videoestimation/yolov8/train/images/car42_png.rf.d7f74c76663e547102fcb83bae7ed3db.jpg  \n",
      " extracting: /content/drive/MyDrive/20_selected_projects/8_videoestimation/yolov8/train/images/car43_png.rf.5927044fd64a3e98a97d4799b0b2bdcc.jpg  \n",
      " extracting: /content/drive/MyDrive/20_selected_projects/8_videoestimation/yolov8/train/images/car44_png.rf.36485d6880c79a8e49e21ea716723e2d.jpg  \n",
      " extracting: /content/drive/MyDrive/20_selected_projects/8_videoestimation/yolov8/train/images/car47_png.rf.9b5ee70dba56a4686292cf905e39f60e.jpg  \n",
      " extracting: /content/drive/MyDrive/20_selected_projects/8_videoestimation/yolov8/train/images/car51_png.rf.7b956f2f06c2d22f76df3b9243514b8f.jpg  \n",
      " extracting: /content/drive/MyDrive/20_selected_projects/8_videoestimation/yolov8/train/images/car52_png.rf.0d29f3c49d5ee4d38052345cec7ca768.jpg  \n",
      " extracting: /content/drive/MyDrive/20_selected_projects/8_videoestimation/yolov8/train/images/car54_png.rf.7b3df7d344bac0d6f6446beb5d02d64f.jpg  \n",
      " extracting: /content/drive/MyDrive/20_selected_projects/8_videoestimation/yolov8/train/images/car55_png.rf.974e980e2922a89763b4a6a696a84f5b.jpg  \n",
      " extracting: /content/drive/MyDrive/20_selected_projects/8_videoestimation/yolov8/train/images/car58_png.rf.c9f0adacc15f52f7a124727371f35dfe.jpg  \n",
      " extracting: /content/drive/MyDrive/20_selected_projects/8_videoestimation/yolov8/train/images/car59_png.rf.9cac5f6721aa2bee1bd8555f5ffaba6d.jpg  \n",
      " extracting: /content/drive/MyDrive/20_selected_projects/8_videoestimation/yolov8/train/images/car63_png.rf.c844ad3fd9a10a73a93876e492cbebcb.jpg  \n",
      " extracting: /content/drive/MyDrive/20_selected_projects/8_videoestimation/yolov8/train/images/car64_png.rf.d15d2394f0de0203ab7c45422f4e38a5.jpg  \n",
      " extracting: /content/drive/MyDrive/20_selected_projects/8_videoestimation/yolov8/train/images/car66_png.rf.76ca3b52b2166015edaf45d59b78c7c6.jpg  \n",
      " extracting: /content/drive/MyDrive/20_selected_projects/8_videoestimation/yolov8/train/images/car68_png.rf.929489309482c06abcb24a1e1b87b7fb.jpg  \n",
      " extracting: /content/drive/MyDrive/20_selected_projects/8_videoestimation/yolov8/train/images/car69_png.rf.2e6802778308598749b929ef2318137c.jpg  \n",
      " extracting: /content/drive/MyDrive/20_selected_projects/8_videoestimation/yolov8/train/images/car6_png.rf.7eff05232972a075089760e065e76a14.jpg  \n",
      " extracting: /content/drive/MyDrive/20_selected_projects/8_videoestimation/yolov8/train/images/car70_png.rf.3f09ea91a4b6a785c7b8c8364cac4c26.jpg  \n",
      " extracting: /content/drive/MyDrive/20_selected_projects/8_videoestimation/yolov8/train/images/car71_png.rf.8d3d8c3d471ec786255b259640afc08e.jpg  \n",
      " extracting: /content/drive/MyDrive/20_selected_projects/8_videoestimation/yolov8/train/images/car72_png.rf.a2dc293f19f36d38195b18bb0d9d5ba5.jpg  \n",
      " extracting: /content/drive/MyDrive/20_selected_projects/8_videoestimation/yolov8/train/images/car76_png.rf.d387075bba1977fa53a7821e9b86be66.jpg  \n",
      " extracting: /content/drive/MyDrive/20_selected_projects/8_videoestimation/yolov8/train/images/car79_png.rf.49bf1cb778eef436bc89d765c2e6ca33.jpg  \n",
      " extracting: /content/drive/MyDrive/20_selected_projects/8_videoestimation/yolov8/train/images/car7_png.rf.efb6519ed988b50bc431169249cf3a9d.jpg  \n",
      " extracting: /content/drive/MyDrive/20_selected_projects/8_videoestimation/yolov8/train/images/car80_png.rf.a49418de36e4315ccf5c97167a93ab2c.jpg  \n",
      " extracting: /content/drive/MyDrive/20_selected_projects/8_videoestimation/yolov8/train/images/car87_png.rf.f7a874aab1d191f9b64e2aae46dc3ebd.jpg  \n",
      " extracting: /content/drive/MyDrive/20_selected_projects/8_videoestimation/yolov8/train/images/car89_png.rf.3722d1be0b8dc12d6485b7dc0429d7ad.jpg  \n",
      " extracting: /content/drive/MyDrive/20_selected_projects/8_videoestimation/yolov8/train/images/car8_png.rf.3b982c700540dcaf1647e9780c2623f4.jpg  \n",
      " extracting: /content/drive/MyDrive/20_selected_projects/8_videoestimation/yolov8/train/images/car90_png.rf.a5cd2161918d732fe32a85420b56d105.jpg  \n",
      " extracting: /content/drive/MyDrive/20_selected_projects/8_videoestimation/yolov8/train/images/car92_png.rf.40127e642760873cc6fb455e2d1d05bd.jpg  \n",
      " extracting: /content/drive/MyDrive/20_selected_projects/8_videoestimation/yolov8/train/images/car93_png.rf.215a511475d000dd1583b1e6de61d4cf.jpg  \n",
      " extracting: /content/drive/MyDrive/20_selected_projects/8_videoestimation/yolov8/train/images/car94_png.rf.aa3cd55f046140ea59d7de3e6c5bb222.jpg  \n",
      " extracting: /content/drive/MyDrive/20_selected_projects/8_videoestimation/yolov8/train/images/car96_png.rf.7f9a1429a1f73297570c938758b87f30.jpg  \n",
      " extracting: /content/drive/MyDrive/20_selected_projects/8_videoestimation/yolov8/train/images/car98_png.rf.3baa36c4adce15fb6ad905b9df850e51.jpg  \n",
      " extracting: /content/drive/MyDrive/20_selected_projects/8_videoestimation/yolov8/train/images/car99_png.rf.556e044d2732b77a56cc004393032ba5.jpg  \n",
      "   creating: /content/drive/MyDrive/20_selected_projects/8_videoestimation/yolov8/train/labels/\n",
      " extracting: /content/drive/MyDrive/20_selected_projects/8_videoestimation/yolov8/train/labels/car101_png.rf.8d10704cb2313ab2ee8f189ff55d401e.txt  \n",
      " extracting: /content/drive/MyDrive/20_selected_projects/8_videoestimation/yolov8/train/labels/car102_png.rf.aa9c2e1231fff0752df4a98e5927b61c.txt  \n",
      " extracting: /content/drive/MyDrive/20_selected_projects/8_videoestimation/yolov8/train/labels/car103_png.rf.19520fea7bc94fd5bb4705f89c8fb89d.txt  \n",
      " extracting: /content/drive/MyDrive/20_selected_projects/8_videoestimation/yolov8/train/labels/car104_png.rf.0cd77dac8b9cf936c3cbda92591dc613.txt  \n",
      " extracting: /content/drive/MyDrive/20_selected_projects/8_videoestimation/yolov8/train/labels/car107_png.rf.8b7c696b630fef1f9bd5bdd537f78517.txt  \n",
      " extracting: /content/drive/MyDrive/20_selected_projects/8_videoestimation/yolov8/train/labels/car111_png.rf.54da3eabc8621289fff10d3eb3bad09b.txt  \n",
      " extracting: /content/drive/MyDrive/20_selected_projects/8_videoestimation/yolov8/train/labels/car112_png.rf.a302f850194b1e8ce9255b057737f954.txt  \n",
      " extracting: /content/drive/MyDrive/20_selected_projects/8_videoestimation/yolov8/train/labels/car113_png.rf.a7ea8c3bbbc8bf69894083e7f0a32172.txt  \n",
      " extracting: /content/drive/MyDrive/20_selected_projects/8_videoestimation/yolov8/train/labels/car114_png.rf.388791e92c5bc2a122e3907230e62dd6.txt  \n",
      " extracting: /content/drive/MyDrive/20_selected_projects/8_videoestimation/yolov8/train/labels/car115_png.rf.a8906e5ff1031e9963a9a0842bccca54.txt  \n",
      " extracting: /content/drive/MyDrive/20_selected_projects/8_videoestimation/yolov8/train/labels/car117_png.rf.560234944dce2f3b22777f4445e87035.txt  \n",
      " extracting: /content/drive/MyDrive/20_selected_projects/8_videoestimation/yolov8/train/labels/car118_png.rf.07061d6d49d5bc65cce2ddbb282d3c29.txt  \n",
      " extracting: /content/drive/MyDrive/20_selected_projects/8_videoestimation/yolov8/train/labels/car119_png.rf.abff51d1872ecba63397eae7bd756721.txt  \n",
      " extracting: /content/drive/MyDrive/20_selected_projects/8_videoestimation/yolov8/train/labels/car11_png.rf.a149a39b4ad0e6436efcef282a7fca60.txt  \n",
      " extracting: /content/drive/MyDrive/20_selected_projects/8_videoestimation/yolov8/train/labels/car120_png.rf.91685f3ca275536a8f9eefb600c78d7f.txt  \n",
      " extracting: /content/drive/MyDrive/20_selected_projects/8_videoestimation/yolov8/train/labels/car122_png.rf.6542da6435c866363af0c5eb6cf02441.txt  \n",
      " extracting: /content/drive/MyDrive/20_selected_projects/8_videoestimation/yolov8/train/labels/car123_png.rf.f2776a2b54027c552ec90c6518483552.txt  \n",
      " extracting: /content/drive/MyDrive/20_selected_projects/8_videoestimation/yolov8/train/labels/car124_png.rf.694c211ed2cd7b7ec0b72d79c2f939d3.txt  \n",
      " extracting: /content/drive/MyDrive/20_selected_projects/8_videoestimation/yolov8/train/labels/car126_png.rf.fa17c08c86f955186918a7eb0ae8a217.txt  \n",
      " extracting: /content/drive/MyDrive/20_selected_projects/8_videoestimation/yolov8/train/labels/car128_png.rf.a5d0fc3011ace0517fb7a779327e4393.txt  \n",
      " extracting: /content/drive/MyDrive/20_selected_projects/8_videoestimation/yolov8/train/labels/car131_png.rf.bbfe71e16b94ffb1905cf96ed85c56b9.txt  \n",
      " extracting: /content/drive/MyDrive/20_selected_projects/8_videoestimation/yolov8/train/labels/car132_png.rf.e1cd7970673292609228d0772c4a795a.txt  \n",
      " extracting: /content/drive/MyDrive/20_selected_projects/8_videoestimation/yolov8/train/labels/car133_png.rf.23263aee35281ddc57028a7e4fed4f04.txt  \n",
      " extracting: /content/drive/MyDrive/20_selected_projects/8_videoestimation/yolov8/train/labels/car134_png.rf.2840d39d9026af8178ba302e4b3c72d8.txt  \n",
      " extracting: /content/drive/MyDrive/20_selected_projects/8_videoestimation/yolov8/train/labels/car135_png.rf.aa27b921bd9fc6115ca36a3d0e3e25f6.txt  \n",
      " extracting: /content/drive/MyDrive/20_selected_projects/8_videoestimation/yolov8/train/labels/car136_png.rf.9bc93a872dc4c294b5838c94bd6cfb8a.txt  \n",
      " extracting: /content/drive/MyDrive/20_selected_projects/8_videoestimation/yolov8/train/labels/car137_png.rf.d358f248259f72a3fbaa4a728d4a0151.txt  \n",
      " extracting: /content/drive/MyDrive/20_selected_projects/8_videoestimation/yolov8/train/labels/car138_png.rf.d1571068116fca9d69ebbc2ca0785a9c.txt  \n",
      " extracting: /content/drive/MyDrive/20_selected_projects/8_videoestimation/yolov8/train/labels/car139_png.rf.d1474a2d261e0057700ccfae474161e6.txt  \n",
      " extracting: /content/drive/MyDrive/20_selected_projects/8_videoestimation/yolov8/train/labels/car140_png.rf.cc4922c7fdf7f188da0f2ee9710c80cf.txt  \n",
      " extracting: /content/drive/MyDrive/20_selected_projects/8_videoestimation/yolov8/train/labels/car141_png.rf.9a0be17c89814d9523cf69c5880353ad.txt  \n",
      " extracting: /content/drive/MyDrive/20_selected_projects/8_videoestimation/yolov8/train/labels/car142_png.rf.3e5321bf3d7032f0bf104688acd11298.txt  \n",
      " extracting: /content/drive/MyDrive/20_selected_projects/8_videoestimation/yolov8/train/labels/car143_png.rf.9a2c566838325afb11e578d534c304e7.txt  \n",
      " extracting: /content/drive/MyDrive/20_selected_projects/8_videoestimation/yolov8/train/labels/car144_png.rf.8f7787b995c5bed7197d4826956d2e25.txt  \n",
      " extracting: /content/drive/MyDrive/20_selected_projects/8_videoestimation/yolov8/train/labels/car145_png.rf.f137547df8046d1809beb2b506f3ec31.txt  \n",
      " extracting: /content/drive/MyDrive/20_selected_projects/8_videoestimation/yolov8/train/labels/car146_png.rf.a33d2cf1b41645acabfa447e9d03178d.txt  \n",
      " extracting: /content/drive/MyDrive/20_selected_projects/8_videoestimation/yolov8/train/labels/car147_png.rf.3379b5cf8d2598b0a0b1ce21f800cd27.txt  \n",
      " extracting: /content/drive/MyDrive/20_selected_projects/8_videoestimation/yolov8/train/labels/car148_png.rf.c92bea4250a72d9266c14b4161d34034.txt  \n",
      " extracting: /content/drive/MyDrive/20_selected_projects/8_videoestimation/yolov8/train/labels/car149_png.rf.f62cec8f9b25ea25115c1f5d464a2553.txt  \n",
      " extracting: /content/drive/MyDrive/20_selected_projects/8_videoestimation/yolov8/train/labels/car150_png.rf.e7f82c5012f7676d79bca7742b248dfd.txt  \n",
      " extracting: /content/drive/MyDrive/20_selected_projects/8_videoestimation/yolov8/train/labels/car151_png.rf.833b305a4866c010dce21b0f38a2f643.txt  \n",
      " extracting: /content/drive/MyDrive/20_selected_projects/8_videoestimation/yolov8/train/labels/car154_png.rf.26b99e3f2422df2b6f4fbf750757566e.txt  \n",
      " extracting: /content/drive/MyDrive/20_selected_projects/8_videoestimation/yolov8/train/labels/car155_png.rf.33a6eaa7309642f547d98afe9efc1f96.txt  \n",
      " extracting: /content/drive/MyDrive/20_selected_projects/8_videoestimation/yolov8/train/labels/car15_png.rf.5b55756903e603eedab2b55b4e0244c7.txt  \n",
      " extracting: /content/drive/MyDrive/20_selected_projects/8_videoestimation/yolov8/train/labels/car160_png.rf.30c38f7a41dc500d6425126530c28584.txt  \n",
      " extracting: /content/drive/MyDrive/20_selected_projects/8_videoestimation/yolov8/train/labels/car161_png.rf.d7d82dd23f6d8ad07463e9e43fbb6feb.txt  \n",
      " extracting: /content/drive/MyDrive/20_selected_projects/8_videoestimation/yolov8/train/labels/car163_png.rf.83864ce05c9cab048f83edbb8ec59c64.txt  \n",
      " extracting: /content/drive/MyDrive/20_selected_projects/8_videoestimation/yolov8/train/labels/car164_png.rf.3e336baa7a7398ebfa0ac07fb1936fe4.txt  \n",
      " extracting: /content/drive/MyDrive/20_selected_projects/8_videoestimation/yolov8/train/labels/car165_png.rf.4fb6d040bebfb694946719ea271705d1.txt  \n",
      " extracting: /content/drive/MyDrive/20_selected_projects/8_videoestimation/yolov8/train/labels/car166_png.rf.d7726e05b032e6b8f073145f626c2ef7.txt  \n",
      " extracting: /content/drive/MyDrive/20_selected_projects/8_videoestimation/yolov8/train/labels/car169_png.rf.cfcba22aec84f26e6c90aaa9bbb29f57.txt  \n",
      " extracting: /content/drive/MyDrive/20_selected_projects/8_videoestimation/yolov8/train/labels/car16_png.rf.ef72a9a268410b716bc0e1efc3c4a156.txt  \n",
      " extracting: /content/drive/MyDrive/20_selected_projects/8_videoestimation/yolov8/train/labels/car170_png.rf.8a365a77c363c1897442fd401ab28d19.txt  \n",
      " extracting: /content/drive/MyDrive/20_selected_projects/8_videoestimation/yolov8/train/labels/car172_png.rf.874bd318dbde20085ccd69fba5bebf1f.txt  \n",
      " extracting: /content/drive/MyDrive/20_selected_projects/8_videoestimation/yolov8/train/labels/car174_png.rf.0c898f51420481831714d3208e3dcbf8.txt  \n",
      " extracting: /content/drive/MyDrive/20_selected_projects/8_videoestimation/yolov8/train/labels/car175_png.rf.5714443e67dfe5b54a5b88b79507f074.txt  \n",
      " extracting: /content/drive/MyDrive/20_selected_projects/8_videoestimation/yolov8/train/labels/car178_png.rf.e1545c865a3be10f9e8747408dfba0a0.txt  \n",
      " extracting: /content/drive/MyDrive/20_selected_projects/8_videoestimation/yolov8/train/labels/car179_png.rf.e6b67160414bd5be56a8480072f26da3.txt  \n",
      " extracting: /content/drive/MyDrive/20_selected_projects/8_videoestimation/yolov8/train/labels/car17_png.rf.b65399a99e34179c443ffd21c2674805.txt  \n",
      " extracting: /content/drive/MyDrive/20_selected_projects/8_videoestimation/yolov8/train/labels/car180_png.rf.479e34d06e8f8efa4994a5fe917f2edf.txt  \n",
      " extracting: /content/drive/MyDrive/20_selected_projects/8_videoestimation/yolov8/train/labels/car182_png.rf.8e48dd3aca063e7c96cd34beb1dbc407.txt  \n",
      " extracting: /content/drive/MyDrive/20_selected_projects/8_videoestimation/yolov8/train/labels/car183_png.rf.df775ae808db0c09f60e15aa1b07a30a.txt  \n",
      " extracting: /content/drive/MyDrive/20_selected_projects/8_videoestimation/yolov8/train/labels/car186_png.rf.a3313d55d841d40e35bf101780d04063.txt  \n",
      " extracting: /content/drive/MyDrive/20_selected_projects/8_videoestimation/yolov8/train/labels/car187_png.rf.279700764f0bd0394614010547714b58.txt  \n",
      " extracting: /content/drive/MyDrive/20_selected_projects/8_videoestimation/yolov8/train/labels/car188_png.rf.745d1088acb67b49dc8ffa755ed9f144.txt  \n",
      " extracting: /content/drive/MyDrive/20_selected_projects/8_videoestimation/yolov8/train/labels/car189_png.rf.b32802847d101d9c47dc3d343dfba06f.txt  \n",
      " extracting: /content/drive/MyDrive/20_selected_projects/8_videoestimation/yolov8/train/labels/car18_png.rf.ff349b3934c32caa4c6b7192d5d5a90f.txt  \n",
      " extracting: /content/drive/MyDrive/20_selected_projects/8_videoestimation/yolov8/train/labels/car192_png.rf.9d50dd3411d2e15db606a023fc5773ac.txt  \n",
      " extracting: /content/drive/MyDrive/20_selected_projects/8_videoestimation/yolov8/train/labels/car193_png.rf.fbf45c482a5bbafdbfb07e0be4a382ae.txt  \n",
      " extracting: /content/drive/MyDrive/20_selected_projects/8_videoestimation/yolov8/train/labels/car195_png.rf.976ad36ca2df440a7e8d035ee865d81d.txt  \n",
      " extracting: /content/drive/MyDrive/20_selected_projects/8_videoestimation/yolov8/train/labels/car196_png.rf.d8874dfa5b423c11153c7bccbb6eb4e0.txt  \n",
      " extracting: /content/drive/MyDrive/20_selected_projects/8_videoestimation/yolov8/train/labels/car198_png.rf.ec29c2ece25c93be667b8e6232dee8ab.txt  \n",
      " extracting: /content/drive/MyDrive/20_selected_projects/8_videoestimation/yolov8/train/labels/car199_png.rf.856a83874fba6b6d6ed6432cfc70f8ac.txt  \n",
      " extracting: /content/drive/MyDrive/20_selected_projects/8_videoestimation/yolov8/train/labels/car200_png.rf.4f367e9b3fc696afe9600c8dff0490d0.txt  \n",
      " extracting: /content/drive/MyDrive/20_selected_projects/8_videoestimation/yolov8/train/labels/car202_png.rf.042ca9e838e7073d3d8f60ddb7d2c19e.txt  \n",
      " extracting: /content/drive/MyDrive/20_selected_projects/8_videoestimation/yolov8/train/labels/car203_png.rf.d76d885388522d6bdb59c197197f93f9.txt  \n",
      " extracting: /content/drive/MyDrive/20_selected_projects/8_videoestimation/yolov8/train/labels/car205_png.rf.8c4f62cb84f6910c17c32cc458f461d1.txt  \n",
      " extracting: /content/drive/MyDrive/20_selected_projects/8_videoestimation/yolov8/train/labels/car207_png.rf.1c8eace63107f59b937b792b3b48388f.txt  \n",
      " extracting: /content/drive/MyDrive/20_selected_projects/8_videoestimation/yolov8/train/labels/car208_png.rf.d5518a0df6a686a988cc1dd03ca571f6.txt  \n",
      " extracting: /content/drive/MyDrive/20_selected_projects/8_videoestimation/yolov8/train/labels/car210_png.rf.c14400596694143168b44c11aefc74d8.txt  \n",
      " extracting: /content/drive/MyDrive/20_selected_projects/8_videoestimation/yolov8/train/labels/car211_png.rf.25970903ea4ebbade178b69f9b64a8de.txt  \n",
      " extracting: /content/drive/MyDrive/20_selected_projects/8_videoestimation/yolov8/train/labels/car212_png.rf.dbb818e881ce955dafde3e8a320d8d62.txt  \n",
      " extracting: /content/drive/MyDrive/20_selected_projects/8_videoestimation/yolov8/train/labels/car213_png.rf.efd8bb8ca9fde69cd113a492b487a604.txt  \n",
      " extracting: /content/drive/MyDrive/20_selected_projects/8_videoestimation/yolov8/train/labels/car214_png.rf.99ff1582eff7b3703249f10b675d308e.txt  \n",
      " extracting: /content/drive/MyDrive/20_selected_projects/8_videoestimation/yolov8/train/labels/car215_png.rf.5837844bb309fc228aad4d398477c13c.txt  \n",
      " extracting: /content/drive/MyDrive/20_selected_projects/8_videoestimation/yolov8/train/labels/car216_png.rf.575c220e6b23d51542c79182c3699ae3.txt  \n",
      " extracting: /content/drive/MyDrive/20_selected_projects/8_videoestimation/yolov8/train/labels/car217_png.rf.d8aacf1341fead78b5e76bef1fd9dcc1.txt  \n",
      " extracting: /content/drive/MyDrive/20_selected_projects/8_videoestimation/yolov8/train/labels/car218_png.rf.b11b192711830ed9208c770ca8d5f760.txt  \n",
      " extracting: /content/drive/MyDrive/20_selected_projects/8_videoestimation/yolov8/train/labels/car220_png.rf.b9c9e8f3f831eb57e4eb4d383bf3df61.txt  \n",
      " extracting: /content/drive/MyDrive/20_selected_projects/8_videoestimation/yolov8/train/labels/car221_png.rf.df10b400340ee7a713242986eb5edc3d.txt  \n",
      " extracting: /content/drive/MyDrive/20_selected_projects/8_videoestimation/yolov8/train/labels/car222_png.rf.75b5eb354db2b7d64286d63d307c8eed.txt  \n",
      " extracting: /content/drive/MyDrive/20_selected_projects/8_videoestimation/yolov8/train/labels/car223_png.rf.e0e613e15063f7ef14cc3711f38fb932.txt  \n",
      " extracting: /content/drive/MyDrive/20_selected_projects/8_videoestimation/yolov8/train/labels/car224_png.rf.2fab4220cfc504a348e4067118f9736a.txt  \n",
      " extracting: /content/drive/MyDrive/20_selected_projects/8_videoestimation/yolov8/train/labels/car225_png.rf.008d73a2bad3d6ee82b55ae549c10585.txt  \n",
      " extracting: /content/drive/MyDrive/20_selected_projects/8_videoestimation/yolov8/train/labels/car226_png.rf.b6297fd9cc2d30ef21b3f753e4297475.txt  \n",
      " extracting: /content/drive/MyDrive/20_selected_projects/8_videoestimation/yolov8/train/labels/car227_png.rf.e8c18cdd5e590d5d06f126a2fb6ceee6.txt  \n",
      " extracting: /content/drive/MyDrive/20_selected_projects/8_videoestimation/yolov8/train/labels/car228_png.rf.3249a4712ce9ee23c16ec65d98222f5d.txt  \n",
      " extracting: /content/drive/MyDrive/20_selected_projects/8_videoestimation/yolov8/train/labels/car229_png.rf.a93354bc67dd37ab856cf4160e9f6327.txt  \n",
      " extracting: /content/drive/MyDrive/20_selected_projects/8_videoestimation/yolov8/train/labels/car22_png.rf.93b52e19c74dc62f9481daf0eb7cb6cc.txt  \n",
      " extracting: /content/drive/MyDrive/20_selected_projects/8_videoestimation/yolov8/train/labels/car230_png.rf.51ce073cd3637a1db8cb60cb768187a8.txt  \n",
      " extracting: /content/drive/MyDrive/20_selected_projects/8_videoestimation/yolov8/train/labels/car233_png.rf.3f7b71e228ff5c250eb8762f0af8b46f.txt  \n",
      " extracting: /content/drive/MyDrive/20_selected_projects/8_videoestimation/yolov8/train/labels/car234_png.rf.3497f3fc5e4db7e154494145ea3dd195.txt  \n",
      " extracting: /content/drive/MyDrive/20_selected_projects/8_videoestimation/yolov8/train/labels/car235_png.rf.25642fe8f9f55f27fdc7f36cb9aeec05.txt  \n",
      " extracting: /content/drive/MyDrive/20_selected_projects/8_videoestimation/yolov8/train/labels/car236_png.rf.e3881b4b78ab251592c6257f34a13794.txt  \n",
      " extracting: /content/drive/MyDrive/20_selected_projects/8_videoestimation/yolov8/train/labels/car238_png.rf.129aa67784c97091ea086f7a3241640b.txt  \n",
      " extracting: /content/drive/MyDrive/20_selected_projects/8_videoestimation/yolov8/train/labels/car239_png.rf.b766a452dd882118e21bc14a9a57a842.txt  \n",
      " extracting: /content/drive/MyDrive/20_selected_projects/8_videoestimation/yolov8/train/labels/car23_png.rf.3bd531d12c9cd6949e3377db2f97d3de.txt  \n",
      " extracting: /content/drive/MyDrive/20_selected_projects/8_videoestimation/yolov8/train/labels/car240_png.rf.f38b238ffcdae8b3e4d182262ce647ab.txt  \n",
      " extracting: /content/drive/MyDrive/20_selected_projects/8_videoestimation/yolov8/train/labels/car241_png.rf.1f562f2a570635b6fa10b5a0ed6f8e60.txt  \n",
      " extracting: /content/drive/MyDrive/20_selected_projects/8_videoestimation/yolov8/train/labels/car242_png.rf.b60d7631652853df87f26d83bbbc1668.txt  \n",
      " extracting: /content/drive/MyDrive/20_selected_projects/8_videoestimation/yolov8/train/labels/car243_png.rf.67431a95ac6f451be39c2d8ae4dad26f.txt  \n",
      " extracting: /content/drive/MyDrive/20_selected_projects/8_videoestimation/yolov8/train/labels/car244_png.rf.5a6cc8183a3a8fee4c82a9aeacb102d9.txt  \n",
      " extracting: /content/drive/MyDrive/20_selected_projects/8_videoestimation/yolov8/train/labels/car246_png.rf.cf9afbd227db7d5b26e71d5af5ef1f62.txt  \n",
      " extracting: /content/drive/MyDrive/20_selected_projects/8_videoestimation/yolov8/train/labels/car247_png.rf.443ccee7ed073a1afd60a8443d766b95.txt  \n",
      " extracting: /content/drive/MyDrive/20_selected_projects/8_videoestimation/yolov8/train/labels/car248_png.rf.0181137bb94fbfdd5dfa371776958598.txt  \n",
      " extracting: /content/drive/MyDrive/20_selected_projects/8_videoestimation/yolov8/train/labels/car249_png.rf.139334c915b1f7d7b5bcbe841ab14878.txt  \n",
      " extracting: /content/drive/MyDrive/20_selected_projects/8_videoestimation/yolov8/train/labels/car24_png.rf.995d94f6d740d53e6aac24f3493ca9bc.txt  \n",
      " extracting: /content/drive/MyDrive/20_selected_projects/8_videoestimation/yolov8/train/labels/car27_png.rf.423e56c783c4f9da220d48c74f3d85f8.txt  \n",
      " extracting: /content/drive/MyDrive/20_selected_projects/8_videoestimation/yolov8/train/labels/car28_png.rf.89bdab02d91dc34a539c768af0f2ad80.txt  \n",
      " extracting: /content/drive/MyDrive/20_selected_projects/8_videoestimation/yolov8/train/labels/car31_png.rf.e84644da8506e8a09990af79d94783db.txt  \n",
      " extracting: /content/drive/MyDrive/20_selected_projects/8_videoestimation/yolov8/train/labels/car32_png.rf.4f523cbc20aaec6674b2f8a08d02618a.txt  \n",
      " extracting: /content/drive/MyDrive/20_selected_projects/8_videoestimation/yolov8/train/labels/car33_png.rf.aecd6bf224db185729b2d1561991d8ad.txt  \n",
      " extracting: /content/drive/MyDrive/20_selected_projects/8_videoestimation/yolov8/train/labels/car35_png.rf.c103295c06b9607c947dfd9f90ff5e6d.txt  \n",
      " extracting: /content/drive/MyDrive/20_selected_projects/8_videoestimation/yolov8/train/labels/car36_png.rf.ad6e6de31cf9308c4782ed9536f1c7ca.txt  \n",
      " extracting: /content/drive/MyDrive/20_selected_projects/8_videoestimation/yolov8/train/labels/car37_png.rf.bbd22e54efc68e810a452f0ac0bdcbe2.txt  \n",
      " extracting: /content/drive/MyDrive/20_selected_projects/8_videoestimation/yolov8/train/labels/car38_png.rf.ab39d4c6ac75d13cc81a8eb2469a7494.txt  \n",
      " extracting: /content/drive/MyDrive/20_selected_projects/8_videoestimation/yolov8/train/labels/car3_png.rf.02f535b6d60600dbddc97b3d13f46af6.txt  \n",
      " extracting: /content/drive/MyDrive/20_selected_projects/8_videoestimation/yolov8/train/labels/car41_png.rf.9c148367615a11e98d9514d7b82ef853.txt  \n",
      " extracting: /content/drive/MyDrive/20_selected_projects/8_videoestimation/yolov8/train/labels/car42_png.rf.d7f74c76663e547102fcb83bae7ed3db.txt  \n",
      " extracting: /content/drive/MyDrive/20_selected_projects/8_videoestimation/yolov8/train/labels/car43_png.rf.5927044fd64a3e98a97d4799b0b2bdcc.txt  \n",
      " extracting: /content/drive/MyDrive/20_selected_projects/8_videoestimation/yolov8/train/labels/car44_png.rf.36485d6880c79a8e49e21ea716723e2d.txt  \n",
      " extracting: /content/drive/MyDrive/20_selected_projects/8_videoestimation/yolov8/train/labels/car47_png.rf.9b5ee70dba56a4686292cf905e39f60e.txt  \n",
      " extracting: /content/drive/MyDrive/20_selected_projects/8_videoestimation/yolov8/train/labels/car51_png.rf.7b956f2f06c2d22f76df3b9243514b8f.txt  \n",
      " extracting: /content/drive/MyDrive/20_selected_projects/8_videoestimation/yolov8/train/labels/car52_png.rf.0d29f3c49d5ee4d38052345cec7ca768.txt  \n",
      " extracting: /content/drive/MyDrive/20_selected_projects/8_videoestimation/yolov8/train/labels/car54_png.rf.7b3df7d344bac0d6f6446beb5d02d64f.txt  \n",
      " extracting: /content/drive/MyDrive/20_selected_projects/8_videoestimation/yolov8/train/labels/car55_png.rf.974e980e2922a89763b4a6a696a84f5b.txt  \n",
      " extracting: /content/drive/MyDrive/20_selected_projects/8_videoestimation/yolov8/train/labels/car58_png.rf.c9f0adacc15f52f7a124727371f35dfe.txt  \n",
      " extracting: /content/drive/MyDrive/20_selected_projects/8_videoestimation/yolov8/train/labels/car59_png.rf.9cac5f6721aa2bee1bd8555f5ffaba6d.txt  \n",
      " extracting: /content/drive/MyDrive/20_selected_projects/8_videoestimation/yolov8/train/labels/car63_png.rf.c844ad3fd9a10a73a93876e492cbebcb.txt  \n",
      " extracting: /content/drive/MyDrive/20_selected_projects/8_videoestimation/yolov8/train/labels/car64_png.rf.d15d2394f0de0203ab7c45422f4e38a5.txt  \n",
      " extracting: /content/drive/MyDrive/20_selected_projects/8_videoestimation/yolov8/train/labels/car66_png.rf.76ca3b52b2166015edaf45d59b78c7c6.txt  \n",
      " extracting: /content/drive/MyDrive/20_selected_projects/8_videoestimation/yolov8/train/labels/car68_png.rf.929489309482c06abcb24a1e1b87b7fb.txt  \n",
      " extracting: /content/drive/MyDrive/20_selected_projects/8_videoestimation/yolov8/train/labels/car69_png.rf.2e6802778308598749b929ef2318137c.txt  \n",
      " extracting: /content/drive/MyDrive/20_selected_projects/8_videoestimation/yolov8/train/labels/car6_png.rf.7eff05232972a075089760e065e76a14.txt  \n",
      " extracting: /content/drive/MyDrive/20_selected_projects/8_videoestimation/yolov8/train/labels/car70_png.rf.3f09ea91a4b6a785c7b8c8364cac4c26.txt  \n",
      " extracting: /content/drive/MyDrive/20_selected_projects/8_videoestimation/yolov8/train/labels/car71_png.rf.8d3d8c3d471ec786255b259640afc08e.txt  \n",
      " extracting: /content/drive/MyDrive/20_selected_projects/8_videoestimation/yolov8/train/labels/car72_png.rf.a2dc293f19f36d38195b18bb0d9d5ba5.txt  \n",
      " extracting: /content/drive/MyDrive/20_selected_projects/8_videoestimation/yolov8/train/labels/car76_png.rf.d387075bba1977fa53a7821e9b86be66.txt  \n",
      " extracting: /content/drive/MyDrive/20_selected_projects/8_videoestimation/yolov8/train/labels/car79_png.rf.49bf1cb778eef436bc89d765c2e6ca33.txt  \n",
      " extracting: /content/drive/MyDrive/20_selected_projects/8_videoestimation/yolov8/train/labels/car7_png.rf.efb6519ed988b50bc431169249cf3a9d.txt  \n",
      " extracting: /content/drive/MyDrive/20_selected_projects/8_videoestimation/yolov8/train/labels/car80_png.rf.a49418de36e4315ccf5c97167a93ab2c.txt  \n",
      " extracting: /content/drive/MyDrive/20_selected_projects/8_videoestimation/yolov8/train/labels/car87_png.rf.f7a874aab1d191f9b64e2aae46dc3ebd.txt  \n",
      " extracting: /content/drive/MyDrive/20_selected_projects/8_videoestimation/yolov8/train/labels/car89_png.rf.3722d1be0b8dc12d6485b7dc0429d7ad.txt  \n",
      " extracting: /content/drive/MyDrive/20_selected_projects/8_videoestimation/yolov8/train/labels/car8_png.rf.3b982c700540dcaf1647e9780c2623f4.txt  \n",
      " extracting: /content/drive/MyDrive/20_selected_projects/8_videoestimation/yolov8/train/labels/car90_png.rf.a5cd2161918d732fe32a85420b56d105.txt  \n",
      " extracting: /content/drive/MyDrive/20_selected_projects/8_videoestimation/yolov8/train/labels/car92_png.rf.40127e642760873cc6fb455e2d1d05bd.txt  \n",
      " extracting: /content/drive/MyDrive/20_selected_projects/8_videoestimation/yolov8/train/labels/car93_png.rf.215a511475d000dd1583b1e6de61d4cf.txt  \n",
      " extracting: /content/drive/MyDrive/20_selected_projects/8_videoestimation/yolov8/train/labels/car94_png.rf.aa3cd55f046140ea59d7de3e6c5bb222.txt  \n",
      " extracting: /content/drive/MyDrive/20_selected_projects/8_videoestimation/yolov8/train/labels/car96_png.rf.7f9a1429a1f73297570c938758b87f30.txt  \n",
      " extracting: /content/drive/MyDrive/20_selected_projects/8_videoestimation/yolov8/train/labels/car98_png.rf.3baa36c4adce15fb6ad905b9df850e51.txt  \n",
      " extracting: /content/drive/MyDrive/20_selected_projects/8_videoestimation/yolov8/train/labels/car99_png.rf.556e044d2732b77a56cc004393032ba5.txt  \n",
      "   creating: /content/drive/MyDrive/20_selected_projects/8_videoestimation/yolov8/valid/\n",
      "   creating: /content/drive/MyDrive/20_selected_projects/8_videoestimation/yolov8/valid/images/\n",
      " extracting: /content/drive/MyDrive/20_selected_projects/8_videoestimation/yolov8/valid/images/car105_png.rf.ef6dcb8e70fd6f23b77bb4cf0772ab79.jpg  \n",
      " extracting: /content/drive/MyDrive/20_selected_projects/8_videoestimation/yolov8/valid/images/car116_png.rf.53be72678fd81eba8e3c4a7585b352fc.jpg  \n",
      " extracting: /content/drive/MyDrive/20_selected_projects/8_videoestimation/yolov8/valid/images/car121_png.rf.aa5fa23ae16aa5457fc24bebe5d95463.jpg  \n",
      " extracting: /content/drive/MyDrive/20_selected_projects/8_videoestimation/yolov8/valid/images/car127_png.rf.5d3c484162ddb49398768abbfbd65320.jpg  \n",
      " extracting: /content/drive/MyDrive/20_selected_projects/8_videoestimation/yolov8/valid/images/car129_png.rf.4054bd6acaa5557a86f0860103a8d772.jpg  \n",
      " extracting: /content/drive/MyDrive/20_selected_projects/8_videoestimation/yolov8/valid/images/car12_png.rf.92adbaeb351ccdb5dce14d6981c5793d.jpg  \n",
      " extracting: /content/drive/MyDrive/20_selected_projects/8_videoestimation/yolov8/valid/images/car130_png.rf.8a6f0e694a7b35b212e7ab134dab5f31.jpg  \n",
      " extracting: /content/drive/MyDrive/20_selected_projects/8_videoestimation/yolov8/valid/images/car13_png.rf.1b2375d65e9e1c551bea79c17f35c96a.jpg  \n",
      " extracting: /content/drive/MyDrive/20_selected_projects/8_videoestimation/yolov8/valid/images/car152_png.rf.a71f0f5eb77670e796917c923b808d24.jpg  \n",
      " extracting: /content/drive/MyDrive/20_selected_projects/8_videoestimation/yolov8/valid/images/car156_png.rf.690b58831281d3f589b402c0e1ea47da.jpg  \n",
      " extracting: /content/drive/MyDrive/20_selected_projects/8_videoestimation/yolov8/valid/images/car157_png.rf.a78076c9f9b8a9a7fc1e925fa6c9222c.jpg  \n",
      " extracting: /content/drive/MyDrive/20_selected_projects/8_videoestimation/yolov8/valid/images/car159_png.rf.b36649faecd6e58dd5568ace6be44656.jpg  \n",
      " extracting: /content/drive/MyDrive/20_selected_projects/8_videoestimation/yolov8/valid/images/car162_png.rf.1fce015d4dbd9cbf75a9a68440a9cb39.jpg  \n",
      " extracting: /content/drive/MyDrive/20_selected_projects/8_videoestimation/yolov8/valid/images/car173_png.rf.c54436d2865ececbe4b9f26aee5c7a47.jpg  \n",
      " extracting: /content/drive/MyDrive/20_selected_projects/8_videoestimation/yolov8/valid/images/car176_png.rf.9ac3bbbe4d30f1185c0d76ecb36a401d.jpg  \n",
      " extracting: /content/drive/MyDrive/20_selected_projects/8_videoestimation/yolov8/valid/images/car181_png.rf.7ace0cc90310c70f80e0cb5464e5887f.jpg  \n",
      " extracting: /content/drive/MyDrive/20_selected_projects/8_videoestimation/yolov8/valid/images/car184_png.rf.85342fd35550b9ef0d34afab62a90cb2.jpg  \n",
      " extracting: /content/drive/MyDrive/20_selected_projects/8_videoestimation/yolov8/valid/images/car185_png.rf.5f4fe3f401701fa0c34b021de88401e0.jpg  \n",
      " extracting: /content/drive/MyDrive/20_selected_projects/8_videoestimation/yolov8/valid/images/car194_png.rf.b7c6095cfdf99075ada871a4e2c0f4e0.jpg  \n",
      " extracting: /content/drive/MyDrive/20_selected_projects/8_videoestimation/yolov8/valid/images/car209_png.rf.6461f6162be8723d41a6b0c865382b7c.jpg  \n",
      " extracting: /content/drive/MyDrive/20_selected_projects/8_videoestimation/yolov8/valid/images/car20_png.rf.a240383d46f079607207e37f1d4fae31.jpg  \n",
      " extracting: /content/drive/MyDrive/20_selected_projects/8_videoestimation/yolov8/valid/images/car219_png.rf.c4534696b53ec41b4fbad6f7cb7c9834.jpg  \n",
      " extracting: /content/drive/MyDrive/20_selected_projects/8_videoestimation/yolov8/valid/images/car21_png.rf.76e2cfdffb59158a36807c076a7922ed.jpg  \n",
      " extracting: /content/drive/MyDrive/20_selected_projects/8_videoestimation/yolov8/valid/images/car231_png.rf.4788582a20a31cb758e0d04c180a030e.jpg  \n",
      " extracting: /content/drive/MyDrive/20_selected_projects/8_videoestimation/yolov8/valid/images/car232_png.rf.a33624e722f10a23504e7f5df21c5939.jpg  \n",
      " extracting: /content/drive/MyDrive/20_selected_projects/8_videoestimation/yolov8/valid/images/car237_png.rf.e1a10db8a81b666d1ce967cf78cb5995.jpg  \n",
      " extracting: /content/drive/MyDrive/20_selected_projects/8_videoestimation/yolov8/valid/images/car250_png.rf.7cbd03beeb1e60b1118b2a3152c09a37.jpg  \n",
      " extracting: /content/drive/MyDrive/20_selected_projects/8_videoestimation/yolov8/valid/images/car29_png.rf.e92c445f5fa4e416c7b1793587199baf.jpg  \n",
      " extracting: /content/drive/MyDrive/20_selected_projects/8_videoestimation/yolov8/valid/images/car34_png.rf.4862f861a834409f622785ae43d0aa3c.jpg  \n",
      " extracting: /content/drive/MyDrive/20_selected_projects/8_videoestimation/yolov8/valid/images/car39_png.rf.7d8c122216e6a3cb5e105b7b6d5c5764.jpg  \n",
      " extracting: /content/drive/MyDrive/20_selected_projects/8_videoestimation/yolov8/valid/images/car40_png.rf.180c36c49dba36de82785a774ed0e0f8.jpg  \n",
      " extracting: /content/drive/MyDrive/20_selected_projects/8_videoestimation/yolov8/valid/images/car45_png.rf.e3036e79ff95d9874b8cfbf9ba0a0791.jpg  \n",
      " extracting: /content/drive/MyDrive/20_selected_projects/8_videoestimation/yolov8/valid/images/car48_png.rf.a9c2c7d50d9ed9f3077658a812989896.jpg  \n",
      " extracting: /content/drive/MyDrive/20_selected_projects/8_videoestimation/yolov8/valid/images/car49_png.rf.724c48b083b136190ed337da05cf1fa9.jpg  \n",
      " extracting: /content/drive/MyDrive/20_selected_projects/8_videoestimation/yolov8/valid/images/car56_png.rf.b8eae38ad513148b4cd4f8f003ca7326.jpg  \n",
      " extracting: /content/drive/MyDrive/20_selected_projects/8_videoestimation/yolov8/valid/images/car57_png.rf.a3c0626bf3a1e95149751ce400366a72.jpg  \n",
      " extracting: /content/drive/MyDrive/20_selected_projects/8_videoestimation/yolov8/valid/images/car60_png.rf.ed4743d2572d10d23896272495fc16fb.jpg  \n",
      " extracting: /content/drive/MyDrive/20_selected_projects/8_videoestimation/yolov8/valid/images/car61_png.rf.8231fa8978ad5b7a7df9eb6c6dfc577c.jpg  \n",
      " extracting: /content/drive/MyDrive/20_selected_projects/8_videoestimation/yolov8/valid/images/car73_png.rf.675906cc3b595411bb6da2b9530a1ceb.jpg  \n",
      " extracting: /content/drive/MyDrive/20_selected_projects/8_videoestimation/yolov8/valid/images/car78_png.rf.4501496d3c62266860aa7a13e96de2c5.jpg  \n",
      "   creating: /content/drive/MyDrive/20_selected_projects/8_videoestimation/yolov8/valid/labels/\n",
      " extracting: /content/drive/MyDrive/20_selected_projects/8_videoestimation/yolov8/valid/labels/car105_png.rf.ef6dcb8e70fd6f23b77bb4cf0772ab79.txt  \n",
      " extracting: /content/drive/MyDrive/20_selected_projects/8_videoestimation/yolov8/valid/labels/car116_png.rf.53be72678fd81eba8e3c4a7585b352fc.txt  \n",
      " extracting: /content/drive/MyDrive/20_selected_projects/8_videoestimation/yolov8/valid/labels/car121_png.rf.aa5fa23ae16aa5457fc24bebe5d95463.txt  \n",
      " extracting: /content/drive/MyDrive/20_selected_projects/8_videoestimation/yolov8/valid/labels/car127_png.rf.5d3c484162ddb49398768abbfbd65320.txt  \n",
      " extracting: /content/drive/MyDrive/20_selected_projects/8_videoestimation/yolov8/valid/labels/car129_png.rf.4054bd6acaa5557a86f0860103a8d772.txt  \n",
      " extracting: /content/drive/MyDrive/20_selected_projects/8_videoestimation/yolov8/valid/labels/car12_png.rf.92adbaeb351ccdb5dce14d6981c5793d.txt  \n",
      " extracting: /content/drive/MyDrive/20_selected_projects/8_videoestimation/yolov8/valid/labels/car130_png.rf.8a6f0e694a7b35b212e7ab134dab5f31.txt  \n",
      " extracting: /content/drive/MyDrive/20_selected_projects/8_videoestimation/yolov8/valid/labels/car13_png.rf.1b2375d65e9e1c551bea79c17f35c96a.txt  \n",
      " extracting: /content/drive/MyDrive/20_selected_projects/8_videoestimation/yolov8/valid/labels/car152_png.rf.a71f0f5eb77670e796917c923b808d24.txt  \n",
      " extracting: /content/drive/MyDrive/20_selected_projects/8_videoestimation/yolov8/valid/labels/car156_png.rf.690b58831281d3f589b402c0e1ea47da.txt  \n",
      " extracting: /content/drive/MyDrive/20_selected_projects/8_videoestimation/yolov8/valid/labels/car157_png.rf.a78076c9f9b8a9a7fc1e925fa6c9222c.txt  \n",
      " extracting: /content/drive/MyDrive/20_selected_projects/8_videoestimation/yolov8/valid/labels/car159_png.rf.b36649faecd6e58dd5568ace6be44656.txt  \n",
      " extracting: /content/drive/MyDrive/20_selected_projects/8_videoestimation/yolov8/valid/labels/car162_png.rf.1fce015d4dbd9cbf75a9a68440a9cb39.txt  \n",
      " extracting: /content/drive/MyDrive/20_selected_projects/8_videoestimation/yolov8/valid/labels/car173_png.rf.c54436d2865ececbe4b9f26aee5c7a47.txt  \n",
      " extracting: /content/drive/MyDrive/20_selected_projects/8_videoestimation/yolov8/valid/labels/car176_png.rf.9ac3bbbe4d30f1185c0d76ecb36a401d.txt  \n",
      " extracting: /content/drive/MyDrive/20_selected_projects/8_videoestimation/yolov8/valid/labels/car181_png.rf.7ace0cc90310c70f80e0cb5464e5887f.txt  \n",
      " extracting: /content/drive/MyDrive/20_selected_projects/8_videoestimation/yolov8/valid/labels/car184_png.rf.85342fd35550b9ef0d34afab62a90cb2.txt  \n",
      " extracting: /content/drive/MyDrive/20_selected_projects/8_videoestimation/yolov8/valid/labels/car185_png.rf.5f4fe3f401701fa0c34b021de88401e0.txt  \n",
      " extracting: /content/drive/MyDrive/20_selected_projects/8_videoestimation/yolov8/valid/labels/car194_png.rf.b7c6095cfdf99075ada871a4e2c0f4e0.txt  \n",
      " extracting: /content/drive/MyDrive/20_selected_projects/8_videoestimation/yolov8/valid/labels/car209_png.rf.6461f6162be8723d41a6b0c865382b7c.txt  \n",
      " extracting: /content/drive/MyDrive/20_selected_projects/8_videoestimation/yolov8/valid/labels/car20_png.rf.a240383d46f079607207e37f1d4fae31.txt  \n",
      " extracting: /content/drive/MyDrive/20_selected_projects/8_videoestimation/yolov8/valid/labels/car219_png.rf.c4534696b53ec41b4fbad6f7cb7c9834.txt  \n",
      " extracting: /content/drive/MyDrive/20_selected_projects/8_videoestimation/yolov8/valid/labels/car21_png.rf.76e2cfdffb59158a36807c076a7922ed.txt  \n",
      " extracting: /content/drive/MyDrive/20_selected_projects/8_videoestimation/yolov8/valid/labels/car231_png.rf.4788582a20a31cb758e0d04c180a030e.txt  \n",
      " extracting: /content/drive/MyDrive/20_selected_projects/8_videoestimation/yolov8/valid/labels/car232_png.rf.a33624e722f10a23504e7f5df21c5939.txt  \n",
      " extracting: /content/drive/MyDrive/20_selected_projects/8_videoestimation/yolov8/valid/labels/car237_png.rf.e1a10db8a81b666d1ce967cf78cb5995.txt  \n",
      " extracting: /content/drive/MyDrive/20_selected_projects/8_videoestimation/yolov8/valid/labels/car250_png.rf.7cbd03beeb1e60b1118b2a3152c09a37.txt  \n",
      " extracting: /content/drive/MyDrive/20_selected_projects/8_videoestimation/yolov8/valid/labels/car29_png.rf.e92c445f5fa4e416c7b1793587199baf.txt  \n",
      " extracting: /content/drive/MyDrive/20_selected_projects/8_videoestimation/yolov8/valid/labels/car34_png.rf.4862f861a834409f622785ae43d0aa3c.txt  \n",
      " extracting: /content/drive/MyDrive/20_selected_projects/8_videoestimation/yolov8/valid/labels/car39_png.rf.7d8c122216e6a3cb5e105b7b6d5c5764.txt  \n",
      " extracting: /content/drive/MyDrive/20_selected_projects/8_videoestimation/yolov8/valid/labels/car40_png.rf.180c36c49dba36de82785a774ed0e0f8.txt  \n",
      " extracting: /content/drive/MyDrive/20_selected_projects/8_videoestimation/yolov8/valid/labels/car45_png.rf.e3036e79ff95d9874b8cfbf9ba0a0791.txt  \n",
      " extracting: /content/drive/MyDrive/20_selected_projects/8_videoestimation/yolov8/valid/labels/car48_png.rf.a9c2c7d50d9ed9f3077658a812989896.txt  \n",
      " extracting: /content/drive/MyDrive/20_selected_projects/8_videoestimation/yolov8/valid/labels/car49_png.rf.724c48b083b136190ed337da05cf1fa9.txt  \n",
      " extracting: /content/drive/MyDrive/20_selected_projects/8_videoestimation/yolov8/valid/labels/car56_png.rf.b8eae38ad513148b4cd4f8f003ca7326.txt  \n",
      " extracting: /content/drive/MyDrive/20_selected_projects/8_videoestimation/yolov8/valid/labels/car57_png.rf.a3c0626bf3a1e95149751ce400366a72.txt  \n",
      " extracting: /content/drive/MyDrive/20_selected_projects/8_videoestimation/yolov8/valid/labels/car60_png.rf.ed4743d2572d10d23896272495fc16fb.txt  \n",
      " extracting: /content/drive/MyDrive/20_selected_projects/8_videoestimation/yolov8/valid/labels/car61_png.rf.8231fa8978ad5b7a7df9eb6c6dfc577c.txt  \n",
      " extracting: /content/drive/MyDrive/20_selected_projects/8_videoestimation/yolov8/valid/labels/car73_png.rf.675906cc3b595411bb6da2b9530a1ceb.txt  \n",
      " extracting: /content/drive/MyDrive/20_selected_projects/8_videoestimation/yolov8/valid/labels/car78_png.rf.4501496d3c62266860aa7a13e96de2c5.txt  \n"
     ]
    }
   ],
   "source": [
    "!unzip \"/content/drive/MyDrive/20_selected_projects/8_videoestimation/Vehicle Speed Detection.v1i.yolov8.zip\" -d \"/content/drive/MyDrive/20_selected_projects/8_videoestimation/yolov8\""
   ]
  },
  {
   "cell_type": "markdown",
   "metadata": {
    "id": "Wp5RWbUFUP8U"
   },
   "source": [
    "# **YoloV5**"
   ]
  },
  {
   "cell_type": "code",
   "execution_count": 4,
   "metadata": {
    "colab": {
     "base_uri": "https://localhost:8080/"
    },
    "executionInfo": {
     "elapsed": 3085,
     "status": "ok",
     "timestamp": 1710866939574,
     "user": {
      "displayName": "TruProjects yolo",
      "userId": "18414174829652366032"
     },
     "user_tz": -330
    },
    "id": "09RlelHoAZ6h",
    "outputId": "2847c7ae-f08d-425b-9c5f-00098ca8e3ce"
   },
   "outputs": [
    {
     "name": "stdout",
     "output_type": "stream",
     "text": [
      "Cloning into 'yolov5'...\n",
      "remote: Enumerating objects: 16517, done.\u001b[K\n",
      "remote: Counting objects: 100% (115/115), done.\u001b[K\n",
      "remote: Compressing objects: 100% (99/99), done.\u001b[K\n",
      "remote: Total 16517 (delta 47), reused 50 (delta 16), pack-reused 16402\u001b[K\n",
      "Receiving objects: 100% (16517/16517), 15.18 MiB | 8.95 MiB/s, done.\n",
      "Resolving deltas: 100% (11307/11307), done.\n"
     ]
    }
   ],
   "source": [
    "!git clone https://github.com/ultralytics/yolov5 #https://github.com/ultralytics/yolov5"
   ]
  },
  {
   "cell_type": "code",
   "execution_count": 5,
   "metadata": {
    "colab": {
     "base_uri": "https://localhost:8080/"
    },
    "executionInfo": {
     "elapsed": 3,
     "status": "ok",
     "timestamp": 1710866939574,
     "user": {
      "displayName": "TruProjects yolo",
      "userId": "18414174829652366032"
     },
     "user_tz": -330
    },
    "id": "zCZ95bE0AZ9F",
    "outputId": "b1987192-cf92-444c-b559-fe50606cb36e"
   },
   "outputs": [
    {
     "name": "stdout",
     "output_type": "stream",
     "text": [
      "/content/yolov5\n"
     ]
    }
   ],
   "source": [
    "%cd /content/yolov5/"
   ]
  },
  {
   "cell_type": "code",
   "execution_count": 6,
   "metadata": {
    "colab": {
     "base_uri": "https://localhost:8080/"
    },
    "executionInfo": {
     "elapsed": 63884,
     "status": "ok",
     "timestamp": 1710867003456,
     "user": {
      "displayName": "TruProjects yolo",
      "userId": "18414174829652366032"
     },
     "user_tz": -330
    },
    "id": "kWHunMDDAZ_7",
    "outputId": "6543e2c6-e42d-4e15-c48f-69ac5960f856"
   },
   "outputs": [
    {
     "name": "stdout",
     "output_type": "stream",
     "text": [
      "Collecting gitpython>=3.1.30 (from -r requirements.txt (line 5))\n",
      "  Downloading GitPython-3.1.42-py3-none-any.whl (195 kB)\n",
      "\u001b[?25l     \u001b[90m━━━━━━━━━━━━━━━━━━━━━━━━━━━━━━━━━━━━━━━━\u001b[0m \u001b[32m0.0/195.4 kB\u001b[0m \u001b[31m?\u001b[0m eta \u001b[36m-:--:--\u001b[0m\r",
      "\u001b[2K     \u001b[90m━━━━━━━━━━━━━━━━━━━━━━━━━━━━━━━━━━━━━━━━\u001b[0m \u001b[32m195.4/195.4 kB\u001b[0m \u001b[31m5.6 MB/s\u001b[0m eta \u001b[36m0:00:00\u001b[0m\n",
      "\u001b[?25hRequirement already satisfied: matplotlib>=3.3 in /usr/local/lib/python3.10/dist-packages (from -r requirements.txt (line 6)) (3.7.1)\n",
      "Requirement already satisfied: numpy>=1.23.5 in /usr/local/lib/python3.10/dist-packages (from -r requirements.txt (line 7)) (1.25.2)\n",
      "Requirement already satisfied: opencv-python>=4.1.1 in /usr/local/lib/python3.10/dist-packages (from -r requirements.txt (line 8)) (4.8.0.76)\n",
      "Requirement already satisfied: Pillow>=9.4.0 in /usr/local/lib/python3.10/dist-packages (from -r requirements.txt (line 9)) (9.4.0)\n",
      "Requirement already satisfied: psutil in /usr/local/lib/python3.10/dist-packages (from -r requirements.txt (line 10)) (5.9.5)\n",
      "Requirement already satisfied: PyYAML>=5.3.1 in /usr/local/lib/python3.10/dist-packages (from -r requirements.txt (line 11)) (6.0.1)\n",
      "Requirement already satisfied: requests>=2.23.0 in /usr/local/lib/python3.10/dist-packages (from -r requirements.txt (line 12)) (2.31.0)\n",
      "Requirement already satisfied: scipy>=1.4.1 in /usr/local/lib/python3.10/dist-packages (from -r requirements.txt (line 13)) (1.11.4)\n",
      "Collecting thop>=0.1.1 (from -r requirements.txt (line 14))\n",
      "  Downloading thop-0.1.1.post2209072238-py3-none-any.whl (15 kB)\n",
      "Requirement already satisfied: torch>=1.8.0 in /usr/local/lib/python3.10/dist-packages (from -r requirements.txt (line 15)) (2.2.1+cu121)\n",
      "Requirement already satisfied: torchvision>=0.9.0 in /usr/local/lib/python3.10/dist-packages (from -r requirements.txt (line 16)) (0.17.1+cu121)\n",
      "Requirement already satisfied: tqdm>=4.64.0 in /usr/local/lib/python3.10/dist-packages (from -r requirements.txt (line 17)) (4.66.2)\n",
      "Collecting ultralytics>=8.0.232 (from -r requirements.txt (line 18))\n",
      "  Downloading ultralytics-8.1.29-py3-none-any.whl (721 kB)\n",
      "\u001b[2K     \u001b[90m━━━━━━━━━━━━━━━━━━━━━━━━━━━━━━━━━━━━━━━━\u001b[0m \u001b[32m721.3/721.3 kB\u001b[0m \u001b[31m63.3 MB/s\u001b[0m eta \u001b[36m0:00:00\u001b[0m\n",
      "\u001b[?25hRequirement already satisfied: pandas>=1.1.4 in /usr/local/lib/python3.10/dist-packages (from -r requirements.txt (line 27)) (1.5.3)\n",
      "Requirement already satisfied: seaborn>=0.11.0 in /usr/local/lib/python3.10/dist-packages (from -r requirements.txt (line 28)) (0.13.1)\n",
      "Requirement already satisfied: setuptools>=65.5.1 in /usr/local/lib/python3.10/dist-packages (from -r requirements.txt (line 42)) (67.7.2)\n",
      "Requirement already satisfied: wheel>=0.38.0 in /usr/local/lib/python3.10/dist-packages (from -r requirements.txt (line 50)) (0.43.0)\n",
      "Collecting gitdb<5,>=4.0.1 (from gitpython>=3.1.30->-r requirements.txt (line 5))\n",
      "  Downloading gitdb-4.0.11-py3-none-any.whl (62 kB)\n",
      "\u001b[2K     \u001b[90m━━━━━━━━━━━━━━━━━━━━━━━━━━━━━━━━━━━━━━━━\u001b[0m \u001b[32m62.7/62.7 kB\u001b[0m \u001b[31m10.3 MB/s\u001b[0m eta \u001b[36m0:00:00\u001b[0m\n",
      "\u001b[?25hRequirement already satisfied: contourpy>=1.0.1 in /usr/local/lib/python3.10/dist-packages (from matplotlib>=3.3->-r requirements.txt (line 6)) (1.2.0)\n",
      "Requirement already satisfied: cycler>=0.10 in /usr/local/lib/python3.10/dist-packages (from matplotlib>=3.3->-r requirements.txt (line 6)) (0.12.1)\n",
      "Requirement already satisfied: fonttools>=4.22.0 in /usr/local/lib/python3.10/dist-packages (from matplotlib>=3.3->-r requirements.txt (line 6)) (4.49.0)\n",
      "Requirement already satisfied: kiwisolver>=1.0.1 in /usr/local/lib/python3.10/dist-packages (from matplotlib>=3.3->-r requirements.txt (line 6)) (1.4.5)\n",
      "Requirement already satisfied: packaging>=20.0 in /usr/local/lib/python3.10/dist-packages (from matplotlib>=3.3->-r requirements.txt (line 6)) (24.0)\n",
      "Requirement already satisfied: pyparsing>=2.3.1 in /usr/local/lib/python3.10/dist-packages (from matplotlib>=3.3->-r requirements.txt (line 6)) (3.1.2)\n",
      "Requirement already satisfied: python-dateutil>=2.7 in /usr/local/lib/python3.10/dist-packages (from matplotlib>=3.3->-r requirements.txt (line 6)) (2.8.2)\n",
      "Requirement already satisfied: charset-normalizer<4,>=2 in /usr/local/lib/python3.10/dist-packages (from requests>=2.23.0->-r requirements.txt (line 12)) (3.3.2)\n",
      "Requirement already satisfied: idna<4,>=2.5 in /usr/local/lib/python3.10/dist-packages (from requests>=2.23.0->-r requirements.txt (line 12)) (3.6)\n",
      "Requirement already satisfied: urllib3<3,>=1.21.1 in /usr/local/lib/python3.10/dist-packages (from requests>=2.23.0->-r requirements.txt (line 12)) (2.0.7)\n",
      "Requirement already satisfied: certifi>=2017.4.17 in /usr/local/lib/python3.10/dist-packages (from requests>=2.23.0->-r requirements.txt (line 12)) (2024.2.2)\n",
      "Requirement already satisfied: filelock in /usr/local/lib/python3.10/dist-packages (from torch>=1.8.0->-r requirements.txt (line 15)) (3.13.1)\n",
      "Requirement already satisfied: typing-extensions>=4.8.0 in /usr/local/lib/python3.10/dist-packages (from torch>=1.8.0->-r requirements.txt (line 15)) (4.10.0)\n",
      "Requirement already satisfied: sympy in /usr/local/lib/python3.10/dist-packages (from torch>=1.8.0->-r requirements.txt (line 15)) (1.12)\n",
      "Requirement already satisfied: networkx in /usr/local/lib/python3.10/dist-packages (from torch>=1.8.0->-r requirements.txt (line 15)) (3.2.1)\n",
      "Requirement already satisfied: jinja2 in /usr/local/lib/python3.10/dist-packages (from torch>=1.8.0->-r requirements.txt (line 15)) (3.1.3)\n",
      "Requirement already satisfied: fsspec in /usr/local/lib/python3.10/dist-packages (from torch>=1.8.0->-r requirements.txt (line 15)) (2023.6.0)\n",
      "Collecting nvidia-cuda-nvrtc-cu12==12.1.105 (from torch>=1.8.0->-r requirements.txt (line 15))\n",
      "  Downloading nvidia_cuda_nvrtc_cu12-12.1.105-py3-none-manylinux1_x86_64.whl (23.7 MB)\n",
      "\u001b[2K     \u001b[90m━━━━━━━━━━━━━━━━━━━━━━━━━━━━━━━━━━━━━━━━\u001b[0m \u001b[32m23.7/23.7 MB\u001b[0m \u001b[31m74.5 MB/s\u001b[0m eta \u001b[36m0:00:00\u001b[0m\n",
      "\u001b[?25hCollecting nvidia-cuda-runtime-cu12==12.1.105 (from torch>=1.8.0->-r requirements.txt (line 15))\n",
      "  Downloading nvidia_cuda_runtime_cu12-12.1.105-py3-none-manylinux1_x86_64.whl (823 kB)\n",
      "\u001b[2K     \u001b[90m━━━━━━━━━━━━━━━━━━━━━━━━━━━━━━━━━━━━━━━━\u001b[0m \u001b[32m823.6/823.6 kB\u001b[0m \u001b[31m71.3 MB/s\u001b[0m eta \u001b[36m0:00:00\u001b[0m\n",
      "\u001b[?25hCollecting nvidia-cuda-cupti-cu12==12.1.105 (from torch>=1.8.0->-r requirements.txt (line 15))\n",
      "  Downloading nvidia_cuda_cupti_cu12-12.1.105-py3-none-manylinux1_x86_64.whl (14.1 MB)\n",
      "\u001b[2K     \u001b[90m━━━━━━━━━━━━━━━━━━━━━━━━━━━━━━━━━━━━━━━━\u001b[0m \u001b[32m14.1/14.1 MB\u001b[0m \u001b[31m106.8 MB/s\u001b[0m eta \u001b[36m0:00:00\u001b[0m\n",
      "\u001b[?25hCollecting nvidia-cudnn-cu12==8.9.2.26 (from torch>=1.8.0->-r requirements.txt (line 15))\n",
      "  Downloading nvidia_cudnn_cu12-8.9.2.26-py3-none-manylinux1_x86_64.whl (731.7 MB)\n",
      "\u001b[2K     \u001b[90m━━━━━━━━━━━━━━━━━━━━━━━━━━━━━━━━━━━━━━━━\u001b[0m \u001b[32m731.7/731.7 MB\u001b[0m \u001b[31m2.0 MB/s\u001b[0m eta \u001b[36m0:00:00\u001b[0m\n",
      "\u001b[?25hCollecting nvidia-cublas-cu12==12.1.3.1 (from torch>=1.8.0->-r requirements.txt (line 15))\n",
      "  Downloading nvidia_cublas_cu12-12.1.3.1-py3-none-manylinux1_x86_64.whl (410.6 MB)\n",
      "\u001b[2K     \u001b[90m━━━━━━━━━━━━━━━━━━━━━━━━━━━━━━━━━━━━━━━━\u001b[0m \u001b[32m410.6/410.6 MB\u001b[0m \u001b[31m3.1 MB/s\u001b[0m eta \u001b[36m0:00:00\u001b[0m\n",
      "\u001b[?25hCollecting nvidia-cufft-cu12==11.0.2.54 (from torch>=1.8.0->-r requirements.txt (line 15))\n",
      "  Downloading nvidia_cufft_cu12-11.0.2.54-py3-none-manylinux1_x86_64.whl (121.6 MB)\n",
      "\u001b[2K     \u001b[90m━━━━━━━━━━━━━━━━━━━━━━━━━━━━━━━━━━━━━━━━\u001b[0m \u001b[32m121.6/121.6 MB\u001b[0m \u001b[31m14.1 MB/s\u001b[0m eta \u001b[36m0:00:00\u001b[0m\n",
      "\u001b[?25hCollecting nvidia-curand-cu12==10.3.2.106 (from torch>=1.8.0->-r requirements.txt (line 15))\n",
      "  Downloading nvidia_curand_cu12-10.3.2.106-py3-none-manylinux1_x86_64.whl (56.5 MB)\n",
      "\u001b[2K     \u001b[90m━━━━━━━━━━━━━━━━━━━━━━━━━━━━━━━━━━━━━━━━\u001b[0m \u001b[32m56.5/56.5 MB\u001b[0m \u001b[31m30.2 MB/s\u001b[0m eta \u001b[36m0:00:00\u001b[0m\n",
      "\u001b[?25hCollecting nvidia-cusolver-cu12==11.4.5.107 (from torch>=1.8.0->-r requirements.txt (line 15))\n",
      "  Downloading nvidia_cusolver_cu12-11.4.5.107-py3-none-manylinux1_x86_64.whl (124.2 MB)\n",
      "\u001b[2K     \u001b[90m━━━━━━━━━━━━━━━━━━━━━━━━━━━━━━━━━━━━━━━━\u001b[0m \u001b[32m124.2/124.2 MB\u001b[0m \u001b[31m5.4 MB/s\u001b[0m eta \u001b[36m0:00:00\u001b[0m\n",
      "\u001b[?25hCollecting nvidia-cusparse-cu12==12.1.0.106 (from torch>=1.8.0->-r requirements.txt (line 15))\n",
      "  Downloading nvidia_cusparse_cu12-12.1.0.106-py3-none-manylinux1_x86_64.whl (196.0 MB)\n",
      "\u001b[2K     \u001b[90m━━━━━━━━━━━━━━━━━━━━━━━━━━━━━━━━━━━━━━━━\u001b[0m \u001b[32m196.0/196.0 MB\u001b[0m \u001b[31m4.9 MB/s\u001b[0m eta \u001b[36m0:00:00\u001b[0m\n",
      "\u001b[?25hCollecting nvidia-nccl-cu12==2.19.3 (from torch>=1.8.0->-r requirements.txt (line 15))\n",
      "  Downloading nvidia_nccl_cu12-2.19.3-py3-none-manylinux1_x86_64.whl (166.0 MB)\n",
      "\u001b[2K     \u001b[90m━━━━━━━━━━━━━━━━━━━━━━━━━━━━━━━━━━━━━━━━\u001b[0m \u001b[32m166.0/166.0 MB\u001b[0m \u001b[31m10.6 MB/s\u001b[0m eta \u001b[36m0:00:00\u001b[0m\n",
      "\u001b[?25hCollecting nvidia-nvtx-cu12==12.1.105 (from torch>=1.8.0->-r requirements.txt (line 15))\n",
      "  Downloading nvidia_nvtx_cu12-12.1.105-py3-none-manylinux1_x86_64.whl (99 kB)\n",
      "\u001b[2K     \u001b[90m━━━━━━━━━━━━━━━━━━━━━━━━━━━━━━━━━━━━━━━━\u001b[0m \u001b[32m99.1/99.1 kB\u001b[0m \u001b[31m16.3 MB/s\u001b[0m eta \u001b[36m0:00:00\u001b[0m\n",
      "\u001b[?25hRequirement already satisfied: triton==2.2.0 in /usr/local/lib/python3.10/dist-packages (from torch>=1.8.0->-r requirements.txt (line 15)) (2.2.0)\n",
      "Collecting nvidia-nvjitlink-cu12 (from nvidia-cusolver-cu12==11.4.5.107->torch>=1.8.0->-r requirements.txt (line 15))\n",
      "  Downloading nvidia_nvjitlink_cu12-12.4.99-py3-none-manylinux2014_x86_64.whl (21.1 MB)\n",
      "\u001b[2K     \u001b[90m━━━━━━━━━━━━━━━━━━━━━━━━━━━━━━━━━━━━━━━━\u001b[0m \u001b[32m21.1/21.1 MB\u001b[0m \u001b[31m86.9 MB/s\u001b[0m eta \u001b[36m0:00:00\u001b[0m\n",
      "\u001b[?25hRequirement already satisfied: py-cpuinfo in /usr/local/lib/python3.10/dist-packages (from ultralytics>=8.0.232->-r requirements.txt (line 18)) (9.0.0)\n",
      "Requirement already satisfied: pytz>=2020.1 in /usr/local/lib/python3.10/dist-packages (from pandas>=1.1.4->-r requirements.txt (line 27)) (2023.4)\n",
      "Collecting smmap<6,>=3.0.1 (from gitdb<5,>=4.0.1->gitpython>=3.1.30->-r requirements.txt (line 5))\n",
      "  Downloading smmap-5.0.1-py3-none-any.whl (24 kB)\n",
      "Requirement already satisfied: six>=1.5 in /usr/local/lib/python3.10/dist-packages (from python-dateutil>=2.7->matplotlib>=3.3->-r requirements.txt (line 6)) (1.16.0)\n",
      "Requirement already satisfied: MarkupSafe>=2.0 in /usr/local/lib/python3.10/dist-packages (from jinja2->torch>=1.8.0->-r requirements.txt (line 15)) (2.1.5)\n",
      "Requirement already satisfied: mpmath>=0.19 in /usr/local/lib/python3.10/dist-packages (from sympy->torch>=1.8.0->-r requirements.txt (line 15)) (1.3.0)\n",
      "Installing collected packages: smmap, nvidia-nvtx-cu12, nvidia-nvjitlink-cu12, nvidia-nccl-cu12, nvidia-curand-cu12, nvidia-cufft-cu12, nvidia-cuda-runtime-cu12, nvidia-cuda-nvrtc-cu12, nvidia-cuda-cupti-cu12, nvidia-cublas-cu12, nvidia-cusparse-cu12, nvidia-cudnn-cu12, gitdb, nvidia-cusolver-cu12, gitpython, thop, ultralytics\n",
      "Successfully installed gitdb-4.0.11 gitpython-3.1.42 nvidia-cublas-cu12-12.1.3.1 nvidia-cuda-cupti-cu12-12.1.105 nvidia-cuda-nvrtc-cu12-12.1.105 nvidia-cuda-runtime-cu12-12.1.105 nvidia-cudnn-cu12-8.9.2.26 nvidia-cufft-cu12-11.0.2.54 nvidia-curand-cu12-10.3.2.106 nvidia-cusolver-cu12-11.4.5.107 nvidia-cusparse-cu12-12.1.0.106 nvidia-nccl-cu12-2.19.3 nvidia-nvjitlink-cu12-12.4.99 nvidia-nvtx-cu12-12.1.105 smmap-5.0.1 thop-0.1.1.post2209072238 ultralytics-8.1.29\n"
     ]
    }
   ],
   "source": [
    "!pip install -r requirements.txt"
   ]
  },
  {
   "cell_type": "code",
   "execution_count": 1,
   "metadata": {
    "id": "3bgyEem3TgAF"
   },
   "outputs": [],
   "source": [
    "ML_Model = []\n",
    "\n",
    "precision = []\n",
    "recall = []\n",
    "mAP = []\n",
    "\n",
    "#function to call for storing the results\n",
    "def storeResults(model, a,b,c):\n",
    "    ML_Model.append(model)\n",
    "    precision.append(round(a, 3))\n",
    "    recall.append(round(b, 3))\n",
    "    mAP.append(round(c, 3))"
   ]
  },
  {
   "cell_type": "markdown",
   "metadata": {
    "id": "l73DTsUHCuy1"
   },
   "source": [
    "# Yolov5s\n"
   ]
  },
  {
   "cell_type": "code",
   "execution_count": 7,
   "metadata": {
    "colab": {
     "base_uri": "https://localhost:8080/"
    },
    "executionInfo": {
     "elapsed": 1257913,
     "status": "ok",
     "timestamp": 1710868261365,
     "user": {
      "displayName": "TruProjects yolo",
      "userId": "18414174829652366032"
     },
     "user_tz": -330
    },
    "id": "rwDNAWNzClid",
    "outputId": "8027655e-d769-42ab-9d99-eaf88882712f"
   },
   "outputs": [
    {
     "name": "stdout",
     "output_type": "stream",
     "text": [
      "/bin/bash: line 1: wandb: command not found\n",
      "2024-03-19 16:50:13.576471: E external/local_xla/xla/stream_executor/cuda/cuda_dnn.cc:9261] Unable to register cuDNN factory: Attempting to register factory for plugin cuDNN when one has already been registered\n",
      "2024-03-19 16:50:13.576533: E external/local_xla/xla/stream_executor/cuda/cuda_fft.cc:607] Unable to register cuFFT factory: Attempting to register factory for plugin cuFFT when one has already been registered\n",
      "2024-03-19 16:50:13.577879: E external/local_xla/xla/stream_executor/cuda/cuda_blas.cc:1515] Unable to register cuBLAS factory: Attempting to register factory for plugin cuBLAS when one has already been registered\n",
      "\u001b[34m\u001b[1mtrain: \u001b[0mweights=yolov5s.pt, cfg=, data=/content/drive/MyDrive/20_selected_projects/8_videoestimation/yolov5/data.yaml, hyp=data/hyps/hyp.scratch-low.yaml, epochs=200, batch_size=2, imgsz=416, rect=False, resume=False, nosave=False, noval=False, noautoanchor=False, noplots=False, evolve=None, evolve_population=data/hyps, resume_evolve=None, bucket=, cache=ram, image_weights=False, device=, multi_scale=False, single_cls=False, optimizer=SGD, sync_bn=False, workers=2, project=runs/train, name=exp, exist_ok=False, quad=False, cos_lr=False, label_smoothing=0.0, patience=100, freeze=[0], save_period=-1, seed=0, local_rank=-1, entity=None, upload_dataset=False, bbox_interval=-1, artifact_alias=latest, ndjson_console=False, ndjson_file=False\n",
      "\u001b[34m\u001b[1mgithub: \u001b[0mup to date with https://github.com/ultralytics/yolov5 ✅\n",
      "YOLOv5 🚀 v7.0-294-gdb125a20 Python-3.10.12 torch-2.2.1+cu121 CUDA:0 (Tesla T4, 15102MiB)\n",
      "\n",
      "\u001b[34m\u001b[1mhyperparameters: \u001b[0mlr0=0.01, lrf=0.01, momentum=0.937, weight_decay=0.0005, warmup_epochs=3.0, warmup_momentum=0.8, warmup_bias_lr=0.1, box=0.05, cls=0.5, cls_pw=1.0, obj=1.0, obj_pw=1.0, iou_t=0.2, anchor_t=4.0, fl_gamma=0.0, hsv_h=0.015, hsv_s=0.7, hsv_v=0.4, degrees=0.0, translate=0.1, scale=0.5, shear=0.0, perspective=0.0, flipud=0.0, fliplr=0.5, mosaic=1.0, mixup=0.0, copy_paste=0.0\n",
      "\u001b[34m\u001b[1mComet: \u001b[0mrun 'pip install comet_ml' to automatically track and visualize YOLOv5 🚀 runs in Comet\n",
      "\u001b[34m\u001b[1mTensorBoard: \u001b[0mStart with 'tensorboard --logdir runs/train', view at http://localhost:6006/\n",
      "Downloading https://ultralytics.com/assets/Arial.ttf to /root/.config/Ultralytics/Arial.ttf...\n",
      "100% 755k/755k [00:00<00:00, 96.3MB/s]\n",
      "Downloading https://github.com/ultralytics/yolov5/releases/download/v7.0/yolov5s.pt to yolov5s.pt...\n",
      "100% 14.1M/14.1M [00:00<00:00, 308MB/s]\n",
      "\n",
      "Overriding model.yaml nc=80 with nc=7\n",
      "\n",
      "                 from  n    params  module                                  arguments                     \n",
      "  0                -1  1      3520  models.common.Conv                      [3, 32, 6, 2, 2]              \n",
      "  1                -1  1     18560  models.common.Conv                      [32, 64, 3, 2]                \n",
      "  2                -1  1     18816  models.common.C3                        [64, 64, 1]                   \n",
      "  3                -1  1     73984  models.common.Conv                      [64, 128, 3, 2]               \n",
      "  4                -1  2    115712  models.common.C3                        [128, 128, 2]                 \n",
      "  5                -1  1    295424  models.common.Conv                      [128, 256, 3, 2]              \n",
      "  6                -1  3    625152  models.common.C3                        [256, 256, 3]                 \n",
      "  7                -1  1   1180672  models.common.Conv                      [256, 512, 3, 2]              \n",
      "  8                -1  1   1182720  models.common.C3                        [512, 512, 1]                 \n",
      "  9                -1  1    656896  models.common.SPPF                      [512, 512, 5]                 \n",
      " 10                -1  1    131584  models.common.Conv                      [512, 256, 1, 1]              \n",
      " 11                -1  1         0  torch.nn.modules.upsampling.Upsample    [None, 2, 'nearest']          \n",
      " 12           [-1, 6]  1         0  models.common.Concat                    [1]                           \n",
      " 13                -1  1    361984  models.common.C3                        [512, 256, 1, False]          \n",
      " 14                -1  1     33024  models.common.Conv                      [256, 128, 1, 1]              \n",
      " 15                -1  1         0  torch.nn.modules.upsampling.Upsample    [None, 2, 'nearest']          \n",
      " 16           [-1, 4]  1         0  models.common.Concat                    [1]                           \n",
      " 17                -1  1     90880  models.common.C3                        [256, 128, 1, False]          \n",
      " 18                -1  1    147712  models.common.Conv                      [128, 128, 3, 2]              \n",
      " 19          [-1, 14]  1         0  models.common.Concat                    [1]                           \n",
      " 20                -1  1    296448  models.common.C3                        [256, 256, 1, False]          \n",
      " 21                -1  1    590336  models.common.Conv                      [256, 256, 3, 2]              \n",
      " 22          [-1, 10]  1         0  models.common.Concat                    [1]                           \n",
      " 23                -1  1   1182720  models.common.C3                        [512, 512, 1, False]          \n",
      " 24      [17, 20, 23]  1     32364  models.yolo.Detect                      [7, [[10, 13, 16, 30, 33, 23], [30, 61, 62, 45, 59, 119], [116, 90, 156, 198, 373, 326]], [128, 256, 512]]\n",
      "Model summary: 214 layers, 7038508 parameters, 7038508 gradients, 16.0 GFLOPs\n",
      "\n",
      "Transferred 343/349 items from yolov5s.pt\n",
      "\u001b[34m\u001b[1mAMP: \u001b[0mchecks passed ✅\n",
      "\u001b[34m\u001b[1moptimizer:\u001b[0m SGD(lr=0.01) with parameter groups 57 weight(decay=0.0), 60 weight(decay=0.0005), 60 bias\n",
      "\u001b[34m\u001b[1malbumentations: \u001b[0mBlur(p=0.01, blur_limit=(3, 7)), MedianBlur(p=0.01, blur_limit=(3, 7)), ToGray(p=0.01), CLAHE(p=0.01, clip_limit=(1, 4.0), tile_grid_size=(8, 8))\n",
      "\u001b[34m\u001b[1mtrain: \u001b[0mScanning /content/drive/MyDrive/20_selected_projects/8_videoestimation/yolov5/train/labels.cache... 161 images, 0 backgrounds, 0 corrupt: 100% 161/161 [00:00<?, ?it/s]\n",
      "\u001b[34m\u001b[1mtrain: \u001b[0mCaching images (0.1GB ram): 100% 161/161 [00:00<00:00, 399.93it/s]\n",
      "\u001b[34m\u001b[1mval: \u001b[0mScanning /content/drive/MyDrive/20_selected_projects/8_videoestimation/yolov5/valid/labels.cache... 40 images, 0 backgrounds, 0 corrupt: 100% 40/40 [00:00<?, ?it/s]\n",
      "\u001b[34m\u001b[1mval: \u001b[0mCaching images (0.0GB ram): 100% 40/40 [00:15<00:00,  2.53it/s]\n",
      "\n",
      "\u001b[34m\u001b[1mAutoAnchor: \u001b[0m5.98 anchors/target, 1.000 Best Possible Recall (BPR). Current anchors are a good fit to dataset ✅\n",
      "Plotting labels to runs/train/exp/labels.jpg... \n",
      "Image sizes 416 train, 416 val\n",
      "Using 2 dataloader workers\n",
      "Logging results to \u001b[1mruns/train/exp\u001b[0m\n",
      "Starting training for 200 epochs...\n",
      "\n",
      "      Epoch    GPU_mem   box_loss   obj_loss   cls_loss  Instances       Size\n",
      "      0/199     0.459G     0.1135    0.03099    0.05785          7        416: 100% 81/81 [00:08<00:00,  9.47it/s]\n",
      "                 Class     Images  Instances          P          R      mAP50   mAP50-95: 100% 10/10 [00:01<00:00,  5.64it/s]\n",
      "                   all         40        150    0.00469      0.159    0.00376   0.000931\n",
      "\n",
      "      Epoch    GPU_mem   box_loss   obj_loss   cls_loss  Instances       Size\n",
      "      1/199     0.459G    0.09742    0.03935    0.05075          1        416: 100% 81/81 [00:04<00:00, 16.97it/s]\n",
      "                 Class     Images  Instances          P          R      mAP50   mAP50-95: 100% 10/10 [00:00<00:00, 17.85it/s]\n",
      "                   all         40        150    0.00816      0.452     0.0141    0.00393\n",
      "\n",
      "      Epoch    GPU_mem   box_loss   obj_loss   cls_loss  Instances       Size\n",
      "      2/199     0.459G    0.09198    0.04008    0.04619          5        416: 100% 81/81 [00:04<00:00, 17.03it/s]\n",
      "                 Class     Images  Instances          P          R      mAP50   mAP50-95: 100% 10/10 [00:00<00:00, 17.48it/s]\n",
      "                   all         40        150      0.427      0.146     0.0438      0.012\n",
      "\n",
      "      Epoch    GPU_mem   box_loss   obj_loss   cls_loss  Instances       Size\n",
      "      3/199     0.459G    0.09088    0.03277    0.04207          2        416: 100% 81/81 [00:04<00:00, 17.13it/s]\n",
      "                 Class     Images  Instances          P          R      mAP50   mAP50-95: 100% 10/10 [00:00<00:00, 17.76it/s]\n",
      "                   all         40        150     0.0433      0.356     0.0596     0.0146\n",
      "\n",
      "      Epoch    GPU_mem   box_loss   obj_loss   cls_loss  Instances       Size\n",
      "      4/199     0.459G    0.08481    0.03218    0.04166          8        416: 100% 81/81 [00:04<00:00, 16.94it/s]\n",
      "                 Class     Images  Instances          P          R      mAP50   mAP50-95: 100% 10/10 [00:00<00:00, 17.46it/s]\n",
      "                   all         40        150      0.665      0.135     0.0811     0.0285\n",
      "\n",
      "      Epoch    GPU_mem   box_loss   obj_loss   cls_loss  Instances       Size\n",
      "      5/199     0.459G    0.07591    0.03222    0.04031          2        416: 100% 81/81 [00:04<00:00, 16.98it/s]\n",
      "                 Class     Images  Instances          P          R      mAP50   mAP50-95: 100% 10/10 [00:00<00:00, 19.12it/s]\n",
      "                   all         40        150      0.688      0.193      0.111     0.0377\n",
      "\n",
      "      Epoch    GPU_mem   box_loss   obj_loss   cls_loss  Instances       Size\n",
      "      6/199     0.459G    0.07341    0.03554    0.04248          3        416: 100% 81/81 [00:04<00:00, 17.30it/s]\n",
      "                 Class     Images  Instances          P          R      mAP50   mAP50-95: 100% 10/10 [00:00<00:00, 17.94it/s]\n",
      "                   all         40        150      0.664      0.129      0.077     0.0257\n",
      "\n",
      "      Epoch    GPU_mem   box_loss   obj_loss   cls_loss  Instances       Size\n",
      "      7/199     0.459G    0.06998    0.03273    0.03954          7        416: 100% 81/81 [00:04<00:00, 16.59it/s]\n",
      "                 Class     Images  Instances          P          R      mAP50   mAP50-95: 100% 10/10 [00:00<00:00, 18.45it/s]\n",
      "                   all         40        150      0.692       0.15      0.105     0.0379\n",
      "\n",
      "      Epoch    GPU_mem   box_loss   obj_loss   cls_loss  Instances       Size\n",
      "      8/199     0.459G    0.06821    0.03504    0.04039         14        416: 100% 81/81 [00:04<00:00, 17.22it/s]\n",
      "                 Class     Images  Instances          P          R      mAP50   mAP50-95: 100% 10/10 [00:00<00:00, 18.89it/s]\n",
      "                   all         40        150      0.715      0.245      0.142     0.0486\n",
      "\n",
      "      Epoch    GPU_mem   box_loss   obj_loss   cls_loss  Instances       Size\n",
      "      9/199     0.459G    0.06722    0.03211    0.03991         21        416: 100% 81/81 [00:04<00:00, 16.68it/s]\n",
      "                 Class     Images  Instances          P          R      mAP50   mAP50-95: 100% 10/10 [00:00<00:00, 18.70it/s]\n",
      "                   all         40        150      0.731      0.214      0.156     0.0673\n",
      "\n",
      "      Epoch    GPU_mem   box_loss   obj_loss   cls_loss  Instances       Size\n",
      "     10/199     0.459G    0.06196    0.03075    0.03987          1        416: 100% 81/81 [00:04<00:00, 17.44it/s]\n",
      "                 Class     Images  Instances          P          R      mAP50   mAP50-95: 100% 10/10 [00:00<00:00, 19.13it/s]\n",
      "                   all         40        150      0.742      0.236      0.177      0.068\n",
      "\n",
      "      Epoch    GPU_mem   box_loss   obj_loss   cls_loss  Instances       Size\n",
      "     11/199     0.459G    0.05812    0.03144    0.03849          5        416: 100% 81/81 [00:04<00:00, 16.46it/s]\n",
      "                 Class     Images  Instances          P          R      mAP50   mAP50-95: 100% 10/10 [00:00<00:00, 19.05it/s]\n",
      "                   all         40        150       0.72      0.187      0.147     0.0653\n",
      "\n",
      "      Epoch    GPU_mem   box_loss   obj_loss   cls_loss  Instances       Size\n",
      "     12/199     0.459G    0.05947     0.0323    0.03978          2        416: 100% 81/81 [00:04<00:00, 16.51it/s]\n",
      "                 Class     Images  Instances          P          R      mAP50   mAP50-95: 100% 10/10 [00:00<00:00, 18.53it/s]\n",
      "                   all         40        150      0.713      0.236      0.145     0.0631\n",
      "\n",
      "      Epoch    GPU_mem   box_loss   obj_loss   cls_loss  Instances       Size\n",
      "     13/199     0.459G    0.05919    0.03169    0.03861          8        416: 100% 81/81 [00:04<00:00, 16.92it/s]\n",
      "                 Class     Images  Instances          P          R      mAP50   mAP50-95: 100% 10/10 [00:00<00:00, 18.98it/s]\n",
      "                   all         40        150      0.739      0.246      0.158     0.0613\n",
      "\n",
      "      Epoch    GPU_mem   box_loss   obj_loss   cls_loss  Instances       Size\n",
      "     14/199     0.459G    0.05864    0.02883    0.03874         12        416: 100% 81/81 [00:04<00:00, 16.48it/s]\n",
      "                 Class     Images  Instances          P          R      mAP50   mAP50-95: 100% 10/10 [00:00<00:00, 19.31it/s]\n",
      "                   all         40        150      0.763      0.236      0.177     0.0803\n",
      "\n",
      "      Epoch    GPU_mem   box_loss   obj_loss   cls_loss  Instances       Size\n",
      "     15/199     0.459G    0.05326    0.02743    0.04054         11        416: 100% 81/81 [00:05<00:00, 16.03it/s]\n",
      "                 Class     Images  Instances          P          R      mAP50   mAP50-95: 100% 10/10 [00:00<00:00, 19.70it/s]\n",
      "                   all         40        150      0.749      0.266      0.189     0.0783\n",
      "\n",
      "      Epoch    GPU_mem   box_loss   obj_loss   cls_loss  Instances       Size\n",
      "     16/199     0.459G    0.05359    0.02909    0.03867          1        416: 100% 81/81 [00:04<00:00, 16.38it/s]\n",
      "                 Class     Images  Instances          P          R      mAP50   mAP50-95: 100% 10/10 [00:00<00:00, 18.41it/s]\n",
      "                   all         40        150      0.733       0.25      0.176     0.0823\n",
      "\n",
      "      Epoch    GPU_mem   box_loss   obj_loss   cls_loss  Instances       Size\n",
      "     17/199     0.459G    0.05384    0.03208    0.03603          2        416: 100% 81/81 [00:04<00:00, 16.57it/s]\n",
      "                 Class     Images  Instances          P          R      mAP50   mAP50-95: 100% 10/10 [00:00<00:00, 18.84it/s]\n",
      "                   all         40        150       0.74      0.233        0.2     0.0776\n",
      "\n",
      "      Epoch    GPU_mem   box_loss   obj_loss   cls_loss  Instances       Size\n",
      "     18/199     0.459G    0.04982    0.02795    0.03958          1        416: 100% 81/81 [00:04<00:00, 17.03it/s]\n",
      "                 Class     Images  Instances          P          R      mAP50   mAP50-95: 100% 10/10 [00:00<00:00, 18.63it/s]\n",
      "                   all         40        150      0.768      0.223      0.206     0.0779\n",
      "\n",
      "      Epoch    GPU_mem   box_loss   obj_loss   cls_loss  Instances       Size\n",
      "     19/199     0.459G    0.05148     0.0317    0.04161         23        416: 100% 81/81 [00:04<00:00, 16.45it/s]\n",
      "                 Class     Images  Instances          P          R      mAP50   mAP50-95: 100% 10/10 [00:00<00:00, 19.84it/s]\n",
      "                   all         40        150      0.768      0.247      0.205     0.0905\n",
      "\n",
      "      Epoch    GPU_mem   box_loss   obj_loss   cls_loss  Instances       Size\n",
      "     20/199     0.459G    0.04972    0.03105    0.03775          8        416: 100% 81/81 [00:04<00:00, 17.15it/s]\n",
      "                 Class     Images  Instances          P          R      mAP50   mAP50-95: 100% 10/10 [00:00<00:00, 18.23it/s]\n",
      "                   all         40        150      0.782      0.237      0.232      0.109\n",
      "\n",
      "      Epoch    GPU_mem   box_loss   obj_loss   cls_loss  Instances       Size\n",
      "     21/199     0.459G    0.04778     0.0277    0.03597          4        416: 100% 81/81 [00:04<00:00, 16.77it/s]\n",
      "                 Class     Images  Instances          P          R      mAP50   mAP50-95: 100% 10/10 [00:00<00:00, 19.21it/s]\n",
      "                   all         40        150      0.793      0.266      0.221     0.0964\n",
      "\n",
      "      Epoch    GPU_mem   box_loss   obj_loss   cls_loss  Instances       Size\n",
      "     22/199     0.459G    0.04888    0.02818    0.03702          6        416: 100% 81/81 [00:04<00:00, 17.04it/s]\n",
      "                 Class     Images  Instances          P          R      mAP50   mAP50-95: 100% 10/10 [00:00<00:00, 19.39it/s]\n",
      "                   all         40        150      0.776      0.269      0.224     0.0979\n",
      "\n",
      "      Epoch    GPU_mem   box_loss   obj_loss   cls_loss  Instances       Size\n",
      "     23/199     0.459G    0.04933    0.02762    0.03658         15        416: 100% 81/81 [00:05<00:00, 16.14it/s]\n",
      "                 Class     Images  Instances          P          R      mAP50   mAP50-95: 100% 10/10 [00:00<00:00, 19.24it/s]\n",
      "                   all         40        150      0.785      0.269      0.228      0.117\n",
      "\n",
      "      Epoch    GPU_mem   box_loss   obj_loss   cls_loss  Instances       Size\n",
      "     24/199     0.459G     0.0462    0.02713    0.03761          4        416: 100% 81/81 [00:05<00:00, 16.09it/s]\n",
      "                 Class     Images  Instances          P          R      mAP50   mAP50-95: 100% 10/10 [00:00<00:00, 19.98it/s]\n",
      "                   all         40        150      0.777      0.239      0.213      0.105\n",
      "\n",
      "      Epoch    GPU_mem   box_loss   obj_loss   cls_loss  Instances       Size\n",
      "     25/199     0.459G    0.04787    0.02964    0.03569         12        416: 100% 81/81 [00:04<00:00, 16.46it/s]\n",
      "                 Class     Images  Instances          P          R      mAP50   mAP50-95: 100% 10/10 [00:00<00:00, 17.88it/s]\n",
      "                   all         40        150      0.784      0.214      0.219      0.105\n",
      "\n",
      "      Epoch    GPU_mem   box_loss   obj_loss   cls_loss  Instances       Size\n",
      "     26/199     0.459G    0.04574    0.02404    0.03443          4        416: 100% 81/81 [00:04<00:00, 16.31it/s]\n",
      "                 Class     Images  Instances          P          R      mAP50   mAP50-95: 100% 10/10 [00:00<00:00, 19.02it/s]\n",
      "                   all         40        150      0.762       0.27      0.205      0.095\n",
      "\n",
      "      Epoch    GPU_mem   box_loss   obj_loss   cls_loss  Instances       Size\n",
      "     27/199     0.459G    0.04646    0.02616    0.03567          2        416: 100% 81/81 [00:05<00:00, 15.89it/s]\n",
      "                 Class     Images  Instances          P          R      mAP50   mAP50-95: 100% 10/10 [00:00<00:00, 19.25it/s]\n",
      "                   all         40        150      0.795      0.264      0.226      0.113\n",
      "\n",
      "      Epoch    GPU_mem   box_loss   obj_loss   cls_loss  Instances       Size\n",
      "     28/199     0.459G    0.04472    0.02596    0.03622          0        416: 100% 81/81 [00:04<00:00, 16.65it/s]\n",
      "                 Class     Images  Instances          P          R      mAP50   mAP50-95: 100% 10/10 [00:00<00:00, 18.78it/s]\n",
      "                   all         40        150      0.786      0.263      0.231       0.11\n",
      "\n",
      "      Epoch    GPU_mem   box_loss   obj_loss   cls_loss  Instances       Size\n",
      "     29/199     0.459G      0.046    0.02528    0.03738          1        416: 100% 81/81 [00:04<00:00, 16.49it/s]\n",
      "                 Class     Images  Instances          P          R      mAP50   mAP50-95: 100% 10/10 [00:00<00:00, 19.19it/s]\n",
      "                   all         40        150      0.797       0.25      0.242      0.116\n",
      "\n",
      "      Epoch    GPU_mem   box_loss   obj_loss   cls_loss  Instances       Size\n",
      "     30/199     0.459G    0.04397    0.02936     0.0366          7        416: 100% 81/81 [00:04<00:00, 17.02it/s]\n",
      "                 Class     Images  Instances          P          R      mAP50   mAP50-95: 100% 10/10 [00:00<00:00, 18.68it/s]\n",
      "                   all         40        150      0.795      0.232      0.211     0.0917\n",
      "\n",
      "      Epoch    GPU_mem   box_loss   obj_loss   cls_loss  Instances       Size\n",
      "     31/199     0.459G    0.04463     0.0215     0.0356          5        416: 100% 81/81 [00:04<00:00, 16.42it/s]\n",
      "                 Class     Images  Instances          P          R      mAP50   mAP50-95: 100% 10/10 [00:00<00:00, 19.18it/s]\n",
      "                   all         40        150      0.789       0.26      0.233      0.106\n",
      "\n",
      "      Epoch    GPU_mem   box_loss   obj_loss   cls_loss  Instances       Size\n",
      "     32/199     0.459G    0.04054    0.02587    0.03568          8        416: 100% 81/81 [00:04<00:00, 16.58it/s]\n",
      "                 Class     Images  Instances          P          R      mAP50   mAP50-95: 100% 10/10 [00:00<00:00, 18.28it/s]\n",
      "                   all         40        150      0.797      0.261      0.232      0.116\n",
      "\n",
      "      Epoch    GPU_mem   box_loss   obj_loss   cls_loss  Instances       Size\n",
      "     33/199     0.459G    0.04493    0.02569    0.03503          1        416: 100% 81/81 [00:04<00:00, 16.52it/s]\n",
      "                 Class     Images  Instances          P          R      mAP50   mAP50-95: 100% 10/10 [00:00<00:00, 19.25it/s]\n",
      "                   all         40        150      0.808      0.252      0.249      0.115\n",
      "\n",
      "      Epoch    GPU_mem   box_loss   obj_loss   cls_loss  Instances       Size\n",
      "     34/199     0.459G    0.04404    0.02846    0.03546         10        416: 100% 81/81 [00:04<00:00, 16.91it/s]\n",
      "                 Class     Images  Instances          P          R      mAP50   mAP50-95: 100% 10/10 [00:00<00:00, 19.15it/s]\n",
      "                   all         40        150      0.804      0.277      0.261      0.134\n",
      "\n",
      "      Epoch    GPU_mem   box_loss   obj_loss   cls_loss  Instances       Size\n",
      "     35/199     0.459G    0.03985    0.02512    0.03448          0        416: 100% 81/81 [00:04<00:00, 16.46it/s]\n",
      "                 Class     Images  Instances          P          R      mAP50   mAP50-95: 100% 10/10 [00:00<00:00, 18.84it/s]\n",
      "                   all         40        150      0.801      0.286      0.266      0.137\n",
      "\n",
      "      Epoch    GPU_mem   box_loss   obj_loss   cls_loss  Instances       Size\n",
      "     36/199     0.459G    0.04461    0.02587    0.03391          1        416: 100% 81/81 [00:05<00:00, 15.64it/s]\n",
      "                 Class     Images  Instances          P          R      mAP50   mAP50-95: 100% 10/10 [00:00<00:00, 19.10it/s]\n",
      "                   all         40        150      0.828      0.251      0.276      0.145\n",
      "\n",
      "      Epoch    GPU_mem   box_loss   obj_loss   cls_loss  Instances       Size\n",
      "     37/199     0.459G    0.04261    0.02726     0.0318          4        416: 100% 81/81 [00:05<00:00, 16.04it/s]\n",
      "                 Class     Images  Instances          P          R      mAP50   mAP50-95: 100% 10/10 [00:00<00:00, 18.35it/s]\n",
      "                   all         40        150      0.822       0.24      0.264      0.131\n",
      "\n",
      "      Epoch    GPU_mem   box_loss   obj_loss   cls_loss  Instances       Size\n",
      "     38/199     0.459G    0.04324    0.02788    0.03454          1        416: 100% 81/81 [00:04<00:00, 16.23it/s]\n",
      "                 Class     Images  Instances          P          R      mAP50   mAP50-95: 100% 10/10 [00:00<00:00, 18.27it/s]\n",
      "                   all         40        150      0.571      0.333      0.243      0.129\n",
      "\n",
      "      Epoch    GPU_mem   box_loss   obj_loss   cls_loss  Instances       Size\n",
      "     39/199     0.459G    0.04157    0.02461    0.03235          2        416: 100% 81/81 [00:05<00:00, 15.82it/s]\n",
      "                 Class     Images  Instances          P          R      mAP50   mAP50-95: 100% 10/10 [00:00<00:00, 18.43it/s]\n",
      "                   all         40        150      0.593      0.272      0.256      0.117\n",
      "\n",
      "      Epoch    GPU_mem   box_loss   obj_loss   cls_loss  Instances       Size\n",
      "     40/199     0.459G    0.04328    0.02787    0.03333          3        416: 100% 81/81 [00:05<00:00, 15.97it/s]\n",
      "                 Class     Images  Instances          P          R      mAP50   mAP50-95: 100% 10/10 [00:00<00:00, 19.02it/s]\n",
      "                   all         40        150       0.57      0.296      0.247      0.122\n",
      "\n",
      "      Epoch    GPU_mem   box_loss   obj_loss   cls_loss  Instances       Size\n",
      "     41/199     0.459G    0.04098    0.02558    0.02997          2        416: 100% 81/81 [00:05<00:00, 16.11it/s]\n",
      "                 Class     Images  Instances          P          R      mAP50   mAP50-95: 100% 10/10 [00:00<00:00, 18.41it/s]\n",
      "                   all         40        150      0.571      0.235       0.23      0.116\n",
      "\n",
      "      Epoch    GPU_mem   box_loss   obj_loss   cls_loss  Instances       Size\n",
      "     42/199     0.459G    0.04417    0.02771     0.0333          1        416: 100% 81/81 [00:05<00:00, 16.10it/s]\n",
      "                 Class     Images  Instances          P          R      mAP50   mAP50-95: 100% 10/10 [00:00<00:00, 18.70it/s]\n",
      "                   all         40        150      0.587      0.259      0.263      0.133\n",
      "\n",
      "      Epoch    GPU_mem   box_loss   obj_loss   cls_loss  Instances       Size\n",
      "     43/199     0.459G    0.03902    0.02707    0.03118          3        416: 100% 81/81 [00:05<00:00, 16.16it/s]\n",
      "                 Class     Images  Instances          P          R      mAP50   mAP50-95: 100% 10/10 [00:00<00:00, 18.62it/s]\n",
      "                   all         40        150       0.81       0.24      0.266      0.145\n",
      "\n",
      "      Epoch    GPU_mem   box_loss   obj_loss   cls_loss  Instances       Size\n",
      "     44/199     0.459G    0.04108    0.02498    0.02968          1        416: 100% 81/81 [00:04<00:00, 16.94it/s]\n",
      "                 Class     Images  Instances          P          R      mAP50   mAP50-95: 100% 10/10 [00:00<00:00, 18.88it/s]\n",
      "                   all         40        150       0.58      0.295      0.282      0.133\n",
      "\n",
      "      Epoch    GPU_mem   box_loss   obj_loss   cls_loss  Instances       Size\n",
      "     45/199     0.459G     0.0396    0.02471    0.03092         13        416: 100% 81/81 [00:05<00:00, 15.97it/s]\n",
      "                 Class     Images  Instances          P          R      mAP50   mAP50-95: 100% 10/10 [00:00<00:00, 18.98it/s]\n",
      "                   all         40        150      0.577      0.303      0.275      0.135\n",
      "\n",
      "      Epoch    GPU_mem   box_loss   obj_loss   cls_loss  Instances       Size\n",
      "     46/199     0.459G     0.0418    0.02559    0.03094          2        416: 100% 81/81 [00:04<00:00, 17.15it/s]\n",
      "                 Class     Images  Instances          P          R      mAP50   mAP50-95: 100% 10/10 [00:00<00:00, 19.19it/s]\n",
      "                   all         40        150        0.8      0.273      0.272       0.14\n",
      "\n",
      "      Epoch    GPU_mem   box_loss   obj_loss   cls_loss  Instances       Size\n",
      "     47/199     0.459G    0.03903    0.02639    0.03201          3        416: 100% 81/81 [00:04<00:00, 16.26it/s]\n",
      "                 Class     Images  Instances          P          R      mAP50   mAP50-95: 100% 10/10 [00:00<00:00, 19.58it/s]\n",
      "                   all         40        150      0.594      0.274      0.272      0.136\n",
      "\n",
      "      Epoch    GPU_mem   box_loss   obj_loss   cls_loss  Instances       Size\n",
      "     48/199     0.459G    0.04186    0.02309    0.03149          2        416: 100% 81/81 [00:04<00:00, 16.51it/s]\n",
      "                 Class     Images  Instances          P          R      mAP50   mAP50-95: 100% 10/10 [00:00<00:00, 18.88it/s]\n",
      "                   all         40        150      0.607      0.285      0.278      0.142\n",
      "\n",
      "      Epoch    GPU_mem   box_loss   obj_loss   cls_loss  Instances       Size\n",
      "     49/199     0.459G     0.0362     0.0247     0.0303          1        416: 100% 81/81 [00:04<00:00, 16.22it/s]\n",
      "                 Class     Images  Instances          P          R      mAP50   mAP50-95: 100% 10/10 [00:00<00:00, 18.37it/s]\n",
      "                   all         40        150      0.819      0.277       0.28      0.149\n",
      "\n",
      "      Epoch    GPU_mem   box_loss   obj_loss   cls_loss  Instances       Size\n",
      "     50/199     0.459G    0.04022    0.02267    0.02894          6        416: 100% 81/81 [00:05<00:00, 15.77it/s]\n",
      "                 Class     Images  Instances          P          R      mAP50   mAP50-95: 100% 10/10 [00:00<00:00, 19.61it/s]\n",
      "                   all         40        150      0.826      0.271      0.287      0.134\n",
      "\n",
      "      Epoch    GPU_mem   box_loss   obj_loss   cls_loss  Instances       Size\n",
      "     51/199     0.459G    0.03879    0.02659    0.03186          7        416: 100% 81/81 [00:05<00:00, 15.69it/s]\n",
      "                 Class     Images  Instances          P          R      mAP50   mAP50-95: 100% 10/10 [00:00<00:00, 18.87it/s]\n",
      "                   all         40        150      0.833      0.269      0.278      0.141\n",
      "\n",
      "      Epoch    GPU_mem   box_loss   obj_loss   cls_loss  Instances       Size\n",
      "     52/199     0.459G    0.03868    0.02354    0.03109          2        416: 100% 81/81 [00:05<00:00, 16.10it/s]\n",
      "                 Class     Images  Instances          P          R      mAP50   mAP50-95: 100% 10/10 [00:00<00:00, 18.72it/s]\n",
      "                   all         40        150      0.783      0.269      0.233      0.124\n",
      "\n",
      "      Epoch    GPU_mem   box_loss   obj_loss   cls_loss  Instances       Size\n",
      "     53/199     0.459G     0.0392    0.02657    0.02827          8        416: 100% 81/81 [00:04<00:00, 16.46it/s]\n",
      "                 Class     Images  Instances          P          R      mAP50   mAP50-95: 100% 10/10 [00:00<00:00, 19.80it/s]\n",
      "                   all         40        150      0.624      0.271      0.265      0.136\n",
      "\n",
      "      Epoch    GPU_mem   box_loss   obj_loss   cls_loss  Instances       Size\n",
      "     54/199     0.459G    0.03742    0.02428    0.03114          3        416: 100% 81/81 [00:05<00:00, 15.88it/s]\n",
      "                 Class     Images  Instances          P          R      mAP50   mAP50-95: 100% 10/10 [00:00<00:00, 18.59it/s]\n",
      "                   all         40        150      0.611      0.289      0.265      0.129\n",
      "\n",
      "      Epoch    GPU_mem   box_loss   obj_loss   cls_loss  Instances       Size\n",
      "     55/199     0.459G    0.04163    0.02503    0.02882          2        416: 100% 81/81 [00:05<00:00, 15.93it/s]\n",
      "                 Class     Images  Instances          P          R      mAP50   mAP50-95: 100% 10/10 [00:00<00:00, 18.24it/s]\n",
      "                   all         40        150      0.609      0.298      0.274      0.145\n",
      "\n",
      "      Epoch    GPU_mem   box_loss   obj_loss   cls_loss  Instances       Size\n",
      "     56/199     0.459G    0.03818    0.02276       0.03          7        416: 100% 81/81 [00:04<00:00, 16.96it/s]\n",
      "                 Class     Images  Instances          P          R      mAP50   mAP50-95: 100% 10/10 [00:00<00:00, 18.41it/s]\n",
      "                   all         40        150      0.555       0.34      0.277      0.142\n",
      "\n",
      "      Epoch    GPU_mem   box_loss   obj_loss   cls_loss  Instances       Size\n",
      "     57/199     0.459G    0.03956    0.02636    0.03143          3        416: 100% 81/81 [00:05<00:00, 15.83it/s]\n",
      "                 Class     Images  Instances          P          R      mAP50   mAP50-95: 100% 10/10 [00:00<00:00, 18.34it/s]\n",
      "                   all         40        150      0.574      0.314      0.267       0.13\n",
      "\n",
      "      Epoch    GPU_mem   box_loss   obj_loss   cls_loss  Instances       Size\n",
      "     58/199     0.459G    0.03851    0.02379    0.02754         11        416: 100% 81/81 [00:04<00:00, 16.95it/s]\n",
      "                 Class     Images  Instances          P          R      mAP50   mAP50-95: 100% 10/10 [00:00<00:00, 19.30it/s]\n",
      "                   all         40        150      0.583      0.418      0.269      0.134\n",
      "\n",
      "      Epoch    GPU_mem   box_loss   obj_loss   cls_loss  Instances       Size\n",
      "     59/199     0.459G    0.03626    0.02342    0.02765          4        416: 100% 81/81 [00:05<00:00, 16.06it/s]\n",
      "                 Class     Images  Instances          P          R      mAP50   mAP50-95: 100% 10/10 [00:00<00:00, 19.46it/s]\n",
      "                   all         40        150      0.623      0.265      0.284      0.135\n",
      "\n",
      "      Epoch    GPU_mem   box_loss   obj_loss   cls_loss  Instances       Size\n",
      "     60/199     0.459G    0.03923    0.02418    0.02691          1        416: 100% 81/81 [00:04<00:00, 16.43it/s]\n",
      "                 Class     Images  Instances          P          R      mAP50   mAP50-95: 100% 10/10 [00:00<00:00, 19.32it/s]\n",
      "                   all         40        150        0.6      0.285      0.271      0.124\n",
      "\n",
      "      Epoch    GPU_mem   box_loss   obj_loss   cls_loss  Instances       Size\n",
      "     61/199     0.459G    0.04019    0.02274    0.02706          1        416: 100% 81/81 [00:04<00:00, 16.21it/s]\n",
      "                 Class     Images  Instances          P          R      mAP50   mAP50-95: 100% 10/10 [00:00<00:00, 19.57it/s]\n",
      "                   all         40        150      0.602      0.255      0.262      0.132\n",
      "\n",
      "      Epoch    GPU_mem   box_loss   obj_loss   cls_loss  Instances       Size\n",
      "     62/199     0.459G    0.03889    0.02528    0.02612          2        416: 100% 81/81 [00:04<00:00, 17.13it/s]\n",
      "                 Class     Images  Instances          P          R      mAP50   mAP50-95: 100% 10/10 [00:00<00:00, 18.51it/s]\n",
      "                   all         40        150      0.591      0.263      0.235      0.109\n",
      "\n",
      "      Epoch    GPU_mem   box_loss   obj_loss   cls_loss  Instances       Size\n",
      "     63/199     0.459G    0.04002    0.02424    0.02987          7        416: 100% 81/81 [00:04<00:00, 16.51it/s]\n",
      "                 Class     Images  Instances          P          R      mAP50   mAP50-95: 100% 10/10 [00:00<00:00, 18.70it/s]\n",
      "                   all         40        150      0.808      0.271      0.258      0.131\n",
      "\n",
      "      Epoch    GPU_mem   box_loss   obj_loss   cls_loss  Instances       Size\n",
      "     64/199     0.459G    0.03963    0.02645    0.02516          7        416: 100% 81/81 [00:04<00:00, 16.98it/s]\n",
      "                 Class     Images  Instances          P          R      mAP50   mAP50-95: 100% 10/10 [00:00<00:00, 19.49it/s]\n",
      "                   all         40        150       0.81      0.286      0.271      0.134\n",
      "\n",
      "      Epoch    GPU_mem   box_loss   obj_loss   cls_loss  Instances       Size\n",
      "     65/199     0.459G    0.04072    0.02393    0.03079          6        416: 100% 81/81 [00:04<00:00, 16.39it/s]\n",
      "                 Class     Images  Instances          P          R      mAP50   mAP50-95: 100% 10/10 [00:00<00:00, 19.19it/s]\n",
      "                   all         40        150      0.823      0.283      0.271      0.132\n",
      "\n",
      "      Epoch    GPU_mem   box_loss   obj_loss   cls_loss  Instances       Size\n",
      "     66/199     0.459G    0.03453    0.02298    0.02833          2        416: 100% 81/81 [00:04<00:00, 17.00it/s]\n",
      "                 Class     Images  Instances          P          R      mAP50   mAP50-95: 100% 10/10 [00:00<00:00, 19.41it/s]\n",
      "                   all         40        150      0.812      0.281      0.299      0.155\n",
      "\n",
      "      Epoch    GPU_mem   box_loss   obj_loss   cls_loss  Instances       Size\n",
      "     67/199     0.459G    0.03737    0.02415    0.02669          5        416: 100% 81/81 [00:04<00:00, 16.57it/s]\n",
      "                 Class     Images  Instances          P          R      mAP50   mAP50-95: 100% 10/10 [00:00<00:00, 19.71it/s]\n",
      "                   all         40        150      0.588      0.528        0.3      0.156\n",
      "\n",
      "      Epoch    GPU_mem   box_loss   obj_loss   cls_loss  Instances       Size\n",
      "     68/199     0.459G    0.03874    0.02294    0.02606          5        416: 100% 81/81 [00:04<00:00, 16.29it/s]\n",
      "                 Class     Images  Instances          P          R      mAP50   mAP50-95: 100% 10/10 [00:00<00:00, 19.76it/s]\n",
      "                   all         40        150      0.808       0.27      0.283      0.143\n",
      "\n",
      "      Epoch    GPU_mem   box_loss   obj_loss   cls_loss  Instances       Size\n",
      "     69/199     0.459G    0.03647    0.02367    0.02719          6        416: 100% 81/81 [00:04<00:00, 16.47it/s]\n",
      "                 Class     Images  Instances          P          R      mAP50   mAP50-95: 100% 10/10 [00:00<00:00, 18.94it/s]\n",
      "                   all         40        150      0.572      0.323       0.29      0.147\n",
      "\n",
      "      Epoch    GPU_mem   box_loss   obj_loss   cls_loss  Instances       Size\n",
      "     70/199     0.459G    0.03796    0.02399     0.0266          0        416: 100% 81/81 [00:04<00:00, 17.04it/s]\n",
      "                 Class     Images  Instances          P          R      mAP50   mAP50-95: 100% 10/10 [00:00<00:00, 20.07it/s]\n",
      "                   all         40        150      0.579      0.538      0.297      0.158\n",
      "\n",
      "      Epoch    GPU_mem   box_loss   obj_loss   cls_loss  Instances       Size\n",
      "     71/199     0.459G    0.03649    0.02574    0.02783         10        416: 100% 81/81 [00:04<00:00, 16.49it/s]\n",
      "                 Class     Images  Instances          P          R      mAP50   mAP50-95: 100% 10/10 [00:00<00:00, 18.82it/s]\n",
      "                   all         40        150      0.551      0.556      0.295      0.143\n",
      "\n",
      "      Epoch    GPU_mem   box_loss   obj_loss   cls_loss  Instances       Size\n",
      "     72/199     0.459G    0.03727    0.02494    0.02698         16        416: 100% 81/81 [00:04<00:00, 17.10it/s]\n",
      "                 Class     Images  Instances          P          R      mAP50   mAP50-95: 100% 10/10 [00:00<00:00, 19.09it/s]\n",
      "                   all         40        150      0.512      0.354      0.301      0.152\n",
      "\n",
      "      Epoch    GPU_mem   box_loss   obj_loss   cls_loss  Instances       Size\n",
      "     73/199     0.459G    0.03471    0.02517    0.02554         24        416: 100% 81/81 [00:04<00:00, 16.69it/s]\n",
      "                 Class     Images  Instances          P          R      mAP50   mAP50-95: 100% 10/10 [00:00<00:00, 17.52it/s]\n",
      "                   all         40        150      0.584      0.533      0.308      0.152\n",
      "\n",
      "      Epoch    GPU_mem   box_loss   obj_loss   cls_loss  Instances       Size\n",
      "     74/199     0.459G    0.03533     0.0272    0.02881          7        416: 100% 81/81 [00:04<00:00, 16.83it/s]\n",
      "                 Class     Images  Instances          P          R      mAP50   mAP50-95: 100% 10/10 [00:00<00:00, 19.73it/s]\n",
      "                   all         40        150      0.642      0.276      0.309      0.148\n",
      "\n",
      "      Epoch    GPU_mem   box_loss   obj_loss   cls_loss  Instances       Size\n",
      "     75/199     0.459G    0.03638    0.02455    0.02553          1        416: 100% 81/81 [00:04<00:00, 16.85it/s]\n",
      "                 Class     Images  Instances          P          R      mAP50   mAP50-95: 100% 10/10 [00:00<00:00, 18.69it/s]\n",
      "                   all         40        150      0.858      0.265      0.308      0.155\n",
      "\n",
      "      Epoch    GPU_mem   box_loss   obj_loss   cls_loss  Instances       Size\n",
      "     76/199     0.459G    0.03617    0.02403    0.02635         10        416: 100% 81/81 [00:04<00:00, 16.64it/s]\n",
      "                 Class     Images  Instances          P          R      mAP50   mAP50-95: 100% 10/10 [00:00<00:00, 18.92it/s]\n",
      "                   all         40        150      0.855      0.257       0.31      0.159\n",
      "\n",
      "      Epoch    GPU_mem   box_loss   obj_loss   cls_loss  Instances       Size\n",
      "     77/199     0.459G    0.03463    0.02475    0.02847          3        416: 100% 81/81 [00:05<00:00, 15.94it/s]\n",
      "                 Class     Images  Instances          P          R      mAP50   mAP50-95: 100% 10/10 [00:00<00:00, 18.37it/s]\n",
      "                   all         40        150      0.622      0.283       0.29      0.155\n",
      "\n",
      "      Epoch    GPU_mem   box_loss   obj_loss   cls_loss  Instances       Size\n",
      "     78/199     0.459G    0.03689    0.02503     0.0237          9        416: 100% 81/81 [00:04<00:00, 16.85it/s]\n",
      "                 Class     Images  Instances          P          R      mAP50   mAP50-95: 100% 10/10 [00:00<00:00, 19.26it/s]\n",
      "                   all         40        150      0.566      0.547      0.289       0.15\n",
      "\n",
      "      Epoch    GPU_mem   box_loss   obj_loss   cls_loss  Instances       Size\n",
      "     79/199     0.459G    0.03433    0.02124    0.02514          1        416: 100% 81/81 [00:04<00:00, 17.25it/s]\n",
      "                 Class     Images  Instances          P          R      mAP50   mAP50-95: 100% 10/10 [00:00<00:00, 17.85it/s]\n",
      "                   all         40        150      0.581      0.527      0.288      0.152\n",
      "\n",
      "      Epoch    GPU_mem   box_loss   obj_loss   cls_loss  Instances       Size\n",
      "     80/199     0.459G    0.03581    0.02569    0.02554          6        416: 100% 81/81 [00:04<00:00, 16.87it/s]\n",
      "                 Class     Images  Instances          P          R      mAP50   mAP50-95: 100% 10/10 [00:00<00:00, 18.47it/s]\n",
      "                   all         40        150      0.567      0.538      0.296      0.151\n",
      "\n",
      "      Epoch    GPU_mem   box_loss   obj_loss   cls_loss  Instances       Size\n",
      "     81/199     0.459G    0.03435    0.02285    0.02325         13        416: 100% 81/81 [00:04<00:00, 16.97it/s]\n",
      "                 Class     Images  Instances          P          R      mAP50   mAP50-95: 100% 10/10 [00:00<00:00, 19.21it/s]\n",
      "                   all         40        150      0.509      0.534      0.267      0.141\n",
      "\n",
      "      Epoch    GPU_mem   box_loss   obj_loss   cls_loss  Instances       Size\n",
      "     82/199     0.459G    0.03664    0.02536    0.02584          5        416: 100% 81/81 [00:04<00:00, 16.64it/s]\n",
      "                 Class     Images  Instances          P          R      mAP50   mAP50-95: 100% 10/10 [00:00<00:00, 20.07it/s]\n",
      "                   all         40        150       0.56      0.537      0.276      0.145\n",
      "\n",
      "      Epoch    GPU_mem   box_loss   obj_loss   cls_loss  Instances       Size\n",
      "     83/199     0.459G    0.03488    0.02426    0.02431          2        416: 100% 81/81 [00:04<00:00, 17.03it/s]\n",
      "                 Class     Images  Instances          P          R      mAP50   mAP50-95: 100% 10/10 [00:00<00:00, 18.19it/s]\n",
      "                   all         40        150      0.555      0.563        0.3      0.162\n",
      "\n",
      "      Epoch    GPU_mem   box_loss   obj_loss   cls_loss  Instances       Size\n",
      "     84/199     0.459G    0.03429    0.02361    0.02504          3        416: 100% 81/81 [00:04<00:00, 16.96it/s]\n",
      "                 Class     Images  Instances          P          R      mAP50   mAP50-95: 100% 10/10 [00:00<00:00, 20.04it/s]\n",
      "                   all         40        150      0.554      0.568      0.299      0.159\n",
      "\n",
      "      Epoch    GPU_mem   box_loss   obj_loss   cls_loss  Instances       Size\n",
      "     85/199     0.459G    0.03477    0.02281    0.02447          1        416: 100% 81/81 [00:04<00:00, 16.93it/s]\n",
      "                 Class     Images  Instances          P          R      mAP50   mAP50-95: 100% 10/10 [00:00<00:00, 19.54it/s]\n",
      "                   all         40        150      0.562      0.552      0.312      0.166\n",
      "\n",
      "      Epoch    GPU_mem   box_loss   obj_loss   cls_loss  Instances       Size\n",
      "     86/199     0.459G    0.03585    0.02373    0.02477          1        416: 100% 81/81 [00:04<00:00, 16.63it/s]\n",
      "                 Class     Images  Instances          P          R      mAP50   mAP50-95: 100% 10/10 [00:00<00:00, 19.45it/s]\n",
      "                   all         40        150      0.523      0.545      0.299      0.156\n",
      "\n",
      "      Epoch    GPU_mem   box_loss   obj_loss   cls_loss  Instances       Size\n",
      "     87/199     0.459G    0.03547    0.02441    0.02643          8        416: 100% 81/81 [00:04<00:00, 16.87it/s]\n",
      "                 Class     Images  Instances          P          R      mAP50   mAP50-95: 100% 10/10 [00:00<00:00, 18.41it/s]\n",
      "                   all         40        150      0.517       0.52       0.29       0.16\n",
      "\n",
      "      Epoch    GPU_mem   box_loss   obj_loss   cls_loss  Instances       Size\n",
      "     88/199     0.459G    0.03498    0.02366    0.02793          6        416: 100% 81/81 [00:05<00:00, 15.82it/s]\n",
      "                 Class     Images  Instances          P          R      mAP50   mAP50-95: 100% 10/10 [00:00<00:00, 19.83it/s]\n",
      "                   all         40        150      0.562      0.541      0.294      0.161\n",
      "\n",
      "      Epoch    GPU_mem   box_loss   obj_loss   cls_loss  Instances       Size\n",
      "     89/199     0.459G    0.03332    0.02124    0.02294          1        416: 100% 81/81 [00:04<00:00, 17.20it/s]\n",
      "                 Class     Images  Instances          P          R      mAP50   mAP50-95: 100% 10/10 [00:00<00:00, 20.55it/s]\n",
      "                   all         40        150      0.572      0.551      0.307      0.164\n",
      "\n",
      "      Epoch    GPU_mem   box_loss   obj_loss   cls_loss  Instances       Size\n",
      "     90/199     0.459G    0.03506    0.02661    0.02557         10        416: 100% 81/81 [00:05<00:00, 15.71it/s]\n",
      "                 Class     Images  Instances          P          R      mAP50   mAP50-95: 100% 10/10 [00:00<00:00, 18.78it/s]\n",
      "                   all         40        150      0.573      0.548      0.319       0.17\n",
      "\n",
      "      Epoch    GPU_mem   box_loss   obj_loss   cls_loss  Instances       Size\n",
      "     91/199     0.459G    0.03648    0.02539    0.02433          7        416: 100% 81/81 [00:05<00:00, 15.93it/s]\n",
      "                 Class     Images  Instances          P          R      mAP50   mAP50-95: 100% 10/10 [00:00<00:00, 19.46it/s]\n",
      "                   all         40        150      0.575      0.566      0.321      0.171\n",
      "\n",
      "      Epoch    GPU_mem   box_loss   obj_loss   cls_loss  Instances       Size\n",
      "     92/199     0.459G    0.03164     0.0213    0.02541          3        416: 100% 81/81 [00:04<00:00, 16.63it/s]\n",
      "                 Class     Images  Instances          P          R      mAP50   mAP50-95: 100% 10/10 [00:00<00:00, 19.10it/s]\n",
      "                   all         40        150      0.582       0.58      0.315      0.173\n",
      "\n",
      "      Epoch    GPU_mem   box_loss   obj_loss   cls_loss  Instances       Size\n",
      "     93/199     0.459G    0.03407    0.02356     0.0241         11        416: 100% 81/81 [00:04<00:00, 16.32it/s]\n",
      "                 Class     Images  Instances          P          R      mAP50   mAP50-95: 100% 10/10 [00:00<00:00, 20.52it/s]\n",
      "                   all         40        150      0.578      0.576      0.315      0.163\n",
      "\n",
      "      Epoch    GPU_mem   box_loss   obj_loss   cls_loss  Instances       Size\n",
      "     94/199     0.459G    0.03476     0.0243    0.02123          5        416: 100% 81/81 [00:05<00:00, 16.08it/s]\n",
      "                 Class     Images  Instances          P          R      mAP50   mAP50-95: 100% 10/10 [00:00<00:00, 19.51it/s]\n",
      "                   all         40        150      0.559      0.588      0.317      0.168\n",
      "\n",
      "      Epoch    GPU_mem   box_loss   obj_loss   cls_loss  Instances       Size\n",
      "     95/199     0.459G    0.03447    0.02316    0.02506          8        416: 100% 81/81 [00:04<00:00, 16.44it/s]\n",
      "                 Class     Images  Instances          P          R      mAP50   mAP50-95: 100% 10/10 [00:00<00:00, 18.71it/s]\n",
      "                   all         40        150      0.531      0.597      0.328      0.166\n",
      "\n",
      "      Epoch    GPU_mem   box_loss   obj_loss   cls_loss  Instances       Size\n",
      "     96/199     0.459G    0.03348     0.0227    0.02447          0        416: 100% 81/81 [00:04<00:00, 16.63it/s]\n",
      "                 Class     Images  Instances          P          R      mAP50   mAP50-95: 100% 10/10 [00:00<00:00, 17.64it/s]\n",
      "                   all         40        150      0.556      0.595      0.338      0.176\n",
      "\n",
      "      Epoch    GPU_mem   box_loss   obj_loss   cls_loss  Instances       Size\n",
      "     97/199     0.459G     0.0338    0.02168    0.02492          7        416: 100% 81/81 [00:04<00:00, 16.90it/s]\n",
      "                 Class     Images  Instances          P          R      mAP50   mAP50-95: 100% 10/10 [00:00<00:00, 19.57it/s]\n",
      "                   all         40        150      0.526       0.59      0.359      0.184\n",
      "\n",
      "      Epoch    GPU_mem   box_loss   obj_loss   cls_loss  Instances       Size\n",
      "     98/199     0.459G     0.0323    0.02235    0.02353          4        416: 100% 81/81 [00:05<00:00, 16.02it/s]\n",
      "                 Class     Images  Instances          P          R      mAP50   mAP50-95: 100% 10/10 [00:00<00:00, 19.96it/s]\n",
      "                   all         40        150      0.535      0.595      0.367      0.188\n",
      "\n",
      "      Epoch    GPU_mem   box_loss   obj_loss   cls_loss  Instances       Size\n",
      "     99/199     0.459G    0.03362    0.02319    0.02351          4        416: 100% 81/81 [00:04<00:00, 16.44it/s]\n",
      "                 Class     Images  Instances          P          R      mAP50   mAP50-95: 100% 10/10 [00:00<00:00, 19.05it/s]\n",
      "                   all         40        150       0.53      0.592      0.355      0.188\n",
      "\n",
      "      Epoch    GPU_mem   box_loss   obj_loss   cls_loss  Instances       Size\n",
      "    100/199     0.459G    0.03269    0.02383    0.02078          6        416: 100% 81/81 [00:04<00:00, 16.40it/s]\n",
      "                 Class     Images  Instances          P          R      mAP50   mAP50-95: 100% 10/10 [00:00<00:00, 19.91it/s]\n",
      "                   all         40        150      0.526      0.475      0.359      0.195\n",
      "\n",
      "      Epoch    GPU_mem   box_loss   obj_loss   cls_loss  Instances       Size\n",
      "    101/199     0.459G    0.03502    0.02166    0.02266          6        416: 100% 81/81 [00:04<00:00, 17.01it/s]\n",
      "                 Class     Images  Instances          P          R      mAP50   mAP50-95: 100% 10/10 [00:00<00:00, 20.37it/s]\n",
      "                   all         40        150      0.545      0.505      0.344      0.179\n",
      "\n",
      "      Epoch    GPU_mem   box_loss   obj_loss   cls_loss  Instances       Size\n",
      "    102/199     0.459G    0.03399    0.02065    0.02008          4        416: 100% 81/81 [00:04<00:00, 16.43it/s]\n",
      "                 Class     Images  Instances          P          R      mAP50   mAP50-95: 100% 10/10 [00:00<00:00, 19.01it/s]\n",
      "                   all         40        150      0.523      0.575      0.327      0.174\n",
      "\n",
      "      Epoch    GPU_mem   box_loss   obj_loss   cls_loss  Instances       Size\n",
      "    103/199     0.459G    0.03295     0.0221    0.02184          1        416: 100% 81/81 [00:04<00:00, 16.75it/s]\n",
      "                 Class     Images  Instances          P          R      mAP50   mAP50-95: 100% 10/10 [00:00<00:00, 19.09it/s]\n",
      "                   all         40        150      0.532      0.582      0.325      0.175\n",
      "\n",
      "      Epoch    GPU_mem   box_loss   obj_loss   cls_loss  Instances       Size\n",
      "    104/199     0.459G    0.03282    0.02293    0.02596          9        416: 100% 81/81 [00:04<00:00, 16.47it/s]\n",
      "                 Class     Images  Instances          P          R      mAP50   mAP50-95: 100% 10/10 [00:00<00:00, 20.62it/s]\n",
      "                   all         40        150      0.562      0.598      0.312      0.165\n",
      "\n",
      "      Epoch    GPU_mem   box_loss   obj_loss   cls_loss  Instances       Size\n",
      "    105/199     0.459G    0.03189    0.02289    0.02476          0        416: 100% 81/81 [00:04<00:00, 17.27it/s]\n",
      "                 Class     Images  Instances          P          R      mAP50   mAP50-95: 100% 10/10 [00:00<00:00, 19.63it/s]\n",
      "                   all         40        150      0.559       0.59      0.312      0.165\n",
      "\n",
      "      Epoch    GPU_mem   box_loss   obj_loss   cls_loss  Instances       Size\n",
      "    106/199     0.459G    0.03375    0.02228    0.02163         17        416: 100% 81/81 [00:05<00:00, 15.79it/s]\n",
      "                 Class     Images  Instances          P          R      mAP50   mAP50-95: 100% 10/10 [00:00<00:00, 19.51it/s]\n",
      "                   all         40        150      0.512      0.566      0.309      0.171\n",
      "\n",
      "      Epoch    GPU_mem   box_loss   obj_loss   cls_loss  Instances       Size\n",
      "    107/199     0.459G    0.03296     0.0227    0.02427          6        416: 100% 81/81 [00:04<00:00, 16.44it/s]\n",
      "                 Class     Images  Instances          P          R      mAP50   mAP50-95: 100% 10/10 [00:00<00:00, 20.34it/s]\n",
      "                   all         40        150      0.312      0.577      0.321      0.169\n",
      "\n",
      "      Epoch    GPU_mem   box_loss   obj_loss   cls_loss  Instances       Size\n",
      "    108/199     0.459G    0.03176    0.02111    0.02045         13        416: 100% 81/81 [00:05<00:00, 16.10it/s]\n",
      "                 Class     Images  Instances          P          R      mAP50   mAP50-95: 100% 10/10 [00:00<00:00, 18.77it/s]\n",
      "                   all         40        150      0.512      0.569      0.315      0.163\n",
      "\n",
      "      Epoch    GPU_mem   box_loss   obj_loss   cls_loss  Instances       Size\n",
      "    109/199     0.459G    0.03237    0.02222    0.02149         11        416: 100% 81/81 [00:04<00:00, 16.74it/s]\n",
      "                 Class     Images  Instances          P          R      mAP50   mAP50-95: 100% 10/10 [00:00<00:00, 19.59it/s]\n",
      "                   all         40        150      0.298        0.6      0.314      0.168\n",
      "\n",
      "      Epoch    GPU_mem   box_loss   obj_loss   cls_loss  Instances       Size\n",
      "    110/199     0.459G    0.03339    0.02296    0.02141          3        416: 100% 81/81 [00:04<00:00, 16.21it/s]\n",
      "                 Class     Images  Instances          P          R      mAP50   mAP50-95: 100% 10/10 [00:00<00:00, 19.52it/s]\n",
      "                   all         40        150      0.306      0.587      0.318      0.174\n",
      "\n",
      "      Epoch    GPU_mem   box_loss   obj_loss   cls_loss  Instances       Size\n",
      "    111/199     0.459G    0.03137    0.02266    0.02216          5        416: 100% 81/81 [00:04<00:00, 17.44it/s]\n",
      "                 Class     Images  Instances          P          R      mAP50   mAP50-95: 100% 10/10 [00:00<00:00, 19.97it/s]\n",
      "                   all         40        150      0.551       0.57       0.33      0.188\n",
      "\n",
      "      Epoch    GPU_mem   box_loss   obj_loss   cls_loss  Instances       Size\n",
      "    112/199     0.459G    0.03281     0.0229     0.0236          8        416: 100% 81/81 [00:04<00:00, 16.41it/s]\n",
      "                 Class     Images  Instances          P          R      mAP50   mAP50-95: 100% 10/10 [00:00<00:00, 20.03it/s]\n",
      "                   all         40        150      0.589      0.577      0.342      0.187\n",
      "\n",
      "      Epoch    GPU_mem   box_loss   obj_loss   cls_loss  Instances       Size\n",
      "    113/199     0.459G    0.03233     0.0209    0.02182          1        416: 100% 81/81 [00:04<00:00, 17.13it/s]\n",
      "                 Class     Images  Instances          P          R      mAP50   mAP50-95: 100% 10/10 [00:00<00:00, 19.06it/s]\n",
      "                   all         40        150      0.325      0.622      0.363      0.201\n",
      "\n",
      "      Epoch    GPU_mem   box_loss   obj_loss   cls_loss  Instances       Size\n",
      "    114/199     0.459G     0.0328    0.02365    0.02318          7        416: 100% 81/81 [00:04<00:00, 16.84it/s]\n",
      "                 Class     Images  Instances          P          R      mAP50   mAP50-95: 100% 10/10 [00:00<00:00, 18.71it/s]\n",
      "                   all         40        150      0.306      0.577       0.35      0.183\n",
      "\n",
      "      Epoch    GPU_mem   box_loss   obj_loss   cls_loss  Instances       Size\n",
      "    115/199     0.459G    0.03197    0.02054    0.02422          6        416: 100% 81/81 [00:04<00:00, 17.12it/s]\n",
      "                 Class     Images  Instances          P          R      mAP50   mAP50-95: 100% 10/10 [00:00<00:00, 19.38it/s]\n",
      "                   all         40        150       0.37      0.617      0.376       0.19\n",
      "\n",
      "      Epoch    GPU_mem   box_loss   obj_loss   cls_loss  Instances       Size\n",
      "    116/199     0.459G    0.03125    0.02187    0.02157          4        416: 100% 81/81 [00:04<00:00, 16.32it/s]\n",
      "                 Class     Images  Instances          P          R      mAP50   mAP50-95: 100% 10/10 [00:00<00:00, 19.07it/s]\n",
      "                   all         40        150      0.382      0.403      0.376      0.198\n",
      "\n",
      "      Epoch    GPU_mem   box_loss   obj_loss   cls_loss  Instances       Size\n",
      "    117/199     0.459G    0.03219    0.02294    0.02295          1        416: 100% 81/81 [00:04<00:00, 16.76it/s]\n",
      "                 Class     Images  Instances          P          R      mAP50   mAP50-95: 100% 10/10 [00:00<00:00, 19.19it/s]\n",
      "                   all         40        150      0.544      0.372      0.361      0.199\n",
      "\n",
      "      Epoch    GPU_mem   box_loss   obj_loss   cls_loss  Instances       Size\n",
      "    118/199     0.459G    0.03104    0.02121    0.02342          7        416: 100% 81/81 [00:04<00:00, 17.02it/s]\n",
      "                 Class     Images  Instances          P          R      mAP50   mAP50-95: 100% 10/10 [00:00<00:00, 18.83it/s]\n",
      "                   all         40        150       0.29      0.607      0.358       0.19\n",
      "\n",
      "      Epoch    GPU_mem   box_loss   obj_loss   cls_loss  Instances       Size\n",
      "    119/199     0.459G    0.03298    0.02262    0.02047          2        416: 100% 81/81 [00:04<00:00, 16.70it/s]\n",
      "                 Class     Images  Instances          P          R      mAP50   mAP50-95: 100% 10/10 [00:00<00:00, 19.32it/s]\n",
      "                   all         40        150      0.573      0.371      0.361      0.194\n",
      "\n",
      "      Epoch    GPU_mem   box_loss   obj_loss   cls_loss  Instances       Size\n",
      "    120/199     0.459G    0.03246    0.02307    0.02144          3        416: 100% 81/81 [00:04<00:00, 16.53it/s]\n",
      "                 Class     Images  Instances          P          R      mAP50   mAP50-95: 100% 10/10 [00:00<00:00, 19.19it/s]\n",
      "                   all         40        150      0.379        0.4      0.373      0.199\n",
      "\n",
      "      Epoch    GPU_mem   box_loss   obj_loss   cls_loss  Instances       Size\n",
      "    121/199     0.459G     0.0323    0.02182      0.021          3        416: 100% 81/81 [00:04<00:00, 16.86it/s]\n",
      "                 Class     Images  Instances          P          R      mAP50   mAP50-95: 100% 10/10 [00:00<00:00, 19.27it/s]\n",
      "                   all         40        150      0.364      0.396      0.357      0.195\n",
      "\n",
      "      Epoch    GPU_mem   box_loss   obj_loss   cls_loss  Instances       Size\n",
      "    122/199     0.459G    0.03165    0.02394    0.02279         11        416: 100% 81/81 [00:04<00:00, 16.93it/s]\n",
      "                 Class     Images  Instances          P          R      mAP50   mAP50-95: 100% 10/10 [00:00<00:00, 19.00it/s]\n",
      "                   all         40        150      0.362      0.393      0.343      0.189\n",
      "\n",
      "      Epoch    GPU_mem   box_loss   obj_loss   cls_loss  Instances       Size\n",
      "    123/199     0.459G    0.03113    0.02276    0.02198          1        416: 100% 81/81 [00:04<00:00, 17.30it/s]\n",
      "                 Class     Images  Instances          P          R      mAP50   mAP50-95: 100% 10/10 [00:00<00:00, 19.97it/s]\n",
      "                   all         40        150      0.401       0.35      0.346      0.183\n",
      "\n",
      "      Epoch    GPU_mem   box_loss   obj_loss   cls_loss  Instances       Size\n",
      "    124/199     0.459G    0.03137    0.02182    0.01954         14        416: 100% 81/81 [00:04<00:00, 16.55it/s]\n",
      "                 Class     Images  Instances          P          R      mAP50   mAP50-95: 100% 10/10 [00:00<00:00, 19.53it/s]\n",
      "                   all         40        150      0.405      0.343       0.34      0.179\n",
      "\n",
      "      Epoch    GPU_mem   box_loss   obj_loss   cls_loss  Instances       Size\n",
      "    125/199     0.459G    0.03192    0.02033    0.02028         14        416: 100% 81/81 [00:04<00:00, 16.95it/s]\n",
      "                 Class     Images  Instances          P          R      mAP50   mAP50-95: 100% 10/10 [00:00<00:00, 19.75it/s]\n",
      "                   all         40        150      0.374      0.341      0.342      0.179\n",
      "\n",
      "      Epoch    GPU_mem   box_loss   obj_loss   cls_loss  Instances       Size\n",
      "    126/199     0.459G    0.03082    0.02272    0.01981          5        416: 100% 81/81 [00:04<00:00, 17.16it/s]\n",
      "                 Class     Images  Instances          P          R      mAP50   mAP50-95: 100% 10/10 [00:00<00:00, 19.52it/s]\n",
      "                   all         40        150      0.282      0.612      0.343      0.171\n",
      "\n",
      "      Epoch    GPU_mem   box_loss   obj_loss   cls_loss  Instances       Size\n",
      "    127/199     0.459G    0.03243    0.02188    0.02044          2        416: 100% 81/81 [00:04<00:00, 16.68it/s]\n",
      "                 Class     Images  Instances          P          R      mAP50   mAP50-95: 100% 10/10 [00:00<00:00, 18.75it/s]\n",
      "                   all         40        150      0.299      0.603      0.351       0.18\n",
      "\n",
      "      Epoch    GPU_mem   box_loss   obj_loss   cls_loss  Instances       Size\n",
      "    128/199     0.459G    0.03067    0.02259     0.0217          1        416: 100% 81/81 [00:04<00:00, 16.37it/s]\n",
      "                 Class     Images  Instances          P          R      mAP50   mAP50-95: 100% 10/10 [00:00<00:00, 18.65it/s]\n",
      "                   all         40        150      0.358       0.32       0.34      0.174\n",
      "\n",
      "      Epoch    GPU_mem   box_loss   obj_loss   cls_loss  Instances       Size\n",
      "    129/199     0.459G    0.03071    0.02039    0.01908          9        416: 100% 81/81 [00:04<00:00, 16.29it/s]\n",
      "                 Class     Images  Instances          P          R      mAP50   mAP50-95: 100% 10/10 [00:00<00:00, 19.41it/s]\n",
      "                   all         40        150      0.276      0.401      0.336      0.164\n",
      "\n",
      "      Epoch    GPU_mem   box_loss   obj_loss   cls_loss  Instances       Size\n",
      "    130/199     0.459G    0.03083    0.02298    0.02236          6        416: 100% 81/81 [00:04<00:00, 17.21it/s]\n",
      "                 Class     Images  Instances          P          R      mAP50   mAP50-95: 100% 10/10 [00:00<00:00, 19.30it/s]\n",
      "                   all         40        150      0.315      0.452      0.353      0.181\n",
      "\n",
      "      Epoch    GPU_mem   box_loss   obj_loss   cls_loss  Instances       Size\n",
      "    131/199     0.459G    0.02993    0.02138     0.0195          4        416: 100% 81/81 [00:04<00:00, 17.15it/s]\n",
      "                 Class     Images  Instances          P          R      mAP50   mAP50-95: 100% 10/10 [00:00<00:00, 19.35it/s]\n",
      "                   all         40        150      0.276      0.467      0.338      0.187\n",
      "\n",
      "      Epoch    GPU_mem   box_loss   obj_loss   cls_loss  Instances       Size\n",
      "    132/199     0.459G    0.03077    0.02242     0.0207          5        416: 100% 81/81 [00:04<00:00, 16.84it/s]\n",
      "                 Class     Images  Instances          P          R      mAP50   mAP50-95: 100% 10/10 [00:00<00:00, 19.75it/s]\n",
      "                   all         40        150      0.284      0.397      0.329      0.166\n",
      "\n",
      "      Epoch    GPU_mem   box_loss   obj_loss   cls_loss  Instances       Size\n",
      "    133/199     0.459G    0.03061     0.0215    0.01752          0        416: 100% 81/81 [00:04<00:00, 16.72it/s]\n",
      "                 Class     Images  Instances          P          R      mAP50   mAP50-95: 100% 10/10 [00:00<00:00, 19.08it/s]\n",
      "                   all         40        150      0.346      0.335      0.331      0.164\n",
      "\n",
      "      Epoch    GPU_mem   box_loss   obj_loss   cls_loss  Instances       Size\n",
      "    134/199     0.459G    0.03023    0.01992    0.02108          1        416: 100% 81/81 [00:04<00:00, 16.54it/s]\n",
      "                 Class     Images  Instances          P          R      mAP50   mAP50-95: 100% 10/10 [00:00<00:00, 18.44it/s]\n",
      "                   all         40        150      0.289        0.6      0.323      0.177\n",
      "\n",
      "      Epoch    GPU_mem   box_loss   obj_loss   cls_loss  Instances       Size\n",
      "    135/199     0.459G    0.03097     0.0223    0.02246          1        416: 100% 81/81 [00:04<00:00, 16.64it/s]\n",
      "                 Class     Images  Instances          P          R      mAP50   mAP50-95: 100% 10/10 [00:00<00:00, 19.85it/s]\n",
      "                   all         40        150       0.31      0.393      0.344      0.183\n",
      "\n",
      "      Epoch    GPU_mem   box_loss   obj_loss   cls_loss  Instances       Size\n",
      "    136/199     0.459G    0.02881    0.01907    0.02073          1        416: 100% 81/81 [00:04<00:00, 17.34it/s]\n",
      "                 Class     Images  Instances          P          R      mAP50   mAP50-95: 100% 10/10 [00:00<00:00, 19.96it/s]\n",
      "                   all         40        150      0.312      0.411      0.351      0.186\n",
      "\n",
      "      Epoch    GPU_mem   box_loss   obj_loss   cls_loss  Instances       Size\n",
      "    137/199     0.459G    0.02939    0.02025    0.02019          8        416: 100% 81/81 [00:04<00:00, 16.94it/s]\n",
      "                 Class     Images  Instances          P          R      mAP50   mAP50-95: 100% 10/10 [00:00<00:00, 18.96it/s]\n",
      "                   all         40        150       0.34        0.6      0.343      0.182\n",
      "\n",
      "      Epoch    GPU_mem   box_loss   obj_loss   cls_loss  Instances       Size\n",
      "    138/199     0.459G    0.02812    0.01986    0.02187          7        416: 100% 81/81 [00:04<00:00, 16.57it/s]\n",
      "                 Class     Images  Instances          P          R      mAP50   mAP50-95: 100% 10/10 [00:00<00:00, 19.76it/s]\n",
      "                   all         40        150      0.323      0.589      0.341      0.182\n",
      "\n",
      "      Epoch    GPU_mem   box_loss   obj_loss   cls_loss  Instances       Size\n",
      "    139/199     0.459G    0.02958    0.02109    0.01896          4        416: 100% 81/81 [00:04<00:00, 16.56it/s]\n",
      "                 Class     Images  Instances          P          R      mAP50   mAP50-95: 100% 10/10 [00:00<00:00, 19.12it/s]\n",
      "                   all         40        150      0.311      0.606       0.35      0.187\n",
      "\n",
      "      Epoch    GPU_mem   box_loss   obj_loss   cls_loss  Instances       Size\n",
      "    140/199     0.459G     0.0301    0.02322    0.02107          4        416: 100% 81/81 [00:04<00:00, 17.15it/s]\n",
      "                 Class     Images  Instances          P          R      mAP50   mAP50-95: 100% 10/10 [00:00<00:00, 19.49it/s]\n",
      "                   all         40        150       0.35      0.372      0.343      0.184\n",
      "\n",
      "      Epoch    GPU_mem   box_loss   obj_loss   cls_loss  Instances       Size\n",
      "    141/199     0.459G    0.02952    0.01968     0.0161          4        416: 100% 81/81 [00:04<00:00, 16.61it/s]\n",
      "                 Class     Images  Instances          P          R      mAP50   mAP50-95: 100% 10/10 [00:00<00:00, 18.41it/s]\n",
      "                   all         40        150      0.322      0.479      0.346      0.187\n",
      "\n",
      "      Epoch    GPU_mem   box_loss   obj_loss   cls_loss  Instances       Size\n",
      "    142/199     0.459G    0.02967    0.02068    0.01964          3        416: 100% 81/81 [00:04<00:00, 17.15it/s]\n",
      "                 Class     Images  Instances          P          R      mAP50   mAP50-95: 100% 10/10 [00:00<00:00, 19.51it/s]\n",
      "                   all         40        150      0.337      0.475       0.36       0.18\n",
      "\n",
      "      Epoch    GPU_mem   box_loss   obj_loss   cls_loss  Instances       Size\n",
      "    143/199     0.459G    0.02819     0.0203     0.0209         15        416: 100% 81/81 [00:05<00:00, 16.10it/s]\n",
      "                 Class     Images  Instances          P          R      mAP50   mAP50-95: 100% 10/10 [00:00<00:00, 18.55it/s]\n",
      "                   all         40        150      0.316      0.497      0.355      0.185\n",
      "\n",
      "      Epoch    GPU_mem   box_loss   obj_loss   cls_loss  Instances       Size\n",
      "    144/199     0.459G    0.03169    0.02271    0.01961          1        416: 100% 81/81 [00:04<00:00, 17.11it/s]\n",
      "                 Class     Images  Instances          P          R      mAP50   mAP50-95: 100% 10/10 [00:00<00:00, 19.99it/s]\n",
      "                   all         40        150      0.308       0.44      0.371      0.198\n",
      "\n",
      "      Epoch    GPU_mem   box_loss   obj_loss   cls_loss  Instances       Size\n",
      "    145/199     0.459G     0.0301     0.0225    0.01812          6        416: 100% 81/81 [00:04<00:00, 16.76it/s]\n",
      "                 Class     Images  Instances          P          R      mAP50   mAP50-95: 100% 10/10 [00:00<00:00, 18.99it/s]\n",
      "                   all         40        150      0.326      0.411      0.366      0.194\n",
      "\n",
      "      Epoch    GPU_mem   box_loss   obj_loss   cls_loss  Instances       Size\n",
      "    146/199     0.459G    0.02846    0.01908    0.01816         10        416: 100% 81/81 [00:04<00:00, 16.99it/s]\n",
      "                 Class     Images  Instances          P          R      mAP50   mAP50-95: 100% 10/10 [00:00<00:00, 19.11it/s]\n",
      "                   all         40        150      0.338      0.404      0.369      0.195\n",
      "\n",
      "      Epoch    GPU_mem   box_loss   obj_loss   cls_loss  Instances       Size\n",
      "    147/199     0.459G    0.02937    0.01898    0.01655          3        416: 100% 81/81 [00:04<00:00, 16.93it/s]\n",
      "                 Class     Images  Instances          P          R      mAP50   mAP50-95: 100% 10/10 [00:00<00:00, 18.96it/s]\n",
      "                   all         40        150      0.318      0.421      0.372      0.201\n",
      "\n",
      "      Epoch    GPU_mem   box_loss   obj_loss   cls_loss  Instances       Size\n",
      "    148/199     0.459G    0.02897    0.02121    0.01778          7        416: 100% 81/81 [00:04<00:00, 16.89it/s]\n",
      "                 Class     Images  Instances          P          R      mAP50   mAP50-95: 100% 10/10 [00:00<00:00, 19.93it/s]\n",
      "                   all         40        150      0.419      0.345      0.372      0.196\n",
      "\n",
      "      Epoch    GPU_mem   box_loss   obj_loss   cls_loss  Instances       Size\n",
      "    149/199     0.459G    0.02804     0.0193    0.01947          3        416: 100% 81/81 [00:04<00:00, 16.37it/s]\n",
      "                 Class     Images  Instances          P          R      mAP50   mAP50-95: 100% 10/10 [00:00<00:00, 19.15it/s]\n",
      "                   all         40        150      0.418      0.336      0.368      0.192\n",
      "\n",
      "      Epoch    GPU_mem   box_loss   obj_loss   cls_loss  Instances       Size\n",
      "    150/199     0.459G    0.02924    0.01974    0.01781          3        416: 100% 81/81 [00:04<00:00, 17.04it/s]\n",
      "                 Class     Images  Instances          P          R      mAP50   mAP50-95: 100% 10/10 [00:00<00:00, 19.38it/s]\n",
      "                   all         40        150      0.359      0.351      0.375      0.196\n",
      "\n",
      "      Epoch    GPU_mem   box_loss   obj_loss   cls_loss  Instances       Size\n",
      "    151/199     0.459G    0.02779    0.02087    0.01865          3        416: 100% 81/81 [00:04<00:00, 16.67it/s]\n",
      "                 Class     Images  Instances          P          R      mAP50   mAP50-95: 100% 10/10 [00:00<00:00, 18.74it/s]\n",
      "                   all         40        150      0.418      0.356      0.366      0.191\n",
      "\n",
      "      Epoch    GPU_mem   box_loss   obj_loss   cls_loss  Instances       Size\n",
      "    152/199     0.459G    0.02742    0.01971    0.01611          5        416: 100% 81/81 [00:04<00:00, 16.31it/s]\n",
      "                 Class     Images  Instances          P          R      mAP50   mAP50-95: 100% 10/10 [00:00<00:00, 19.27it/s]\n",
      "                   all         40        150      0.323      0.366      0.358      0.191\n",
      "\n",
      "      Epoch    GPU_mem   box_loss   obj_loss   cls_loss  Instances       Size\n",
      "    153/199     0.459G    0.02799    0.02017    0.01638          6        416: 100% 81/81 [00:04<00:00, 16.76it/s]\n",
      "                 Class     Images  Instances          P          R      mAP50   mAP50-95: 100% 10/10 [00:00<00:00, 18.60it/s]\n",
      "                   all         40        150      0.282      0.397      0.364      0.199\n",
      "\n",
      "      Epoch    GPU_mem   box_loss   obj_loss   cls_loss  Instances       Size\n",
      "    154/199     0.459G    0.02936    0.02204    0.01858          2        416: 100% 81/81 [00:04<00:00, 16.66it/s]\n",
      "                 Class     Images  Instances          P          R      mAP50   mAP50-95: 100% 10/10 [00:00<00:00, 19.53it/s]\n",
      "                   all         40        150      0.282      0.399      0.353      0.193\n",
      "\n",
      "      Epoch    GPU_mem   box_loss   obj_loss   cls_loss  Instances       Size\n",
      "    155/199     0.459G    0.02881    0.02205    0.02027          7        416: 100% 81/81 [00:04<00:00, 16.96it/s]\n",
      "                 Class     Images  Instances          P          R      mAP50   mAP50-95: 100% 10/10 [00:00<00:00, 19.95it/s]\n",
      "                   all         40        150      0.366      0.344      0.356      0.192\n",
      "\n",
      "      Epoch    GPU_mem   box_loss   obj_loss   cls_loss  Instances       Size\n",
      "    156/199     0.459G    0.02927    0.02057    0.01708          2        416: 100% 81/81 [00:04<00:00, 16.67it/s]\n",
      "                 Class     Images  Instances          P          R      mAP50   mAP50-95: 100% 10/10 [00:00<00:00, 18.90it/s]\n",
      "                   all         40        150       0.39       0.34      0.351      0.185\n",
      "\n",
      "      Epoch    GPU_mem   box_loss   obj_loss   cls_loss  Instances       Size\n",
      "    157/199     0.459G    0.02815    0.01748    0.01897          2        416: 100% 81/81 [00:04<00:00, 17.11it/s]\n",
      "                 Class     Images  Instances          P          R      mAP50   mAP50-95: 100% 10/10 [00:00<00:00, 19.71it/s]\n",
      "                   all         40        150      0.441      0.332      0.353      0.189\n",
      "\n",
      "      Epoch    GPU_mem   box_loss   obj_loss   cls_loss  Instances       Size\n",
      "    158/199     0.459G    0.02874     0.0241    0.01892          4        416: 100% 81/81 [00:04<00:00, 16.76it/s]\n",
      "                 Class     Images  Instances          P          R      mAP50   mAP50-95: 100% 10/10 [00:00<00:00, 19.18it/s]\n",
      "                   all         40        150      0.385      0.346      0.356      0.182\n",
      "\n",
      "      Epoch    GPU_mem   box_loss   obj_loss   cls_loss  Instances       Size\n",
      "    159/199     0.459G    0.02924    0.02119    0.01823          3        416: 100% 81/81 [00:04<00:00, 16.69it/s]\n",
      "                 Class     Images  Instances          P          R      mAP50   mAP50-95: 100% 10/10 [00:00<00:00, 18.87it/s]\n",
      "                   all         40        150      0.348      0.361       0.34      0.175\n",
      "\n",
      "      Epoch    GPU_mem   box_loss   obj_loss   cls_loss  Instances       Size\n",
      "    160/199     0.459G    0.02787    0.02116    0.01732         13        416: 100% 81/81 [00:04<00:00, 16.71it/s]\n",
      "                 Class     Images  Instances          P          R      mAP50   mAP50-95: 100% 10/10 [00:00<00:00, 19.61it/s]\n",
      "                   all         40        150      0.382      0.363      0.351      0.178\n",
      "\n",
      "      Epoch    GPU_mem   box_loss   obj_loss   cls_loss  Instances       Size\n",
      "    161/199     0.459G    0.02782    0.02048     0.0182          2        416: 100% 81/81 [00:04<00:00, 16.63it/s]\n",
      "                 Class     Images  Instances          P          R      mAP50   mAP50-95: 100% 10/10 [00:00<00:00, 19.47it/s]\n",
      "                   all         40        150      0.385      0.357      0.353      0.179\n",
      "\n",
      "      Epoch    GPU_mem   box_loss   obj_loss   cls_loss  Instances       Size\n",
      "    162/199     0.459G    0.02905    0.02034     0.0184          6        416: 100% 81/81 [00:04<00:00, 16.61it/s]\n",
      "                 Class     Images  Instances          P          R      mAP50   mAP50-95: 100% 10/10 [00:00<00:00, 19.95it/s]\n",
      "                   all         40        150      0.371      0.369      0.349      0.176\n",
      "\n",
      "      Epoch    GPU_mem   box_loss   obj_loss   cls_loss  Instances       Size\n",
      "    163/199     0.459G    0.02801    0.02074    0.01599          7        416: 100% 81/81 [00:04<00:00, 16.37it/s]\n",
      "                 Class     Images  Instances          P          R      mAP50   mAP50-95: 100% 10/10 [00:00<00:00, 19.27it/s]\n",
      "                   all         40        150       0.37       0.36      0.358      0.184\n",
      "\n",
      "      Epoch    GPU_mem   box_loss   obj_loss   cls_loss  Instances       Size\n",
      "    164/199     0.459G    0.02733    0.01971    0.01833          4        416: 100% 81/81 [00:04<00:00, 17.05it/s]\n",
      "                 Class     Images  Instances          P          R      mAP50   mAP50-95: 100% 10/10 [00:00<00:00, 19.91it/s]\n",
      "                   all         40        150       0.37      0.348      0.361      0.187\n",
      "\n",
      "      Epoch    GPU_mem   box_loss   obj_loss   cls_loss  Instances       Size\n",
      "    165/199     0.459G    0.02754     0.0204     0.0171          4        416: 100% 81/81 [00:04<00:00, 16.84it/s]\n",
      "                 Class     Images  Instances          P          R      mAP50   mAP50-95: 100% 10/10 [00:00<00:00, 19.11it/s]\n",
      "                   all         40        150      0.371      0.328      0.354      0.191\n",
      "\n",
      "      Epoch    GPU_mem   box_loss   obj_loss   cls_loss  Instances       Size\n",
      "    166/199     0.459G    0.02767    0.02046    0.01709          3        416: 100% 81/81 [00:04<00:00, 16.48it/s]\n",
      "                 Class     Images  Instances          P          R      mAP50   mAP50-95: 100% 10/10 [00:00<00:00, 19.46it/s]\n",
      "                   all         40        150      0.371      0.333      0.359      0.193\n",
      "\n",
      "      Epoch    GPU_mem   box_loss   obj_loss   cls_loss  Instances       Size\n",
      "    167/199     0.459G    0.02794    0.02044    0.01589          0        416: 100% 81/81 [00:04<00:00, 16.78it/s]\n",
      "                 Class     Images  Instances          P          R      mAP50   mAP50-95: 100% 10/10 [00:00<00:00, 19.78it/s]\n",
      "                   all         40        150      0.372      0.338      0.358      0.189\n",
      "\n",
      "      Epoch    GPU_mem   box_loss   obj_loss   cls_loss  Instances       Size\n",
      "    168/199     0.459G    0.02737    0.01939    0.01714          3        416: 100% 81/81 [00:04<00:00, 16.21it/s]\n",
      "                 Class     Images  Instances          P          R      mAP50   mAP50-95: 100% 10/10 [00:00<00:00, 19.75it/s]\n",
      "                   all         40        150      0.407      0.331      0.358       0.19\n",
      "\n",
      "      Epoch    GPU_mem   box_loss   obj_loss   cls_loss  Instances       Size\n",
      "    169/199     0.459G     0.0266    0.02192     0.0177          8        416: 100% 81/81 [00:04<00:00, 16.21it/s]\n",
      "                 Class     Images  Instances          P          R      mAP50   mAP50-95: 100% 10/10 [00:00<00:00, 18.86it/s]\n",
      "                   all         40        150      0.429      0.336      0.371      0.201\n",
      "\n",
      "      Epoch    GPU_mem   box_loss   obj_loss   cls_loss  Instances       Size\n",
      "    170/199     0.459G    0.02665     0.0199    0.01552          7        416: 100% 81/81 [00:04<00:00, 16.31it/s]\n",
      "                 Class     Images  Instances          P          R      mAP50   mAP50-95: 100% 10/10 [00:00<00:00, 19.59it/s]\n",
      "                   all         40        150      0.312      0.686      0.369      0.199\n",
      "\n",
      "      Epoch    GPU_mem   box_loss   obj_loss   cls_loss  Instances       Size\n",
      "    171/199     0.459G    0.02758    0.02034    0.01803          1        416: 100% 81/81 [00:04<00:00, 16.34it/s]\n",
      "                 Class     Images  Instances          P          R      mAP50   mAP50-95: 100% 10/10 [00:00<00:00, 19.50it/s]\n",
      "                   all         40        150       0.38       0.35      0.368      0.201\n",
      "\n",
      "      Epoch    GPU_mem   box_loss   obj_loss   cls_loss  Instances       Size\n",
      "    172/199     0.459G    0.02773    0.01997    0.01742          3        416: 100% 81/81 [00:04<00:00, 16.80it/s]\n",
      "                 Class     Images  Instances          P          R      mAP50   mAP50-95: 100% 10/10 [00:00<00:00, 19.67it/s]\n",
      "                   all         40        150      0.409      0.353      0.379      0.199\n",
      "\n",
      "      Epoch    GPU_mem   box_loss   obj_loss   cls_loss  Instances       Size\n",
      "    173/199     0.459G     0.0257    0.02076    0.01511          3        416: 100% 81/81 [00:04<00:00, 17.01it/s]\n",
      "                 Class     Images  Instances          P          R      mAP50   mAP50-95: 100% 10/10 [00:00<00:00, 19.99it/s]\n",
      "                   all         40        150      0.432      0.335      0.376      0.196\n",
      "\n",
      "      Epoch    GPU_mem   box_loss   obj_loss   cls_loss  Instances       Size\n",
      "    174/199     0.459G    0.02705    0.02038    0.01783          1        416: 100% 81/81 [00:04<00:00, 16.93it/s]\n",
      "                 Class     Images  Instances          P          R      mAP50   mAP50-95: 100% 10/10 [00:00<00:00, 19.26it/s]\n",
      "                   all         40        150      0.423      0.328      0.375      0.205\n",
      "\n",
      "      Epoch    GPU_mem   box_loss   obj_loss   cls_loss  Instances       Size\n",
      "    175/199     0.459G    0.02723    0.01999    0.01429          5        416: 100% 81/81 [00:04<00:00, 16.88it/s]\n",
      "                 Class     Images  Instances          P          R      mAP50   mAP50-95: 100% 10/10 [00:00<00:00, 18.33it/s]\n",
      "                   all         40        150      0.304      0.623      0.371      0.199\n",
      "\n",
      "      Epoch    GPU_mem   box_loss   obj_loss   cls_loss  Instances       Size\n",
      "    176/199     0.459G    0.02797     0.0206    0.01872          6        416: 100% 81/81 [00:04<00:00, 16.91it/s]\n",
      "                 Class     Images  Instances          P          R      mAP50   mAP50-95: 100% 10/10 [00:00<00:00, 18.99it/s]\n",
      "                   all         40        150      0.298      0.623      0.371      0.206\n",
      "\n",
      "      Epoch    GPU_mem   box_loss   obj_loss   cls_loss  Instances       Size\n",
      "    177/199     0.459G    0.02782    0.01849    0.01605          8        416: 100% 81/81 [00:04<00:00, 16.25it/s]\n",
      "                 Class     Images  Instances          P          R      mAP50   mAP50-95: 100% 10/10 [00:00<00:00, 19.20it/s]\n",
      "                   all         40        150      0.298      0.617      0.365      0.194\n",
      "\n",
      "      Epoch    GPU_mem   box_loss   obj_loss   cls_loss  Instances       Size\n",
      "    178/199     0.459G    0.02647    0.02118    0.01616          3        416: 100% 81/81 [00:05<00:00, 16.07it/s]\n",
      "                 Class     Images  Instances          P          R      mAP50   mAP50-95: 100% 10/10 [00:00<00:00, 18.90it/s]\n",
      "                   all         40        150      0.304      0.441      0.369      0.205\n",
      "\n",
      "      Epoch    GPU_mem   box_loss   obj_loss   cls_loss  Instances       Size\n",
      "    179/199     0.459G    0.02626    0.02001    0.01358          4        416: 100% 81/81 [00:04<00:00, 16.36it/s]\n",
      "                 Class     Images  Instances          P          R      mAP50   mAP50-95: 100% 10/10 [00:00<00:00, 19.13it/s]\n",
      "                   all         40        150      0.293      0.413      0.371      0.198\n",
      "\n",
      "      Epoch    GPU_mem   box_loss   obj_loss   cls_loss  Instances       Size\n",
      "    180/199     0.459G    0.02731    0.02003    0.01636          4        416: 100% 81/81 [00:04<00:00, 16.81it/s]\n",
      "                 Class     Images  Instances          P          R      mAP50   mAP50-95: 100% 10/10 [00:00<00:00, 18.44it/s]\n",
      "                   all         40        150      0.315      0.415      0.369      0.189\n",
      "\n",
      "      Epoch    GPU_mem   box_loss   obj_loss   cls_loss  Instances       Size\n",
      "    181/199     0.459G    0.02726    0.01931    0.01598          7        416: 100% 81/81 [00:04<00:00, 16.75it/s]\n",
      "                 Class     Images  Instances          P          R      mAP50   mAP50-95: 100% 10/10 [00:00<00:00, 19.69it/s]\n",
      "                   all         40        150      0.299      0.638       0.37      0.201\n",
      "\n",
      "      Epoch    GPU_mem   box_loss   obj_loss   cls_loss  Instances       Size\n",
      "    182/199     0.459G    0.02671     0.0199    0.01445          8        416: 100% 81/81 [00:04<00:00, 16.70it/s]\n",
      "                 Class     Images  Instances          P          R      mAP50   mAP50-95: 100% 10/10 [00:00<00:00, 18.07it/s]\n",
      "                   all         40        150      0.293      0.629      0.367      0.196\n",
      "\n",
      "      Epoch    GPU_mem   box_loss   obj_loss   cls_loss  Instances       Size\n",
      "    183/199     0.459G    0.02676    0.02024    0.01409          8        416: 100% 81/81 [00:04<00:00, 16.73it/s]\n",
      "                 Class     Images  Instances          P          R      mAP50   mAP50-95: 100% 10/10 [00:00<00:00, 20.43it/s]\n",
      "                   all         40        150      0.296      0.609      0.365      0.197\n",
      "\n",
      "      Epoch    GPU_mem   box_loss   obj_loss   cls_loss  Instances       Size\n",
      "    184/199     0.459G    0.02726      0.018    0.01434          3        416: 100% 81/81 [00:04<00:00, 16.50it/s]\n",
      "                 Class     Images  Instances          P          R      mAP50   mAP50-95: 100% 10/10 [00:00<00:00, 18.40it/s]\n",
      "                   all         40        150      0.285      0.619       0.36      0.201\n",
      "\n",
      "      Epoch    GPU_mem   box_loss   obj_loss   cls_loss  Instances       Size\n",
      "    185/199     0.459G    0.02683    0.02046     0.0142          7        416: 100% 81/81 [00:04<00:00, 16.76it/s]\n",
      "                 Class     Images  Instances          P          R      mAP50   mAP50-95: 100% 10/10 [00:00<00:00, 18.93it/s]\n",
      "                   all         40        150      0.285      0.608      0.355        0.2\n",
      "\n",
      "      Epoch    GPU_mem   box_loss   obj_loss   cls_loss  Instances       Size\n",
      "    186/199     0.459G    0.02608    0.02133    0.01372          2        416: 100% 81/81 [00:04<00:00, 16.41it/s]\n",
      "                 Class     Images  Instances          P          R      mAP50   mAP50-95: 100% 10/10 [00:00<00:00, 19.13it/s]\n",
      "                   all         40        150      0.285      0.614      0.358        0.2\n",
      "\n",
      "      Epoch    GPU_mem   box_loss   obj_loss   cls_loss  Instances       Size\n",
      "    187/199     0.459G    0.02673    0.02032    0.01514          9        416: 100% 81/81 [00:04<00:00, 16.43it/s]\n",
      "                 Class     Images  Instances          P          R      mAP50   mAP50-95: 100% 10/10 [00:00<00:00, 19.11it/s]\n",
      "                   all         40        150      0.281      0.595      0.359      0.209\n",
      "\n",
      "      Epoch    GPU_mem   box_loss   obj_loss   cls_loss  Instances       Size\n",
      "    188/199     0.459G    0.02733    0.01986    0.01554          9        416: 100% 81/81 [00:04<00:00, 17.22it/s]\n",
      "                 Class     Images  Instances          P          R      mAP50   mAP50-95: 100% 10/10 [00:00<00:00, 19.70it/s]\n",
      "                   all         40        150      0.288      0.609      0.363      0.209\n",
      "\n",
      "      Epoch    GPU_mem   box_loss   obj_loss   cls_loss  Instances       Size\n",
      "    189/199     0.459G    0.02638    0.01813    0.01543          5        416: 100% 81/81 [00:04<00:00, 16.58it/s]\n",
      "                 Class     Images  Instances          P          R      mAP50   mAP50-95: 100% 10/10 [00:00<00:00, 19.74it/s]\n",
      "                   all         40        150      0.335       0.37      0.366       0.21\n",
      "\n",
      "      Epoch    GPU_mem   box_loss   obj_loss   cls_loss  Instances       Size\n",
      "    190/199     0.459G    0.02713    0.02054    0.01528          4        416: 100% 81/81 [00:04<00:00, 16.83it/s]\n",
      "                 Class     Images  Instances          P          R      mAP50   mAP50-95: 100% 10/10 [00:00<00:00, 19.72it/s]\n",
      "                   all         40        150      0.295      0.624      0.367      0.212\n",
      "\n",
      "      Epoch    GPU_mem   box_loss   obj_loss   cls_loss  Instances       Size\n",
      "    191/199     0.459G    0.02589    0.02015    0.01575          1        416: 100% 81/81 [00:04<00:00, 16.68it/s]\n",
      "                 Class     Images  Instances          P          R      mAP50   mAP50-95: 100% 10/10 [00:00<00:00, 19.41it/s]\n",
      "                   all         40        150      0.345      0.374      0.362      0.207\n",
      "\n",
      "      Epoch    GPU_mem   box_loss   obj_loss   cls_loss  Instances       Size\n",
      "    192/199     0.459G    0.02644    0.01988    0.01465          4        416: 100% 81/81 [00:05<00:00, 16.05it/s]\n",
      "                 Class     Images  Instances          P          R      mAP50   mAP50-95: 100% 10/10 [00:00<00:00, 18.06it/s]\n",
      "                   all         40        150      0.294      0.623      0.362      0.206\n",
      "\n",
      "      Epoch    GPU_mem   box_loss   obj_loss   cls_loss  Instances       Size\n",
      "    193/199     0.459G    0.02656    0.02225    0.01535         11        416: 100% 81/81 [00:05<00:00, 16.02it/s]\n",
      "                 Class     Images  Instances          P          R      mAP50   mAP50-95: 100% 10/10 [00:00<00:00, 19.66it/s]\n",
      "                   all         40        150      0.336      0.374      0.364      0.206\n",
      "\n",
      "      Epoch    GPU_mem   box_loss   obj_loss   cls_loss  Instances       Size\n",
      "    194/199     0.459G    0.02518    0.01919    0.01466          8        416: 100% 81/81 [00:04<00:00, 16.81it/s]\n",
      "                 Class     Images  Instances          P          R      mAP50   mAP50-95: 100% 10/10 [00:00<00:00, 18.43it/s]\n",
      "                   all         40        150      0.288      0.613      0.362      0.205\n",
      "\n",
      "      Epoch    GPU_mem   box_loss   obj_loss   cls_loss  Instances       Size\n",
      "    195/199     0.459G    0.02496     0.0199    0.01389          3        416: 100% 81/81 [00:04<00:00, 16.62it/s]\n",
      "                 Class     Images  Instances          P          R      mAP50   mAP50-95: 100% 10/10 [00:00<00:00, 19.47it/s]\n",
      "                   all         40        150      0.299      0.611      0.364      0.207\n",
      "\n",
      "      Epoch    GPU_mem   box_loss   obj_loss   cls_loss  Instances       Size\n",
      "    196/199     0.459G    0.02599    0.02178    0.01355          3        416: 100% 81/81 [00:04<00:00, 16.82it/s]\n",
      "                 Class     Images  Instances          P          R      mAP50   mAP50-95: 100% 10/10 [00:00<00:00, 19.99it/s]\n",
      "                   all         40        150      0.293      0.611      0.362      0.205\n",
      "\n",
      "      Epoch    GPU_mem   box_loss   obj_loss   cls_loss  Instances       Size\n",
      "    197/199     0.459G    0.02585    0.02004    0.01126          6        416: 100% 81/81 [00:05<00:00, 15.94it/s]\n",
      "                 Class     Images  Instances          P          R      mAP50   mAP50-95: 100% 10/10 [00:00<00:00, 19.00it/s]\n",
      "                   all         40        150      0.292      0.615      0.366      0.208\n",
      "\n",
      "      Epoch    GPU_mem   box_loss   obj_loss   cls_loss  Instances       Size\n",
      "    198/199     0.459G    0.02524    0.02058    0.01413          5        416: 100% 81/81 [00:04<00:00, 16.69it/s]\n",
      "                 Class     Images  Instances          P          R      mAP50   mAP50-95: 100% 10/10 [00:00<00:00, 18.89it/s]\n",
      "                   all         40        150      0.294      0.616      0.364      0.208\n",
      "\n",
      "      Epoch    GPU_mem   box_loss   obj_loss   cls_loss  Instances       Size\n",
      "    199/199     0.459G    0.02639    0.01976    0.01258          7        416: 100% 81/81 [00:05<00:00, 16.19it/s]\n",
      "                 Class     Images  Instances          P          R      mAP50   mAP50-95: 100% 10/10 [00:00<00:00, 18.80it/s]\n",
      "                   all         40        150      0.293      0.616      0.365      0.206\n",
      "\n",
      "200 epochs completed in 0.323 hours.\n",
      "Optimizer stripped from runs/train/exp/weights/last.pt, 14.4MB\n",
      "Optimizer stripped from runs/train/exp/weights/best.pt, 14.4MB\n",
      "\n",
      "Validating runs/train/exp/weights/best.pt...\n",
      "Fusing layers... \n",
      "Model summary: 157 layers, 7029004 parameters, 0 gradients, 15.8 GFLOPs\n",
      "                 Class     Images  Instances          P          R      mAP50   mAP50-95: 100% 10/10 [00:01<00:00,  8.49it/s]\n",
      "                   all         40        150      0.296       0.62      0.367      0.211\n",
      "               Car- 45         40          1      0.022          1     0.0262     0.0157\n",
      "               Car- 60         40         90      0.523      0.768       0.62      0.328\n",
      "           Car- 90-120         40         42      0.468       0.69      0.555      0.315\n",
      "              truck-40         40         14      0.467      0.643      0.584      0.377\n",
      "              truck-60         40          3          0          0     0.0504     0.0215\n",
      "Results saved to \u001b[1mruns/train/exp\u001b[0m\n"
     ]
    }
   ],
   "source": [
    "!wandb disabled\n",
    "!python train.py --img 416 --batch 2 --epochs 200 --data /content/drive/MyDrive/20_selected_projects/8_videoestimation/yolov5/data.yaml --weights yolov5s.pt --cache --workers 2"
   ]
  },
  {
   "cell_type": "code",
   "execution_count": 2,
   "metadata": {
    "id": "EefPDRXTTgAG"
   },
   "outputs": [],
   "source": [
    "p_yol5s = 0.296\n",
    "r_yol5s = 0.62\n",
    "mAP_yolo5s = 0.367\n",
    "\n",
    "storeResults('YoloV5s',p_yol5s,r_yol5s,mAP_yolo5s)"
   ]
  },
  {
   "cell_type": "markdown",
   "metadata": {
    "id": "_M4_ithVTgAJ"
   },
   "source": [
    "# Yolov 5x6"
   ]
  },
  {
   "cell_type": "code",
   "execution_count": 8,
   "metadata": {
    "colab": {
     "base_uri": "https://localhost:8080/"
    },
    "executionInfo": {
     "elapsed": 2064616,
     "status": "ok",
     "timestamp": 1710870325976,
     "user": {
      "displayName": "TruProjects yolo",
      "userId": "18414174829652366032"
     },
     "user_tz": -330
    },
    "id": "pXGcJ4MFDArO",
    "outputId": "8219336f-731f-49ee-c641-3eff5e3db26d"
   },
   "outputs": [
    {
     "name": "stdout",
     "output_type": "stream",
     "text": [
      "/bin/bash: line 1: wandb: command not found\n",
      "2024-03-19 17:11:10.096505: E external/local_xla/xla/stream_executor/cuda/cuda_dnn.cc:9261] Unable to register cuDNN factory: Attempting to register factory for plugin cuDNN when one has already been registered\n",
      "2024-03-19 17:11:10.096566: E external/local_xla/xla/stream_executor/cuda/cuda_fft.cc:607] Unable to register cuFFT factory: Attempting to register factory for plugin cuFFT when one has already been registered\n",
      "2024-03-19 17:11:10.097967: E external/local_xla/xla/stream_executor/cuda/cuda_blas.cc:1515] Unable to register cuBLAS factory: Attempting to register factory for plugin cuBLAS when one has already been registered\n",
      "\u001b[34m\u001b[1mtrain: \u001b[0mweights=yolov5x6.pt, cfg=, data=/content/drive/MyDrive/20_selected_projects/8_videoestimation/yolov5/data.yaml, hyp=data/hyps/hyp.scratch-low.yaml, epochs=200, batch_size=16, imgsz=416, rect=False, resume=False, nosave=False, noval=False, noautoanchor=False, noplots=False, evolve=None, evolve_population=data/hyps, resume_evolve=None, bucket=, cache=ram, image_weights=False, device=, multi_scale=False, single_cls=False, optimizer=SGD, sync_bn=False, workers=2, project=runs/train, name=exp, exist_ok=False, quad=False, cos_lr=False, label_smoothing=0.0, patience=100, freeze=[0], save_period=-1, seed=0, local_rank=-1, entity=None, upload_dataset=False, bbox_interval=-1, artifact_alias=latest, ndjson_console=False, ndjson_file=False\n",
      "\u001b[34m\u001b[1mgithub: \u001b[0mup to date with https://github.com/ultralytics/yolov5 ✅\n",
      "YOLOv5 🚀 v7.0-294-gdb125a20 Python-3.10.12 torch-2.2.1+cu121 CUDA:0 (Tesla T4, 15102MiB)\n",
      "\n",
      "\u001b[34m\u001b[1mhyperparameters: \u001b[0mlr0=0.01, lrf=0.01, momentum=0.937, weight_decay=0.0005, warmup_epochs=3.0, warmup_momentum=0.8, warmup_bias_lr=0.1, box=0.05, cls=0.5, cls_pw=1.0, obj=1.0, obj_pw=1.0, iou_t=0.2, anchor_t=4.0, fl_gamma=0.0, hsv_h=0.015, hsv_s=0.7, hsv_v=0.4, degrees=0.0, translate=0.1, scale=0.5, shear=0.0, perspective=0.0, flipud=0.0, fliplr=0.5, mosaic=1.0, mixup=0.0, copy_paste=0.0\n",
      "\u001b[34m\u001b[1mComet: \u001b[0mrun 'pip install comet_ml' to automatically track and visualize YOLOv5 🚀 runs in Comet\n",
      "\u001b[34m\u001b[1mTensorBoard: \u001b[0mStart with 'tensorboard --logdir runs/train', view at http://localhost:6006/\n",
      "Downloading https://github.com/ultralytics/yolov5/releases/download/v7.0/yolov5x6.pt to yolov5x6.pt...\n",
      "100% 270M/270M [00:00<00:00, 382MB/s]\n",
      "\n",
      "Overriding model.yaml nc=80 with nc=7\n",
      "\n",
      "                 from  n    params  module                                  arguments                     \n",
      "  0                -1  1      8800  models.common.Conv                      [3, 80, 6, 2, 2]              \n",
      "  1                -1  1    115520  models.common.Conv                      [80, 160, 3, 2]               \n",
      "  2                -1  4    309120  models.common.C3                        [160, 160, 4]                 \n",
      "  3                -1  1    461440  models.common.Conv                      [160, 320, 3, 2]              \n",
      "  4                -1  8   2259200  models.common.C3                        [320, 320, 8]                 \n",
      "  5                -1  1   1844480  models.common.Conv                      [320, 640, 3, 2]              \n",
      "  6                -1 12  13125120  models.common.C3                        [640, 640, 12]                \n",
      "  7                -1  1   5531520  models.common.Conv                      [640, 960, 3, 2]              \n",
      "  8                -1  4  11070720  models.common.C3                        [960, 960, 4]                 \n",
      "  9                -1  1  11061760  models.common.Conv                      [960, 1280, 3, 2]             \n",
      " 10                -1  4  19676160  models.common.C3                        [1280, 1280, 4]               \n",
      " 11                -1  1   4099840  models.common.SPPF                      [1280, 1280, 5]               \n",
      " 12                -1  1   1230720  models.common.Conv                      [1280, 960, 1, 1]             \n",
      " 13                -1  1         0  torch.nn.modules.upsampling.Upsample    [None, 2, 'nearest']          \n",
      " 14           [-1, 8]  1         0  models.common.Concat                    [1]                           \n",
      " 15                -1  4  11992320  models.common.C3                        [1920, 960, 4, False]         \n",
      " 16                -1  1    615680  models.common.Conv                      [960, 640, 1, 1]              \n",
      " 17                -1  1         0  torch.nn.modules.upsampling.Upsample    [None, 2, 'nearest']          \n",
      " 18           [-1, 6]  1         0  models.common.Concat                    [1]                           \n",
      " 19                -1  4   5332480  models.common.C3                        [1280, 640, 4, False]         \n",
      " 20                -1  1    205440  models.common.Conv                      [640, 320, 1, 1]              \n",
      " 21                -1  1         0  torch.nn.modules.upsampling.Upsample    [None, 2, 'nearest']          \n",
      " 22           [-1, 4]  1         0  models.common.Concat                    [1]                           \n",
      " 23                -1  4   1335040  models.common.C3                        [640, 320, 4, False]          \n",
      " 24                -1  1    922240  models.common.Conv                      [320, 320, 3, 2]              \n",
      " 25          [-1, 20]  1         0  models.common.Concat                    [1]                           \n",
      " 26                -1  4   4922880  models.common.C3                        [640, 640, 4, False]          \n",
      " 27                -1  1   3687680  models.common.Conv                      [640, 640, 3, 2]              \n",
      " 28          [-1, 16]  1         0  models.common.Concat                    [1]                           \n",
      " 29                -1  4  11377920  models.common.C3                        [1280, 960, 4, False]         \n",
      " 30                -1  1   8296320  models.common.Conv                      [960, 960, 3, 2]              \n",
      " 31          [-1, 12]  1         0  models.common.Concat                    [1]                           \n",
      " 32                -1  4  20495360  models.common.C3                        [1920, 1280, 4, False]        \n",
      " 33  [23, 26, 29, 32]  1    115344  models.yolo.Detect                      [7, [[19, 27, 44, 40, 38, 94], [96, 68, 86, 152, 180, 137], [140, 301, 303, 264, 238, 542], [436, 615, 739, 380, 925, 792]], [320, 640, 960, 1280]]\n",
      "Model summary: 575 layers, 140093104 parameters, 140093104 gradients, 208.9 GFLOPs\n",
      "\n",
      "Transferred 955/963 items from yolov5x6.pt\n",
      "\u001b[34m\u001b[1mAMP: \u001b[0mchecks passed ✅\n",
      "WARNING ⚠️ --img-size 416 must be multiple of max stride 64, updating to 448\n",
      "\u001b[34m\u001b[1moptimizer:\u001b[0m SGD(lr=0.01) with parameter groups 159 weight(decay=0.0), 163 weight(decay=0.0005), 163 bias\n",
      "\u001b[34m\u001b[1malbumentations: \u001b[0mBlur(p=0.01, blur_limit=(3, 7)), MedianBlur(p=0.01, blur_limit=(3, 7)), ToGray(p=0.01), CLAHE(p=0.01, clip_limit=(1, 4.0), tile_grid_size=(8, 8))\n",
      "\u001b[34m\u001b[1mtrain: \u001b[0mScanning /content/drive/MyDrive/20_selected_projects/8_videoestimation/yolov5/train/labels.cache... 161 images, 0 backgrounds, 0 corrupt: 100% 161/161 [00:00<?, ?it/s]\n",
      "\u001b[34m\u001b[1mtrain: \u001b[0mCaching images (0.1GB ram): 100% 161/161 [00:00<00:00, 412.46it/s]\n",
      "\u001b[34m\u001b[1mval: \u001b[0mScanning /content/drive/MyDrive/20_selected_projects/8_videoestimation/yolov5/valid/labels.cache... 40 images, 0 backgrounds, 0 corrupt: 100% 40/40 [00:00<?, ?it/s]\n",
      "\u001b[34m\u001b[1mval: \u001b[0mCaching images (0.0GB ram): 100% 40/40 [00:00<00:00, 214.16it/s]\n",
      "\n",
      "\u001b[34m\u001b[1mAutoAnchor: \u001b[0m5.58 anchors/target, 1.000 Best Possible Recall (BPR). Current anchors are a good fit to dataset ✅\n",
      "Plotting labels to runs/train/exp2/labels.jpg... \n",
      "Image sizes 448 train, 448 val\n",
      "Using 2 dataloader workers\n",
      "Logging results to \u001b[1mruns/train/exp2\u001b[0m\n",
      "Starting training for 200 epochs...\n",
      "\n",
      "      Epoch    GPU_mem   box_loss   obj_loss   cls_loss  Instances       Size\n",
      "      0/199      8.05G     0.1212    0.02937    0.05857        104        448:   0% 0/11 [00:01<?, ?it/s]WARNING ⚠️ TensorBoard graph visualization failure Sizes of tensors must match except in dimension 1. Expected size 14 but got size 13 for tensor number 1 in the list.\n",
      "      0/199       8.2G     0.1011    0.02823     0.0518          7        448: 100% 11/11 [00:10<00:00,  1.10it/s]\n",
      "                 Class     Images  Instances          P          R      mAP50   mAP50-95: 100% 2/2 [00:01<00:00,  1.97it/s]\n",
      "                   all         40        150   0.000537     0.0213   0.000297   7.47e-05\n",
      "\n",
      "      Epoch    GPU_mem   box_loss   obj_loss   cls_loss  Instances       Size\n",
      "      1/199      9.38G    0.08859    0.03235    0.05071          1        448: 100% 11/11 [00:06<00:00,  1.83it/s]\n",
      "                 Class     Images  Instances          P          R      mAP50   mAP50-95: 100% 2/2 [00:00<00:00,  2.40it/s]\n",
      "                   all         40        150    0.00145     0.0463    0.00204   0.000487\n",
      "\n",
      "      Epoch    GPU_mem   box_loss   obj_loss   cls_loss  Instances       Size\n",
      "      2/199      9.42G    0.07938    0.03803    0.04978          5        448: 100% 11/11 [00:05<00:00,  1.85it/s]\n",
      "                 Class     Images  Instances          P          R      mAP50   mAP50-95: 100% 2/2 [00:00<00:00,  2.40it/s]\n",
      "                   all         40        150    0.00509      0.194    0.00407    0.00111\n",
      "\n",
      "      Epoch    GPU_mem   box_loss   obj_loss   cls_loss  Instances       Size\n",
      "      3/199      9.42G    0.07556    0.03502    0.04341          2        448: 100% 11/11 [00:05<00:00,  1.88it/s]\n",
      "                 Class     Images  Instances          P          R      mAP50   mAP50-95: 100% 2/2 [00:00<00:00,  2.37it/s]\n",
      "                   all         40        150     0.0182      0.271     0.0471     0.0103\n",
      "\n",
      "      Epoch    GPU_mem   box_loss   obj_loss   cls_loss  Instances       Size\n",
      "      4/199      9.42G    0.07822     0.0321    0.04446          8        448: 100% 11/11 [00:05<00:00,  1.87it/s]\n",
      "                 Class     Images  Instances          P          R      mAP50   mAP50-95: 100% 2/2 [00:00<00:00,  2.30it/s]\n",
      "                   all         40        150     0.0163      0.237     0.0202    0.00615\n",
      "\n",
      "      Epoch    GPU_mem   box_loss   obj_loss   cls_loss  Instances       Size\n",
      "      5/199      9.42G    0.07275     0.0236    0.04014          2        448: 100% 11/11 [00:05<00:00,  1.89it/s]\n",
      "                 Class     Images  Instances          P          R      mAP50   mAP50-95: 100% 2/2 [00:00<00:00,  2.23it/s]\n",
      "                   all         40        150      0.693      0.189      0.118     0.0441\n",
      "\n",
      "      Epoch    GPU_mem   box_loss   obj_loss   cls_loss  Instances       Size\n",
      "      6/199      9.42G    0.07456    0.02317    0.04523          3        448: 100% 11/11 [00:05<00:00,  1.90it/s]\n",
      "                 Class     Images  Instances          P          R      mAP50   mAP50-95: 100% 2/2 [00:00<00:00,  2.27it/s]\n",
      "                   all         40        150      0.715      0.179      0.126     0.0454\n",
      "\n",
      "      Epoch    GPU_mem   box_loss   obj_loss   cls_loss  Instances       Size\n",
      "      7/199      9.42G    0.07433     0.0223    0.04001          7        448: 100% 11/11 [00:05<00:00,  1.88it/s]\n",
      "                 Class     Images  Instances          P          R      mAP50   mAP50-95: 100% 2/2 [00:00<00:00,  2.42it/s]\n",
      "                   all         40        150      0.674      0.196      0.109     0.0364\n",
      "\n",
      "      Epoch    GPU_mem   box_loss   obj_loss   cls_loss  Instances       Size\n",
      "      8/199      9.42G    0.07249    0.02208    0.03605         14        448: 100% 11/11 [00:05<00:00,  1.93it/s]\n",
      "                 Class     Images  Instances          P          R      mAP50   mAP50-95: 100% 2/2 [00:00<00:00,  2.48it/s]\n",
      "                   all         40        150      0.667      0.188     0.0928     0.0326\n",
      "\n",
      "      Epoch    GPU_mem   box_loss   obj_loss   cls_loss  Instances       Size\n",
      "      9/199      9.42G    0.07115      0.022    0.03827         21        448: 100% 11/11 [00:05<00:00,  1.90it/s]\n",
      "                 Class     Images  Instances          P          R      mAP50   mAP50-95: 100% 2/2 [00:00<00:00,  2.51it/s]\n",
      "                   all         40        150      0.708      0.254      0.165     0.0542\n",
      "\n",
      "      Epoch    GPU_mem   box_loss   obj_loss   cls_loss  Instances       Size\n",
      "     10/199      9.42G    0.06923     0.0193    0.03885          1        448: 100% 11/11 [00:05<00:00,  1.91it/s]\n",
      "                 Class     Images  Instances          P          R      mAP50   mAP50-95: 100% 2/2 [00:00<00:00,  2.53it/s]\n",
      "                   all         40        150       0.69      0.292      0.158     0.0591\n",
      "\n",
      "      Epoch    GPU_mem   box_loss   obj_loss   cls_loss  Instances       Size\n",
      "     11/199      9.42G    0.06389    0.02053    0.03803          5        448: 100% 11/11 [00:05<00:00,  1.91it/s]\n",
      "                 Class     Images  Instances          P          R      mAP50   mAP50-95: 100% 2/2 [00:01<00:00,  1.74it/s]\n",
      "                   all         40        150      0.421      0.298     0.0669     0.0159\n",
      "\n",
      "      Epoch    GPU_mem   box_loss   obj_loss   cls_loss  Instances       Size\n",
      "     12/199      9.42G    0.06825    0.01911    0.03958          2        448: 100% 11/11 [00:05<00:00,  1.93it/s]\n",
      "                 Class     Images  Instances          P          R      mAP50   mAP50-95: 100% 2/2 [00:01<00:00,  1.96it/s]\n",
      "                   all         40        150      0.466      0.262      0.093     0.0313\n",
      "\n",
      "      Epoch    GPU_mem   box_loss   obj_loss   cls_loss  Instances       Size\n",
      "     13/199      9.42G    0.05948    0.02137    0.03948          8        448: 100% 11/11 [00:05<00:00,  1.90it/s]\n",
      "                 Class     Images  Instances          P          R      mAP50   mAP50-95: 100% 2/2 [00:00<00:00,  2.28it/s]\n",
      "                   all         40        150      0.511      0.261      0.187     0.0858\n",
      "\n",
      "      Epoch    GPU_mem   box_loss   obj_loss   cls_loss  Instances       Size\n",
      "     14/199      9.42G    0.06139    0.02063    0.04103         12        448: 100% 11/11 [00:05<00:00,  1.90it/s]\n",
      "                 Class     Images  Instances          P          R      mAP50   mAP50-95: 100% 2/2 [00:00<00:00,  2.48it/s]\n",
      "                   all         40        150      0.723       0.28      0.178     0.0649\n",
      "\n",
      "      Epoch    GPU_mem   box_loss   obj_loss   cls_loss  Instances       Size\n",
      "     15/199      9.42G    0.05358    0.01945    0.03717         11        448: 100% 11/11 [00:05<00:00,  1.89it/s]\n",
      "                 Class     Images  Instances          P          R      mAP50   mAP50-95: 100% 2/2 [00:00<00:00,  2.52it/s]\n",
      "                   all         40        150      0.738      0.252      0.207     0.0894\n",
      "\n",
      "      Epoch    GPU_mem   box_loss   obj_loss   cls_loss  Instances       Size\n",
      "     16/199      9.42G     0.0552    0.01772    0.03597          1        448: 100% 11/11 [00:05<00:00,  1.92it/s]\n",
      "                 Class     Images  Instances          P          R      mAP50   mAP50-95: 100% 2/2 [00:00<00:00,  2.61it/s]\n",
      "                   all         40        150      0.732      0.238      0.226     0.0999\n",
      "\n",
      "      Epoch    GPU_mem   box_loss   obj_loss   cls_loss  Instances       Size\n",
      "     17/199      9.42G    0.04956    0.01896     0.0352          2        448: 100% 11/11 [00:05<00:00,  1.90it/s]\n",
      "                 Class     Images  Instances          P          R      mAP50   mAP50-95: 100% 2/2 [00:00<00:00,  2.60it/s]\n",
      "                   all         40        150      0.748      0.264      0.275     0.0901\n",
      "\n",
      "      Epoch    GPU_mem   box_loss   obj_loss   cls_loss  Instances       Size\n",
      "     18/199      9.42G    0.05329    0.01725     0.0378          1        448: 100% 11/11 [00:05<00:00,  1.89it/s]\n",
      "                 Class     Images  Instances          P          R      mAP50   mAP50-95: 100% 2/2 [00:00<00:00,  2.65it/s]\n",
      "                   all         40        150      0.758      0.243      0.302      0.141\n",
      "\n",
      "      Epoch    GPU_mem   box_loss   obj_loss   cls_loss  Instances       Size\n",
      "     19/199      9.42G    0.05182    0.02561    0.03893         23        448: 100% 11/11 [00:06<00:00,  1.82it/s]\n",
      "                 Class     Images  Instances          P          R      mAP50   mAP50-95: 100% 2/2 [00:00<00:00,  2.64it/s]\n",
      "                   all         40        150      0.687      0.263      0.214     0.0645\n",
      "\n",
      "      Epoch    GPU_mem   box_loss   obj_loss   cls_loss  Instances       Size\n",
      "     20/199      9.42G    0.05261    0.01948    0.03638          8        448: 100% 11/11 [00:05<00:00,  1.92it/s]\n",
      "                 Class     Images  Instances          P          R      mAP50   mAP50-95: 100% 2/2 [00:00<00:00,  2.61it/s]\n",
      "                   all         40        150      0.428      0.413      0.276      0.111\n",
      "\n",
      "      Epoch    GPU_mem   box_loss   obj_loss   cls_loss  Instances       Size\n",
      "     21/199      9.42G    0.04788     0.0172    0.03494          4        448: 100% 11/11 [00:05<00:00,  1.90it/s]\n",
      "                 Class     Images  Instances          P          R      mAP50   mAP50-95: 100% 2/2 [00:00<00:00,  2.58it/s]\n",
      "                   all         40        150      0.763      0.249      0.241     0.0839\n",
      "\n",
      "      Epoch    GPU_mem   box_loss   obj_loss   cls_loss  Instances       Size\n",
      "     22/199      9.42G     0.0476    0.01777    0.03569          6        448: 100% 11/11 [00:05<00:00,  1.90it/s]\n",
      "                 Class     Images  Instances          P          R      mAP50   mAP50-95: 100% 2/2 [00:00<00:00,  2.62it/s]\n",
      "                   all         40        150      0.758      0.283       0.28      0.122\n",
      "\n",
      "      Epoch    GPU_mem   box_loss   obj_loss   cls_loss  Instances       Size\n",
      "     23/199      9.42G    0.04814    0.01965    0.03442         15        448: 100% 11/11 [00:05<00:00,  1.90it/s]\n",
      "                 Class     Images  Instances          P          R      mAP50   mAP50-95: 100% 2/2 [00:00<00:00,  2.63it/s]\n",
      "                   all         40        150      0.441      0.473       0.34      0.146\n",
      "\n",
      "      Epoch    GPU_mem   box_loss   obj_loss   cls_loss  Instances       Size\n",
      "     24/199      9.42G    0.04434    0.01641    0.03306          4        448: 100% 11/11 [00:05<00:00,  1.92it/s]\n",
      "                 Class     Images  Instances          P          R      mAP50   mAP50-95: 100% 2/2 [00:00<00:00,  2.66it/s]\n",
      "                   all         40        150      0.377       0.47      0.273      0.114\n",
      "\n",
      "      Epoch    GPU_mem   box_loss   obj_loss   cls_loss  Instances       Size\n",
      "     25/199      9.42G    0.04915    0.02013    0.03485         12        448: 100% 11/11 [00:05<00:00,  1.90it/s]\n",
      "                 Class     Images  Instances          P          R      mAP50   mAP50-95: 100% 2/2 [00:00<00:00,  2.66it/s]\n",
      "                   all         40        150      0.603      0.388      0.289      0.131\n",
      "\n",
      "      Epoch    GPU_mem   box_loss   obj_loss   cls_loss  Instances       Size\n",
      "     26/199      9.42G    0.04446    0.01545    0.03335          4        448: 100% 11/11 [00:05<00:00,  1.89it/s]\n",
      "                 Class     Images  Instances          P          R      mAP50   mAP50-95: 100% 2/2 [00:00<00:00,  2.66it/s]\n",
      "                   all         40        150      0.504      0.418      0.341      0.155\n",
      "\n",
      "      Epoch    GPU_mem   box_loss   obj_loss   cls_loss  Instances       Size\n",
      "     27/199      9.42G     0.0469    0.01585    0.03143          2        448: 100% 11/11 [00:05<00:00,  1.90it/s]\n",
      "                 Class     Images  Instances          P          R      mAP50   mAP50-95: 100% 2/2 [00:00<00:00,  2.65it/s]\n",
      "                   all         40        150      0.759      0.422      0.362      0.168\n",
      "\n",
      "      Epoch    GPU_mem   box_loss   obj_loss   cls_loss  Instances       Size\n",
      "     28/199      9.42G    0.04322    0.01474    0.03055          0        448: 100% 11/11 [00:05<00:00,  1.93it/s]\n",
      "                 Class     Images  Instances          P          R      mAP50   mAP50-95: 100% 2/2 [00:00<00:00,  2.66it/s]\n",
      "                   all         40        150      0.744      0.407      0.363      0.162\n",
      "\n",
      "      Epoch    GPU_mem   box_loss   obj_loss   cls_loss  Instances       Size\n",
      "     29/199      9.42G    0.04461    0.01491    0.03522          1        448: 100% 11/11 [00:05<00:00,  1.89it/s]\n",
      "                 Class     Images  Instances          P          R      mAP50   mAP50-95: 100% 2/2 [00:00<00:00,  2.62it/s]\n",
      "                   all         40        150      0.502      0.428      0.342      0.159\n",
      "\n",
      "      Epoch    GPU_mem   box_loss   obj_loss   cls_loss  Instances       Size\n",
      "     30/199      9.42G    0.04634    0.01838    0.03197          7        448: 100% 11/11 [00:06<00:00,  1.82it/s]\n",
      "                 Class     Images  Instances          P          R      mAP50   mAP50-95: 100% 2/2 [00:00<00:00,  2.65it/s]\n",
      "                   all         40        150      0.524      0.421      0.364      0.172\n",
      "\n",
      "      Epoch    GPU_mem   box_loss   obj_loss   cls_loss  Instances       Size\n",
      "     31/199      9.42G     0.0412    0.01448    0.02913          5        448: 100% 11/11 [00:05<00:00,  1.90it/s]\n",
      "                 Class     Images  Instances          P          R      mAP50   mAP50-95: 100% 2/2 [00:00<00:00,  2.66it/s]\n",
      "                   all         40        150      0.711      0.414       0.33      0.168\n",
      "\n",
      "      Epoch    GPU_mem   box_loss   obj_loss   cls_loss  Instances       Size\n",
      "     32/199      9.42G    0.04386    0.01638    0.02928          8        448: 100% 11/11 [00:05<00:00,  1.91it/s]\n",
      "                 Class     Images  Instances          P          R      mAP50   mAP50-95: 100% 2/2 [00:00<00:00,  2.64it/s]\n",
      "                   all         40        150      0.722      0.372      0.329      0.145\n",
      "\n",
      "      Epoch    GPU_mem   box_loss   obj_loss   cls_loss  Instances       Size\n",
      "     33/199      9.42G    0.04275     0.0154    0.02819          1        448: 100% 11/11 [00:05<00:00,  1.89it/s]\n",
      "                 Class     Images  Instances          P          R      mAP50   mAP50-95: 100% 2/2 [00:00<00:00,  2.64it/s]\n",
      "                   all         40        150      0.348      0.432      0.374      0.166\n",
      "\n",
      "      Epoch    GPU_mem   box_loss   obj_loss   cls_loss  Instances       Size\n",
      "     34/199      9.42G    0.04802    0.01909    0.02838         10        448: 100% 11/11 [00:05<00:00,  1.89it/s]\n",
      "                 Class     Images  Instances          P          R      mAP50   mAP50-95: 100% 2/2 [00:00<00:00,  2.66it/s]\n",
      "                   all         40        150      0.574      0.383       0.38       0.19\n",
      "\n",
      "      Epoch    GPU_mem   box_loss   obj_loss   cls_loss  Instances       Size\n",
      "     35/199      9.42G    0.04155    0.01504    0.02919          0        448: 100% 11/11 [00:05<00:00,  1.90it/s]\n",
      "                 Class     Images  Instances          P          R      mAP50   mAP50-95: 100% 2/2 [00:00<00:00,  2.66it/s]\n",
      "                   all         40        150      0.353      0.376      0.351      0.173\n",
      "\n",
      "      Epoch    GPU_mem   box_loss   obj_loss   cls_loss  Instances       Size\n",
      "     36/199      9.42G    0.03884    0.01555    0.02391          1        448: 100% 11/11 [00:05<00:00,  1.91it/s]\n",
      "                 Class     Images  Instances          P          R      mAP50   mAP50-95: 100% 2/2 [00:00<00:00,  2.60it/s]\n",
      "                   all         40        150      0.309      0.362      0.321      0.146\n",
      "\n",
      "      Epoch    GPU_mem   box_loss   obj_loss   cls_loss  Instances       Size\n",
      "     37/199      9.42G    0.03788    0.01638     0.0254          4        448: 100% 11/11 [00:05<00:00,  1.89it/s]\n",
      "                 Class     Images  Instances          P          R      mAP50   mAP50-95: 100% 2/2 [00:00<00:00,  2.65it/s]\n",
      "                   all         40        150      0.534      0.347      0.339      0.159\n",
      "\n",
      "      Epoch    GPU_mem   box_loss   obj_loss   cls_loss  Instances       Size\n",
      "     38/199      9.42G    0.03984    0.01556    0.02637          1        448: 100% 11/11 [00:05<00:00,  1.90it/s]\n",
      "                 Class     Images  Instances          P          R      mAP50   mAP50-95: 100% 2/2 [00:00<00:00,  2.65it/s]\n",
      "                   all         40        150      0.286      0.375      0.316      0.144\n",
      "\n",
      "      Epoch    GPU_mem   box_loss   obj_loss   cls_loss  Instances       Size\n",
      "     39/199      9.42G    0.03826     0.0144    0.02339          2        448: 100% 11/11 [00:05<00:00,  1.89it/s]\n",
      "                 Class     Images  Instances          P          R      mAP50   mAP50-95: 100% 2/2 [00:00<00:00,  2.54it/s]\n",
      "                   all         40        150      0.292      0.404      0.327      0.154\n",
      "\n",
      "      Epoch    GPU_mem   box_loss   obj_loss   cls_loss  Instances       Size\n",
      "     40/199      9.42G    0.03705    0.01518    0.02318          3        448: 100% 11/11 [00:05<00:00,  1.90it/s]\n",
      "                 Class     Images  Instances          P          R      mAP50   mAP50-95: 100% 2/2 [00:00<00:00,  2.65it/s]\n",
      "                   all         40        150      0.329      0.386      0.324      0.149\n",
      "\n",
      "      Epoch    GPU_mem   box_loss   obj_loss   cls_loss  Instances       Size\n",
      "     41/199      9.42G     0.0429    0.01449    0.02293          2        448: 100% 11/11 [00:05<00:00,  1.89it/s]\n",
      "                 Class     Images  Instances          P          R      mAP50   mAP50-95: 100% 2/2 [00:00<00:00,  2.64it/s]\n",
      "                   all         40        150      0.283      0.409      0.297      0.149\n",
      "\n",
      "      Epoch    GPU_mem   box_loss   obj_loss   cls_loss  Instances       Size\n",
      "     42/199      9.42G    0.03905    0.01627    0.02582          1        448: 100% 11/11 [00:05<00:00,  1.89it/s]\n",
      "                 Class     Images  Instances          P          R      mAP50   mAP50-95: 100% 2/2 [00:00<00:00,  2.63it/s]\n",
      "                   all         40        150      0.731      0.318      0.313      0.143\n",
      "\n",
      "      Epoch    GPU_mem   box_loss   obj_loss   cls_loss  Instances       Size\n",
      "     43/199      9.42G    0.03971    0.01582    0.02578          3        448: 100% 11/11 [00:05<00:00,  1.88it/s]\n",
      "                 Class     Images  Instances          P          R      mAP50   mAP50-95: 100% 2/2 [00:00<00:00,  2.62it/s]\n",
      "                   all         40        150      0.334      0.377      0.335      0.171\n",
      "\n",
      "      Epoch    GPU_mem   box_loss   obj_loss   cls_loss  Instances       Size\n",
      "     44/199      9.42G     0.0401    0.01432    0.02424          1        448: 100% 11/11 [00:05<00:00,  1.91it/s]\n",
      "                 Class     Images  Instances          P          R      mAP50   mAP50-95: 100% 2/2 [00:00<00:00,  2.66it/s]\n",
      "                   all         40        150        0.3      0.388      0.298      0.137\n",
      "\n",
      "      Epoch    GPU_mem   box_loss   obj_loss   cls_loss  Instances       Size\n",
      "     45/199      9.42G    0.03937    0.01669    0.02228         13        448: 100% 11/11 [00:05<00:00,  1.89it/s]\n",
      "                 Class     Images  Instances          P          R      mAP50   mAP50-95: 100% 2/2 [00:00<00:00,  2.67it/s]\n",
      "                   all         40        150      0.526      0.338      0.297      0.152\n",
      "\n",
      "      Epoch    GPU_mem   box_loss   obj_loss   cls_loss  Instances       Size\n",
      "     46/199      9.42G    0.03866    0.01508    0.02353          2        448: 100% 11/11 [00:05<00:00,  1.88it/s]\n",
      "                 Class     Images  Instances          P          R      mAP50   mAP50-95: 100% 2/2 [00:00<00:00,  2.65it/s]\n",
      "                   all         40        150      0.734      0.304       0.31      0.138\n",
      "\n",
      "      Epoch    GPU_mem   box_loss   obj_loss   cls_loss  Instances       Size\n",
      "     47/199      9.42G     0.0415    0.01564    0.02491          3        448: 100% 11/11 [00:05<00:00,  1.87it/s]\n",
      "                 Class     Images  Instances          P          R      mAP50   mAP50-95: 100% 2/2 [00:00<00:00,  2.64it/s]\n",
      "                   all         40        150       0.69      0.354      0.322      0.162\n",
      "\n",
      "      Epoch    GPU_mem   box_loss   obj_loss   cls_loss  Instances       Size\n",
      "     48/199      9.42G    0.04002    0.01386    0.01989          2        448: 100% 11/11 [00:05<00:00,  1.90it/s]\n",
      "                 Class     Images  Instances          P          R      mAP50   mAP50-95: 100% 2/2 [00:00<00:00,  2.65it/s]\n",
      "                   all         40        150      0.254      0.348      0.297       0.14\n",
      "\n",
      "      Epoch    GPU_mem   box_loss   obj_loss   cls_loss  Instances       Size\n",
      "     49/199      9.42G     0.0383     0.0147    0.01827          1        448: 100% 11/11 [00:05<00:00,  1.89it/s]\n",
      "                 Class     Images  Instances          P          R      mAP50   mAP50-95: 100% 2/2 [00:00<00:00,  2.62it/s]\n",
      "                   all         40        150      0.289      0.364      0.316      0.137\n",
      "\n",
      "      Epoch    GPU_mem   box_loss   obj_loss   cls_loss  Instances       Size\n",
      "     50/199      9.42G    0.03615    0.01522    0.01999          6        448: 100% 11/11 [00:05<00:00,  1.89it/s]\n",
      "                 Class     Images  Instances          P          R      mAP50   mAP50-95: 100% 2/2 [00:00<00:00,  2.67it/s]\n",
      "                   all         40        150      0.577      0.357      0.353      0.163\n",
      "\n",
      "      Epoch    GPU_mem   box_loss   obj_loss   cls_loss  Instances       Size\n",
      "     51/199      9.42G    0.03474    0.01635    0.02068          7        448: 100% 11/11 [00:05<00:00,  1.89it/s]\n",
      "                 Class     Images  Instances          P          R      mAP50   mAP50-95: 100% 2/2 [00:00<00:00,  2.69it/s]\n",
      "                   all         40        150      0.523      0.383      0.359      0.159\n",
      "\n",
      "      Epoch    GPU_mem   box_loss   obj_loss   cls_loss  Instances       Size\n",
      "     52/199      9.42G    0.03944    0.01336    0.02646          2        448: 100% 11/11 [00:05<00:00,  1.90it/s]\n",
      "                 Class     Images  Instances          P          R      mAP50   mAP50-95: 100% 2/2 [00:00<00:00,  2.68it/s]\n",
      "                   all         40        150      0.843      0.295      0.359      0.166\n",
      "\n",
      "      Epoch    GPU_mem   box_loss   obj_loss   cls_loss  Instances       Size\n",
      "     53/199      9.42G    0.03615    0.01522    0.01794          8        448: 100% 11/11 [00:05<00:00,  1.89it/s]\n",
      "                 Class     Images  Instances          P          R      mAP50   mAP50-95: 100% 2/2 [00:00<00:00,  2.62it/s]\n",
      "                   all         40        150      0.329      0.438      0.366      0.162\n",
      "\n",
      "      Epoch    GPU_mem   box_loss   obj_loss   cls_loss  Instances       Size\n",
      "     54/199      9.42G    0.03672    0.01537    0.02078          3        448: 100% 11/11 [00:05<00:00,  1.89it/s]\n",
      "                 Class     Images  Instances          P          R      mAP50   mAP50-95: 100% 2/2 [00:00<00:00,  2.62it/s]\n",
      "                   all         40        150      0.278       0.48      0.342      0.152\n",
      "\n",
      "      Epoch    GPU_mem   box_loss   obj_loss   cls_loss  Instances       Size\n",
      "     55/199      9.42G    0.04049    0.01421    0.02022          2        448: 100% 11/11 [00:05<00:00,  1.89it/s]\n",
      "                 Class     Images  Instances          P          R      mAP50   mAP50-95: 100% 2/2 [00:00<00:00,  2.67it/s]\n",
      "                   all         40        150      0.345      0.385      0.371      0.154\n",
      "\n",
      "      Epoch    GPU_mem   box_loss   obj_loss   cls_loss  Instances       Size\n",
      "     56/199      9.42G    0.03926    0.01473    0.01667          7        448: 100% 11/11 [00:05<00:00,  1.91it/s]\n",
      "                 Class     Images  Instances          P          R      mAP50   mAP50-95: 100% 2/2 [00:00<00:00,  2.65it/s]\n",
      "                   all         40        150      0.564      0.393      0.379      0.209\n",
      "\n",
      "      Epoch    GPU_mem   box_loss   obj_loss   cls_loss  Instances       Size\n",
      "     57/199      9.42G    0.03904    0.01512    0.01724          3        448: 100% 11/11 [00:05<00:00,  1.89it/s]\n",
      "                 Class     Images  Instances          P          R      mAP50   mAP50-95: 100% 2/2 [00:00<00:00,  2.66it/s]\n",
      "                   all         40        150      0.297      0.401      0.343      0.153\n",
      "\n",
      "      Epoch    GPU_mem   box_loss   obj_loss   cls_loss  Instances       Size\n",
      "     58/199      9.42G    0.04125    0.02181    0.02012         11        448: 100% 11/11 [00:05<00:00,  1.88it/s]\n",
      "                 Class     Images  Instances          P          R      mAP50   mAP50-95: 100% 2/2 [00:00<00:00,  2.64it/s]\n",
      "                   all         40        150      0.541      0.374      0.351      0.164\n",
      "\n",
      "      Epoch    GPU_mem   box_loss   obj_loss   cls_loss  Instances       Size\n",
      "     59/199      9.42G     0.0399    0.01283    0.01741          4        448: 100% 11/11 [00:05<00:00,  1.88it/s]\n",
      "                 Class     Images  Instances          P          R      mAP50   mAP50-95: 100% 2/2 [00:00<00:00,  2.60it/s]\n",
      "                   all         40        150      0.569      0.341      0.331      0.165\n",
      "\n",
      "      Epoch    GPU_mem   box_loss   obj_loss   cls_loss  Instances       Size\n",
      "     60/199      9.42G    0.03685    0.01337    0.01626          1        448: 100% 11/11 [00:05<00:00,  1.91it/s]\n",
      "                 Class     Images  Instances          P          R      mAP50   mAP50-95: 100% 2/2 [00:00<00:00,  2.67it/s]\n",
      "                   all         40        150      0.361      0.383      0.337      0.175\n",
      "\n",
      "      Epoch    GPU_mem   box_loss   obj_loss   cls_loss  Instances       Size\n",
      "     61/199      9.42G    0.03842    0.01416    0.01815          1        448: 100% 11/11 [00:06<00:00,  1.81it/s]\n",
      "                 Class     Images  Instances          P          R      mAP50   mAP50-95: 100% 2/2 [00:00<00:00,  2.66it/s]\n",
      "                   all         40        150       0.34      0.343      0.316      0.154\n",
      "\n",
      "      Epoch    GPU_mem   box_loss   obj_loss   cls_loss  Instances       Size\n",
      "     62/199      9.42G     0.0343    0.01383    0.01555          2        448: 100% 11/11 [00:05<00:00,  1.89it/s]\n",
      "                 Class     Images  Instances          P          R      mAP50   mAP50-95: 100% 2/2 [00:00<00:00,  2.65it/s]\n",
      "                   all         40        150       0.55      0.365      0.356      0.189\n",
      "\n",
      "      Epoch    GPU_mem   box_loss   obj_loss   cls_loss  Instances       Size\n",
      "     63/199      9.42G    0.03283    0.01478    0.01773          7        448: 100% 11/11 [00:05<00:00,  1.89it/s]\n",
      "                 Class     Images  Instances          P          R      mAP50   mAP50-95: 100% 2/2 [00:00<00:00,  2.64it/s]\n",
      "                   all         40        150      0.771      0.352      0.376      0.196\n",
      "\n",
      "      Epoch    GPU_mem   box_loss   obj_loss   cls_loss  Instances       Size\n",
      "     64/199      9.42G    0.03418    0.01533      0.014          7        448: 100% 11/11 [00:05<00:00,  1.91it/s]\n",
      "                 Class     Images  Instances          P          R      mAP50   mAP50-95: 100% 2/2 [00:00<00:00,  2.61it/s]\n",
      "                   all         40        150      0.779      0.361      0.363      0.187\n",
      "\n",
      "      Epoch    GPU_mem   box_loss   obj_loss   cls_loss  Instances       Size\n",
      "     65/199      9.42G    0.03512    0.01356    0.01462          6        448: 100% 11/11 [00:05<00:00,  1.89it/s]\n",
      "                 Class     Images  Instances          P          R      mAP50   mAP50-95: 100% 2/2 [00:00<00:00,  2.62it/s]\n",
      "                   all         40        150      0.742      0.351      0.351      0.172\n",
      "\n",
      "      Epoch    GPU_mem   box_loss   obj_loss   cls_loss  Instances       Size\n",
      "     66/199      9.42G    0.03279    0.01306    0.01608          2        448: 100% 11/11 [00:05<00:00,  1.88it/s]\n",
      "                 Class     Images  Instances          P          R      mAP50   mAP50-95: 100% 2/2 [00:00<00:00,  2.64it/s]\n",
      "                   all         40        150      0.558      0.343      0.356      0.189\n",
      "\n",
      "      Epoch    GPU_mem   box_loss   obj_loss   cls_loss  Instances       Size\n",
      "     67/199      9.42G    0.03641    0.01425    0.01568          5        448: 100% 11/11 [00:05<00:00,  1.88it/s]\n",
      "                 Class     Images  Instances          P          R      mAP50   mAP50-95: 100% 2/2 [00:00<00:00,  2.68it/s]\n",
      "                   all         40        150      0.312      0.375      0.325      0.159\n",
      "\n",
      "      Epoch    GPU_mem   box_loss   obj_loss   cls_loss  Instances       Size\n",
      "     68/199      9.42G    0.03151    0.01302    0.01665          5        448: 100% 11/11 [00:05<00:00,  1.90it/s]\n",
      "                 Class     Images  Instances          P          R      mAP50   mAP50-95: 100% 2/2 [00:00<00:00,  2.56it/s]\n",
      "                   all         40        150      0.307      0.394      0.347      0.182\n",
      "\n",
      "      Epoch    GPU_mem   box_loss   obj_loss   cls_loss  Instances       Size\n",
      "     69/199      9.42G    0.02973     0.0146    0.01313          6        448: 100% 11/11 [00:05<00:00,  1.89it/s]\n",
      "                 Class     Images  Instances          P          R      mAP50   mAP50-95: 100% 2/2 [00:00<00:00,  2.59it/s]\n",
      "                   all         40        150      0.624      0.329      0.365      0.188\n",
      "\n",
      "      Epoch    GPU_mem   box_loss   obj_loss   cls_loss  Instances       Size\n",
      "     70/199      9.42G    0.03447    0.01288    0.01365          0        448: 100% 11/11 [00:05<00:00,  1.89it/s]\n",
      "                 Class     Images  Instances          P          R      mAP50   mAP50-95: 100% 2/2 [00:00<00:00,  2.65it/s]\n",
      "                   all         40        150      0.323      0.372      0.353      0.186\n",
      "\n",
      "      Epoch    GPU_mem   box_loss   obj_loss   cls_loss  Instances       Size\n",
      "     71/199      9.42G    0.03202    0.01495    0.01535         10        448: 100% 11/11 [00:05<00:00,  1.88it/s]\n",
      "                 Class     Images  Instances          P          R      mAP50   mAP50-95: 100% 2/2 [00:00<00:00,  2.62it/s]\n",
      "                   all         40        150       0.32      0.571      0.361      0.196\n",
      "\n",
      "      Epoch    GPU_mem   box_loss   obj_loss   cls_loss  Instances       Size\n",
      "     72/199      9.42G     0.0358    0.02078    0.01476         16        448: 100% 11/11 [00:05<00:00,  1.90it/s]\n",
      "                 Class     Images  Instances          P          R      mAP50   mAP50-95: 100% 2/2 [00:00<00:00,  2.66it/s]\n",
      "                   all         40        150      0.315      0.594      0.372      0.174\n",
      "\n",
      "      Epoch    GPU_mem   box_loss   obj_loss   cls_loss  Instances       Size\n",
      "     73/199      9.42G    0.03737    0.01839    0.01367         24        448: 100% 11/11 [00:05<00:00,  1.89it/s]\n",
      "                 Class     Images  Instances          P          R      mAP50   mAP50-95: 100% 2/2 [00:00<00:00,  2.66it/s]\n",
      "                   all         40        150      0.304      0.563      0.359      0.182\n",
      "\n",
      "      Epoch    GPU_mem   box_loss   obj_loss   cls_loss  Instances       Size\n",
      "     74/199      9.42G    0.03661    0.01597    0.01441          7        448: 100% 11/11 [00:05<00:00,  1.88it/s]\n",
      "                 Class     Images  Instances          P          R      mAP50   mAP50-95: 100% 2/2 [00:00<00:00,  2.67it/s]\n",
      "                   all         40        150      0.362      0.583      0.386      0.198\n",
      "\n",
      "      Epoch    GPU_mem   box_loss   obj_loss   cls_loss  Instances       Size\n",
      "     75/199      9.42G    0.03721    0.01387    0.01795          1        448: 100% 11/11 [00:05<00:00,  1.88it/s]\n",
      "                 Class     Images  Instances          P          R      mAP50   mAP50-95: 100% 2/2 [00:00<00:00,  2.64it/s]\n",
      "                   all         40        150      0.314      0.599       0.36      0.201\n",
      "\n",
      "      Epoch    GPU_mem   box_loss   obj_loss   cls_loss  Instances       Size\n",
      "     76/199      9.42G    0.03225    0.01419    0.01526         10        448: 100% 11/11 [00:05<00:00,  1.91it/s]\n",
      "                 Class     Images  Instances          P          R      mAP50   mAP50-95: 100% 2/2 [00:00<00:00,  2.70it/s]\n",
      "                   all         40        150      0.334      0.557      0.354      0.176\n",
      "\n",
      "      Epoch    GPU_mem   box_loss   obj_loss   cls_loss  Instances       Size\n",
      "     77/199      9.42G    0.03471    0.01354    0.01214          3        448: 100% 11/11 [00:05<00:00,  1.88it/s]\n",
      "                 Class     Images  Instances          P          R      mAP50   mAP50-95: 100% 2/2 [00:00<00:00,  2.63it/s]\n",
      "                   all         40        150      0.585      0.461      0.338      0.168\n",
      "\n",
      "      Epoch    GPU_mem   box_loss   obj_loss   cls_loss  Instances       Size\n",
      "     78/199      9.42G    0.03147    0.01379    0.01483          9        448: 100% 11/11 [00:05<00:00,  1.88it/s]\n",
      "                 Class     Images  Instances          P          R      mAP50   mAP50-95: 100% 2/2 [00:00<00:00,  2.61it/s]\n",
      "                   all         40        150      0.322      0.514      0.321      0.146\n",
      "\n",
      "      Epoch    GPU_mem   box_loss   obj_loss   cls_loss  Instances       Size\n",
      "     79/199      9.42G    0.03016    0.01169    0.01631          1        448: 100% 11/11 [00:05<00:00,  1.88it/s]\n",
      "                 Class     Images  Instances          P          R      mAP50   mAP50-95: 100% 2/2 [00:00<00:00,  2.69it/s]\n",
      "                   all         40        150      0.417      0.553      0.363      0.184\n",
      "\n",
      "      Epoch    GPU_mem   box_loss   obj_loss   cls_loss  Instances       Size\n",
      "     80/199      9.42G    0.03122    0.01464    0.01445          6        448: 100% 11/11 [00:05<00:00,  1.90it/s]\n",
      "                 Class     Images  Instances          P          R      mAP50   mAP50-95: 100% 2/2 [00:00<00:00,  2.68it/s]\n",
      "                   all         40        150      0.418       0.55      0.365      0.178\n",
      "\n",
      "      Epoch    GPU_mem   box_loss   obj_loss   cls_loss  Instances       Size\n",
      "     81/199      9.42G    0.03036    0.01353    0.01067         13        448: 100% 11/11 [00:05<00:00,  1.87it/s]\n",
      "                 Class     Images  Instances          P          R      mAP50   mAP50-95: 100% 2/2 [00:00<00:00,  2.66it/s]\n",
      "                   all         40        150      0.379      0.544      0.356      0.175\n",
      "\n",
      "      Epoch    GPU_mem   box_loss   obj_loss   cls_loss  Instances       Size\n",
      "     82/199      9.42G    0.03369    0.01445    0.01335          5        448: 100% 11/11 [00:05<00:00,  1.88it/s]\n",
      "                 Class     Images  Instances          P          R      mAP50   mAP50-95: 100% 2/2 [00:00<00:00,  2.56it/s]\n",
      "                   all         40        150      0.601      0.333      0.335      0.178\n",
      "\n",
      "      Epoch    GPU_mem   box_loss   obj_loss   cls_loss  Instances       Size\n",
      "     83/199      9.42G     0.0331     0.0127   0.009598          2        448: 100% 11/11 [00:05<00:00,  1.88it/s]\n",
      "                 Class     Images  Instances          P          R      mAP50   mAP50-95: 100% 2/2 [00:00<00:00,  2.65it/s]\n",
      "                   all         40        150      0.774      0.318      0.347       0.16\n",
      "\n",
      "      Epoch    GPU_mem   box_loss   obj_loss   cls_loss  Instances       Size\n",
      "     84/199      9.42G    0.03139    0.01293     0.0117          3        448: 100% 11/11 [00:05<00:00,  1.90it/s]\n",
      "                 Class     Images  Instances          P          R      mAP50   mAP50-95: 100% 2/2 [00:00<00:00,  2.68it/s]\n",
      "                   all         40        150      0.797      0.325      0.341      0.173\n",
      "\n",
      "      Epoch    GPU_mem   box_loss   obj_loss   cls_loss  Instances       Size\n",
      "     85/199      9.42G    0.02746    0.01208    0.01243          1        448: 100% 11/11 [00:05<00:00,  1.88it/s]\n",
      "                 Class     Images  Instances          P          R      mAP50   mAP50-95: 100% 2/2 [00:00<00:00,  2.64it/s]\n",
      "                   all         40        150      0.532       0.39      0.349      0.183\n",
      "\n",
      "      Epoch    GPU_mem   box_loss   obj_loss   cls_loss  Instances       Size\n",
      "     86/199      9.42G    0.02973    0.01144    0.01728          1        448: 100% 11/11 [00:05<00:00,  1.88it/s]\n",
      "                 Class     Images  Instances          P          R      mAP50   mAP50-95: 100% 2/2 [00:00<00:00,  2.66it/s]\n",
      "                   all         40        150      0.305       0.39      0.333      0.172\n",
      "\n",
      "      Epoch    GPU_mem   box_loss   obj_loss   cls_loss  Instances       Size\n",
      "     87/199      9.42G    0.03008    0.01463    0.01138          8        448: 100% 11/11 [00:05<00:00,  1.88it/s]\n",
      "                 Class     Images  Instances          P          R      mAP50   mAP50-95: 100% 2/2 [00:00<00:00,  2.61it/s]\n",
      "                   all         40        150      0.524       0.37       0.33      0.176\n",
      "\n",
      "      Epoch    GPU_mem   box_loss   obj_loss   cls_loss  Instances       Size\n",
      "     88/199      9.42G    0.03254    0.01328    0.01145          6        448: 100% 11/11 [00:05<00:00,  1.89it/s]\n",
      "                 Class     Images  Instances          P          R      mAP50   mAP50-95: 100% 2/2 [00:00<00:00,  2.57it/s]\n",
      "                   all         40        150      0.524      0.353      0.322      0.173\n",
      "\n",
      "      Epoch    GPU_mem   box_loss   obj_loss   cls_loss  Instances       Size\n",
      "     89/199      9.42G    0.03376    0.01101    0.01122          1        448: 100% 11/11 [00:05<00:00,  1.89it/s]\n",
      "                 Class     Images  Instances          P          R      mAP50   mAP50-95: 100% 2/2 [00:00<00:00,  2.65it/s]\n",
      "                   all         40        150      0.533      0.342      0.319      0.168\n",
      "\n",
      "      Epoch    GPU_mem   box_loss   obj_loss   cls_loss  Instances       Size\n",
      "     90/199      9.42G    0.02764    0.01605     0.0104         10        448: 100% 11/11 [00:05<00:00,  1.89it/s]\n",
      "                 Class     Images  Instances          P          R      mAP50   mAP50-95: 100% 2/2 [00:00<00:00,  2.64it/s]\n",
      "                   all         40        150      0.557      0.334      0.325      0.166\n",
      "\n",
      "      Epoch    GPU_mem   box_loss   obj_loss   cls_loss  Instances       Size\n",
      "     91/199      9.42G    0.02981    0.01434   0.007615          7        448: 100% 11/11 [00:05<00:00,  1.88it/s]\n",
      "                 Class     Images  Instances          P          R      mAP50   mAP50-95: 100% 2/2 [00:00<00:00,  2.63it/s]\n",
      "                   all         40        150      0.351      0.335      0.309      0.147\n",
      "\n",
      "      Epoch    GPU_mem   box_loss   obj_loss   cls_loss  Instances       Size\n",
      "     92/199      9.42G    0.03261    0.01122    0.01286          3        448: 100% 11/11 [00:05<00:00,  1.90it/s]\n",
      "                 Class     Images  Instances          P          R      mAP50   mAP50-95: 100% 2/2 [00:00<00:00,  2.65it/s]\n",
      "                   all         40        150      0.345      0.333      0.333      0.154\n",
      "\n",
      "      Epoch    GPU_mem   box_loss   obj_loss   cls_loss  Instances       Size\n",
      "     93/199      9.42G    0.03351    0.01313   0.009082         11        448: 100% 11/11 [00:05<00:00,  1.88it/s]\n",
      "                 Class     Images  Instances          P          R      mAP50   mAP50-95: 100% 2/2 [00:00<00:00,  2.66it/s]\n",
      "                   all         40        150      0.342      0.339      0.304      0.154\n",
      "\n",
      "      Epoch    GPU_mem   box_loss   obj_loss   cls_loss  Instances       Size\n",
      "     94/199      9.42G    0.03156    0.01286   0.009444          5        448: 100% 11/11 [00:05<00:00,  1.88it/s]\n",
      "                 Class     Images  Instances          P          R      mAP50   mAP50-95: 100% 2/2 [00:00<00:00,  2.59it/s]\n",
      "                   all         40        150      0.788      0.319      0.328      0.162\n",
      "\n",
      "      Epoch    GPU_mem   box_loss   obj_loss   cls_loss  Instances       Size\n",
      "     95/199      9.42G    0.03372     0.0181    0.01498          9        448: 100% 11/11 [00:05<00:00,  1.87it/s]\n",
      "                 Class     Images  Instances          P          R      mAP50   mAP50-95: 100% 2/2 [00:00<00:00,  2.60it/s]\n",
      "                   all         40        150      0.568      0.322      0.324      0.165\n",
      "\n",
      "      Epoch    GPU_mem   box_loss   obj_loss   cls_loss  Instances       Size\n",
      "     96/199      9.42G    0.02661     0.0112   0.008127          0        448: 100% 11/11 [00:05<00:00,  1.91it/s]\n",
      "                 Class     Images  Instances          P          R      mAP50   mAP50-95: 100% 2/2 [00:00<00:00,  2.68it/s]\n",
      "                   all         40        150      0.553      0.305      0.321      0.167\n",
      "\n",
      "      Epoch    GPU_mem   box_loss   obj_loss   cls_loss  Instances       Size\n",
      "     97/199      9.42G    0.03286    0.01398    0.01346          7        448: 100% 11/11 [00:05<00:00,  1.88it/s]\n",
      "                 Class     Images  Instances          P          R      mAP50   mAP50-95: 100% 2/2 [00:00<00:00,  2.67it/s]\n",
      "                   all         40        150      0.364      0.349      0.349      0.174\n",
      "\n",
      "      Epoch    GPU_mem   box_loss   obj_loss   cls_loss  Instances       Size\n",
      "     98/199      9.42G     0.0312    0.01229     0.0123          4        448: 100% 11/11 [00:05<00:00,  1.88it/s]\n",
      "                 Class     Images  Instances          P          R      mAP50   mAP50-95: 100% 2/2 [00:00<00:00,  2.69it/s]\n",
      "                   all         40        150      0.367       0.37      0.354       0.18\n",
      "\n",
      "      Epoch    GPU_mem   box_loss   obj_loss   cls_loss  Instances       Size\n",
      "     99/199      9.42G    0.03064    0.01293    0.01166          4        448: 100% 11/11 [00:05<00:00,  1.88it/s]\n",
      "                 Class     Images  Instances          P          R      mAP50   mAP50-95: 100% 2/2 [00:00<00:00,  2.65it/s]\n",
      "                   all         40        150      0.384      0.344      0.358      0.192\n",
      "\n",
      "      Epoch    GPU_mem   box_loss   obj_loss   cls_loss  Instances       Size\n",
      "    100/199      9.42G    0.02844    0.01305   0.008774          6        448: 100% 11/11 [00:05<00:00,  1.90it/s]\n",
      "                 Class     Images  Instances          P          R      mAP50   mAP50-95: 100% 2/2 [00:00<00:00,  2.67it/s]\n",
      "                   all         40        150      0.392      0.354      0.363      0.186\n",
      "\n",
      "      Epoch    GPU_mem   box_loss   obj_loss   cls_loss  Instances       Size\n",
      "    101/199      9.42G    0.02708    0.01236   0.009199          6        448: 100% 11/11 [00:05<00:00,  1.88it/s]\n",
      "                 Class     Images  Instances          P          R      mAP50   mAP50-95: 100% 2/2 [00:00<00:00,  2.65it/s]\n",
      "                   all         40        150      0.603      0.337      0.349      0.197\n",
      "\n",
      "      Epoch    GPU_mem   box_loss   obj_loss   cls_loss  Instances       Size\n",
      "    102/199      9.42G    0.02763    0.01118     0.0088          4        448: 100% 11/11 [00:05<00:00,  1.88it/s]\n",
      "                 Class     Images  Instances          P          R      mAP50   mAP50-95: 100% 2/2 [00:00<00:00,  2.64it/s]\n",
      "                   all         40        150      0.356      0.362      0.351      0.197\n",
      "\n",
      "      Epoch    GPU_mem   box_loss   obj_loss   cls_loss  Instances       Size\n",
      "    103/199      9.42G    0.02571    0.01114   0.009062          1        448: 100% 11/11 [00:05<00:00,  1.88it/s]\n",
      "                 Class     Images  Instances          P          R      mAP50   mAP50-95: 100% 2/2 [00:00<00:00,  2.68it/s]\n",
      "                   all         40        150      0.819      0.318      0.368      0.202\n",
      "\n",
      "      Epoch    GPU_mem   box_loss   obj_loss   cls_loss  Instances       Size\n",
      "    104/199      9.42G    0.02951    0.01445    0.01169          9        448: 100% 11/11 [00:05<00:00,  1.90it/s]\n",
      "                 Class     Images  Instances          P          R      mAP50   mAP50-95: 100% 2/2 [00:00<00:00,  2.62it/s]\n",
      "                   all         40        150      0.819      0.306      0.363      0.197\n",
      "\n",
      "      Epoch    GPU_mem   box_loss   obj_loss   cls_loss  Instances       Size\n",
      "    105/199      9.42G    0.02485    0.01066   0.006621          0        448: 100% 11/11 [00:05<00:00,  1.88it/s]\n",
      "                 Class     Images  Instances          P          R      mAP50   mAP50-95: 100% 2/2 [00:00<00:00,  2.65it/s]\n",
      "                   all         40        150      0.544      0.346      0.362      0.202\n",
      "\n",
      "      Epoch    GPU_mem   box_loss   obj_loss   cls_loss  Instances       Size\n",
      "    106/199      9.42G    0.02661    0.01503   0.007016         17        448: 100% 11/11 [00:05<00:00,  1.88it/s]\n",
      "                 Class     Images  Instances          P          R      mAP50   mAP50-95: 100% 2/2 [00:00<00:00,  2.68it/s]\n",
      "                   all         40        150      0.324      0.357      0.347        0.2\n",
      "\n",
      "      Epoch    GPU_mem   box_loss   obj_loss   cls_loss  Instances       Size\n",
      "    107/199      9.42G    0.02644     0.0116   0.007008          6        448: 100% 11/11 [00:05<00:00,  1.87it/s]\n",
      "                 Class     Images  Instances          P          R      mAP50   mAP50-95: 100% 2/2 [00:00<00:00,  2.66it/s]\n",
      "                   all         40        150      0.541      0.325      0.344      0.189\n",
      "\n",
      "      Epoch    GPU_mem   box_loss   obj_loss   cls_loss  Instances       Size\n",
      "    108/199      9.42G    0.02786    0.01211   0.006783         13        448: 100% 11/11 [00:05<00:00,  1.90it/s]\n",
      "                 Class     Images  Instances          P          R      mAP50   mAP50-95: 100% 2/2 [00:00<00:00,  2.64it/s]\n",
      "                   all         40        150      0.346      0.354       0.35      0.186\n",
      "\n",
      "      Epoch    GPU_mem   box_loss   obj_loss   cls_loss  Instances       Size\n",
      "    109/199      9.42G    0.02637    0.01572    0.01102         11        448: 100% 11/11 [00:05<00:00,  1.88it/s]\n",
      "                 Class     Images  Instances          P          R      mAP50   mAP50-95: 100% 2/2 [00:00<00:00,  2.64it/s]\n",
      "                   all         40        150      0.577      0.317      0.348      0.192\n",
      "\n",
      "      Epoch    GPU_mem   box_loss   obj_loss   cls_loss  Instances       Size\n",
      "    110/199      9.42G    0.02689     0.0114   0.006671          3        448: 100% 11/11 [00:05<00:00,  1.88it/s]\n",
      "                 Class     Images  Instances          P          R      mAP50   mAP50-95: 100% 2/2 [00:00<00:00,  2.70it/s]\n",
      "                   all         40        150      0.623      0.318      0.359      0.193\n",
      "\n",
      "      Epoch    GPU_mem   box_loss   obj_loss   cls_loss  Instances       Size\n",
      "    111/199      9.42G    0.02603    0.01088   0.006592          5        448: 100% 11/11 [00:05<00:00,  1.88it/s]\n",
      "                 Class     Images  Instances          P          R      mAP50   mAP50-95: 100% 2/2 [00:00<00:00,  2.67it/s]\n",
      "                   all         40        150      0.347      0.386      0.359      0.192\n",
      "\n",
      "      Epoch    GPU_mem   box_loss   obj_loss   cls_loss  Instances       Size\n",
      "    112/199      9.42G    0.02661    0.01137   0.007323          8        448: 100% 11/11 [00:05<00:00,  1.89it/s]\n",
      "                 Class     Images  Instances          P          R      mAP50   mAP50-95: 100% 2/2 [00:00<00:00,  2.61it/s]\n",
      "                   all         40        150      0.357      0.578       0.35      0.184\n",
      "\n",
      "      Epoch    GPU_mem   box_loss   obj_loss   cls_loss  Instances       Size\n",
      "    113/199      9.42G    0.02728    0.01016   0.007169          1        448: 100% 11/11 [00:05<00:00,  1.88it/s]\n",
      "                 Class     Images  Instances          P          R      mAP50   mAP50-95: 100% 2/2 [00:00<00:00,  2.63it/s]\n",
      "                   all         40        150      0.373      0.564      0.358      0.201\n",
      "\n",
      "      Epoch    GPU_mem   box_loss   obj_loss   cls_loss  Instances       Size\n",
      "    114/199      9.42G    0.02694    0.01215   0.008341          7        448: 100% 11/11 [00:05<00:00,  1.89it/s]\n",
      "                 Class     Images  Instances          P          R      mAP50   mAP50-95: 100% 2/2 [00:00<00:00,  2.63it/s]\n",
      "                   all         40        150       0.37      0.554       0.38      0.208\n",
      "\n",
      "      Epoch    GPU_mem   box_loss   obj_loss   cls_loss  Instances       Size\n",
      "    115/199      9.42G    0.02585    0.01073   0.007697          6        448: 100% 11/11 [00:05<00:00,  1.88it/s]\n",
      "                 Class     Images  Instances          P          R      mAP50   mAP50-95: 100% 2/2 [00:00<00:00,  2.68it/s]\n",
      "                   all         40        150      0.552      0.337      0.363      0.206\n",
      "\n",
      "      Epoch    GPU_mem   box_loss   obj_loss   cls_loss  Instances       Size\n",
      "    116/199      9.42G     0.0268    0.01092   0.006826          4        448: 100% 11/11 [00:05<00:00,  1.89it/s]\n",
      "                 Class     Images  Instances          P          R      mAP50   mAP50-95: 100% 2/2 [00:00<00:00,  2.63it/s]\n",
      "                   all         40        150      0.771      0.346      0.384      0.211\n",
      "\n",
      "      Epoch    GPU_mem   box_loss   obj_loss   cls_loss  Instances       Size\n",
      "    117/199      9.42G     0.0259    0.01063   0.005846          1        448: 100% 11/11 [00:05<00:00,  1.88it/s]\n",
      "                 Class     Images  Instances          P          R      mAP50   mAP50-95: 100% 2/2 [00:00<00:00,  2.67it/s]\n",
      "                   all         40        150      0.569      0.375      0.388      0.214\n",
      "\n",
      "      Epoch    GPU_mem   box_loss   obj_loss   cls_loss  Instances       Size\n",
      "    118/199      9.42G    0.02798    0.01114    0.00724          7        448: 100% 11/11 [00:05<00:00,  1.89it/s]\n",
      "                 Class     Images  Instances          P          R      mAP50   mAP50-95: 100% 2/2 [00:00<00:00,  2.68it/s]\n",
      "                   all         40        150      0.337      0.387      0.382      0.206\n",
      "\n",
      "      Epoch    GPU_mem   box_loss   obj_loss   cls_loss  Instances       Size\n",
      "    119/199      9.42G    0.02497    0.01051   0.004832          2        448: 100% 11/11 [00:05<00:00,  1.89it/s]\n",
      "                 Class     Images  Instances          P          R      mAP50   mAP50-95: 100% 2/2 [00:00<00:00,  2.61it/s]\n",
      "                   all         40        150      0.531      0.376      0.373      0.209\n",
      "\n",
      "      Epoch    GPU_mem   box_loss   obj_loss   cls_loss  Instances       Size\n",
      "    120/199      9.42G    0.02394    0.01172   0.005363          3        448: 100% 11/11 [00:05<00:00,  1.91it/s]\n",
      "                 Class     Images  Instances          P          R      mAP50   mAP50-95: 100% 2/2 [00:00<00:00,  2.65it/s]\n",
      "                   all         40        150      0.532       0.39      0.377      0.195\n",
      "\n",
      "      Epoch    GPU_mem   box_loss   obj_loss   cls_loss  Instances       Size\n",
      "    121/199      9.42G    0.02851     0.0102   0.007585          3        448: 100% 11/11 [00:05<00:00,  1.88it/s]\n",
      "                 Class     Images  Instances          P          R      mAP50   mAP50-95: 100% 2/2 [00:00<00:00,  2.68it/s]\n",
      "                   all         40        150      0.546      0.371      0.377      0.201\n",
      "\n",
      "      Epoch    GPU_mem   box_loss   obj_loss   cls_loss  Instances       Size\n",
      "    122/199      9.42G     0.0271    0.01271    0.01005         11        448: 100% 11/11 [00:05<00:00,  1.88it/s]\n",
      "                 Class     Images  Instances          P          R      mAP50   mAP50-95: 100% 2/2 [00:00<00:00,  2.66it/s]\n",
      "                   all         40        150      0.353      0.414      0.388      0.202\n",
      "\n",
      "      Epoch    GPU_mem   box_loss   obj_loss   cls_loss  Instances       Size\n",
      "    123/199      9.42G    0.02262    0.01086   0.006516          1        448: 100% 11/11 [00:05<00:00,  1.88it/s]\n",
      "                 Class     Images  Instances          P          R      mAP50   mAP50-95: 100% 2/2 [00:00<00:00,  2.63it/s]\n",
      "                   all         40        150      0.351      0.409       0.39      0.211\n",
      "\n",
      "      Epoch    GPU_mem   box_loss   obj_loss   cls_loss  Instances       Size\n",
      "    124/199      9.42G    0.02605     0.0128    0.00607         14        448: 100% 11/11 [00:05<00:00,  1.91it/s]\n",
      "                 Class     Images  Instances          P          R      mAP50   mAP50-95: 100% 2/2 [00:00<00:00,  2.63it/s]\n",
      "                   all         40        150      0.339      0.403      0.387      0.214\n",
      "\n",
      "      Epoch    GPU_mem   box_loss   obj_loss   cls_loss  Instances       Size\n",
      "    125/199      9.42G    0.02338    0.01642    0.01115         14        448: 100% 11/11 [00:06<00:00,  1.80it/s]\n",
      "                 Class     Images  Instances          P          R      mAP50   mAP50-95: 100% 2/2 [00:00<00:00,  2.65it/s]\n",
      "                   all         40        150      0.332      0.412      0.386      0.211\n",
      "\n",
      "      Epoch    GPU_mem   box_loss   obj_loss   cls_loss  Instances       Size\n",
      "    126/199      9.42G    0.02429    0.01131   0.007702          5        448: 100% 11/11 [00:05<00:00,  1.88it/s]\n",
      "                 Class     Images  Instances          P          R      mAP50   mAP50-95: 100% 2/2 [00:00<00:00,  2.68it/s]\n",
      "                   all         40        150      0.355      0.387      0.385      0.203\n",
      "\n",
      "      Epoch    GPU_mem   box_loss   obj_loss   cls_loss  Instances       Size\n",
      "    127/199      9.42G    0.02544    0.01058   0.006548          2        448: 100% 11/11 [00:05<00:00,  1.88it/s]\n",
      "                 Class     Images  Instances          P          R      mAP50   mAP50-95: 100% 2/2 [00:00<00:00,  2.59it/s]\n",
      "                   all         40        150      0.358      0.421      0.384      0.199\n",
      "\n",
      "      Epoch    GPU_mem   box_loss   obj_loss   cls_loss  Instances       Size\n",
      "    128/199      9.42G    0.02102     0.0105   0.007048          1        448: 100% 11/11 [00:05<00:00,  1.91it/s]\n",
      "                 Class     Images  Instances          P          R      mAP50   mAP50-95: 100% 2/2 [00:00<00:00,  2.62it/s]\n",
      "                   all         40        150      0.352      0.409       0.39      0.206\n",
      "\n",
      "      Epoch    GPU_mem   box_loss   obj_loss   cls_loss  Instances       Size\n",
      "    129/199      9.42G    0.02376    0.01018   0.005763          9        448: 100% 11/11 [00:05<00:00,  1.88it/s]\n",
      "                 Class     Images  Instances          P          R      mAP50   mAP50-95: 100% 2/2 [00:00<00:00,  2.68it/s]\n",
      "                   all         40        150      0.354      0.365      0.392      0.215\n",
      "\n",
      "      Epoch    GPU_mem   box_loss   obj_loss   cls_loss  Instances       Size\n",
      "    130/199      9.42G    0.02409    0.01114   0.007159          6        448: 100% 11/11 [00:05<00:00,  1.88it/s]\n",
      "                 Class     Images  Instances          P          R      mAP50   mAP50-95: 100% 2/2 [00:00<00:00,  2.64it/s]\n",
      "                   all         40        150      0.353      0.384      0.381      0.207\n",
      "\n",
      "      Epoch    GPU_mem   box_loss   obj_loss   cls_loss  Instances       Size\n",
      "    131/199      9.42G    0.02404    0.01028   0.005917          4        448: 100% 11/11 [00:05<00:00,  1.87it/s]\n",
      "                 Class     Images  Instances          P          R      mAP50   mAP50-95: 100% 2/2 [00:00<00:00,  2.67it/s]\n",
      "                   all         40        150      0.357      0.381      0.382      0.204\n",
      "\n",
      "      Epoch    GPU_mem   box_loss   obj_loss   cls_loss  Instances       Size\n",
      "    132/199      9.42G    0.02335    0.01072   0.005075          5        448: 100% 11/11 [00:05<00:00,  1.90it/s]\n",
      "                 Class     Images  Instances          P          R      mAP50   mAP50-95: 100% 2/2 [00:00<00:00,  2.66it/s]\n",
      "                   all         40        150      0.787      0.353      0.384      0.207\n",
      "\n",
      "      Epoch    GPU_mem   box_loss   obj_loss   cls_loss  Instances       Size\n",
      "    133/199      9.42G    0.01969   0.009534   0.004654          0        448: 100% 11/11 [00:05<00:00,  1.88it/s]\n",
      "                 Class     Images  Instances          P          R      mAP50   mAP50-95: 100% 2/2 [00:00<00:00,  2.64it/s]\n",
      "                   all         40        150      0.337      0.406      0.392      0.208\n",
      "\n",
      "      Epoch    GPU_mem   box_loss   obj_loss   cls_loss  Instances       Size\n",
      "    134/199      9.42G    0.02553   0.009845     0.0105          1        448: 100% 11/11 [00:05<00:00,  1.88it/s]\n",
      "                 Class     Images  Instances          P          R      mAP50   mAP50-95: 100% 2/2 [00:00<00:00,  2.71it/s]\n",
      "                   all         40        150      0.346      0.408      0.386      0.218\n",
      "\n",
      "      Epoch    GPU_mem   box_loss   obj_loss   cls_loss  Instances       Size\n",
      "    135/199      9.42G    0.02243    0.01025   0.008146          1        448: 100% 11/11 [00:05<00:00,  1.90it/s]\n",
      "                 Class     Images  Instances          P          R      mAP50   mAP50-95: 100% 2/2 [00:00<00:00,  2.65it/s]\n",
      "                   all         40        150      0.809      0.362      0.393      0.219\n",
      "\n",
      "      Epoch    GPU_mem   box_loss   obj_loss   cls_loss  Instances       Size\n",
      "    136/199      9.42G     0.0262   0.009226   0.005407          1        448: 100% 11/11 [00:05<00:00,  1.91it/s]\n",
      "                 Class     Images  Instances          P          R      mAP50   mAP50-95: 100% 2/2 [00:00<00:00,  2.69it/s]\n",
      "                   all         40        150      0.813       0.36      0.397      0.217\n",
      "\n",
      "      Epoch    GPU_mem   box_loss   obj_loss   cls_loss  Instances       Size\n",
      "    137/199      9.42G    0.02349    0.01048   0.004803          8        448: 100% 11/11 [00:05<00:00,  1.90it/s]\n",
      "                 Class     Images  Instances          P          R      mAP50   mAP50-95: 100% 2/2 [00:00<00:00,  2.69it/s]\n",
      "                   all         40        150      0.366      0.404      0.395      0.217\n",
      "\n",
      "      Epoch    GPU_mem   box_loss   obj_loss   cls_loss  Instances       Size\n",
      "    138/199      9.42G    0.02109    0.01029   0.005098          7        448: 100% 11/11 [00:05<00:00,  1.89it/s]\n",
      "                 Class     Images  Instances          P          R      mAP50   mAP50-95: 100% 2/2 [00:00<00:00,  2.66it/s]\n",
      "                   all         40        150      0.365      0.424      0.396      0.217\n",
      "\n",
      "      Epoch    GPU_mem   box_loss   obj_loss   cls_loss  Instances       Size\n",
      "    139/199      9.42G    0.02494   0.009815   0.005506          4        448: 100% 11/11 [00:05<00:00,  1.88it/s]\n",
      "                 Class     Images  Instances          P          R      mAP50   mAP50-95: 100% 2/2 [00:00<00:00,  2.62it/s]\n",
      "                   all         40        150      0.605       0.35      0.386       0.22\n",
      "\n",
      "      Epoch    GPU_mem   box_loss   obj_loss   cls_loss  Instances       Size\n",
      "    140/199      9.42G    0.02258    0.01109   0.008231          4        448: 100% 11/11 [00:05<00:00,  1.91it/s]\n",
      "                 Class     Images  Instances          P          R      mAP50   mAP50-95: 100% 2/2 [00:00<00:00,  2.66it/s]\n",
      "                   all         40        150      0.601      0.337      0.373      0.206\n",
      "\n",
      "      Epoch    GPU_mem   box_loss   obj_loss   cls_loss  Instances       Size\n",
      "    141/199      9.42G    0.02152   0.009816   0.004857          4        448: 100% 11/11 [00:05<00:00,  1.88it/s]\n",
      "                 Class     Images  Instances          P          R      mAP50   mAP50-95: 100% 2/2 [00:00<00:00,  2.63it/s]\n",
      "                   all         40        150      0.596      0.345      0.376      0.207\n",
      "\n",
      "      Epoch    GPU_mem   box_loss   obj_loss   cls_loss  Instances       Size\n",
      "    142/199      9.42G    0.02078   0.009624   0.006913          3        448: 100% 11/11 [00:05<00:00,  1.89it/s]\n",
      "                 Class     Images  Instances          P          R      mAP50   mAP50-95: 100% 2/2 [00:00<00:00,  2.62it/s]\n",
      "                   all         40        150      0.559      0.363      0.371      0.208\n",
      "\n",
      "      Epoch    GPU_mem   box_loss   obj_loss   cls_loss  Instances       Size\n",
      "    143/199      9.42G    0.02274    0.01141   0.007015         15        448: 100% 11/11 [00:05<00:00,  1.88it/s]\n",
      "                 Class     Images  Instances          P          R      mAP50   mAP50-95: 100% 2/2 [00:00<00:00,  2.65it/s]\n",
      "                   all         40        150      0.332      0.386       0.37      0.206\n",
      "\n",
      "      Epoch    GPU_mem   box_loss   obj_loss   cls_loss  Instances       Size\n",
      "    144/199      9.42G    0.02197   0.009442   0.005301          1        448: 100% 11/11 [00:05<00:00,  1.91it/s]\n",
      "                 Class     Images  Instances          P          R      mAP50   mAP50-95: 100% 2/2 [00:00<00:00,  2.64it/s]\n",
      "                   all         40        150      0.336      0.379      0.366      0.203\n",
      "\n",
      "      Epoch    GPU_mem   box_loss   obj_loss   cls_loss  Instances       Size\n",
      "    145/199      9.42G     0.0259    0.01378   0.006857          6        448: 100% 11/11 [00:05<00:00,  1.89it/s]\n",
      "                 Class     Images  Instances          P          R      mAP50   mAP50-95: 100% 2/2 [00:00<00:00,  2.65it/s]\n",
      "                   all         40        150       0.56      0.365       0.37      0.204\n",
      "\n",
      "      Epoch    GPU_mem   box_loss   obj_loss   cls_loss  Instances       Size\n",
      "    146/199      9.42G    0.01961   0.009718    0.00516         10        448: 100% 11/11 [00:05<00:00,  1.88it/s]\n",
      "                 Class     Images  Instances          P          R      mAP50   mAP50-95: 100% 2/2 [00:00<00:00,  2.65it/s]\n",
      "                   all         40        150      0.571      0.384      0.377      0.201\n",
      "\n",
      "      Epoch    GPU_mem   box_loss   obj_loss   cls_loss  Instances       Size\n",
      "    147/199      9.42G    0.02231   0.008841    0.00498          3        448: 100% 11/11 [00:05<00:00,  1.88it/s]\n",
      "                 Class     Images  Instances          P          R      mAP50   mAP50-95: 100% 2/2 [00:00<00:00,  2.64it/s]\n",
      "                   all         40        150      0.368      0.398      0.372      0.206\n",
      "\n",
      "      Epoch    GPU_mem   box_loss   obj_loss   cls_loss  Instances       Size\n",
      "    148/199      9.42G    0.01881    0.01045    0.00656          7        448: 100% 11/11 [00:05<00:00,  1.92it/s]\n",
      "                 Class     Images  Instances          P          R      mAP50   mAP50-95: 100% 2/2 [00:00<00:00,  2.63it/s]\n",
      "                   all         40        150       0.57      0.377      0.375      0.205\n",
      "\n",
      "      Epoch    GPU_mem   box_loss   obj_loss   cls_loss  Instances       Size\n",
      "    149/199      9.42G    0.01874   0.009398    0.01335          3        448: 100% 11/11 [00:05<00:00,  1.90it/s]\n",
      "                 Class     Images  Instances          P          R      mAP50   mAP50-95: 100% 2/2 [00:00<00:00,  2.63it/s]\n",
      "                   all         40        150      0.557      0.391      0.386      0.215\n",
      "\n",
      "      Epoch    GPU_mem   box_loss   obj_loss   cls_loss  Instances       Size\n",
      "    150/199      9.42G    0.02017   0.009065     0.0116          3        448: 100% 11/11 [00:05<00:00,  1.89it/s]\n",
      "                 Class     Images  Instances          P          R      mAP50   mAP50-95: 100% 2/2 [00:00<00:00,  2.66it/s]\n",
      "                   all         40        150       0.36      0.359      0.366      0.204\n",
      "\n",
      "      Epoch    GPU_mem   box_loss   obj_loss   cls_loss  Instances       Size\n",
      "    151/199      9.42G    0.01807    0.00931   0.004519          3        448: 100% 11/11 [00:05<00:00,  1.89it/s]\n",
      "                 Class     Images  Instances          P          R      mAP50   mAP50-95: 100% 2/2 [00:00<00:00,  2.65it/s]\n",
      "                   all         40        150      0.343      0.348      0.351      0.197\n",
      "\n",
      "      Epoch    GPU_mem   box_loss   obj_loss   cls_loss  Instances       Size\n",
      "    152/199      9.42G    0.02006   0.009689   0.004682          5        448: 100% 11/11 [00:05<00:00,  1.90it/s]\n",
      "                 Class     Images  Instances          P          R      mAP50   mAP50-95: 100% 2/2 [00:00<00:00,  2.64it/s]\n",
      "                   all         40        150      0.556      0.333      0.353      0.204\n",
      "\n",
      "      Epoch    GPU_mem   box_loss   obj_loss   cls_loss  Instances       Size\n",
      "    153/199      9.42G    0.02037    0.01056   0.006349          6        448: 100% 11/11 [00:05<00:00,  1.89it/s]\n",
      "                 Class     Images  Instances          P          R      mAP50   mAP50-95: 100% 2/2 [00:00<00:00,  2.65it/s]\n",
      "                   all         40        150      0.581      0.333       0.36      0.204\n",
      "\n",
      "      Epoch    GPU_mem   box_loss   obj_loss   cls_loss  Instances       Size\n",
      "    154/199      9.42G    0.01906   0.009601   0.005135          2        448: 100% 11/11 [00:05<00:00,  1.88it/s]\n",
      "                 Class     Images  Instances          P          R      mAP50   mAP50-95: 100% 2/2 [00:00<00:00,  2.62it/s]\n",
      "                   all         40        150      0.367      0.386      0.383      0.217\n",
      "\n",
      "      Epoch    GPU_mem   box_loss   obj_loss   cls_loss  Instances       Size\n",
      "    155/199      9.42G    0.01917     0.0106   0.005855          7        448: 100% 11/11 [00:05<00:00,  1.89it/s]\n",
      "                 Class     Images  Instances          P          R      mAP50   mAP50-95: 100% 2/2 [00:00<00:00,  2.61it/s]\n",
      "                   all         40        150      0.363      0.388      0.393      0.221\n",
      "\n",
      "      Epoch    GPU_mem   box_loss   obj_loss   cls_loss  Instances       Size\n",
      "    156/199      9.42G    0.01864   0.009106   0.003979          2        448: 100% 11/11 [00:05<00:00,  1.91it/s]\n",
      "                 Class     Images  Instances          P          R      mAP50   mAP50-95: 100% 2/2 [00:00<00:00,  2.65it/s]\n",
      "                   all         40        150      0.575      0.372      0.378      0.212\n",
      "\n",
      "      Epoch    GPU_mem   box_loss   obj_loss   cls_loss  Instances       Size\n",
      "    157/199      9.42G    0.02066   0.008617   0.004306          2        448: 100% 11/11 [00:05<00:00,  1.89it/s]\n",
      "                 Class     Images  Instances          P          R      mAP50   mAP50-95: 100% 2/2 [00:00<00:00,  2.63it/s]\n",
      "                   all         40        150      0.338      0.395      0.388      0.214\n",
      "\n",
      "      Epoch    GPU_mem   box_loss   obj_loss   cls_loss  Instances       Size\n",
      "    158/199      9.42G    0.01856    0.01054   0.006905          4        448: 100% 11/11 [00:05<00:00,  1.89it/s]\n",
      "                 Class     Images  Instances          P          R      mAP50   mAP50-95: 100% 2/2 [00:00<00:00,  2.65it/s]\n",
      "                   all         40        150      0.585      0.373      0.385      0.217\n",
      "\n",
      "      Epoch    GPU_mem   box_loss   obj_loss   cls_loss  Instances       Size\n",
      "    159/199      9.42G    0.02012    0.00928   0.007784          3        448: 100% 11/11 [00:05<00:00,  1.89it/s]\n",
      "                 Class     Images  Instances          P          R      mAP50   mAP50-95: 100% 2/2 [00:00<00:00,  2.64it/s]\n",
      "                   all         40        150      0.357      0.391      0.393      0.219\n",
      "\n",
      "      Epoch    GPU_mem   box_loss   obj_loss   cls_loss  Instances       Size\n",
      "    160/199      9.42G    0.01654    0.01173   0.003793         13        448: 100% 11/11 [00:05<00:00,  1.91it/s]\n",
      "                 Class     Images  Instances          P          R      mAP50   mAP50-95: 100% 2/2 [00:00<00:00,  2.63it/s]\n",
      "                   all         40        150      0.363      0.392      0.394      0.216\n",
      "\n",
      "      Epoch    GPU_mem   box_loss   obj_loss   cls_loss  Instances       Size\n",
      "    161/199      9.42G    0.01654   0.008879   0.004202          2        448: 100% 11/11 [00:05<00:00,  1.89it/s]\n",
      "                 Class     Images  Instances          P          R      mAP50   mAP50-95: 100% 2/2 [00:00<00:00,  2.64it/s]\n",
      "                   all         40        150      0.365      0.403      0.395      0.218\n",
      "\n",
      "      Epoch    GPU_mem   box_loss   obj_loss   cls_loss  Instances       Size\n",
      "    162/199      9.42G    0.02002    0.00891   0.004086          6        448: 100% 11/11 [00:05<00:00,  1.88it/s]\n",
      "                 Class     Images  Instances          P          R      mAP50   mAP50-95: 100% 2/2 [00:00<00:00,  2.64it/s]\n",
      "                   all         40        150       0.38      0.386      0.385      0.214\n",
      "\n",
      "      Epoch    GPU_mem   box_loss   obj_loss   cls_loss  Instances       Size\n",
      "    163/199      9.42G    0.01824   0.009777   0.004339          7        448: 100% 11/11 [00:05<00:00,  1.89it/s]\n",
      "                 Class     Images  Instances          P          R      mAP50   mAP50-95: 100% 2/2 [00:00<00:00,  2.65it/s]\n",
      "                   all         40        150      0.371      0.394       0.38      0.213\n",
      "\n",
      "      Epoch    GPU_mem   box_loss   obj_loss   cls_loss  Instances       Size\n",
      "    164/199      9.42G    0.02136    0.01343    0.01046          4        448: 100% 11/11 [00:05<00:00,  1.90it/s]\n",
      "                 Class     Images  Instances          P          R      mAP50   mAP50-95: 100% 2/2 [00:00<00:00,  2.63it/s]\n",
      "                   all         40        150      0.341      0.401       0.37      0.214\n",
      "\n",
      "      Epoch    GPU_mem   box_loss   obj_loss   cls_loss  Instances       Size\n",
      "    165/199      9.42G    0.01679   0.009234   0.007794          4        448: 100% 11/11 [00:05<00:00,  1.89it/s]\n",
      "                 Class     Images  Instances          P          R      mAP50   mAP50-95: 100% 2/2 [00:00<00:00,  2.64it/s]\n",
      "                   all         40        150      0.376       0.39      0.386      0.215\n",
      "\n",
      "      Epoch    GPU_mem   box_loss   obj_loss   cls_loss  Instances       Size\n",
      "    166/199      9.42G    0.01618   0.008951   0.006437          3        448: 100% 11/11 [00:05<00:00,  1.88it/s]\n",
      "                 Class     Images  Instances          P          R      mAP50   mAP50-95: 100% 2/2 [00:00<00:00,  2.63it/s]\n",
      "                   all         40        150      0.576       0.38      0.389      0.212\n",
      "\n",
      "      Epoch    GPU_mem   box_loss   obj_loss   cls_loss  Instances       Size\n",
      "    167/199      9.42G    0.01523    0.00935   0.003899          0        448: 100% 11/11 [00:05<00:00,  1.89it/s]\n",
      "                 Class     Images  Instances          P          R      mAP50   mAP50-95: 100% 2/2 [00:00<00:00,  2.62it/s]\n",
      "                   all         40        150      0.372       0.41        0.4      0.221\n",
      "\n",
      "      Epoch    GPU_mem   box_loss   obj_loss   cls_loss  Instances       Size\n",
      "    168/199      9.42G    0.01745    0.00962   0.005221          3        448: 100% 11/11 [00:05<00:00,  1.90it/s]\n",
      "                 Class     Images  Instances          P          R      mAP50   mAP50-95: 100% 2/2 [00:00<00:00,  2.64it/s]\n",
      "                   all         40        150       0.58      0.385      0.401      0.221\n",
      "\n",
      "      Epoch    GPU_mem   box_loss   obj_loss   cls_loss  Instances       Size\n",
      "    169/199      9.42G    0.01697    0.01159   0.006779          8        448: 100% 11/11 [00:05<00:00,  1.88it/s]\n",
      "                 Class     Images  Instances          P          R      mAP50   mAP50-95: 100% 2/2 [00:00<00:00,  2.62it/s]\n",
      "                   all         40        150      0.589      0.383      0.405      0.224\n",
      "\n",
      "      Epoch    GPU_mem   box_loss   obj_loss   cls_loss  Instances       Size\n",
      "    170/199      9.42G    0.01748    0.00936   0.004373          7        448: 100% 11/11 [00:05<00:00,  1.88it/s]\n",
      "                 Class     Images  Instances          P          R      mAP50   mAP50-95: 100% 2/2 [00:00<00:00,  2.66it/s]\n",
      "                   all         40        150      0.595      0.398      0.408      0.227\n",
      "\n",
      "      Epoch    GPU_mem   box_loss   obj_loss   cls_loss  Instances       Size\n",
      "    171/199      9.42G    0.01676   0.008682   0.003498          1        448: 100% 11/11 [00:05<00:00,  1.91it/s]\n",
      "                 Class     Images  Instances          P          R      mAP50   mAP50-95: 100% 2/2 [00:00<00:00,  2.69it/s]\n",
      "                   all         40        150      0.588      0.382      0.397      0.221\n",
      "\n",
      "      Epoch    GPU_mem   box_loss   obj_loss   cls_loss  Instances       Size\n",
      "    172/199      9.42G    0.01739   0.009094   0.003579          3        448: 100% 11/11 [00:05<00:00,  1.92it/s]\n",
      "                 Class     Images  Instances          P          R      mAP50   mAP50-95: 100% 2/2 [00:00<00:00,  2.67it/s]\n",
      "                   all         40        150      0.591       0.41      0.408      0.221\n",
      "\n",
      "      Epoch    GPU_mem   box_loss   obj_loss   cls_loss  Instances       Size\n",
      "    173/199      9.42G     0.0152   0.008703   0.003074          3        448: 100% 11/11 [00:05<00:00,  1.89it/s]\n",
      "                 Class     Images  Instances          P          R      mAP50   mAP50-95: 100% 2/2 [00:00<00:00,  2.68it/s]\n",
      "                   all         40        150      0.592      0.409      0.406      0.226\n",
      "\n",
      "      Epoch    GPU_mem   box_loss   obj_loss   cls_loss  Instances       Size\n",
      "    174/199      9.42G    0.01552   0.008231   0.003546          1        448: 100% 11/11 [00:05<00:00,  1.90it/s]\n",
      "                 Class     Images  Instances          P          R      mAP50   mAP50-95: 100% 2/2 [00:00<00:00,  2.64it/s]\n",
      "                   all         40        150      0.588      0.378      0.396      0.228\n",
      "\n",
      "      Epoch    GPU_mem   box_loss   obj_loss   cls_loss  Instances       Size\n",
      "    175/199      9.42G    0.01496   0.008586   0.005458          5        448: 100% 11/11 [00:05<00:00,  1.89it/s]\n",
      "                 Class     Images  Instances          P          R      mAP50   mAP50-95: 100% 2/2 [00:00<00:00,  2.67it/s]\n",
      "                   all         40        150      0.369      0.404      0.398       0.23\n",
      "\n",
      "      Epoch    GPU_mem   box_loss   obj_loss   cls_loss  Instances       Size\n",
      "    176/199      9.42G    0.01659     0.0101   0.005451          6        448: 100% 11/11 [00:05<00:00,  1.92it/s]\n",
      "                 Class     Images  Instances          P          R      mAP50   mAP50-95: 100% 2/2 [00:00<00:00,  2.67it/s]\n",
      "                   all         40        150      0.385      0.411      0.409      0.232\n",
      "\n",
      "      Epoch    GPU_mem   box_loss   obj_loss   cls_loss  Instances       Size\n",
      "    177/199      9.42G      0.018    0.00941     0.0122          8        448: 100% 11/11 [00:05<00:00,  1.90it/s]\n",
      "                 Class     Images  Instances          P          R      mAP50   mAP50-95: 100% 2/2 [00:00<00:00,  2.69it/s]\n",
      "                   all         40        150      0.387      0.383      0.401      0.224\n",
      "\n",
      "      Epoch    GPU_mem   box_loss   obj_loss   cls_loss  Instances       Size\n",
      "    178/199      9.42G    0.01682   0.009261   0.004129          3        448: 100% 11/11 [00:05<00:00,  1.89it/s]\n",
      "                 Class     Images  Instances          P          R      mAP50   mAP50-95: 100% 2/2 [00:00<00:00,  2.70it/s]\n",
      "                   all         40        150      0.598      0.345      0.391      0.222\n",
      "\n",
      "      Epoch    GPU_mem   box_loss   obj_loss   cls_loss  Instances       Size\n",
      "    179/199      9.42G    0.01616   0.008818   0.002871          4        448: 100% 11/11 [00:05<00:00,  1.88it/s]\n",
      "                 Class     Images  Instances          P          R      mAP50   mAP50-95: 100% 2/2 [00:00<00:00,  2.64it/s]\n",
      "                   all         40        150      0.595       0.35      0.386      0.221\n",
      "\n",
      "      Epoch    GPU_mem   box_loss   obj_loss   cls_loss  Instances       Size\n",
      "    180/199      9.42G    0.01594   0.007962   0.008364          4        448: 100% 11/11 [00:05<00:00,  1.92it/s]\n",
      "                 Class     Images  Instances          P          R      mAP50   mAP50-95: 100% 2/2 [00:00<00:00,  2.62it/s]\n",
      "                   all         40        150      0.591      0.355      0.385      0.218\n",
      "\n",
      "      Epoch    GPU_mem   box_loss   obj_loss   cls_loss  Instances       Size\n",
      "    181/199      9.42G     0.0158   0.009669    0.00354          7        448: 100% 11/11 [00:05<00:00,  1.89it/s]\n",
      "                 Class     Images  Instances          P          R      mAP50   mAP50-95: 100% 2/2 [00:00<00:00,  2.61it/s]\n",
      "                   all         40        150      0.363      0.378      0.386      0.219\n",
      "\n",
      "      Epoch    GPU_mem   box_loss   obj_loss   cls_loss  Instances       Size\n",
      "    182/199      9.42G    0.01459   0.008531   0.002839          9        448: 100% 11/11 [00:05<00:00,  1.89it/s]\n",
      "                 Class     Images  Instances          P          R      mAP50   mAP50-95: 100% 2/2 [00:00<00:00,  2.66it/s]\n",
      "                   all         40        150      0.579      0.359      0.384      0.219\n",
      "\n",
      "      Epoch    GPU_mem   box_loss   obj_loss   cls_loss  Instances       Size\n",
      "    183/199      9.42G    0.01596   0.009237   0.005281          8        448: 100% 11/11 [00:05<00:00,  1.89it/s]\n",
      "                 Class     Images  Instances          P          R      mAP50   mAP50-95: 100% 2/2 [00:00<00:00,  2.66it/s]\n",
      "                   all         40        150      0.587      0.355      0.387      0.218\n",
      "\n",
      "      Epoch    GPU_mem   box_loss   obj_loss   cls_loss  Instances       Size\n",
      "    184/199      9.42G    0.01516   0.007624   0.003465          3        448: 100% 11/11 [00:05<00:00,  1.91it/s]\n",
      "                 Class     Images  Instances          P          R      mAP50   mAP50-95: 100% 2/2 [00:00<00:00,  2.67it/s]\n",
      "                   all         40        150      0.367      0.375      0.389      0.216\n",
      "\n",
      "      Epoch    GPU_mem   box_loss   obj_loss   cls_loss  Instances       Size\n",
      "    185/199      9.42G    0.01548   0.009149   0.003218          7        448: 100% 11/11 [00:05<00:00,  1.89it/s]\n",
      "                 Class     Images  Instances          P          R      mAP50   mAP50-95: 100% 2/2 [00:00<00:00,  2.66it/s]\n",
      "                   all         40        150      0.387      0.369      0.391      0.221\n",
      "\n",
      "      Epoch    GPU_mem   box_loss   obj_loss   cls_loss  Instances       Size\n",
      "    186/199      9.42G    0.01519    0.00897   0.003819          2        448: 100% 11/11 [00:05<00:00,  1.89it/s]\n",
      "                 Class     Images  Instances          P          R      mAP50   mAP50-95: 100% 2/2 [00:00<00:00,  2.65it/s]\n",
      "                   all         40        150      0.389      0.369      0.391      0.219\n",
      "\n",
      "      Epoch    GPU_mem   box_loss   obj_loss   cls_loss  Instances       Size\n",
      "    187/199      9.42G    0.01523   0.009198   0.004436          9        448: 100% 11/11 [00:05<00:00,  1.88it/s]\n",
      "                 Class     Images  Instances          P          R      mAP50   mAP50-95: 100% 2/2 [00:00<00:00,  2.63it/s]\n",
      "                   all         40        150      0.371      0.378      0.387      0.219\n",
      "\n",
      "      Epoch    GPU_mem   box_loss   obj_loss   cls_loss  Instances       Size\n",
      "    188/199      9.42G    0.01626    0.01452    0.01026          9        448: 100% 11/11 [00:05<00:00,  1.92it/s]\n",
      "                 Class     Images  Instances          P          R      mAP50   mAP50-95: 100% 2/2 [00:00<00:00,  2.67it/s]\n",
      "                   all         40        150      0.383      0.387      0.402      0.222\n",
      "\n",
      "      Epoch    GPU_mem   box_loss   obj_loss   cls_loss  Instances       Size\n",
      "    189/199      9.42G     0.0126   0.007723   0.003621          5        448: 100% 11/11 [00:05<00:00,  1.89it/s]\n",
      "                 Class     Images  Instances          P          R      mAP50   mAP50-95: 100% 2/2 [00:00<00:00,  2.67it/s]\n",
      "                   all         40        150      0.369      0.372      0.387      0.218\n",
      "\n",
      "      Epoch    GPU_mem   box_loss   obj_loss   cls_loss  Instances       Size\n",
      "    190/199      9.42G    0.01365   0.009051    0.00362          4        448: 100% 11/11 [00:05<00:00,  1.88it/s]\n",
      "                 Class     Images  Instances          P          R      mAP50   mAP50-95: 100% 2/2 [00:00<00:00,  2.63it/s]\n",
      "                   all         40        150      0.387      0.387      0.399       0.22\n",
      "\n",
      "      Epoch    GPU_mem   box_loss   obj_loss   cls_loss  Instances       Size\n",
      "    191/199      9.42G    0.01349   0.008599   0.003665          1        448: 100% 11/11 [00:05<00:00,  1.89it/s]\n",
      "                 Class     Images  Instances          P          R      mAP50   mAP50-95: 100% 2/2 [00:00<00:00,  2.66it/s]\n",
      "                   all         40        150      0.589      0.345      0.388       0.22\n",
      "\n",
      "      Epoch    GPU_mem   box_loss   obj_loss   cls_loss  Instances       Size\n",
      "    192/199      9.42G    0.01229   0.008561   0.003024          4        448: 100% 11/11 [00:05<00:00,  1.92it/s]\n",
      "                 Class     Images  Instances          P          R      mAP50   mAP50-95: 100% 2/2 [00:00<00:00,  2.65it/s]\n",
      "                   all         40        150       0.37      0.389      0.399       0.22\n",
      "\n",
      "      Epoch    GPU_mem   box_loss   obj_loss   cls_loss  Instances       Size\n",
      "    193/199      9.42G    0.01379    0.00947   0.004753         11        448: 100% 11/11 [00:05<00:00,  1.88it/s]\n",
      "                 Class     Images  Instances          P          R      mAP50   mAP50-95: 100% 2/2 [00:00<00:00,  2.66it/s]\n",
      "                   all         40        150      0.375      0.386      0.397      0.221\n",
      "\n",
      "      Epoch    GPU_mem   box_loss   obj_loss   cls_loss  Instances       Size\n",
      "    194/199      9.42G    0.01291    0.00815   0.004074          8        448: 100% 11/11 [00:05<00:00,  1.89it/s]\n",
      "                 Class     Images  Instances          P          R      mAP50   mAP50-95: 100% 2/2 [00:00<00:00,  2.62it/s]\n",
      "                   all         40        150      0.382      0.345      0.382      0.221\n",
      "\n",
      "      Epoch    GPU_mem   box_loss   obj_loss   cls_loss  Instances       Size\n",
      "    195/199      9.42G    0.01418   0.009136   0.006614          3        448: 100% 11/11 [00:05<00:00,  1.89it/s]\n",
      "                 Class     Images  Instances          P          R      mAP50   mAP50-95: 100% 2/2 [00:00<00:00,  2.67it/s]\n",
      "                   all         40        150      0.379      0.349      0.379      0.219\n",
      "\n",
      "      Epoch    GPU_mem   box_loss   obj_loss   cls_loss  Instances       Size\n",
      "    196/199      9.42G    0.01359   0.009161   0.003101          3        448: 100% 11/11 [00:05<00:00,  1.91it/s]\n",
      "                 Class     Images  Instances          P          R      mAP50   mAP50-95: 100% 2/2 [00:00<00:00,  2.64it/s]\n",
      "                   all         40        150      0.391      0.359      0.392      0.218\n",
      "\n",
      "      Epoch    GPU_mem   box_loss   obj_loss   cls_loss  Instances       Size\n",
      "    197/199      9.42G    0.01393   0.009628   0.003408          6        448: 100% 11/11 [00:05<00:00,  1.89it/s]\n",
      "                 Class     Images  Instances          P          R      mAP50   mAP50-95: 100% 2/2 [00:00<00:00,  2.65it/s]\n",
      "                   all         40        150       0.37      0.345      0.376       0.22\n",
      "\n",
      "      Epoch    GPU_mem   box_loss   obj_loss   cls_loss  Instances       Size\n",
      "    198/199      9.42G    0.01222   0.008875   0.003381          5        448: 100% 11/11 [00:05<00:00,  1.88it/s]\n",
      "                 Class     Images  Instances          P          R      mAP50   mAP50-95: 100% 2/2 [00:00<00:00,  2.65it/s]\n",
      "                   all         40        150      0.577      0.338      0.377      0.218\n",
      "\n",
      "      Epoch    GPU_mem   box_loss   obj_loss   cls_loss  Instances       Size\n",
      "    199/199      9.42G    0.01213     0.0084   0.002317          7        448: 100% 11/11 [00:05<00:00,  1.89it/s]\n",
      "                 Class     Images  Instances          P          R      mAP50   mAP50-95: 100% 2/2 [00:00<00:00,  2.62it/s]\n",
      "                   all         40        150      0.379      0.338      0.379      0.219\n",
      "\n",
      "200 epochs completed in 0.563 hours.\n",
      "Optimizer stripped from runs/train/exp2/weights/last.pt, 280.9MB\n",
      "Optimizer stripped from runs/train/exp2/weights/best.pt, 280.9MB\n",
      "\n",
      "Validating runs/train/exp2/weights/best.pt...\n",
      "Fusing layers... \n",
      "Model summary: 416 layers, 140028544 parameters, 0 gradients, 208.0 GFLOPs\n",
      "                 Class     Images  Instances          P          R      mAP50   mAP50-95: 100% 2/2 [00:00<00:00,  2.19it/s]\n",
      "                   all         40        150      0.385      0.411      0.409      0.232\n",
      "               Car- 45         40          1          0          0    0.00995    0.00597\n",
      "               Car- 60         40         90      0.611      0.767      0.747      0.423\n",
      "           Car- 90-120         40         42       0.57      0.662      0.643      0.344\n",
      "              truck-40         40         14      0.745      0.628      0.611      0.372\n",
      "              truck-60         40          3          0          0     0.0345      0.014\n",
      "Results saved to \u001b[1mruns/train/exp2\u001b[0m\n"
     ]
    }
   ],
   "source": [
    "!wandb disabled\n",
    "!python train.py --img 416 --epochs 200 --data /content/drive/MyDrive/20_selected_projects/8_videoestimation/yolov5/data.yaml --weights yolov5x6.pt --cache --workers 2"
   ]
  },
  {
   "cell_type": "code",
   "execution_count": 3,
   "metadata": {
    "id": "rjZGK_CnTgAJ"
   },
   "outputs": [],
   "source": [
    "p_yol5xs = 0.385\n",
    "r_yol5xs = 0.411\n",
    "mAP_yolo5xs = 0.409"
   ]
  },
  {
   "cell_type": "code",
   "execution_count": 4,
   "metadata": {
    "id": "9xIrJKYlTgAJ"
   },
   "outputs": [],
   "source": [
    "storeResults('YoloV5x6',p_yol5xs,r_yol5xs,mAP_yolo5xs)"
   ]
  },
  {
   "cell_type": "code",
   "execution_count": 9,
   "metadata": {
    "colab": {
     "base_uri": "https://localhost:8080/"
    },
    "executionInfo": {
     "elapsed": 58380,
     "status": "ok",
     "timestamp": 1710870455740,
     "user": {
      "displayName": "TruProjects yolo",
      "userId": "18414174829652366032"
     },
     "user_tz": -330
    },
    "id": "AwKweJa8AlBl",
    "outputId": "2b11c39a-e622-4a13-e4b1-b19dba7d3deb"
   },
   "outputs": [
    {
     "name": "stdout",
     "output_type": "stream",
     "text": [
      "updating: content/yolov5/ (stored 0%)\n",
      "updating: content/yolov5/pyproject.toml (deflated 59%)\n",
      "updating: content/yolov5/LICENSE (deflated 66%)\n",
      "updating: content/yolov5/detect.py (deflated 69%)\n",
      "updating: content/yolov5/requirements.txt (deflated 55%)\n",
      "updating: content/yolov5/.git/ (stored 0%)\n",
      "updating: content/yolov5/.git/branches/ (stored 0%)\n",
      "updating: content/yolov5/.git/logs/ (stored 0%)\n",
      "updating: content/yolov5/.git/logs/refs/ (stored 0%)\n",
      "updating: content/yolov5/.git/logs/refs/heads/ (stored 0%)\n",
      "updating: content/yolov5/.git/logs/refs/heads/master (deflated 28%)\n",
      "updating: content/yolov5/.git/logs/refs/remotes/ (stored 0%)\n",
      "updating: content/yolov5/.git/logs/refs/remotes/origin/ (stored 0%)\n",
      "updating: content/yolov5/.git/logs/refs/remotes/origin/HEAD (deflated 28%)\n",
      "updating: content/yolov5/.git/logs/HEAD (deflated 28%)\n",
      "updating: content/yolov5/.git/config (deflated 33%)\n",
      "updating: content/yolov5/.git/description (deflated 14%)\n",
      "updating: content/yolov5/.git/refs/ (stored 0%)\n",
      "updating: content/yolov5/.git/refs/tags/ (stored 0%)\n",
      "updating: content/yolov5/.git/refs/heads/ (stored 0%)\n",
      "updating: content/yolov5/.git/refs/heads/master (stored 0%)\n",
      "updating: content/yolov5/.git/refs/remotes/ (stored 0%)\n",
      "updating: content/yolov5/.git/refs/remotes/origin/ (stored 0%)\n",
      "updating: content/yolov5/.git/refs/remotes/origin/HEAD (stored 0%)\n",
      "updating: content/yolov5/.git/hooks/ (stored 0%)\n",
      "updating: content/yolov5/.git/hooks/pre-merge-commit.sample (deflated 39%)\n",
      "updating: content/yolov5/.git/hooks/commit-msg.sample (deflated 44%)\n",
      "updating: content/yolov5/.git/hooks/pre-push.sample (deflated 49%)\n",
      "updating: content/yolov5/.git/hooks/pre-rebase.sample (deflated 59%)\n",
      "updating: content/yolov5/.git/hooks/pre-applypatch.sample (deflated 38%)\n",
      "updating: content/yolov5/.git/hooks/applypatch-msg.sample (deflated 42%)\n",
      "updating: content/yolov5/.git/hooks/pre-receive.sample (deflated 40%)\n",
      "updating: content/yolov5/.git/hooks/pre-commit.sample (deflated 45%)\n",
      "updating: content/yolov5/.git/hooks/prepare-commit-msg.sample (deflated 50%)\n",
      "updating: content/yolov5/.git/hooks/post-update.sample (deflated 27%)\n",
      "updating: content/yolov5/.git/hooks/push-to-checkout.sample (deflated 55%)\n",
      "updating: content/yolov5/.git/hooks/fsmonitor-watchman.sample (deflated 62%)\n",
      "updating: content/yolov5/.git/hooks/update.sample (deflated 68%)\n",
      "updating: content/yolov5/.git/info/ (stored 0%)\n",
      "updating: content/yolov5/.git/info/exclude (deflated 28%)\n",
      "updating: content/yolov5/.git/HEAD (stored 0%)\n",
      "updating: content/yolov5/.git/objects/ (stored 0%)\n",
      "updating: content/yolov5/.git/objects/pack/ (stored 0%)\n",
      "updating: content/yolov5/.git/objects/pack/pack-7479740c724f6cfb9b2239722664ae65f1654d9b.pack (deflated 2%)\n",
      "updating: content/yolov5/.git/objects/pack/pack-7479740c724f6cfb9b2239722664ae65f1654d9b.idx (deflated 2%)\n",
      "updating: content/yolov5/.git/objects/info/ (stored 0%)\n",
      "updating: content/yolov5/.git/index (deflated 55%)\n",
      "updating: content/yolov5/.git/FETCH_HEAD (deflated 66%)\n",
      "updating: content/yolov5/.git/packed-refs (deflated 50%)\n",
      "updating: content/yolov5/benchmarks.py (deflated 68%)\n",
      "updating: content/yolov5/yolov5s.pt (deflated 9%)\n",
      "updating: content/yolov5/.gitignore (deflated 55%)\n",
      "updating: content/yolov5/utils/ (stored 0%)\n",
      "updating: content/yolov5/utils/plots.py (deflated 64%)\n",
      "updating: content/yolov5/utils/dataloaders.py (deflated 70%)\n",
      "updating: content/yolov5/utils/autobatch.py (deflated 56%)\n",
      "updating: content/yolov5/utils/google_app_engine/ (stored 0%)\n",
      "updating: content/yolov5/utils/google_app_engine/app.yaml (deflated 26%)\n",
      "updating: content/yolov5/utils/google_app_engine/Dockerfile (deflated 47%)\n",
      "updating: content/yolov5/utils/google_app_engine/additional_requirements.txt (deflated 20%)\n",
      "updating: content/yolov5/utils/loss.py (deflated 69%)\n",
      "updating: content/yolov5/utils/flask_rest_api/ (stored 0%)\n",
      "updating: content/yolov5/utils/flask_rest_api/README.md (deflated 52%)\n",
      "updating: content/yolov5/utils/flask_rest_api/restapi.py (deflated 49%)\n",
      "updating: content/yolov5/utils/flask_rest_api/example_request.py (deflated 26%)\n",
      "updating: content/yolov5/utils/metrics.py (deflated 66%)\n",
      "updating: content/yolov5/utils/aws/ (stored 0%)\n",
      "updating: content/yolov5/utils/aws/resume.py (deflated 46%)\n",
      "updating: content/yolov5/utils/aws/userdata.sh (deflated 47%)\n",
      "updating: content/yolov5/utils/aws/__init__.py (stored 0%)\n",
      "updating: content/yolov5/utils/aws/mime.sh (deflated 46%)\n",
      "updating: content/yolov5/utils/activations.py (deflated 69%)\n",
      "updating: content/yolov5/utils/general.py (deflated 66%)\n",
      "updating: content/yolov5/utils/torch_utils.py (deflated 64%)\n",
      "updating: content/yolov5/utils/autoanchor.py (deflated 60%)\n",
      "updating: content/yolov5/utils/segment/ (stored 0%)\n",
      "updating: content/yolov5/utils/segment/plots.py (deflated 64%)\n",
      "updating: content/yolov5/utils/segment/dataloaders.py (deflated 70%)\n",
      "updating: content/yolov5/utils/segment/loss.py (deflated 66%)\n",
      "updating: content/yolov5/utils/segment/metrics.py (deflated 74%)\n",
      "updating: content/yolov5/utils/segment/general.py (deflated 70%)\n",
      "updating: content/yolov5/utils/segment/augmentations.py (deflated 61%)\n",
      "updating: content/yolov5/utils/segment/__init__.py (stored 0%)\n",
      "updating: content/yolov5/utils/augmentations.py (deflated 65%)\n",
      "updating: content/yolov5/utils/callbacks.py (deflated 68%)\n",
      "updating: content/yolov5/utils/docker/ (stored 0%)\n",
      "updating: content/yolov5/utils/docker/Dockerfile-arm64 (deflated 51%)\n",
      "updating: content/yolov5/utils/docker/Dockerfile (deflated 55%)\n",
      "updating: content/yolov5/utils/docker/Dockerfile-cpu (deflated 51%)\n",
      "updating: content/yolov5/utils/loggers/ (stored 0%)\n",
      "updating: content/yolov5/utils/loggers/clearml/ (stored 0%)\n",
      "updating: content/yolov5/utils/loggers/clearml/README.md (deflated 59%)\n",
      "updating: content/yolov5/utils/loggers/clearml/clearml_utils.py (deflated 65%)\n",
      "updating: content/yolov5/utils/loggers/clearml/__pycache__/ (stored 0%)\n",
      "updating: content/yolov5/utils/loggers/clearml/__pycache__/clearml_utils.cpython-310.pyc (deflated 48%)\n",
      "updating: content/yolov5/utils/loggers/clearml/__pycache__/__init__.cpython-310.pyc (deflated 23%)\n",
      "updating: content/yolov5/utils/loggers/clearml/hpo.py (deflated 70%)\n",
      "updating: content/yolov5/utils/loggers/clearml/__init__.py (stored 0%)\n",
      "updating: content/yolov5/utils/loggers/comet/ (stored 0%)\n",
      "updating: content/yolov5/utils/loggers/comet/README.md (deflated 64%)\n",
      "updating: content/yolov5/utils/loggers/comet/optimizer_config.json (deflated 82%)\n",
      "updating: content/yolov5/utils/loggers/comet/comet_utils.py (deflated 69%)\n",
      "updating: content/yolov5/utils/loggers/comet/__pycache__/ (stored 0%)\n",
      "updating: content/yolov5/utils/loggers/comet/__pycache__/__init__.cpython-310.pyc (deflated 51%)\n",
      "updating: content/yolov5/utils/loggers/comet/__pycache__/comet_utils.cpython-310.pyc (deflated 48%)\n",
      "updating: content/yolov5/utils/loggers/comet/hpo.py (deflated 68%)\n",
      "updating: content/yolov5/utils/loggers/comet/__init__.py (deflated 74%)\n",
      "updating: content/yolov5/utils/loggers/wandb/ (stored 0%)\n",
      "updating: content/yolov5/utils/loggers/wandb/wandb_utils.py (deflated 65%)\n",
      "updating: content/yolov5/utils/loggers/wandb/__pycache__/ (stored 0%)\n",
      "updating: content/yolov5/utils/loggers/wandb/__pycache__/__init__.cpython-310.pyc (deflated 24%)\n",
      "updating: content/yolov5/utils/loggers/wandb/__pycache__/wandb_utils.cpython-310.pyc (deflated 48%)\n",
      "updating: content/yolov5/utils/loggers/wandb/__init__.py (stored 0%)\n",
      "updating: content/yolov5/utils/loggers/__pycache__/ (stored 0%)\n",
      "updating: content/yolov5/utils/loggers/__pycache__/__init__.cpython-310.pyc (deflated 51%)\n",
      "updating: content/yolov5/utils/loggers/__init__.py (deflated 73%)\n",
      "updating: content/yolov5/utils/triton.py (deflated 67%)\n",
      "updating: content/yolov5/utils/__pycache__/ (stored 0%)\n",
      "updating: content/yolov5/utils/__pycache__/autoanchor.cpython-310.pyc (deflated 42%)\n",
      "updating: content/yolov5/utils/__pycache__/metrics.cpython-310.pyc (deflated 47%)\n",
      "updating: content/yolov5/utils/__pycache__/dataloaders.cpython-310.pyc (deflated 51%)\n",
      "updating: content/yolov5/utils/__pycache__/downloads.cpython-310.pyc (deflated 43%)\n",
      "updating: content/yolov5/utils/__pycache__/torch_utils.cpython-310.pyc (deflated 46%)\n",
      "updating: content/yolov5/utils/__pycache__/plots.cpython-310.pyc (deflated 46%)\n",
      "updating: content/yolov5/utils/__pycache__/__init__.cpython-310.pyc (deflated 43%)\n",
      "updating: content/yolov5/utils/__pycache__/augmentations.cpython-310.pyc (deflated 48%)\n",
      "updating: content/yolov5/utils/__pycache__/general.cpython-310.pyc (deflated 50%)\n",
      "updating: content/yolov5/utils/__pycache__/autobatch.cpython-310.pyc (deflated 36%)\n",
      "updating: content/yolov5/utils/__pycache__/callbacks.cpython-310.pyc (deflated 51%)\n",
      "updating: content/yolov5/utils/__pycache__/loss.cpython-310.pyc (deflated 46%)\n",
      "updating: content/yolov5/utils/downloads.py (deflated 62%)\n",
      "updating: content/yolov5/utils/__init__.py (deflated 55%)\n",
      "updating: content/yolov5/CITATION.cff (deflated 31%)\n",
      "updating: content/yolov5/CONTRIBUTING.md (deflated 57%)\n",
      "updating: content/yolov5/README.md (deflated 78%)\n",
      "updating: content/yolov5/hubconf.py (deflated 74%)\n",
      "updating: content/yolov5/.github/ (stored 0%)\n",
      "updating: content/yolov5/.github/dependabot.yml (deflated 52%)\n",
      "updating: content/yolov5/.github/ISSUE_TEMPLATE/ (stored 0%)\n",
      "updating: content/yolov5/.github/ISSUE_TEMPLATE/config.yml (deflated 49%)\n",
      "updating: content/yolov5/.github/ISSUE_TEMPLATE/bug-report.yml (deflated 60%)\n",
      "updating: content/yolov5/.github/ISSUE_TEMPLATE/feature-request.yml (deflated 61%)\n",
      "updating: content/yolov5/.github/ISSUE_TEMPLATE/question.yml (deflated 57%)\n",
      "updating: content/yolov5/.github/workflows/ (stored 0%)\n",
      "updating: content/yolov5/.github/workflows/docker.yml (deflated 66%)\n",
      "updating: content/yolov5/.github/workflows/ci-testing.yml (deflated 71%)\n",
      "updating: content/yolov5/.github/workflows/links.yml (deflated 62%)\n",
      "updating: content/yolov5/.github/workflows/format.yml (deflated 51%)\n",
      "updating: content/yolov5/.github/workflows/codeql-analysis.yml (deflated 51%)\n",
      "updating: content/yolov5/.github/workflows/greetings.yml (deflated 61%)\n",
      "updating: content/yolov5/.github/workflows/stale.yml (deflated 58%)\n",
      "updating: content/yolov5/segment/ (stored 0%)\n",
      "updating: content/yolov5/segment/train.py (deflated 69%)\n",
      "updating: content/yolov5/segment/val.py (deflated 67%)\n",
      "updating: content/yolov5/segment/tutorial.ipynb (deflated 75%)\n",
      "updating: content/yolov5/segment/predict.py (deflated 70%)\n",
      "updating: content/yolov5/classify/ (stored 0%)\n",
      "updating: content/yolov5/classify/train.py (deflated 65%)\n",
      "updating: content/yolov5/classify/val.py (deflated 65%)\n",
      "updating: content/yolov5/classify/tutorial.ipynb (deflated 81%)\n",
      "updating: content/yolov5/classify/predict.py (deflated 68%)\n",
      "updating: content/yolov5/train.py (deflated 70%)\n",
      "updating: content/yolov5/.gitattributes (deflated 4%)\n",
      "updating: content/yolov5/runs/ (stored 0%)\n",
      "updating: content/yolov5/runs/train/ (stored 0%)\n",
      "updating: content/yolov5/runs/train/exp/ (stored 0%)\n",
      "updating: content/yolov5/runs/train/exp/val_batch0_labels.jpg (deflated 11%)\n",
      "updating: content/yolov5/runs/train/exp/F1_curve.png (deflated 10%)\n",
      "updating: content/yolov5/runs/train/exp/val_batch1_pred.jpg (deflated 8%)\n",
      "updating: content/yolov5/runs/train/exp/val_batch2_pred.jpg (deflated 10%)\n",
      "updating: content/yolov5/runs/train/exp/val_batch0_pred.jpg (deflated 11%)\n",
      "updating: content/yolov5/runs/train/exp/train_batch0.jpg (deflated 9%)\n",
      "updating: content/yolov5/runs/train/exp/results.csv (deflated 84%)\n",
      "updating: content/yolov5/runs/train/exp/weights/ (stored 0%)\n",
      "updating: content/yolov5/runs/train/exp/weights/best.pt (deflated 8%)\n",
      "updating: content/yolov5/runs/train/exp/weights/last.pt (deflated 8%)\n",
      "updating: content/yolov5/runs/train/exp/confusion_matrix.png (deflated 22%)\n",
      "updating: content/yolov5/runs/train/exp/R_curve.png (deflated 9%)\n",
      "updating: content/yolov5/runs/train/exp/opt.yaml (deflated 49%)\n",
      "updating: content/yolov5/runs/train/exp/hyp.yaml (deflated 45%)\n",
      "updating: content/yolov5/runs/train/exp/val_batch2_labels.jpg (deflated 10%)\n",
      "updating: content/yolov5/runs/train/exp/labels.jpg (deflated 32%)\n",
      "updating: content/yolov5/runs/train/exp/train_batch2.jpg (deflated 11%)\n",
      "updating: content/yolov5/runs/train/exp/train_batch1.jpg (deflated 10%)\n",
      "updating: content/yolov5/runs/train/exp/results.png (deflated 7%)\n",
      "updating: content/yolov5/runs/train/exp/labels_correlogram.jpg (deflated 42%)\n",
      "updating: content/yolov5/runs/train/exp/P_curve.png (deflated 8%)\n",
      "updating: content/yolov5/runs/train/exp/val_batch1_labels.jpg (deflated 9%)\n",
      "updating: content/yolov5/runs/train/exp/PR_curve.png (deflated 14%)\n",
      "updating: content/yolov5/runs/train/exp2/ (stored 0%)\n",
      "updating: content/yolov5/runs/train/exp2/val_batch0_labels.jpg (deflated 10%)\n",
      "updating: content/yolov5/runs/train/exp2/F1_curve.png (deflated 11%)\n",
      "updating: content/yolov5/runs/train/exp2/val_batch1_pred.jpg (deflated 13%)\n",
      "updating: content/yolov5/runs/train/exp2/val_batch0_pred.jpg (deflated 10%)\n",
      "updating: content/yolov5/runs/train/exp2/train_batch0.jpg (deflated 2%)\n",
      "updating: content/yolov5/runs/train/exp2/results.csv (deflated 83%)\n",
      "updating: content/yolov5/runs/train/exp2/weights/ (stored 0%)\n",
      "updating: content/yolov5/runs/train/exp2/weights/best.pt (deflated 8%)\n",
      "updating: content/yolov5/runs/train/exp2/weights/last.pt (deflated 8%)\n",
      "updating: content/yolov5/runs/train/exp2/confusion_matrix.png (deflated 23%)\n",
      "updating: content/yolov5/runs/train/exp2/R_curve.png (deflated 10%)\n",
      "updating: content/yolov5/runs/train/exp2/opt.yaml (deflated 49%)\n",
      "updating: content/yolov5/runs/train/exp2/hyp.yaml (deflated 45%)\n",
      "updating: content/yolov5/runs/train/exp2/labels.jpg (deflated 32%)\n",
      "updating: content/yolov5/runs/train/exp2/train_batch2.jpg (deflated 1%)\n",
      "updating: content/yolov5/runs/train/exp2/train_batch1.jpg (deflated 2%)\n",
      "updating: content/yolov5/runs/train/exp2/results.png (deflated 6%)\n",
      "updating: content/yolov5/runs/train/exp2/labels_correlogram.jpg (deflated 42%)\n",
      "updating: content/yolov5/runs/train/exp2/P_curve.png (deflated 9%)\n",
      "updating: content/yolov5/runs/train/exp2/val_batch1_labels.jpg (deflated 13%)\n",
      "updating: content/yolov5/runs/train/exp2/PR_curve.png (deflated 12%)\n",
      "updating: content/yolov5/yolov5x6.pt (deflated 8%)\n",
      "updating: content/yolov5/data/ (stored 0%)\n",
      "updating: content/yolov5/data/coco128.yaml (deflated 47%)\n",
      "updating: content/yolov5/data/Objects365.yaml (deflated 53%)\n",
      "updating: content/yolov5/data/ImageNet.yaml (deflated 54%)\n",
      "updating: content/yolov5/data/ImageNet10.yaml (deflated 42%)\n",
      "updating: content/yolov5/data/ImageNet100.yaml (deflated 48%)\n",
      "updating: content/yolov5/data/GlobalWheat2020.yaml (deflated 54%)\n",
      "updating: content/yolov5/data/images/ (stored 0%)\n",
      "updating: content/yolov5/data/images/bus.jpg (deflated 1%)\n",
      "updating: content/yolov5/data/images/zidane.jpg (deflated 0%)\n",
      "updating: content/yolov5/data/VOC.yaml (deflated 55%)\n",
      "updating: content/yolov5/data/ImageNet1000.yaml (deflated 54%)\n",
      "updating: content/yolov5/data/hyps/ (stored 0%)\n",
      "updating: content/yolov5/data/hyps/hyp.Objects365.yaml (deflated 39%)\n",
      "updating: content/yolov5/data/hyps/hyp.scratch-med.yaml (deflated 53%)\n",
      "updating: content/yolov5/data/hyps/hyp.no-augmentation.yaml (deflated 53%)\n",
      "updating: content/yolov5/data/hyps/hyp.scratch-low.yaml (deflated 53%)\n",
      "updating: content/yolov5/data/hyps/hyp.VOC.yaml (deflated 48%)\n",
      "updating: content/yolov5/data/hyps/hyp.scratch-high.yaml (deflated 53%)\n",
      "updating: content/yolov5/data/xView.yaml (deflated 57%)\n",
      "updating: content/yolov5/data/coco.yaml (deflated 49%)\n",
      "updating: content/yolov5/data/SKU-110K.yaml (deflated 52%)\n",
      "updating: content/yolov5/data/VisDrone.yaml (deflated 58%)\n",
      "updating: content/yolov5/data/coco128-seg.yaml (deflated 47%)\n",
      "updating: content/yolov5/data/scripts/ (stored 0%)\n",
      "updating: content/yolov5/data/scripts/download_weights.sh (deflated 43%)\n",
      "updating: content/yolov5/data/scripts/get_coco.sh (deflated 59%)\n",
      "updating: content/yolov5/data/scripts/get_imagenet100.sh (deflated 41%)\n",
      "updating: content/yolov5/data/scripts/get_coco128.sh (deflated 36%)\n",
      "updating: content/yolov5/data/scripts/get_imagenet1000.sh (deflated 41%)\n",
      "updating: content/yolov5/data/scripts/get_imagenet10.sh (deflated 41%)\n",
      "updating: content/yolov5/data/scripts/get_imagenet.sh (deflated 53%)\n",
      "updating: content/yolov5/data/Argoverse.yaml (deflated 55%)\n",
      "updating: content/yolov5/val.py (deflated 67%)\n",
      "updating: content/yolov5/tutorial.ipynb (deflated 74%)\n",
      "updating: content/yolov5/.dockerignore (deflated 56%)\n",
      "updating: content/yolov5/__pycache__/ (stored 0%)\n",
      "updating: content/yolov5/__pycache__/val.cpython-310.pyc (deflated 43%)\n",
      "updating: content/yolov5/export.py (deflated 71%)\n",
      "updating: content/yolov5/README.zh-CN.md (deflated 76%)\n",
      "updating: content/yolov5/models/ (stored 0%)\n",
      "updating: content/yolov5/models/yolov5l.yaml (deflated 61%)\n",
      "updating: content/yolov5/models/yolov5n.yaml (deflated 61%)\n",
      "updating: content/yolov5/models/experimental.py (deflated 60%)\n",
      "updating: content/yolov5/models/common.py (deflated 71%)\n",
      "updating: content/yolov5/models/tf.py (deflated 73%)\n",
      "updating: content/yolov5/models/segment/ (stored 0%)\n",
      "updating: content/yolov5/models/segment/yolov5n-seg.yaml (deflated 61%)\n",
      "updating: content/yolov5/models/segment/yolov5m-seg.yaml (deflated 61%)\n",
      "updating: content/yolov5/models/segment/yolov5s-seg.yaml (deflated 61%)\n",
      "updating: content/yolov5/models/segment/yolov5x-seg.yaml (deflated 61%)\n",
      "updating: content/yolov5/models/segment/yolov5l-seg.yaml (deflated 61%)\n",
      "updating: content/yolov5/models/yolo.py (deflated 67%)\n",
      "updating: content/yolov5/models/yolov5x.yaml (deflated 61%)\n",
      "updating: content/yolov5/models/yolov5m.yaml (deflated 61%)\n",
      "updating: content/yolov5/models/hub/ (stored 0%)\n",
      "updating: content/yolov5/models/hub/yolov5-p34.yaml (deflated 59%)\n",
      "updating: content/yolov5/models/hub/yolov5-p2.yaml (deflated 66%)\n",
      "updating: content/yolov5/models/hub/yolov5-panet.yaml (deflated 61%)\n",
      "updating: content/yolov5/models/hub/yolov5-p7.yaml (deflated 70%)\n",
      "updating: content/yolov5/models/hub/yolov5s6.yaml (deflated 65%)\n",
      "updating: content/yolov5/models/hub/yolov3-spp.yaml (deflated 63%)\n",
      "updating: content/yolov5/models/hub/yolov5s-ghost.yaml (deflated 63%)\n",
      "updating: content/yolov5/models/hub/yolov5-p6.yaml (deflated 66%)\n",
      "updating: content/yolov5/models/hub/yolov5n6.yaml (deflated 65%)\n",
      "updating: content/yolov5/models/hub/yolov3-tiny.yaml (deflated 60%)\n",
      "updating: content/yolov5/models/hub/yolov5s-LeakyReLU.yaml (deflated 60%)\n",
      "updating: content/yolov5/models/hub/yolov3.yaml (deflated 64%)\n",
      "updating: content/yolov5/models/hub/yolov5l6.yaml (deflated 66%)\n",
      "updating: content/yolov5/models/hub/yolov5-fpn.yaml (deflated 57%)\n",
      "updating: content/yolov5/models/hub/yolov5x6.yaml (deflated 65%)\n",
      "updating: content/yolov5/models/hub/yolov5-bifpn.yaml (deflated 60%)\n",
      "updating: content/yolov5/models/hub/yolov5s-transformer.yaml (deflated 60%)\n",
      "updating: content/yolov5/models/hub/anchors.yaml (deflated 66%)\n",
      "updating: content/yolov5/models/hub/yolov5m6.yaml (deflated 65%)\n",
      "updating: content/yolov5/models/yolov5s.yaml (deflated 61%)\n",
      "updating: content/yolov5/models/__pycache__/ (stored 0%)\n",
      "updating: content/yolov5/models/__pycache__/common.cpython-310.pyc (deflated 55%)\n",
      "updating: content/yolov5/models/__pycache__/experimental.cpython-310.pyc (deflated 45%)\n",
      "updating: content/yolov5/models/__pycache__/__init__.cpython-310.pyc (deflated 27%)\n",
      "updating: content/yolov5/models/__pycache__/yolo.cpython-310.pyc (deflated 49%)\n",
      "updating: content/yolov5/models/__init__.py (stored 0%)\n",
      "  adding: content/yolov5/runs/train/exp2/events.out.tfevents.1710868272.b2798a4ecb14.8663.0 (deflated 16%)\n",
      "  adding: content/yolov5/runs/train/exp/events.out.tfevents.1710867017.b2798a4ecb14.2818.0 (deflated 30%)\n"
     ]
    }
   ],
   "source": [
    "!zip -r /content/drive/MyDrive/20_selected_projects/8_videoestimation/filev5.zip /content/yolov5"
   ]
  },
  {
   "cell_type": "markdown",
   "metadata": {
    "id": "jzEg0nK2Dcth"
   },
   "source": [
    "# YoloV3"
   ]
  },
  {
   "cell_type": "code",
   "execution_count": 15,
   "metadata": {
    "colab": {
     "base_uri": "https://localhost:8080/"
    },
    "executionInfo": {
     "elapsed": 532,
     "status": "ok",
     "timestamp": 1710870540168,
     "user": {
      "displayName": "TruProjects yolo",
      "userId": "18414174829652366032"
     },
     "user_tz": -330
    },
    "id": "39JvVuzNDdyi",
    "outputId": "986c78ab-6029-4cc9-8b5e-7e99b3f7b662"
   },
   "outputs": [
    {
     "name": "stdout",
     "output_type": "stream",
     "text": [
      "/content\n"
     ]
    }
   ],
   "source": [
    "%cd /content"
   ]
  },
  {
   "cell_type": "code",
   "execution_count": 11,
   "metadata": {
    "colab": {
     "base_uri": "https://localhost:8080/"
    },
    "executionInfo": {
     "elapsed": 2820,
     "status": "ok",
     "timestamp": 1710870458557,
     "user": {
      "displayName": "TruProjects yolo",
      "userId": "18414174829652366032"
     },
     "user_tz": -330
    },
    "id": "WfxCEo4gDijb",
    "outputId": "d19336f6-c7ad-46a5-96ea-cb2d18803b24"
   },
   "outputs": [
    {
     "name": "stdout",
     "output_type": "stream",
     "text": [
      "Cloning into 'yolov3'...\n",
      "remote: Enumerating objects: 11254, done.\u001b[K\n",
      "remote: Counting objects: 100% (1176/1176), done.\u001b[K\n",
      "remote: Compressing objects: 100% (497/497), done.\u001b[K\n",
      "remote: Total 11254 (delta 826), reused 970 (delta 678), pack-reused 10078\u001b[K\n",
      "Receiving objects: 100% (11254/11254), 9.98 MiB | 7.05 MiB/s, done.\n",
      "Resolving deltas: 100% (7625/7625), done.\n"
     ]
    }
   ],
   "source": [
    "!git clone https://github.com/ultralytics/yolov3"
   ]
  },
  {
   "cell_type": "code",
   "execution_count": 16,
   "metadata": {
    "colab": {
     "base_uri": "https://localhost:8080/"
    },
    "executionInfo": {
     "elapsed": 544,
     "status": "ok",
     "timestamp": 1710870543767,
     "user": {
      "displayName": "TruProjects yolo",
      "userId": "18414174829652366032"
     },
     "user_tz": -330
    },
    "id": "kQVBZBlRDimY",
    "outputId": "d6a59608-a803-4689-8598-43981606ebc8"
   },
   "outputs": [
    {
     "name": "stdout",
     "output_type": "stream",
     "text": [
      "/content/yolov3\n"
     ]
    }
   ],
   "source": [
    "%cd /content/yolov3/"
   ]
  },
  {
   "cell_type": "code",
   "execution_count": 13,
   "metadata": {
    "colab": {
     "base_uri": "https://localhost:8080/",
     "height": 1000
    },
    "executionInfo": {
     "elapsed": 6127,
     "status": "ok",
     "timestamp": 1710870464682,
     "user": {
      "displayName": "TruProjects yolo",
      "userId": "18414174829652366032"
     },
     "user_tz": -330
    },
    "id": "9ZBrLKlmDipC",
    "outputId": "ed6f543f-1378-4c77-d154-d6048af2ed24"
   },
   "outputs": [
    {
     "name": "stdout",
     "output_type": "stream",
     "text": [
      "Requirement already satisfied: gitpython>=3.1.30 in /usr/local/lib/python3.10/dist-packages (from -r requirements.txt (line 5)) (3.1.42)\n",
      "Requirement already satisfied: matplotlib>=3.3 in /usr/local/lib/python3.10/dist-packages (from -r requirements.txt (line 6)) (3.7.1)\n",
      "Requirement already satisfied: numpy>=1.23.5 in /usr/local/lib/python3.10/dist-packages (from -r requirements.txt (line 7)) (1.25.2)\n",
      "Requirement already satisfied: opencv-python>=4.1.1 in /usr/local/lib/python3.10/dist-packages (from -r requirements.txt (line 8)) (4.8.0.76)\n",
      "Collecting Pillow>=10.0.1 (from -r requirements.txt (line 9))\n",
      "  Downloading pillow-10.2.0-cp310-cp310-manylinux_2_28_x86_64.whl (4.5 MB)\n",
      "\u001b[2K     \u001b[90m━━━━━━━━━━━━━━━━━━━━━━━━━━━━━━━━━━━━━━━━\u001b[0m \u001b[32m4.5/4.5 MB\u001b[0m \u001b[31m59.6 MB/s\u001b[0m eta \u001b[36m0:00:00\u001b[0m\n",
      "\u001b[?25hRequirement already satisfied: psutil in /usr/local/lib/python3.10/dist-packages (from -r requirements.txt (line 10)) (5.9.5)\n",
      "Requirement already satisfied: PyYAML>=5.3.1 in /usr/local/lib/python3.10/dist-packages (from -r requirements.txt (line 11)) (6.0.1)\n",
      "Requirement already satisfied: requests>=2.23.0 in /usr/local/lib/python3.10/dist-packages (from -r requirements.txt (line 12)) (2.31.0)\n",
      "Requirement already satisfied: scipy>=1.4.1 in /usr/local/lib/python3.10/dist-packages (from -r requirements.txt (line 13)) (1.11.4)\n",
      "Requirement already satisfied: thop>=0.1.1 in /usr/local/lib/python3.10/dist-packages (from -r requirements.txt (line 14)) (0.1.1.post2209072238)\n",
      "Requirement already satisfied: torch>=1.8.0 in /usr/local/lib/python3.10/dist-packages (from -r requirements.txt (line 15)) (2.2.1+cu121)\n",
      "Requirement already satisfied: torchvision>=0.9.0 in /usr/local/lib/python3.10/dist-packages (from -r requirements.txt (line 16)) (0.17.1+cu121)\n",
      "Requirement already satisfied: tqdm>=4.64.0 in /usr/local/lib/python3.10/dist-packages (from -r requirements.txt (line 17)) (4.66.2)\n",
      "Requirement already satisfied: ultralytics>=8.0.232 in /usr/local/lib/python3.10/dist-packages (from -r requirements.txt (line 18)) (8.1.29)\n",
      "Requirement already satisfied: pandas>=1.1.4 in /usr/local/lib/python3.10/dist-packages (from -r requirements.txt (line 27)) (1.5.3)\n",
      "Requirement already satisfied: seaborn>=0.11.0 in /usr/local/lib/python3.10/dist-packages (from -r requirements.txt (line 28)) (0.13.1)\n",
      "Requirement already satisfied: setuptools>=65.5.1 in /usr/local/lib/python3.10/dist-packages (from -r requirements.txt (line 42)) (67.7.2)\n",
      "Requirement already satisfied: gitdb<5,>=4.0.1 in /usr/local/lib/python3.10/dist-packages (from gitpython>=3.1.30->-r requirements.txt (line 5)) (4.0.11)\n",
      "Requirement already satisfied: contourpy>=1.0.1 in /usr/local/lib/python3.10/dist-packages (from matplotlib>=3.3->-r requirements.txt (line 6)) (1.2.0)\n",
      "Requirement already satisfied: cycler>=0.10 in /usr/local/lib/python3.10/dist-packages (from matplotlib>=3.3->-r requirements.txt (line 6)) (0.12.1)\n",
      "Requirement already satisfied: fonttools>=4.22.0 in /usr/local/lib/python3.10/dist-packages (from matplotlib>=3.3->-r requirements.txt (line 6)) (4.49.0)\n",
      "Requirement already satisfied: kiwisolver>=1.0.1 in /usr/local/lib/python3.10/dist-packages (from matplotlib>=3.3->-r requirements.txt (line 6)) (1.4.5)\n",
      "Requirement already satisfied: packaging>=20.0 in /usr/local/lib/python3.10/dist-packages (from matplotlib>=3.3->-r requirements.txt (line 6)) (24.0)\n",
      "Requirement already satisfied: pyparsing>=2.3.1 in /usr/local/lib/python3.10/dist-packages (from matplotlib>=3.3->-r requirements.txt (line 6)) (3.1.2)\n",
      "Requirement already satisfied: python-dateutil>=2.7 in /usr/local/lib/python3.10/dist-packages (from matplotlib>=3.3->-r requirements.txt (line 6)) (2.8.2)\n",
      "Requirement already satisfied: charset-normalizer<4,>=2 in /usr/local/lib/python3.10/dist-packages (from requests>=2.23.0->-r requirements.txt (line 12)) (3.3.2)\n",
      "Requirement already satisfied: idna<4,>=2.5 in /usr/local/lib/python3.10/dist-packages (from requests>=2.23.0->-r requirements.txt (line 12)) (3.6)\n",
      "Requirement already satisfied: urllib3<3,>=1.21.1 in /usr/local/lib/python3.10/dist-packages (from requests>=2.23.0->-r requirements.txt (line 12)) (2.0.7)\n",
      "Requirement already satisfied: certifi>=2017.4.17 in /usr/local/lib/python3.10/dist-packages (from requests>=2.23.0->-r requirements.txt (line 12)) (2024.2.2)\n",
      "Requirement already satisfied: filelock in /usr/local/lib/python3.10/dist-packages (from torch>=1.8.0->-r requirements.txt (line 15)) (3.13.1)\n",
      "Requirement already satisfied: typing-extensions>=4.8.0 in /usr/local/lib/python3.10/dist-packages (from torch>=1.8.0->-r requirements.txt (line 15)) (4.10.0)\n",
      "Requirement already satisfied: sympy in /usr/local/lib/python3.10/dist-packages (from torch>=1.8.0->-r requirements.txt (line 15)) (1.12)\n",
      "Requirement already satisfied: networkx in /usr/local/lib/python3.10/dist-packages (from torch>=1.8.0->-r requirements.txt (line 15)) (3.2.1)\n",
      "Requirement already satisfied: jinja2 in /usr/local/lib/python3.10/dist-packages (from torch>=1.8.0->-r requirements.txt (line 15)) (3.1.3)\n",
      "Requirement already satisfied: fsspec in /usr/local/lib/python3.10/dist-packages (from torch>=1.8.0->-r requirements.txt (line 15)) (2023.6.0)\n",
      "Requirement already satisfied: nvidia-cuda-nvrtc-cu12==12.1.105 in /usr/local/lib/python3.10/dist-packages (from torch>=1.8.0->-r requirements.txt (line 15)) (12.1.105)\n",
      "Requirement already satisfied: nvidia-cuda-runtime-cu12==12.1.105 in /usr/local/lib/python3.10/dist-packages (from torch>=1.8.0->-r requirements.txt (line 15)) (12.1.105)\n",
      "Requirement already satisfied: nvidia-cuda-cupti-cu12==12.1.105 in /usr/local/lib/python3.10/dist-packages (from torch>=1.8.0->-r requirements.txt (line 15)) (12.1.105)\n",
      "Requirement already satisfied: nvidia-cudnn-cu12==8.9.2.26 in /usr/local/lib/python3.10/dist-packages (from torch>=1.8.0->-r requirements.txt (line 15)) (8.9.2.26)\n",
      "Requirement already satisfied: nvidia-cublas-cu12==12.1.3.1 in /usr/local/lib/python3.10/dist-packages (from torch>=1.8.0->-r requirements.txt (line 15)) (12.1.3.1)\n",
      "Requirement already satisfied: nvidia-cufft-cu12==11.0.2.54 in /usr/local/lib/python3.10/dist-packages (from torch>=1.8.0->-r requirements.txt (line 15)) (11.0.2.54)\n",
      "Requirement already satisfied: nvidia-curand-cu12==10.3.2.106 in /usr/local/lib/python3.10/dist-packages (from torch>=1.8.0->-r requirements.txt (line 15)) (10.3.2.106)\n",
      "Requirement already satisfied: nvidia-cusolver-cu12==11.4.5.107 in /usr/local/lib/python3.10/dist-packages (from torch>=1.8.0->-r requirements.txt (line 15)) (11.4.5.107)\n",
      "Requirement already satisfied: nvidia-cusparse-cu12==12.1.0.106 in /usr/local/lib/python3.10/dist-packages (from torch>=1.8.0->-r requirements.txt (line 15)) (12.1.0.106)\n",
      "Requirement already satisfied: nvidia-nccl-cu12==2.19.3 in /usr/local/lib/python3.10/dist-packages (from torch>=1.8.0->-r requirements.txt (line 15)) (2.19.3)\n",
      "Requirement already satisfied: nvidia-nvtx-cu12==12.1.105 in /usr/local/lib/python3.10/dist-packages (from torch>=1.8.0->-r requirements.txt (line 15)) (12.1.105)\n",
      "Requirement already satisfied: triton==2.2.0 in /usr/local/lib/python3.10/dist-packages (from torch>=1.8.0->-r requirements.txt (line 15)) (2.2.0)\n",
      "Requirement already satisfied: nvidia-nvjitlink-cu12 in /usr/local/lib/python3.10/dist-packages (from nvidia-cusolver-cu12==11.4.5.107->torch>=1.8.0->-r requirements.txt (line 15)) (12.4.99)\n",
      "Requirement already satisfied: py-cpuinfo in /usr/local/lib/python3.10/dist-packages (from ultralytics>=8.0.232->-r requirements.txt (line 18)) (9.0.0)\n",
      "Requirement already satisfied: pytz>=2020.1 in /usr/local/lib/python3.10/dist-packages (from pandas>=1.1.4->-r requirements.txt (line 27)) (2023.4)\n",
      "Requirement already satisfied: smmap<6,>=3.0.1 in /usr/local/lib/python3.10/dist-packages (from gitdb<5,>=4.0.1->gitpython>=3.1.30->-r requirements.txt (line 5)) (5.0.1)\n",
      "Requirement already satisfied: six>=1.5 in /usr/local/lib/python3.10/dist-packages (from python-dateutil>=2.7->matplotlib>=3.3->-r requirements.txt (line 6)) (1.16.0)\n",
      "Requirement already satisfied: MarkupSafe>=2.0 in /usr/local/lib/python3.10/dist-packages (from jinja2->torch>=1.8.0->-r requirements.txt (line 15)) (2.1.5)\n",
      "Requirement already satisfied: mpmath>=0.19 in /usr/local/lib/python3.10/dist-packages (from sympy->torch>=1.8.0->-r requirements.txt (line 15)) (1.3.0)\n",
      "Installing collected packages: Pillow\n",
      "  Attempting uninstall: Pillow\n",
      "    Found existing installation: Pillow 9.4.0\n",
      "    Uninstalling Pillow-9.4.0:\n",
      "      Successfully uninstalled Pillow-9.4.0\n",
      "\u001b[31mERROR: pip's dependency resolver does not currently take into account all the packages that are installed. This behaviour is the source of the following dependency conflicts.\n",
      "imageio 2.31.6 requires pillow<10.1.0,>=8.3.2, but you have pillow 10.2.0 which is incompatible.\u001b[0m\u001b[31m\n",
      "\u001b[0mSuccessfully installed Pillow-10.2.0\n"
     ]
    },
    {
     "data": {
      "application/vnd.colab-display-data+json": {
       "id": "aaaf20923c534268a270462f34d286ca",
       "pip_warning": {
        "packages": [
         "PIL"
        ]
       }
      }
     },
     "metadata": {},
     "output_type": "display_data"
    }
   ],
   "source": [
    "!pip install -r requirements.txt"
   ]
  },
  {
   "cell_type": "code",
   "execution_count": 18,
   "metadata": {
    "colab": {
     "base_uri": "https://localhost:8080/"
    },
    "executionInfo": {
     "elapsed": 570905,
     "status": "ok",
     "timestamp": 1710871161351,
     "user": {
      "displayName": "TruProjects yolo",
      "userId": "18414174829652366032"
     },
     "user_tz": -330
    },
    "id": "W550RIX0DiuH",
    "outputId": "07fd5230-8cc2-4e07-a60f-eb050265458c"
   },
   "outputs": [
    {
     "name": "stdout",
     "output_type": "stream",
     "text": [
      "2024-03-19 17:49:58.978186: E external/local_xla/xla/stream_executor/cuda/cuda_dnn.cc:9261] Unable to register cuDNN factory: Attempting to register factory for plugin cuDNN when one has already been registered\n",
      "2024-03-19 17:49:58.978232: E external/local_xla/xla/stream_executor/cuda/cuda_fft.cc:607] Unable to register cuFFT factory: Attempting to register factory for plugin cuFFT when one has already been registered\n",
      "2024-03-19 17:49:58.979531: E external/local_xla/xla/stream_executor/cuda/cuda_blas.cc:1515] Unable to register cuBLAS factory: Attempting to register factory for plugin cuBLAS when one has already been registered\n",
      "\u001b[34m\u001b[1mtrain: \u001b[0mweights=yolov3-tiny.pt, cfg=, data=/content/drive/MyDrive/20_selected_projects/8_videoestimation/yolov5/data.yaml, hyp=data/hyps/hyp.scratch-low.yaml, epochs=200, batch_size=4, imgsz=416, rect=False, resume=False, nosave=False, noval=False, noautoanchor=False, noplots=False, evolve=None, bucket=, cache=None, image_weights=False, device=, multi_scale=False, single_cls=False, optimizer=SGD, sync_bn=False, workers=8, project=runs/train, name=exp, exist_ok=False, quad=False, cos_lr=False, label_smoothing=0.0, patience=100, freeze=[0], save_period=-1, seed=0, local_rank=-1, entity=None, upload_dataset=False, bbox_interval=-1, artifact_alias=latest\n",
      "\u001b[34m\u001b[1mgithub: \u001b[0m⚠️ YOLOv3 is out of date by 2778 commits. Use 'git pull ultralytics master' or 'git clone https://github.com/ultralytics/yolov5' to update.\n",
      "YOLOv3 🚀 v9.6.0-167-g0b2c5f97 Python-3.10.12 torch-2.2.1+cu121 CUDA:0 (Tesla T4, 15102MiB)\n",
      "\n",
      "\u001b[34m\u001b[1mhyperparameters: \u001b[0mlr0=0.01, lrf=0.01, momentum=0.937, weight_decay=0.0005, warmup_epochs=3.0, warmup_momentum=0.8, warmup_bias_lr=0.1, box=0.05, cls=0.5, cls_pw=1.0, obj=1.0, obj_pw=1.0, iou_t=0.2, anchor_t=4.0, fl_gamma=0.0, hsv_h=0.015, hsv_s=0.7, hsv_v=0.4, degrees=0.0, translate=0.1, scale=0.5, shear=0.0, perspective=0.0, flipud=0.0, fliplr=0.5, mosaic=1.0, mixup=0.0, copy_paste=0.0\n",
      "\u001b[34m\u001b[1mComet: \u001b[0mrun 'pip install comet_ml' to automatically track and visualize YOLOv3 🚀 runs in Comet\n",
      "\u001b[34m\u001b[1mTensorBoard: \u001b[0mStart with 'tensorboard --logdir runs/train', view at http://localhost:6006/\n",
      "Downloading https://github.com/ultralytics/yolov5/releases/download/v7.0/yolov3-tiny.pt to yolov3-tiny.pt...\n",
      "100% 17.0M/17.0M [00:01<00:00, 14.4MB/s]\n",
      "\n",
      "Overriding model.yaml nc=80 with nc=7\n",
      "\n",
      "                 from  n    params  module                                  arguments                     \n",
      "  0                -1  1       464  models.common.Conv                      [3, 16, 3, 1]                 \n",
      "  1                -1  1         0  torch.nn.modules.pooling.MaxPool2d      [2, 2, 0]                     \n",
      "  2                -1  1      4672  models.common.Conv                      [16, 32, 3, 1]                \n",
      "  3                -1  1         0  torch.nn.modules.pooling.MaxPool2d      [2, 2, 0]                     \n",
      "  4                -1  1     18560  models.common.Conv                      [32, 64, 3, 1]                \n",
      "  5                -1  1         0  torch.nn.modules.pooling.MaxPool2d      [2, 2, 0]                     \n",
      "  6                -1  1     73984  models.common.Conv                      [64, 128, 3, 1]               \n",
      "  7                -1  1         0  torch.nn.modules.pooling.MaxPool2d      [2, 2, 0]                     \n",
      "  8                -1  1    295424  models.common.Conv                      [128, 256, 3, 1]              \n",
      "  9                -1  1         0  torch.nn.modules.pooling.MaxPool2d      [2, 2, 0]                     \n",
      " 10                -1  1   1180672  models.common.Conv                      [256, 512, 3, 1]              \n",
      " 11                -1  1         0  torch.nn.modules.padding.ZeroPad2d      [[0, 1, 0, 1]]                \n",
      " 12                -1  1         0  torch.nn.modules.pooling.MaxPool2d      [2, 1, 0]                     \n",
      " 13                -1  1   4720640  models.common.Conv                      [512, 1024, 3, 1]             \n",
      " 14                -1  1    262656  models.common.Conv                      [1024, 256, 1, 1]             \n",
      " 15                -1  1   1180672  models.common.Conv                      [256, 512, 3, 1]              \n",
      " 16                -2  1     33024  models.common.Conv                      [256, 128, 1, 1]              \n",
      " 17                -1  1         0  torch.nn.modules.upsampling.Upsample    [None, 2, 'nearest']          \n",
      " 18           [-1, 8]  1         0  models.common.Concat                    [1]                           \n",
      " 19                -1  1    885248  models.common.Conv                      [384, 256, 3, 1]              \n",
      " 20          [19, 15]  1     27720  models.yolo.Detect                      [7, [[10, 14, 23, 27, 37, 58], [81, 82, 135, 169, 344, 319]], [256, 512]]\n",
      "Model summary: 49 layers, 8683736 parameters, 8683736 gradients, 13.0 GFLOPs\n",
      "\n",
      "Transferred 67/71 items from yolov3-tiny.pt\n",
      "\u001b[34m\u001b[1mAMP: \u001b[0mchecks passed ✅\n",
      "\u001b[34m\u001b[1moptimizer:\u001b[0m SGD(lr=0.01) with parameter groups 11 weight(decay=0.0), 13 weight(decay=0.0005), 13 bias\n",
      "\u001b[34m\u001b[1malbumentations: \u001b[0mBlur(p=0.01, blur_limit=(3, 7)), MedianBlur(p=0.01, blur_limit=(3, 7)), ToGray(p=0.01), CLAHE(p=0.01, clip_limit=(1, 4.0), tile_grid_size=(8, 8))\n",
      "\u001b[34m\u001b[1mtrain: \u001b[0mScanning /content/drive/MyDrive/20_selected_projects/8_videoestimation/yolov5/train/labels.cache... 161 images, 0 backgrounds, 0 corrupt: 100% 161/161 [00:00<?, ?it/s]\n",
      "\u001b[34m\u001b[1mval: \u001b[0mScanning /content/drive/MyDrive/20_selected_projects/8_videoestimation/yolov5/valid/labels.cache... 40 images, 0 backgrounds, 0 corrupt: 100% 40/40 [00:00<?, ?it/s]\n",
      "\n",
      "\u001b[34m\u001b[1mAutoAnchor: \u001b[0m3.79 anchors/target, 1.000 Best Possible Recall (BPR). Current anchors are a good fit to dataset ✅\n",
      "Plotting labels to runs/train/exp/labels.jpg... \n",
      "Image sizes 416 train, 416 val\n",
      "Using 4 dataloader workers\n",
      "Logging results to \u001b[1mruns/train/exp\u001b[0m\n",
      "Starting training for 200 epochs...\n",
      "\n",
      "      Epoch    GPU_mem   box_loss   obj_loss   cls_loss  Instances       Size\n",
      "      0/199     0.606G     0.1173    0.09489     0.0554          2        416: 100% 41/41 [00:03<00:00, 13.01it/s]\n",
      "                 Class     Images  Instances          P          R      mAP50   mAP50-95: 100% 5/5 [00:00<00:00, 10.34it/s]\n",
      "                   all         40        150    0.00245     0.0956    0.00249   0.000804\n",
      "\n",
      "      Epoch    GPU_mem   box_loss   obj_loss   cls_loss  Instances       Size\n",
      "      1/199     0.606G     0.1062    0.09227    0.04856         12        416: 100% 41/41 [00:02<00:00, 18.44it/s]\n",
      "                 Class     Images  Instances          P          R      mAP50   mAP50-95: 100% 5/5 [00:00<00:00, 12.13it/s]\n",
      "                   all         40        150      0.233     0.0911     0.0267    0.00678\n",
      "\n",
      "      Epoch    GPU_mem   box_loss   obj_loss   cls_loss  Instances       Size\n",
      "      2/199     0.606G      0.101    0.08506    0.04135          2        416: 100% 41/41 [00:02<00:00, 18.78it/s]\n",
      "                 Class     Images  Instances          P          R      mAP50   mAP50-95: 100% 5/5 [00:00<00:00, 12.28it/s]\n",
      "                   all         40        150      0.654     0.0717     0.0462     0.0127\n",
      "\n",
      "      Epoch    GPU_mem   box_loss   obj_loss   cls_loss  Instances       Size\n",
      "      3/199     0.606G     0.1016    0.07103    0.04148          4        416: 100% 41/41 [00:02<00:00, 18.87it/s]\n",
      "                 Class     Images  Instances          P          R      mAP50   mAP50-95: 100% 5/5 [00:00<00:00, 12.03it/s]\n",
      "                   all         40        150       0.71     0.0794     0.0725     0.0195\n",
      "\n",
      "      Epoch    GPU_mem   box_loss   obj_loss   cls_loss  Instances       Size\n",
      "      4/199     0.606G     0.1031    0.07009    0.03966          7        416: 100% 41/41 [00:02<00:00, 18.29it/s]\n",
      "                 Class     Images  Instances          P          R      mAP50   mAP50-95: 100% 5/5 [00:00<00:00, 12.21it/s]\n",
      "                   all         40        150      0.685      0.152     0.0876     0.0249\n",
      "\n",
      "      Epoch    GPU_mem   box_loss   obj_loss   cls_loss  Instances       Size\n",
      "      5/199     0.606G    0.08911    0.08814    0.04025         11        416: 100% 41/41 [00:02<00:00, 17.42it/s]\n",
      "                 Class     Images  Instances          P          R      mAP50   mAP50-95: 100% 5/5 [00:00<00:00, 11.19it/s]\n",
      "                   all         40        150      0.675      0.123     0.0566     0.0166\n",
      "\n",
      "      Epoch    GPU_mem   box_loss   obj_loss   cls_loss  Instances       Size\n",
      "      6/199     0.606G    0.09029    0.07798    0.03845          1        416: 100% 41/41 [00:02<00:00, 19.51it/s]\n",
      "                 Class     Images  Instances          P          R      mAP50   mAP50-95: 100% 5/5 [00:00<00:00, 13.33it/s]\n",
      "                   all         40        150      0.434      0.202     0.0476      0.014\n",
      "\n",
      "      Epoch    GPU_mem   box_loss   obj_loss   cls_loss  Instances       Size\n",
      "      7/199     0.606G    0.08201    0.07695    0.03914         11        416: 100% 41/41 [00:01<00:00, 20.72it/s]\n",
      "                 Class     Images  Instances          P          R      mAP50   mAP50-95: 100% 5/5 [00:00<00:00, 12.09it/s]\n",
      "                   all         40        150      0.478      0.164     0.0795     0.0294\n",
      "\n",
      "      Epoch    GPU_mem   box_loss   obj_loss   cls_loss  Instances       Size\n",
      "      8/199     0.606G    0.07727    0.07708    0.03693          2        416: 100% 41/41 [00:02<00:00, 18.96it/s]\n",
      "                 Class     Images  Instances          P          R      mAP50   mAP50-95: 100% 5/5 [00:00<00:00, 12.35it/s]\n",
      "                   all         40        150      0.491      0.179      0.118     0.0388\n",
      "\n",
      "      Epoch    GPU_mem   box_loss   obj_loss   cls_loss  Instances       Size\n",
      "      9/199     0.606G    0.08254    0.07255    0.03889          7        416: 100% 41/41 [00:02<00:00, 17.94it/s]\n",
      "                 Class     Images  Instances          P          R      mAP50   mAP50-95: 100% 5/5 [00:00<00:00, 11.48it/s]\n",
      "                   all         40        150      0.512      0.196      0.123     0.0441\n",
      "\n",
      "      Epoch    GPU_mem   box_loss   obj_loss   cls_loss  Instances       Size\n",
      "     10/199     0.606G    0.07482    0.08167    0.03678          6        416: 100% 41/41 [00:02<00:00, 18.53it/s]\n",
      "                 Class     Images  Instances          P          R      mAP50   mAP50-95: 100% 5/5 [00:00<00:00, 12.06it/s]\n",
      "                   all         40        150      0.712      0.191       0.13     0.0511\n",
      "\n",
      "      Epoch    GPU_mem   box_loss   obj_loss   cls_loss  Instances       Size\n",
      "     11/199     0.606G    0.07378    0.08113    0.03688          7        416: 100% 41/41 [00:02<00:00, 18.59it/s]\n",
      "                 Class     Images  Instances          P          R      mAP50   mAP50-95: 100% 5/5 [00:00<00:00, 11.69it/s]\n",
      "                   all         40        150      0.714      0.163      0.136     0.0536\n",
      "\n",
      "      Epoch    GPU_mem   box_loss   obj_loss   cls_loss  Instances       Size\n",
      "     12/199     0.606G    0.07199    0.08179    0.03764          6        416: 100% 41/41 [00:02<00:00, 18.16it/s]\n",
      "                 Class     Images  Instances          P          R      mAP50   mAP50-95: 100% 5/5 [00:00<00:00, 12.19it/s]\n",
      "                   all         40        150      0.718      0.249      0.145     0.0558\n",
      "\n",
      "      Epoch    GPU_mem   box_loss   obj_loss   cls_loss  Instances       Size\n",
      "     13/199     0.606G    0.06936    0.09385    0.03645         10        416: 100% 41/41 [00:02<00:00, 18.56it/s]\n",
      "                 Class     Images  Instances          P          R      mAP50   mAP50-95: 100% 5/5 [00:00<00:00, 10.94it/s]\n",
      "                   all         40        150      0.724      0.255      0.151     0.0545\n",
      "\n",
      "      Epoch    GPU_mem   box_loss   obj_loss   cls_loss  Instances       Size\n",
      "     14/199     0.606G    0.06634    0.08032    0.03745          6        416: 100% 41/41 [00:02<00:00, 19.02it/s]\n",
      "                 Class     Images  Instances          P          R      mAP50   mAP50-95: 100% 5/5 [00:00<00:00, 11.57it/s]\n",
      "                   all         40        150      0.739       0.23      0.181     0.0703\n",
      "\n",
      "      Epoch    GPU_mem   box_loss   obj_loss   cls_loss  Instances       Size\n",
      "     15/199     0.606G    0.06833    0.08185    0.03385          7        416: 100% 41/41 [00:02<00:00, 18.93it/s]\n",
      "                 Class     Images  Instances          P          R      mAP50   mAP50-95: 100% 5/5 [00:00<00:00, 12.24it/s]\n",
      "                   all         40        150      0.767      0.203      0.191     0.0783\n",
      "\n",
      "      Epoch    GPU_mem   box_loss   obj_loss   cls_loss  Instances       Size\n",
      "     16/199     0.606G    0.06749    0.07948    0.03575          4        416: 100% 41/41 [00:02<00:00, 20.42it/s]\n",
      "                 Class     Images  Instances          P          R      mAP50   mAP50-95: 100% 5/5 [00:00<00:00, 11.63it/s]\n",
      "                   all         40        150      0.739      0.229      0.193     0.0802\n",
      "\n",
      "      Epoch    GPU_mem   box_loss   obj_loss   cls_loss  Instances       Size\n",
      "     17/199     0.606G     0.0628    0.08139    0.03382          3        416: 100% 41/41 [00:02<00:00, 18.61it/s]\n",
      "                 Class     Images  Instances          P          R      mAP50   mAP50-95: 100% 5/5 [00:00<00:00, 11.87it/s]\n",
      "                   all         40        150       0.72      0.294       0.18     0.0859\n",
      "\n",
      "      Epoch    GPU_mem   box_loss   obj_loss   cls_loss  Instances       Size\n",
      "     18/199     0.606G    0.06559    0.07722     0.0339          2        416: 100% 41/41 [00:02<00:00, 17.71it/s]\n",
      "                 Class     Images  Instances          P          R      mAP50   mAP50-95: 100% 5/5 [00:00<00:00, 12.29it/s]\n",
      "                   all         40        150       0.73      0.256      0.187     0.0904\n",
      "\n",
      "      Epoch    GPU_mem   box_loss   obj_loss   cls_loss  Instances       Size\n",
      "     19/199     0.606G     0.0618    0.07244    0.03407          5        416: 100% 41/41 [00:02<00:00, 18.59it/s]\n",
      "                 Class     Images  Instances          P          R      mAP50   mAP50-95: 100% 5/5 [00:00<00:00, 12.27it/s]\n",
      "                   all         40        150      0.723       0.22      0.165     0.0717\n",
      "\n",
      "      Epoch    GPU_mem   box_loss   obj_loss   cls_loss  Instances       Size\n",
      "     20/199     0.606G    0.06565    0.08009    0.03338          6        416: 100% 41/41 [00:01<00:00, 20.51it/s]\n",
      "                 Class     Images  Instances          P          R      mAP50   mAP50-95: 100% 5/5 [00:00<00:00, 12.23it/s]\n",
      "                   all         40        150      0.778       0.23      0.211     0.0923\n",
      "\n",
      "      Epoch    GPU_mem   box_loss   obj_loss   cls_loss  Instances       Size\n",
      "     21/199     0.606G    0.05882    0.07008    0.03127          2        416: 100% 41/41 [00:02<00:00, 18.68it/s]\n",
      "                 Class     Images  Instances          P          R      mAP50   mAP50-95: 100% 5/5 [00:00<00:00, 11.45it/s]\n",
      "                   all         40        150      0.757      0.251      0.203     0.0911\n",
      "\n",
      "      Epoch    GPU_mem   box_loss   obj_loss   cls_loss  Instances       Size\n",
      "     22/199     0.606G    0.05912    0.07608    0.02935          5        416: 100% 41/41 [00:02<00:00, 19.36it/s]\n",
      "                 Class     Images  Instances          P          R      mAP50   mAP50-95: 100% 5/5 [00:00<00:00, 11.05it/s]\n",
      "                   all         40        150       0.73       0.23      0.184     0.0735\n",
      "\n",
      "      Epoch    GPU_mem   box_loss   obj_loss   cls_loss  Instances       Size\n",
      "     23/199     0.606G    0.05959    0.07168    0.03124          3        416: 100% 41/41 [00:02<00:00, 19.99it/s]\n",
      "                 Class     Images  Instances          P          R      mAP50   mAP50-95: 100% 5/5 [00:00<00:00, 12.31it/s]\n",
      "                   all         40        150      0.723      0.242      0.176     0.0668\n",
      "\n",
      "      Epoch    GPU_mem   box_loss   obj_loss   cls_loss  Instances       Size\n",
      "     24/199     0.606G    0.05925    0.06885    0.03434          7        416: 100% 41/41 [00:02<00:00, 19.94it/s]\n",
      "                 Class     Images  Instances          P          R      mAP50   mAP50-95: 100% 5/5 [00:00<00:00, 12.35it/s]\n",
      "                   all         40        150      0.555      0.252      0.223     0.0971\n",
      "\n",
      "      Epoch    GPU_mem   box_loss   obj_loss   cls_loss  Instances       Size\n",
      "     25/199     0.606G    0.05952     0.0939    0.03265         23        416: 100% 41/41 [00:02<00:00, 20.48it/s]\n",
      "                 Class     Images  Instances          P          R      mAP50   mAP50-95: 100% 5/5 [00:00<00:00, 11.56it/s]\n",
      "                   all         40        150      0.751      0.252      0.203     0.0932\n",
      "\n",
      "      Epoch    GPU_mem   box_loss   obj_loss   cls_loss  Instances       Size\n",
      "     26/199     0.606G    0.05815    0.07683    0.03125          2        416: 100% 41/41 [00:02<00:00, 20.38it/s]\n",
      "                 Class     Images  Instances          P          R      mAP50   mAP50-95: 100% 5/5 [00:00<00:00, 11.52it/s]\n",
      "                   all         40        150      0.717       0.25      0.169     0.0715\n",
      "\n",
      "      Epoch    GPU_mem   box_loss   obj_loss   cls_loss  Instances       Size\n",
      "     27/199     0.606G    0.05803    0.07456    0.03127          2        416: 100% 41/41 [00:02<00:00, 19.50it/s]\n",
      "                 Class     Images  Instances          P          R      mAP50   mAP50-95: 100% 5/5 [00:00<00:00, 12.00it/s]\n",
      "                   all         40        150      0.543      0.252      0.199     0.0854\n",
      "\n",
      "      Epoch    GPU_mem   box_loss   obj_loss   cls_loss  Instances       Size\n",
      "     28/199     0.606G    0.05592    0.07294     0.0289          1        416: 100% 41/41 [00:01<00:00, 20.77it/s]\n",
      "                 Class     Images  Instances          P          R      mAP50   mAP50-95: 100% 5/5 [00:00<00:00, 12.17it/s]\n",
      "                   all         40        150      0.731      0.217       0.19     0.0804\n",
      "\n",
      "      Epoch    GPU_mem   box_loss   obj_loss   cls_loss  Instances       Size\n",
      "     29/199     0.606G    0.05515    0.07127    0.03079          0        416: 100% 41/41 [00:01<00:00, 21.00it/s]\n",
      "                 Class     Images  Instances          P          R      mAP50   mAP50-95: 100% 5/5 [00:00<00:00, 12.43it/s]\n",
      "                   all         40        150      0.529      0.298      0.206     0.0812\n",
      "\n",
      "      Epoch    GPU_mem   box_loss   obj_loss   cls_loss  Instances       Size\n",
      "     30/199     0.606G     0.0518    0.06705    0.03121          2        416: 100% 41/41 [00:01<00:00, 20.94it/s]\n",
      "                 Class     Images  Instances          P          R      mAP50   mAP50-95: 100% 5/5 [00:00<00:00, 11.62it/s]\n",
      "                   all         40        150      0.553      0.484      0.239     0.0921\n",
      "\n",
      "      Epoch    GPU_mem   box_loss   obj_loss   cls_loss  Instances       Size\n",
      "     31/199     0.606G    0.05462    0.07121    0.03258          3        416: 100% 41/41 [00:02<00:00, 19.97it/s]\n",
      "                 Class     Images  Instances          P          R      mAP50   mAP50-95: 100% 5/5 [00:00<00:00, 11.88it/s]\n",
      "                   all         40        150       0.56      0.501      0.227     0.0839\n",
      "\n",
      "      Epoch    GPU_mem   box_loss   obj_loss   cls_loss  Instances       Size\n",
      "     32/199     0.606G    0.05756    0.06577    0.03043          3        416: 100% 41/41 [00:02<00:00, 19.25it/s]\n",
      "                 Class     Images  Instances          P          R      mAP50   mAP50-95: 100% 5/5 [00:00<00:00, 12.09it/s]\n",
      "                   all         40        150       0.54      0.245      0.216     0.0961\n",
      "\n",
      "      Epoch    GPU_mem   box_loss   obj_loss   cls_loss  Instances       Size\n",
      "     33/199     0.606G    0.05223    0.07223    0.02907          0        416: 100% 41/41 [00:02<00:00, 20.36it/s]\n",
      "                 Class     Images  Instances          P          R      mAP50   mAP50-95: 100% 5/5 [00:00<00:00, 12.24it/s]\n",
      "                   all         40        150      0.543      0.242      0.232      0.105\n",
      "\n",
      "      Epoch    GPU_mem   box_loss   obj_loss   cls_loss  Instances       Size\n",
      "     34/199     0.606G    0.05526    0.07104     0.0266          1        416: 100% 41/41 [00:02<00:00, 18.40it/s]\n",
      "                 Class     Images  Instances          P          R      mAP50   mAP50-95: 100% 5/5 [00:00<00:00, 12.08it/s]\n",
      "                   all         40        150      0.585      0.239      0.269      0.121\n",
      "\n",
      "      Epoch    GPU_mem   box_loss   obj_loss   cls_loss  Instances       Size\n",
      "     35/199     0.606G    0.05426    0.07798    0.03049          4        416: 100% 41/41 [00:02<00:00, 18.73it/s]\n",
      "                 Class     Images  Instances          P          R      mAP50   mAP50-95: 100% 5/5 [00:00<00:00, 12.24it/s]\n",
      "                   all         40        150      0.777      0.247      0.273      0.121\n",
      "\n",
      "      Epoch    GPU_mem   box_loss   obj_loss   cls_loss  Instances       Size\n",
      "     36/199     0.606G    0.05664     0.0742    0.02916          9        416: 100% 41/41 [00:02<00:00, 19.85it/s]\n",
      "                 Class     Images  Instances          P          R      mAP50   mAP50-95: 100% 5/5 [00:00<00:00, 11.83it/s]\n",
      "                   all         40        150      0.562      0.292      0.256      0.113\n",
      "\n",
      "      Epoch    GPU_mem   box_loss   obj_loss   cls_loss  Instances       Size\n",
      "     37/199     0.606G     0.0526    0.07577     0.0281         11        416: 100% 41/41 [00:02<00:00, 20.35it/s]\n",
      "                 Class     Images  Instances          P          R      mAP50   mAP50-95: 100% 5/5 [00:00<00:00, 12.11it/s]\n",
      "                   all         40        150      0.498       0.58      0.228     0.0995\n",
      "\n",
      "      Epoch    GPU_mem   box_loss   obj_loss   cls_loss  Instances       Size\n",
      "     38/199     0.606G    0.05454    0.07688    0.02819          3        416: 100% 41/41 [00:02<00:00, 20.39it/s]\n",
      "                 Class     Images  Instances          P          R      mAP50   mAP50-95: 100% 5/5 [00:00<00:00, 11.79it/s]\n",
      "                   all         40        150      0.552      0.283      0.268      0.124\n",
      "\n",
      "      Epoch    GPU_mem   box_loss   obj_loss   cls_loss  Instances       Size\n",
      "     39/199     0.606G    0.05433    0.07192     0.0281          3        416: 100% 41/41 [00:02<00:00, 18.01it/s]\n",
      "                 Class     Images  Instances          P          R      mAP50   mAP50-95: 100% 5/5 [00:00<00:00, 11.98it/s]\n",
      "                   all         40        150      0.467      0.552      0.243      0.112\n",
      "\n",
      "      Epoch    GPU_mem   box_loss   obj_loss   cls_loss  Instances       Size\n",
      "     40/199     0.606G    0.04947    0.07177    0.02599          8        416: 100% 41/41 [00:02<00:00, 19.38it/s]\n",
      "                 Class     Images  Instances          P          R      mAP50   mAP50-95: 100% 5/5 [00:00<00:00, 12.42it/s]\n",
      "                   all         40        150       0.51      0.605       0.27      0.122\n",
      "\n",
      "      Epoch    GPU_mem   box_loss   obj_loss   cls_loss  Instances       Size\n",
      "     41/199     0.606G    0.05407    0.07421     0.0296          4        416: 100% 41/41 [00:02<00:00, 19.28it/s]\n",
      "                 Class     Images  Instances          P          R      mAP50   mAP50-95: 100% 5/5 [00:00<00:00, 11.60it/s]\n",
      "                   all         40        150      0.423      0.566      0.281      0.131\n",
      "\n",
      "      Epoch    GPU_mem   box_loss   obj_loss   cls_loss  Instances       Size\n",
      "     42/199     0.606G    0.04883    0.06266    0.02736          1        416: 100% 41/41 [00:02<00:00, 18.45it/s]\n",
      "                 Class     Images  Instances          P          R      mAP50   mAP50-95: 100% 5/5 [00:00<00:00, 12.12it/s]\n",
      "                   all         40        150      0.532      0.572      0.309      0.147\n",
      "\n",
      "      Epoch    GPU_mem   box_loss   obj_loss   cls_loss  Instances       Size\n",
      "     43/199     0.606G    0.05033      0.073    0.02553          4        416: 100% 41/41 [00:02<00:00, 18.28it/s]\n",
      "                 Class     Images  Instances          P          R      mAP50   mAP50-95: 100% 5/5 [00:00<00:00, 11.67it/s]\n",
      "                   all         40        150      0.481      0.589        0.3      0.145\n",
      "\n",
      "      Epoch    GPU_mem   box_loss   obj_loss   cls_loss  Instances       Size\n",
      "     44/199     0.606G    0.05379    0.07293    0.02486          9        416: 100% 41/41 [00:02<00:00, 19.88it/s]\n",
      "                 Class     Images  Instances          P          R      mAP50   mAP50-95: 100% 5/5 [00:00<00:00, 11.77it/s]\n",
      "                   all         40        150      0.523      0.567      0.287      0.126\n",
      "\n",
      "      Epoch    GPU_mem   box_loss   obj_loss   cls_loss  Instances       Size\n",
      "     45/199     0.606G     0.0519    0.07205    0.02548          6        416: 100% 41/41 [00:02<00:00, 18.87it/s]\n",
      "                 Class     Images  Instances          P          R      mAP50   mAP50-95: 100% 5/5 [00:00<00:00, 11.56it/s]\n",
      "                   all         40        150      0.514      0.551       0.29      0.123\n",
      "\n",
      "      Epoch    GPU_mem   box_loss   obj_loss   cls_loss  Instances       Size\n",
      "     46/199     0.606G    0.05005    0.06649    0.02284          1        416: 100% 41/41 [00:02<00:00, 20.42it/s]\n",
      "                 Class     Images  Instances          P          R      mAP50   mAP50-95: 100% 5/5 [00:00<00:00, 11.62it/s]\n",
      "                   all         40        150      0.461      0.537      0.297      0.127\n",
      "\n",
      "      Epoch    GPU_mem   box_loss   obj_loss   cls_loss  Instances       Size\n",
      "     47/199     0.606G    0.05207    0.07264    0.02551          6        416: 100% 41/41 [00:02<00:00, 19.79it/s]\n",
      "                 Class     Images  Instances          P          R      mAP50   mAP50-95: 100% 5/5 [00:00<00:00, 12.71it/s]\n",
      "                   all         40        150      0.535      0.563      0.324      0.145\n",
      "\n",
      "      Epoch    GPU_mem   box_loss   obj_loss   cls_loss  Instances       Size\n",
      "     48/199     0.606G    0.05133     0.0681    0.02409          1        416: 100% 41/41 [00:02<00:00, 20.37it/s]\n",
      "                 Class     Images  Instances          P          R      mAP50   mAP50-95: 100% 5/5 [00:00<00:00, 12.31it/s]\n",
      "                   all         40        150       0.51      0.576      0.293      0.127\n",
      "\n",
      "      Epoch    GPU_mem   box_loss   obj_loss   cls_loss  Instances       Size\n",
      "     49/199     0.606G    0.04966    0.07419    0.02195          2        416: 100% 41/41 [00:02<00:00, 19.40it/s]\n",
      "                 Class     Images  Instances          P          R      mAP50   mAP50-95: 100% 5/5 [00:00<00:00, 11.07it/s]\n",
      "                   all         40        150      0.493      0.578       0.31       0.14\n",
      "\n",
      "      Epoch    GPU_mem   box_loss   obj_loss   cls_loss  Instances       Size\n",
      "     50/199     0.606G    0.05249    0.07259    0.02213          3        416: 100% 41/41 [00:02<00:00, 19.82it/s]\n",
      "                 Class     Images  Instances          P          R      mAP50   mAP50-95: 100% 5/5 [00:00<00:00, 11.86it/s]\n",
      "                   all         40        150      0.484      0.577      0.315      0.141\n",
      "\n",
      "      Epoch    GPU_mem   box_loss   obj_loss   cls_loss  Instances       Size\n",
      "     51/199     0.606G    0.04796    0.06882    0.02398          2        416: 100% 41/41 [00:01<00:00, 20.64it/s]\n",
      "                 Class     Images  Instances          P          R      mAP50   mAP50-95: 100% 5/5 [00:00<00:00, 11.85it/s]\n",
      "                   all         40        150      0.494      0.528      0.315      0.143\n",
      "\n",
      "      Epoch    GPU_mem   box_loss   obj_loss   cls_loss  Instances       Size\n",
      "     52/199     0.606G     0.0486    0.06155      0.024          3        416: 100% 41/41 [00:01<00:00, 20.50it/s]\n",
      "                 Class     Images  Instances          P          R      mAP50   mAP50-95: 100% 5/5 [00:00<00:00, 11.96it/s]\n",
      "                   all         40        150      0.472      0.556      0.318      0.137\n",
      "\n",
      "      Epoch    GPU_mem   box_loss   obj_loss   cls_loss  Instances       Size\n",
      "     53/199     0.606G    0.05056    0.07171    0.02238         14        416: 100% 41/41 [00:02<00:00, 20.50it/s]\n",
      "                 Class     Images  Instances          P          R      mAP50   mAP50-95: 100% 5/5 [00:00<00:00, 11.81it/s]\n",
      "                   all         40        150      0.462      0.567      0.275       0.12\n",
      "\n",
      "      Epoch    GPU_mem   box_loss   obj_loss   cls_loss  Instances       Size\n",
      "     54/199     0.606G    0.04954    0.07216    0.02402          8        416: 100% 41/41 [00:02<00:00, 19.08it/s]\n",
      "                 Class     Images  Instances          P          R      mAP50   mAP50-95: 100% 5/5 [00:00<00:00, 11.78it/s]\n",
      "                   all         40        150      0.532      0.573      0.273      0.113\n",
      "\n",
      "      Epoch    GPU_mem   box_loss   obj_loss   cls_loss  Instances       Size\n",
      "     55/199     0.606G    0.05157    0.06233    0.02102          4        416: 100% 41/41 [00:02<00:00, 20.11it/s]\n",
      "                 Class     Images  Instances          P          R      mAP50   mAP50-95: 100% 5/5 [00:00<00:00, 10.98it/s]\n",
      "                   all         40        150      0.484       0.59      0.306      0.138\n",
      "\n",
      "      Epoch    GPU_mem   box_loss   obj_loss   cls_loss  Instances       Size\n",
      "     56/199     0.606G    0.04916    0.06843    0.02337          2        416: 100% 41/41 [00:01<00:00, 20.54it/s]\n",
      "                 Class     Images  Instances          P          R      mAP50   mAP50-95: 100% 5/5 [00:00<00:00, 12.49it/s]\n",
      "                   all         40        150      0.491      0.565      0.333      0.156\n",
      "\n",
      "      Epoch    GPU_mem   box_loss   obj_loss   cls_loss  Instances       Size\n",
      "     57/199     0.606G    0.05012    0.06798    0.02112          3        416: 100% 41/41 [00:02<00:00, 19.22it/s]\n",
      "                 Class     Images  Instances          P          R      mAP50   mAP50-95: 100% 5/5 [00:00<00:00, 11.97it/s]\n",
      "                   all         40        150      0.526      0.367      0.297      0.125\n",
      "\n",
      "      Epoch    GPU_mem   box_loss   obj_loss   cls_loss  Instances       Size\n",
      "     58/199     0.606G    0.04566    0.06203     0.0224          2        416: 100% 41/41 [00:01<00:00, 21.09it/s]\n",
      "                 Class     Images  Instances          P          R      mAP50   mAP50-95: 100% 5/5 [00:00<00:00, 11.82it/s]\n",
      "                   all         40        150       0.46      0.374      0.302      0.125\n",
      "\n",
      "      Epoch    GPU_mem   box_loss   obj_loss   cls_loss  Instances       Size\n",
      "     59/199     0.606G    0.05247    0.06867    0.02042          5        416: 100% 41/41 [00:02<00:00, 19.54it/s]\n",
      "                 Class     Images  Instances          P          R      mAP50   mAP50-95: 100% 5/5 [00:00<00:00, 12.36it/s]\n",
      "                   all         40        150       0.49      0.396      0.305      0.128\n",
      "\n",
      "      Epoch    GPU_mem   box_loss   obj_loss   cls_loss  Instances       Size\n",
      "     60/199     0.606G    0.04732    0.07166    0.02231         10        416: 100% 41/41 [00:02<00:00, 20.37it/s]\n",
      "                 Class     Images  Instances          P          R      mAP50   mAP50-95: 100% 5/5 [00:00<00:00, 12.03it/s]\n",
      "                   all         40        150      0.494      0.372      0.301      0.139\n",
      "\n",
      "      Epoch    GPU_mem   box_loss   obj_loss   cls_loss  Instances       Size\n",
      "     61/199     0.606G    0.04952    0.06803    0.02354          2        416: 100% 41/41 [00:01<00:00, 20.68it/s]\n",
      "                 Class     Images  Instances          P          R      mAP50   mAP50-95: 100% 5/5 [00:00<00:00, 12.54it/s]\n",
      "                   all         40        150      0.532      0.553      0.307      0.131\n",
      "\n",
      "      Epoch    GPU_mem   box_loss   obj_loss   cls_loss  Instances       Size\n",
      "     62/199     0.606G     0.0486    0.06369    0.02058          3        416: 100% 41/41 [00:02<00:00, 20.40it/s]\n",
      "                 Class     Images  Instances          P          R      mAP50   mAP50-95: 100% 5/5 [00:00<00:00, 12.11it/s]\n",
      "                   all         40        150       0.52      0.385      0.326       0.15\n",
      "\n",
      "      Epoch    GPU_mem   box_loss   obj_loss   cls_loss  Instances       Size\n",
      "     63/199     0.606G    0.04648    0.06249    0.02088          5        416: 100% 41/41 [00:02<00:00, 20.23it/s]\n",
      "                 Class     Images  Instances          P          R      mAP50   mAP50-95: 100% 5/5 [00:00<00:00, 11.16it/s]\n",
      "                   all         40        150      0.493      0.363      0.307      0.139\n",
      "\n",
      "      Epoch    GPU_mem   box_loss   obj_loss   cls_loss  Instances       Size\n",
      "     64/199     0.606G    0.04781    0.06615    0.01822          2        416: 100% 41/41 [00:02<00:00, 19.84it/s]\n",
      "                 Class     Images  Instances          P          R      mAP50   mAP50-95: 100% 5/5 [00:00<00:00, 11.59it/s]\n",
      "                   all         40        150      0.452      0.377      0.294      0.116\n",
      "\n",
      "      Epoch    GPU_mem   box_loss   obj_loss   cls_loss  Instances       Size\n",
      "     65/199     0.606G    0.04933    0.06646    0.01978          4        416: 100% 41/41 [00:02<00:00, 19.87it/s]\n",
      "                 Class     Images  Instances          P          R      mAP50   mAP50-95: 100% 5/5 [00:00<00:00, 12.61it/s]\n",
      "                   all         40        150      0.494      0.553      0.313       0.13\n",
      "\n",
      "      Epoch    GPU_mem   box_loss   obj_loss   cls_loss  Instances       Size\n",
      "     66/199     0.606G    0.04776     0.0626    0.02265         10        416: 100% 41/41 [00:02<00:00, 20.33it/s]\n",
      "                 Class     Images  Instances          P          R      mAP50   mAP50-95: 100% 5/5 [00:00<00:00, 12.20it/s]\n",
      "                   all         40        150      0.566      0.494      0.302      0.132\n",
      "\n",
      "      Epoch    GPU_mem   box_loss   obj_loss   cls_loss  Instances       Size\n",
      "     67/199     0.606G    0.04799    0.07033    0.01783          1        416: 100% 41/41 [00:02<00:00, 20.28it/s]\n",
      "                 Class     Images  Instances          P          R      mAP50   mAP50-95: 100% 5/5 [00:00<00:00, 12.25it/s]\n",
      "                   all         40        150       0.43      0.566       0.29      0.124\n",
      "\n",
      "      Epoch    GPU_mem   box_loss   obj_loss   cls_loss  Instances       Size\n",
      "     68/199     0.606G    0.05082    0.07403    0.01942          2        416: 100% 41/41 [00:02<00:00, 19.27it/s]\n",
      "                 Class     Images  Instances          P          R      mAP50   mAP50-95: 100% 5/5 [00:00<00:00, 11.19it/s]\n",
      "                   all         40        150      0.478       0.52      0.284      0.135\n",
      "\n",
      "      Epoch    GPU_mem   box_loss   obj_loss   cls_loss  Instances       Size\n",
      "     69/199     0.606G    0.04554    0.07189    0.01817          0        416: 100% 41/41 [00:02<00:00, 19.79it/s]\n",
      "                 Class     Images  Instances          P          R      mAP50   mAP50-95: 100% 5/5 [00:00<00:00, 11.68it/s]\n",
      "                   all         40        150      0.546      0.523       0.31      0.156\n",
      "\n",
      "      Epoch    GPU_mem   box_loss   obj_loss   cls_loss  Instances       Size\n",
      "     70/199     0.606G    0.04784    0.07475    0.02024          3        416: 100% 41/41 [00:02<00:00, 19.96it/s]\n",
      "                 Class     Images  Instances          P          R      mAP50   mAP50-95: 100% 5/5 [00:00<00:00, 12.31it/s]\n",
      "                   all         40        150      0.506      0.546      0.308      0.144\n",
      "\n",
      "      Epoch    GPU_mem   box_loss   obj_loss   cls_loss  Instances       Size\n",
      "     71/199     0.606G    0.04419    0.05849    0.01997          2        416: 100% 41/41 [00:02<00:00, 20.11it/s]\n",
      "                 Class     Images  Instances          P          R      mAP50   mAP50-95: 100% 5/5 [00:00<00:00, 12.19it/s]\n",
      "                   all         40        150      0.564      0.299        0.3      0.139\n",
      "\n",
      "      Epoch    GPU_mem   box_loss   obj_loss   cls_loss  Instances       Size\n",
      "     72/199     0.606G    0.04793    0.06731    0.01828          4        416: 100% 41/41 [00:01<00:00, 20.78it/s]\n",
      "                 Class     Images  Instances          P          R      mAP50   mAP50-95: 100% 5/5 [00:00<00:00, 12.19it/s]\n",
      "                   all         40        150      0.566      0.302      0.303      0.142\n",
      "\n",
      "      Epoch    GPU_mem   box_loss   obj_loss   cls_loss  Instances       Size\n",
      "     73/199     0.606G    0.04864    0.06653    0.01652         14        416: 100% 41/41 [00:02<00:00, 19.21it/s]\n",
      "                 Class     Images  Instances          P          R      mAP50   mAP50-95: 100% 5/5 [00:00<00:00, 11.67it/s]\n",
      "                   all         40        150       0.57      0.307      0.309      0.149\n",
      "\n",
      "      Epoch    GPU_mem   box_loss   obj_loss   cls_loss  Instances       Size\n",
      "     74/199     0.606G    0.04805    0.06723     0.0176          4        416: 100% 41/41 [00:02<00:00, 20.39it/s]\n",
      "                 Class     Images  Instances          P          R      mAP50   mAP50-95: 100% 5/5 [00:00<00:00, 11.90it/s]\n",
      "                   all         40        150      0.489      0.339      0.271      0.116\n",
      "\n",
      "      Epoch    GPU_mem   box_loss   obj_loss   cls_loss  Instances       Size\n",
      "     75/199     0.606G    0.04637    0.06332    0.01892          7        416: 100% 41/41 [00:02<00:00, 20.12it/s]\n",
      "                 Class     Images  Instances          P          R      mAP50   mAP50-95: 100% 5/5 [00:00<00:00, 13.06it/s]\n",
      "                   all         40        150      0.552      0.301      0.294       0.14\n",
      "\n",
      "      Epoch    GPU_mem   box_loss   obj_loss   cls_loss  Instances       Size\n",
      "     76/199     0.606G      0.045    0.06623    0.01883          6        416: 100% 41/41 [00:02<00:00, 20.05it/s]\n",
      "                 Class     Images  Instances          P          R      mAP50   mAP50-95: 100% 5/5 [00:00<00:00, 12.44it/s]\n",
      "                   all         40        150      0.473      0.283      0.279      0.125\n",
      "\n",
      "      Epoch    GPU_mem   box_loss   obj_loss   cls_loss  Instances       Size\n",
      "     77/199     0.606G    0.04617    0.06476    0.01855          1        416: 100% 41/41 [00:02<00:00, 19.84it/s]\n",
      "                 Class     Images  Instances          P          R      mAP50   mAP50-95: 100% 5/5 [00:00<00:00, 12.19it/s]\n",
      "                   all         40        150       0.53      0.287      0.289       0.14\n",
      "\n",
      "      Epoch    GPU_mem   box_loss   obj_loss   cls_loss  Instances       Size\n",
      "     78/199     0.606G    0.04957    0.06712    0.01598         12        416: 100% 41/41 [00:02<00:00, 18.92it/s]\n",
      "                 Class     Images  Instances          P          R      mAP50   mAP50-95: 100% 5/5 [00:00<00:00, 12.11it/s]\n",
      "                   all         40        150      0.555       0.29      0.289      0.145\n",
      "\n",
      "      Epoch    GPU_mem   box_loss   obj_loss   cls_loss  Instances       Size\n",
      "     79/199     0.606G    0.04677    0.06767    0.01738          4        416: 100% 41/41 [00:01<00:00, 20.56it/s]\n",
      "                 Class     Images  Instances          P          R      mAP50   mAP50-95: 100% 5/5 [00:00<00:00, 11.65it/s]\n",
      "                   all         40        150      0.507      0.293      0.286      0.138\n",
      "\n",
      "      Epoch    GPU_mem   box_loss   obj_loss   cls_loss  Instances       Size\n",
      "     80/199     0.606G    0.04854    0.06747    0.01561          1        416: 100% 41/41 [00:01<00:00, 20.69it/s]\n",
      "                 Class     Images  Instances          P          R      mAP50   mAP50-95: 100% 5/5 [00:00<00:00, 12.09it/s]\n",
      "                   all         40        150      0.537      0.286      0.299      0.138\n",
      "\n",
      "      Epoch    GPU_mem   box_loss   obj_loss   cls_loss  Instances       Size\n",
      "     81/199     0.606G    0.04658    0.07537     0.0173         15        416: 100% 41/41 [00:02<00:00, 20.39it/s]\n",
      "                 Class     Images  Instances          P          R      mAP50   mAP50-95: 100% 5/5 [00:00<00:00, 12.51it/s]\n",
      "                   all         40        150      0.519      0.283      0.291      0.138\n",
      "\n",
      "      Epoch    GPU_mem   box_loss   obj_loss   cls_loss  Instances       Size\n",
      "     82/199     0.606G    0.04855    0.06958    0.01559          1        416: 100% 41/41 [00:02<00:00, 19.23it/s]\n",
      "                 Class     Images  Instances          P          R      mAP50   mAP50-95: 100% 5/5 [00:00<00:00, 11.65it/s]\n",
      "                   all         40        150      0.536      0.549      0.317      0.149\n",
      "\n",
      "      Epoch    GPU_mem   box_loss   obj_loss   cls_loss  Instances       Size\n",
      "     83/199     0.606G    0.04682    0.06873    0.01488          2        416: 100% 41/41 [00:02<00:00, 20.50it/s]\n",
      "                 Class     Images  Instances          P          R      mAP50   mAP50-95: 100% 5/5 [00:00<00:00, 12.10it/s]\n",
      "                   all         40        150      0.252      0.346      0.293      0.142\n",
      "\n",
      "      Epoch    GPU_mem   box_loss   obj_loss   cls_loss  Instances       Size\n",
      "     84/199     0.606G    0.04677    0.06746    0.01654          2        416: 100% 41/41 [00:01<00:00, 20.64it/s]\n",
      "                 Class     Images  Instances          P          R      mAP50   mAP50-95: 100% 5/5 [00:00<00:00, 12.91it/s]\n",
      "                   all         40        150      0.596      0.269        0.3      0.137\n",
      "\n",
      "      Epoch    GPU_mem   box_loss   obj_loss   cls_loss  Instances       Size\n",
      "     85/199     0.606G    0.04627    0.06502    0.01949          8        416: 100% 41/41 [00:01<00:00, 20.72it/s]\n",
      "                 Class     Images  Instances          P          R      mAP50   mAP50-95: 100% 5/5 [00:00<00:00, 11.80it/s]\n",
      "                   all         40        150      0.261      0.518      0.293      0.128\n",
      "\n",
      "      Epoch    GPU_mem   box_loss   obj_loss   cls_loss  Instances       Size\n",
      "     86/199     0.606G    0.04638    0.06991    0.01573          1        416: 100% 41/41 [00:02<00:00, 20.12it/s]\n",
      "                 Class     Images  Instances          P          R      mAP50   mAP50-95: 100% 5/5 [00:00<00:00, 12.37it/s]\n",
      "                   all         40        150      0.316      0.308      0.307       0.14\n",
      "\n",
      "      Epoch    GPU_mem   box_loss   obj_loss   cls_loss  Instances       Size\n",
      "     87/199     0.606G    0.04645    0.06589    0.01363          1        416: 100% 41/41 [00:02<00:00, 19.28it/s]\n",
      "                 Class     Images  Instances          P          R      mAP50   mAP50-95: 100% 5/5 [00:00<00:00, 11.95it/s]\n",
      "                   all         40        150      0.262       0.32       0.28      0.134\n",
      "\n",
      "      Epoch    GPU_mem   box_loss   obj_loss   cls_loss  Instances       Size\n",
      "     88/199     0.606G    0.04729    0.06925    0.01593          4        416: 100% 41/41 [00:01<00:00, 20.81it/s]\n",
      "                 Class     Images  Instances          P          R      mAP50   mAP50-95: 100% 5/5 [00:00<00:00, 11.57it/s]\n",
      "                   all         40        150       0.29      0.316      0.272       0.13\n",
      "\n",
      "      Epoch    GPU_mem   box_loss   obj_loss   cls_loss  Instances       Size\n",
      "     89/199     0.606G    0.04826    0.06909    0.01394          5        416: 100% 41/41 [00:01<00:00, 20.76it/s]\n",
      "                 Class     Images  Instances          P          R      mAP50   mAP50-95: 100% 5/5 [00:00<00:00, 12.20it/s]\n",
      "                   all         40        150       0.33      0.293      0.288      0.128\n",
      "\n",
      "      Epoch    GPU_mem   box_loss   obj_loss   cls_loss  Instances       Size\n",
      "     90/199     0.606G    0.04429    0.06552    0.01391          7        416: 100% 41/41 [00:02<00:00, 20.31it/s]\n",
      "                 Class     Images  Instances          P          R      mAP50   mAP50-95: 100% 5/5 [00:00<00:00, 12.11it/s]\n",
      "                   all         40        150      0.305      0.294      0.284       0.13\n",
      "\n",
      "      Epoch    GPU_mem   box_loss   obj_loss   cls_loss  Instances       Size\n",
      "     91/199     0.606G    0.04533    0.06663    0.01344          8        416: 100% 41/41 [00:02<00:00, 20.29it/s]\n",
      "                 Class     Images  Instances          P          R      mAP50   mAP50-95: 100% 5/5 [00:00<00:00, 11.85it/s]\n",
      "                   all         40        150      0.297      0.346        0.3       0.14\n",
      "\n",
      "      Epoch    GPU_mem   box_loss   obj_loss   cls_loss  Instances       Size\n",
      "     92/199     0.606G    0.04378    0.06622    0.01509         16        416: 100% 41/41 [00:02<00:00, 19.23it/s]\n",
      "                 Class     Images  Instances          P          R      mAP50   mAP50-95: 100% 5/5 [00:00<00:00, 12.18it/s]\n",
      "                   all         40        150       0.27      0.523       0.29      0.147\n",
      "\n",
      "      Epoch    GPU_mem   box_loss   obj_loss   cls_loss  Instances       Size\n",
      "     93/199     0.606G    0.04453    0.06431     0.0144          7        416: 100% 41/41 [00:02<00:00, 20.05it/s]\n",
      "                 Class     Images  Instances          P          R      mAP50   mAP50-95: 100% 5/5 [00:00<00:00, 12.93it/s]\n",
      "                   all         40        150      0.288      0.289      0.289      0.139\n",
      "\n",
      "      Epoch    GPU_mem   box_loss   obj_loss   cls_loss  Instances       Size\n",
      "     94/199     0.606G    0.04385    0.06726    0.01644          4        416: 100% 41/41 [00:02<00:00, 20.28it/s]\n",
      "                 Class     Images  Instances          P          R      mAP50   mAP50-95: 100% 5/5 [00:00<00:00, 12.81it/s]\n",
      "                   all         40        150      0.243      0.542      0.293      0.136\n",
      "\n",
      "      Epoch    GPU_mem   box_loss   obj_loss   cls_loss  Instances       Size\n",
      "     95/199     0.606G    0.04533    0.06873    0.01295          6        416: 100% 41/41 [00:01<00:00, 20.57it/s]\n",
      "                 Class     Images  Instances          P          R      mAP50   mAP50-95: 100% 5/5 [00:00<00:00, 12.54it/s]\n",
      "                   all         40        150      0.318      0.267      0.294      0.149\n",
      "\n",
      "      Epoch    GPU_mem   box_loss   obj_loss   cls_loss  Instances       Size\n",
      "     96/199     0.606G     0.0446    0.06271    0.01434          2        416: 100% 41/41 [00:02<00:00, 19.50it/s]\n",
      "                 Class     Images  Instances          P          R      mAP50   mAP50-95: 100% 5/5 [00:00<00:00, 12.69it/s]\n",
      "                   all         40        150      0.325      0.264      0.299      0.142\n",
      "\n",
      "      Epoch    GPU_mem   box_loss   obj_loss   cls_loss  Instances       Size\n",
      "     97/199     0.606G     0.0465    0.06775     0.0155         11        416: 100% 41/41 [00:02<00:00, 19.60it/s]\n",
      "                 Class     Images  Instances          P          R      mAP50   mAP50-95: 100% 5/5 [00:00<00:00, 12.33it/s]\n",
      "                   all         40        150      0.273        0.3      0.313      0.147\n",
      "\n",
      "      Epoch    GPU_mem   box_loss   obj_loss   cls_loss  Instances       Size\n",
      "     98/199     0.606G    0.04415    0.06304    0.01166          3        416: 100% 41/41 [00:01<00:00, 21.27it/s]\n",
      "                 Class     Images  Instances          P          R      mAP50   mAP50-95: 100% 5/5 [00:00<00:00, 12.30it/s]\n",
      "                   all         40        150      0.383      0.249      0.308      0.156\n",
      "\n",
      "      Epoch    GPU_mem   box_loss   obj_loss   cls_loss  Instances       Size\n",
      "     99/199     0.606G    0.04519    0.06829    0.01363          3        416: 100% 41/41 [00:02<00:00, 20.33it/s]\n",
      "                 Class     Images  Instances          P          R      mAP50   mAP50-95: 100% 5/5 [00:00<00:00, 11.94it/s]\n",
      "                   all         40        150      0.352      0.271        0.3      0.148\n",
      "\n",
      "      Epoch    GPU_mem   box_loss   obj_loss   cls_loss  Instances       Size\n",
      "    100/199     0.606G    0.04466    0.05855    0.01451          1        416: 100% 41/41 [00:02<00:00, 19.93it/s]\n",
      "                 Class     Images  Instances          P          R      mAP50   mAP50-95: 100% 5/5 [00:00<00:00, 12.27it/s]\n",
      "                   all         40        150      0.248      0.526       0.31      0.156\n",
      "\n",
      "      Epoch    GPU_mem   box_loss   obj_loss   cls_loss  Instances       Size\n",
      "    101/199     0.606G    0.04193    0.06177    0.01358          3        416: 100% 41/41 [00:02<00:00, 19.02it/s]\n",
      "                 Class     Images  Instances          P          R      mAP50   mAP50-95: 100% 5/5 [00:00<00:00, 10.77it/s]\n",
      "                   all         40        150      0.368      0.269      0.312      0.142\n",
      "\n",
      "      Epoch    GPU_mem   box_loss   obj_loss   cls_loss  Instances       Size\n",
      "    102/199     0.606G     0.0447    0.06757    0.01439         11        416: 100% 41/41 [00:02<00:00, 20.15it/s]\n",
      "                 Class     Images  Instances          P          R      mAP50   mAP50-95: 100% 5/5 [00:00<00:00, 12.19it/s]\n",
      "                   all         40        150      0.257      0.585      0.321      0.157\n",
      "\n",
      "      Epoch    GPU_mem   box_loss   obj_loss   cls_loss  Instances       Size\n",
      "    103/199     0.606G    0.04699    0.06793    0.01534         15        416: 100% 41/41 [00:02<00:00, 18.72it/s]\n",
      "                 Class     Images  Instances          P          R      mAP50   mAP50-95: 100% 5/5 [00:00<00:00, 12.11it/s]\n",
      "                   all         40        150      0.369      0.318      0.325      0.154\n",
      "\n",
      "      Epoch    GPU_mem   box_loss   obj_loss   cls_loss  Instances       Size\n",
      "    104/199     0.606G    0.04257    0.06659    0.01313          4        416: 100% 41/41 [00:02<00:00, 19.99it/s]\n",
      "                 Class     Images  Instances          P          R      mAP50   mAP50-95: 100% 5/5 [00:00<00:00, 11.83it/s]\n",
      "                   all         40        150      0.363      0.331      0.337      0.156\n",
      "\n",
      "      Epoch    GPU_mem   box_loss   obj_loss   cls_loss  Instances       Size\n",
      "    105/199     0.606G    0.04295    0.05941    0.01528          9        416: 100% 41/41 [00:02<00:00, 20.05it/s]\n",
      "                 Class     Images  Instances          P          R      mAP50   mAP50-95: 100% 5/5 [00:00<00:00, 12.16it/s]\n",
      "                   all         40        150      0.331      0.288      0.304       0.14\n",
      "\n",
      "      Epoch    GPU_mem   box_loss   obj_loss   cls_loss  Instances       Size\n",
      "    106/199     0.606G    0.04356    0.06325    0.01298         11        416: 100% 41/41 [00:02<00:00, 19.30it/s]\n",
      "                 Class     Images  Instances          P          R      mAP50   mAP50-95: 100% 5/5 [00:00<00:00, 11.93it/s]\n",
      "                   all         40        150      0.403      0.277      0.307      0.145\n",
      "\n",
      "      Epoch    GPU_mem   box_loss   obj_loss   cls_loss  Instances       Size\n",
      "    107/199     0.606G    0.04367    0.06536    0.01249          1        416: 100% 41/41 [00:02<00:00, 19.74it/s]\n",
      "                 Class     Images  Instances          P          R      mAP50   mAP50-95: 100% 5/5 [00:00<00:00, 11.89it/s]\n",
      "                   all         40        150      0.382      0.305       0.31      0.145\n",
      "\n",
      "      Epoch    GPU_mem   box_loss   obj_loss   cls_loss  Instances       Size\n",
      "    108/199     0.606G    0.04217    0.06609    0.01369          7        416: 100% 41/41 [00:02<00:00, 20.35it/s]\n",
      "                 Class     Images  Instances          P          R      mAP50   mAP50-95: 100% 5/5 [00:00<00:00, 12.23it/s]\n",
      "                   all         40        150      0.585      0.285      0.315      0.145\n",
      "\n",
      "      Epoch    GPU_mem   box_loss   obj_loss   cls_loss  Instances       Size\n",
      "    109/199     0.606G    0.04498    0.06709    0.01248         19        416: 100% 41/41 [00:02<00:00, 19.77it/s]\n",
      "                 Class     Images  Instances          P          R      mAP50   mAP50-95: 100% 5/5 [00:00<00:00, 12.14it/s]\n",
      "                   all         40        150      0.384       0.29      0.321      0.152\n",
      "\n",
      "      Epoch    GPU_mem   box_loss   obj_loss   cls_loss  Instances       Size\n",
      "    110/199     0.606G     0.0415    0.06328    0.01568          1        416: 100% 41/41 [00:02<00:00, 19.47it/s]\n",
      "                 Class     Images  Instances          P          R      mAP50   mAP50-95: 100% 5/5 [00:00<00:00, 11.65it/s]\n",
      "                   all         40        150      0.382      0.275      0.316      0.156\n",
      "\n",
      "      Epoch    GPU_mem   box_loss   obj_loss   cls_loss  Instances       Size\n",
      "    111/199     0.606G    0.04433    0.06277     0.0142          8        416: 100% 41/41 [00:02<00:00, 19.49it/s]\n",
      "                 Class     Images  Instances          P          R      mAP50   mAP50-95: 100% 5/5 [00:00<00:00, 12.09it/s]\n",
      "                   all         40        150      0.577      0.283      0.309      0.147\n",
      "\n",
      "      Epoch    GPU_mem   box_loss   obj_loss   cls_loss  Instances       Size\n",
      "    112/199     0.606G     0.0438    0.05454    0.01228         10        416: 100% 41/41 [00:02<00:00, 19.66it/s]\n",
      "                 Class     Images  Instances          P          R      mAP50   mAP50-95: 100% 5/5 [00:00<00:00, 12.13it/s]\n",
      "                   all         40        150      0.562      0.276      0.309      0.149\n",
      "\n",
      "      Epoch    GPU_mem   box_loss   obj_loss   cls_loss  Instances       Size\n",
      "    113/199     0.606G     0.0416    0.05805    0.01115          0        416: 100% 41/41 [00:02<00:00, 20.09it/s]\n",
      "                 Class     Images  Instances          P          R      mAP50   mAP50-95: 100% 5/5 [00:00<00:00, 11.61it/s]\n",
      "                   all         40        150      0.311      0.294      0.293      0.147\n",
      "\n",
      "      Epoch    GPU_mem   box_loss   obj_loss   cls_loss  Instances       Size\n",
      "    114/199     0.606G    0.04479    0.06821    0.01166          7        416: 100% 41/41 [00:02<00:00, 20.39it/s]\n",
      "                 Class     Images  Instances          P          R      mAP50   mAP50-95: 100% 5/5 [00:00<00:00, 11.71it/s]\n",
      "                   all         40        150      0.571      0.255      0.283      0.138\n",
      "\n",
      "      Epoch    GPU_mem   box_loss   obj_loss   cls_loss  Instances       Size\n",
      "    115/199     0.606G    0.04299    0.06784    0.01394          1        416: 100% 41/41 [00:02<00:00, 18.80it/s]\n",
      "                 Class     Images  Instances          P          R      mAP50   mAP50-95: 100% 5/5 [00:00<00:00, 11.35it/s]\n",
      "                   all         40        150       0.57      0.263      0.303      0.157\n",
      "\n",
      "      Epoch    GPU_mem   box_loss   obj_loss   cls_loss  Instances       Size\n",
      "    116/199     0.606G    0.04217    0.05954    0.01051          1        416: 100% 41/41 [00:01<00:00, 20.55it/s]\n",
      "                 Class     Images  Instances          P          R      mAP50   mAP50-95: 100% 5/5 [00:00<00:00, 11.68it/s]\n",
      "                   all         40        150      0.538       0.24        0.3      0.146\n",
      "\n",
      "      Epoch    GPU_mem   box_loss   obj_loss   cls_loss  Instances       Size\n",
      "    117/199     0.606G    0.04398     0.0655    0.01142         18        416: 100% 41/41 [00:02<00:00, 19.99it/s]\n",
      "                 Class     Images  Instances          P          R      mAP50   mAP50-95: 100% 5/5 [00:00<00:00, 11.53it/s]\n",
      "                   all         40        150      0.562      0.264      0.305      0.149\n",
      "\n",
      "      Epoch    GPU_mem   box_loss   obj_loss   cls_loss  Instances       Size\n",
      "    118/199     0.606G    0.04228    0.06443     0.0141          5        416: 100% 41/41 [00:02<00:00, 20.43it/s]\n",
      "                 Class     Images  Instances          P          R      mAP50   mAP50-95: 100% 5/5 [00:00<00:00, 12.39it/s]\n",
      "                   all         40        150      0.553      0.264      0.301      0.148\n",
      "\n",
      "      Epoch    GPU_mem   box_loss   obj_loss   cls_loss  Instances       Size\n",
      "    119/199     0.606G    0.04292    0.05801    0.01212          3        416: 100% 41/41 [00:01<00:00, 20.85it/s]\n",
      "                 Class     Images  Instances          P          R      mAP50   mAP50-95: 100% 5/5 [00:00<00:00, 11.74it/s]\n",
      "                   all         40        150       0.27      0.537      0.315      0.156\n",
      "\n",
      "      Epoch    GPU_mem   box_loss   obj_loss   cls_loss  Instances       Size\n",
      "    120/199     0.606G    0.04278    0.06462    0.01242          7        416: 100% 41/41 [00:02<00:00, 19.10it/s]\n",
      "                 Class     Images  Instances          P          R      mAP50   mAP50-95: 100% 5/5 [00:00<00:00, 12.81it/s]\n",
      "                   all         40        150      0.312       0.29       0.31      0.152\n",
      "\n",
      "      Epoch    GPU_mem   box_loss   obj_loss   cls_loss  Instances       Size\n",
      "    121/199     0.606G    0.04292    0.06307    0.01106          2        416: 100% 41/41 [00:01<00:00, 20.58it/s]\n",
      "                 Class     Images  Instances          P          R      mAP50   mAP50-95: 100% 5/5 [00:00<00:00, 11.89it/s]\n",
      "                   all         40        150      0.287      0.358      0.323      0.159\n",
      "\n",
      "      Epoch    GPU_mem   box_loss   obj_loss   cls_loss  Instances       Size\n",
      "    122/199     0.606G    0.04151    0.06196   0.009356          5        416: 100% 41/41 [00:02<00:00, 18.57it/s]\n",
      "                 Class     Images  Instances          P          R      mAP50   mAP50-95: 100% 5/5 [00:00<00:00, 12.23it/s]\n",
      "                   all         40        150      0.316      0.306       0.32      0.162\n",
      "\n",
      "      Epoch    GPU_mem   box_loss   obj_loss   cls_loss  Instances       Size\n",
      "    123/199     0.606G    0.04644    0.06167    0.01234          8        416: 100% 41/41 [00:02<00:00, 18.71it/s]\n",
      "                 Class     Images  Instances          P          R      mAP50   mAP50-95: 100% 5/5 [00:00<00:00, 11.89it/s]\n",
      "                   all         40        150      0.277       0.34      0.312      0.149\n",
      "\n",
      "      Epoch    GPU_mem   box_loss   obj_loss   cls_loss  Instances       Size\n",
      "    124/199     0.606G    0.04363    0.06849    0.01198          7        416: 100% 41/41 [00:02<00:00, 19.57it/s]\n",
      "                 Class     Images  Instances          P          R      mAP50   mAP50-95: 100% 5/5 [00:00<00:00, 12.56it/s]\n",
      "                   all         40        150      0.268      0.349      0.319      0.162\n",
      "\n",
      "      Epoch    GPU_mem   box_loss   obj_loss   cls_loss  Instances       Size\n",
      "    125/199     0.606G    0.04365    0.06189    0.01216          2        416: 100% 41/41 [00:02<00:00, 20.10it/s]\n",
      "                 Class     Images  Instances          P          R      mAP50   mAP50-95: 100% 5/5 [00:00<00:00, 12.34it/s]\n",
      "                   all         40        150      0.272      0.512      0.323      0.162\n",
      "\n",
      "      Epoch    GPU_mem   box_loss   obj_loss   cls_loss  Instances       Size\n",
      "    126/199     0.606G    0.04232    0.06615     0.0121          5        416: 100% 41/41 [00:02<00:00, 18.13it/s]\n",
      "                 Class     Images  Instances          P          R      mAP50   mAP50-95: 100% 5/5 [00:00<00:00, 12.23it/s]\n",
      "                   all         40        150      0.242      0.562      0.314      0.155\n",
      "\n",
      "      Epoch    GPU_mem   box_loss   obj_loss   cls_loss  Instances       Size\n",
      "    127/199     0.606G    0.03997    0.05346    0.01075          2        416: 100% 41/41 [00:01<00:00, 21.78it/s]\n",
      "                 Class     Images  Instances          P          R      mAP50   mAP50-95: 100% 5/5 [00:00<00:00, 11.98it/s]\n",
      "                   all         40        150      0.352      0.255      0.303      0.156\n",
      "\n",
      "      Epoch    GPU_mem   box_loss   obj_loss   cls_loss  Instances       Size\n",
      "    128/199     0.606G    0.04128     0.0568    0.00998          1        416: 100% 41/41 [00:02<00:00, 20.29it/s]\n",
      "                 Class     Images  Instances          P          R      mAP50   mAP50-95: 100% 5/5 [00:00<00:00, 12.30it/s]\n",
      "                   all         40        150      0.332      0.271      0.313      0.157\n",
      "\n",
      "      Epoch    GPU_mem   box_loss   obj_loss   cls_loss  Instances       Size\n",
      "    129/199     0.606G    0.04147    0.06137    0.01014          1        416: 100% 41/41 [00:02<00:00, 20.31it/s]\n",
      "                 Class     Images  Instances          P          R      mAP50   mAP50-95: 100% 5/5 [00:00<00:00, 12.62it/s]\n",
      "                   all         40        150      0.329      0.293      0.306      0.154\n",
      "\n",
      "      Epoch    GPU_mem   box_loss   obj_loss   cls_loss  Instances       Size\n",
      "    130/199     0.606G    0.03926    0.06116    0.01114          5        416: 100% 41/41 [00:01<00:00, 20.76it/s]\n",
      "                 Class     Images  Instances          P          R      mAP50   mAP50-95: 100% 5/5 [00:00<00:00, 12.09it/s]\n",
      "                   all         40        150      0.258      0.578      0.317      0.156\n",
      "\n",
      "      Epoch    GPU_mem   box_loss   obj_loss   cls_loss  Instances       Size\n",
      "    131/199     0.606G    0.04054    0.05684    0.01065          2        416: 100% 41/41 [00:01<00:00, 20.79it/s]\n",
      "                 Class     Images  Instances          P          R      mAP50   mAP50-95: 100% 5/5 [00:00<00:00, 12.36it/s]\n",
      "                   all         40        150      0.256      0.558      0.322      0.158\n",
      "\n",
      "      Epoch    GPU_mem   box_loss   obj_loss   cls_loss  Instances       Size\n",
      "    132/199     0.606G    0.04131     0.0663    0.01031         10        416: 100% 41/41 [00:01<00:00, 20.77it/s]\n",
      "                 Class     Images  Instances          P          R      mAP50   mAP50-95: 100% 5/5 [00:00<00:00, 12.15it/s]\n",
      "                   all         40        150      0.345      0.294      0.303      0.144\n",
      "\n",
      "      Epoch    GPU_mem   box_loss   obj_loss   cls_loss  Instances       Size\n",
      "    133/199     0.606G    0.03812    0.05947    0.00964          6        416: 100% 41/41 [00:02<00:00, 19.64it/s]\n",
      "                 Class     Images  Instances          P          R      mAP50   mAP50-95: 100% 5/5 [00:00<00:00, 11.63it/s]\n",
      "                   all         40        150      0.259      0.362        0.3      0.155\n",
      "\n",
      "      Epoch    GPU_mem   box_loss   obj_loss   cls_loss  Instances       Size\n",
      "    134/199     0.606G    0.04189    0.05885   0.009341          1        416: 100% 41/41 [00:02<00:00, 19.28it/s]\n",
      "                 Class     Images  Instances          P          R      mAP50   mAP50-95: 100% 5/5 [00:00<00:00, 12.26it/s]\n",
      "                   all         40        150      0.306      0.296      0.299      0.153\n",
      "\n",
      "      Epoch    GPU_mem   box_loss   obj_loss   cls_loss  Instances       Size\n",
      "    135/199     0.606G    0.04133    0.06301    0.01073          9        416: 100% 41/41 [00:02<00:00, 19.83it/s]\n",
      "                 Class     Images  Instances          P          R      mAP50   mAP50-95: 100% 5/5 [00:00<00:00, 12.59it/s]\n",
      "                   all         40        150      0.279      0.351      0.306      0.155\n",
      "\n",
      "      Epoch    GPU_mem   box_loss   obj_loss   cls_loss  Instances       Size\n",
      "    136/199     0.606G    0.04116    0.06262    0.01118          6        416: 100% 41/41 [00:01<00:00, 20.72it/s]\n",
      "                 Class     Images  Instances          P          R      mAP50   mAP50-95: 100% 5/5 [00:00<00:00, 12.24it/s]\n",
      "                   all         40        150      0.302      0.313      0.304      0.159\n",
      "\n",
      "      Epoch    GPU_mem   box_loss   obj_loss   cls_loss  Instances       Size\n",
      "    137/199     0.606G    0.04244    0.06165   0.009118          2        416: 100% 41/41 [00:01<00:00, 20.57it/s]\n",
      "                 Class     Images  Instances          P          R      mAP50   mAP50-95: 100% 5/5 [00:00<00:00, 12.21it/s]\n",
      "                   all         40        150      0.269      0.543      0.319      0.161\n",
      "\n",
      "      Epoch    GPU_mem   box_loss   obj_loss   cls_loss  Instances       Size\n",
      "    138/199     0.606G    0.03961    0.06173   0.009023          6        416: 100% 41/41 [00:02<00:00, 20.29it/s]\n",
      "                 Class     Images  Instances          P          R      mAP50   mAP50-95: 100% 5/5 [00:00<00:00, 11.31it/s]\n",
      "                   all         40        150      0.255      0.542      0.322      0.171\n",
      "\n",
      "      Epoch    GPU_mem   box_loss   obj_loss   cls_loss  Instances       Size\n",
      "    139/199     0.606G    0.03924    0.06017    0.00951          3        416: 100% 41/41 [00:02<00:00, 18.75it/s]\n",
      "                 Class     Images  Instances          P          R      mAP50   mAP50-95: 100% 5/5 [00:00<00:00, 12.30it/s]\n",
      "                   all         40        150       0.55       0.27      0.311      0.155\n",
      "\n",
      "      Epoch    GPU_mem   box_loss   obj_loss   cls_loss  Instances       Size\n",
      "    140/199     0.606G    0.04039    0.06546   0.009081         11        416: 100% 41/41 [00:01<00:00, 20.70it/s]\n",
      "                 Class     Images  Instances          P          R      mAP50   mAP50-95: 100% 5/5 [00:00<00:00, 12.53it/s]\n",
      "                   all         40        150      0.575      0.241      0.298       0.15\n",
      "\n",
      "      Epoch    GPU_mem   box_loss   obj_loss   cls_loss  Instances       Size\n",
      "    141/199     0.606G    0.03919    0.05823    0.01019          0        416: 100% 41/41 [00:01<00:00, 21.01it/s]\n",
      "                 Class     Images  Instances          P          R      mAP50   mAP50-95: 100% 5/5 [00:00<00:00, 11.56it/s]\n",
      "                   all         40        150      0.562      0.242      0.292      0.144\n",
      "\n",
      "      Epoch    GPU_mem   box_loss   obj_loss   cls_loss  Instances       Size\n",
      "    142/199     0.606G    0.03968    0.06199    0.01076          2        416: 100% 41/41 [00:02<00:00, 20.45it/s]\n",
      "                 Class     Images  Instances          P          R      mAP50   mAP50-95: 100% 5/5 [00:00<00:00, 12.43it/s]\n",
      "                   all         40        150       0.59      0.255      0.299       0.15\n",
      "\n",
      "      Epoch    GPU_mem   box_loss   obj_loss   cls_loss  Instances       Size\n",
      "    143/199     0.606G    0.03967    0.05927    0.01059          1        416: 100% 41/41 [00:02<00:00, 18.85it/s]\n",
      "                 Class     Images  Instances          P          R      mAP50   mAP50-95: 100% 5/5 [00:00<00:00, 11.49it/s]\n",
      "                   all         40        150      0.292      0.301      0.295      0.146\n",
      "\n",
      "      Epoch    GPU_mem   box_loss   obj_loss   cls_loss  Instances       Size\n",
      "    144/199     0.606G    0.04014    0.06242    0.01077          2        416: 100% 41/41 [00:02<00:00, 19.48it/s]\n",
      "                 Class     Images  Instances          P          R      mAP50   mAP50-95: 100% 5/5 [00:00<00:00, 12.16it/s]\n",
      "                   all         40        150      0.529      0.271      0.291      0.148\n",
      "\n",
      "      Epoch    GPU_mem   box_loss   obj_loss   cls_loss  Instances       Size\n",
      "    145/199     0.606G    0.04162     0.0599    0.00973         11        416: 100% 41/41 [00:01<00:00, 20.58it/s]\n",
      "                 Class     Images  Instances          P          R      mAP50   mAP50-95: 100% 5/5 [00:00<00:00, 12.18it/s]\n",
      "                   all         40        150      0.375       0.25      0.287      0.149\n",
      "\n",
      "      Epoch    GPU_mem   box_loss   obj_loss   cls_loss  Instances       Size\n",
      "    146/199     0.606G    0.03954    0.05997   0.009963          5        416: 100% 41/41 [00:02<00:00, 19.92it/s]\n",
      "                 Class     Images  Instances          P          R      mAP50   mAP50-95: 100% 5/5 [00:00<00:00, 12.35it/s]\n",
      "                   all         40        150      0.408      0.256      0.298       0.15\n",
      "\n",
      "      Epoch    GPU_mem   box_loss   obj_loss   cls_loss  Instances       Size\n",
      "    147/199     0.606G    0.04059    0.07376   0.009619          8        416: 100% 41/41 [00:02<00:00, 19.83it/s]\n",
      "                 Class     Images  Instances          P          R      mAP50   mAP50-95: 100% 5/5 [00:00<00:00, 11.76it/s]\n",
      "                   all         40        150       0.58      0.278      0.299      0.149\n",
      "\n",
      "      Epoch    GPU_mem   box_loss   obj_loss   cls_loss  Instances       Size\n",
      "    148/199     0.606G    0.04077    0.06935    0.01148          9        416: 100% 41/41 [00:02<00:00, 19.74it/s]\n",
      "                 Class     Images  Instances          P          R      mAP50   mAP50-95: 100% 5/5 [00:00<00:00, 12.14it/s]\n",
      "                   all         40        150      0.607      0.283      0.312      0.154\n",
      "\n",
      "      Epoch    GPU_mem   box_loss   obj_loss   cls_loss  Instances       Size\n",
      "    149/199     0.606G    0.04001    0.06544    0.01055         11        416: 100% 41/41 [00:02<00:00, 20.48it/s]\n",
      "                 Class     Images  Instances          P          R      mAP50   mAP50-95: 100% 5/5 [00:00<00:00, 12.11it/s]\n",
      "                   all         40        150      0.423      0.269      0.312      0.161\n",
      "\n",
      "      Epoch    GPU_mem   box_loss   obj_loss   cls_loss  Instances       Size\n",
      "    150/199     0.606G     0.0392     0.0644    0.01314         11        416: 100% 41/41 [00:02<00:00, 20.30it/s]\n",
      "                 Class     Images  Instances          P          R      mAP50   mAP50-95: 100% 5/5 [00:00<00:00, 12.06it/s]\n",
      "                   all         40        150      0.418      0.278      0.314      0.156\n",
      "\n",
      "      Epoch    GPU_mem   box_loss   obj_loss   cls_loss  Instances       Size\n",
      "    151/199     0.606G    0.04144    0.06765   0.008972         13        416: 100% 41/41 [00:02<00:00, 20.24it/s]\n",
      "                 Class     Images  Instances          P          R      mAP50   mAP50-95: 100% 5/5 [00:00<00:00, 12.51it/s]\n",
      "                   all         40        150      0.346      0.281       0.29      0.152\n",
      "\n",
      "      Epoch    GPU_mem   box_loss   obj_loss   cls_loss  Instances       Size\n",
      "    152/199     0.606G    0.04008    0.06209    0.01003          9        416: 100% 41/41 [00:02<00:00, 19.05it/s]\n",
      "                 Class     Images  Instances          P          R      mAP50   mAP50-95: 100% 5/5 [00:00<00:00, 11.50it/s]\n",
      "                   all         40        150      0.317      0.305      0.288       0.15\n",
      "\n",
      "      Epoch    GPU_mem   box_loss   obj_loss   cls_loss  Instances       Size\n",
      "    153/199     0.606G    0.04004    0.05806   0.009427          1        416: 100% 41/41 [00:02<00:00, 19.89it/s]\n",
      "                 Class     Images  Instances          P          R      mAP50   mAP50-95: 100% 5/5 [00:00<00:00, 12.05it/s]\n",
      "                   all         40        150      0.324      0.331      0.298       0.15\n",
      "\n",
      "      Epoch    GPU_mem   box_loss   obj_loss   cls_loss  Instances       Size\n",
      "    154/199     0.606G    0.03794    0.06331     0.0109         16        416: 100% 41/41 [00:02<00:00, 20.18it/s]\n",
      "                 Class     Images  Instances          P          R      mAP50   mAP50-95: 100% 5/5 [00:00<00:00, 12.43it/s]\n",
      "                   all         40        150      0.349      0.335      0.307      0.157\n",
      "\n",
      "      Epoch    GPU_mem   box_loss   obj_loss   cls_loss  Instances       Size\n",
      "    155/199     0.606G    0.03876    0.06215   0.009437          1        416: 100% 41/41 [00:02<00:00, 20.09it/s]\n",
      "                 Class     Images  Instances          P          R      mAP50   mAP50-95: 100% 5/5 [00:00<00:00, 12.46it/s]\n",
      "                   all         40        150      0.307      0.359      0.313       0.16\n",
      "\n",
      "      Epoch    GPU_mem   box_loss   obj_loss   cls_loss  Instances       Size\n",
      "    156/199     0.606G    0.03897    0.06338   0.007851          1        416: 100% 41/41 [00:02<00:00, 20.07it/s]\n",
      "                 Class     Images  Instances          P          R      mAP50   mAP50-95: 100% 5/5 [00:00<00:00, 11.76it/s]\n",
      "                   all         40        150      0.426      0.288      0.323      0.171\n",
      "\n",
      "      Epoch    GPU_mem   box_loss   obj_loss   cls_loss  Instances       Size\n",
      "    157/199     0.606G    0.04088    0.06326   0.008625          3        416: 100% 41/41 [00:02<00:00, 18.92it/s]\n",
      "                 Class     Images  Instances          P          R      mAP50   mAP50-95: 100% 5/5 [00:00<00:00, 11.27it/s]\n",
      "                   all         40        150      0.401       0.31      0.318      0.173\n",
      "\n",
      "      Epoch    GPU_mem   box_loss   obj_loss   cls_loss  Instances       Size\n",
      "    158/199     0.606G    0.03936    0.05883   0.009125          5        416: 100% 41/41 [00:02<00:00, 18.52it/s]\n",
      "                 Class     Images  Instances          P          R      mAP50   mAP50-95: 100% 5/5 [00:00<00:00, 11.86it/s]\n",
      "                   all         40        150      0.414      0.295       0.31      0.166\n",
      "\n",
      "      Epoch    GPU_mem   box_loss   obj_loss   cls_loss  Instances       Size\n",
      "    159/199     0.606G    0.03989    0.06274   0.007598         18        416: 100% 41/41 [00:02<00:00, 19.97it/s]\n",
      "                 Class     Images  Instances          P          R      mAP50   mAP50-95: 100% 5/5 [00:00<00:00, 11.60it/s]\n",
      "                   all         40        150      0.408      0.296      0.308      0.159\n",
      "\n",
      "      Epoch    GPU_mem   box_loss   obj_loss   cls_loss  Instances       Size\n",
      "    160/199     0.606G    0.04018    0.06268    0.01061          3        416: 100% 41/41 [00:02<00:00, 20.24it/s]\n",
      "                 Class     Images  Instances          P          R      mAP50   mAP50-95: 100% 5/5 [00:00<00:00, 12.81it/s]\n",
      "                   all         40        150      0.612       0.29      0.305      0.157\n",
      "\n",
      "      Epoch    GPU_mem   box_loss   obj_loss   cls_loss  Instances       Size\n",
      "    161/199     0.606G    0.04046    0.06183   0.009503          4        416: 100% 41/41 [00:02<00:00, 18.94it/s]\n",
      "                 Class     Images  Instances          P          R      mAP50   mAP50-95: 100% 5/5 [00:00<00:00, 11.41it/s]\n",
      "                   all         40        150      0.615      0.283      0.305      0.157\n",
      "\n",
      "      Epoch    GPU_mem   box_loss   obj_loss   cls_loss  Instances       Size\n",
      "    162/199     0.606G    0.03727    0.05288   0.009666          3        416: 100% 41/41 [00:02<00:00, 20.06it/s]\n",
      "                 Class     Images  Instances          P          R      mAP50   mAP50-95: 100% 5/5 [00:00<00:00, 12.06it/s]\n",
      "                   all         40        150      0.335      0.325      0.306      0.162\n",
      "\n",
      "      Epoch    GPU_mem   box_loss   obj_loss   cls_loss  Instances       Size\n",
      "    163/199     0.606G    0.03906    0.06051   0.009426          4        416: 100% 41/41 [00:02<00:00, 20.20it/s]\n",
      "                 Class     Images  Instances          P          R      mAP50   mAP50-95: 100% 5/5 [00:00<00:00, 12.43it/s]\n",
      "                   all         40        150      0.355      0.307       0.31      0.163\n",
      "\n",
      "      Epoch    GPU_mem   box_loss   obj_loss   cls_loss  Instances       Size\n",
      "    164/199     0.606G    0.03897    0.06254   0.009673          3        416: 100% 41/41 [00:02<00:00, 20.40it/s]\n",
      "                 Class     Images  Instances          P          R      mAP50   mAP50-95: 100% 5/5 [00:00<00:00, 11.91it/s]\n",
      "                   all         40        150      0.622      0.263      0.301      0.156\n",
      "\n",
      "      Epoch    GPU_mem   box_loss   obj_loss   cls_loss  Instances       Size\n",
      "    165/199     0.606G    0.03999    0.06191   0.009054          5        416: 100% 41/41 [00:01<00:00, 20.67it/s]\n",
      "                 Class     Images  Instances          P          R      mAP50   mAP50-95: 100% 5/5 [00:00<00:00, 12.22it/s]\n",
      "                   all         40        150      0.635      0.277      0.306      0.162\n",
      "\n",
      "      Epoch    GPU_mem   box_loss   obj_loss   cls_loss  Instances       Size\n",
      "    166/199     0.606G    0.03723     0.0591   0.009593          1        416: 100% 41/41 [00:02<00:00, 18.54it/s]\n",
      "                 Class     Images  Instances          P          R      mAP50   mAP50-95: 100% 5/5 [00:00<00:00, 11.19it/s]\n",
      "                   all         40        150       0.36      0.314      0.307      0.165\n",
      "\n",
      "      Epoch    GPU_mem   box_loss   obj_loss   cls_loss  Instances       Size\n",
      "    167/199     0.606G    0.03979    0.06304   0.008686          3        416: 100% 41/41 [00:02<00:00, 20.23it/s]\n",
      "                 Class     Images  Instances          P          R      mAP50   mAP50-95: 100% 5/5 [00:00<00:00, 11.78it/s]\n",
      "                   all         40        150      0.406       0.29      0.313      0.164\n",
      "\n",
      "      Epoch    GPU_mem   box_loss   obj_loss   cls_loss  Instances       Size\n",
      "    168/199     0.606G    0.03724    0.05984   0.008369          0        416: 100% 41/41 [00:01<00:00, 21.52it/s]\n",
      "                 Class     Images  Instances          P          R      mAP50   mAP50-95: 100% 5/5 [00:00<00:00, 12.30it/s]\n",
      "                   all         40        150      0.407      0.291      0.321      0.167\n",
      "\n",
      "      Epoch    GPU_mem   box_loss   obj_loss   cls_loss  Instances       Size\n",
      "    169/199     0.606G    0.03788    0.06035   0.008511          2        416: 100% 41/41 [00:02<00:00, 20.10it/s]\n",
      "                 Class     Images  Instances          P          R      mAP50   mAP50-95: 100% 5/5 [00:00<00:00, 11.89it/s]\n",
      "                   all         40        150      0.391        0.3      0.316      0.169\n",
      "\n",
      "      Epoch    GPU_mem   box_loss   obj_loss   cls_loss  Instances       Size\n",
      "    170/199     0.606G    0.03638    0.05177    0.00962          1        416: 100% 41/41 [00:02<00:00, 19.92it/s]\n",
      "                 Class     Images  Instances          P          R      mAP50   mAP50-95: 100% 5/5 [00:00<00:00, 11.71it/s]\n",
      "                   all         40        150      0.381      0.302      0.317      0.163\n",
      "\n",
      "      Epoch    GPU_mem   box_loss   obj_loss   cls_loss  Instances       Size\n",
      "    171/199     0.606G    0.03918    0.06385    0.01047         11        416: 100% 41/41 [00:02<00:00, 19.00it/s]\n",
      "                 Class     Images  Instances          P          R      mAP50   mAP50-95: 100% 5/5 [00:00<00:00, 12.43it/s]\n",
      "                   all         40        150       0.36      0.312      0.313       0.16\n",
      "\n",
      "      Epoch    GPU_mem   box_loss   obj_loss   cls_loss  Instances       Size\n",
      "    172/199     0.606G    0.03643     0.0548   0.008539          5        416: 100% 41/41 [00:02<00:00, 20.12it/s]\n",
      "                 Class     Images  Instances          P          R      mAP50   mAP50-95: 100% 5/5 [00:00<00:00, 12.95it/s]\n",
      "                   all         40        150      0.396      0.338      0.317      0.161\n",
      "\n",
      "      Epoch    GPU_mem   box_loss   obj_loss   cls_loss  Instances       Size\n",
      "    173/199     0.606G    0.03771     0.0604   0.009489          5        416: 100% 41/41 [00:02<00:00, 20.06it/s]\n",
      "                 Class     Images  Instances          P          R      mAP50   mAP50-95: 100% 5/5 [00:00<00:00, 12.25it/s]\n",
      "                   all         40        150      0.361      0.332      0.314      0.164\n",
      "\n",
      "      Epoch    GPU_mem   box_loss   obj_loss   cls_loss  Instances       Size\n",
      "    174/199     0.606G    0.03868    0.06306   0.008284         17        416: 100% 41/41 [00:02<00:00, 19.65it/s]\n",
      "                 Class     Images  Instances          P          R      mAP50   mAP50-95: 100% 5/5 [00:00<00:00, 12.22it/s]\n",
      "                   all         40        150      0.387      0.324      0.315      0.163\n",
      "\n",
      "      Epoch    GPU_mem   box_loss   obj_loss   cls_loss  Instances       Size\n",
      "    175/199     0.606G    0.03711    0.05571   0.008631          3        416: 100% 41/41 [00:02<00:00, 19.27it/s]\n",
      "                 Class     Images  Instances          P          R      mAP50   mAP50-95: 100% 5/5 [00:00<00:00, 12.34it/s]\n",
      "                   all         40        150      0.392      0.323      0.311       0.16\n",
      "\n",
      "      Epoch    GPU_mem   box_loss   obj_loss   cls_loss  Instances       Size\n",
      "    176/199     0.606G    0.04062     0.0696    0.01109         23        416: 100% 41/41 [00:02<00:00, 19.65it/s]\n",
      "                 Class     Images  Instances          P          R      mAP50   mAP50-95: 100% 5/5 [00:00<00:00, 12.18it/s]\n",
      "                   all         40        150       0.39      0.328      0.319      0.166\n",
      "\n",
      "      Epoch    GPU_mem   box_loss   obj_loss   cls_loss  Instances       Size\n",
      "    177/199     0.606G    0.03878    0.05814   0.009671          2        416: 100% 41/41 [00:01<00:00, 20.85it/s]\n",
      "                 Class     Images  Instances          P          R      mAP50   mAP50-95: 100% 5/5 [00:00<00:00, 11.91it/s]\n",
      "                   all         40        150      0.401       0.31      0.315      0.162\n",
      "\n",
      "      Epoch    GPU_mem   box_loss   obj_loss   cls_loss  Instances       Size\n",
      "    178/199     0.606G    0.03759    0.05864    0.00927          1        416: 100% 41/41 [00:02<00:00, 20.38it/s]\n",
      "                 Class     Images  Instances          P          R      mAP50   mAP50-95: 100% 5/5 [00:00<00:00, 12.46it/s]\n",
      "                   all         40        150       0.41      0.294       0.31      0.162\n",
      "\n",
      "      Epoch    GPU_mem   box_loss   obj_loss   cls_loss  Instances       Size\n",
      "    179/199     0.606G    0.03787    0.05458   0.008426          6        416: 100% 41/41 [00:02<00:00, 20.19it/s]\n",
      "                 Class     Images  Instances          P          R      mAP50   mAP50-95: 100% 5/5 [00:00<00:00, 11.81it/s]\n",
      "                   all         40        150        0.4       0.29      0.311      0.154\n",
      "\n",
      "      Epoch    GPU_mem   box_loss   obj_loss   cls_loss  Instances       Size\n",
      "    180/199     0.606G    0.03957    0.05665   0.009422          4        416: 100% 41/41 [00:02<00:00, 18.12it/s]\n",
      "                 Class     Images  Instances          P          R      mAP50   mAP50-95: 100% 5/5 [00:00<00:00, 11.16it/s]\n",
      "                   all         40        150      0.402      0.287      0.315      0.161\n",
      "\n",
      "      Epoch    GPU_mem   box_loss   obj_loss   cls_loss  Instances       Size\n",
      "    181/199     0.606G     0.0377    0.06725   0.008808         10        416: 100% 41/41 [00:02<00:00, 19.68it/s]\n",
      "                 Class     Images  Instances          P          R      mAP50   mAP50-95: 100% 5/5 [00:00<00:00, 11.97it/s]\n",
      "                   all         40        150      0.378      0.289      0.314      0.162\n",
      "\n",
      "      Epoch    GPU_mem   box_loss   obj_loss   cls_loss  Instances       Size\n",
      "    182/199     0.606G    0.03834    0.06102    0.00886          2        416: 100% 41/41 [00:02<00:00, 19.94it/s]\n",
      "                 Class     Images  Instances          P          R      mAP50   mAP50-95: 100% 5/5 [00:00<00:00, 11.90it/s]\n",
      "                   all         40        150      0.368      0.289      0.312       0.16\n",
      "\n",
      "      Epoch    GPU_mem   box_loss   obj_loss   cls_loss  Instances       Size\n",
      "    183/199     0.606G    0.03778     0.0615   0.009163          1        416: 100% 41/41 [00:02<00:00, 20.41it/s]\n",
      "                 Class     Images  Instances          P          R      mAP50   mAP50-95: 100% 5/5 [00:00<00:00, 12.04it/s]\n",
      "                   all         40        150      0.371      0.288      0.312      0.157\n",
      "\n",
      "      Epoch    GPU_mem   box_loss   obj_loss   cls_loss  Instances       Size\n",
      "    184/199     0.606G     0.0365    0.05912   0.007931         11        416: 100% 41/41 [00:02<00:00, 20.06it/s]\n",
      "                 Class     Images  Instances          P          R      mAP50   mAP50-95: 100% 5/5 [00:00<00:00, 11.54it/s]\n",
      "                   all         40        150      0.377      0.288       0.31       0.16\n",
      "\n",
      "      Epoch    GPU_mem   box_loss   obj_loss   cls_loss  Instances       Size\n",
      "    185/199     0.606G    0.03428    0.05032    0.00829          5        416: 100% 41/41 [00:02<00:00, 18.62it/s]\n",
      "                 Class     Images  Instances          P          R      mAP50   mAP50-95: 100% 5/5 [00:00<00:00, 12.32it/s]\n",
      "                   all         40        150      0.376      0.302      0.314      0.162\n",
      "\n",
      "      Epoch    GPU_mem   box_loss   obj_loss   cls_loss  Instances       Size\n",
      "    186/199     0.606G    0.03711    0.06026    0.00991          5        416: 100% 41/41 [00:02<00:00, 20.20it/s]\n",
      "                 Class     Images  Instances          P          R      mAP50   mAP50-95: 100% 5/5 [00:00<00:00, 12.26it/s]\n",
      "                   all         40        150      0.368      0.304       0.31      0.159\n",
      "\n",
      "      Epoch    GPU_mem   box_loss   obj_loss   cls_loss  Instances       Size\n",
      "    187/199     0.606G    0.03651    0.06344    0.01044         12        416: 100% 41/41 [00:02<00:00, 20.02it/s]\n",
      "                 Class     Images  Instances          P          R      mAP50   mAP50-95: 100% 5/5 [00:00<00:00, 12.25it/s]\n",
      "                   all         40        150      0.403       0.28      0.311      0.168\n",
      "\n",
      "      Epoch    GPU_mem   box_loss   obj_loss   cls_loss  Instances       Size\n",
      "    188/199     0.606G    0.03769    0.06228    0.00775          4        416: 100% 41/41 [00:02<00:00, 19.92it/s]\n",
      "                 Class     Images  Instances          P          R      mAP50   mAP50-95: 100% 5/5 [00:00<00:00, 11.99it/s]\n",
      "                   all         40        150      0.366      0.308      0.309      0.163\n",
      "\n",
      "      Epoch    GPU_mem   box_loss   obj_loss   cls_loss  Instances       Size\n",
      "    189/199     0.606G     0.0375     0.0614    0.00784          4        416: 100% 41/41 [00:02<00:00, 19.53it/s]\n",
      "                 Class     Images  Instances          P          R      mAP50   mAP50-95: 100% 5/5 [00:00<00:00, 11.85it/s]\n",
      "                   all         40        150      0.373      0.318       0.31      0.164\n",
      "\n",
      "      Epoch    GPU_mem   box_loss   obj_loss   cls_loss  Instances       Size\n",
      "    190/199     0.606G    0.03626    0.05692   0.009228          1        416: 100% 41/41 [00:02<00:00, 19.50it/s]\n",
      "                 Class     Images  Instances          P          R      mAP50   mAP50-95: 100% 5/5 [00:00<00:00, 11.09it/s]\n",
      "                   all         40        150      0.377       0.31      0.309      0.159\n",
      "\n",
      "      Epoch    GPU_mem   box_loss   obj_loss   cls_loss  Instances       Size\n",
      "    191/199     0.606G    0.03705    0.06014   0.008254          5        416: 100% 41/41 [00:02<00:00, 19.67it/s]\n",
      "                 Class     Images  Instances          P          R      mAP50   mAP50-95: 100% 5/5 [00:00<00:00, 11.83it/s]\n",
      "                   all         40        150      0.373      0.309      0.308      0.162\n",
      "\n",
      "      Epoch    GPU_mem   box_loss   obj_loss   cls_loss  Instances       Size\n",
      "    192/199     0.606G    0.03691    0.05826    0.00704          6        416: 100% 41/41 [00:02<00:00, 19.88it/s]\n",
      "                 Class     Images  Instances          P          R      mAP50   mAP50-95: 100% 5/5 [00:00<00:00, 11.93it/s]\n",
      "                   all         40        150      0.387      0.308      0.311      0.163\n",
      "\n",
      "      Epoch    GPU_mem   box_loss   obj_loss   cls_loss  Instances       Size\n",
      "    193/199     0.606G    0.03672     0.0519   0.007752          5        416: 100% 41/41 [00:02<00:00, 20.18it/s]\n",
      "                 Class     Images  Instances          P          R      mAP50   mAP50-95: 100% 5/5 [00:00<00:00, 12.36it/s]\n",
      "                   all         40        150      0.394      0.305       0.31      0.161\n",
      "\n",
      "      Epoch    GPU_mem   box_loss   obj_loss   cls_loss  Instances       Size\n",
      "    194/199     0.606G    0.03823    0.05917   0.008878          6        416: 100% 41/41 [00:02<00:00, 18.44it/s]\n",
      "                 Class     Images  Instances          P          R      mAP50   mAP50-95: 100% 5/5 [00:00<00:00, 11.90it/s]\n",
      "                   all         40        150      0.399        0.3       0.31      0.164\n",
      "\n",
      "      Epoch    GPU_mem   box_loss   obj_loss   cls_loss  Instances       Size\n",
      "    195/199     0.606G    0.03577    0.05548     0.0085          8        416: 100% 41/41 [00:02<00:00, 20.14it/s]\n",
      "                 Class     Images  Instances          P          R      mAP50   mAP50-95: 100% 5/5 [00:00<00:00, 12.83it/s]\n",
      "                   all         40        150      0.608      0.295      0.312      0.166\n",
      "\n",
      "      Epoch    GPU_mem   box_loss   obj_loss   cls_loss  Instances       Size\n",
      "    196/199     0.606G    0.03833    0.05831   0.008454          1        416: 100% 41/41 [00:02<00:00, 20.11it/s]\n",
      "                 Class     Images  Instances          P          R      mAP50   mAP50-95: 100% 5/5 [00:00<00:00, 11.59it/s]\n",
      "                   all         40        150      0.399      0.296      0.312      0.168\n",
      "\n",
      "      Epoch    GPU_mem   box_loss   obj_loss   cls_loss  Instances       Size\n",
      "    197/199     0.606G    0.03506     0.0596   0.008286          7        416: 100% 41/41 [00:02<00:00, 20.42it/s]\n",
      "                 Class     Images  Instances          P          R      mAP50   mAP50-95: 100% 5/5 [00:00<00:00, 12.29it/s]\n",
      "                   all         40        150      0.609      0.286       0.31      0.163\n",
      "\n",
      "      Epoch    GPU_mem   box_loss   obj_loss   cls_loss  Instances       Size\n",
      "    198/199     0.606G    0.03682    0.05907   0.008985          4        416: 100% 41/41 [00:02<00:00, 19.93it/s]\n",
      "                 Class     Images  Instances          P          R      mAP50   mAP50-95: 100% 5/5 [00:00<00:00, 11.67it/s]\n",
      "                   all         40        150      0.381      0.309      0.306      0.162\n",
      "\n",
      "      Epoch    GPU_mem   box_loss   obj_loss   cls_loss  Instances       Size\n",
      "    199/199     0.606G     0.0379    0.06453   0.008023          2        416: 100% 41/41 [00:02<00:00, 19.16it/s]\n",
      "                 Class     Images  Instances          P          R      mAP50   mAP50-95: 100% 5/5 [00:00<00:00, 11.72it/s]\n",
      "                   all         40        150      0.391      0.304      0.309      0.166\n",
      "\n",
      "200 epochs completed in 0.152 hours.\n",
      "Optimizer stripped from runs/train/exp/weights/last.pt, 17.4MB\n",
      "Optimizer stripped from runs/train/exp/weights/best.pt, 17.4MB\n",
      "\n",
      "Validating runs/train/exp/weights/best.pt...\n",
      "Fusing layers... \n",
      "Model summary: 38 layers, 8680552 parameters, 0 gradients, 12.9 GFLOPs\n",
      "                 Class     Images  Instances          P          R      mAP50   mAP50-95: 100% 5/5 [00:00<00:00,  5.20it/s]\n",
      "                   all         40        150        0.4      0.309      0.318      0.174\n",
      "               Car- 45         40          1          0          0     0.0474     0.0284\n",
      "               Car- 60         40         90      0.563      0.574      0.542      0.254\n",
      "           Car- 90-120         40         42       0.51      0.544      0.442      0.237\n",
      "              truck-40         40         14      0.927      0.429      0.536      0.339\n",
      "              truck-60         40          3          0          0     0.0252       0.01\n",
      "Results saved to \u001b[1mruns/train/exp\u001b[0m\n"
     ]
    }
   ],
   "source": [
    "!python train.py --img 416 --batch 4 --epochs 200 --data /content/drive/MyDrive/20_selected_projects/8_videoestimation/yolov5/data.yaml --weights yolov3-tiny.pt"
   ]
  },
  {
   "cell_type": "code",
   "execution_count": 5,
   "metadata": {
    "id": "ziOsp5I6TgAS"
   },
   "outputs": [],
   "source": [
    "p_yol3 = 0.40\n",
    "r_yol3 = 0.309\n",
    "mAP_yolo3 = 0.318"
   ]
  },
  {
   "cell_type": "code",
   "execution_count": 6,
   "metadata": {
    "id": "Cub5YnddTgAS"
   },
   "outputs": [],
   "source": [
    "storeResults('YoloV3',p_yol3,r_yol3,mAP_yolo3)"
   ]
  },
  {
   "cell_type": "markdown",
   "metadata": {
    "id": "87hJ6g0iqn1a"
   },
   "source": [
    "# **YoloV8**"
   ]
  },
  {
   "cell_type": "code",
   "execution_count": 19,
   "metadata": {
    "colab": {
     "base_uri": "https://localhost:8080/"
    },
    "executionInfo": {
     "elapsed": 611,
     "status": "ok",
     "timestamp": 1710871197208,
     "user": {
      "displayName": "TruProjects yolo",
      "userId": "18414174829652366032"
     },
     "user_tz": -330
    },
    "id": "69M60GNnqn_p",
    "outputId": "6707f35a-33ef-461d-bd68-be9e87617947"
   },
   "outputs": [
    {
     "name": "stdout",
     "output_type": "stream",
     "text": [
      "/content\n"
     ]
    }
   ],
   "source": [
    "%cd .."
   ]
  },
  {
   "cell_type": "code",
   "execution_count": 2,
   "metadata": {
    "colab": {
     "base_uri": "https://localhost:8080/"
    },
    "executionInfo": {
     "elapsed": 1,
     "status": "ok",
     "timestamp": 1710871318479,
     "user": {
      "displayName": "TruProjects yolo",
      "userId": "18414174829652366032"
     },
     "user_tz": -330
    },
    "id": "PHzmceEaqrAo",
    "outputId": "e79774e2-854a-47f7-fafb-ab0e9f9850d0"
   },
   "outputs": [
    {
     "name": "stdout",
     "output_type": "stream",
     "text": [
      "/content\n"
     ]
    }
   ],
   "source": [
    "%cd /content/"
   ]
  },
  {
   "cell_type": "code",
   "execution_count": 3,
   "metadata": {
    "colab": {
     "base_uri": "https://localhost:8080/"
    },
    "executionInfo": {
     "elapsed": 68880,
     "status": "ok",
     "timestamp": 1710871406614,
     "user": {
      "displayName": "TruProjects yolo",
      "userId": "18414174829652366032"
     },
     "user_tz": -330
    },
    "id": "n6ZSqUozqrD3",
    "outputId": "fa534081-8311-42c8-cdba-787b0ee256e5"
   },
   "outputs": [
    {
     "name": "stdout",
     "output_type": "stream",
     "text": [
      "Collecting ultralytics\n",
      "  Downloading ultralytics-8.1.29-py3-none-any.whl (721 kB)\n",
      "\u001b[2K     \u001b[90m━━━━━━━━━━━━━━━━━━━━━━━━━━━━━━━━━━━━━━━━\u001b[0m \u001b[32m721.3/721.3 kB\u001b[0m \u001b[31m8.5 MB/s\u001b[0m eta \u001b[36m0:00:00\u001b[0m\n",
      "\u001b[?25hRequirement already satisfied: matplotlib>=3.3.0 in /usr/local/lib/python3.10/dist-packages (from ultralytics) (3.7.1)\n",
      "Requirement already satisfied: opencv-python>=4.6.0 in /usr/local/lib/python3.10/dist-packages (from ultralytics) (4.8.0.76)\n",
      "Requirement already satisfied: pillow>=7.1.2 in /usr/local/lib/python3.10/dist-packages (from ultralytics) (9.4.0)\n",
      "Requirement already satisfied: pyyaml>=5.3.1 in /usr/local/lib/python3.10/dist-packages (from ultralytics) (6.0.1)\n",
      "Requirement already satisfied: requests>=2.23.0 in /usr/local/lib/python3.10/dist-packages (from ultralytics) (2.31.0)\n",
      "Requirement already satisfied: scipy>=1.4.1 in /usr/local/lib/python3.10/dist-packages (from ultralytics) (1.11.4)\n",
      "Requirement already satisfied: torch>=1.8.0 in /usr/local/lib/python3.10/dist-packages (from ultralytics) (2.2.1+cu121)\n",
      "Requirement already satisfied: torchvision>=0.9.0 in /usr/local/lib/python3.10/dist-packages (from ultralytics) (0.17.1+cu121)\n",
      "Requirement already satisfied: tqdm>=4.64.0 in /usr/local/lib/python3.10/dist-packages (from ultralytics) (4.66.2)\n",
      "Requirement already satisfied: psutil in /usr/local/lib/python3.10/dist-packages (from ultralytics) (5.9.5)\n",
      "Requirement already satisfied: py-cpuinfo in /usr/local/lib/python3.10/dist-packages (from ultralytics) (9.0.0)\n",
      "Collecting thop>=0.1.1 (from ultralytics)\n",
      "  Downloading thop-0.1.1.post2209072238-py3-none-any.whl (15 kB)\n",
      "Requirement already satisfied: pandas>=1.1.4 in /usr/local/lib/python3.10/dist-packages (from ultralytics) (1.5.3)\n",
      "Requirement already satisfied: seaborn>=0.11.0 in /usr/local/lib/python3.10/dist-packages (from ultralytics) (0.13.1)\n",
      "Requirement already satisfied: contourpy>=1.0.1 in /usr/local/lib/python3.10/dist-packages (from matplotlib>=3.3.0->ultralytics) (1.2.0)\n",
      "Requirement already satisfied: cycler>=0.10 in /usr/local/lib/python3.10/dist-packages (from matplotlib>=3.3.0->ultralytics) (0.12.1)\n",
      "Requirement already satisfied: fonttools>=4.22.0 in /usr/local/lib/python3.10/dist-packages (from matplotlib>=3.3.0->ultralytics) (4.49.0)\n",
      "Requirement already satisfied: kiwisolver>=1.0.1 in /usr/local/lib/python3.10/dist-packages (from matplotlib>=3.3.0->ultralytics) (1.4.5)\n",
      "Requirement already satisfied: numpy>=1.20 in /usr/local/lib/python3.10/dist-packages (from matplotlib>=3.3.0->ultralytics) (1.25.2)\n",
      "Requirement already satisfied: packaging>=20.0 in /usr/local/lib/python3.10/dist-packages (from matplotlib>=3.3.0->ultralytics) (24.0)\n",
      "Requirement already satisfied: pyparsing>=2.3.1 in /usr/local/lib/python3.10/dist-packages (from matplotlib>=3.3.0->ultralytics) (3.1.2)\n",
      "Requirement already satisfied: python-dateutil>=2.7 in /usr/local/lib/python3.10/dist-packages (from matplotlib>=3.3.0->ultralytics) (2.8.2)\n",
      "Requirement already satisfied: pytz>=2020.1 in /usr/local/lib/python3.10/dist-packages (from pandas>=1.1.4->ultralytics) (2023.4)\n",
      "Requirement already satisfied: charset-normalizer<4,>=2 in /usr/local/lib/python3.10/dist-packages (from requests>=2.23.0->ultralytics) (3.3.2)\n",
      "Requirement already satisfied: idna<4,>=2.5 in /usr/local/lib/python3.10/dist-packages (from requests>=2.23.0->ultralytics) (3.6)\n",
      "Requirement already satisfied: urllib3<3,>=1.21.1 in /usr/local/lib/python3.10/dist-packages (from requests>=2.23.0->ultralytics) (2.0.7)\n",
      "Requirement already satisfied: certifi>=2017.4.17 in /usr/local/lib/python3.10/dist-packages (from requests>=2.23.0->ultralytics) (2024.2.2)\n",
      "Requirement already satisfied: filelock in /usr/local/lib/python3.10/dist-packages (from torch>=1.8.0->ultralytics) (3.13.1)\n",
      "Requirement already satisfied: typing-extensions>=4.8.0 in /usr/local/lib/python3.10/dist-packages (from torch>=1.8.0->ultralytics) (4.10.0)\n",
      "Requirement already satisfied: sympy in /usr/local/lib/python3.10/dist-packages (from torch>=1.8.0->ultralytics) (1.12)\n",
      "Requirement already satisfied: networkx in /usr/local/lib/python3.10/dist-packages (from torch>=1.8.0->ultralytics) (3.2.1)\n",
      "Requirement already satisfied: jinja2 in /usr/local/lib/python3.10/dist-packages (from torch>=1.8.0->ultralytics) (3.1.3)\n",
      "Requirement already satisfied: fsspec in /usr/local/lib/python3.10/dist-packages (from torch>=1.8.0->ultralytics) (2023.6.0)\n",
      "Collecting nvidia-cuda-nvrtc-cu12==12.1.105 (from torch>=1.8.0->ultralytics)\n",
      "  Downloading nvidia_cuda_nvrtc_cu12-12.1.105-py3-none-manylinux1_x86_64.whl (23.7 MB)\n",
      "\u001b[2K     \u001b[90m━━━━━━━━━━━━━━━━━━━━━━━━━━━━━━━━━━━━━━━━\u001b[0m \u001b[32m23.7/23.7 MB\u001b[0m \u001b[31m44.9 MB/s\u001b[0m eta \u001b[36m0:00:00\u001b[0m\n",
      "\u001b[?25hCollecting nvidia-cuda-runtime-cu12==12.1.105 (from torch>=1.8.0->ultralytics)\n",
      "  Downloading nvidia_cuda_runtime_cu12-12.1.105-py3-none-manylinux1_x86_64.whl (823 kB)\n",
      "\u001b[2K     \u001b[90m━━━━━━━━━━━━━━━━━━━━━━━━━━━━━━━━━━━━━━━━\u001b[0m \u001b[32m823.6/823.6 kB\u001b[0m \u001b[31m63.1 MB/s\u001b[0m eta \u001b[36m0:00:00\u001b[0m\n",
      "\u001b[?25hCollecting nvidia-cuda-cupti-cu12==12.1.105 (from torch>=1.8.0->ultralytics)\n",
      "  Downloading nvidia_cuda_cupti_cu12-12.1.105-py3-none-manylinux1_x86_64.whl (14.1 MB)\n",
      "\u001b[2K     \u001b[90m━━━━━━━━━━━━━━━━━━━━━━━━━━━━━━━━━━━━━━━━\u001b[0m \u001b[32m14.1/14.1 MB\u001b[0m \u001b[31m69.5 MB/s\u001b[0m eta \u001b[36m0:00:00\u001b[0m\n",
      "\u001b[?25hCollecting nvidia-cudnn-cu12==8.9.2.26 (from torch>=1.8.0->ultralytics)\n",
      "  Downloading nvidia_cudnn_cu12-8.9.2.26-py3-none-manylinux1_x86_64.whl (731.7 MB)\n",
      "\u001b[2K     \u001b[90m━━━━━━━━━━━━━━━━━━━━━━━━━━━━━━━━━━━━━━━━\u001b[0m \u001b[32m731.7/731.7 MB\u001b[0m \u001b[31m2.2 MB/s\u001b[0m eta \u001b[36m0:00:00\u001b[0m\n",
      "\u001b[?25hCollecting nvidia-cublas-cu12==12.1.3.1 (from torch>=1.8.0->ultralytics)\n",
      "  Downloading nvidia_cublas_cu12-12.1.3.1-py3-none-manylinux1_x86_64.whl (410.6 MB)\n",
      "\u001b[2K     \u001b[90m━━━━━━━━━━━━━━━━━━━━━━━━━━━━━━━━━━━━━━━━\u001b[0m \u001b[32m410.6/410.6 MB\u001b[0m \u001b[31m3.1 MB/s\u001b[0m eta \u001b[36m0:00:00\u001b[0m\n",
      "\u001b[?25hCollecting nvidia-cufft-cu12==11.0.2.54 (from torch>=1.8.0->ultralytics)\n",
      "  Downloading nvidia_cufft_cu12-11.0.2.54-py3-none-manylinux1_x86_64.whl (121.6 MB)\n",
      "\u001b[2K     \u001b[90m━━━━━━━━━━━━━━━━━━━━━━━━━━━━━━━━━━━━━━━━\u001b[0m \u001b[32m121.6/121.6 MB\u001b[0m \u001b[31m13.4 MB/s\u001b[0m eta \u001b[36m0:00:00\u001b[0m\n",
      "\u001b[?25hCollecting nvidia-curand-cu12==10.3.2.106 (from torch>=1.8.0->ultralytics)\n",
      "  Downloading nvidia_curand_cu12-10.3.2.106-py3-none-manylinux1_x86_64.whl (56.5 MB)\n",
      "\u001b[2K     \u001b[90m━━━━━━━━━━━━━━━━━━━━━━━━━━━━━━━━━━━━━━━━\u001b[0m \u001b[32m56.5/56.5 MB\u001b[0m \u001b[31m24.0 MB/s\u001b[0m eta \u001b[36m0:00:00\u001b[0m\n",
      "\u001b[?25hCollecting nvidia-cusolver-cu12==11.4.5.107 (from torch>=1.8.0->ultralytics)\n",
      "  Downloading nvidia_cusolver_cu12-11.4.5.107-py3-none-manylinux1_x86_64.whl (124.2 MB)\n",
      "\u001b[2K     \u001b[90m━━━━━━━━━━━━━━━━━━━━━━━━━━━━━━━━━━━━━━━━\u001b[0m \u001b[32m124.2/124.2 MB\u001b[0m \u001b[31m13.4 MB/s\u001b[0m eta \u001b[36m0:00:00\u001b[0m\n",
      "\u001b[?25hCollecting nvidia-cusparse-cu12==12.1.0.106 (from torch>=1.8.0->ultralytics)\n",
      "  Downloading nvidia_cusparse_cu12-12.1.0.106-py3-none-manylinux1_x86_64.whl (196.0 MB)\n",
      "\u001b[2K     \u001b[90m━━━━━━━━━━━━━━━━━━━━━━━━━━━━━━━━━━━━━━━━\u001b[0m \u001b[32m196.0/196.0 MB\u001b[0m \u001b[31m3.6 MB/s\u001b[0m eta \u001b[36m0:00:00\u001b[0m\n",
      "\u001b[?25hCollecting nvidia-nccl-cu12==2.19.3 (from torch>=1.8.0->ultralytics)\n",
      "  Downloading nvidia_nccl_cu12-2.19.3-py3-none-manylinux1_x86_64.whl (166.0 MB)\n",
      "\u001b[2K     \u001b[90m━━━━━━━━━━━━━━━━━━━━━━━━━━━━━━━━━━━━━━━━\u001b[0m \u001b[32m166.0/166.0 MB\u001b[0m \u001b[31m10.2 MB/s\u001b[0m eta \u001b[36m0:00:00\u001b[0m\n",
      "\u001b[?25hCollecting nvidia-nvtx-cu12==12.1.105 (from torch>=1.8.0->ultralytics)\n",
      "  Downloading nvidia_nvtx_cu12-12.1.105-py3-none-manylinux1_x86_64.whl (99 kB)\n",
      "\u001b[2K     \u001b[90m━━━━━━━━━━━━━━━━━━━━━━━━━━━━━━━━━━━━━━━━\u001b[0m \u001b[32m99.1/99.1 kB\u001b[0m \u001b[31m12.9 MB/s\u001b[0m eta \u001b[36m0:00:00\u001b[0m\n",
      "\u001b[?25hRequirement already satisfied: triton==2.2.0 in /usr/local/lib/python3.10/dist-packages (from torch>=1.8.0->ultralytics) (2.2.0)\n",
      "Collecting nvidia-nvjitlink-cu12 (from nvidia-cusolver-cu12==11.4.5.107->torch>=1.8.0->ultralytics)\n",
      "  Downloading nvidia_nvjitlink_cu12-12.4.99-py3-none-manylinux2014_x86_64.whl (21.1 MB)\n",
      "\u001b[2K     \u001b[90m━━━━━━━━━━━━━━━━━━━━━━━━━━━━━━━━━━━━━━━━\u001b[0m \u001b[32m21.1/21.1 MB\u001b[0m \u001b[31m78.1 MB/s\u001b[0m eta \u001b[36m0:00:00\u001b[0m\n",
      "\u001b[?25hRequirement already satisfied: six>=1.5 in /usr/local/lib/python3.10/dist-packages (from python-dateutil>=2.7->matplotlib>=3.3.0->ultralytics) (1.16.0)\n",
      "Requirement already satisfied: MarkupSafe>=2.0 in /usr/local/lib/python3.10/dist-packages (from jinja2->torch>=1.8.0->ultralytics) (2.1.5)\n",
      "Requirement already satisfied: mpmath>=0.19 in /usr/local/lib/python3.10/dist-packages (from sympy->torch>=1.8.0->ultralytics) (1.3.0)\n",
      "Installing collected packages: nvidia-nvtx-cu12, nvidia-nvjitlink-cu12, nvidia-nccl-cu12, nvidia-curand-cu12, nvidia-cufft-cu12, nvidia-cuda-runtime-cu12, nvidia-cuda-nvrtc-cu12, nvidia-cuda-cupti-cu12, nvidia-cublas-cu12, nvidia-cusparse-cu12, nvidia-cudnn-cu12, nvidia-cusolver-cu12, thop, ultralytics\n",
      "Successfully installed nvidia-cublas-cu12-12.1.3.1 nvidia-cuda-cupti-cu12-12.1.105 nvidia-cuda-nvrtc-cu12-12.1.105 nvidia-cuda-runtime-cu12-12.1.105 nvidia-cudnn-cu12-8.9.2.26 nvidia-cufft-cu12-11.0.2.54 nvidia-curand-cu12-10.3.2.106 nvidia-cusolver-cu12-11.4.5.107 nvidia-cusparse-cu12-12.1.0.106 nvidia-nccl-cu12-2.19.3 nvidia-nvjitlink-cu12-12.4.99 nvidia-nvtx-cu12-12.1.105 thop-0.1.1.post2209072238 ultralytics-8.1.29\n"
     ]
    }
   ],
   "source": [
    "!pip install ultralytics"
   ]
  },
  {
   "cell_type": "code",
   "execution_count": 4,
   "metadata": {
    "colab": {
     "base_uri": "https://localhost:8080/"
    },
    "executionInfo": {
     "elapsed": 387108,
     "status": "ok",
     "timestamp": 1710871798809,
     "user": {
      "displayName": "TruProjects yolo",
      "userId": "18414174829652366032"
     },
     "user_tz": -330
    },
    "id": "7lSzRWpCqrG4",
    "outputId": "5f332d0c-356a-4011-fba7-a8f4258b2314"
   },
   "outputs": [
    {
     "name": "stdout",
     "output_type": "stream",
     "text": [
      "Downloading https://github.com/ultralytics/assets/releases/download/v8.1.0/yolov8n.pt to 'yolov8n.pt'...\n"
     ]
    },
    {
     "name": "stderr",
     "output_type": "stream",
     "text": [
      "100%|██████████| 6.23M/6.23M [00:00<00:00, 76.0MB/s]\n"
     ]
    },
    {
     "name": "stdout",
     "output_type": "stream",
     "text": [
      "Ultralytics YOLOv8.1.29 🚀 Python-3.10.12 torch-2.2.1+cu121 CUDA:0 (Tesla T4, 15102MiB)\n",
      "\u001b[34m\u001b[1mengine/trainer: \u001b[0mtask=detect, mode=train, model=yolov8n.pt, data=/content/drive/MyDrive/20_selected_projects/8_videoestimation/yolov8/data.yaml, epochs=200, time=None, patience=100, batch=16, imgsz=416, save=True, save_period=-1, cache=False, device=None, workers=8, project=None, name=train, exist_ok=False, pretrained=True, optimizer=auto, verbose=True, seed=0, deterministic=True, single_cls=False, rect=False, cos_lr=False, close_mosaic=10, resume=False, amp=True, fraction=1.0, profile=False, freeze=None, multi_scale=False, overlap_mask=True, mask_ratio=4, dropout=0.0, val=True, split=val, save_json=False, save_hybrid=False, conf=None, iou=0.7, max_det=300, half=False, dnn=False, plots=True, source=None, vid_stride=1, stream_buffer=False, visualize=False, augment=False, agnostic_nms=False, classes=None, retina_masks=False, embed=None, show=False, save_frames=False, save_txt=False, save_conf=False, save_crop=False, show_labels=True, show_conf=True, show_boxes=True, line_width=None, format=torchscript, keras=False, optimize=False, int8=False, dynamic=False, simplify=False, opset=None, workspace=4, nms=False, lr0=0.01, lrf=0.01, momentum=0.937, weight_decay=0.0005, warmup_epochs=3.0, warmup_momentum=0.8, warmup_bias_lr=0.1, box=7.5, cls=0.5, dfl=1.5, pose=12.0, kobj=1.0, label_smoothing=0.0, nbs=64, hsv_h=0.015, hsv_s=0.7, hsv_v=0.4, degrees=0.0, translate=0.1, scale=0.5, shear=0.0, perspective=0.0, flipud=0.0, fliplr=0.5, mosaic=1.0, mixup=0.0, copy_paste=0.0, auto_augment=randaugment, erasing=0.4, crop_fraction=1.0, cfg=None, tracker=botsort.yaml, save_dir=runs/detect/train\n",
      "Downloading https://ultralytics.com/assets/Arial.ttf to '/root/.config/Ultralytics/Arial.ttf'...\n"
     ]
    },
    {
     "name": "stderr",
     "output_type": "stream",
     "text": [
      "100%|██████████| 755k/755k [00:00<00:00, 17.0MB/s]\n"
     ]
    },
    {
     "name": "stdout",
     "output_type": "stream",
     "text": [
      "Overriding model.yaml nc=80 with nc=7\n",
      "\n",
      "                   from  n    params  module                                       arguments                     \n",
      "  0                  -1  1       464  ultralytics.nn.modules.conv.Conv             [3, 16, 3, 2]                 \n",
      "  1                  -1  1      4672  ultralytics.nn.modules.conv.Conv             [16, 32, 3, 2]                \n",
      "  2                  -1  1      7360  ultralytics.nn.modules.block.C2f             [32, 32, 1, True]             \n",
      "  3                  -1  1     18560  ultralytics.nn.modules.conv.Conv             [32, 64, 3, 2]                \n",
      "  4                  -1  2     49664  ultralytics.nn.modules.block.C2f             [64, 64, 2, True]             \n",
      "  5                  -1  1     73984  ultralytics.nn.modules.conv.Conv             [64, 128, 3, 2]               \n",
      "  6                  -1  2    197632  ultralytics.nn.modules.block.C2f             [128, 128, 2, True]           \n",
      "  7                  -1  1    295424  ultralytics.nn.modules.conv.Conv             [128, 256, 3, 2]              \n",
      "  8                  -1  1    460288  ultralytics.nn.modules.block.C2f             [256, 256, 1, True]           \n",
      "  9                  -1  1    164608  ultralytics.nn.modules.block.SPPF            [256, 256, 5]                 \n",
      " 10                  -1  1         0  torch.nn.modules.upsampling.Upsample         [None, 2, 'nearest']          \n",
      " 11             [-1, 6]  1         0  ultralytics.nn.modules.conv.Concat           [1]                           \n",
      " 12                  -1  1    148224  ultralytics.nn.modules.block.C2f             [384, 128, 1]                 \n",
      " 13                  -1  1         0  torch.nn.modules.upsampling.Upsample         [None, 2, 'nearest']          \n",
      " 14             [-1, 4]  1         0  ultralytics.nn.modules.conv.Concat           [1]                           \n",
      " 15                  -1  1     37248  ultralytics.nn.modules.block.C2f             [192, 64, 1]                  \n",
      " 16                  -1  1     36992  ultralytics.nn.modules.conv.Conv             [64, 64, 3, 2]                \n",
      " 17            [-1, 12]  1         0  ultralytics.nn.modules.conv.Concat           [1]                           \n",
      " 18                  -1  1    123648  ultralytics.nn.modules.block.C2f             [192, 128, 1]                 \n",
      " 19                  -1  1    147712  ultralytics.nn.modules.conv.Conv             [128, 128, 3, 2]              \n",
      " 20             [-1, 9]  1         0  ultralytics.nn.modules.conv.Concat           [1]                           \n",
      " 21                  -1  1    493056  ultralytics.nn.modules.block.C2f             [384, 256, 1]                 \n",
      " 22        [15, 18, 21]  1    752677  ultralytics.nn.modules.head.Detect           [7, [64, 128, 256]]           \n",
      "Model summary: 225 layers, 3012213 parameters, 3012197 gradients, 8.2 GFLOPs\n",
      "\n",
      "Transferred 319/355 items from pretrained weights\n",
      "\u001b[34m\u001b[1mTensorBoard: \u001b[0mStart with 'tensorboard --logdir runs/detect/train', view at http://localhost:6006/\n",
      "Freezing layer 'model.22.dfl.conv.weight'\n",
      "\u001b[34m\u001b[1mAMP: \u001b[0mrunning Automatic Mixed Precision (AMP) checks with YOLOv8n...\n",
      "\u001b[34m\u001b[1mAMP: \u001b[0mchecks passed ✅\n"
     ]
    },
    {
     "name": "stderr",
     "output_type": "stream",
     "text": [
      "\u001b[34m\u001b[1mtrain: \u001b[0mScanning /content/drive/MyDrive/20_selected_projects/8_videoestimation/yolov8/train/labels... 161 images, 0 backgrounds, 0 corrupt: 100%|██████████| 161/161 [00:07<00:00, 22.86it/s]\n"
     ]
    },
    {
     "name": "stdout",
     "output_type": "stream",
     "text": [
      "\u001b[34m\u001b[1mtrain: \u001b[0mNew cache created: /content/drive/MyDrive/20_selected_projects/8_videoestimation/yolov8/train/labels.cache\n",
      "\u001b[34m\u001b[1malbumentations: \u001b[0mBlur(p=0.01, blur_limit=(3, 7)), MedianBlur(p=0.01, blur_limit=(3, 7)), ToGray(p=0.01), CLAHE(p=0.01, clip_limit=(1, 4.0), tile_grid_size=(8, 8))\n"
     ]
    },
    {
     "name": "stderr",
     "output_type": "stream",
     "text": [
      "\u001b[34m\u001b[1mval: \u001b[0mScanning /content/drive/MyDrive/20_selected_projects/8_videoestimation/yolov8/valid/labels... 40 images, 0 backgrounds, 0 corrupt: 100%|██████████| 40/40 [00:02<00:00, 16.17it/s]"
     ]
    },
    {
     "name": "stdout",
     "output_type": "stream",
     "text": [
      "\u001b[34m\u001b[1mval: \u001b[0mNew cache created: /content/drive/MyDrive/20_selected_projects/8_videoestimation/yolov8/valid/labels.cache\n"
     ]
    },
    {
     "name": "stderr",
     "output_type": "stream",
     "text": [
      "\n"
     ]
    },
    {
     "name": "stdout",
     "output_type": "stream",
     "text": [
      "Plotting labels to runs/detect/train/labels.jpg... \n",
      "\u001b[34m\u001b[1moptimizer:\u001b[0m 'optimizer=auto' found, ignoring 'lr0=0.01' and 'momentum=0.937' and determining best 'optimizer', 'lr0' and 'momentum' automatically... \n",
      "\u001b[34m\u001b[1moptimizer:\u001b[0m AdamW(lr=0.000909, momentum=0.9) with parameter groups 57 weight(decay=0.0), 64 weight(decay=0.0005), 63 bias(decay=0.0)\n",
      "\u001b[34m\u001b[1mTensorBoard: \u001b[0mmodel graph visualization added ✅\n",
      "Image sizes 416 train, 416 val\n",
      "Using 8 dataloader workers\n",
      "Logging results to \u001b[1mruns/detect/train\u001b[0m\n",
      "Starting training for 200 epochs...\n",
      "\n",
      "      Epoch    GPU_mem   box_loss   cls_loss   dfl_loss  Instances       Size\n"
     ]
    },
    {
     "name": "stderr",
     "output_type": "stream",
     "text": [
      "      1/200      1.08G      1.932      4.201      1.471          5        416: 100%|██████████| 11/11 [00:05<00:00,  2.05it/s]\n",
      "                 Class     Images  Instances      Box(P          R      mAP50  mAP50-95): 100%|██████████| 2/2 [00:01<00:00,  1.21it/s]"
     ]
    },
    {
     "name": "stdout",
     "output_type": "stream",
     "text": [
      "                   all         40        150    0.00859      0.394      0.117     0.0524\n"
     ]
    },
    {
     "name": "stderr",
     "output_type": "stream",
     "text": [
      "\n"
     ]
    },
    {
     "name": "stdout",
     "output_type": "stream",
     "text": [
      "\n",
      "      Epoch    GPU_mem   box_loss   cls_loss   dfl_loss  Instances       Size\n"
     ]
    },
    {
     "name": "stderr",
     "output_type": "stream",
     "text": [
      "      2/200      1.09G      1.767      3.568      1.284         14        416: 100%|██████████| 11/11 [00:01<00:00,  9.17it/s]\n",
      "                 Class     Images  Instances      Box(P          R      mAP50  mAP50-95): 100%|██████████| 2/2 [00:00<00:00,  7.91it/s]"
     ]
    },
    {
     "name": "stdout",
     "output_type": "stream",
     "text": [
      "                   all         40        150     0.0159      0.469      0.145     0.0746\n"
     ]
    },
    {
     "name": "stderr",
     "output_type": "stream",
     "text": [
      "\n"
     ]
    },
    {
     "name": "stdout",
     "output_type": "stream",
     "text": [
      "\n",
      "      Epoch    GPU_mem   box_loss   cls_loss   dfl_loss  Instances       Size\n"
     ]
    },
    {
     "name": "stderr",
     "output_type": "stream",
     "text": [
      "      3/200      1.09G      1.703      2.633      1.262         10        416: 100%|██████████| 11/11 [00:01<00:00,  9.54it/s]\n",
      "                 Class     Images  Instances      Box(P          R      mAP50  mAP50-95): 100%|██████████| 2/2 [00:00<00:00,  9.02it/s]"
     ]
    },
    {
     "name": "stdout",
     "output_type": "stream",
     "text": [
      "                   all         40        150      0.798      0.136        0.2      0.101\n"
     ]
    },
    {
     "name": "stderr",
     "output_type": "stream",
     "text": [
      "\n"
     ]
    },
    {
     "name": "stdout",
     "output_type": "stream",
     "text": [
      "\n",
      "      Epoch    GPU_mem   box_loss   cls_loss   dfl_loss  Instances       Size\n"
     ]
    },
    {
     "name": "stderr",
     "output_type": "stream",
     "text": [
      "      4/200      1.08G      1.605      2.365      1.184          7        416: 100%|██████████| 11/11 [00:01<00:00,  9.28it/s]\n",
      "                 Class     Images  Instances      Box(P          R      mAP50  mAP50-95): 100%|██████████| 2/2 [00:00<00:00,  7.70it/s]"
     ]
    },
    {
     "name": "stdout",
     "output_type": "stream",
     "text": [
      "                   all         40        150      0.804     0.0885        0.2      0.107\n"
     ]
    },
    {
     "name": "stderr",
     "output_type": "stream",
     "text": [
      "\n"
     ]
    },
    {
     "name": "stdout",
     "output_type": "stream",
     "text": [
      "\n",
      "      Epoch    GPU_mem   box_loss   cls_loss   dfl_loss  Instances       Size\n"
     ]
    },
    {
     "name": "stderr",
     "output_type": "stream",
     "text": [
      "      5/200      1.09G       1.68      2.244      1.208          5        416: 100%|██████████| 11/11 [00:01<00:00,  9.51it/s]\n",
      "                 Class     Images  Instances      Box(P          R      mAP50  mAP50-95): 100%|██████████| 2/2 [00:00<00:00,  8.17it/s]"
     ]
    },
    {
     "name": "stdout",
     "output_type": "stream",
     "text": [
      "                   all         40        150      0.812     0.0984      0.177     0.0819\n"
     ]
    },
    {
     "name": "stderr",
     "output_type": "stream",
     "text": [
      "\n"
     ]
    },
    {
     "name": "stdout",
     "output_type": "stream",
     "text": [
      "\n",
      "      Epoch    GPU_mem   box_loss   cls_loss   dfl_loss  Instances       Size\n"
     ]
    },
    {
     "name": "stderr",
     "output_type": "stream",
     "text": [
      "      6/200      1.09G      1.577      2.125      1.178          3        416: 100%|██████████| 11/11 [00:01<00:00,  9.95it/s]\n",
      "                 Class     Images  Instances      Box(P          R      mAP50  mAP50-95): 100%|██████████| 2/2 [00:00<00:00,  8.38it/s]"
     ]
    },
    {
     "name": "stdout",
     "output_type": "stream",
     "text": [
      "                   all         40        150      0.774       0.17      0.192        0.1\n"
     ]
    },
    {
     "name": "stderr",
     "output_type": "stream",
     "text": [
      "\n"
     ]
    },
    {
     "name": "stdout",
     "output_type": "stream",
     "text": [
      "\n",
      "      Epoch    GPU_mem   box_loss   cls_loss   dfl_loss  Instances       Size\n"
     ]
    },
    {
     "name": "stderr",
     "output_type": "stream",
     "text": [
      "      7/200      1.09G      1.445       2.55      1.099          0        416: 100%|██████████| 11/11 [00:01<00:00, 10.59it/s]\n",
      "                 Class     Images  Instances      Box(P          R      mAP50  mAP50-95): 100%|██████████| 2/2 [00:00<00:00,  8.53it/s]"
     ]
    },
    {
     "name": "stdout",
     "output_type": "stream",
     "text": [
      "                   all         40        150      0.606      0.184       0.19      0.103\n"
     ]
    },
    {
     "name": "stderr",
     "output_type": "stream",
     "text": [
      "\n"
     ]
    },
    {
     "name": "stdout",
     "output_type": "stream",
     "text": [
      "\n",
      "      Epoch    GPU_mem   box_loss   cls_loss   dfl_loss  Instances       Size\n"
     ]
    },
    {
     "name": "stderr",
     "output_type": "stream",
     "text": [
      "      8/200       1.1G       1.53      2.122      1.185          3        416: 100%|██████████| 11/11 [00:01<00:00, 10.91it/s]\n",
      "                 Class     Images  Instances      Box(P          R      mAP50  mAP50-95): 100%|██████████| 2/2 [00:00<00:00,  8.27it/s]"
     ]
    },
    {
     "name": "stdout",
     "output_type": "stream",
     "text": [
      "                   all         40        150      0.397      0.217      0.193     0.0951\n"
     ]
    },
    {
     "name": "stderr",
     "output_type": "stream",
     "text": [
      "\n"
     ]
    },
    {
     "name": "stdout",
     "output_type": "stream",
     "text": [
      "\n",
      "      Epoch    GPU_mem   box_loss   cls_loss   dfl_loss  Instances       Size\n"
     ]
    },
    {
     "name": "stderr",
     "output_type": "stream",
     "text": [
      "      9/200      1.09G      1.516      1.978      1.187          4        416: 100%|██████████| 11/11 [00:01<00:00, 10.63it/s]\n",
      "                 Class     Images  Instances      Box(P          R      mAP50  mAP50-95): 100%|██████████| 2/2 [00:00<00:00,  8.85it/s]"
     ]
    },
    {
     "name": "stdout",
     "output_type": "stream",
     "text": [
      "                   all         40        150      0.374      0.239      0.209        0.1\n"
     ]
    },
    {
     "name": "stderr",
     "output_type": "stream",
     "text": [
      "\n"
     ]
    },
    {
     "name": "stdout",
     "output_type": "stream",
     "text": [
      "\n",
      "      Epoch    GPU_mem   box_loss   cls_loss   dfl_loss  Instances       Size\n"
     ]
    },
    {
     "name": "stderr",
     "output_type": "stream",
     "text": [
      "     10/200      1.09G      1.536      1.967      1.166          3        416: 100%|██████████| 11/11 [00:00<00:00, 11.24it/s]\n",
      "                 Class     Images  Instances      Box(P          R      mAP50  mAP50-95): 100%|██████████| 2/2 [00:00<00:00,  7.81it/s]"
     ]
    },
    {
     "name": "stdout",
     "output_type": "stream",
     "text": [
      "                   all         40        150      0.339      0.221      0.171     0.0838\n"
     ]
    },
    {
     "name": "stderr",
     "output_type": "stream",
     "text": [
      "\n"
     ]
    },
    {
     "name": "stdout",
     "output_type": "stream",
     "text": [
      "\n",
      "      Epoch    GPU_mem   box_loss   cls_loss   dfl_loss  Instances       Size\n"
     ]
    },
    {
     "name": "stderr",
     "output_type": "stream",
     "text": [
      "     11/200      1.08G      1.599      1.881      1.212         19        416: 100%|██████████| 11/11 [00:01<00:00, 10.55it/s]\n",
      "                 Class     Images  Instances      Box(P          R      mAP50  mAP50-95): 100%|██████████| 2/2 [00:00<00:00,  8.19it/s]"
     ]
    },
    {
     "name": "stdout",
     "output_type": "stream",
     "text": [
      "                   all         40        150      0.476      0.266      0.205      0.104\n"
     ]
    },
    {
     "name": "stderr",
     "output_type": "stream",
     "text": [
      "\n"
     ]
    },
    {
     "name": "stdout",
     "output_type": "stream",
     "text": [
      "\n",
      "      Epoch    GPU_mem   box_loss   cls_loss   dfl_loss  Instances       Size\n"
     ]
    },
    {
     "name": "stderr",
     "output_type": "stream",
     "text": [
      "     12/200      1.09G      1.391      2.417      1.083          0        416: 100%|██████████| 11/11 [00:01<00:00, 10.23it/s]\n",
      "                 Class     Images  Instances      Box(P          R      mAP50  mAP50-95): 100%|██████████| 2/2 [00:00<00:00,  7.49it/s]"
     ]
    },
    {
     "name": "stdout",
     "output_type": "stream",
     "text": [
      "                   all         40        150      0.377      0.222      0.167     0.0848\n"
     ]
    },
    {
     "name": "stderr",
     "output_type": "stream",
     "text": [
      "\n"
     ]
    },
    {
     "name": "stdout",
     "output_type": "stream",
     "text": [
      "\n",
      "      Epoch    GPU_mem   box_loss   cls_loss   dfl_loss  Instances       Size\n"
     ]
    },
    {
     "name": "stderr",
     "output_type": "stream",
     "text": [
      "     13/200      1.09G      1.499      1.818      1.189          5        416: 100%|██████████| 11/11 [00:00<00:00, 11.15it/s]\n",
      "                 Class     Images  Instances      Box(P          R      mAP50  mAP50-95): 100%|██████████| 2/2 [00:00<00:00,  8.31it/s]"
     ]
    },
    {
     "name": "stdout",
     "output_type": "stream",
     "text": [
      "                   all         40        150      0.384      0.255      0.177     0.0886\n"
     ]
    },
    {
     "name": "stderr",
     "output_type": "stream",
     "text": [
      "\n"
     ]
    },
    {
     "name": "stdout",
     "output_type": "stream",
     "text": [
      "\n",
      "      Epoch    GPU_mem   box_loss   cls_loss   dfl_loss  Instances       Size\n"
     ]
    },
    {
     "name": "stderr",
     "output_type": "stream",
     "text": [
      "     14/200      1.09G      1.525      1.763      1.177          8        416: 100%|██████████| 11/11 [00:01<00:00, 10.96it/s]\n",
      "                 Class     Images  Instances      Box(P          R      mAP50  mAP50-95): 100%|██████████| 2/2 [00:00<00:00,  7.96it/s]"
     ]
    },
    {
     "name": "stdout",
     "output_type": "stream",
     "text": [
      "                   all         40        150      0.449       0.25      0.225      0.116\n"
     ]
    },
    {
     "name": "stderr",
     "output_type": "stream",
     "text": [
      "\n"
     ]
    },
    {
     "name": "stdout",
     "output_type": "stream",
     "text": [
      "\n",
      "      Epoch    GPU_mem   box_loss   cls_loss   dfl_loss  Instances       Size\n"
     ]
    },
    {
     "name": "stderr",
     "output_type": "stream",
     "text": [
      "     15/200      1.08G      1.481      1.805      1.219          3        416: 100%|██████████| 11/11 [00:00<00:00, 11.11it/s]\n",
      "                 Class     Images  Instances      Box(P          R      mAP50  mAP50-95): 100%|██████████| 2/2 [00:00<00:00,  8.79it/s]"
     ]
    },
    {
     "name": "stdout",
     "output_type": "stream",
     "text": [
      "                   all         40        150      0.416      0.315      0.232      0.114\n"
     ]
    },
    {
     "name": "stderr",
     "output_type": "stream",
     "text": [
      "\n"
     ]
    },
    {
     "name": "stdout",
     "output_type": "stream",
     "text": [
      "\n",
      "      Epoch    GPU_mem   box_loss   cls_loss   dfl_loss  Instances       Size\n"
     ]
    },
    {
     "name": "stderr",
     "output_type": "stream",
     "text": [
      "     16/200      1.09G      1.456      1.705      1.183          2        416: 100%|██████████| 11/11 [00:01<00:00, 10.97it/s]\n",
      "                 Class     Images  Instances      Box(P          R      mAP50  mAP50-95): 100%|██████████| 2/2 [00:00<00:00,  8.54it/s]"
     ]
    },
    {
     "name": "stdout",
     "output_type": "stream",
     "text": [
      "                   all         40        150      0.661       0.27      0.224      0.118\n"
     ]
    },
    {
     "name": "stderr",
     "output_type": "stream",
     "text": [
      "\n"
     ]
    },
    {
     "name": "stdout",
     "output_type": "stream",
     "text": [
      "\n",
      "      Epoch    GPU_mem   box_loss   cls_loss   dfl_loss  Instances       Size\n"
     ]
    },
    {
     "name": "stderr",
     "output_type": "stream",
     "text": [
      "     17/200      1.09G      1.518        1.7      1.197          6        416: 100%|██████████| 11/11 [00:00<00:00, 11.12it/s]\n",
      "                 Class     Images  Instances      Box(P          R      mAP50  mAP50-95): 100%|██████████| 2/2 [00:00<00:00,  8.05it/s]"
     ]
    },
    {
     "name": "stdout",
     "output_type": "stream",
     "text": [
      "                   all         40        150      0.681      0.329      0.254      0.133\n"
     ]
    },
    {
     "name": "stderr",
     "output_type": "stream",
     "text": [
      "\n"
     ]
    },
    {
     "name": "stdout",
     "output_type": "stream",
     "text": [
      "\n",
      "      Epoch    GPU_mem   box_loss   cls_loss   dfl_loss  Instances       Size\n"
     ]
    },
    {
     "name": "stderr",
     "output_type": "stream",
     "text": [
      "     18/200      1.09G      1.483       1.77      1.193         17        416: 100%|██████████| 11/11 [00:01<00:00, 10.35it/s]\n",
      "                 Class     Images  Instances      Box(P          R      mAP50  mAP50-95): 100%|██████████| 2/2 [00:00<00:00,  8.72it/s]"
     ]
    },
    {
     "name": "stdout",
     "output_type": "stream",
     "text": [
      "                   all         40        150      0.452       0.31      0.267      0.137\n"
     ]
    },
    {
     "name": "stderr",
     "output_type": "stream",
     "text": [
      "\n"
     ]
    },
    {
     "name": "stdout",
     "output_type": "stream",
     "text": [
      "\n",
      "      Epoch    GPU_mem   box_loss   cls_loss   dfl_loss  Instances       Size\n"
     ]
    },
    {
     "name": "stderr",
     "output_type": "stream",
     "text": [
      "     19/200      1.12G      1.461      1.626      1.173         10        416: 100%|██████████| 11/11 [00:01<00:00, 10.49it/s]\n",
      "                 Class     Images  Instances      Box(P          R      mAP50  mAP50-95): 100%|██████████| 2/2 [00:00<00:00,  7.32it/s]"
     ]
    },
    {
     "name": "stdout",
     "output_type": "stream",
     "text": [
      "                   all         40        150      0.227      0.353      0.242      0.128\n"
     ]
    },
    {
     "name": "stderr",
     "output_type": "stream",
     "text": [
      "\n"
     ]
    },
    {
     "name": "stdout",
     "output_type": "stream",
     "text": [
      "\n",
      "      Epoch    GPU_mem   box_loss   cls_loss   dfl_loss  Instances       Size\n"
     ]
    },
    {
     "name": "stderr",
     "output_type": "stream",
     "text": [
      "     20/200      1.09G      1.475      1.604      1.174          6        416: 100%|██████████| 11/11 [00:01<00:00, 10.90it/s]\n",
      "                 Class     Images  Instances      Box(P          R      mAP50  mAP50-95): 100%|██████████| 2/2 [00:00<00:00,  8.62it/s]"
     ]
    },
    {
     "name": "stdout",
     "output_type": "stream",
     "text": [
      "                   all         40        150      0.419      0.298      0.244      0.133\n"
     ]
    },
    {
     "name": "stderr",
     "output_type": "stream",
     "text": [
      "\n"
     ]
    },
    {
     "name": "stdout",
     "output_type": "stream",
     "text": [
      "\n",
      "      Epoch    GPU_mem   box_loss   cls_loss   dfl_loss  Instances       Size\n"
     ]
    },
    {
     "name": "stderr",
     "output_type": "stream",
     "text": [
      "     21/200      1.09G      1.489      1.612      1.188          5        416: 100%|██████████| 11/11 [00:01<00:00, 10.87it/s]\n",
      "                 Class     Images  Instances      Box(P          R      mAP50  mAP50-95): 100%|██████████| 2/2 [00:00<00:00,  8.38it/s]"
     ]
    },
    {
     "name": "stdout",
     "output_type": "stream",
     "text": [
      "                   all         40        150      0.415      0.331      0.236      0.131\n"
     ]
    },
    {
     "name": "stderr",
     "output_type": "stream",
     "text": [
      "\n"
     ]
    },
    {
     "name": "stdout",
     "output_type": "stream",
     "text": [
      "\n",
      "      Epoch    GPU_mem   box_loss   cls_loss   dfl_loss  Instances       Size\n"
     ]
    },
    {
     "name": "stderr",
     "output_type": "stream",
     "text": [
      "     22/200      1.11G      1.512      1.578      1.175          6        416: 100%|██████████| 11/11 [00:01<00:00, 10.38it/s]\n",
      "                 Class     Images  Instances      Box(P          R      mAP50  mAP50-95): 100%|██████████| 2/2 [00:00<00:00,  8.71it/s]"
     ]
    },
    {
     "name": "stdout",
     "output_type": "stream",
     "text": [
      "                   all         40        150      0.564      0.248      0.217      0.121\n"
     ]
    },
    {
     "name": "stderr",
     "output_type": "stream",
     "text": [
      "\n"
     ]
    },
    {
     "name": "stdout",
     "output_type": "stream",
     "text": [
      "\n",
      "      Epoch    GPU_mem   box_loss   cls_loss   dfl_loss  Instances       Size\n"
     ]
    },
    {
     "name": "stderr",
     "output_type": "stream",
     "text": [
      "     23/200      1.09G      1.484      1.525      1.188          3        416: 100%|██████████| 11/11 [00:01<00:00, 10.59it/s]\n",
      "                 Class     Images  Instances      Box(P          R      mAP50  mAP50-95): 100%|██████████| 2/2 [00:00<00:00,  8.42it/s]"
     ]
    },
    {
     "name": "stdout",
     "output_type": "stream",
     "text": [
      "                   all         40        150      0.436      0.276      0.265      0.142\n"
     ]
    },
    {
     "name": "stderr",
     "output_type": "stream",
     "text": [
      "\n"
     ]
    },
    {
     "name": "stdout",
     "output_type": "stream",
     "text": [
      "\n",
      "      Epoch    GPU_mem   box_loss   cls_loss   dfl_loss  Instances       Size\n"
     ]
    },
    {
     "name": "stderr",
     "output_type": "stream",
     "text": [
      "     24/200       1.1G      1.441      1.541      1.164          7        416: 100%|██████████| 11/11 [00:01<00:00, 10.68it/s]\n",
      "                 Class     Images  Instances      Box(P          R      mAP50  mAP50-95): 100%|██████████| 2/2 [00:00<00:00,  8.31it/s]"
     ]
    },
    {
     "name": "stdout",
     "output_type": "stream",
     "text": [
      "                   all         40        150      0.264       0.36      0.293      0.159\n"
     ]
    },
    {
     "name": "stderr",
     "output_type": "stream",
     "text": [
      "\n"
     ]
    },
    {
     "name": "stdout",
     "output_type": "stream",
     "text": [
      "\n",
      "      Epoch    GPU_mem   box_loss   cls_loss   dfl_loss  Instances       Size\n"
     ]
    },
    {
     "name": "stderr",
     "output_type": "stream",
     "text": [
      "     25/200      1.09G      1.427      1.619      1.159          5        416: 100%|██████████| 11/11 [00:01<00:00, 10.78it/s]\n",
      "                 Class     Images  Instances      Box(P          R      mAP50  mAP50-95): 100%|██████████| 2/2 [00:00<00:00,  8.57it/s]"
     ]
    },
    {
     "name": "stdout",
     "output_type": "stream",
     "text": [
      "                   all         40        150      0.245      0.269      0.259      0.129\n"
     ]
    },
    {
     "name": "stderr",
     "output_type": "stream",
     "text": [
      "\n"
     ]
    },
    {
     "name": "stdout",
     "output_type": "stream",
     "text": [
      "\n",
      "      Epoch    GPU_mem   box_loss   cls_loss   dfl_loss  Instances       Size\n"
     ]
    },
    {
     "name": "stderr",
     "output_type": "stream",
     "text": [
      "     26/200       1.1G      1.384      1.485      1.144          4        416: 100%|██████████| 11/11 [00:01<00:00, 10.42it/s]\n",
      "                 Class     Images  Instances      Box(P          R      mAP50  mAP50-95): 100%|██████████| 2/2 [00:00<00:00,  7.98it/s]"
     ]
    },
    {
     "name": "stdout",
     "output_type": "stream",
     "text": [
      "                   all         40        150      0.267       0.34       0.28      0.136\n"
     ]
    },
    {
     "name": "stderr",
     "output_type": "stream",
     "text": [
      "\n"
     ]
    },
    {
     "name": "stdout",
     "output_type": "stream",
     "text": [
      "\n",
      "      Epoch    GPU_mem   box_loss   cls_loss   dfl_loss  Instances       Size\n"
     ]
    },
    {
     "name": "stderr",
     "output_type": "stream",
     "text": [
      "     27/200      1.08G      1.354      1.443       1.12          6        416: 100%|██████████| 11/11 [00:01<00:00, 10.81it/s]\n",
      "                 Class     Images  Instances      Box(P          R      mAP50  mAP50-95): 100%|██████████| 2/2 [00:00<00:00,  7.71it/s]"
     ]
    },
    {
     "name": "stdout",
     "output_type": "stream",
     "text": [
      "                   all         40        150      0.285      0.521      0.303      0.154\n"
     ]
    },
    {
     "name": "stderr",
     "output_type": "stream",
     "text": [
      "\n"
     ]
    },
    {
     "name": "stdout",
     "output_type": "stream",
     "text": [
      "\n",
      "      Epoch    GPU_mem   box_loss   cls_loss   dfl_loss  Instances       Size\n"
     ]
    },
    {
     "name": "stderr",
     "output_type": "stream",
     "text": [
      "     28/200       1.1G      1.383       1.45      1.143          2        416: 100%|██████████| 11/11 [00:01<00:00, 10.86it/s]\n",
      "                 Class     Images  Instances      Box(P          R      mAP50  mAP50-95): 100%|██████████| 2/2 [00:00<00:00,  8.01it/s]"
     ]
    },
    {
     "name": "stdout",
     "output_type": "stream",
     "text": [
      "                   all         40        150      0.388      0.327      0.317      0.172\n"
     ]
    },
    {
     "name": "stderr",
     "output_type": "stream",
     "text": [
      "\n"
     ]
    },
    {
     "name": "stdout",
     "output_type": "stream",
     "text": [
      "\n",
      "      Epoch    GPU_mem   box_loss   cls_loss   dfl_loss  Instances       Size\n"
     ]
    },
    {
     "name": "stderr",
     "output_type": "stream",
     "text": [
      "     29/200      1.09G      1.419       1.52      1.148         27        416: 100%|██████████| 11/11 [00:01<00:00, 10.74it/s]\n",
      "                 Class     Images  Instances      Box(P          R      mAP50  mAP50-95): 100%|██████████| 2/2 [00:00<00:00,  8.67it/s]"
     ]
    },
    {
     "name": "stdout",
     "output_type": "stream",
     "text": [
      "                   all         40        150      0.273       0.29      0.281      0.155\n"
     ]
    },
    {
     "name": "stderr",
     "output_type": "stream",
     "text": [
      "\n"
     ]
    },
    {
     "name": "stdout",
     "output_type": "stream",
     "text": [
      "\n",
      "      Epoch    GPU_mem   box_loss   cls_loss   dfl_loss  Instances       Size\n"
     ]
    },
    {
     "name": "stderr",
     "output_type": "stream",
     "text": [
      "     30/200      1.09G      1.381      1.414      1.125          1        416: 100%|██████████| 11/11 [00:01<00:00, 10.77it/s]\n",
      "                 Class     Images  Instances      Box(P          R      mAP50  mAP50-95): 100%|██████████| 2/2 [00:00<00:00,  8.94it/s]"
     ]
    },
    {
     "name": "stdout",
     "output_type": "stream",
     "text": [
      "                   all         40        150      0.449      0.263       0.32      0.165\n"
     ]
    },
    {
     "name": "stderr",
     "output_type": "stream",
     "text": [
      "\n"
     ]
    },
    {
     "name": "stdout",
     "output_type": "stream",
     "text": [
      "\n",
      "      Epoch    GPU_mem   box_loss   cls_loss   dfl_loss  Instances       Size\n"
     ]
    },
    {
     "name": "stderr",
     "output_type": "stream",
     "text": [
      "     31/200      1.08G      1.458      1.507      1.189          3        416: 100%|██████████| 11/11 [00:01<00:00, 10.95it/s]\n",
      "                 Class     Images  Instances      Box(P          R      mAP50  mAP50-95): 100%|██████████| 2/2 [00:00<00:00,  8.59it/s]"
     ]
    },
    {
     "name": "stdout",
     "output_type": "stream",
     "text": [
      "                   all         40        150      0.294      0.262      0.206      0.101\n"
     ]
    },
    {
     "name": "stderr",
     "output_type": "stream",
     "text": [
      "\n"
     ]
    },
    {
     "name": "stdout",
     "output_type": "stream",
     "text": [
      "\n",
      "      Epoch    GPU_mem   box_loss   cls_loss   dfl_loss  Instances       Size\n"
     ]
    },
    {
     "name": "stderr",
     "output_type": "stream",
     "text": [
      "     32/200      1.09G      1.394      1.388      1.143          5        416: 100%|██████████| 11/11 [00:00<00:00, 11.30it/s]\n",
      "                 Class     Images  Instances      Box(P          R      mAP50  mAP50-95): 100%|██████████| 2/2 [00:00<00:00,  8.49it/s]"
     ]
    },
    {
     "name": "stdout",
     "output_type": "stream",
     "text": [
      "                   all         40        150      0.238      0.331      0.271      0.136\n"
     ]
    },
    {
     "name": "stderr",
     "output_type": "stream",
     "text": [
      "\n"
     ]
    },
    {
     "name": "stdout",
     "output_type": "stream",
     "text": [
      "\n",
      "      Epoch    GPU_mem   box_loss   cls_loss   dfl_loss  Instances       Size\n"
     ]
    },
    {
     "name": "stderr",
     "output_type": "stream",
     "text": [
      "     33/200      1.09G      1.247      1.944      1.045          0        416: 100%|██████████| 11/11 [00:01<00:00, 10.66it/s]\n",
      "                 Class     Images  Instances      Box(P          R      mAP50  mAP50-95): 100%|██████████| 2/2 [00:00<00:00,  7.77it/s]"
     ]
    },
    {
     "name": "stdout",
     "output_type": "stream",
     "text": [
      "                   all         40        150      0.216      0.353      0.284       0.15\n"
     ]
    },
    {
     "name": "stderr",
     "output_type": "stream",
     "text": [
      "\n"
     ]
    },
    {
     "name": "stdout",
     "output_type": "stream",
     "text": [
      "\n",
      "      Epoch    GPU_mem   box_loss   cls_loss   dfl_loss  Instances       Size\n"
     ]
    },
    {
     "name": "stderr",
     "output_type": "stream",
     "text": [
      "     34/200      1.09G      1.394      1.328      1.129          5        416: 100%|██████████| 11/11 [00:01<00:00,  9.94it/s]\n",
      "                 Class     Images  Instances      Box(P          R      mAP50  mAP50-95): 100%|██████████| 2/2 [00:00<00:00,  8.64it/s]"
     ]
    },
    {
     "name": "stdout",
     "output_type": "stream",
     "text": [
      "                   all         40        150      0.195      0.596      0.282      0.143\n"
     ]
    },
    {
     "name": "stderr",
     "output_type": "stream",
     "text": [
      "\n"
     ]
    },
    {
     "name": "stdout",
     "output_type": "stream",
     "text": [
      "\n",
      "      Epoch    GPU_mem   box_loss   cls_loss   dfl_loss  Instances       Size\n"
     ]
    },
    {
     "name": "stderr",
     "output_type": "stream",
     "text": [
      "     35/200      1.09G      1.433      1.304      1.139         12        416: 100%|██████████| 11/11 [00:01<00:00, 10.94it/s]\n",
      "                 Class     Images  Instances      Box(P          R      mAP50  mAP50-95): 100%|██████████| 2/2 [00:00<00:00,  8.87it/s]"
     ]
    },
    {
     "name": "stdout",
     "output_type": "stream",
     "text": [
      "                   all         40        150      0.239      0.502      0.285      0.141\n"
     ]
    },
    {
     "name": "stderr",
     "output_type": "stream",
     "text": [
      "\n"
     ]
    },
    {
     "name": "stdout",
     "output_type": "stream",
     "text": [
      "\n",
      "      Epoch    GPU_mem   box_loss   cls_loss   dfl_loss  Instances       Size\n"
     ]
    },
    {
     "name": "stderr",
     "output_type": "stream",
     "text": [
      "     36/200       1.1G      1.334      1.299      1.114         15        416: 100%|██████████| 11/11 [00:00<00:00, 11.07it/s]\n",
      "                 Class     Images  Instances      Box(P          R      mAP50  mAP50-95): 100%|██████████| 2/2 [00:00<00:00,  9.37it/s]"
     ]
    },
    {
     "name": "stdout",
     "output_type": "stream",
     "text": [
      "                   all         40        150      0.245      0.336      0.277      0.154\n"
     ]
    },
    {
     "name": "stderr",
     "output_type": "stream",
     "text": [
      "\n"
     ]
    },
    {
     "name": "stdout",
     "output_type": "stream",
     "text": [
      "\n",
      "      Epoch    GPU_mem   box_loss   cls_loss   dfl_loss  Instances       Size\n"
     ]
    },
    {
     "name": "stderr",
     "output_type": "stream",
     "text": [
      "     37/200      1.09G      1.257      1.822      1.027          0        416: 100%|██████████| 11/11 [00:01<00:00, 10.93it/s]\n",
      "                 Class     Images  Instances      Box(P          R      mAP50  mAP50-95): 100%|██████████| 2/2 [00:00<00:00,  9.42it/s]"
     ]
    },
    {
     "name": "stdout",
     "output_type": "stream",
     "text": [
      "                   all         40        150      0.224      0.267      0.256      0.133\n"
     ]
    },
    {
     "name": "stderr",
     "output_type": "stream",
     "text": [
      "\n"
     ]
    },
    {
     "name": "stdout",
     "output_type": "stream",
     "text": [
      "\n",
      "      Epoch    GPU_mem   box_loss   cls_loss   dfl_loss  Instances       Size\n"
     ]
    },
    {
     "name": "stderr",
     "output_type": "stream",
     "text": [
      "     38/200      1.09G      1.296      1.523      1.114          1        416: 100%|██████████| 11/11 [00:01<00:00, 10.86it/s]\n",
      "                 Class     Images  Instances      Box(P          R      mAP50  mAP50-95): 100%|██████████| 2/2 [00:00<00:00,  8.89it/s]"
     ]
    },
    {
     "name": "stdout",
     "output_type": "stream",
     "text": [
      "                   all         40        150      0.195      0.292      0.261      0.137\n"
     ]
    },
    {
     "name": "stderr",
     "output_type": "stream",
     "text": [
      "\n"
     ]
    },
    {
     "name": "stdout",
     "output_type": "stream",
     "text": [
      "\n",
      "      Epoch    GPU_mem   box_loss   cls_loss   dfl_loss  Instances       Size\n"
     ]
    },
    {
     "name": "stderr",
     "output_type": "stream",
     "text": [
      "     39/200      1.08G      1.178      1.709       1.02          0        416: 100%|██████████| 11/11 [00:01<00:00, 10.46it/s]\n",
      "                 Class     Images  Instances      Box(P          R      mAP50  mAP50-95): 100%|██████████| 2/2 [00:00<00:00,  8.39it/s]"
     ]
    },
    {
     "name": "stdout",
     "output_type": "stream",
     "text": [
      "                   all         40        150      0.321      0.634      0.346      0.187\n"
     ]
    },
    {
     "name": "stderr",
     "output_type": "stream",
     "text": [
      "\n"
     ]
    },
    {
     "name": "stdout",
     "output_type": "stream",
     "text": [
      "\n",
      "      Epoch    GPU_mem   box_loss   cls_loss   dfl_loss  Instances       Size\n"
     ]
    },
    {
     "name": "stderr",
     "output_type": "stream",
     "text": [
      "     40/200       1.1G      1.258      1.357      1.125          3        416: 100%|██████████| 11/11 [00:01<00:00, 10.50it/s]\n",
      "                 Class     Images  Instances      Box(P          R      mAP50  mAP50-95): 100%|██████████| 2/2 [00:00<00:00,  8.79it/s]"
     ]
    },
    {
     "name": "stdout",
     "output_type": "stream",
     "text": [
      "                   all         40        150      0.334      0.537      0.371      0.187\n"
     ]
    },
    {
     "name": "stderr",
     "output_type": "stream",
     "text": [
      "\n"
     ]
    },
    {
     "name": "stdout",
     "output_type": "stream",
     "text": [
      "\n",
      "      Epoch    GPU_mem   box_loss   cls_loss   dfl_loss  Instances       Size\n"
     ]
    },
    {
     "name": "stderr",
     "output_type": "stream",
     "text": [
      "     41/200      1.11G      1.298      1.256      1.072         12        416: 100%|██████████| 11/11 [00:01<00:00, 10.79it/s]\n",
      "                 Class     Images  Instances      Box(P          R      mAP50  mAP50-95): 100%|██████████| 2/2 [00:00<00:00,  8.31it/s]"
     ]
    },
    {
     "name": "stdout",
     "output_type": "stream",
     "text": [
      "                   all         40        150      0.357      0.508      0.398      0.201\n"
     ]
    },
    {
     "name": "stderr",
     "output_type": "stream",
     "text": [
      "\n"
     ]
    },
    {
     "name": "stdout",
     "output_type": "stream",
     "text": [
      "\n",
      "      Epoch    GPU_mem   box_loss   cls_loss   dfl_loss  Instances       Size\n"
     ]
    },
    {
     "name": "stderr",
     "output_type": "stream",
     "text": [
      "     42/200      1.09G      1.287      1.254      1.078         11        416: 100%|██████████| 11/11 [00:01<00:00, 10.80it/s]\n",
      "                 Class     Images  Instances      Box(P          R      mAP50  mAP50-95): 100%|██████████| 2/2 [00:00<00:00,  9.24it/s]"
     ]
    },
    {
     "name": "stdout",
     "output_type": "stream",
     "text": [
      "                   all         40        150      0.346      0.431      0.363      0.194\n"
     ]
    },
    {
     "name": "stderr",
     "output_type": "stream",
     "text": [
      "\n"
     ]
    },
    {
     "name": "stdout",
     "output_type": "stream",
     "text": [
      "\n",
      "      Epoch    GPU_mem   box_loss   cls_loss   dfl_loss  Instances       Size\n"
     ]
    },
    {
     "name": "stderr",
     "output_type": "stream",
     "text": [
      "     43/200      1.08G      1.339      1.263      1.152          7        416: 100%|██████████| 11/11 [00:01<00:00, 10.68it/s]\n",
      "                 Class     Images  Instances      Box(P          R      mAP50  mAP50-95): 100%|██████████| 2/2 [00:00<00:00,  8.70it/s]"
     ]
    },
    {
     "name": "stdout",
     "output_type": "stream",
     "text": [
      "                   all         40        150      0.364      0.308       0.34      0.177\n"
     ]
    },
    {
     "name": "stderr",
     "output_type": "stream",
     "text": [
      "\n"
     ]
    },
    {
     "name": "stdout",
     "output_type": "stream",
     "text": [
      "\n",
      "      Epoch    GPU_mem   box_loss   cls_loss   dfl_loss  Instances       Size\n"
     ]
    },
    {
     "name": "stderr",
     "output_type": "stream",
     "text": [
      "     44/200       1.1G      1.249      1.366      1.108          2        416: 100%|██████████| 11/11 [00:01<00:00, 10.69it/s]\n",
      "                 Class     Images  Instances      Box(P          R      mAP50  mAP50-95): 100%|██████████| 2/2 [00:00<00:00, 10.05it/s]"
     ]
    },
    {
     "name": "stdout",
     "output_type": "stream",
     "text": [
      "                   all         40        150      0.245       0.34      0.279      0.148\n"
     ]
    },
    {
     "name": "stderr",
     "output_type": "stream",
     "text": [
      "\n"
     ]
    },
    {
     "name": "stdout",
     "output_type": "stream",
     "text": [
      "\n",
      "      Epoch    GPU_mem   box_loss   cls_loss   dfl_loss  Instances       Size\n"
     ]
    },
    {
     "name": "stderr",
     "output_type": "stream",
     "text": [
      "     45/200       1.1G       1.33      1.208      1.149          8        416: 100%|██████████| 11/11 [00:01<00:00, 10.65it/s]\n",
      "                 Class     Images  Instances      Box(P          R      mAP50  mAP50-95): 100%|██████████| 2/2 [00:00<00:00,  9.28it/s]"
     ]
    },
    {
     "name": "stdout",
     "output_type": "stream",
     "text": [
      "                   all         40        150      0.284      0.313      0.285      0.156\n"
     ]
    },
    {
     "name": "stderr",
     "output_type": "stream",
     "text": [
      "\n"
     ]
    },
    {
     "name": "stdout",
     "output_type": "stream",
     "text": [
      "\n",
      "      Epoch    GPU_mem   box_loss   cls_loss   dfl_loss  Instances       Size\n"
     ]
    },
    {
     "name": "stderr",
     "output_type": "stream",
     "text": [
      "     46/200      1.09G      1.204      1.706      1.025          0        416: 100%|██████████| 11/11 [00:01<00:00, 10.83it/s]\n",
      "                 Class     Images  Instances      Box(P          R      mAP50  mAP50-95): 100%|██████████| 2/2 [00:00<00:00,  9.42it/s]"
     ]
    },
    {
     "name": "stdout",
     "output_type": "stream",
     "text": [
      "                   all         40        150      0.543      0.282      0.319      0.176\n"
     ]
    },
    {
     "name": "stderr",
     "output_type": "stream",
     "text": [
      "\n"
     ]
    },
    {
     "name": "stdout",
     "output_type": "stream",
     "text": [
      "\n",
      "      Epoch    GPU_mem   box_loss   cls_loss   dfl_loss  Instances       Size\n"
     ]
    },
    {
     "name": "stderr",
     "output_type": "stream",
     "text": [
      "     47/200      1.09G      1.354      1.212      1.162          1        416: 100%|██████████| 11/11 [00:01<00:00, 10.35it/s]\n",
      "                 Class     Images  Instances      Box(P          R      mAP50  mAP50-95): 100%|██████████| 2/2 [00:00<00:00,  8.90it/s]"
     ]
    },
    {
     "name": "stdout",
     "output_type": "stream",
     "text": [
      "                   all         40        150      0.277      0.378      0.325      0.177\n"
     ]
    },
    {
     "name": "stderr",
     "output_type": "stream",
     "text": [
      "\n"
     ]
    },
    {
     "name": "stdout",
     "output_type": "stream",
     "text": [
      "\n",
      "      Epoch    GPU_mem   box_loss   cls_loss   dfl_loss  Instances       Size\n"
     ]
    },
    {
     "name": "stderr",
     "output_type": "stream",
     "text": [
      "     48/200      1.09G      1.295      1.235      1.121         12        416: 100%|██████████| 11/11 [00:01<00:00, 10.35it/s]\n",
      "                 Class     Images  Instances      Box(P          R      mAP50  mAP50-95): 100%|██████████| 2/2 [00:00<00:00,  8.99it/s]"
     ]
    },
    {
     "name": "stdout",
     "output_type": "stream",
     "text": [
      "                   all         40        150      0.306      0.306      0.296      0.157\n"
     ]
    },
    {
     "name": "stderr",
     "output_type": "stream",
     "text": [
      "\n"
     ]
    },
    {
     "name": "stdout",
     "output_type": "stream",
     "text": [
      "\n",
      "      Epoch    GPU_mem   box_loss   cls_loss   dfl_loss  Instances       Size\n"
     ]
    },
    {
     "name": "stderr",
     "output_type": "stream",
     "text": [
      "     49/200       1.1G      1.247      1.171      1.093          1        416: 100%|██████████| 11/11 [00:01<00:00, 10.72it/s]\n",
      "                 Class     Images  Instances      Box(P          R      mAP50  mAP50-95): 100%|██████████| 2/2 [00:00<00:00,  8.74it/s]"
     ]
    },
    {
     "name": "stdout",
     "output_type": "stream",
     "text": [
      "                   all         40        150      0.297      0.269      0.287      0.152\n"
     ]
    },
    {
     "name": "stderr",
     "output_type": "stream",
     "text": [
      "\n"
     ]
    },
    {
     "name": "stdout",
     "output_type": "stream",
     "text": [
      "\n",
      "      Epoch    GPU_mem   box_loss   cls_loss   dfl_loss  Instances       Size\n"
     ]
    },
    {
     "name": "stderr",
     "output_type": "stream",
     "text": [
      "     50/200       1.1G      1.335      1.181       1.13          6        416: 100%|██████████| 11/11 [00:01<00:00, 10.95it/s]\n",
      "                 Class     Images  Instances      Box(P          R      mAP50  mAP50-95): 100%|██████████| 2/2 [00:00<00:00,  8.82it/s]"
     ]
    },
    {
     "name": "stdout",
     "output_type": "stream",
     "text": [
      "                   all         40        150      0.252      0.377       0.29      0.157\n"
     ]
    },
    {
     "name": "stderr",
     "output_type": "stream",
     "text": [
      "\n"
     ]
    },
    {
     "name": "stdout",
     "output_type": "stream",
     "text": [
      "\n",
      "      Epoch    GPU_mem   box_loss   cls_loss   dfl_loss  Instances       Size\n"
     ]
    },
    {
     "name": "stderr",
     "output_type": "stream",
     "text": [
      "     51/200      1.08G      1.187      1.906      1.013          0        416: 100%|██████████| 11/11 [00:00<00:00, 11.04it/s]\n",
      "                 Class     Images  Instances      Box(P          R      mAP50  mAP50-95): 100%|██████████| 2/2 [00:00<00:00,  8.64it/s]"
     ]
    },
    {
     "name": "stdout",
     "output_type": "stream",
     "text": [
      "                   all         40        150      0.456      0.383      0.304      0.169\n"
     ]
    },
    {
     "name": "stderr",
     "output_type": "stream",
     "text": [
      "\n"
     ]
    },
    {
     "name": "stdout",
     "output_type": "stream",
     "text": [
      "\n",
      "      Epoch    GPU_mem   box_loss   cls_loss   dfl_loss  Instances       Size\n"
     ]
    },
    {
     "name": "stderr",
     "output_type": "stream",
     "text": [
      "     52/200      1.09G      1.335      1.267      1.123          3        416: 100%|██████████| 11/11 [00:01<00:00, 10.47it/s]\n",
      "                 Class     Images  Instances      Box(P          R      mAP50  mAP50-95): 100%|██████████| 2/2 [00:00<00:00,  8.42it/s]"
     ]
    },
    {
     "name": "stdout",
     "output_type": "stream",
     "text": [
      "                   all         40        150      0.315      0.369      0.333      0.181\n"
     ]
    },
    {
     "name": "stderr",
     "output_type": "stream",
     "text": [
      "\n"
     ]
    },
    {
     "name": "stdout",
     "output_type": "stream",
     "text": [
      "\n",
      "      Epoch    GPU_mem   box_loss   cls_loss   dfl_loss  Instances       Size\n"
     ]
    },
    {
     "name": "stderr",
     "output_type": "stream",
     "text": [
      "     53/200      1.09G      1.166      1.085       1.09          3        416: 100%|██████████| 11/11 [00:00<00:00, 11.10it/s]\n",
      "                 Class     Images  Instances      Box(P          R      mAP50  mAP50-95): 100%|██████████| 2/2 [00:00<00:00,  8.62it/s]"
     ]
    },
    {
     "name": "stdout",
     "output_type": "stream",
     "text": [
      "                   all         40        150      0.297       0.41      0.344      0.183\n"
     ]
    },
    {
     "name": "stderr",
     "output_type": "stream",
     "text": [
      "\n"
     ]
    },
    {
     "name": "stdout",
     "output_type": "stream",
     "text": [
      "\n",
      "      Epoch    GPU_mem   box_loss   cls_loss   dfl_loss  Instances       Size\n"
     ]
    },
    {
     "name": "stderr",
     "output_type": "stream",
     "text": [
      "     54/200      1.09G      1.213      1.117      1.075          2        416: 100%|██████████| 11/11 [00:01<00:00, 10.86it/s]\n",
      "                 Class     Images  Instances      Box(P          R      mAP50  mAP50-95): 100%|██████████| 2/2 [00:00<00:00,  9.42it/s]"
     ]
    },
    {
     "name": "stdout",
     "output_type": "stream",
     "text": [
      "                   all         40        150      0.289       0.37      0.324      0.175\n"
     ]
    },
    {
     "name": "stderr",
     "output_type": "stream",
     "text": [
      "\n"
     ]
    },
    {
     "name": "stdout",
     "output_type": "stream",
     "text": [
      "\n",
      "      Epoch    GPU_mem   box_loss   cls_loss   dfl_loss  Instances       Size\n"
     ]
    },
    {
     "name": "stderr",
     "output_type": "stream",
     "text": [
      "     55/200      1.08G      1.288      1.142      1.101          6        416: 100%|██████████| 11/11 [00:01<00:00, 10.65it/s]\n",
      "                 Class     Images  Instances      Box(P          R      mAP50  mAP50-95): 100%|██████████| 2/2 [00:00<00:00,  8.29it/s]"
     ]
    },
    {
     "name": "stdout",
     "output_type": "stream",
     "text": [
      "                   all         40        150        0.3       0.31      0.293      0.159\n"
     ]
    },
    {
     "name": "stderr",
     "output_type": "stream",
     "text": [
      "\n"
     ]
    },
    {
     "name": "stdout",
     "output_type": "stream",
     "text": [
      "\n",
      "      Epoch    GPU_mem   box_loss   cls_loss   dfl_loss  Instances       Size\n"
     ]
    },
    {
     "name": "stderr",
     "output_type": "stream",
     "text": [
      "     56/200      1.09G      1.267      1.208      1.132          3        416: 100%|██████████| 11/11 [00:01<00:00, 10.10it/s]\n",
      "                 Class     Images  Instances      Box(P          R      mAP50  mAP50-95): 100%|██████████| 2/2 [00:00<00:00,  8.35it/s]"
     ]
    },
    {
     "name": "stdout",
     "output_type": "stream",
     "text": [
      "                   all         40        150      0.331      0.398      0.323      0.181\n"
     ]
    },
    {
     "name": "stderr",
     "output_type": "stream",
     "text": [
      "\n"
     ]
    },
    {
     "name": "stdout",
     "output_type": "stream",
     "text": [
      "\n",
      "      Epoch    GPU_mem   box_loss   cls_loss   dfl_loss  Instances       Size\n"
     ]
    },
    {
     "name": "stderr",
     "output_type": "stream",
     "text": [
      "     57/200      1.09G       1.28      1.232       1.09          2        416: 100%|██████████| 11/11 [00:00<00:00, 11.27it/s]\n",
      "                 Class     Images  Instances      Box(P          R      mAP50  mAP50-95): 100%|██████████| 2/2 [00:00<00:00,  9.48it/s]"
     ]
    },
    {
     "name": "stdout",
     "output_type": "stream",
     "text": [
      "                   all         40        150       0.29      0.323      0.318      0.169\n"
     ]
    },
    {
     "name": "stderr",
     "output_type": "stream",
     "text": [
      "\n"
     ]
    },
    {
     "name": "stdout",
     "output_type": "stream",
     "text": [
      "\n",
      "      Epoch    GPU_mem   box_loss   cls_loss   dfl_loss  Instances       Size\n"
     ]
    },
    {
     "name": "stderr",
     "output_type": "stream",
     "text": [
      "     58/200       1.1G      1.254      1.077      1.075          5        416: 100%|██████████| 11/11 [00:01<00:00, 10.75it/s]\n",
      "                 Class     Images  Instances      Box(P          R      mAP50  mAP50-95): 100%|██████████| 2/2 [00:00<00:00,  8.53it/s]"
     ]
    },
    {
     "name": "stdout",
     "output_type": "stream",
     "text": [
      "                   all         40        150      0.363      0.277      0.314      0.164\n"
     ]
    },
    {
     "name": "stderr",
     "output_type": "stream",
     "text": [
      "\n"
     ]
    },
    {
     "name": "stdout",
     "output_type": "stream",
     "text": [
      "\n",
      "      Epoch    GPU_mem   box_loss   cls_loss   dfl_loss  Instances       Size\n"
     ]
    },
    {
     "name": "stderr",
     "output_type": "stream",
     "text": [
      "     59/200      1.08G      1.207      1.091       1.07          4        416: 100%|██████████| 11/11 [00:01<00:00, 10.99it/s]\n",
      "                 Class     Images  Instances      Box(P          R      mAP50  mAP50-95): 100%|██████████| 2/2 [00:00<00:00,  8.58it/s]"
     ]
    },
    {
     "name": "stdout",
     "output_type": "stream",
     "text": [
      "                   all         40        150      0.286       0.35      0.325      0.175\n"
     ]
    },
    {
     "name": "stderr",
     "output_type": "stream",
     "text": [
      "\n"
     ]
    },
    {
     "name": "stdout",
     "output_type": "stream",
     "text": [
      "\n",
      "      Epoch    GPU_mem   box_loss   cls_loss   dfl_loss  Instances       Size\n"
     ]
    },
    {
     "name": "stderr",
     "output_type": "stream",
     "text": [
      "     60/200      1.09G      1.255      1.223      1.102         11        416: 100%|██████████| 11/11 [00:01<00:00, 10.86it/s]\n",
      "                 Class     Images  Instances      Box(P          R      mAP50  mAP50-95): 100%|██████████| 2/2 [00:00<00:00,  9.02it/s]"
     ]
    },
    {
     "name": "stdout",
     "output_type": "stream",
     "text": [
      "                   all         40        150      0.525      0.286      0.316      0.182\n"
     ]
    },
    {
     "name": "stderr",
     "output_type": "stream",
     "text": [
      "\n"
     ]
    },
    {
     "name": "stdout",
     "output_type": "stream",
     "text": [
      "\n",
      "      Epoch    GPU_mem   box_loss   cls_loss   dfl_loss  Instances       Size\n"
     ]
    },
    {
     "name": "stderr",
     "output_type": "stream",
     "text": [
      "     61/200       1.1G       1.27      1.166        1.1          7        416: 100%|██████████| 11/11 [00:00<00:00, 11.01it/s]\n",
      "                 Class     Images  Instances      Box(P          R      mAP50  mAP50-95): 100%|██████████| 2/2 [00:00<00:00,  9.05it/s]"
     ]
    },
    {
     "name": "stdout",
     "output_type": "stream",
     "text": [
      "                   all         40        150      0.317      0.302      0.305      0.173\n"
     ]
    },
    {
     "name": "stderr",
     "output_type": "stream",
     "text": [
      "\n"
     ]
    },
    {
     "name": "stdout",
     "output_type": "stream",
     "text": [
      "\n",
      "      Epoch    GPU_mem   box_loss   cls_loss   dfl_loss  Instances       Size\n"
     ]
    },
    {
     "name": "stderr",
     "output_type": "stream",
     "text": [
      "     62/200       1.1G      1.188      1.088      1.058         12        416: 100%|██████████| 11/11 [00:01<00:00, 10.77it/s]\n",
      "                 Class     Images  Instances      Box(P          R      mAP50  mAP50-95): 100%|██████████| 2/2 [00:00<00:00,  9.17it/s]"
     ]
    },
    {
     "name": "stdout",
     "output_type": "stream",
     "text": [
      "                   all         40        150      0.352      0.328      0.303       0.17\n"
     ]
    },
    {
     "name": "stderr",
     "output_type": "stream",
     "text": [
      "\n"
     ]
    },
    {
     "name": "stdout",
     "output_type": "stream",
     "text": [
      "\n",
      "      Epoch    GPU_mem   box_loss   cls_loss   dfl_loss  Instances       Size\n"
     ]
    },
    {
     "name": "stderr",
     "output_type": "stream",
     "text": [
      "     63/200      1.08G        1.1      1.508     0.9592          0        416: 100%|██████████| 11/11 [00:01<00:00, 10.31it/s]\n",
      "                 Class     Images  Instances      Box(P          R      mAP50  mAP50-95): 100%|██████████| 2/2 [00:00<00:00,  8.25it/s]"
     ]
    },
    {
     "name": "stdout",
     "output_type": "stream",
     "text": [
      "                   all         40        150      0.327      0.354      0.277      0.149\n"
     ]
    },
    {
     "name": "stderr",
     "output_type": "stream",
     "text": [
      "\n"
     ]
    },
    {
     "name": "stdout",
     "output_type": "stream",
     "text": [
      "\n",
      "      Epoch    GPU_mem   box_loss   cls_loss   dfl_loss  Instances       Size\n"
     ]
    },
    {
     "name": "stderr",
     "output_type": "stream",
     "text": [
      "     64/200      1.09G      1.262      1.014      1.094          5        416: 100%|██████████| 11/11 [00:01<00:00,  9.57it/s]\n",
      "                 Class     Images  Instances      Box(P          R      mAP50  mAP50-95): 100%|██████████| 2/2 [00:00<00:00,  9.69it/s]"
     ]
    },
    {
     "name": "stdout",
     "output_type": "stream",
     "text": [
      "                   all         40        150      0.341      0.294      0.304      0.167\n"
     ]
    },
    {
     "name": "stderr",
     "output_type": "stream",
     "text": [
      "\n"
     ]
    },
    {
     "name": "stdout",
     "output_type": "stream",
     "text": [
      "\n",
      "      Epoch    GPU_mem   box_loss   cls_loss   dfl_loss  Instances       Size\n"
     ]
    },
    {
     "name": "stderr",
     "output_type": "stream",
     "text": [
      "     65/200      1.09G       1.21      1.042      1.079          3        416: 100%|██████████| 11/11 [00:01<00:00, 10.69it/s]\n",
      "                 Class     Images  Instances      Box(P          R      mAP50  mAP50-95): 100%|██████████| 2/2 [00:00<00:00,  8.74it/s]"
     ]
    },
    {
     "name": "stdout",
     "output_type": "stream",
     "text": [
      "                   all         40        150      0.262      0.379      0.323      0.183\n"
     ]
    },
    {
     "name": "stderr",
     "output_type": "stream",
     "text": [
      "\n"
     ]
    },
    {
     "name": "stdout",
     "output_type": "stream",
     "text": [
      "\n",
      "      Epoch    GPU_mem   box_loss   cls_loss   dfl_loss  Instances       Size\n"
     ]
    },
    {
     "name": "stderr",
     "output_type": "stream",
     "text": [
      "     66/200       1.1G      1.191      1.009      1.069         12        416: 100%|██████████| 11/11 [00:01<00:00, 10.62it/s]\n",
      "                 Class     Images  Instances      Box(P          R      mAP50  mAP50-95): 100%|██████████| 2/2 [00:00<00:00,  9.06it/s]"
     ]
    },
    {
     "name": "stdout",
     "output_type": "stream",
     "text": [
      "                   all         40        150      0.262      0.386      0.325      0.176\n"
     ]
    },
    {
     "name": "stderr",
     "output_type": "stream",
     "text": [
      "\n"
     ]
    },
    {
     "name": "stdout",
     "output_type": "stream",
     "text": [
      "\n",
      "      Epoch    GPU_mem   box_loss   cls_loss   dfl_loss  Instances       Size\n"
     ]
    },
    {
     "name": "stderr",
     "output_type": "stream",
     "text": [
      "     67/200      1.08G      1.175     0.9587      1.056          7        416: 100%|██████████| 11/11 [00:01<00:00, 10.78it/s]\n",
      "                 Class     Images  Instances      Box(P          R      mAP50  mAP50-95): 100%|██████████| 2/2 [00:00<00:00,  8.90it/s]"
     ]
    },
    {
     "name": "stdout",
     "output_type": "stream",
     "text": [
      "                   all         40        150      0.558      0.311       0.31      0.166\n"
     ]
    },
    {
     "name": "stderr",
     "output_type": "stream",
     "text": [
      "\n"
     ]
    },
    {
     "name": "stdout",
     "output_type": "stream",
     "text": [
      "\n",
      "      Epoch    GPU_mem   box_loss   cls_loss   dfl_loss  Instances       Size\n"
     ]
    },
    {
     "name": "stderr",
     "output_type": "stream",
     "text": [
      "     68/200       1.1G      1.163      1.003      1.052          9        416: 100%|██████████| 11/11 [00:00<00:00, 11.01it/s]\n",
      "                 Class     Images  Instances      Box(P          R      mAP50  mAP50-95): 100%|██████████| 2/2 [00:00<00:00,  9.11it/s]"
     ]
    },
    {
     "name": "stdout",
     "output_type": "stream",
     "text": [
      "                   all         40        150      0.524      0.321      0.319      0.171\n"
     ]
    },
    {
     "name": "stderr",
     "output_type": "stream",
     "text": [
      "\n"
     ]
    },
    {
     "name": "stdout",
     "output_type": "stream",
     "text": [
      "\n",
      "      Epoch    GPU_mem   box_loss   cls_loss   dfl_loss  Instances       Size\n"
     ]
    },
    {
     "name": "stderr",
     "output_type": "stream",
     "text": [
      "     69/200       1.1G      1.113      1.087      1.036          1        416: 100%|██████████| 11/11 [00:00<00:00, 11.10it/s]\n",
      "                 Class     Images  Instances      Box(P          R      mAP50  mAP50-95): 100%|██████████| 2/2 [00:00<00:00,  9.64it/s]"
     ]
    },
    {
     "name": "stdout",
     "output_type": "stream",
     "text": [
      "                   all         40        150      0.516      0.288      0.321      0.173\n"
     ]
    },
    {
     "name": "stderr",
     "output_type": "stream",
     "text": [
      "\n"
     ]
    },
    {
     "name": "stdout",
     "output_type": "stream",
     "text": [
      "\n",
      "      Epoch    GPU_mem   box_loss   cls_loss   dfl_loss  Instances       Size\n"
     ]
    },
    {
     "name": "stderr",
     "output_type": "stream",
     "text": [
      "     70/200      1.09G      1.173     0.9785      1.023          1        416: 100%|██████████| 11/11 [00:01<00:00, 10.50it/s]\n",
      "                 Class     Images  Instances      Box(P          R      mAP50  mAP50-95): 100%|██████████| 2/2 [00:00<00:00,  8.48it/s]"
     ]
    },
    {
     "name": "stdout",
     "output_type": "stream",
     "text": [
      "                   all         40        150      0.297       0.36      0.337      0.177\n"
     ]
    },
    {
     "name": "stderr",
     "output_type": "stream",
     "text": [
      "\n"
     ]
    },
    {
     "name": "stdout",
     "output_type": "stream",
     "text": [
      "\n",
      "      Epoch    GPU_mem   box_loss   cls_loss   dfl_loss  Instances       Size\n"
     ]
    },
    {
     "name": "stderr",
     "output_type": "stream",
     "text": [
      "     71/200      1.08G      1.262      1.001      1.233          1        416: 100%|██████████| 11/11 [00:01<00:00, 10.15it/s]\n",
      "                 Class     Images  Instances      Box(P          R      mAP50  mAP50-95): 100%|██████████| 2/2 [00:00<00:00,  8.51it/s]"
     ]
    },
    {
     "name": "stdout",
     "output_type": "stream",
     "text": [
      "                   all         40        150      0.306      0.356       0.37      0.194\n"
     ]
    },
    {
     "name": "stderr",
     "output_type": "stream",
     "text": [
      "\n"
     ]
    },
    {
     "name": "stdout",
     "output_type": "stream",
     "text": [
      "\n",
      "      Epoch    GPU_mem   box_loss   cls_loss   dfl_loss  Instances       Size\n"
     ]
    },
    {
     "name": "stderr",
     "output_type": "stream",
     "text": [
      "     72/200       1.1G      1.223      1.037      1.077          2        416: 100%|██████████| 11/11 [00:01<00:00, 10.48it/s]\n",
      "                 Class     Images  Instances      Box(P          R      mAP50  mAP50-95): 100%|██████████| 2/2 [00:00<00:00,  9.47it/s]"
     ]
    },
    {
     "name": "stdout",
     "output_type": "stream",
     "text": [
      "                   all         40        150      0.344       0.48      0.409      0.235\n"
     ]
    },
    {
     "name": "stderr",
     "output_type": "stream",
     "text": [
      "\n"
     ]
    },
    {
     "name": "stdout",
     "output_type": "stream",
     "text": [
      "\n",
      "      Epoch    GPU_mem   box_loss   cls_loss   dfl_loss  Instances       Size\n"
     ]
    },
    {
     "name": "stderr",
     "output_type": "stream",
     "text": [
      "     73/200      1.09G      1.186      1.004      1.115          4        416: 100%|██████████| 11/11 [00:01<00:00, 10.76it/s]\n",
      "                 Class     Images  Instances      Box(P          R      mAP50  mAP50-95): 100%|██████████| 2/2 [00:00<00:00, 10.13it/s]\n"
     ]
    },
    {
     "name": "stdout",
     "output_type": "stream",
     "text": [
      "                   all         40        150      0.348      0.427      0.397      0.217\n",
      "\n",
      "      Epoch    GPU_mem   box_loss   cls_loss   dfl_loss  Instances       Size\n"
     ]
    },
    {
     "name": "stderr",
     "output_type": "stream",
     "text": [
      "     74/200      1.09G      1.164      1.161      1.086          2        416: 100%|██████████| 11/11 [00:01<00:00, 10.87it/s]\n",
      "                 Class     Images  Instances      Box(P          R      mAP50  mAP50-95): 100%|██████████| 2/2 [00:00<00:00,  9.25it/s]"
     ]
    },
    {
     "name": "stdout",
     "output_type": "stream",
     "text": [
      "                   all         40        150        0.4      0.602      0.405      0.217\n"
     ]
    },
    {
     "name": "stderr",
     "output_type": "stream",
     "text": [
      "\n"
     ]
    },
    {
     "name": "stdout",
     "output_type": "stream",
     "text": [
      "\n",
      "      Epoch    GPU_mem   box_loss   cls_loss   dfl_loss  Instances       Size\n"
     ]
    },
    {
     "name": "stderr",
     "output_type": "stream",
     "text": [
      "     75/200      1.08G      1.138      1.008      1.037          3        416: 100%|██████████| 11/11 [00:00<00:00, 11.14it/s]\n",
      "                 Class     Images  Instances      Box(P          R      mAP50  mAP50-95): 100%|██████████| 2/2 [00:00<00:00,  8.39it/s]"
     ]
    },
    {
     "name": "stdout",
     "output_type": "stream",
     "text": [
      "                   all         40        150      0.494      0.556      0.412      0.228\n"
     ]
    },
    {
     "name": "stderr",
     "output_type": "stream",
     "text": [
      "\n"
     ]
    },
    {
     "name": "stdout",
     "output_type": "stream",
     "text": [
      "\n",
      "      Epoch    GPU_mem   box_loss   cls_loss   dfl_loss  Instances       Size\n"
     ]
    },
    {
     "name": "stderr",
     "output_type": "stream",
     "text": [
      "     76/200      1.09G      1.146     0.9034      1.034         13        416: 100%|██████████| 11/11 [00:01<00:00, 10.94it/s]\n",
      "                 Class     Images  Instances      Box(P          R      mAP50  mAP50-95): 100%|██████████| 2/2 [00:00<00:00,  9.60it/s]"
     ]
    },
    {
     "name": "stdout",
     "output_type": "stream",
     "text": [
      "                   all         40        150      0.402      0.442      0.393      0.212\n"
     ]
    },
    {
     "name": "stderr",
     "output_type": "stream",
     "text": [
      "\n"
     ]
    },
    {
     "name": "stdout",
     "output_type": "stream",
     "text": [
      "\n",
      "      Epoch    GPU_mem   box_loss   cls_loss   dfl_loss  Instances       Size\n"
     ]
    },
    {
     "name": "stderr",
     "output_type": "stream",
     "text": [
      "     77/200      1.09G      1.164     0.9847      1.054          3        416: 100%|██████████| 11/11 [00:01<00:00, 10.79it/s]\n",
      "                 Class     Images  Instances      Box(P          R      mAP50  mAP50-95): 100%|██████████| 2/2 [00:00<00:00,  8.90it/s]"
     ]
    },
    {
     "name": "stdout",
     "output_type": "stream",
     "text": [
      "                   all         40        150      0.437      0.447      0.387      0.208\n"
     ]
    },
    {
     "name": "stderr",
     "output_type": "stream",
     "text": [
      "\n"
     ]
    },
    {
     "name": "stdout",
     "output_type": "stream",
     "text": [
      "\n",
      "      Epoch    GPU_mem   box_loss   cls_loss   dfl_loss  Instances       Size\n"
     ]
    },
    {
     "name": "stderr",
     "output_type": "stream",
     "text": [
      "     78/200      1.09G       1.19      1.014      1.124          2        416: 100%|██████████| 11/11 [00:01<00:00, 10.64it/s]\n",
      "                 Class     Images  Instances      Box(P          R      mAP50  mAP50-95): 100%|██████████| 2/2 [00:00<00:00,  8.46it/s]"
     ]
    },
    {
     "name": "stdout",
     "output_type": "stream",
     "text": [
      "                   all         40        150       0.49      0.444      0.401      0.214\n"
     ]
    },
    {
     "name": "stderr",
     "output_type": "stream",
     "text": [
      "\n"
     ]
    },
    {
     "name": "stdout",
     "output_type": "stream",
     "text": [
      "\n",
      "      Epoch    GPU_mem   box_loss   cls_loss   dfl_loss  Instances       Size\n"
     ]
    },
    {
     "name": "stderr",
     "output_type": "stream",
     "text": [
      "     79/200      1.09G      1.283     0.9851      1.103          2        416: 100%|██████████| 11/11 [00:01<00:00, 10.10it/s]\n",
      "                 Class     Images  Instances      Box(P          R      mAP50  mAP50-95): 100%|██████████| 2/2 [00:00<00:00,  9.18it/s]"
     ]
    },
    {
     "name": "stdout",
     "output_type": "stream",
     "text": [
      "                   all         40        150      0.374      0.449      0.378      0.206\n"
     ]
    },
    {
     "name": "stderr",
     "output_type": "stream",
     "text": [
      "\n"
     ]
    },
    {
     "name": "stdout",
     "output_type": "stream",
     "text": [
      "\n",
      "      Epoch    GPU_mem   box_loss   cls_loss   dfl_loss  Instances       Size\n"
     ]
    },
    {
     "name": "stderr",
     "output_type": "stream",
     "text": [
      "     80/200      1.09G      1.107     0.8435      1.076          3        416: 100%|██████████| 11/11 [00:01<00:00, 10.74it/s]\n",
      "                 Class     Images  Instances      Box(P          R      mAP50  mAP50-95): 100%|██████████| 2/2 [00:00<00:00,  9.39it/s]"
     ]
    },
    {
     "name": "stdout",
     "output_type": "stream",
     "text": [
      "                   all         40        150      0.557      0.344       0.35      0.193\n"
     ]
    },
    {
     "name": "stderr",
     "output_type": "stream",
     "text": [
      "\n"
     ]
    },
    {
     "name": "stdout",
     "output_type": "stream",
     "text": [
      "\n",
      "      Epoch    GPU_mem   box_loss   cls_loss   dfl_loss  Instances       Size\n"
     ]
    },
    {
     "name": "stderr",
     "output_type": "stream",
     "text": [
      "     81/200      1.09G      1.103     0.8804      1.013          1        416: 100%|██████████| 11/11 [00:01<00:00, 10.97it/s]\n",
      "                 Class     Images  Instances      Box(P          R      mAP50  mAP50-95): 100%|██████████| 2/2 [00:00<00:00,  9.64it/s]"
     ]
    },
    {
     "name": "stdout",
     "output_type": "stream",
     "text": [
      "                   all         40        150      0.558      0.327      0.354      0.197\n"
     ]
    },
    {
     "name": "stderr",
     "output_type": "stream",
     "text": [
      "\n"
     ]
    },
    {
     "name": "stdout",
     "output_type": "stream",
     "text": [
      "\n",
      "      Epoch    GPU_mem   box_loss   cls_loss   dfl_loss  Instances       Size\n"
     ]
    },
    {
     "name": "stderr",
     "output_type": "stream",
     "text": [
      "     82/200      1.09G      1.079     0.8773      1.043          2        416: 100%|██████████| 11/11 [00:01<00:00, 10.92it/s]\n",
      "                 Class     Images  Instances      Box(P          R      mAP50  mAP50-95): 100%|██████████| 2/2 [00:00<00:00,  9.34it/s]"
     ]
    },
    {
     "name": "stdout",
     "output_type": "stream",
     "text": [
      "                   all         40        150      0.558      0.312      0.337      0.186\n"
     ]
    },
    {
     "name": "stderr",
     "output_type": "stream",
     "text": [
      "\n"
     ]
    },
    {
     "name": "stdout",
     "output_type": "stream",
     "text": [
      "\n",
      "      Epoch    GPU_mem   box_loss   cls_loss   dfl_loss  Instances       Size\n"
     ]
    },
    {
     "name": "stderr",
     "output_type": "stream",
     "text": [
      "     83/200      1.08G      1.013      1.384     0.9412          0        416: 100%|██████████| 11/11 [00:00<00:00, 11.18it/s]\n",
      "                 Class     Images  Instances      Box(P          R      mAP50  mAP50-95): 100%|██████████| 2/2 [00:00<00:00,  8.32it/s]"
     ]
    },
    {
     "name": "stdout",
     "output_type": "stream",
     "text": [
      "                   all         40        150       0.56      0.497       0.33      0.182\n"
     ]
    },
    {
     "name": "stderr",
     "output_type": "stream",
     "text": [
      "\n"
     ]
    },
    {
     "name": "stdout",
     "output_type": "stream",
     "text": [
      "\n",
      "      Epoch    GPU_mem   box_loss   cls_loss   dfl_loss  Instances       Size\n"
     ]
    },
    {
     "name": "stderr",
     "output_type": "stream",
     "text": [
      "     84/200       1.1G       1.12        0.9      1.024          1        416: 100%|██████████| 11/11 [00:01<00:00, 10.74it/s]\n",
      "                 Class     Images  Instances      Box(P          R      mAP50  mAP50-95): 100%|██████████| 2/2 [00:00<00:00,  8.75it/s]"
     ]
    },
    {
     "name": "stdout",
     "output_type": "stream",
     "text": [
      "                   all         40        150      0.543      0.494      0.309      0.177\n"
     ]
    },
    {
     "name": "stderr",
     "output_type": "stream",
     "text": [
      "\n"
     ]
    },
    {
     "name": "stdout",
     "output_type": "stream",
     "text": [
      "\n",
      "      Epoch    GPU_mem   box_loss   cls_loss   dfl_loss  Instances       Size\n"
     ]
    },
    {
     "name": "stderr",
     "output_type": "stream",
     "text": [
      "     85/200      1.09G      1.163     0.8937      1.048          9        416: 100%|██████████| 11/11 [00:01<00:00, 10.94it/s]\n",
      "                 Class     Images  Instances      Box(P          R      mAP50  mAP50-95): 100%|██████████| 2/2 [00:00<00:00,  9.37it/s]"
     ]
    },
    {
     "name": "stdout",
     "output_type": "stream",
     "text": [
      "                   all         40        150      0.536      0.264      0.307      0.175\n"
     ]
    },
    {
     "name": "stderr",
     "output_type": "stream",
     "text": [
      "\n"
     ]
    },
    {
     "name": "stdout",
     "output_type": "stream",
     "text": [
      "\n",
      "      Epoch    GPU_mem   box_loss   cls_loss   dfl_loss  Instances       Size\n"
     ]
    },
    {
     "name": "stderr",
     "output_type": "stream",
     "text": [
      "     86/200      1.09G      1.118     0.8323      1.056          1        416: 100%|██████████| 11/11 [00:01<00:00, 10.26it/s]\n",
      "                 Class     Images  Instances      Box(P          R      mAP50  mAP50-95): 100%|██████████| 2/2 [00:00<00:00,  9.02it/s]"
     ]
    },
    {
     "name": "stdout",
     "output_type": "stream",
     "text": [
      "                   all         40        150      0.263      0.316      0.301      0.171\n"
     ]
    },
    {
     "name": "stderr",
     "output_type": "stream",
     "text": [
      "\n"
     ]
    },
    {
     "name": "stdout",
     "output_type": "stream",
     "text": [
      "\n",
      "      Epoch    GPU_mem   box_loss   cls_loss   dfl_loss  Instances       Size\n"
     ]
    },
    {
     "name": "stderr",
     "output_type": "stream",
     "text": [
      "     87/200      1.08G      1.135      0.817      1.045          5        416: 100%|██████████| 11/11 [00:01<00:00, 10.09it/s]\n",
      "                 Class     Images  Instances      Box(P          R      mAP50  mAP50-95): 100%|██████████| 2/2 [00:00<00:00,  8.93it/s]"
     ]
    },
    {
     "name": "stdout",
     "output_type": "stream",
     "text": [
      "                   all         40        150      0.336      0.387      0.369      0.197\n"
     ]
    },
    {
     "name": "stderr",
     "output_type": "stream",
     "text": [
      "\n"
     ]
    },
    {
     "name": "stdout",
     "output_type": "stream",
     "text": [
      "\n",
      "      Epoch    GPU_mem   box_loss   cls_loss   dfl_loss  Instances       Size\n"
     ]
    },
    {
     "name": "stderr",
     "output_type": "stream",
     "text": [
      "     88/200      1.09G      1.105     0.7916      1.044          3        416: 100%|██████████| 11/11 [00:01<00:00, 10.46it/s]\n",
      "                 Class     Images  Instances      Box(P          R      mAP50  mAP50-95): 100%|██████████| 2/2 [00:00<00:00,  9.56it/s]"
     ]
    },
    {
     "name": "stdout",
     "output_type": "stream",
     "text": [
      "                   all         40        150      0.531        0.3      0.383        0.2\n"
     ]
    },
    {
     "name": "stderr",
     "output_type": "stream",
     "text": [
      "\n"
     ]
    },
    {
     "name": "stdout",
     "output_type": "stream",
     "text": [
      "\n",
      "      Epoch    GPU_mem   box_loss   cls_loss   dfl_loss  Instances       Size\n"
     ]
    },
    {
     "name": "stderr",
     "output_type": "stream",
     "text": [
      "     89/200       1.1G      1.152     0.9062      1.055          6        416: 100%|██████████| 11/11 [00:01<00:00, 10.30it/s]\n",
      "                 Class     Images  Instances      Box(P          R      mAP50  mAP50-95): 100%|██████████| 2/2 [00:00<00:00,  9.65it/s]"
     ]
    },
    {
     "name": "stdout",
     "output_type": "stream",
     "text": [
      "                   all         40        150      0.465      0.333      0.401      0.209\n"
     ]
    },
    {
     "name": "stderr",
     "output_type": "stream",
     "text": [
      "\n"
     ]
    },
    {
     "name": "stdout",
     "output_type": "stream",
     "text": [
      "\n",
      "      Epoch    GPU_mem   box_loss   cls_loss   dfl_loss  Instances       Size\n"
     ]
    },
    {
     "name": "stderr",
     "output_type": "stream",
     "text": [
      "     90/200       1.1G      1.134     0.8626      1.035          7        416: 100%|██████████| 11/11 [00:01<00:00, 10.82it/s]\n",
      "                 Class     Images  Instances      Box(P          R      mAP50  mAP50-95): 100%|██████████| 2/2 [00:00<00:00,  8.72it/s]"
     ]
    },
    {
     "name": "stdout",
     "output_type": "stream",
     "text": [
      "                   all         40        150      0.542      0.332      0.399      0.205\n"
     ]
    },
    {
     "name": "stderr",
     "output_type": "stream",
     "text": [
      "\n"
     ]
    },
    {
     "name": "stdout",
     "output_type": "stream",
     "text": [
      "\n",
      "      Epoch    GPU_mem   box_loss   cls_loss   dfl_loss  Instances       Size\n"
     ]
    },
    {
     "name": "stderr",
     "output_type": "stream",
     "text": [
      "     91/200      1.08G       1.06      1.033      1.068          1        416: 100%|██████████| 11/11 [00:01<00:00, 10.82it/s]\n",
      "                 Class     Images  Instances      Box(P          R      mAP50  mAP50-95): 100%|██████████| 2/2 [00:00<00:00,  9.29it/s]"
     ]
    },
    {
     "name": "stdout",
     "output_type": "stream",
     "text": [
      "                   all         40        150      0.404      0.405      0.394      0.207\n"
     ]
    },
    {
     "name": "stderr",
     "output_type": "stream",
     "text": [
      "\n"
     ]
    },
    {
     "name": "stdout",
     "output_type": "stream",
     "text": [
      "\n",
      "      Epoch    GPU_mem   box_loss   cls_loss   dfl_loss  Instances       Size\n"
     ]
    },
    {
     "name": "stderr",
     "output_type": "stream",
     "text": [
      "     92/200      1.09G      1.087     0.8436       1.02          6        416: 100%|██████████| 11/11 [00:01<00:00, 10.66it/s]\n",
      "                 Class     Images  Instances      Box(P          R      mAP50  mAP50-95): 100%|██████████| 2/2 [00:00<00:00,  9.81it/s]"
     ]
    },
    {
     "name": "stdout",
     "output_type": "stream",
     "text": [
      "                   all         40        150      0.458      0.406      0.396      0.213\n"
     ]
    },
    {
     "name": "stderr",
     "output_type": "stream",
     "text": [
      "\n"
     ]
    },
    {
     "name": "stdout",
     "output_type": "stream",
     "text": [
      "\n",
      "      Epoch    GPU_mem   box_loss   cls_loss   dfl_loss  Instances       Size\n"
     ]
    },
    {
     "name": "stderr",
     "output_type": "stream",
     "text": [
      "     93/200      1.09G      1.087     0.8292      1.008          7        416: 100%|██████████| 11/11 [00:01<00:00, 10.31it/s]\n",
      "                 Class     Images  Instances      Box(P          R      mAP50  mAP50-95): 100%|██████████| 2/2 [00:00<00:00,  9.12it/s]"
     ]
    },
    {
     "name": "stdout",
     "output_type": "stream",
     "text": [
      "                   all         40        150      0.518      0.394      0.394       0.21\n"
     ]
    },
    {
     "name": "stderr",
     "output_type": "stream",
     "text": [
      "\n"
     ]
    },
    {
     "name": "stdout",
     "output_type": "stream",
     "text": [
      "\n",
      "      Epoch    GPU_mem   box_loss   cls_loss   dfl_loss  Instances       Size\n"
     ]
    },
    {
     "name": "stderr",
     "output_type": "stream",
     "text": [
      "     94/200      1.09G      1.056     0.8984      1.027          3        416: 100%|██████████| 11/11 [00:01<00:00,  9.97it/s]\n",
      "                 Class     Images  Instances      Box(P          R      mAP50  mAP50-95): 100%|██████████| 2/2 [00:00<00:00,  8.78it/s]"
     ]
    },
    {
     "name": "stdout",
     "output_type": "stream",
     "text": [
      "                   all         40        150      0.494      0.369      0.371      0.201\n"
     ]
    },
    {
     "name": "stderr",
     "output_type": "stream",
     "text": [
      "\n"
     ]
    },
    {
     "name": "stdout",
     "output_type": "stream",
     "text": [
      "\n",
      "      Epoch    GPU_mem   box_loss   cls_loss   dfl_loss  Instances       Size\n"
     ]
    },
    {
     "name": "stderr",
     "output_type": "stream",
     "text": [
      "     95/200      1.08G        1.1       1.13      1.061          1        416: 100%|██████████| 11/11 [00:00<00:00, 11.00it/s]\n",
      "                 Class     Images  Instances      Box(P          R      mAP50  mAP50-95): 100%|██████████| 2/2 [00:00<00:00,  8.36it/s]"
     ]
    },
    {
     "name": "stdout",
     "output_type": "stream",
     "text": [
      "                   all         40        150      0.501      0.359      0.379      0.206\n"
     ]
    },
    {
     "name": "stderr",
     "output_type": "stream",
     "text": [
      "\n"
     ]
    },
    {
     "name": "stdout",
     "output_type": "stream",
     "text": [
      "\n",
      "      Epoch    GPU_mem   box_loss   cls_loss   dfl_loss  Instances       Size\n"
     ]
    },
    {
     "name": "stderr",
     "output_type": "stream",
     "text": [
      "     96/200      1.09G      1.181     0.8788      1.034          2        416: 100%|██████████| 11/11 [00:01<00:00, 10.32it/s]\n",
      "                 Class     Images  Instances      Box(P          R      mAP50  mAP50-95): 100%|██████████| 2/2 [00:00<00:00,  9.31it/s]"
     ]
    },
    {
     "name": "stdout",
     "output_type": "stream",
     "text": [
      "                   all         40        150      0.333      0.433      0.381      0.212\n"
     ]
    },
    {
     "name": "stderr",
     "output_type": "stream",
     "text": [
      "\n"
     ]
    },
    {
     "name": "stdout",
     "output_type": "stream",
     "text": [
      "\n",
      "      Epoch    GPU_mem   box_loss   cls_loss   dfl_loss  Instances       Size\n"
     ]
    },
    {
     "name": "stderr",
     "output_type": "stream",
     "text": [
      "     97/200      1.09G      1.046     0.8477      1.024          8        416: 100%|██████████| 11/11 [00:01<00:00, 10.86it/s]\n",
      "                 Class     Images  Instances      Box(P          R      mAP50  mAP50-95): 100%|██████████| 2/2 [00:00<00:00,  9.35it/s]"
     ]
    },
    {
     "name": "stdout",
     "output_type": "stream",
     "text": [
      "                   all         40        150      0.315      0.432      0.377      0.212\n"
     ]
    },
    {
     "name": "stderr",
     "output_type": "stream",
     "text": [
      "\n"
     ]
    },
    {
     "name": "stdout",
     "output_type": "stream",
     "text": [
      "\n",
      "      Epoch    GPU_mem   box_loss   cls_loss   dfl_loss  Instances       Size\n"
     ]
    },
    {
     "name": "stderr",
     "output_type": "stream",
     "text": [
      "     98/200      1.09G      1.085     0.9256       1.06          1        416: 100%|██████████| 11/11 [00:01<00:00, 10.97it/s]\n",
      "                 Class     Images  Instances      Box(P          R      mAP50  mAP50-95): 100%|██████████| 2/2 [00:00<00:00,  9.32it/s]"
     ]
    },
    {
     "name": "stdout",
     "output_type": "stream",
     "text": [
      "                   all         40        150      0.443      0.391      0.387      0.212\n"
     ]
    },
    {
     "name": "stderr",
     "output_type": "stream",
     "text": [
      "\n"
     ]
    },
    {
     "name": "stdout",
     "output_type": "stream",
     "text": [
      "\n",
      "      Epoch    GPU_mem   box_loss   cls_loss   dfl_loss  Instances       Size\n"
     ]
    },
    {
     "name": "stderr",
     "output_type": "stream",
     "text": [
      "     99/200      1.08G     0.9977     0.7951      1.017          1        416: 100%|██████████| 11/11 [00:01<00:00, 10.67it/s]\n",
      "                 Class     Images  Instances      Box(P          R      mAP50  mAP50-95): 100%|██████████| 2/2 [00:00<00:00,  9.01it/s]"
     ]
    },
    {
     "name": "stdout",
     "output_type": "stream",
     "text": [
      "                   all         40        150      0.447      0.408      0.387      0.224\n"
     ]
    },
    {
     "name": "stderr",
     "output_type": "stream",
     "text": [
      "\n"
     ]
    },
    {
     "name": "stdout",
     "output_type": "stream",
     "text": [
      "\n",
      "      Epoch    GPU_mem   box_loss   cls_loss   dfl_loss  Instances       Size\n"
     ]
    },
    {
     "name": "stderr",
     "output_type": "stream",
     "text": [
      "    100/200      1.09G      1.033     0.8829      1.027          7        416: 100%|██████████| 11/11 [00:01<00:00, 10.37it/s]\n",
      "                 Class     Images  Instances      Box(P          R      mAP50  mAP50-95): 100%|██████████| 2/2 [00:00<00:00,  9.36it/s]"
     ]
    },
    {
     "name": "stdout",
     "output_type": "stream",
     "text": [
      "                   all         40        150      0.458      0.411      0.389      0.214\n"
     ]
    },
    {
     "name": "stderr",
     "output_type": "stream",
     "text": [
      "\n"
     ]
    },
    {
     "name": "stdout",
     "output_type": "stream",
     "text": [
      "\n",
      "      Epoch    GPU_mem   box_loss   cls_loss   dfl_loss  Instances       Size\n"
     ]
    },
    {
     "name": "stderr",
     "output_type": "stream",
     "text": [
      "    101/200      1.09G      1.066     0.8617      1.014          4        416: 100%|██████████| 11/11 [00:01<00:00, 10.41it/s]\n",
      "                 Class     Images  Instances      Box(P          R      mAP50  mAP50-95): 100%|██████████| 2/2 [00:00<00:00,  8.85it/s]"
     ]
    },
    {
     "name": "stdout",
     "output_type": "stream",
     "text": [
      "                   all         40        150      0.525      0.361       0.38      0.212\n"
     ]
    },
    {
     "name": "stderr",
     "output_type": "stream",
     "text": [
      "\n"
     ]
    },
    {
     "name": "stdout",
     "output_type": "stream",
     "text": [
      "\n",
      "      Epoch    GPU_mem   box_loss   cls_loss   dfl_loss  Instances       Size\n"
     ]
    },
    {
     "name": "stderr",
     "output_type": "stream",
     "text": [
      "    102/200      1.09G      1.117      0.884      1.033          1        416: 100%|██████████| 11/11 [00:01<00:00, 10.41it/s]\n",
      "                 Class     Images  Instances      Box(P          R      mAP50  mAP50-95): 100%|██████████| 2/2 [00:00<00:00,  9.52it/s]"
     ]
    },
    {
     "name": "stdout",
     "output_type": "stream",
     "text": [
      "                   all         40        150       0.48      0.331      0.335       0.19\n"
     ]
    },
    {
     "name": "stderr",
     "output_type": "stream",
     "text": [
      "\n"
     ]
    },
    {
     "name": "stdout",
     "output_type": "stream",
     "text": [
      "\n",
      "      Epoch    GPU_mem   box_loss   cls_loss   dfl_loss  Instances       Size\n"
     ]
    },
    {
     "name": "stderr",
     "output_type": "stream",
     "text": [
      "    103/200      1.08G       1.05     0.7787       1.07          2        416: 100%|██████████| 11/11 [00:01<00:00, 10.80it/s]\n",
      "                 Class     Images  Instances      Box(P          R      mAP50  mAP50-95): 100%|██████████| 2/2 [00:00<00:00,  9.76it/s]"
     ]
    },
    {
     "name": "stdout",
     "output_type": "stream",
     "text": [
      "                   all         40        150      0.377      0.411      0.373      0.203\n"
     ]
    },
    {
     "name": "stderr",
     "output_type": "stream",
     "text": [
      "\n"
     ]
    },
    {
     "name": "stdout",
     "output_type": "stream",
     "text": [
      "\n",
      "      Epoch    GPU_mem   box_loss   cls_loss   dfl_loss  Instances       Size\n"
     ]
    },
    {
     "name": "stderr",
     "output_type": "stream",
     "text": [
      "    104/200       1.1G      1.036     0.8041     0.9964         11        416: 100%|██████████| 11/11 [00:01<00:00, 10.94it/s]\n",
      "                 Class     Images  Instances      Box(P          R      mAP50  mAP50-95): 100%|██████████| 2/2 [00:00<00:00,  9.63it/s]"
     ]
    },
    {
     "name": "stdout",
     "output_type": "stream",
     "text": [
      "                   all         40        150       0.47      0.368      0.392      0.217\n"
     ]
    },
    {
     "name": "stderr",
     "output_type": "stream",
     "text": [
      "\n"
     ]
    },
    {
     "name": "stdout",
     "output_type": "stream",
     "text": [
      "\n",
      "      Epoch    GPU_mem   box_loss   cls_loss   dfl_loss  Instances       Size\n"
     ]
    },
    {
     "name": "stderr",
     "output_type": "stream",
     "text": [
      "    105/200       1.1G      1.043     0.8612       1.01         20        416: 100%|██████████| 11/11 [00:01<00:00, 10.99it/s]\n",
      "                 Class     Images  Instances      Box(P          R      mAP50  mAP50-95): 100%|██████████| 2/2 [00:00<00:00,  8.98it/s]"
     ]
    },
    {
     "name": "stdout",
     "output_type": "stream",
     "text": [
      "                   all         40        150      0.686      0.372      0.392      0.218\n"
     ]
    },
    {
     "name": "stderr",
     "output_type": "stream",
     "text": [
      "\n"
     ]
    },
    {
     "name": "stdout",
     "output_type": "stream",
     "text": [
      "\n",
      "      Epoch    GPU_mem   box_loss   cls_loss   dfl_loss  Instances       Size\n"
     ]
    },
    {
     "name": "stderr",
     "output_type": "stream",
     "text": [
      "    106/200      1.09G      1.105      1.017      1.043          2        416: 100%|██████████| 11/11 [00:01<00:00, 10.72it/s]\n",
      "                 Class     Images  Instances      Box(P          R      mAP50  mAP50-95): 100%|██████████| 2/2 [00:00<00:00,  9.69it/s]"
     ]
    },
    {
     "name": "stdout",
     "output_type": "stream",
     "text": [
      "                   all         40        150      0.428      0.393      0.387      0.213\n"
     ]
    },
    {
     "name": "stderr",
     "output_type": "stream",
     "text": [
      "\n"
     ]
    },
    {
     "name": "stdout",
     "output_type": "stream",
     "text": [
      "\n",
      "      Epoch    GPU_mem   box_loss   cls_loss   dfl_loss  Instances       Size\n"
     ]
    },
    {
     "name": "stderr",
     "output_type": "stream",
     "text": [
      "    107/200      1.08G     0.9995     0.9737      1.003          2        416: 100%|██████████| 11/11 [00:01<00:00, 10.95it/s]\n",
      "                 Class     Images  Instances      Box(P          R      mAP50  mAP50-95): 100%|██████████| 2/2 [00:00<00:00,  9.50it/s]"
     ]
    },
    {
     "name": "stdout",
     "output_type": "stream",
     "text": [
      "                   all         40        150       0.41      0.417      0.397       0.22\n"
     ]
    },
    {
     "name": "stderr",
     "output_type": "stream",
     "text": [
      "\n"
     ]
    },
    {
     "name": "stdout",
     "output_type": "stream",
     "text": [
      "\n",
      "      Epoch    GPU_mem   box_loss   cls_loss   dfl_loss  Instances       Size\n"
     ]
    },
    {
     "name": "stderr",
     "output_type": "stream",
     "text": [
      "    108/200      1.09G      1.039      0.804      1.022          4        416: 100%|██████████| 11/11 [00:01<00:00, 10.73it/s]\n",
      "                 Class     Images  Instances      Box(P          R      mAP50  mAP50-95): 100%|██████████| 2/2 [00:00<00:00,  9.02it/s]"
     ]
    },
    {
     "name": "stdout",
     "output_type": "stream",
     "text": [
      "                   all         40        150      0.392       0.43      0.384      0.215\n"
     ]
    },
    {
     "name": "stderr",
     "output_type": "stream",
     "text": [
      "\n"
     ]
    },
    {
     "name": "stdout",
     "output_type": "stream",
     "text": [
      "\n",
      "      Epoch    GPU_mem   box_loss   cls_loss   dfl_loss  Instances       Size\n"
     ]
    },
    {
     "name": "stderr",
     "output_type": "stream",
     "text": [
      "    109/200       1.1G      1.058     0.7785     0.9956         10        416: 100%|██████████| 11/11 [00:01<00:00, 10.27it/s]\n",
      "                 Class     Images  Instances      Box(P          R      mAP50  mAP50-95): 100%|██████████| 2/2 [00:00<00:00,  8.37it/s]"
     ]
    },
    {
     "name": "stdout",
     "output_type": "stream",
     "text": [
      "                   all         40        150      0.381      0.445      0.381      0.223\n"
     ]
    },
    {
     "name": "stderr",
     "output_type": "stream",
     "text": [
      "\n"
     ]
    },
    {
     "name": "stdout",
     "output_type": "stream",
     "text": [
      "\n",
      "      Epoch    GPU_mem   box_loss   cls_loss   dfl_loss  Instances       Size\n"
     ]
    },
    {
     "name": "stderr",
     "output_type": "stream",
     "text": [
      "    110/200       1.1G      1.133      1.038      1.076          3        416: 100%|██████████| 11/11 [00:01<00:00, 10.60it/s]\n",
      "                 Class     Images  Instances      Box(P          R      mAP50  mAP50-95): 100%|██████████| 2/2 [00:00<00:00,  9.67it/s]"
     ]
    },
    {
     "name": "stdout",
     "output_type": "stream",
     "text": [
      "                   all         40        150       0.39      0.447      0.388      0.218\n"
     ]
    },
    {
     "name": "stderr",
     "output_type": "stream",
     "text": [
      "\n"
     ]
    },
    {
     "name": "stdout",
     "output_type": "stream",
     "text": [
      "\n",
      "      Epoch    GPU_mem   box_loss   cls_loss   dfl_loss  Instances       Size\n"
     ]
    },
    {
     "name": "stderr",
     "output_type": "stream",
     "text": [
      "    111/200      1.08G       1.07     0.7806     0.9985          2        416: 100%|██████████| 11/11 [00:01<00:00, 10.51it/s]\n",
      "                 Class     Images  Instances      Box(P          R      mAP50  mAP50-95): 100%|██████████| 2/2 [00:00<00:00,  9.25it/s]"
     ]
    },
    {
     "name": "stdout",
     "output_type": "stream",
     "text": [
      "                   all         40        150      0.394       0.43      0.387      0.213\n"
     ]
    },
    {
     "name": "stderr",
     "output_type": "stream",
     "text": [
      "\n"
     ]
    },
    {
     "name": "stdout",
     "output_type": "stream",
     "text": [
      "\n",
      "      Epoch    GPU_mem   box_loss   cls_loss   dfl_loss  Instances       Size\n"
     ]
    },
    {
     "name": "stderr",
     "output_type": "stream",
     "text": [
      "    112/200       1.1G      1.064     0.7901      1.001          2        416: 100%|██████████| 11/11 [00:01<00:00, 10.99it/s]\n",
      "                 Class     Images  Instances      Box(P          R      mAP50  mAP50-95): 100%|██████████| 2/2 [00:00<00:00,  9.52it/s]"
     ]
    },
    {
     "name": "stdout",
     "output_type": "stream",
     "text": [
      "                   all         40        150      0.335      0.436      0.393      0.223\n"
     ]
    },
    {
     "name": "stderr",
     "output_type": "stream",
     "text": [
      "\n"
     ]
    },
    {
     "name": "stdout",
     "output_type": "stream",
     "text": [
      "\n",
      "      Epoch    GPU_mem   box_loss   cls_loss   dfl_loss  Instances       Size\n"
     ]
    },
    {
     "name": "stderr",
     "output_type": "stream",
     "text": [
      "    113/200      1.09G       1.06     0.8176      1.011          7        416: 100%|██████████| 11/11 [00:01<00:00, 10.89it/s]\n",
      "                 Class     Images  Instances      Box(P          R      mAP50  mAP50-95): 100%|██████████| 2/2 [00:00<00:00,  8.83it/s]"
     ]
    },
    {
     "name": "stdout",
     "output_type": "stream",
     "text": [
      "                   all         40        150      0.294      0.362      0.353      0.203\n"
     ]
    },
    {
     "name": "stderr",
     "output_type": "stream",
     "text": [
      "\n"
     ]
    },
    {
     "name": "stdout",
     "output_type": "stream",
     "text": [
      "\n",
      "      Epoch    GPU_mem   box_loss   cls_loss   dfl_loss  Instances       Size\n"
     ]
    },
    {
     "name": "stderr",
     "output_type": "stream",
     "text": [
      "    114/200      1.09G      0.886     0.8081     0.9024          0        416: 100%|██████████| 11/11 [00:01<00:00, 10.80it/s]\n",
      "                 Class     Images  Instances      Box(P          R      mAP50  mAP50-95): 100%|██████████| 2/2 [00:00<00:00,  9.60it/s]"
     ]
    },
    {
     "name": "stdout",
     "output_type": "stream",
     "text": [
      "                   all         40        150      0.294      0.405      0.361      0.201\n"
     ]
    },
    {
     "name": "stderr",
     "output_type": "stream",
     "text": [
      "\n"
     ]
    },
    {
     "name": "stdout",
     "output_type": "stream",
     "text": [
      "\n",
      "      Epoch    GPU_mem   box_loss   cls_loss   dfl_loss  Instances       Size\n"
     ]
    },
    {
     "name": "stderr",
     "output_type": "stream",
     "text": [
      "    115/200      1.08G       1.04     0.7246      1.001          7        416: 100%|██████████| 11/11 [00:01<00:00, 10.42it/s]\n",
      "                 Class     Images  Instances      Box(P          R      mAP50  mAP50-95): 100%|██████████| 2/2 [00:00<00:00,  8.96it/s]"
     ]
    },
    {
     "name": "stdout",
     "output_type": "stream",
     "text": [
      "                   all         40        150      0.567      0.315       0.36      0.206\n"
     ]
    },
    {
     "name": "stderr",
     "output_type": "stream",
     "text": [
      "\n"
     ]
    },
    {
     "name": "stdout",
     "output_type": "stream",
     "text": [
      "\n",
      "      Epoch    GPU_mem   box_loss   cls_loss   dfl_loss  Instances       Size\n"
     ]
    },
    {
     "name": "stderr",
     "output_type": "stream",
     "text": [
      "    116/200      1.09G      1.007     0.7325      1.002          4        416: 100%|██████████| 11/11 [00:01<00:00, 10.26it/s]\n",
      "                 Class     Images  Instances      Box(P          R      mAP50  mAP50-95): 100%|██████████| 2/2 [00:00<00:00,  8.97it/s]"
     ]
    },
    {
     "name": "stdout",
     "output_type": "stream",
     "text": [
      "                   all         40        150      0.307      0.452      0.341      0.189\n"
     ]
    },
    {
     "name": "stderr",
     "output_type": "stream",
     "text": [
      "\n"
     ]
    },
    {
     "name": "stdout",
     "output_type": "stream",
     "text": [
      "\n",
      "      Epoch    GPU_mem   box_loss   cls_loss   dfl_loss  Instances       Size\n"
     ]
    },
    {
     "name": "stderr",
     "output_type": "stream",
     "text": [
      "    117/200      1.09G      1.038     0.8731      1.044          3        416: 100%|██████████| 11/11 [00:01<00:00, 10.36it/s]\n",
      "                 Class     Images  Instances      Box(P          R      mAP50  mAP50-95): 100%|██████████| 2/2 [00:00<00:00,  8.61it/s]"
     ]
    },
    {
     "name": "stdout",
     "output_type": "stream",
     "text": [
      "                   all         40        150      0.257      0.394      0.315      0.178\n"
     ]
    },
    {
     "name": "stderr",
     "output_type": "stream",
     "text": [
      "\n"
     ]
    },
    {
     "name": "stdout",
     "output_type": "stream",
     "text": [
      "\n",
      "      Epoch    GPU_mem   box_loss   cls_loss   dfl_loss  Instances       Size\n"
     ]
    },
    {
     "name": "stderr",
     "output_type": "stream",
     "text": [
      "    118/200      1.09G      1.067      1.039      1.031          2        416: 100%|██████████| 11/11 [00:01<00:00, 10.25it/s]\n",
      "                 Class     Images  Instances      Box(P          R      mAP50  mAP50-95): 100%|██████████| 2/2 [00:00<00:00,  9.00it/s]"
     ]
    },
    {
     "name": "stdout",
     "output_type": "stream",
     "text": [
      "                   all         40        150      0.243      0.385      0.304      0.181\n"
     ]
    },
    {
     "name": "stderr",
     "output_type": "stream",
     "text": [
      "\n"
     ]
    },
    {
     "name": "stdout",
     "output_type": "stream",
     "text": [
      "\n",
      "      Epoch    GPU_mem   box_loss   cls_loss   dfl_loss  Instances       Size\n"
     ]
    },
    {
     "name": "stderr",
     "output_type": "stream",
     "text": [
      "    119/200      1.08G     0.9471      0.694     0.9812          3        416: 100%|██████████| 11/11 [00:01<00:00, 10.79it/s]\n",
      "                 Class     Images  Instances      Box(P          R      mAP50  mAP50-95): 100%|██████████| 2/2 [00:00<00:00,  9.47it/s]"
     ]
    },
    {
     "name": "stdout",
     "output_type": "stream",
     "text": [
      "                   all         40        150      0.452      0.401      0.342      0.198\n"
     ]
    },
    {
     "name": "stderr",
     "output_type": "stream",
     "text": [
      "\n"
     ]
    },
    {
     "name": "stdout",
     "output_type": "stream",
     "text": [
      "\n",
      "      Epoch    GPU_mem   box_loss   cls_loss   dfl_loss  Instances       Size\n"
     ]
    },
    {
     "name": "stderr",
     "output_type": "stream",
     "text": [
      "    120/200       1.1G     0.9356     0.7379     0.9723          2        416: 100%|██████████| 11/11 [00:01<00:00, 10.61it/s]\n",
      "                 Class     Images  Instances      Box(P          R      mAP50  mAP50-95): 100%|██████████| 2/2 [00:00<00:00,  8.80it/s]"
     ]
    },
    {
     "name": "stdout",
     "output_type": "stream",
     "text": [
      "                   all         40        150      0.617       0.31      0.359      0.203\n"
     ]
    },
    {
     "name": "stderr",
     "output_type": "stream",
     "text": [
      "\n"
     ]
    },
    {
     "name": "stdout",
     "output_type": "stream",
     "text": [
      "\n",
      "      Epoch    GPU_mem   box_loss   cls_loss   dfl_loss  Instances       Size\n"
     ]
    },
    {
     "name": "stderr",
     "output_type": "stream",
     "text": [
      "    121/200       1.1G     0.9703     0.7068     0.9887          9        416: 100%|██████████| 11/11 [00:00<00:00, 11.37it/s]\n",
      "                 Class     Images  Instances      Box(P          R      mAP50  mAP50-95): 100%|██████████| 2/2 [00:00<00:00,  9.19it/s]"
     ]
    },
    {
     "name": "stdout",
     "output_type": "stream",
     "text": [
      "                   all         40        150      0.301        0.4      0.369      0.211\n"
     ]
    },
    {
     "name": "stderr",
     "output_type": "stream",
     "text": [
      "\n"
     ]
    },
    {
     "name": "stdout",
     "output_type": "stream",
     "text": [
      "\n",
      "      Epoch    GPU_mem   box_loss   cls_loss   dfl_loss  Instances       Size\n"
     ]
    },
    {
     "name": "stderr",
     "output_type": "stream",
     "text": [
      "    122/200      1.09G      1.023     0.7845      1.041          6        416: 100%|██████████| 11/11 [00:00<00:00, 11.29it/s]\n",
      "                 Class     Images  Instances      Box(P          R      mAP50  mAP50-95): 100%|██████████| 2/2 [00:00<00:00,  8.97it/s]"
     ]
    },
    {
     "name": "stdout",
     "output_type": "stream",
     "text": [
      "                   all         40        150      0.371      0.402      0.369      0.212\n"
     ]
    },
    {
     "name": "stderr",
     "output_type": "stream",
     "text": [
      "\n"
     ]
    },
    {
     "name": "stdout",
     "output_type": "stream",
     "text": [
      "\n",
      "      Epoch    GPU_mem   box_loss   cls_loss   dfl_loss  Instances       Size\n"
     ]
    },
    {
     "name": "stderr",
     "output_type": "stream",
     "text": [
      "    123/200      1.08G     0.9454     0.7564     0.9741         13        416: 100%|██████████| 11/11 [00:01<00:00, 10.94it/s]\n",
      "                 Class     Images  Instances      Box(P          R      mAP50  mAP50-95): 100%|██████████| 2/2 [00:00<00:00, 10.10it/s]\n"
     ]
    },
    {
     "name": "stdout",
     "output_type": "stream",
     "text": [
      "                   all         40        150      0.806       0.32      0.354      0.209\n",
      "\n",
      "      Epoch    GPU_mem   box_loss   cls_loss   dfl_loss  Instances       Size\n"
     ]
    },
    {
     "name": "stderr",
     "output_type": "stream",
     "text": [
      "    124/200       1.1G     0.9736     0.7669     0.9825          9        416: 100%|██████████| 11/11 [00:01<00:00, 10.60it/s]\n",
      "                 Class     Images  Instances      Box(P          R      mAP50  mAP50-95): 100%|██████████| 2/2 [00:00<00:00,  8.94it/s]"
     ]
    },
    {
     "name": "stdout",
     "output_type": "stream",
     "text": [
      "                   all         40        150      0.805      0.287      0.339      0.201\n"
     ]
    },
    {
     "name": "stderr",
     "output_type": "stream",
     "text": [
      "\n"
     ]
    },
    {
     "name": "stdout",
     "output_type": "stream",
     "text": [
      "\n",
      "      Epoch    GPU_mem   box_loss   cls_loss   dfl_loss  Instances       Size\n"
     ]
    },
    {
     "name": "stderr",
     "output_type": "stream",
     "text": [
      "    125/200      1.09G     0.9531     0.6962     0.9729         16        416: 100%|██████████| 11/11 [00:01<00:00, 10.33it/s]\n",
      "                 Class     Images  Instances      Box(P          R      mAP50  mAP50-95): 100%|██████████| 2/2 [00:00<00:00,  9.29it/s]"
     ]
    },
    {
     "name": "stdout",
     "output_type": "stream",
     "text": [
      "                   all         40        150      0.623      0.276      0.358      0.205\n"
     ]
    },
    {
     "name": "stderr",
     "output_type": "stream",
     "text": [
      "\n"
     ]
    },
    {
     "name": "stdout",
     "output_type": "stream",
     "text": [
      "\n",
      "      Epoch    GPU_mem   box_loss   cls_loss   dfl_loss  Instances       Size\n"
     ]
    },
    {
     "name": "stderr",
     "output_type": "stream",
     "text": [
      "    126/200       1.1G      1.015     0.7052      1.001          2        416: 100%|██████████| 11/11 [00:01<00:00, 10.39it/s]\n",
      "                 Class     Images  Instances      Box(P          R      mAP50  mAP50-95): 100%|██████████| 2/2 [00:00<00:00,  9.64it/s]"
     ]
    },
    {
     "name": "stdout",
     "output_type": "stream",
     "text": [
      "                   all         40        150      0.464       0.35      0.392      0.224\n"
     ]
    },
    {
     "name": "stderr",
     "output_type": "stream",
     "text": [
      "\n"
     ]
    },
    {
     "name": "stdout",
     "output_type": "stream",
     "text": [
      "\n",
      "      Epoch    GPU_mem   box_loss   cls_loss   dfl_loss  Instances       Size\n"
     ]
    },
    {
     "name": "stderr",
     "output_type": "stream",
     "text": [
      "    127/200      1.08G     0.9927     0.7545     0.9852         21        416: 100%|██████████| 11/11 [00:01<00:00, 10.70it/s]\n",
      "                 Class     Images  Instances      Box(P          R      mAP50  mAP50-95): 100%|██████████| 2/2 [00:00<00:00,  8.96it/s]"
     ]
    },
    {
     "name": "stdout",
     "output_type": "stream",
     "text": [
      "                   all         40        150      0.423      0.439      0.392      0.227\n"
     ]
    },
    {
     "name": "stderr",
     "output_type": "stream",
     "text": [
      "\n"
     ]
    },
    {
     "name": "stdout",
     "output_type": "stream",
     "text": [
      "\n",
      "      Epoch    GPU_mem   box_loss   cls_loss   dfl_loss  Instances       Size\n"
     ]
    },
    {
     "name": "stderr",
     "output_type": "stream",
     "text": [
      "    128/200       1.1G     0.9887     0.7305      1.018          6        416: 100%|██████████| 11/11 [00:01<00:00, 10.71it/s]\n",
      "                 Class     Images  Instances      Box(P          R      mAP50  mAP50-95): 100%|██████████| 2/2 [00:00<00:00,  9.78it/s]"
     ]
    },
    {
     "name": "stdout",
     "output_type": "stream",
     "text": [
      "                   all         40        150      0.461      0.438      0.403      0.233\n"
     ]
    },
    {
     "name": "stderr",
     "output_type": "stream",
     "text": [
      "\n"
     ]
    },
    {
     "name": "stdout",
     "output_type": "stream",
     "text": [
      "\n",
      "      Epoch    GPU_mem   box_loss   cls_loss   dfl_loss  Instances       Size\n"
     ]
    },
    {
     "name": "stderr",
     "output_type": "stream",
     "text": [
      "    129/200       1.1G     0.9659     0.7462      0.976          1        416: 100%|██████████| 11/11 [00:00<00:00, 11.04it/s]\n",
      "                 Class     Images  Instances      Box(P          R      mAP50  mAP50-95): 100%|██████████| 2/2 [00:00<00:00,  9.17it/s]"
     ]
    },
    {
     "name": "stdout",
     "output_type": "stream",
     "text": [
      "                   all         40        150      0.455      0.439      0.413      0.237\n"
     ]
    },
    {
     "name": "stderr",
     "output_type": "stream",
     "text": [
      "\n"
     ]
    },
    {
     "name": "stdout",
     "output_type": "stream",
     "text": [
      "\n",
      "      Epoch    GPU_mem   box_loss   cls_loss   dfl_loss  Instances       Size\n"
     ]
    },
    {
     "name": "stderr",
     "output_type": "stream",
     "text": [
      "    130/200      1.09G     0.8931     0.6547     0.9689          4        416: 100%|██████████| 11/11 [00:00<00:00, 11.00it/s]\n",
      "                 Class     Images  Instances      Box(P          R      mAP50  mAP50-95): 100%|██████████| 2/2 [00:00<00:00,  9.17it/s]"
     ]
    },
    {
     "name": "stdout",
     "output_type": "stream",
     "text": [
      "                   all         40        150      0.507      0.439      0.421      0.239\n"
     ]
    },
    {
     "name": "stderr",
     "output_type": "stream",
     "text": [
      "\n"
     ]
    },
    {
     "name": "stdout",
     "output_type": "stream",
     "text": [
      "\n",
      "      Epoch    GPU_mem   box_loss   cls_loss   dfl_loss  Instances       Size\n"
     ]
    },
    {
     "name": "stderr",
     "output_type": "stream",
     "text": [
      "    131/200      1.08G      1.017     0.6657      1.026          3        416: 100%|██████████| 11/11 [00:01<00:00, 10.29it/s]\n",
      "                 Class     Images  Instances      Box(P          R      mAP50  mAP50-95): 100%|██████████| 2/2 [00:00<00:00,  8.30it/s]"
     ]
    },
    {
     "name": "stdout",
     "output_type": "stream",
     "text": [
      "                   all         40        150      0.506      0.384      0.422      0.224\n"
     ]
    },
    {
     "name": "stderr",
     "output_type": "stream",
     "text": [
      "\n"
     ]
    },
    {
     "name": "stdout",
     "output_type": "stream",
     "text": [
      "\n",
      "      Epoch    GPU_mem   box_loss   cls_loss   dfl_loss  Instances       Size\n"
     ]
    },
    {
     "name": "stderr",
     "output_type": "stream",
     "text": [
      "    132/200      1.09G     0.8969     0.7158     0.9574          4        416: 100%|██████████| 11/11 [00:01<00:00, 10.04it/s]\n",
      "                 Class     Images  Instances      Box(P          R      mAP50  mAP50-95): 100%|██████████| 2/2 [00:00<00:00,  9.29it/s]"
     ]
    },
    {
     "name": "stdout",
     "output_type": "stream",
     "text": [
      "                   all         40        150      0.483      0.445      0.413      0.225\n"
     ]
    },
    {
     "name": "stderr",
     "output_type": "stream",
     "text": [
      "\n"
     ]
    },
    {
     "name": "stdout",
     "output_type": "stream",
     "text": [
      "\n",
      "      Epoch    GPU_mem   box_loss   cls_loss   dfl_loss  Instances       Size\n"
     ]
    },
    {
     "name": "stderr",
     "output_type": "stream",
     "text": [
      "    133/200      1.09G     0.8319     0.9702     0.8779          0        416: 100%|██████████| 11/11 [00:00<00:00, 11.02it/s]\n",
      "                 Class     Images  Instances      Box(P          R      mAP50  mAP50-95): 100%|██████████| 2/2 [00:00<00:00,  8.87it/s]"
     ]
    },
    {
     "name": "stdout",
     "output_type": "stream",
     "text": [
      "                   all         40        150      0.474      0.448      0.405      0.219\n"
     ]
    },
    {
     "name": "stderr",
     "output_type": "stream",
     "text": [
      "\n"
     ]
    },
    {
     "name": "stdout",
     "output_type": "stream",
     "text": [
      "\n",
      "      Epoch    GPU_mem   box_loss   cls_loss   dfl_loss  Instances       Size\n"
     ]
    },
    {
     "name": "stderr",
     "output_type": "stream",
     "text": [
      "    134/200      1.09G     0.9758     0.6801     0.9606          3        416: 100%|██████████| 11/11 [00:01<00:00, 10.60it/s]\n",
      "                 Class     Images  Instances      Box(P          R      mAP50  mAP50-95): 100%|██████████| 2/2 [00:00<00:00,  9.00it/s]"
     ]
    },
    {
     "name": "stdout",
     "output_type": "stream",
     "text": [
      "                   all         40        150      0.471      0.369      0.395       0.21\n"
     ]
    },
    {
     "name": "stderr",
     "output_type": "stream",
     "text": [
      "\n"
     ]
    },
    {
     "name": "stdout",
     "output_type": "stream",
     "text": [
      "\n",
      "      Epoch    GPU_mem   box_loss   cls_loss   dfl_loss  Instances       Size\n"
     ]
    },
    {
     "name": "stderr",
     "output_type": "stream",
     "text": [
      "    135/200      1.08G      0.911     0.7381     0.9632          1        416: 100%|██████████| 11/11 [00:00<00:00, 11.13it/s]\n",
      "                 Class     Images  Instances      Box(P          R      mAP50  mAP50-95): 100%|██████████| 2/2 [00:00<00:00,  9.92it/s]"
     ]
    },
    {
     "name": "stdout",
     "output_type": "stream",
     "text": [
      "                   all         40        150      0.788      0.268      0.329      0.175\n"
     ]
    },
    {
     "name": "stderr",
     "output_type": "stream",
     "text": [
      "\n"
     ]
    },
    {
     "name": "stdout",
     "output_type": "stream",
     "text": [
      "\n",
      "      Epoch    GPU_mem   box_loss   cls_loss   dfl_loss  Instances       Size\n"
     ]
    },
    {
     "name": "stderr",
     "output_type": "stream",
     "text": [
      "    136/200       1.1G     0.9716      0.712      1.046          2        416: 100%|██████████| 11/11 [00:01<00:00, 10.39it/s]\n",
      "                 Class     Images  Instances      Box(P          R      mAP50  mAP50-95): 100%|██████████| 2/2 [00:00<00:00,  8.66it/s]"
     ]
    },
    {
     "name": "stdout",
     "output_type": "stream",
     "text": [
      "                   all         40        150      0.516      0.304      0.322       0.18\n"
     ]
    },
    {
     "name": "stderr",
     "output_type": "stream",
     "text": [
      "\n"
     ]
    },
    {
     "name": "stdout",
     "output_type": "stream",
     "text": [
      "\n",
      "      Epoch    GPU_mem   box_loss   cls_loss   dfl_loss  Instances       Size\n"
     ]
    },
    {
     "name": "stderr",
     "output_type": "stream",
     "text": [
      "    137/200      1.11G     0.9503     0.7002      1.036          1        416: 100%|██████████| 11/11 [00:01<00:00, 10.90it/s]\n",
      "                 Class     Images  Instances      Box(P          R      mAP50  mAP50-95): 100%|██████████| 2/2 [00:00<00:00,  9.73it/s]"
     ]
    },
    {
     "name": "stdout",
     "output_type": "stream",
     "text": [
      "                   all         40        150      0.476      0.309      0.316      0.175\n"
     ]
    },
    {
     "name": "stderr",
     "output_type": "stream",
     "text": [
      "\n"
     ]
    },
    {
     "name": "stdout",
     "output_type": "stream",
     "text": [
      "\n",
      "      Epoch    GPU_mem   box_loss   cls_loss   dfl_loss  Instances       Size\n"
     ]
    },
    {
     "name": "stderr",
     "output_type": "stream",
     "text": [
      "    138/200      1.09G     0.9263     0.6563     0.9718         12        416: 100%|██████████| 11/11 [00:01<00:00, 10.93it/s]\n",
      "                 Class     Images  Instances      Box(P          R      mAP50  mAP50-95): 100%|██████████| 2/2 [00:00<00:00,  8.63it/s]"
     ]
    },
    {
     "name": "stdout",
     "output_type": "stream",
     "text": [
      "                   all         40        150      0.532      0.284       0.31      0.174\n"
     ]
    },
    {
     "name": "stderr",
     "output_type": "stream",
     "text": [
      "\n"
     ]
    },
    {
     "name": "stdout",
     "output_type": "stream",
     "text": [
      "\n",
      "      Epoch    GPU_mem   box_loss   cls_loss   dfl_loss  Instances       Size\n"
     ]
    },
    {
     "name": "stderr",
     "output_type": "stream",
     "text": [
      "    139/200      1.08G     0.9461     0.6724     0.9907          1        416: 100%|██████████| 11/11 [00:01<00:00, 10.32it/s]\n",
      "                 Class     Images  Instances      Box(P          R      mAP50  mAP50-95): 100%|██████████| 2/2 [00:00<00:00,  8.90it/s]"
     ]
    },
    {
     "name": "stdout",
     "output_type": "stream",
     "text": [
      "                   all         40        150      0.497      0.345      0.313      0.177\n"
     ]
    },
    {
     "name": "stderr",
     "output_type": "stream",
     "text": [
      "\n"
     ]
    },
    {
     "name": "stdout",
     "output_type": "stream",
     "text": [
      "\n",
      "      Epoch    GPU_mem   box_loss   cls_loss   dfl_loss  Instances       Size\n"
     ]
    },
    {
     "name": "stderr",
     "output_type": "stream",
     "text": [
      "    140/200      1.09G     0.8857     0.6473     0.9436          1        416: 100%|██████████| 11/11 [00:01<00:00, 10.38it/s]\n",
      "                 Class     Images  Instances      Box(P          R      mAP50  mAP50-95): 100%|██████████| 2/2 [00:00<00:00,  9.08it/s]"
     ]
    },
    {
     "name": "stdout",
     "output_type": "stream",
     "text": [
      "                   all         40        150      0.482      0.323      0.309      0.177\n"
     ]
    },
    {
     "name": "stderr",
     "output_type": "stream",
     "text": [
      "\n"
     ]
    },
    {
     "name": "stdout",
     "output_type": "stream",
     "text": [
      "\n",
      "      Epoch    GPU_mem   box_loss   cls_loss   dfl_loss  Instances       Size\n"
     ]
    },
    {
     "name": "stderr",
     "output_type": "stream",
     "text": [
      "    141/200       1.1G     0.9297     0.6829     0.9779          5        416: 100%|██████████| 11/11 [00:01<00:00, 10.90it/s]\n",
      "                 Class     Images  Instances      Box(P          R      mAP50  mAP50-95): 100%|██████████| 2/2 [00:00<00:00,  9.28it/s]"
     ]
    },
    {
     "name": "stdout",
     "output_type": "stream",
     "text": [
      "                   all         40        150      0.521      0.359      0.338      0.192\n"
     ]
    },
    {
     "name": "stderr",
     "output_type": "stream",
     "text": [
      "\n"
     ]
    },
    {
     "name": "stdout",
     "output_type": "stream",
     "text": [
      "\n",
      "      Epoch    GPU_mem   box_loss   cls_loss   dfl_loss  Instances       Size\n"
     ]
    },
    {
     "name": "stderr",
     "output_type": "stream",
     "text": [
      "    142/200       1.1G     0.9154     0.8379     0.9909          3        416: 100%|██████████| 11/11 [00:01<00:00, 10.47it/s]\n",
      "                 Class     Images  Instances      Box(P          R      mAP50  mAP50-95): 100%|██████████| 2/2 [00:00<00:00,  9.34it/s]"
     ]
    },
    {
     "name": "stdout",
     "output_type": "stream",
     "text": [
      "                   all         40        150      0.572      0.344      0.362      0.209\n"
     ]
    },
    {
     "name": "stderr",
     "output_type": "stream",
     "text": [
      "\n"
     ]
    },
    {
     "name": "stdout",
     "output_type": "stream",
     "text": [
      "\n",
      "      Epoch    GPU_mem   box_loss   cls_loss   dfl_loss  Instances       Size\n"
     ]
    },
    {
     "name": "stderr",
     "output_type": "stream",
     "text": [
      "    143/200      1.08G      1.026     0.6894      1.027          1        416: 100%|██████████| 11/11 [00:01<00:00, 10.45it/s]\n",
      "                 Class     Images  Instances      Box(P          R      mAP50  mAP50-95): 100%|██████████| 2/2 [00:00<00:00,  9.54it/s]"
     ]
    },
    {
     "name": "stdout",
     "output_type": "stream",
     "text": [
      "                   all         40        150      0.523      0.373      0.378      0.214\n"
     ]
    },
    {
     "name": "stderr",
     "output_type": "stream",
     "text": [
      "\n"
     ]
    },
    {
     "name": "stdout",
     "output_type": "stream",
     "text": [
      "\n",
      "      Epoch    GPU_mem   box_loss   cls_loss   dfl_loss  Instances       Size\n"
     ]
    },
    {
     "name": "stderr",
     "output_type": "stream",
     "text": [
      "    144/200       1.1G     0.8684     0.6573     0.9427         12        416: 100%|██████████| 11/11 [00:01<00:00, 10.74it/s]\n",
      "                 Class     Images  Instances      Box(P          R      mAP50  mAP50-95): 100%|██████████| 2/2 [00:00<00:00,  9.41it/s]"
     ]
    },
    {
     "name": "stdout",
     "output_type": "stream",
     "text": [
      "                   all         40        150      0.595      0.357       0.39       0.22\n"
     ]
    },
    {
     "name": "stderr",
     "output_type": "stream",
     "text": [
      "\n"
     ]
    },
    {
     "name": "stdout",
     "output_type": "stream",
     "text": [
      "\n",
      "      Epoch    GPU_mem   box_loss   cls_loss   dfl_loss  Instances       Size\n"
     ]
    },
    {
     "name": "stderr",
     "output_type": "stream",
     "text": [
      "    145/200      1.09G     0.8415      1.184      0.882          0        416: 100%|██████████| 11/11 [00:01<00:00, 10.54it/s]\n",
      "                 Class     Images  Instances      Box(P          R      mAP50  mAP50-95): 100%|██████████| 2/2 [00:00<00:00,  9.39it/s]"
     ]
    },
    {
     "name": "stdout",
     "output_type": "stream",
     "text": [
      "                   all         40        150      0.604      0.354      0.389      0.216\n"
     ]
    },
    {
     "name": "stderr",
     "output_type": "stream",
     "text": [
      "\n"
     ]
    },
    {
     "name": "stdout",
     "output_type": "stream",
     "text": [
      "\n",
      "      Epoch    GPU_mem   box_loss   cls_loss   dfl_loss  Instances       Size\n"
     ]
    },
    {
     "name": "stderr",
     "output_type": "stream",
     "text": [
      "    146/200      1.09G     0.9448     0.6451     0.9628          6        416: 100%|██████████| 11/11 [00:01<00:00, 10.39it/s]\n",
      "                 Class     Images  Instances      Box(P          R      mAP50  mAP50-95): 100%|██████████| 2/2 [00:00<00:00,  8.85it/s]"
     ]
    },
    {
     "name": "stdout",
     "output_type": "stream",
     "text": [
      "                   all         40        150      0.584      0.363      0.365      0.206\n"
     ]
    },
    {
     "name": "stderr",
     "output_type": "stream",
     "text": [
      "\n"
     ]
    },
    {
     "name": "stdout",
     "output_type": "stream",
     "text": [
      "\n",
      "      Epoch    GPU_mem   box_loss   cls_loss   dfl_loss  Instances       Size\n"
     ]
    },
    {
     "name": "stderr",
     "output_type": "stream",
     "text": [
      "    147/200      1.08G     0.8436     0.6117     0.9496          7        416: 100%|██████████| 11/11 [00:01<00:00, 10.22it/s]\n",
      "                 Class     Images  Instances      Box(P          R      mAP50  mAP50-95): 100%|██████████| 2/2 [00:00<00:00,  9.24it/s]"
     ]
    },
    {
     "name": "stdout",
     "output_type": "stream",
     "text": [
      "                   all         40        150      0.577      0.336      0.363      0.204\n"
     ]
    },
    {
     "name": "stderr",
     "output_type": "stream",
     "text": [
      "\n"
     ]
    },
    {
     "name": "stdout",
     "output_type": "stream",
     "text": [
      "\n",
      "      Epoch    GPU_mem   box_loss   cls_loss   dfl_loss  Instances       Size\n"
     ]
    },
    {
     "name": "stderr",
     "output_type": "stream",
     "text": [
      "    148/200      1.09G      1.022      1.128      1.054          1        416: 100%|██████████| 11/11 [00:01<00:00, 10.71it/s]\n",
      "                 Class     Images  Instances      Box(P          R      mAP50  mAP50-95): 100%|██████████| 2/2 [00:00<00:00,  9.02it/s]"
     ]
    },
    {
     "name": "stdout",
     "output_type": "stream",
     "text": [
      "                   all         40        150      0.586      0.318       0.36      0.207\n"
     ]
    },
    {
     "name": "stderr",
     "output_type": "stream",
     "text": [
      "\n"
     ]
    },
    {
     "name": "stdout",
     "output_type": "stream",
     "text": [
      "\n",
      "      Epoch    GPU_mem   box_loss   cls_loss   dfl_loss  Instances       Size\n"
     ]
    },
    {
     "name": "stderr",
     "output_type": "stream",
     "text": [
      "    149/200       1.1G     0.8952     0.6619     0.9484         13        416: 100%|██████████| 11/11 [00:00<00:00, 11.13it/s]\n",
      "                 Class     Images  Instances      Box(P          R      mAP50  mAP50-95): 100%|██████████| 2/2 [00:00<00:00,  8.94it/s]"
     ]
    },
    {
     "name": "stdout",
     "output_type": "stream",
     "text": [
      "                   all         40        150       0.56      0.323      0.357      0.206\n"
     ]
    },
    {
     "name": "stderr",
     "output_type": "stream",
     "text": [
      "\n"
     ]
    },
    {
     "name": "stdout",
     "output_type": "stream",
     "text": [
      "\n",
      "      Epoch    GPU_mem   box_loss   cls_loss   dfl_loss  Instances       Size\n"
     ]
    },
    {
     "name": "stderr",
     "output_type": "stream",
     "text": [
      "    150/200       1.1G      0.958     0.6287     0.9769          1        416: 100%|██████████| 11/11 [00:01<00:00, 10.58it/s]\n",
      "                 Class     Images  Instances      Box(P          R      mAP50  mAP50-95): 100%|██████████| 2/2 [00:00<00:00,  9.61it/s]"
     ]
    },
    {
     "name": "stdout",
     "output_type": "stream",
     "text": [
      "                   all         40        150      0.604      0.297      0.347      0.199\n"
     ]
    },
    {
     "name": "stderr",
     "output_type": "stream",
     "text": [
      "\n"
     ]
    },
    {
     "name": "stdout",
     "output_type": "stream",
     "text": [
      "\n",
      "      Epoch    GPU_mem   box_loss   cls_loss   dfl_loss  Instances       Size\n"
     ]
    },
    {
     "name": "stderr",
     "output_type": "stream",
     "text": [
      "    151/200      1.08G     0.9376     0.8694     0.9109          1        416: 100%|██████████| 11/11 [00:01<00:00, 10.72it/s]\n",
      "                 Class     Images  Instances      Box(P          R      mAP50  mAP50-95): 100%|██████████| 2/2 [00:00<00:00,  9.22it/s]"
     ]
    },
    {
     "name": "stdout",
     "output_type": "stream",
     "text": [
      "                   all         40        150      0.573      0.314      0.344      0.199\n"
     ]
    },
    {
     "name": "stderr",
     "output_type": "stream",
     "text": [
      "\n"
     ]
    },
    {
     "name": "stdout",
     "output_type": "stream",
     "text": [
      "\n",
      "      Epoch    GPU_mem   box_loss   cls_loss   dfl_loss  Instances       Size\n"
     ]
    },
    {
     "name": "stderr",
     "output_type": "stream",
     "text": [
      "    152/200       1.1G     0.8759      0.783     0.9635          6        416: 100%|██████████| 11/11 [00:01<00:00, 10.66it/s]\n",
      "                 Class     Images  Instances      Box(P          R      mAP50  mAP50-95): 100%|██████████| 2/2 [00:00<00:00,  8.77it/s]"
     ]
    },
    {
     "name": "stdout",
     "output_type": "stream",
     "text": [
      "                   all         40        150      0.575      0.291      0.354      0.203\n"
     ]
    },
    {
     "name": "stderr",
     "output_type": "stream",
     "text": [
      "\n"
     ]
    },
    {
     "name": "stdout",
     "output_type": "stream",
     "text": [
      "\n",
      "      Epoch    GPU_mem   box_loss   cls_loss   dfl_loss  Instances       Size\n"
     ]
    },
    {
     "name": "stderr",
     "output_type": "stream",
     "text": [
      "    153/200      1.09G     0.8919     0.6298     0.9356         14        416: 100%|██████████| 11/11 [00:01<00:00, 10.42it/s]\n",
      "                 Class     Images  Instances      Box(P          R      mAP50  mAP50-95): 100%|██████████| 2/2 [00:00<00:00,  9.92it/s]"
     ]
    },
    {
     "name": "stdout",
     "output_type": "stream",
     "text": [
      "                   all         40        150      0.449      0.406      0.386      0.218\n"
     ]
    },
    {
     "name": "stderr",
     "output_type": "stream",
     "text": [
      "\n"
     ]
    },
    {
     "name": "stdout",
     "output_type": "stream",
     "text": [
      "\n",
      "      Epoch    GPU_mem   box_loss   cls_loss   dfl_loss  Instances       Size\n"
     ]
    },
    {
     "name": "stderr",
     "output_type": "stream",
     "text": [
      "    154/200      1.09G     0.8417     0.6753     0.9724          1        416: 100%|██████████| 11/11 [00:01<00:00, 10.17it/s]\n",
      "                 Class     Images  Instances      Box(P          R      mAP50  mAP50-95): 100%|██████████| 2/2 [00:00<00:00,  8.94it/s]"
     ]
    },
    {
     "name": "stdout",
     "output_type": "stream",
     "text": [
      "                   all         40        150      0.404      0.414      0.399      0.226\n"
     ]
    },
    {
     "name": "stderr",
     "output_type": "stream",
     "text": [
      "\n"
     ]
    },
    {
     "name": "stdout",
     "output_type": "stream",
     "text": [
      "\n",
      "      Epoch    GPU_mem   box_loss   cls_loss   dfl_loss  Instances       Size\n"
     ]
    },
    {
     "name": "stderr",
     "output_type": "stream",
     "text": [
      "    155/200      1.08G     0.8131     0.7947     0.8738          0        416: 100%|██████████| 11/11 [00:01<00:00, 10.65it/s]\n",
      "                 Class     Images  Instances      Box(P          R      mAP50  mAP50-95): 100%|██████████| 2/2 [00:00<00:00,  9.05it/s]"
     ]
    },
    {
     "name": "stdout",
     "output_type": "stream",
     "text": [
      "                   all         40        150      0.404      0.428      0.393       0.22\n"
     ]
    },
    {
     "name": "stderr",
     "output_type": "stream",
     "text": [
      "\n"
     ]
    },
    {
     "name": "stdout",
     "output_type": "stream",
     "text": [
      "\n",
      "      Epoch    GPU_mem   box_loss   cls_loss   dfl_loss  Instances       Size\n"
     ]
    },
    {
     "name": "stderr",
     "output_type": "stream",
     "text": [
      "    156/200      1.09G     0.9144      0.662     0.9833          9        416: 100%|██████████| 11/11 [00:01<00:00, 10.51it/s]\n",
      "                 Class     Images  Instances      Box(P          R      mAP50  mAP50-95): 100%|██████████| 2/2 [00:00<00:00,  9.34it/s]"
     ]
    },
    {
     "name": "stdout",
     "output_type": "stream",
     "text": [
      "                   all         40        150      0.477      0.419      0.393      0.211\n"
     ]
    },
    {
     "name": "stderr",
     "output_type": "stream",
     "text": [
      "\n"
     ]
    },
    {
     "name": "stdout",
     "output_type": "stream",
     "text": [
      "\n",
      "      Epoch    GPU_mem   box_loss   cls_loss   dfl_loss  Instances       Size\n"
     ]
    },
    {
     "name": "stderr",
     "output_type": "stream",
     "text": [
      "    157/200       1.1G     0.8667     0.5993     0.9436          5        416: 100%|██████████| 11/11 [00:00<00:00, 11.16it/s]\n",
      "                 Class     Images  Instances      Box(P          R      mAP50  mAP50-95): 100%|██████████| 2/2 [00:00<00:00,  8.92it/s]"
     ]
    },
    {
     "name": "stdout",
     "output_type": "stream",
     "text": [
      "                   all         40        150       0.41      0.414      0.394      0.208\n"
     ]
    },
    {
     "name": "stderr",
     "output_type": "stream",
     "text": [
      "\n"
     ]
    },
    {
     "name": "stdout",
     "output_type": "stream",
     "text": [
      "\n",
      "      Epoch    GPU_mem   box_loss   cls_loss   dfl_loss  Instances       Size\n"
     ]
    },
    {
     "name": "stderr",
     "output_type": "stream",
     "text": [
      "    158/200      1.09G     0.8614     0.6113     0.9445          9        416: 100%|██████████| 11/11 [00:00<00:00, 11.08it/s]\n",
      "                 Class     Images  Instances      Box(P          R      mAP50  mAP50-95): 100%|██████████| 2/2 [00:00<00:00,  8.80it/s]"
     ]
    },
    {
     "name": "stdout",
     "output_type": "stream",
     "text": [
      "                   all         40        150       0.38      0.416      0.359      0.203\n"
     ]
    },
    {
     "name": "stderr",
     "output_type": "stream",
     "text": [
      "\n"
     ]
    },
    {
     "name": "stdout",
     "output_type": "stream",
     "text": [
      "\n",
      "      Epoch    GPU_mem   box_loss   cls_loss   dfl_loss  Instances       Size\n"
     ]
    },
    {
     "name": "stderr",
     "output_type": "stream",
     "text": [
      "    159/200      1.08G     0.9017      0.635     0.9602          5        416: 100%|██████████| 11/11 [00:01<00:00, 10.73it/s]\n",
      "                 Class     Images  Instances      Box(P          R      mAP50  mAP50-95): 100%|██████████| 2/2 [00:00<00:00,  9.24it/s]"
     ]
    },
    {
     "name": "stdout",
     "output_type": "stream",
     "text": [
      "                   all         40        150      0.394      0.432      0.395      0.217\n"
     ]
    },
    {
     "name": "stderr",
     "output_type": "stream",
     "text": [
      "\n"
     ]
    },
    {
     "name": "stdout",
     "output_type": "stream",
     "text": [
      "\n",
      "      Epoch    GPU_mem   box_loss   cls_loss   dfl_loss  Instances       Size\n"
     ]
    },
    {
     "name": "stderr",
     "output_type": "stream",
     "text": [
      "    160/200       1.1G     0.8235     0.7397     0.9634          4        416: 100%|██████████| 11/11 [00:01<00:00, 10.74it/s]\n",
      "                 Class     Images  Instances      Box(P          R      mAP50  mAP50-95): 100%|██████████| 2/2 [00:00<00:00,  9.10it/s]"
     ]
    },
    {
     "name": "stdout",
     "output_type": "stream",
     "text": [
      "                   all         40        150      0.428      0.423      0.399      0.219\n"
     ]
    },
    {
     "name": "stderr",
     "output_type": "stream",
     "text": [
      "\n"
     ]
    },
    {
     "name": "stdout",
     "output_type": "stream",
     "text": [
      "\n",
      "      Epoch    GPU_mem   box_loss   cls_loss   dfl_loss  Instances       Size\n"
     ]
    },
    {
     "name": "stderr",
     "output_type": "stream",
     "text": [
      "    161/200      1.09G     0.9222     0.7698       1.03          9        416: 100%|██████████| 11/11 [00:01<00:00, 10.56it/s]\n",
      "                 Class     Images  Instances      Box(P          R      mAP50  mAP50-95): 100%|██████████| 2/2 [00:00<00:00,  9.38it/s]"
     ]
    },
    {
     "name": "stdout",
     "output_type": "stream",
     "text": [
      "                   all         40        150      0.438      0.411      0.392      0.217\n"
     ]
    },
    {
     "name": "stderr",
     "output_type": "stream",
     "text": [
      "\n"
     ]
    },
    {
     "name": "stdout",
     "output_type": "stream",
     "text": [
      "\n",
      "      Epoch    GPU_mem   box_loss   cls_loss   dfl_loss  Instances       Size\n"
     ]
    },
    {
     "name": "stderr",
     "output_type": "stream",
     "text": [
      "    162/200      1.09G     0.8854     0.7013     0.9664          4        416: 100%|██████████| 11/11 [00:01<00:00, 10.16it/s]\n",
      "                 Class     Images  Instances      Box(P          R      mAP50  mAP50-95): 100%|██████████| 2/2 [00:00<00:00,  8.64it/s]"
     ]
    },
    {
     "name": "stdout",
     "output_type": "stream",
     "text": [
      "                   all         40        150      0.479      0.395      0.386      0.217\n"
     ]
    },
    {
     "name": "stderr",
     "output_type": "stream",
     "text": [
      "\n"
     ]
    },
    {
     "name": "stdout",
     "output_type": "stream",
     "text": [
      "\n",
      "      Epoch    GPU_mem   box_loss   cls_loss   dfl_loss  Instances       Size\n"
     ]
    },
    {
     "name": "stderr",
     "output_type": "stream",
     "text": [
      "    163/200      1.08G     0.8511     0.5995     0.9437          5        416: 100%|██████████| 11/11 [00:01<00:00, 10.72it/s]\n",
      "                 Class     Images  Instances      Box(P          R      mAP50  mAP50-95): 100%|██████████| 2/2 [00:00<00:00,  9.70it/s]"
     ]
    },
    {
     "name": "stdout",
     "output_type": "stream",
     "text": [
      "                   all         40        150      0.423       0.42      0.383      0.213\n"
     ]
    },
    {
     "name": "stderr",
     "output_type": "stream",
     "text": [
      "\n"
     ]
    },
    {
     "name": "stdout",
     "output_type": "stream",
     "text": [
      "\n",
      "      Epoch    GPU_mem   box_loss   cls_loss   dfl_loss  Instances       Size\n"
     ]
    },
    {
     "name": "stderr",
     "output_type": "stream",
     "text": [
      "    164/200      1.09G     0.8294     0.6266     0.9581         10        416: 100%|██████████| 11/11 [00:01<00:00, 10.61it/s]\n",
      "                 Class     Images  Instances      Box(P          R      mAP50  mAP50-95): 100%|██████████| 2/2 [00:00<00:00,  8.80it/s]"
     ]
    },
    {
     "name": "stdout",
     "output_type": "stream",
     "text": [
      "                   all         40        150      0.483      0.347      0.379      0.211\n"
     ]
    },
    {
     "name": "stderr",
     "output_type": "stream",
     "text": [
      "\n"
     ]
    },
    {
     "name": "stdout",
     "output_type": "stream",
     "text": [
      "\n",
      "      Epoch    GPU_mem   box_loss   cls_loss   dfl_loss  Instances       Size\n"
     ]
    },
    {
     "name": "stderr",
     "output_type": "stream",
     "text": [
      "    165/200      1.09G     0.8927     0.6526     0.9308          6        416: 100%|██████████| 11/11 [00:01<00:00, 10.83it/s]\n",
      "                 Class     Images  Instances      Box(P          R      mAP50  mAP50-95): 100%|██████████| 2/2 [00:00<00:00,  9.93it/s]"
     ]
    },
    {
     "name": "stdout",
     "output_type": "stream",
     "text": [
      "                   all         40        150      0.487      0.334      0.378      0.207\n"
     ]
    },
    {
     "name": "stderr",
     "output_type": "stream",
     "text": [
      "\n"
     ]
    },
    {
     "name": "stdout",
     "output_type": "stream",
     "text": [
      "\n",
      "      Epoch    GPU_mem   box_loss   cls_loss   dfl_loss  Instances       Size\n"
     ]
    },
    {
     "name": "stderr",
     "output_type": "stream",
     "text": [
      "    166/200      1.11G     0.8884     0.7276      0.958         11        416: 100%|██████████| 11/11 [00:01<00:00, 10.65it/s]\n",
      "                 Class     Images  Instances      Box(P          R      mAP50  mAP50-95): 100%|██████████| 2/2 [00:00<00:00,  9.04it/s]"
     ]
    },
    {
     "name": "stdout",
     "output_type": "stream",
     "text": [
      "                   all         40        150      0.475      0.332      0.378      0.205\n"
     ]
    },
    {
     "name": "stderr",
     "output_type": "stream",
     "text": [
      "\n"
     ]
    },
    {
     "name": "stdout",
     "output_type": "stream",
     "text": [
      "\n",
      "      Epoch    GPU_mem   box_loss   cls_loss   dfl_loss  Instances       Size\n"
     ]
    },
    {
     "name": "stderr",
     "output_type": "stream",
     "text": [
      "    167/200      1.08G     0.8267     0.6442     0.9329         13        416: 100%|██████████| 11/11 [00:01<00:00, 10.96it/s]\n",
      "                 Class     Images  Instances      Box(P          R      mAP50  mAP50-95): 100%|██████████| 2/2 [00:00<00:00,  9.07it/s]"
     ]
    },
    {
     "name": "stdout",
     "output_type": "stream",
     "text": [
      "                   all         40        150      0.465      0.337      0.379      0.208\n"
     ]
    },
    {
     "name": "stderr",
     "output_type": "stream",
     "text": [
      "\n"
     ]
    },
    {
     "name": "stdout",
     "output_type": "stream",
     "text": [
      "\n",
      "      Epoch    GPU_mem   box_loss   cls_loss   dfl_loss  Instances       Size\n"
     ]
    },
    {
     "name": "stderr",
     "output_type": "stream",
     "text": [
      "    168/200      1.09G     0.8482     0.6276     0.9333         15        416: 100%|██████████| 11/11 [00:01<00:00, 10.70it/s]\n",
      "                 Class     Images  Instances      Box(P          R      mAP50  mAP50-95): 100%|██████████| 2/2 [00:00<00:00,  9.36it/s]"
     ]
    },
    {
     "name": "stdout",
     "output_type": "stream",
     "text": [
      "                   all         40        150      0.427      0.418      0.377      0.208\n"
     ]
    },
    {
     "name": "stderr",
     "output_type": "stream",
     "text": [
      "\n"
     ]
    },
    {
     "name": "stdout",
     "output_type": "stream",
     "text": [
      "\n",
      "      Epoch    GPU_mem   box_loss   cls_loss   dfl_loss  Instances       Size\n"
     ]
    },
    {
     "name": "stderr",
     "output_type": "stream",
     "text": [
      "    169/200       1.1G     0.8696      0.584     0.9579          3        416: 100%|██████████| 11/11 [00:01<00:00, 10.64it/s]\n",
      "                 Class     Images  Instances      Box(P          R      mAP50  mAP50-95): 100%|██████████| 2/2 [00:00<00:00,  9.46it/s]"
     ]
    },
    {
     "name": "stdout",
     "output_type": "stream",
     "text": [
      "                   all         40        150      0.442      0.394      0.377      0.206\n"
     ]
    },
    {
     "name": "stderr",
     "output_type": "stream",
     "text": [
      "\n"
     ]
    },
    {
     "name": "stdout",
     "output_type": "stream",
     "text": [
      "\n",
      "      Epoch    GPU_mem   box_loss   cls_loss   dfl_loss  Instances       Size\n"
     ]
    },
    {
     "name": "stderr",
     "output_type": "stream",
     "text": [
      "    170/200       1.1G     0.7821     0.6248     0.8651          0        416: 100%|██████████| 11/11 [00:01<00:00, 10.62it/s]\n",
      "                 Class     Images  Instances      Box(P          R      mAP50  mAP50-95): 100%|██████████| 2/2 [00:00<00:00,  9.61it/s]"
     ]
    },
    {
     "name": "stdout",
     "output_type": "stream",
     "text": [
      "                   all         40        150      0.448      0.393      0.379      0.209\n"
     ]
    },
    {
     "name": "stderr",
     "output_type": "stream",
     "text": [
      "\n"
     ]
    },
    {
     "name": "stdout",
     "output_type": "stream",
     "text": [
      "\n",
      "      Epoch    GPU_mem   box_loss   cls_loss   dfl_loss  Instances       Size\n"
     ]
    },
    {
     "name": "stderr",
     "output_type": "stream",
     "text": [
      "    171/200      1.08G     0.8716     0.8164     0.9564         10        416: 100%|██████████| 11/11 [00:01<00:00, 10.45it/s]\n",
      "                 Class     Images  Instances      Box(P          R      mAP50  mAP50-95): 100%|██████████| 2/2 [00:00<00:00,  9.19it/s]"
     ]
    },
    {
     "name": "stdout",
     "output_type": "stream",
     "text": [
      "                   all         40        150       0.42      0.407      0.383      0.212\n"
     ]
    },
    {
     "name": "stderr",
     "output_type": "stream",
     "text": [
      "\n"
     ]
    },
    {
     "name": "stdout",
     "output_type": "stream",
     "text": [
      "\n",
      "      Epoch    GPU_mem   box_loss   cls_loss   dfl_loss  Instances       Size\n"
     ]
    },
    {
     "name": "stderr",
     "output_type": "stream",
     "text": [
      "    172/200      1.09G     0.8118     0.6781     0.9551          5        416: 100%|██████████| 11/11 [00:00<00:00, 11.04it/s]\n",
      "                 Class     Images  Instances      Box(P          R      mAP50  mAP50-95): 100%|██████████| 2/2 [00:00<00:00,  9.55it/s]"
     ]
    },
    {
     "name": "stdout",
     "output_type": "stream",
     "text": [
      "                   all         40        150      0.411      0.419      0.378      0.209\n"
     ]
    },
    {
     "name": "stderr",
     "output_type": "stream",
     "text": [
      "\n"
     ]
    },
    {
     "name": "stdout",
     "output_type": "stream",
     "text": [
      "\n",
      "      Epoch    GPU_mem   box_loss   cls_loss   dfl_loss  Instances       Size\n"
     ]
    },
    {
     "name": "stderr",
     "output_type": "stream",
     "text": [
      "    173/200       1.1G     0.8417     0.5978     0.9389          3        416: 100%|██████████| 11/11 [00:01<00:00, 10.78it/s]\n",
      "                 Class     Images  Instances      Box(P          R      mAP50  mAP50-95): 100%|██████████| 2/2 [00:00<00:00,  9.38it/s]"
     ]
    },
    {
     "name": "stdout",
     "output_type": "stream",
     "text": [
      "                   all         40        150      0.423      0.419      0.382       0.21\n"
     ]
    },
    {
     "name": "stderr",
     "output_type": "stream",
     "text": [
      "\n"
     ]
    },
    {
     "name": "stdout",
     "output_type": "stream",
     "text": [
      "\n",
      "      Epoch    GPU_mem   box_loss   cls_loss   dfl_loss  Instances       Size\n"
     ]
    },
    {
     "name": "stderr",
     "output_type": "stream",
     "text": [
      "    174/200      1.09G      0.839     0.5653     0.9229          2        416: 100%|██████████| 11/11 [00:01<00:00, 10.64it/s]\n",
      "                 Class     Images  Instances      Box(P          R      mAP50  mAP50-95): 100%|██████████| 2/2 [00:00<00:00, 10.08it/s]"
     ]
    },
    {
     "name": "stdout",
     "output_type": "stream",
     "text": [
      "                   all         40        150      0.393      0.426      0.382      0.211\n"
     ]
    },
    {
     "name": "stderr",
     "output_type": "stream",
     "text": [
      "\n"
     ]
    },
    {
     "name": "stdout",
     "output_type": "stream",
     "text": [
      "\n",
      "      Epoch    GPU_mem   box_loss   cls_loss   dfl_loss  Instances       Size\n"
     ]
    },
    {
     "name": "stderr",
     "output_type": "stream",
     "text": [
      "    175/200      1.09G     0.8431     0.6549     0.9524          7        416: 100%|██████████| 11/11 [00:01<00:00, 10.98it/s]\n",
      "                 Class     Images  Instances      Box(P          R      mAP50  mAP50-95): 100%|██████████| 2/2 [00:00<00:00,  9.72it/s]"
     ]
    },
    {
     "name": "stdout",
     "output_type": "stream",
     "text": [
      "                   all         40        150      0.426      0.428      0.381      0.208\n"
     ]
    },
    {
     "name": "stderr",
     "output_type": "stream",
     "text": [
      "\n"
     ]
    },
    {
     "name": "stdout",
     "output_type": "stream",
     "text": [
      "\n",
      "      Epoch    GPU_mem   box_loss   cls_loss   dfl_loss  Instances       Size\n"
     ]
    },
    {
     "name": "stderr",
     "output_type": "stream",
     "text": [
      "    176/200      1.09G     0.8222     0.6132     0.9376          5        416: 100%|██████████| 11/11 [00:01<00:00, 10.63it/s]\n",
      "                 Class     Images  Instances      Box(P          R      mAP50  mAP50-95): 100%|██████████| 2/2 [00:00<00:00,  8.97it/s]"
     ]
    },
    {
     "name": "stdout",
     "output_type": "stream",
     "text": [
      "                   all         40        150      0.465      0.423      0.382      0.212\n"
     ]
    },
    {
     "name": "stderr",
     "output_type": "stream",
     "text": [
      "\n"
     ]
    },
    {
     "name": "stdout",
     "output_type": "stream",
     "text": [
      "\n",
      "      Epoch    GPU_mem   box_loss   cls_loss   dfl_loss  Instances       Size\n"
     ]
    },
    {
     "name": "stderr",
     "output_type": "stream",
     "text": [
      "    177/200      1.09G     0.8061     0.6275     0.9513          3        416: 100%|██████████| 11/11 [00:01<00:00, 10.22it/s]\n",
      "                 Class     Images  Instances      Box(P          R      mAP50  mAP50-95): 100%|██████████| 2/2 [00:00<00:00,  8.80it/s]"
     ]
    },
    {
     "name": "stdout",
     "output_type": "stream",
     "text": [
      "                   all         40        150      0.486      0.402      0.382      0.211\n"
     ]
    },
    {
     "name": "stderr",
     "output_type": "stream",
     "text": [
      "\n"
     ]
    },
    {
     "name": "stdout",
     "output_type": "stream",
     "text": [
      "\n",
      "      Epoch    GPU_mem   box_loss   cls_loss   dfl_loss  Instances       Size\n"
     ]
    },
    {
     "name": "stderr",
     "output_type": "stream",
     "text": [
      "    178/200      1.09G     0.8587     0.5863     0.9589          7        416: 100%|██████████| 11/11 [00:01<00:00, 10.68it/s]\n",
      "                 Class     Images  Instances      Box(P          R      mAP50  mAP50-95): 100%|██████████| 2/2 [00:00<00:00,  8.99it/s]"
     ]
    },
    {
     "name": "stdout",
     "output_type": "stream",
     "text": [
      "                   all         40        150      0.503       0.37      0.381      0.211\n"
     ]
    },
    {
     "name": "stderr",
     "output_type": "stream",
     "text": [
      "\n"
     ]
    },
    {
     "name": "stdout",
     "output_type": "stream",
     "text": [
      "\n",
      "      Epoch    GPU_mem   box_loss   cls_loss   dfl_loss  Instances       Size\n"
     ]
    },
    {
     "name": "stderr",
     "output_type": "stream",
     "text": [
      "    179/200      1.09G     0.8456     0.6444     0.9562          4        416: 100%|██████████| 11/11 [00:01<00:00, 10.52it/s]\n",
      "                 Class     Images  Instances      Box(P          R      mAP50  mAP50-95): 100%|██████████| 2/2 [00:00<00:00,  9.14it/s]"
     ]
    },
    {
     "name": "stdout",
     "output_type": "stream",
     "text": [
      "                   all         40        150      0.521      0.364      0.377       0.21\n"
     ]
    },
    {
     "name": "stderr",
     "output_type": "stream",
     "text": [
      "\n"
     ]
    },
    {
     "name": "stdout",
     "output_type": "stream",
     "text": [
      "\n",
      "      Epoch    GPU_mem   box_loss   cls_loss   dfl_loss  Instances       Size\n"
     ]
    },
    {
     "name": "stderr",
     "output_type": "stream",
     "text": [
      "    180/200      1.09G     0.8397      0.591     0.9631          2        416: 100%|██████████| 11/11 [00:01<00:00, 10.48it/s]\n",
      "                 Class     Images  Instances      Box(P          R      mAP50  mAP50-95): 100%|██████████| 2/2 [00:00<00:00,  9.33it/s]"
     ]
    },
    {
     "name": "stdout",
     "output_type": "stream",
     "text": [
      "                   all         40        150      0.516      0.362      0.377      0.211\n"
     ]
    },
    {
     "name": "stderr",
     "output_type": "stream",
     "text": [
      "\n"
     ]
    },
    {
     "name": "stdout",
     "output_type": "stream",
     "text": [
      "\n",
      "      Epoch    GPU_mem   box_loss   cls_loss   dfl_loss  Instances       Size\n"
     ]
    },
    {
     "name": "stderr",
     "output_type": "stream",
     "text": [
      "    181/200      1.09G       0.76     0.5453     0.9463          1        416: 100%|██████████| 11/11 [00:01<00:00, 10.82it/s]\n",
      "                 Class     Images  Instances      Box(P          R      mAP50  mAP50-95): 100%|██████████| 2/2 [00:00<00:00,  9.66it/s]"
     ]
    },
    {
     "name": "stdout",
     "output_type": "stream",
     "text": [
      "                   all         40        150      0.497      0.379       0.38      0.211\n"
     ]
    },
    {
     "name": "stderr",
     "output_type": "stream",
     "text": [
      "\n"
     ]
    },
    {
     "name": "stdout",
     "output_type": "stream",
     "text": [
      "\n",
      "      Epoch    GPU_mem   box_loss   cls_loss   dfl_loss  Instances       Size\n"
     ]
    },
    {
     "name": "stderr",
     "output_type": "stream",
     "text": [
      "    182/200      1.09G     0.8231     0.6674     0.9552          3        416: 100%|██████████| 11/11 [00:01<00:00, 10.49it/s]\n",
      "                 Class     Images  Instances      Box(P          R      mAP50  mAP50-95): 100%|██████████| 2/2 [00:00<00:00,  8.48it/s]"
     ]
    },
    {
     "name": "stdout",
     "output_type": "stream",
     "text": [
      "                   all         40        150      0.495      0.396      0.385      0.213\n"
     ]
    },
    {
     "name": "stderr",
     "output_type": "stream",
     "text": [
      "\n"
     ]
    },
    {
     "name": "stdout",
     "output_type": "stream",
     "text": [
      "\n",
      "      Epoch    GPU_mem   box_loss   cls_loss   dfl_loss  Instances       Size\n"
     ]
    },
    {
     "name": "stderr",
     "output_type": "stream",
     "text": [
      "    183/200      1.08G     0.8438     0.7824     0.9734          9        416: 100%|██████████| 11/11 [00:01<00:00, 10.64it/s]\n",
      "                 Class     Images  Instances      Box(P          R      mAP50  mAP50-95): 100%|██████████| 2/2 [00:00<00:00,  9.31it/s]"
     ]
    },
    {
     "name": "stdout",
     "output_type": "stream",
     "text": [
      "                   all         40        150      0.522      0.389      0.391      0.218\n"
     ]
    },
    {
     "name": "stderr",
     "output_type": "stream",
     "text": [
      "\n"
     ]
    },
    {
     "name": "stdout",
     "output_type": "stream",
     "text": [
      "\n",
      "      Epoch    GPU_mem   box_loss   cls_loss   dfl_loss  Instances       Size\n"
     ]
    },
    {
     "name": "stderr",
     "output_type": "stream",
     "text": [
      "    184/200       1.1G     0.8305     0.6535     0.9303         11        416: 100%|██████████| 11/11 [00:01<00:00,  9.92it/s]\n",
      "                 Class     Images  Instances      Box(P          R      mAP50  mAP50-95): 100%|██████████| 2/2 [00:00<00:00,  8.98it/s]"
     ]
    },
    {
     "name": "stdout",
     "output_type": "stream",
     "text": [
      "                   all         40        150      0.521      0.401      0.395       0.22\n"
     ]
    },
    {
     "name": "stderr",
     "output_type": "stream",
     "text": [
      "\n"
     ]
    },
    {
     "name": "stdout",
     "output_type": "stream",
     "text": [
      "\n",
      "      Epoch    GPU_mem   box_loss   cls_loss   dfl_loss  Instances       Size\n"
     ]
    },
    {
     "name": "stderr",
     "output_type": "stream",
     "text": [
      "    185/200      1.09G     0.8065     0.6444     0.9468          3        416: 100%|██████████| 11/11 [00:01<00:00, 10.40it/s]\n",
      "                 Class     Images  Instances      Box(P          R      mAP50  mAP50-95): 100%|██████████| 2/2 [00:00<00:00,  8.75it/s]"
     ]
    },
    {
     "name": "stdout",
     "output_type": "stream",
     "text": [
      "                   all         40        150      0.504      0.402      0.393      0.215\n"
     ]
    },
    {
     "name": "stderr",
     "output_type": "stream",
     "text": [
      "\n"
     ]
    },
    {
     "name": "stdout",
     "output_type": "stream",
     "text": [
      "\n",
      "      Epoch    GPU_mem   box_loss   cls_loss   dfl_loss  Instances       Size\n"
     ]
    },
    {
     "name": "stderr",
     "output_type": "stream",
     "text": [
      "    186/200       1.1G     0.8096     0.5677     0.9499          4        416: 100%|██████████| 11/11 [00:00<00:00, 11.25it/s]\n",
      "                 Class     Images  Instances      Box(P          R      mAP50  mAP50-95): 100%|██████████| 2/2 [00:00<00:00,  9.92it/s]"
     ]
    },
    {
     "name": "stdout",
     "output_type": "stream",
     "text": [
      "                   all         40        150      0.475      0.407      0.397      0.218\n"
     ]
    },
    {
     "name": "stderr",
     "output_type": "stream",
     "text": [
      "\n"
     ]
    },
    {
     "name": "stdout",
     "output_type": "stream",
     "text": [
      "\n",
      "      Epoch    GPU_mem   box_loss   cls_loss   dfl_loss  Instances       Size\n"
     ]
    },
    {
     "name": "stderr",
     "output_type": "stream",
     "text": [
      "    187/200      1.08G     0.7921     0.6292      0.941         16        416: 100%|██████████| 11/11 [00:01<00:00, 10.93it/s]\n",
      "                 Class     Images  Instances      Box(P          R      mAP50  mAP50-95): 100%|██████████| 2/2 [00:00<00:00,  9.73it/s]"
     ]
    },
    {
     "name": "stdout",
     "output_type": "stream",
     "text": [
      "                   all         40        150      0.457      0.407      0.397      0.221\n"
     ]
    },
    {
     "name": "stderr",
     "output_type": "stream",
     "text": [
      "\n"
     ]
    },
    {
     "name": "stdout",
     "output_type": "stream",
     "text": [
      "\n",
      "      Epoch    GPU_mem   box_loss   cls_loss   dfl_loss  Instances       Size\n"
     ]
    },
    {
     "name": "stderr",
     "output_type": "stream",
     "text": [
      "    188/200      1.09G     0.8404     0.5896     0.9509          4        416: 100%|██████████| 11/11 [00:01<00:00, 10.35it/s]\n",
      "                 Class     Images  Instances      Box(P          R      mAP50  mAP50-95): 100%|██████████| 2/2 [00:00<00:00,  9.09it/s]"
     ]
    },
    {
     "name": "stdout",
     "output_type": "stream",
     "text": [
      "                   all         40        150      0.458      0.412      0.399      0.222\n"
     ]
    },
    {
     "name": "stderr",
     "output_type": "stream",
     "text": [
      "\n"
     ]
    },
    {
     "name": "stdout",
     "output_type": "stream",
     "text": [
      "\n",
      "      Epoch    GPU_mem   box_loss   cls_loss   dfl_loss  Instances       Size\n"
     ]
    },
    {
     "name": "stderr",
     "output_type": "stream",
     "text": [
      "    189/200       1.1G     0.7768     0.5309     0.9056          1        416: 100%|██████████| 11/11 [00:01<00:00, 10.86it/s]\n",
      "                 Class     Images  Instances      Box(P          R      mAP50  mAP50-95): 100%|██████████| 2/2 [00:00<00:00,  9.74it/s]"
     ]
    },
    {
     "name": "stdout",
     "output_type": "stream",
     "text": [
      "                   all         40        150      0.448      0.421      0.404      0.223\n"
     ]
    },
    {
     "name": "stderr",
     "output_type": "stream",
     "text": [
      "\n"
     ]
    },
    {
     "name": "stdout",
     "output_type": "stream",
     "text": [
      "\n",
      "      Epoch    GPU_mem   box_loss   cls_loss   dfl_loss  Instances       Size\n"
     ]
    },
    {
     "name": "stderr",
     "output_type": "stream",
     "text": [
      "    190/200      1.09G     0.8645     0.5975     0.9962          2        416: 100%|██████████| 11/11 [00:01<00:00, 10.36it/s]\n",
      "                 Class     Images  Instances      Box(P          R      mAP50  mAP50-95): 100%|██████████| 2/2 [00:00<00:00,  9.41it/s]"
     ]
    },
    {
     "name": "stdout",
     "output_type": "stream",
     "text": [
      "                   all         40        150      0.445      0.416      0.407      0.224\n"
     ]
    },
    {
     "name": "stderr",
     "output_type": "stream",
     "text": [
      "\n"
     ]
    },
    {
     "name": "stdout",
     "output_type": "stream",
     "text": [
      "Closing dataloader mosaic\n",
      "\u001b[34m\u001b[1malbumentations: \u001b[0mBlur(p=0.01, blur_limit=(3, 7)), MedianBlur(p=0.01, blur_limit=(3, 7)), ToGray(p=0.01), CLAHE(p=0.01, clip_limit=(1, 4.0), tile_grid_size=(8, 8))\n",
      "\n",
      "      Epoch    GPU_mem   box_loss   cls_loss   dfl_loss  Instances       Size\n"
     ]
    },
    {
     "name": "stderr",
     "output_type": "stream",
     "text": [
      "    191/200      1.22G     0.8039     0.5514     0.9224          9        416: 100%|██████████| 11/11 [00:03<00:00,  3.24it/s]\n",
      "                 Class     Images  Instances      Box(P          R      mAP50  mAP50-95): 100%|██████████| 2/2 [00:00<00:00,  7.99it/s]"
     ]
    },
    {
     "name": "stdout",
     "output_type": "stream",
     "text": [
      "                   all         40        150      0.467      0.421      0.398      0.221\n"
     ]
    },
    {
     "name": "stderr",
     "output_type": "stream",
     "text": [
      "\n"
     ]
    },
    {
     "name": "stdout",
     "output_type": "stream",
     "text": [
      "\n",
      "      Epoch    GPU_mem   box_loss   cls_loss   dfl_loss  Instances       Size\n"
     ]
    },
    {
     "name": "stderr",
     "output_type": "stream",
     "text": [
      "    192/200      1.09G     0.8628     0.5676      0.902          7        416: 100%|██████████| 11/11 [00:01<00:00,  9.67it/s]\n",
      "                 Class     Images  Instances      Box(P          R      mAP50  mAP50-95): 100%|██████████| 2/2 [00:00<00:00,  9.61it/s]"
     ]
    },
    {
     "name": "stdout",
     "output_type": "stream",
     "text": [
      "                   all         40        150      0.457      0.418      0.392      0.218\n"
     ]
    },
    {
     "name": "stderr",
     "output_type": "stream",
     "text": [
      "\n"
     ]
    },
    {
     "name": "stdout",
     "output_type": "stream",
     "text": [
      "\n",
      "      Epoch    GPU_mem   box_loss   cls_loss   dfl_loss  Instances       Size\n"
     ]
    },
    {
     "name": "stderr",
     "output_type": "stream",
     "text": [
      "    193/200      1.09G     0.7208     0.5989     0.8861          7        416: 100%|██████████| 11/11 [00:01<00:00, 10.01it/s]\n",
      "                 Class     Images  Instances      Box(P          R      mAP50  mAP50-95): 100%|██████████| 2/2 [00:00<00:00,  8.03it/s]"
     ]
    },
    {
     "name": "stdout",
     "output_type": "stream",
     "text": [
      "                   all         40        150      0.453      0.416      0.393      0.217\n"
     ]
    },
    {
     "name": "stderr",
     "output_type": "stream",
     "text": [
      "\n"
     ]
    },
    {
     "name": "stdout",
     "output_type": "stream",
     "text": [
      "\n",
      "      Epoch    GPU_mem   box_loss   cls_loss   dfl_loss  Instances       Size\n"
     ]
    },
    {
     "name": "stderr",
     "output_type": "stream",
     "text": [
      "    194/200      1.09G      0.774     0.6082     0.9228          6        416: 100%|██████████| 11/11 [00:01<00:00, 10.25it/s]\n",
      "                 Class     Images  Instances      Box(P          R      mAP50  mAP50-95): 100%|██████████| 2/2 [00:00<00:00,  9.20it/s]"
     ]
    },
    {
     "name": "stdout",
     "output_type": "stream",
     "text": [
      "                   all         40        150      0.466      0.414      0.394      0.219\n"
     ]
    },
    {
     "name": "stderr",
     "output_type": "stream",
     "text": [
      "\n"
     ]
    },
    {
     "name": "stdout",
     "output_type": "stream",
     "text": [
      "\n",
      "      Epoch    GPU_mem   box_loss   cls_loss   dfl_loss  Instances       Size\n"
     ]
    },
    {
     "name": "stderr",
     "output_type": "stream",
     "text": [
      "    195/200      1.08G     0.7693     0.4947     0.9043          1        416: 100%|██████████| 11/11 [00:01<00:00,  9.88it/s]\n",
      "                 Class     Images  Instances      Box(P          R      mAP50  mAP50-95): 100%|██████████| 2/2 [00:00<00:00,  9.52it/s]"
     ]
    },
    {
     "name": "stdout",
     "output_type": "stream",
     "text": [
      "                   all         40        150      0.468      0.411      0.396      0.219\n"
     ]
    },
    {
     "name": "stderr",
     "output_type": "stream",
     "text": [
      "\n"
     ]
    },
    {
     "name": "stdout",
     "output_type": "stream",
     "text": [
      "\n",
      "      Epoch    GPU_mem   box_loss   cls_loss   dfl_loss  Instances       Size\n"
     ]
    },
    {
     "name": "stderr",
     "output_type": "stream",
     "text": [
      "    196/200      1.09G      0.734      0.542     0.9145          2        416: 100%|██████████| 11/11 [00:01<00:00,  9.90it/s]\n",
      "                 Class     Images  Instances      Box(P          R      mAP50  mAP50-95): 100%|██████████| 2/2 [00:00<00:00,  8.94it/s]"
     ]
    },
    {
     "name": "stdout",
     "output_type": "stream",
     "text": [
      "                   all         40        150      0.454      0.409      0.395      0.221\n"
     ]
    },
    {
     "name": "stderr",
     "output_type": "stream",
     "text": [
      "\n"
     ]
    },
    {
     "name": "stdout",
     "output_type": "stream",
     "text": [
      "\n",
      "      Epoch    GPU_mem   box_loss   cls_loss   dfl_loss  Instances       Size\n"
     ]
    },
    {
     "name": "stderr",
     "output_type": "stream",
     "text": [
      "    197/200      1.09G     0.7637     0.8023      0.915          3        416: 100%|██████████| 11/11 [00:01<00:00, 10.25it/s]\n",
      "                 Class     Images  Instances      Box(P          R      mAP50  mAP50-95): 100%|██████████| 2/2 [00:00<00:00,  9.02it/s]"
     ]
    },
    {
     "name": "stdout",
     "output_type": "stream",
     "text": [
      "                   all         40        150      0.462      0.404      0.393      0.219\n"
     ]
    },
    {
     "name": "stderr",
     "output_type": "stream",
     "text": [
      "\n"
     ]
    },
    {
     "name": "stdout",
     "output_type": "stream",
     "text": [
      "\n",
      "      Epoch    GPU_mem   box_loss   cls_loss   dfl_loss  Instances       Size\n"
     ]
    },
    {
     "name": "stderr",
     "output_type": "stream",
     "text": [
      "    198/200      1.09G     0.7315     0.5362     0.9001          8        416: 100%|██████████| 11/11 [00:01<00:00,  9.89it/s]\n",
      "                 Class     Images  Instances      Box(P          R      mAP50  mAP50-95): 100%|██████████| 2/2 [00:00<00:00,  8.25it/s]"
     ]
    },
    {
     "name": "stdout",
     "output_type": "stream",
     "text": [
      "                   all         40        150      0.472      0.404      0.393      0.218\n"
     ]
    },
    {
     "name": "stderr",
     "output_type": "stream",
     "text": [
      "\n"
     ]
    },
    {
     "name": "stdout",
     "output_type": "stream",
     "text": [
      "\n",
      "      Epoch    GPU_mem   box_loss   cls_loss   dfl_loss  Instances       Size\n"
     ]
    },
    {
     "name": "stderr",
     "output_type": "stream",
     "text": [
      "    199/200      1.08G     0.7367     0.4813     0.8929          1        416: 100%|██████████| 11/11 [00:01<00:00,  9.48it/s]\n",
      "                 Class     Images  Instances      Box(P          R      mAP50  mAP50-95): 100%|██████████| 2/2 [00:00<00:00,  8.88it/s]"
     ]
    },
    {
     "name": "stdout",
     "output_type": "stream",
     "text": [
      "                   all         40        150      0.439      0.404      0.393       0.22\n"
     ]
    },
    {
     "name": "stderr",
     "output_type": "stream",
     "text": [
      "\n"
     ]
    },
    {
     "name": "stdout",
     "output_type": "stream",
     "text": [
      "\n",
      "      Epoch    GPU_mem   box_loss   cls_loss   dfl_loss  Instances       Size\n"
     ]
    },
    {
     "name": "stderr",
     "output_type": "stream",
     "text": [
      "    200/200      1.09G     0.6705      0.463     0.8759          1        416: 100%|██████████| 11/11 [00:01<00:00, 10.77it/s]\n",
      "                 Class     Images  Instances      Box(P          R      mAP50  mAP50-95): 100%|██████████| 2/2 [00:00<00:00,  8.97it/s]"
     ]
    },
    {
     "name": "stdout",
     "output_type": "stream",
     "text": [
      "                   all         40        150      0.438      0.404      0.393      0.219\n"
     ]
    },
    {
     "name": "stderr",
     "output_type": "stream",
     "text": [
      "\n"
     ]
    },
    {
     "name": "stdout",
     "output_type": "stream",
     "text": [
      "\n",
      "200 epochs completed in 0.097 hours.\n",
      "Optimizer stripped from runs/detect/train/weights/last.pt, 6.2MB\n",
      "Optimizer stripped from runs/detect/train/weights/best.pt, 6.2MB\n",
      "\n",
      "Validating runs/detect/train/weights/best.pt...\n",
      "Ultralytics YOLOv8.1.29 🚀 Python-3.10.12 torch-2.2.1+cu121 CUDA:0 (Tesla T4, 15102MiB)\n",
      "Model summary (fused): 168 layers, 3007013 parameters, 0 gradients, 8.1 GFLOPs\n"
     ]
    },
    {
     "name": "stderr",
     "output_type": "stream",
     "text": [
      "                 Class     Images  Instances      Box(P          R      mAP50  mAP50-95): 100%|██████████| 2/2 [00:00<00:00,  7.09it/s]\n"
     ]
    },
    {
     "name": "stdout",
     "output_type": "stream",
     "text": [
      "                   all         40        150      0.511      0.439      0.422      0.239\n",
      "               Car- 45         40          1          0          0     0.0103    0.00513\n",
      "               Car- 60         40         90      0.523      0.744      0.664      0.378\n",
      "           Car- 90-120         40         42      0.483      0.762      0.595       0.31\n",
      "              truck-40         40         14      0.616      0.357      0.487      0.327\n",
      "              truck-60         40          3      0.932      0.333      0.351      0.174\n",
      "Speed: 0.4ms preprocess, 1.3ms inference, 0.0ms loss, 1.0ms postprocess per image\n",
      "Results saved to \u001b[1mruns/detect/train\u001b[0m\n"
     ]
    }
   ],
   "source": [
    "from ultralytics import YOLO\n",
    "model = YOLO(\"yolov8n.pt\")\n",
    "\n",
    "results = model.train(data=\"/content/drive/MyDrive/20_selected_projects/8_videoestimation/yolov8/data.yaml\", epochs=200, imgsz=416)"
   ]
  },
  {
   "cell_type": "code",
   "execution_count": 7,
   "metadata": {},
   "outputs": [],
   "source": [
    "p_yol5s = 0.511\n",
    "r_yol5s = 0.439\n",
    "mAP_yolo5s = 0.422\n",
    "\n",
    "storeResults('YoloV8n',p_yol5s,r_yol5s,mAP_yolo5s)"
   ]
  },
  {
   "cell_type": "code",
   "execution_count": 5,
   "metadata": {
    "colab": {
     "base_uri": "https://localhost:8080/"
    },
    "executionInfo": {
     "elapsed": 531091,
     "status": "ok",
     "timestamp": 1710872339902,
     "user": {
      "displayName": "TruProjects yolo",
      "userId": "18414174829652366032"
     },
     "user_tz": -330
    },
    "id": "omn2PgXi57cw",
    "outputId": "32c86776-238a-4654-b91c-c8bfe0e1cd06"
   },
   "outputs": [
    {
     "name": "stdout",
     "output_type": "stream",
     "text": [
      "Downloading https://github.com/ultralytics/assets/releases/download/v8.1.0/yolov8s.pt to 'yolov8s.pt'...\n"
     ]
    },
    {
     "name": "stderr",
     "output_type": "stream",
     "text": [
      "100%|██████████| 21.5M/21.5M [00:00<00:00, 143MB/s] \n"
     ]
    },
    {
     "name": "stdout",
     "output_type": "stream",
     "text": [
      "Ultralytics YOLOv8.1.29 🚀 Python-3.10.12 torch-2.2.1+cu121 CUDA:0 (Tesla T4, 15102MiB)\n",
      "\u001b[34m\u001b[1mengine/trainer: \u001b[0mtask=detect, mode=train, model=yolov8s.pt, data=/content/drive/MyDrive/20_selected_projects/8_videoestimation/yolov8/data.yaml, epochs=200, time=None, patience=100, batch=16, imgsz=416, save=True, save_period=-1, cache=False, device=None, workers=8, project=None, name=train2, exist_ok=False, pretrained=True, optimizer=auto, verbose=True, seed=0, deterministic=True, single_cls=False, rect=False, cos_lr=False, close_mosaic=10, resume=False, amp=True, fraction=1.0, profile=False, freeze=None, multi_scale=False, overlap_mask=True, mask_ratio=4, dropout=0.0, val=True, split=val, save_json=False, save_hybrid=False, conf=None, iou=0.7, max_det=300, half=False, dnn=False, plots=True, source=None, vid_stride=1, stream_buffer=False, visualize=False, augment=False, agnostic_nms=False, classes=None, retina_masks=False, embed=None, show=False, save_frames=False, save_txt=False, save_conf=False, save_crop=False, show_labels=True, show_conf=True, show_boxes=True, line_width=None, format=torchscript, keras=False, optimize=False, int8=False, dynamic=False, simplify=False, opset=None, workspace=4, nms=False, lr0=0.01, lrf=0.01, momentum=0.937, weight_decay=0.0005, warmup_epochs=3.0, warmup_momentum=0.8, warmup_bias_lr=0.1, box=7.5, cls=0.5, dfl=1.5, pose=12.0, kobj=1.0, label_smoothing=0.0, nbs=64, hsv_h=0.015, hsv_s=0.7, hsv_v=0.4, degrees=0.0, translate=0.1, scale=0.5, shear=0.0, perspective=0.0, flipud=0.0, fliplr=0.5, mosaic=1.0, mixup=0.0, copy_paste=0.0, auto_augment=randaugment, erasing=0.4, crop_fraction=1.0, cfg=None, tracker=botsort.yaml, save_dir=runs/detect/train2\n",
      "Overriding model.yaml nc=80 with nc=7\n",
      "\n",
      "                   from  n    params  module                                       arguments                     \n",
      "  0                  -1  1       928  ultralytics.nn.modules.conv.Conv             [3, 32, 3, 2]                 \n",
      "  1                  -1  1     18560  ultralytics.nn.modules.conv.Conv             [32, 64, 3, 2]                \n",
      "  2                  -1  1     29056  ultralytics.nn.modules.block.C2f             [64, 64, 1, True]             \n",
      "  3                  -1  1     73984  ultralytics.nn.modules.conv.Conv             [64, 128, 3, 2]               \n",
      "  4                  -1  2    197632  ultralytics.nn.modules.block.C2f             [128, 128, 2, True]           \n",
      "  5                  -1  1    295424  ultralytics.nn.modules.conv.Conv             [128, 256, 3, 2]              \n",
      "  6                  -1  2    788480  ultralytics.nn.modules.block.C2f             [256, 256, 2, True]           \n",
      "  7                  -1  1   1180672  ultralytics.nn.modules.conv.Conv             [256, 512, 3, 2]              \n",
      "  8                  -1  1   1838080  ultralytics.nn.modules.block.C2f             [512, 512, 1, True]           \n",
      "  9                  -1  1    656896  ultralytics.nn.modules.block.SPPF            [512, 512, 5]                 \n",
      " 10                  -1  1         0  torch.nn.modules.upsampling.Upsample         [None, 2, 'nearest']          \n",
      " 11             [-1, 6]  1         0  ultralytics.nn.modules.conv.Concat           [1]                           \n",
      " 12                  -1  1    591360  ultralytics.nn.modules.block.C2f             [768, 256, 1]                 \n",
      " 13                  -1  1         0  torch.nn.modules.upsampling.Upsample         [None, 2, 'nearest']          \n",
      " 14             [-1, 4]  1         0  ultralytics.nn.modules.conv.Concat           [1]                           \n",
      " 15                  -1  1    148224  ultralytics.nn.modules.block.C2f             [384, 128, 1]                 \n",
      " 16                  -1  1    147712  ultralytics.nn.modules.conv.Conv             [128, 128, 3, 2]              \n",
      " 17            [-1, 12]  1         0  ultralytics.nn.modules.conv.Concat           [1]                           \n",
      " 18                  -1  1    493056  ultralytics.nn.modules.block.C2f             [384, 256, 1]                 \n",
      " 19                  -1  1    590336  ultralytics.nn.modules.conv.Conv             [256, 256, 3, 2]              \n",
      " 20             [-1, 9]  1         0  ultralytics.nn.modules.conv.Concat           [1]                           \n",
      " 21                  -1  1   1969152  ultralytics.nn.modules.block.C2f             [768, 512, 1]                 \n",
      " 22        [15, 18, 21]  1   2118757  ultralytics.nn.modules.head.Detect           [7, [128, 256, 512]]          \n",
      "Model summary: 225 layers, 11138309 parameters, 11138293 gradients, 28.7 GFLOPs\n",
      "\n",
      "Transferred 349/355 items from pretrained weights\n",
      "\u001b[34m\u001b[1mTensorBoard: \u001b[0mStart with 'tensorboard --logdir runs/detect/train2', view at http://localhost:6006/\n",
      "Freezing layer 'model.22.dfl.conv.weight'\n",
      "\u001b[34m\u001b[1mAMP: \u001b[0mrunning Automatic Mixed Precision (AMP) checks with YOLOv8n...\n",
      "\u001b[34m\u001b[1mAMP: \u001b[0mchecks passed ✅\n"
     ]
    },
    {
     "name": "stderr",
     "output_type": "stream",
     "text": [
      "\u001b[34m\u001b[1mtrain: \u001b[0mScanning /content/drive/MyDrive/20_selected_projects/8_videoestimation/yolov8/train/labels.cache... 161 images, 0 backgrounds, 0 corrupt: 100%|██████████| 161/161 [00:00<?, ?it/s]"
     ]
    },
    {
     "name": "stdout",
     "output_type": "stream",
     "text": [
      "\u001b[34m\u001b[1malbumentations: \u001b[0mBlur(p=0.01, blur_limit=(3, 7)), MedianBlur(p=0.01, blur_limit=(3, 7)), ToGray(p=0.01), CLAHE(p=0.01, clip_limit=(1, 4.0), tile_grid_size=(8, 8))\n"
     ]
    },
    {
     "name": "stderr",
     "output_type": "stream",
     "text": [
      "\n",
      "\u001b[34m\u001b[1mval: \u001b[0mScanning /content/drive/MyDrive/20_selected_projects/8_videoestimation/yolov8/valid/labels.cache... 40 images, 0 backgrounds, 0 corrupt: 100%|██████████| 40/40 [00:00<?, ?it/s]\n"
     ]
    },
    {
     "name": "stdout",
     "output_type": "stream",
     "text": [
      "Plotting labels to runs/detect/train2/labels.jpg... \n",
      "\u001b[34m\u001b[1moptimizer:\u001b[0m 'optimizer=auto' found, ignoring 'lr0=0.01' and 'momentum=0.937' and determining best 'optimizer', 'lr0' and 'momentum' automatically... \n",
      "\u001b[34m\u001b[1moptimizer:\u001b[0m AdamW(lr=0.000909, momentum=0.9) with parameter groups 57 weight(decay=0.0), 64 weight(decay=0.0005), 63 bias(decay=0.0)\n",
      "\u001b[34m\u001b[1mTensorBoard: \u001b[0mmodel graph visualization added ✅\n",
      "Image sizes 416 train, 416 val\n",
      "Using 8 dataloader workers\n",
      "Logging results to \u001b[1mruns/detect/train2\u001b[0m\n",
      "Starting training for 200 epochs...\n",
      "\n",
      "      Epoch    GPU_mem   box_loss   cls_loss   dfl_loss  Instances       Size\n"
     ]
    },
    {
     "name": "stderr",
     "output_type": "stream",
     "text": [
      "      1/200      2.03G      2.137      4.557      1.684          5        416: 100%|██████████| 11/11 [00:04<00:00,  2.47it/s]\n",
      "                 Class     Images  Instances      Box(P          R      mAP50  mAP50-95): 100%|██████████| 2/2 [00:00<00:00,  3.20it/s]"
     ]
    },
    {
     "name": "stdout",
     "output_type": "stream",
     "text": [
      "                   all         40        150      0.368      0.267      0.175     0.0811\n"
     ]
    },
    {
     "name": "stderr",
     "output_type": "stream",
     "text": [
      "\n"
     ]
    },
    {
     "name": "stdout",
     "output_type": "stream",
     "text": [
      "\n",
      "      Epoch    GPU_mem   box_loss   cls_loss   dfl_loss  Instances       Size\n"
     ]
    },
    {
     "name": "stderr",
     "output_type": "stream",
     "text": [
      "      2/200      2.11G      1.781      2.374      1.369         14        416: 100%|██████████| 11/11 [00:01<00:00,  7.27it/s]\n",
      "                 Class     Images  Instances      Box(P          R      mAP50  mAP50-95): 100%|██████████| 2/2 [00:00<00:00,  5.91it/s]"
     ]
    },
    {
     "name": "stdout",
     "output_type": "stream",
     "text": [
      "                   all         40        150      0.207      0.502      0.231       0.12\n"
     ]
    },
    {
     "name": "stderr",
     "output_type": "stream",
     "text": [
      "\n"
     ]
    },
    {
     "name": "stdout",
     "output_type": "stream",
     "text": [
      "\n",
      "      Epoch    GPU_mem   box_loss   cls_loss   dfl_loss  Instances       Size\n"
     ]
    },
    {
     "name": "stderr",
     "output_type": "stream",
     "text": [
      "      3/200      2.12G      1.631      1.966      1.289         10        416: 100%|██████████| 11/11 [00:01<00:00,  7.40it/s]\n",
      "                 Class     Images  Instances      Box(P          R      mAP50  mAP50-95): 100%|██████████| 2/2 [00:00<00:00,  6.58it/s]"
     ]
    },
    {
     "name": "stdout",
     "output_type": "stream",
     "text": [
      "                   all         40        150      0.618      0.326      0.244      0.129\n"
     ]
    },
    {
     "name": "stderr",
     "output_type": "stream",
     "text": [
      "\n"
     ]
    },
    {
     "name": "stdout",
     "output_type": "stream",
     "text": [
      "\n",
      "      Epoch    GPU_mem   box_loss   cls_loss   dfl_loss  Instances       Size\n"
     ]
    },
    {
     "name": "stderr",
     "output_type": "stream",
     "text": [
      "      4/200       2.1G      1.478      1.856      1.233          7        416: 100%|██████████| 11/11 [00:01<00:00,  7.69it/s]\n",
      "                 Class     Images  Instances      Box(P          R      mAP50  mAP50-95): 100%|██████████| 2/2 [00:00<00:00,  5.67it/s]"
     ]
    },
    {
     "name": "stdout",
     "output_type": "stream",
     "text": [
      "                   all         40        150      0.182       0.32      0.211      0.109\n"
     ]
    },
    {
     "name": "stderr",
     "output_type": "stream",
     "text": [
      "\n"
     ]
    },
    {
     "name": "stdout",
     "output_type": "stream",
     "text": [
      "\n",
      "      Epoch    GPU_mem   box_loss   cls_loss   dfl_loss  Instances       Size\n"
     ]
    },
    {
     "name": "stderr",
     "output_type": "stream",
     "text": [
      "      5/200       2.1G      1.603      1.766      1.261          5        416: 100%|██████████| 11/11 [00:01<00:00,  7.51it/s]\n",
      "                 Class     Images  Instances      Box(P          R      mAP50  mAP50-95): 100%|██████████| 2/2 [00:00<00:00,  6.66it/s]"
     ]
    },
    {
     "name": "stdout",
     "output_type": "stream",
     "text": [
      "                   all         40        150      0.396      0.343      0.241      0.118\n"
     ]
    },
    {
     "name": "stderr",
     "output_type": "stream",
     "text": [
      "\n"
     ]
    },
    {
     "name": "stdout",
     "output_type": "stream",
     "text": [
      "\n",
      "      Epoch    GPU_mem   box_loss   cls_loss   dfl_loss  Instances       Size\n"
     ]
    },
    {
     "name": "stderr",
     "output_type": "stream",
     "text": [
      "      6/200      2.12G      1.482      1.667      1.268          3        416: 100%|██████████| 11/11 [00:01<00:00,  7.88it/s]\n",
      "                 Class     Images  Instances      Box(P          R      mAP50  mAP50-95): 100%|██████████| 2/2 [00:00<00:00,  7.25it/s]"
     ]
    },
    {
     "name": "stdout",
     "output_type": "stream",
     "text": [
      "                   all         40        150       0.19      0.417      0.242      0.131\n"
     ]
    },
    {
     "name": "stderr",
     "output_type": "stream",
     "text": [
      "\n"
     ]
    },
    {
     "name": "stdout",
     "output_type": "stream",
     "text": [
      "\n",
      "      Epoch    GPU_mem   box_loss   cls_loss   dfl_loss  Instances       Size\n"
     ]
    },
    {
     "name": "stderr",
     "output_type": "stream",
     "text": [
      "      7/200      1.97G      1.409      1.758      1.168          0        416: 100%|██████████| 11/11 [00:01<00:00,  8.14it/s]\n",
      "                 Class     Images  Instances      Box(P          R      mAP50  mAP50-95): 100%|██████████| 2/2 [00:00<00:00,  7.40it/s]"
     ]
    },
    {
     "name": "stdout",
     "output_type": "stream",
     "text": [
      "                   all         40        150      0.494      0.273      0.274      0.145\n"
     ]
    },
    {
     "name": "stderr",
     "output_type": "stream",
     "text": [
      "\n"
     ]
    },
    {
     "name": "stdout",
     "output_type": "stream",
     "text": [
      "\n",
      "      Epoch    GPU_mem   box_loss   cls_loss   dfl_loss  Instances       Size\n"
     ]
    },
    {
     "name": "stderr",
     "output_type": "stream",
     "text": [
      "      8/200      1.98G      1.518      1.706      1.231          3        416: 100%|██████████| 11/11 [00:01<00:00,  7.99it/s]\n",
      "                 Class     Images  Instances      Box(P          R      mAP50  mAP50-95): 100%|██████████| 2/2 [00:00<00:00,  6.55it/s]"
     ]
    },
    {
     "name": "stdout",
     "output_type": "stream",
     "text": [
      "                   all         40        150      0.426      0.245       0.19     0.0872\n"
     ]
    },
    {
     "name": "stderr",
     "output_type": "stream",
     "text": [
      "\n"
     ]
    },
    {
     "name": "stdout",
     "output_type": "stream",
     "text": [
      "\n",
      "      Epoch    GPU_mem   box_loss   cls_loss   dfl_loss  Instances       Size\n"
     ]
    },
    {
     "name": "stderr",
     "output_type": "stream",
     "text": [
      "      9/200      1.97G      1.515      1.512      1.245          4        416: 100%|██████████| 11/11 [00:01<00:00,  8.17it/s]\n",
      "                 Class     Images  Instances      Box(P          R      mAP50  mAP50-95): 100%|██████████| 2/2 [00:00<00:00,  7.41it/s]"
     ]
    },
    {
     "name": "stdout",
     "output_type": "stream",
     "text": [
      "                   all         40        150      0.207      0.211      0.179      0.093\n"
     ]
    },
    {
     "name": "stderr",
     "output_type": "stream",
     "text": [
      "\n"
     ]
    },
    {
     "name": "stdout",
     "output_type": "stream",
     "text": [
      "\n",
      "      Epoch    GPU_mem   box_loss   cls_loss   dfl_loss  Instances       Size\n"
     ]
    },
    {
     "name": "stderr",
     "output_type": "stream",
     "text": [
      "     10/200      1.98G      1.449      1.562       1.18          3        416: 100%|██████████| 11/11 [00:01<00:00,  7.98it/s]\n",
      "                 Class     Images  Instances      Box(P          R      mAP50  mAP50-95): 100%|██████████| 2/2 [00:00<00:00,  7.79it/s]"
     ]
    },
    {
     "name": "stdout",
     "output_type": "stream",
     "text": [
      "                   all         40        150       0.47      0.275      0.223      0.113\n"
     ]
    },
    {
     "name": "stderr",
     "output_type": "stream",
     "text": [
      "\n"
     ]
    },
    {
     "name": "stdout",
     "output_type": "stream",
     "text": [
      "\n",
      "      Epoch    GPU_mem   box_loss   cls_loss   dfl_loss  Instances       Size\n"
     ]
    },
    {
     "name": "stderr",
     "output_type": "stream",
     "text": [
      "     11/200      1.95G       1.55      1.595      1.245         19        416: 100%|██████████| 11/11 [00:01<00:00,  8.16it/s]\n",
      "                 Class     Images  Instances      Box(P          R      mAP50  mAP50-95): 100%|██████████| 2/2 [00:00<00:00,  7.75it/s]"
     ]
    },
    {
     "name": "stdout",
     "output_type": "stream",
     "text": [
      "                   all         40        150      0.203      0.527       0.22      0.119\n"
     ]
    },
    {
     "name": "stderr",
     "output_type": "stream",
     "text": [
      "\n"
     ]
    },
    {
     "name": "stdout",
     "output_type": "stream",
     "text": [
      "\n",
      "      Epoch    GPU_mem   box_loss   cls_loss   dfl_loss  Instances       Size\n"
     ]
    },
    {
     "name": "stderr",
     "output_type": "stream",
     "text": [
      "     12/200      1.98G      1.343      1.896      1.091          0        416: 100%|██████████| 11/11 [00:01<00:00,  8.22it/s]\n",
      "                 Class     Images  Instances      Box(P          R      mAP50  mAP50-95): 100%|██████████| 2/2 [00:00<00:00,  7.89it/s]"
     ]
    },
    {
     "name": "stdout",
     "output_type": "stream",
     "text": [
      "                   all         40        150      0.427      0.371      0.241      0.117\n"
     ]
    },
    {
     "name": "stderr",
     "output_type": "stream",
     "text": [
      "\n"
     ]
    },
    {
     "name": "stdout",
     "output_type": "stream",
     "text": [
      "\n",
      "      Epoch    GPU_mem   box_loss   cls_loss   dfl_loss  Instances       Size\n"
     ]
    },
    {
     "name": "stderr",
     "output_type": "stream",
     "text": [
      "     13/200      1.97G      1.435      1.426      1.207          5        416: 100%|██████████| 11/11 [00:01<00:00,  8.32it/s]\n",
      "                 Class     Images  Instances      Box(P          R      mAP50  mAP50-95): 100%|██████████| 2/2 [00:00<00:00,  7.63it/s]"
     ]
    },
    {
     "name": "stdout",
     "output_type": "stream",
     "text": [
      "                   all         40        150      0.716      0.314      0.194     0.0962\n"
     ]
    },
    {
     "name": "stderr",
     "output_type": "stream",
     "text": [
      "\n"
     ]
    },
    {
     "name": "stdout",
     "output_type": "stream",
     "text": [
      "\n",
      "      Epoch    GPU_mem   box_loss   cls_loss   dfl_loss  Instances       Size\n"
     ]
    },
    {
     "name": "stderr",
     "output_type": "stream",
     "text": [
      "     14/200      1.97G      1.508      1.424      1.198          8        416: 100%|██████████| 11/11 [00:01<00:00,  8.30it/s]\n",
      "                 Class     Images  Instances      Box(P          R      mAP50  mAP50-95): 100%|██████████| 2/2 [00:00<00:00,  7.47it/s]"
     ]
    },
    {
     "name": "stdout",
     "output_type": "stream",
     "text": [
      "                   all         40        150      0.392      0.446      0.201      0.098\n"
     ]
    },
    {
     "name": "stderr",
     "output_type": "stream",
     "text": [
      "\n"
     ]
    },
    {
     "name": "stdout",
     "output_type": "stream",
     "text": [
      "\n",
      "      Epoch    GPU_mem   box_loss   cls_loss   dfl_loss  Instances       Size\n"
     ]
    },
    {
     "name": "stderr",
     "output_type": "stream",
     "text": [
      "     15/200      1.95G      1.429      1.331      1.222          3        416: 100%|██████████| 11/11 [00:01<00:00,  8.13it/s]\n",
      "                 Class     Images  Instances      Box(P          R      mAP50  mAP50-95): 100%|██████████| 2/2 [00:00<00:00,  6.25it/s]"
     ]
    },
    {
     "name": "stdout",
     "output_type": "stream",
     "text": [
      "                   all         40        150      0.279      0.547      0.277      0.139\n"
     ]
    },
    {
     "name": "stderr",
     "output_type": "stream",
     "text": [
      "\n"
     ]
    },
    {
     "name": "stdout",
     "output_type": "stream",
     "text": [
      "\n",
      "      Epoch    GPU_mem   box_loss   cls_loss   dfl_loss  Instances       Size\n"
     ]
    },
    {
     "name": "stderr",
     "output_type": "stream",
     "text": [
      "     16/200      1.97G      1.478      1.325      1.259          2        416: 100%|██████████| 11/11 [00:01<00:00,  8.12it/s]\n",
      "                 Class     Images  Instances      Box(P          R      mAP50  mAP50-95): 100%|██████████| 2/2 [00:00<00:00,  8.68it/s]"
     ]
    },
    {
     "name": "stdout",
     "output_type": "stream",
     "text": [
      "                   all         40        150      0.168      0.365      0.187     0.0885\n"
     ]
    },
    {
     "name": "stderr",
     "output_type": "stream",
     "text": [
      "\n"
     ]
    },
    {
     "name": "stdout",
     "output_type": "stream",
     "text": [
      "\n",
      "      Epoch    GPU_mem   box_loss   cls_loss   dfl_loss  Instances       Size\n"
     ]
    },
    {
     "name": "stderr",
     "output_type": "stream",
     "text": [
      "     17/200      1.97G      1.482       1.31      1.212          6        416: 100%|██████████| 11/11 [00:01<00:00,  8.35it/s]\n",
      "                 Class     Images  Instances      Box(P          R      mAP50  mAP50-95): 100%|██████████| 2/2 [00:00<00:00,  8.71it/s]"
     ]
    },
    {
     "name": "stdout",
     "output_type": "stream",
     "text": [
      "                   all         40        150      0.142      0.366      0.188     0.0853\n"
     ]
    },
    {
     "name": "stderr",
     "output_type": "stream",
     "text": [
      "\n"
     ]
    },
    {
     "name": "stdout",
     "output_type": "stream",
     "text": [
      "\n",
      "      Epoch    GPU_mem   box_loss   cls_loss   dfl_loss  Instances       Size\n"
     ]
    },
    {
     "name": "stderr",
     "output_type": "stream",
     "text": [
      "     18/200      1.97G      1.439      1.343      1.209         17        416: 100%|██████████| 11/11 [00:01<00:00,  7.95it/s]\n",
      "                 Class     Images  Instances      Box(P          R      mAP50  mAP50-95): 100%|██████████| 2/2 [00:00<00:00,  7.92it/s]"
     ]
    },
    {
     "name": "stdout",
     "output_type": "stream",
     "text": [
      "                   all         40        150      0.222      0.273      0.236      0.117\n"
     ]
    },
    {
     "name": "stderr",
     "output_type": "stream",
     "text": [
      "\n"
     ]
    },
    {
     "name": "stdout",
     "output_type": "stream",
     "text": [
      "\n",
      "      Epoch    GPU_mem   box_loss   cls_loss   dfl_loss  Instances       Size\n"
     ]
    },
    {
     "name": "stderr",
     "output_type": "stream",
     "text": [
      "     19/200      1.99G      1.421      1.236      1.191         10        416: 100%|██████████| 11/11 [00:01<00:00,  8.21it/s]\n",
      "                 Class     Images  Instances      Box(P          R      mAP50  mAP50-95): 100%|██████████| 2/2 [00:00<00:00,  7.52it/s]"
     ]
    },
    {
     "name": "stdout",
     "output_type": "stream",
     "text": [
      "                   all         40        150      0.261      0.362      0.243      0.129\n"
     ]
    },
    {
     "name": "stderr",
     "output_type": "stream",
     "text": [
      "\n"
     ]
    },
    {
     "name": "stdout",
     "output_type": "stream",
     "text": [
      "\n",
      "      Epoch    GPU_mem   box_loss   cls_loss   dfl_loss  Instances       Size\n"
     ]
    },
    {
     "name": "stderr",
     "output_type": "stream",
     "text": [
      "     20/200      1.98G      1.413      1.163      1.191          6        416: 100%|██████████| 11/11 [00:01<00:00,  7.92it/s]\n",
      "                 Class     Images  Instances      Box(P          R      mAP50  mAP50-95): 100%|██████████| 2/2 [00:00<00:00,  7.57it/s]"
     ]
    },
    {
     "name": "stdout",
     "output_type": "stream",
     "text": [
      "                   all         40        150      0.466      0.336      0.276      0.138\n"
     ]
    },
    {
     "name": "stderr",
     "output_type": "stream",
     "text": [
      "\n"
     ]
    },
    {
     "name": "stdout",
     "output_type": "stream",
     "text": [
      "\n",
      "      Epoch    GPU_mem   box_loss   cls_loss   dfl_loss  Instances       Size\n"
     ]
    },
    {
     "name": "stderr",
     "output_type": "stream",
     "text": [
      "     21/200      1.97G      1.417      1.174      1.178          5        416: 100%|██████████| 11/11 [00:01<00:00,  8.09it/s]\n",
      "                 Class     Images  Instances      Box(P          R      mAP50  mAP50-95): 100%|██████████| 2/2 [00:00<00:00,  9.22it/s]"
     ]
    },
    {
     "name": "stdout",
     "output_type": "stream",
     "text": [
      "                   all         40        150      0.569      0.255      0.199      0.105\n"
     ]
    },
    {
     "name": "stderr",
     "output_type": "stream",
     "text": [
      "\n"
     ]
    },
    {
     "name": "stdout",
     "output_type": "stream",
     "text": [
      "\n",
      "      Epoch    GPU_mem   box_loss   cls_loss   dfl_loss  Instances       Size\n"
     ]
    },
    {
     "name": "stderr",
     "output_type": "stream",
     "text": [
      "     22/200      1.97G       1.42      1.222      1.177          6        416: 100%|██████████| 11/11 [00:01<00:00,  8.20it/s]\n",
      "                 Class     Images  Instances      Box(P          R      mAP50  mAP50-95): 100%|██████████| 2/2 [00:00<00:00,  8.33it/s]"
     ]
    },
    {
     "name": "stdout",
     "output_type": "stream",
     "text": [
      "                   all         40        150       0.56      0.198      0.185     0.0965\n"
     ]
    },
    {
     "name": "stderr",
     "output_type": "stream",
     "text": [
      "\n"
     ]
    },
    {
     "name": "stdout",
     "output_type": "stream",
     "text": [
      "\n",
      "      Epoch    GPU_mem   box_loss   cls_loss   dfl_loss  Instances       Size\n"
     ]
    },
    {
     "name": "stderr",
     "output_type": "stream",
     "text": [
      "     23/200      1.96G       1.43      1.208      1.236          3        416: 100%|██████████| 11/11 [00:01<00:00,  8.09it/s]\n",
      "                 Class     Images  Instances      Box(P          R      mAP50  mAP50-95): 100%|██████████| 2/2 [00:00<00:00,  8.10it/s]"
     ]
    },
    {
     "name": "stdout",
     "output_type": "stream",
     "text": [
      "                   all         40        150       0.14      0.269      0.208      0.107\n"
     ]
    },
    {
     "name": "stderr",
     "output_type": "stream",
     "text": [
      "\n"
     ]
    },
    {
     "name": "stdout",
     "output_type": "stream",
     "text": [
      "\n",
      "      Epoch    GPU_mem   box_loss   cls_loss   dfl_loss  Instances       Size\n"
     ]
    },
    {
     "name": "stderr",
     "output_type": "stream",
     "text": [
      "     24/200      1.98G      1.385      1.234      1.163          7        416: 100%|██████████| 11/11 [00:01<00:00,  8.00it/s]\n",
      "                 Class     Images  Instances      Box(P          R      mAP50  mAP50-95): 100%|██████████| 2/2 [00:00<00:00,  6.99it/s]"
     ]
    },
    {
     "name": "stdout",
     "output_type": "stream",
     "text": [
      "                   all         40        150      0.202      0.308      0.215      0.107\n"
     ]
    },
    {
     "name": "stderr",
     "output_type": "stream",
     "text": [
      "\n"
     ]
    },
    {
     "name": "stdout",
     "output_type": "stream",
     "text": [
      "\n",
      "      Epoch    GPU_mem   box_loss   cls_loss   dfl_loss  Instances       Size\n"
     ]
    },
    {
     "name": "stderr",
     "output_type": "stream",
     "text": [
      "     25/200      1.97G      1.358      1.275      1.159          5        416: 100%|██████████| 11/11 [00:01<00:00,  8.30it/s]\n",
      "                 Class     Images  Instances      Box(P          R      mAP50  mAP50-95): 100%|██████████| 2/2 [00:00<00:00,  7.51it/s]"
     ]
    },
    {
     "name": "stdout",
     "output_type": "stream",
     "text": [
      "                   all         40        150      0.261      0.302      0.243      0.121\n"
     ]
    },
    {
     "name": "stderr",
     "output_type": "stream",
     "text": [
      "\n"
     ]
    },
    {
     "name": "stdout",
     "output_type": "stream",
     "text": [
      "\n",
      "      Epoch    GPU_mem   box_loss   cls_loss   dfl_loss  Instances       Size\n"
     ]
    },
    {
     "name": "stderr",
     "output_type": "stream",
     "text": [
      "     26/200      1.97G      1.352      1.225      1.188          4        416: 100%|██████████| 11/11 [00:01<00:00,  8.01it/s]\n",
      "                 Class     Images  Instances      Box(P          R      mAP50  mAP50-95): 100%|██████████| 2/2 [00:00<00:00,  7.23it/s]"
     ]
    },
    {
     "name": "stdout",
     "output_type": "stream",
     "text": [
      "                   all         40        150      0.305      0.267      0.282      0.154\n"
     ]
    },
    {
     "name": "stderr",
     "output_type": "stream",
     "text": [
      "\n"
     ]
    },
    {
     "name": "stdout",
     "output_type": "stream",
     "text": [
      "\n",
      "      Epoch    GPU_mem   box_loss   cls_loss   dfl_loss  Instances       Size\n"
     ]
    },
    {
     "name": "stderr",
     "output_type": "stream",
     "text": [
      "     27/200      1.96G      1.344      1.126      1.149          6        416: 100%|██████████| 11/11 [00:01<00:00,  8.25it/s]\n",
      "                 Class     Images  Instances      Box(P          R      mAP50  mAP50-95): 100%|██████████| 2/2 [00:00<00:00,  8.63it/s]"
     ]
    },
    {
     "name": "stdout",
     "output_type": "stream",
     "text": [
      "                   all         40        150      0.294      0.289      0.265      0.135\n"
     ]
    },
    {
     "name": "stderr",
     "output_type": "stream",
     "text": [
      "\n"
     ]
    },
    {
     "name": "stdout",
     "output_type": "stream",
     "text": [
      "\n",
      "      Epoch    GPU_mem   box_loss   cls_loss   dfl_loss  Instances       Size\n"
     ]
    },
    {
     "name": "stderr",
     "output_type": "stream",
     "text": [
      "     28/200      1.98G      1.347       1.12      1.156          2        416: 100%|██████████| 11/11 [00:01<00:00,  8.07it/s]\n",
      "                 Class     Images  Instances      Box(P          R      mAP50  mAP50-95): 100%|██████████| 2/2 [00:00<00:00,  8.17it/s]"
     ]
    },
    {
     "name": "stdout",
     "output_type": "stream",
     "text": [
      "                   all         40        150      0.361      0.277      0.242      0.118\n"
     ]
    },
    {
     "name": "stderr",
     "output_type": "stream",
     "text": [
      "\n"
     ]
    },
    {
     "name": "stdout",
     "output_type": "stream",
     "text": [
      "\n",
      "      Epoch    GPU_mem   box_loss   cls_loss   dfl_loss  Instances       Size\n"
     ]
    },
    {
     "name": "stderr",
     "output_type": "stream",
     "text": [
      "     29/200      1.97G      1.364      1.208      1.147         27        416: 100%|██████████| 11/11 [00:01<00:00,  8.19it/s]\n",
      "                 Class     Images  Instances      Box(P          R      mAP50  mAP50-95): 100%|██████████| 2/2 [00:00<00:00,  7.73it/s]"
     ]
    },
    {
     "name": "stdout",
     "output_type": "stream",
     "text": [
      "                   all         40        150       0.23      0.308      0.248      0.131\n"
     ]
    },
    {
     "name": "stderr",
     "output_type": "stream",
     "text": [
      "\n"
     ]
    },
    {
     "name": "stdout",
     "output_type": "stream",
     "text": [
      "\n",
      "      Epoch    GPU_mem   box_loss   cls_loss   dfl_loss  Instances       Size\n"
     ]
    },
    {
     "name": "stderr",
     "output_type": "stream",
     "text": [
      "     30/200      1.97G      1.336      1.001      1.159          1        416: 100%|██████████| 11/11 [00:01<00:00,  8.22it/s]\n",
      "                 Class     Images  Instances      Box(P          R      mAP50  mAP50-95): 100%|██████████| 2/2 [00:00<00:00,  6.97it/s]"
     ]
    },
    {
     "name": "stdout",
     "output_type": "stream",
     "text": [
      "                   all         40        150       0.25      0.299      0.253      0.132\n"
     ]
    },
    {
     "name": "stderr",
     "output_type": "stream",
     "text": [
      "\n"
     ]
    },
    {
     "name": "stdout",
     "output_type": "stream",
     "text": [
      "\n",
      "      Epoch    GPU_mem   box_loss   cls_loss   dfl_loss  Instances       Size\n"
     ]
    },
    {
     "name": "stderr",
     "output_type": "stream",
     "text": [
      "     31/200      1.95G      1.371      1.193      1.161          3        416: 100%|██████████| 11/11 [00:01<00:00,  8.15it/s]\n",
      "                 Class     Images  Instances      Box(P          R      mAP50  mAP50-95): 100%|██████████| 2/2 [00:00<00:00,  6.93it/s]"
     ]
    },
    {
     "name": "stdout",
     "output_type": "stream",
     "text": [
      "                   all         40        150      0.242      0.367      0.239      0.118\n"
     ]
    },
    {
     "name": "stderr",
     "output_type": "stream",
     "text": [
      "\n"
     ]
    },
    {
     "name": "stdout",
     "output_type": "stream",
     "text": [
      "\n",
      "      Epoch    GPU_mem   box_loss   cls_loss   dfl_loss  Instances       Size\n"
     ]
    },
    {
     "name": "stderr",
     "output_type": "stream",
     "text": [
      "     32/200      1.97G      1.323      1.029      1.142          5        416: 100%|██████████| 11/11 [00:01<00:00,  8.28it/s]\n",
      "                 Class     Images  Instances      Box(P          R      mAP50  mAP50-95): 100%|██████████| 2/2 [00:00<00:00,  7.12it/s]"
     ]
    },
    {
     "name": "stdout",
     "output_type": "stream",
     "text": [
      "                   all         40        150      0.435      0.367      0.343      0.182\n"
     ]
    },
    {
     "name": "stderr",
     "output_type": "stream",
     "text": [
      "\n"
     ]
    },
    {
     "name": "stdout",
     "output_type": "stream",
     "text": [
      "\n",
      "      Epoch    GPU_mem   box_loss   cls_loss   dfl_loss  Instances       Size\n"
     ]
    },
    {
     "name": "stderr",
     "output_type": "stream",
     "text": [
      "     33/200      1.97G      1.183      1.217      1.022          0        416: 100%|██████████| 11/11 [00:01<00:00,  8.46it/s]\n",
      "                 Class     Images  Instances      Box(P          R      mAP50  mAP50-95): 100%|██████████| 2/2 [00:00<00:00,  8.38it/s]"
     ]
    },
    {
     "name": "stdout",
     "output_type": "stream",
     "text": [
      "                   all         40        150       0.37      0.313      0.365      0.208\n"
     ]
    },
    {
     "name": "stderr",
     "output_type": "stream",
     "text": [
      "\n"
     ]
    },
    {
     "name": "stdout",
     "output_type": "stream",
     "text": [
      "\n",
      "      Epoch    GPU_mem   box_loss   cls_loss   dfl_loss  Instances       Size\n"
     ]
    },
    {
     "name": "stderr",
     "output_type": "stream",
     "text": [
      "     34/200      1.97G      1.355      1.052      1.133          5        416: 100%|██████████| 11/11 [00:01<00:00,  8.28it/s]\n",
      "                 Class     Images  Instances      Box(P          R      mAP50  mAP50-95): 100%|██████████| 2/2 [00:00<00:00,  8.73it/s]"
     ]
    },
    {
     "name": "stdout",
     "output_type": "stream",
     "text": [
      "                   all         40        150      0.334      0.349      0.272       0.15\n"
     ]
    },
    {
     "name": "stderr",
     "output_type": "stream",
     "text": [
      "\n"
     ]
    },
    {
     "name": "stdout",
     "output_type": "stream",
     "text": [
      "\n",
      "      Epoch    GPU_mem   box_loss   cls_loss   dfl_loss  Instances       Size\n"
     ]
    },
    {
     "name": "stderr",
     "output_type": "stream",
     "text": [
      "     35/200      1.96G      1.396      1.036      1.157         12        416: 100%|██████████| 11/11 [00:01<00:00,  8.21it/s]\n",
      "                 Class     Images  Instances      Box(P          R      mAP50  mAP50-95): 100%|██████████| 2/2 [00:00<00:00,  7.03it/s]"
     ]
    },
    {
     "name": "stdout",
     "output_type": "stream",
     "text": [
      "                   all         40        150      0.356      0.363      0.326      0.177\n"
     ]
    },
    {
     "name": "stderr",
     "output_type": "stream",
     "text": [
      "\n"
     ]
    },
    {
     "name": "stdout",
     "output_type": "stream",
     "text": [
      "\n",
      "      Epoch    GPU_mem   box_loss   cls_loss   dfl_loss  Instances       Size\n"
     ]
    },
    {
     "name": "stderr",
     "output_type": "stream",
     "text": [
      "     36/200      1.98G      1.276     0.9349      1.103         15        416: 100%|██████████| 11/11 [00:01<00:00,  7.90it/s]\n",
      "                 Class     Images  Instances      Box(P          R      mAP50  mAP50-95): 100%|██████████| 2/2 [00:00<00:00,  7.97it/s]"
     ]
    },
    {
     "name": "stdout",
     "output_type": "stream",
     "text": [
      "                   all         40        150      0.645      0.326      0.356      0.185\n"
     ]
    },
    {
     "name": "stderr",
     "output_type": "stream",
     "text": [
      "\n"
     ]
    },
    {
     "name": "stdout",
     "output_type": "stream",
     "text": [
      "\n",
      "      Epoch    GPU_mem   box_loss   cls_loss   dfl_loss  Instances       Size\n"
     ]
    },
    {
     "name": "stderr",
     "output_type": "stream",
     "text": [
      "     37/200      1.97G       1.18      1.206      1.012          0        416: 100%|██████████| 11/11 [00:01<00:00,  8.39it/s]\n",
      "                 Class     Images  Instances      Box(P          R      mAP50  mAP50-95): 100%|██████████| 2/2 [00:00<00:00,  8.05it/s]"
     ]
    },
    {
     "name": "stdout",
     "output_type": "stream",
     "text": [
      "                   all         40        150      0.229      0.399      0.305      0.158\n"
     ]
    },
    {
     "name": "stderr",
     "output_type": "stream",
     "text": [
      "\n"
     ]
    },
    {
     "name": "stdout",
     "output_type": "stream",
     "text": [
      "\n",
      "      Epoch    GPU_mem   box_loss   cls_loss   dfl_loss  Instances       Size\n"
     ]
    },
    {
     "name": "stderr",
     "output_type": "stream",
     "text": [
      "     38/200      1.97G      1.314      1.008      1.292          1        416: 100%|██████████| 11/11 [00:01<00:00,  8.09it/s]\n",
      "                 Class     Images  Instances      Box(P          R      mAP50  mAP50-95): 100%|██████████| 2/2 [00:00<00:00,  7.51it/s]"
     ]
    },
    {
     "name": "stdout",
     "output_type": "stream",
     "text": [
      "                   all         40        150      0.297      0.292      0.278      0.146\n"
     ]
    },
    {
     "name": "stderr",
     "output_type": "stream",
     "text": [
      "\n"
     ]
    },
    {
     "name": "stdout",
     "output_type": "stream",
     "text": [
      "\n",
      "      Epoch    GPU_mem   box_loss   cls_loss   dfl_loss  Instances       Size\n"
     ]
    },
    {
     "name": "stderr",
     "output_type": "stream",
     "text": [
      "     39/200      1.96G      1.119      1.358      1.023          0        416: 100%|██████████| 11/11 [00:01<00:00,  8.25it/s]\n",
      "                 Class     Images  Instances      Box(P          R      mAP50  mAP50-95): 100%|██████████| 2/2 [00:00<00:00,  8.95it/s]"
     ]
    },
    {
     "name": "stdout",
     "output_type": "stream",
     "text": [
      "                   all         40        150      0.275      0.373        0.3      0.167\n"
     ]
    },
    {
     "name": "stderr",
     "output_type": "stream",
     "text": [
      "\n"
     ]
    },
    {
     "name": "stdout",
     "output_type": "stream",
     "text": [
      "\n",
      "      Epoch    GPU_mem   box_loss   cls_loss   dfl_loss  Instances       Size\n"
     ]
    },
    {
     "name": "stderr",
     "output_type": "stream",
     "text": [
      "     40/200      1.98G      1.208     0.9782      1.119          3        416: 100%|██████████| 11/11 [00:01<00:00,  8.11it/s]\n",
      "                 Class     Images  Instances      Box(P          R      mAP50  mAP50-95): 100%|██████████| 2/2 [00:00<00:00,  8.69it/s]"
     ]
    },
    {
     "name": "stdout",
     "output_type": "stream",
     "text": [
      "                   all         40        150      0.239       0.33      0.264      0.142\n"
     ]
    },
    {
     "name": "stderr",
     "output_type": "stream",
     "text": [
      "\n"
     ]
    },
    {
     "name": "stdout",
     "output_type": "stream",
     "text": [
      "\n",
      "      Epoch    GPU_mem   box_loss   cls_loss   dfl_loss  Instances       Size\n"
     ]
    },
    {
     "name": "stderr",
     "output_type": "stream",
     "text": [
      "     41/200      1.98G       1.24     0.9847      1.062         12        416: 100%|██████████| 11/11 [00:01<00:00,  8.18it/s]\n",
      "                 Class     Images  Instances      Box(P          R      mAP50  mAP50-95): 100%|██████████| 2/2 [00:00<00:00,  8.94it/s]"
     ]
    },
    {
     "name": "stdout",
     "output_type": "stream",
     "text": [
      "                   all         40        150      0.279      0.264       0.26      0.137\n"
     ]
    },
    {
     "name": "stderr",
     "output_type": "stream",
     "text": [
      "\n"
     ]
    },
    {
     "name": "stdout",
     "output_type": "stream",
     "text": [
      "\n",
      "      Epoch    GPU_mem   box_loss   cls_loss   dfl_loss  Instances       Size\n"
     ]
    },
    {
     "name": "stderr",
     "output_type": "stream",
     "text": [
      "     42/200      1.97G      1.216     0.9659      1.066         11        416: 100%|██████████| 11/11 [00:01<00:00,  7.96it/s]\n",
      "                 Class     Images  Instances      Box(P          R      mAP50  mAP50-95): 100%|██████████| 2/2 [00:00<00:00,  8.84it/s]"
     ]
    },
    {
     "name": "stdout",
     "output_type": "stream",
     "text": [
      "                   all         40        150       0.25      0.314      0.286      0.154\n"
     ]
    },
    {
     "name": "stderr",
     "output_type": "stream",
     "text": [
      "\n"
     ]
    },
    {
     "name": "stdout",
     "output_type": "stream",
     "text": [
      "\n",
      "      Epoch    GPU_mem   box_loss   cls_loss   dfl_loss  Instances       Size\n"
     ]
    },
    {
     "name": "stderr",
     "output_type": "stream",
     "text": [
      "     43/200      1.96G      1.281     0.9178      1.143          7        416: 100%|██████████| 11/11 [00:01<00:00,  8.12it/s]\n",
      "                 Class     Images  Instances      Box(P          R      mAP50  mAP50-95): 100%|██████████| 2/2 [00:00<00:00,  7.89it/s]"
     ]
    },
    {
     "name": "stdout",
     "output_type": "stream",
     "text": [
      "                   all         40        150       0.38      0.342      0.322      0.171\n"
     ]
    },
    {
     "name": "stderr",
     "output_type": "stream",
     "text": [
      "\n"
     ]
    },
    {
     "name": "stdout",
     "output_type": "stream",
     "text": [
      "\n",
      "      Epoch    GPU_mem   box_loss   cls_loss   dfl_loss  Instances       Size\n"
     ]
    },
    {
     "name": "stderr",
     "output_type": "stream",
     "text": [
      "     44/200      1.98G      1.185     0.9103      1.079          2        416: 100%|██████████| 11/11 [00:01<00:00,  8.14it/s]\n",
      "                 Class     Images  Instances      Box(P          R      mAP50  mAP50-95): 100%|██████████| 2/2 [00:00<00:00,  8.04it/s]"
     ]
    },
    {
     "name": "stdout",
     "output_type": "stream",
     "text": [
      "                   all         40        150      0.258       0.29      0.261      0.152\n"
     ]
    },
    {
     "name": "stderr",
     "output_type": "stream",
     "text": [
      "\n"
     ]
    },
    {
     "name": "stdout",
     "output_type": "stream",
     "text": [
      "\n",
      "      Epoch    GPU_mem   box_loss   cls_loss   dfl_loss  Instances       Size\n"
     ]
    },
    {
     "name": "stderr",
     "output_type": "stream",
     "text": [
      "     45/200      1.97G      1.219     0.8691      1.126          8        416: 100%|██████████| 11/11 [00:01<00:00,  8.20it/s]\n",
      "                 Class     Images  Instances      Box(P          R      mAP50  mAP50-95): 100%|██████████| 2/2 [00:00<00:00,  8.07it/s]"
     ]
    },
    {
     "name": "stdout",
     "output_type": "stream",
     "text": [
      "                   all         40        150      0.324      0.243      0.254      0.139\n"
     ]
    },
    {
     "name": "stderr",
     "output_type": "stream",
     "text": [
      "\n"
     ]
    },
    {
     "name": "stdout",
     "output_type": "stream",
     "text": [
      "\n",
      "      Epoch    GPU_mem   box_loss   cls_loss   dfl_loss  Instances       Size\n"
     ]
    },
    {
     "name": "stderr",
     "output_type": "stream",
     "text": [
      "     46/200      1.98G      1.139      1.198      1.026          0        416: 100%|██████████| 11/11 [00:01<00:00,  8.26it/s]\n",
      "                 Class     Images  Instances      Box(P          R      mAP50  mAP50-95): 100%|██████████| 2/2 [00:00<00:00,  8.22it/s]"
     ]
    },
    {
     "name": "stdout",
     "output_type": "stream",
     "text": [
      "                   all         40        150      0.379      0.396       0.32      0.171\n"
     ]
    },
    {
     "name": "stderr",
     "output_type": "stream",
     "text": [
      "\n"
     ]
    },
    {
     "name": "stdout",
     "output_type": "stream",
     "text": [
      "\n",
      "      Epoch    GPU_mem   box_loss   cls_loss   dfl_loss  Instances       Size\n"
     ]
    },
    {
     "name": "stderr",
     "output_type": "stream",
     "text": [
      "     47/200      1.96G      1.256     0.8594       1.16          1        416: 100%|██████████| 11/11 [00:01<00:00,  7.86it/s]\n",
      "                 Class     Images  Instances      Box(P          R      mAP50  mAP50-95): 100%|██████████| 2/2 [00:00<00:00,  8.33it/s]"
     ]
    },
    {
     "name": "stdout",
     "output_type": "stream",
     "text": [
      "                   all         40        150      0.314      0.388      0.293       0.16\n"
     ]
    },
    {
     "name": "stderr",
     "output_type": "stream",
     "text": [
      "\n"
     ]
    },
    {
     "name": "stdout",
     "output_type": "stream",
     "text": [
      "\n",
      "      Epoch    GPU_mem   box_loss   cls_loss   dfl_loss  Instances       Size\n"
     ]
    },
    {
     "name": "stderr",
     "output_type": "stream",
     "text": [
      "     48/200      1.98G      1.218     0.9666      1.102         12        416: 100%|██████████| 11/11 [00:01<00:00,  7.98it/s]\n",
      "                 Class     Images  Instances      Box(P          R      mAP50  mAP50-95): 100%|██████████| 2/2 [00:00<00:00,  8.69it/s]"
     ]
    },
    {
     "name": "stdout",
     "output_type": "stream",
     "text": [
      "                   all         40        150      0.438       0.31      0.327      0.185\n"
     ]
    },
    {
     "name": "stderr",
     "output_type": "stream",
     "text": [
      "\n"
     ]
    },
    {
     "name": "stdout",
     "output_type": "stream",
     "text": [
      "\n",
      "      Epoch    GPU_mem   box_loss   cls_loss   dfl_loss  Instances       Size\n"
     ]
    },
    {
     "name": "stderr",
     "output_type": "stream",
     "text": [
      "     49/200      1.97G      1.295     0.8497       1.17          1        416: 100%|██████████| 11/11 [00:01<00:00,  8.17it/s]\n",
      "                 Class     Images  Instances      Box(P          R      mAP50  mAP50-95): 100%|██████████| 2/2 [00:00<00:00,  8.58it/s]"
     ]
    },
    {
     "name": "stdout",
     "output_type": "stream",
     "text": [
      "                   all         40        150      0.533      0.309      0.344      0.203\n"
     ]
    },
    {
     "name": "stderr",
     "output_type": "stream",
     "text": [
      "\n"
     ]
    },
    {
     "name": "stdout",
     "output_type": "stream",
     "text": [
      "\n",
      "      Epoch    GPU_mem   box_loss   cls_loss   dfl_loss  Instances       Size\n"
     ]
    },
    {
     "name": "stderr",
     "output_type": "stream",
     "text": [
      "     50/200      1.98G      1.268     0.8532      1.105          6        416: 100%|██████████| 11/11 [00:01<00:00,  8.24it/s]\n",
      "                 Class     Images  Instances      Box(P          R      mAP50  mAP50-95): 100%|██████████| 2/2 [00:00<00:00,  8.14it/s]"
     ]
    },
    {
     "name": "stdout",
     "output_type": "stream",
     "text": [
      "                   all         40        150      0.383      0.351       0.36      0.198\n"
     ]
    },
    {
     "name": "stderr",
     "output_type": "stream",
     "text": [
      "\n"
     ]
    },
    {
     "name": "stdout",
     "output_type": "stream",
     "text": [
      "\n",
      "      Epoch    GPU_mem   box_loss   cls_loss   dfl_loss  Instances       Size\n"
     ]
    },
    {
     "name": "stderr",
     "output_type": "stream",
     "text": [
      "     51/200      1.95G       1.07      1.034     0.9612          0        416: 100%|██████████| 11/11 [00:01<00:00,  8.22it/s]\n",
      "                 Class     Images  Instances      Box(P          R      mAP50  mAP50-95): 100%|██████████| 2/2 [00:00<00:00,  8.56it/s]"
     ]
    },
    {
     "name": "stdout",
     "output_type": "stream",
     "text": [
      "                   all         40        150       0.26      0.347      0.298      0.167\n"
     ]
    },
    {
     "name": "stderr",
     "output_type": "stream",
     "text": [
      "\n"
     ]
    },
    {
     "name": "stdout",
     "output_type": "stream",
     "text": [
      "\n",
      "      Epoch    GPU_mem   box_loss   cls_loss   dfl_loss  Instances       Size\n"
     ]
    },
    {
     "name": "stderr",
     "output_type": "stream",
     "text": [
      "     52/200      1.97G      1.213      1.051      1.092          3        416: 100%|██████████| 11/11 [00:01<00:00,  8.07it/s]\n",
      "                 Class     Images  Instances      Box(P          R      mAP50  mAP50-95): 100%|██████████| 2/2 [00:00<00:00,  7.81it/s]"
     ]
    },
    {
     "name": "stdout",
     "output_type": "stream",
     "text": [
      "                   all         40        150      0.233      0.306       0.25      0.142\n"
     ]
    },
    {
     "name": "stderr",
     "output_type": "stream",
     "text": [
      "\n"
     ]
    },
    {
     "name": "stdout",
     "output_type": "stream",
     "text": [
      "\n",
      "      Epoch    GPU_mem   box_loss   cls_loss   dfl_loss  Instances       Size\n"
     ]
    },
    {
     "name": "stderr",
     "output_type": "stream",
     "text": [
      "     53/200      1.97G      1.084     0.8154      1.076          3        416: 100%|██████████| 11/11 [00:01<00:00,  7.95it/s]\n",
      "                 Class     Images  Instances      Box(P          R      mAP50  mAP50-95): 100%|██████████| 2/2 [00:00<00:00,  7.77it/s]"
     ]
    },
    {
     "name": "stdout",
     "output_type": "stream",
     "text": [
      "                   all         40        150      0.274      0.296      0.251      0.136\n"
     ]
    },
    {
     "name": "stderr",
     "output_type": "stream",
     "text": [
      "\n"
     ]
    },
    {
     "name": "stdout",
     "output_type": "stream",
     "text": [
      "\n",
      "      Epoch    GPU_mem   box_loss   cls_loss   dfl_loss  Instances       Size\n"
     ]
    },
    {
     "name": "stderr",
     "output_type": "stream",
     "text": [
      "     54/200      1.97G      1.146     0.8012      1.062          2        416: 100%|██████████| 11/11 [00:01<00:00,  8.10it/s]\n",
      "                 Class     Images  Instances      Box(P          R      mAP50  mAP50-95): 100%|██████████| 2/2 [00:00<00:00,  7.78it/s]"
     ]
    },
    {
     "name": "stdout",
     "output_type": "stream",
     "text": [
      "                   all         40        150      0.343      0.323      0.289      0.157\n"
     ]
    },
    {
     "name": "stderr",
     "output_type": "stream",
     "text": [
      "\n"
     ]
    },
    {
     "name": "stdout",
     "output_type": "stream",
     "text": [
      "\n",
      "      Epoch    GPU_mem   box_loss   cls_loss   dfl_loss  Instances       Size\n"
     ]
    },
    {
     "name": "stderr",
     "output_type": "stream",
     "text": [
      "     55/200      1.96G      1.229     0.8195      1.107          6        416: 100%|██████████| 11/11 [00:01<00:00,  8.16it/s]\n",
      "                 Class     Images  Instances      Box(P          R      mAP50  mAP50-95): 100%|██████████| 2/2 [00:00<00:00,  7.67it/s]"
     ]
    },
    {
     "name": "stdout",
     "output_type": "stream",
     "text": [
      "                   all         40        150      0.549      0.275      0.287      0.143\n"
     ]
    },
    {
     "name": "stderr",
     "output_type": "stream",
     "text": [
      "\n"
     ]
    },
    {
     "name": "stdout",
     "output_type": "stream",
     "text": [
      "\n",
      "      Epoch    GPU_mem   box_loss   cls_loss   dfl_loss  Instances       Size\n"
     ]
    },
    {
     "name": "stderr",
     "output_type": "stream",
     "text": [
      "     56/200      1.98G      1.206     0.9524      1.128          3        416: 100%|██████████| 11/11 [00:01<00:00,  8.11it/s]\n",
      "                 Class     Images  Instances      Box(P          R      mAP50  mAP50-95): 100%|██████████| 2/2 [00:00<00:00,  8.10it/s]"
     ]
    },
    {
     "name": "stdout",
     "output_type": "stream",
     "text": [
      "                   all         40        150      0.524      0.279      0.317      0.169\n"
     ]
    },
    {
     "name": "stderr",
     "output_type": "stream",
     "text": [
      "\n"
     ]
    },
    {
     "name": "stdout",
     "output_type": "stream",
     "text": [
      "\n",
      "      Epoch    GPU_mem   box_loss   cls_loss   dfl_loss  Instances       Size\n"
     ]
    },
    {
     "name": "stderr",
     "output_type": "stream",
     "text": [
      "     57/200      1.97G      1.234     0.9844      1.097          2        416: 100%|██████████| 11/11 [00:01<00:00,  8.25it/s]\n",
      "                 Class     Images  Instances      Box(P          R      mAP50  mAP50-95): 100%|██████████| 2/2 [00:00<00:00,  7.81it/s]"
     ]
    },
    {
     "name": "stdout",
     "output_type": "stream",
     "text": [
      "                   all         40        150      0.269      0.337      0.326      0.169\n"
     ]
    },
    {
     "name": "stderr",
     "output_type": "stream",
     "text": [
      "\n"
     ]
    },
    {
     "name": "stdout",
     "output_type": "stream",
     "text": [
      "\n",
      "      Epoch    GPU_mem   box_loss   cls_loss   dfl_loss  Instances       Size\n"
     ]
    },
    {
     "name": "stderr",
     "output_type": "stream",
     "text": [
      "     58/200      1.98G      1.174     0.8113      1.065          5        416: 100%|██████████| 11/11 [00:01<00:00,  7.89it/s]\n",
      "                 Class     Images  Instances      Box(P          R      mAP50  mAP50-95): 100%|██████████| 2/2 [00:00<00:00,  7.63it/s]"
     ]
    },
    {
     "name": "stdout",
     "output_type": "stream",
     "text": [
      "                   all         40        150      0.296      0.367      0.328      0.177\n"
     ]
    },
    {
     "name": "stderr",
     "output_type": "stream",
     "text": [
      "\n"
     ]
    },
    {
     "name": "stdout",
     "output_type": "stream",
     "text": [
      "\n",
      "      Epoch    GPU_mem   box_loss   cls_loss   dfl_loss  Instances       Size\n"
     ]
    },
    {
     "name": "stderr",
     "output_type": "stream",
     "text": [
      "     59/200      1.95G      1.127     0.8133       1.05          4        416: 100%|██████████| 11/11 [00:01<00:00,  8.08it/s]\n",
      "                 Class     Images  Instances      Box(P          R      mAP50  mAP50-95): 100%|██████████| 2/2 [00:00<00:00,  8.21it/s]"
     ]
    },
    {
     "name": "stdout",
     "output_type": "stream",
     "text": [
      "                   all         40        150      0.352      0.395      0.301      0.163\n"
     ]
    },
    {
     "name": "stderr",
     "output_type": "stream",
     "text": [
      "\n"
     ]
    },
    {
     "name": "stdout",
     "output_type": "stream",
     "text": [
      "\n",
      "      Epoch    GPU_mem   box_loss   cls_loss   dfl_loss  Instances       Size\n"
     ]
    },
    {
     "name": "stderr",
     "output_type": "stream",
     "text": [
      "     60/200      1.98G      1.142     0.9429      1.076         11        416: 100%|██████████| 11/11 [00:01<00:00,  8.01it/s]\n",
      "                 Class     Images  Instances      Box(P          R      mAP50  mAP50-95): 100%|██████████| 2/2 [00:00<00:00,  8.23it/s]"
     ]
    },
    {
     "name": "stdout",
     "output_type": "stream",
     "text": [
      "                   all         40        150      0.527      0.289      0.311      0.174\n"
     ]
    },
    {
     "name": "stderr",
     "output_type": "stream",
     "text": [
      "\n"
     ]
    },
    {
     "name": "stdout",
     "output_type": "stream",
     "text": [
      "\n",
      "      Epoch    GPU_mem   box_loss   cls_loss   dfl_loss  Instances       Size\n"
     ]
    },
    {
     "name": "stderr",
     "output_type": "stream",
     "text": [
      "     61/200      1.98G      1.108     0.7564      1.064          7        416: 100%|██████████| 11/11 [00:01<00:00,  8.29it/s]\n",
      "                 Class     Images  Instances      Box(P          R      mAP50  mAP50-95): 100%|██████████| 2/2 [00:00<00:00,  7.80it/s]"
     ]
    },
    {
     "name": "stdout",
     "output_type": "stream",
     "text": [
      "                   all         40        150      0.536      0.266      0.293      0.172\n"
     ]
    },
    {
     "name": "stderr",
     "output_type": "stream",
     "text": [
      "\n"
     ]
    },
    {
     "name": "stdout",
     "output_type": "stream",
     "text": [
      "\n",
      "      Epoch    GPU_mem   box_loss   cls_loss   dfl_loss  Instances       Size\n"
     ]
    },
    {
     "name": "stderr",
     "output_type": "stream",
     "text": [
      "     62/200      1.97G      1.064      0.806      1.019         12        416: 100%|██████████| 11/11 [00:01<00:00,  8.07it/s]\n",
      "                 Class     Images  Instances      Box(P          R      mAP50  mAP50-95): 100%|██████████| 2/2 [00:00<00:00,  7.98it/s]"
     ]
    },
    {
     "name": "stdout",
     "output_type": "stream",
     "text": [
      "                   all         40        150      0.275      0.354      0.286      0.156\n"
     ]
    },
    {
     "name": "stderr",
     "output_type": "stream",
     "text": [
      "\n"
     ]
    },
    {
     "name": "stdout",
     "output_type": "stream",
     "text": [
      "\n",
      "      Epoch    GPU_mem   box_loss   cls_loss   dfl_loss  Instances       Size\n"
     ]
    },
    {
     "name": "stderr",
     "output_type": "stream",
     "text": [
      "     63/200      1.96G      1.011     0.8167      0.947          0        416: 100%|██████████| 11/11 [00:01<00:00,  8.13it/s]\n",
      "                 Class     Images  Instances      Box(P          R      mAP50  mAP50-95): 100%|██████████| 2/2 [00:00<00:00,  7.85it/s]"
     ]
    },
    {
     "name": "stdout",
     "output_type": "stream",
     "text": [
      "                   all         40        150      0.301       0.34      0.286       0.15\n"
     ]
    },
    {
     "name": "stderr",
     "output_type": "stream",
     "text": [
      "\n"
     ]
    },
    {
     "name": "stdout",
     "output_type": "stream",
     "text": [
      "\n",
      "      Epoch    GPU_mem   box_loss   cls_loss   dfl_loss  Instances       Size\n"
     ]
    },
    {
     "name": "stderr",
     "output_type": "stream",
     "text": [
      "     64/200      1.97G      1.182     0.7335      1.084          5        416: 100%|██████████| 11/11 [00:01<00:00,  7.84it/s]\n",
      "                 Class     Images  Instances      Box(P          R      mAP50  mAP50-95): 100%|██████████| 2/2 [00:00<00:00,  8.03it/s]"
     ]
    },
    {
     "name": "stdout",
     "output_type": "stream",
     "text": [
      "                   all         40        150      0.577      0.273      0.319      0.174\n"
     ]
    },
    {
     "name": "stderr",
     "output_type": "stream",
     "text": [
      "\n"
     ]
    },
    {
     "name": "stdout",
     "output_type": "stream",
     "text": [
      "\n",
      "      Epoch    GPU_mem   box_loss   cls_loss   dfl_loss  Instances       Size\n"
     ]
    },
    {
     "name": "stderr",
     "output_type": "stream",
     "text": [
      "     65/200      1.97G      1.154     0.7588      1.058          3        416: 100%|██████████| 11/11 [00:01<00:00,  8.26it/s]\n",
      "                 Class     Images  Instances      Box(P          R      mAP50  mAP50-95): 100%|██████████| 2/2 [00:00<00:00,  8.07it/s]"
     ]
    },
    {
     "name": "stdout",
     "output_type": "stream",
     "text": [
      "                   all         40        150      0.741      0.302      0.337       0.18\n"
     ]
    },
    {
     "name": "stderr",
     "output_type": "stream",
     "text": [
      "\n"
     ]
    },
    {
     "name": "stdout",
     "output_type": "stream",
     "text": [
      "\n",
      "      Epoch    GPU_mem   box_loss   cls_loss   dfl_loss  Instances       Size\n"
     ]
    },
    {
     "name": "stderr",
     "output_type": "stream",
     "text": [
      "     66/200      1.97G      1.115     0.7406      1.042         12        416: 100%|██████████| 11/11 [00:01<00:00,  8.20it/s]\n",
      "                 Class     Images  Instances      Box(P          R      mAP50  mAP50-95): 100%|██████████| 2/2 [00:00<00:00,  7.67it/s]"
     ]
    },
    {
     "name": "stdout",
     "output_type": "stream",
     "text": [
      "                   all         40        150      0.511      0.311      0.305      0.162\n"
     ]
    },
    {
     "name": "stderr",
     "output_type": "stream",
     "text": [
      "\n"
     ]
    },
    {
     "name": "stdout",
     "output_type": "stream",
     "text": [
      "\n",
      "      Epoch    GPU_mem   box_loss   cls_loss   dfl_loss  Instances       Size\n"
     ]
    },
    {
     "name": "stderr",
     "output_type": "stream",
     "text": [
      "     67/200      1.96G      1.079     0.6932      1.023          7        416: 100%|██████████| 11/11 [00:01<00:00,  8.05it/s]\n",
      "                 Class     Images  Instances      Box(P          R      mAP50  mAP50-95): 100%|██████████| 2/2 [00:00<00:00,  7.51it/s]"
     ]
    },
    {
     "name": "stdout",
     "output_type": "stream",
     "text": [
      "                   all         40        150       0.33       0.32      0.319      0.173\n"
     ]
    },
    {
     "name": "stderr",
     "output_type": "stream",
     "text": [
      "\n"
     ]
    },
    {
     "name": "stdout",
     "output_type": "stream",
     "text": [
      "\n",
      "      Epoch    GPU_mem   box_loss   cls_loss   dfl_loss  Instances       Size\n"
     ]
    },
    {
     "name": "stderr",
     "output_type": "stream",
     "text": [
      "     68/200      1.98G      1.127     0.7584      1.057          9        416: 100%|██████████| 11/11 [00:01<00:00,  7.92it/s]\n",
      "                 Class     Images  Instances      Box(P          R      mAP50  mAP50-95): 100%|██████████| 2/2 [00:00<00:00,  7.82it/s]"
     ]
    },
    {
     "name": "stdout",
     "output_type": "stream",
     "text": [
      "                   all         40        150      0.358      0.337      0.364      0.209\n"
     ]
    },
    {
     "name": "stderr",
     "output_type": "stream",
     "text": [
      "\n"
     ]
    },
    {
     "name": "stdout",
     "output_type": "stream",
     "text": [
      "\n",
      "      Epoch    GPU_mem   box_loss   cls_loss   dfl_loss  Instances       Size\n"
     ]
    },
    {
     "name": "stderr",
     "output_type": "stream",
     "text": [
      "     69/200      1.97G     0.9831     0.6826      1.034          1        416: 100%|██████████| 11/11 [00:01<00:00,  7.97it/s]\n",
      "                 Class     Images  Instances      Box(P          R      mAP50  mAP50-95): 100%|██████████| 2/2 [00:00<00:00,  7.47it/s]"
     ]
    },
    {
     "name": "stdout",
     "output_type": "stream",
     "text": [
      "                   all         40        150      0.585      0.326      0.351      0.203\n"
     ]
    },
    {
     "name": "stderr",
     "output_type": "stream",
     "text": [
      "\n"
     ]
    },
    {
     "name": "stdout",
     "output_type": "stream",
     "text": [
      "\n",
      "      Epoch    GPU_mem   box_loss   cls_loss   dfl_loss  Instances       Size\n"
     ]
    },
    {
     "name": "stderr",
     "output_type": "stream",
     "text": [
      "     70/200      1.97G      1.074     0.7445     0.9963          1        416: 100%|██████████| 11/11 [00:01<00:00,  8.09it/s]\n",
      "                 Class     Images  Instances      Box(P          R      mAP50  mAP50-95): 100%|██████████| 2/2 [00:00<00:00,  8.09it/s]"
     ]
    },
    {
     "name": "stdout",
     "output_type": "stream",
     "text": [
      "                   all         40        150      0.356      0.317      0.313      0.185\n"
     ]
    },
    {
     "name": "stderr",
     "output_type": "stream",
     "text": [
      "\n"
     ]
    },
    {
     "name": "stdout",
     "output_type": "stream",
     "text": [
      "\n",
      "      Epoch    GPU_mem   box_loss   cls_loss   dfl_loss  Instances       Size\n"
     ]
    },
    {
     "name": "stderr",
     "output_type": "stream",
     "text": [
      "     71/200      1.96G      1.188     0.7326      1.234          1        416: 100%|██████████| 11/11 [00:01<00:00,  8.03it/s]\n",
      "                 Class     Images  Instances      Box(P          R      mAP50  mAP50-95): 100%|██████████| 2/2 [00:00<00:00,  7.29it/s]"
     ]
    },
    {
     "name": "stdout",
     "output_type": "stream",
     "text": [
      "                   all         40        150      0.292      0.359      0.317      0.179\n"
     ]
    },
    {
     "name": "stderr",
     "output_type": "stream",
     "text": [
      "\n"
     ]
    },
    {
     "name": "stdout",
     "output_type": "stream",
     "text": [
      "\n",
      "      Epoch    GPU_mem   box_loss   cls_loss   dfl_loss  Instances       Size\n"
     ]
    },
    {
     "name": "stderr",
     "output_type": "stream",
     "text": [
      "     72/200      1.99G      1.051     0.7218      1.042          2        416: 100%|██████████| 11/11 [00:01<00:00,  7.99it/s]\n",
      "                 Class     Images  Instances      Box(P          R      mAP50  mAP50-95): 100%|██████████| 2/2 [00:00<00:00,  7.69it/s]"
     ]
    },
    {
     "name": "stdout",
     "output_type": "stream",
     "text": [
      "                   all         40        150      0.505      0.378      0.338      0.181\n"
     ]
    },
    {
     "name": "stderr",
     "output_type": "stream",
     "text": [
      "\n"
     ]
    },
    {
     "name": "stdout",
     "output_type": "stream",
     "text": [
      "\n",
      "      Epoch    GPU_mem   box_loss   cls_loss   dfl_loss  Instances       Size\n"
     ]
    },
    {
     "name": "stderr",
     "output_type": "stream",
     "text": [
      "     73/200      1.98G      1.089     0.7875      1.084          4        416: 100%|██████████| 11/11 [00:01<00:00,  8.21it/s]\n",
      "                 Class     Images  Instances      Box(P          R      mAP50  mAP50-95): 100%|██████████| 2/2 [00:00<00:00,  7.82it/s]"
     ]
    },
    {
     "name": "stdout",
     "output_type": "stream",
     "text": [
      "                   all         40        150       0.51      0.357      0.335      0.184\n"
     ]
    },
    {
     "name": "stderr",
     "output_type": "stream",
     "text": [
      "\n"
     ]
    },
    {
     "name": "stdout",
     "output_type": "stream",
     "text": [
      "\n",
      "      Epoch    GPU_mem   box_loss   cls_loss   dfl_loss  Instances       Size\n"
     ]
    },
    {
     "name": "stderr",
     "output_type": "stream",
     "text": [
      "     74/200      1.97G      1.077     0.7735      1.064          2        416: 100%|██████████| 11/11 [00:01<00:00,  8.04it/s]\n",
      "                 Class     Images  Instances      Box(P          R      mAP50  mAP50-95): 100%|██████████| 2/2 [00:00<00:00,  7.67it/s]"
     ]
    },
    {
     "name": "stdout",
     "output_type": "stream",
     "text": [
      "                   all         40        150       0.36       0.31      0.329      0.186\n"
     ]
    },
    {
     "name": "stderr",
     "output_type": "stream",
     "text": [
      "\n"
     ]
    },
    {
     "name": "stdout",
     "output_type": "stream",
     "text": [
      "\n",
      "      Epoch    GPU_mem   box_loss   cls_loss   dfl_loss  Instances       Size\n"
     ]
    },
    {
     "name": "stderr",
     "output_type": "stream",
     "text": [
      "     75/200      1.96G      1.017     0.6654      1.011          3        416: 100%|██████████| 11/11 [00:01<00:00,  7.94it/s]\n",
      "                 Class     Images  Instances      Box(P          R      mAP50  mAP50-95): 100%|██████████| 2/2 [00:00<00:00,  7.95it/s]"
     ]
    },
    {
     "name": "stdout",
     "output_type": "stream",
     "text": [
      "                   all         40        150      0.353      0.343      0.323       0.18\n"
     ]
    },
    {
     "name": "stderr",
     "output_type": "stream",
     "text": [
      "\n"
     ]
    },
    {
     "name": "stdout",
     "output_type": "stream",
     "text": [
      "\n",
      "      Epoch    GPU_mem   box_loss   cls_loss   dfl_loss  Instances       Size\n"
     ]
    },
    {
     "name": "stderr",
     "output_type": "stream",
     "text": [
      "     76/200      1.97G      1.003     0.6606      1.002         13        416: 100%|██████████| 11/11 [00:01<00:00,  8.04it/s]\n",
      "                 Class     Images  Instances      Box(P          R      mAP50  mAP50-95): 100%|██████████| 2/2 [00:00<00:00,  7.99it/s]"
     ]
    },
    {
     "name": "stdout",
     "output_type": "stream",
     "text": [
      "                   all         40        150      0.367      0.316      0.329      0.184\n"
     ]
    },
    {
     "name": "stderr",
     "output_type": "stream",
     "text": [
      "\n"
     ]
    },
    {
     "name": "stdout",
     "output_type": "stream",
     "text": [
      "\n",
      "      Epoch    GPU_mem   box_loss   cls_loss   dfl_loss  Instances       Size\n"
     ]
    },
    {
     "name": "stderr",
     "output_type": "stream",
     "text": [
      "     77/200      1.97G      1.104     0.7151      1.056          3        416: 100%|██████████| 11/11 [00:01<00:00,  8.26it/s]\n",
      "                 Class     Images  Instances      Box(P          R      mAP50  mAP50-95): 100%|██████████| 2/2 [00:00<00:00,  8.50it/s]"
     ]
    },
    {
     "name": "stdout",
     "output_type": "stream",
     "text": [
      "                   all         40        150      0.332       0.32      0.339      0.193\n"
     ]
    },
    {
     "name": "stderr",
     "output_type": "stream",
     "text": [
      "\n"
     ]
    },
    {
     "name": "stdout",
     "output_type": "stream",
     "text": [
      "\n",
      "      Epoch    GPU_mem   box_loss   cls_loss   dfl_loss  Instances       Size\n"
     ]
    },
    {
     "name": "stderr",
     "output_type": "stream",
     "text": [
      "     78/200      1.97G        1.1     0.7366      1.134          2        416: 100%|██████████| 11/11 [00:01<00:00,  8.11it/s]\n",
      "                 Class     Images  Instances      Box(P          R      mAP50  mAP50-95): 100%|██████████| 2/2 [00:00<00:00,  8.15it/s]"
     ]
    },
    {
     "name": "stdout",
     "output_type": "stream",
     "text": [
      "                   all         40        150      0.326      0.375      0.353      0.195\n"
     ]
    },
    {
     "name": "stderr",
     "output_type": "stream",
     "text": [
      "\n"
     ]
    },
    {
     "name": "stdout",
     "output_type": "stream",
     "text": [
      "\n",
      "      Epoch    GPU_mem   box_loss   cls_loss   dfl_loss  Instances       Size\n"
     ]
    },
    {
     "name": "stderr",
     "output_type": "stream",
     "text": [
      "     79/200      1.97G      1.158     0.8416      1.089          2        416: 100%|██████████| 11/11 [00:01<00:00,  8.15it/s]\n",
      "                 Class     Images  Instances      Box(P          R      mAP50  mAP50-95): 100%|██████████| 2/2 [00:00<00:00,  7.55it/s]"
     ]
    },
    {
     "name": "stdout",
     "output_type": "stream",
     "text": [
      "                   all         40        150      0.351      0.494      0.388      0.204\n"
     ]
    },
    {
     "name": "stderr",
     "output_type": "stream",
     "text": [
      "\n"
     ]
    },
    {
     "name": "stdout",
     "output_type": "stream",
     "text": [
      "\n",
      "      Epoch    GPU_mem   box_loss   cls_loss   dfl_loss  Instances       Size\n"
     ]
    },
    {
     "name": "stderr",
     "output_type": "stream",
     "text": [
      "     80/200      1.98G      1.019     0.5856      1.033          3        416: 100%|██████████| 11/11 [00:01<00:00,  7.97it/s]\n",
      "                 Class     Images  Instances      Box(P          R      mAP50  mAP50-95): 100%|██████████| 2/2 [00:00<00:00,  7.46it/s]"
     ]
    },
    {
     "name": "stdout",
     "output_type": "stream",
     "text": [
      "                   all         40        150      0.338       0.46      0.365      0.195\n"
     ]
    },
    {
     "name": "stderr",
     "output_type": "stream",
     "text": [
      "\n"
     ]
    },
    {
     "name": "stdout",
     "output_type": "stream",
     "text": [
      "\n",
      "      Epoch    GPU_mem   box_loss   cls_loss   dfl_loss  Instances       Size\n"
     ]
    },
    {
     "name": "stderr",
     "output_type": "stream",
     "text": [
      "     81/200      1.97G       1.07      0.661      1.025          1        416: 100%|██████████| 11/11 [00:01<00:00,  8.18it/s]\n",
      "                 Class     Images  Instances      Box(P          R      mAP50  mAP50-95): 100%|██████████| 2/2 [00:00<00:00,  8.31it/s]"
     ]
    },
    {
     "name": "stdout",
     "output_type": "stream",
     "text": [
      "                   all         40        150      0.338       0.46       0.36      0.193\n"
     ]
    },
    {
     "name": "stderr",
     "output_type": "stream",
     "text": [
      "\n"
     ]
    },
    {
     "name": "stdout",
     "output_type": "stream",
     "text": [
      "\n",
      "      Epoch    GPU_mem   box_loss   cls_loss   dfl_loss  Instances       Size\n"
     ]
    },
    {
     "name": "stderr",
     "output_type": "stream",
     "text": [
      "     82/200      1.98G      1.064      0.645      1.094          2        416: 100%|██████████| 11/11 [00:01<00:00,  8.16it/s]\n",
      "                 Class     Images  Instances      Box(P          R      mAP50  mAP50-95): 100%|██████████| 2/2 [00:00<00:00,  8.33it/s]"
     ]
    },
    {
     "name": "stdout",
     "output_type": "stream",
     "text": [
      "                   all         40        150      0.327      0.345      0.362      0.197\n"
     ]
    },
    {
     "name": "stderr",
     "output_type": "stream",
     "text": [
      "\n"
     ]
    },
    {
     "name": "stdout",
     "output_type": "stream",
     "text": [
      "\n",
      "      Epoch    GPU_mem   box_loss   cls_loss   dfl_loss  Instances       Size\n"
     ]
    },
    {
     "name": "stderr",
     "output_type": "stream",
     "text": [
      "     83/200      1.95G     0.9089     0.9639     0.9156          0        416: 100%|██████████| 11/11 [00:01<00:00,  8.34it/s]\n",
      "                 Class     Images  Instances      Box(P          R      mAP50  mAP50-95): 100%|██████████| 2/2 [00:00<00:00,  8.10it/s]"
     ]
    },
    {
     "name": "stdout",
     "output_type": "stream",
     "text": [
      "                   all         40        150      0.348      0.344       0.36      0.199\n"
     ]
    },
    {
     "name": "stderr",
     "output_type": "stream",
     "text": [
      "\n"
     ]
    },
    {
     "name": "stdout",
     "output_type": "stream",
     "text": [
      "\n",
      "      Epoch    GPU_mem   box_loss   cls_loss   dfl_loss  Instances       Size\n"
     ]
    },
    {
     "name": "stderr",
     "output_type": "stream",
     "text": [
      "     84/200      1.98G     0.9748     0.6023     0.9804          1        416: 100%|██████████| 11/11 [00:01<00:00,  8.17it/s]\n",
      "                 Class     Images  Instances      Box(P          R      mAP50  mAP50-95): 100%|██████████| 2/2 [00:00<00:00,  7.29it/s]"
     ]
    },
    {
     "name": "stdout",
     "output_type": "stream",
     "text": [
      "                   all         40        150      0.363      0.357      0.368      0.207\n"
     ]
    },
    {
     "name": "stderr",
     "output_type": "stream",
     "text": [
      "\n"
     ]
    },
    {
     "name": "stdout",
     "output_type": "stream",
     "text": [
      "\n",
      "      Epoch    GPU_mem   box_loss   cls_loss   dfl_loss  Instances       Size\n"
     ]
    },
    {
     "name": "stderr",
     "output_type": "stream",
     "text": [
      "     85/200      1.97G      1.028     0.6655      1.005          9        416: 100%|██████████| 11/11 [00:01<00:00,  8.17it/s]\n",
      "                 Class     Images  Instances      Box(P          R      mAP50  mAP50-95): 100%|██████████| 2/2 [00:00<00:00,  7.73it/s]"
     ]
    },
    {
     "name": "stdout",
     "output_type": "stream",
     "text": [
      "                   all         40        150      0.585      0.335      0.358      0.205\n"
     ]
    },
    {
     "name": "stderr",
     "output_type": "stream",
     "text": [
      "\n"
     ]
    },
    {
     "name": "stdout",
     "output_type": "stream",
     "text": [
      "\n",
      "      Epoch    GPU_mem   box_loss   cls_loss   dfl_loss  Instances       Size\n"
     ]
    },
    {
     "name": "stderr",
     "output_type": "stream",
     "text": [
      "     86/200      1.97G      1.025     0.6186      1.024          1        416: 100%|██████████| 11/11 [00:01<00:00,  7.80it/s]\n",
      "                 Class     Images  Instances      Box(P          R      mAP50  mAP50-95): 100%|██████████| 2/2 [00:00<00:00,  8.32it/s]"
     ]
    },
    {
     "name": "stdout",
     "output_type": "stream",
     "text": [
      "                   all         40        150      0.511      0.365      0.315      0.179\n"
     ]
    },
    {
     "name": "stderr",
     "output_type": "stream",
     "text": [
      "\n"
     ]
    },
    {
     "name": "stdout",
     "output_type": "stream",
     "text": [
      "\n",
      "      Epoch    GPU_mem   box_loss   cls_loss   dfl_loss  Instances       Size\n"
     ]
    },
    {
     "name": "stderr",
     "output_type": "stream",
     "text": [
      "     87/200      1.96G     0.9766     0.6776     0.9991          5        416: 100%|██████████| 11/11 [00:01<00:00,  8.21it/s]\n",
      "                 Class     Images  Instances      Box(P          R      mAP50  mAP50-95): 100%|██████████| 2/2 [00:00<00:00,  8.70it/s]"
     ]
    },
    {
     "name": "stdout",
     "output_type": "stream",
     "text": [
      "                   all         40        150      0.509      0.348       0.29       0.16\n"
     ]
    },
    {
     "name": "stderr",
     "output_type": "stream",
     "text": [
      "\n"
     ]
    },
    {
     "name": "stdout",
     "output_type": "stream",
     "text": [
      "\n",
      "      Epoch    GPU_mem   box_loss   cls_loss   dfl_loss  Instances       Size\n"
     ]
    },
    {
     "name": "stderr",
     "output_type": "stream",
     "text": [
      "     88/200      1.97G      0.961     0.5754      1.014          3        416: 100%|██████████| 11/11 [00:01<00:00,  8.07it/s]\n",
      "                 Class     Images  Instances      Box(P          R      mAP50  mAP50-95): 100%|██████████| 2/2 [00:00<00:00,  8.17it/s]"
     ]
    },
    {
     "name": "stdout",
     "output_type": "stream",
     "text": [
      "                   all         40        150      0.331      0.339      0.293      0.166\n"
     ]
    },
    {
     "name": "stderr",
     "output_type": "stream",
     "text": [
      "\n"
     ]
    },
    {
     "name": "stdout",
     "output_type": "stream",
     "text": [
      "\n",
      "      Epoch    GPU_mem   box_loss   cls_loss   dfl_loss  Instances       Size\n"
     ]
    },
    {
     "name": "stderr",
     "output_type": "stream",
     "text": [
      "     89/200      1.98G      1.002      0.707      1.018          6        416: 100%|██████████| 11/11 [00:01<00:00,  8.18it/s]\n",
      "                 Class     Images  Instances      Box(P          R      mAP50  mAP50-95): 100%|██████████| 2/2 [00:00<00:00,  8.50it/s]"
     ]
    },
    {
     "name": "stdout",
     "output_type": "stream",
     "text": [
      "                   all         40        150      0.315      0.313      0.298      0.171\n"
     ]
    },
    {
     "name": "stderr",
     "output_type": "stream",
     "text": [
      "\n"
     ]
    },
    {
     "name": "stdout",
     "output_type": "stream",
     "text": [
      "\n",
      "      Epoch    GPU_mem   box_loss   cls_loss   dfl_loss  Instances       Size\n"
     ]
    },
    {
     "name": "stderr",
     "output_type": "stream",
     "text": [
      "     90/200      1.97G     0.9563     0.6107     0.9883          7        416: 100%|██████████| 11/11 [00:01<00:00,  8.10it/s]\n",
      "                 Class     Images  Instances      Box(P          R      mAP50  mAP50-95): 100%|██████████| 2/2 [00:00<00:00,  8.95it/s]"
     ]
    },
    {
     "name": "stdout",
     "output_type": "stream",
     "text": [
      "                   all         40        150       0.31      0.337      0.322      0.181\n"
     ]
    },
    {
     "name": "stderr",
     "output_type": "stream",
     "text": [
      "\n"
     ]
    },
    {
     "name": "stdout",
     "output_type": "stream",
     "text": [
      "\n",
      "      Epoch    GPU_mem   box_loss   cls_loss   dfl_loss  Instances       Size\n"
     ]
    },
    {
     "name": "stderr",
     "output_type": "stream",
     "text": [
      "     91/200      1.95G     0.9472     0.5831      1.077          1        416: 100%|██████████| 11/11 [00:01<00:00,  8.10it/s]\n",
      "                 Class     Images  Instances      Box(P          R      mAP50  mAP50-95): 100%|██████████| 2/2 [00:00<00:00,  6.80it/s]"
     ]
    },
    {
     "name": "stdout",
     "output_type": "stream",
     "text": [
      "                   all         40        150      0.281      0.373      0.317      0.181\n"
     ]
    },
    {
     "name": "stderr",
     "output_type": "stream",
     "text": [
      "\n"
     ]
    },
    {
     "name": "stdout",
     "output_type": "stream",
     "text": [
      "\n",
      "      Epoch    GPU_mem   box_loss   cls_loss   dfl_loss  Instances       Size\n"
     ]
    },
    {
     "name": "stderr",
     "output_type": "stream",
     "text": [
      "     92/200      1.97G      0.906     0.6157     0.9693          6        416: 100%|██████████| 11/11 [00:01<00:00,  8.15it/s]\n",
      "                 Class     Images  Instances      Box(P          R      mAP50  mAP50-95): 100%|██████████| 2/2 [00:00<00:00,  8.55it/s]"
     ]
    },
    {
     "name": "stdout",
     "output_type": "stream",
     "text": [
      "                   all         40        150      0.493      0.313      0.304       0.18\n"
     ]
    },
    {
     "name": "stderr",
     "output_type": "stream",
     "text": [
      "\n"
     ]
    },
    {
     "name": "stdout",
     "output_type": "stream",
     "text": [
      "\n",
      "      Epoch    GPU_mem   box_loss   cls_loss   dfl_loss  Instances       Size\n"
     ]
    },
    {
     "name": "stderr",
     "output_type": "stream",
     "text": [
      "     93/200      1.97G     0.9242     0.5824     0.9644          7        416: 100%|██████████| 11/11 [00:01<00:00,  8.37it/s]\n",
      "                 Class     Images  Instances      Box(P          R      mAP50  mAP50-95): 100%|██████████| 2/2 [00:00<00:00,  8.62it/s]"
     ]
    },
    {
     "name": "stdout",
     "output_type": "stream",
     "text": [
      "                   all         40        150      0.284      0.417      0.319      0.181\n"
     ]
    },
    {
     "name": "stderr",
     "output_type": "stream",
     "text": [
      "\n"
     ]
    },
    {
     "name": "stdout",
     "output_type": "stream",
     "text": [
      "\n",
      "      Epoch    GPU_mem   box_loss   cls_loss   dfl_loss  Instances       Size\n"
     ]
    },
    {
     "name": "stderr",
     "output_type": "stream",
     "text": [
      "     94/200      1.98G     0.8928     0.6391     0.9836          3        416: 100%|██████████| 11/11 [00:01<00:00,  8.18it/s]\n",
      "                 Class     Images  Instances      Box(P          R      mAP50  mAP50-95): 100%|██████████| 2/2 [00:00<00:00,  8.00it/s]"
     ]
    },
    {
     "name": "stdout",
     "output_type": "stream",
     "text": [
      "                   all         40        150      0.372      0.418      0.345      0.195\n"
     ]
    },
    {
     "name": "stderr",
     "output_type": "stream",
     "text": [
      "\n"
     ]
    },
    {
     "name": "stdout",
     "output_type": "stream",
     "text": [
      "\n",
      "      Epoch    GPU_mem   box_loss   cls_loss   dfl_loss  Instances       Size\n"
     ]
    },
    {
     "name": "stderr",
     "output_type": "stream",
     "text": [
      "     95/200      1.95G      1.052      1.052      1.115          1        416: 100%|██████████| 11/11 [00:01<00:00,  8.21it/s]\n",
      "                 Class     Images  Instances      Box(P          R      mAP50  mAP50-95): 100%|██████████| 2/2 [00:00<00:00,  8.75it/s]"
     ]
    },
    {
     "name": "stdout",
     "output_type": "stream",
     "text": [
      "                   all         40        150      0.548      0.342      0.331      0.188\n"
     ]
    },
    {
     "name": "stderr",
     "output_type": "stream",
     "text": [
      "\n"
     ]
    },
    {
     "name": "stdout",
     "output_type": "stream",
     "text": [
      "\n",
      "      Epoch    GPU_mem   box_loss   cls_loss   dfl_loss  Instances       Size\n"
     ]
    },
    {
     "name": "stderr",
     "output_type": "stream",
     "text": [
      "     96/200      1.98G      1.014     0.6273      1.003          2        416: 100%|██████████| 11/11 [00:01<00:00,  8.11it/s]\n",
      "                 Class     Images  Instances      Box(P          R      mAP50  mAP50-95): 100%|██████████| 2/2 [00:00<00:00,  8.45it/s]"
     ]
    },
    {
     "name": "stdout",
     "output_type": "stream",
     "text": [
      "                   all         40        150      0.279      0.376      0.305      0.173\n"
     ]
    },
    {
     "name": "stderr",
     "output_type": "stream",
     "text": [
      "\n"
     ]
    },
    {
     "name": "stdout",
     "output_type": "stream",
     "text": [
      "\n",
      "      Epoch    GPU_mem   box_loss   cls_loss   dfl_loss  Instances       Size\n"
     ]
    },
    {
     "name": "stderr",
     "output_type": "stream",
     "text": [
      "     97/200      1.97G      0.905     0.6011     0.9788          8        416: 100%|██████████| 11/11 [00:01<00:00,  8.02it/s]\n",
      "                 Class     Images  Instances      Box(P          R      mAP50  mAP50-95): 100%|██████████| 2/2 [00:00<00:00,  8.52it/s]"
     ]
    },
    {
     "name": "stdout",
     "output_type": "stream",
     "text": [
      "                   all         40        150      0.309      0.358      0.313      0.179\n"
     ]
    },
    {
     "name": "stderr",
     "output_type": "stream",
     "text": [
      "\n"
     ]
    },
    {
     "name": "stdout",
     "output_type": "stream",
     "text": [
      "\n",
      "      Epoch    GPU_mem   box_loss   cls_loss   dfl_loss  Instances       Size\n"
     ]
    },
    {
     "name": "stderr",
     "output_type": "stream",
     "text": [
      "     98/200      1.97G      1.108     0.9471      1.204          1        416: 100%|██████████| 11/11 [00:01<00:00,  8.04it/s]\n",
      "                 Class     Images  Instances      Box(P          R      mAP50  mAP50-95): 100%|██████████| 2/2 [00:00<00:00,  7.85it/s]"
     ]
    },
    {
     "name": "stdout",
     "output_type": "stream",
     "text": [
      "                   all         40        150      0.344      0.324      0.331      0.193\n"
     ]
    },
    {
     "name": "stderr",
     "output_type": "stream",
     "text": [
      "\n"
     ]
    },
    {
     "name": "stdout",
     "output_type": "stream",
     "text": [
      "\n",
      "      Epoch    GPU_mem   box_loss   cls_loss   dfl_loss  Instances       Size\n"
     ]
    },
    {
     "name": "stderr",
     "output_type": "stream",
     "text": [
      "     99/200      1.96G      1.064     0.9344      1.078          1        416: 100%|██████████| 11/11 [00:01<00:00,  8.09it/s]\n",
      "                 Class     Images  Instances      Box(P          R      mAP50  mAP50-95): 100%|██████████| 2/2 [00:00<00:00,  7.95it/s]"
     ]
    },
    {
     "name": "stdout",
     "output_type": "stream",
     "text": [
      "                   all         40        150      0.517      0.344      0.319      0.184\n"
     ]
    },
    {
     "name": "stderr",
     "output_type": "stream",
     "text": [
      "\n"
     ]
    },
    {
     "name": "stdout",
     "output_type": "stream",
     "text": [
      "\n",
      "      Epoch    GPU_mem   box_loss   cls_loss   dfl_loss  Instances       Size\n"
     ]
    },
    {
     "name": "stderr",
     "output_type": "stream",
     "text": [
      "    100/200      1.98G       0.87     0.6298     0.9724          7        416: 100%|██████████| 11/11 [00:01<00:00,  8.25it/s]\n",
      "                 Class     Images  Instances      Box(P          R      mAP50  mAP50-95): 100%|██████████| 2/2 [00:00<00:00,  7.88it/s]"
     ]
    },
    {
     "name": "stdout",
     "output_type": "stream",
     "text": [
      "                   all         40        150      0.276      0.334      0.302      0.173\n"
     ]
    },
    {
     "name": "stderr",
     "output_type": "stream",
     "text": [
      "\n"
     ]
    },
    {
     "name": "stdout",
     "output_type": "stream",
     "text": [
      "\n",
      "      Epoch    GPU_mem   box_loss   cls_loss   dfl_loss  Instances       Size\n"
     ]
    },
    {
     "name": "stderr",
     "output_type": "stream",
     "text": [
      "    101/200      1.97G     0.9347     0.6865     0.9823          4        416: 100%|██████████| 11/11 [00:01<00:00,  8.14it/s]\n",
      "                 Class     Images  Instances      Box(P          R      mAP50  mAP50-95): 100%|██████████| 2/2 [00:00<00:00,  7.97it/s]"
     ]
    },
    {
     "name": "stdout",
     "output_type": "stream",
     "text": [
      "                   all         40        150      0.252      0.333       0.29      0.165\n"
     ]
    },
    {
     "name": "stderr",
     "output_type": "stream",
     "text": [
      "\n"
     ]
    },
    {
     "name": "stdout",
     "output_type": "stream",
     "text": [
      "\n",
      "      Epoch    GPU_mem   box_loss   cls_loss   dfl_loss  Instances       Size\n"
     ]
    },
    {
     "name": "stderr",
     "output_type": "stream",
     "text": [
      "    102/200      1.97G     0.9121     0.6014     0.9648          1        416: 100%|██████████| 11/11 [00:01<00:00,  8.02it/s]\n",
      "                 Class     Images  Instances      Box(P          R      mAP50  mAP50-95): 100%|██████████| 2/2 [00:00<00:00,  7.44it/s]"
     ]
    },
    {
     "name": "stdout",
     "output_type": "stream",
     "text": [
      "                   all         40        150      0.252       0.33      0.276      0.158\n"
     ]
    },
    {
     "name": "stderr",
     "output_type": "stream",
     "text": [
      "\n"
     ]
    },
    {
     "name": "stdout",
     "output_type": "stream",
     "text": [
      "\n",
      "      Epoch    GPU_mem   box_loss   cls_loss   dfl_loss  Instances       Size\n"
     ]
    },
    {
     "name": "stderr",
     "output_type": "stream",
     "text": [
      "    103/200      1.96G     0.9215      0.637      1.031          2        416: 100%|██████████| 11/11 [00:01<00:00,  8.26it/s]\n",
      "                 Class     Images  Instances      Box(P          R      mAP50  mAP50-95): 100%|██████████| 2/2 [00:00<00:00,  8.05it/s]"
     ]
    },
    {
     "name": "stdout",
     "output_type": "stream",
     "text": [
      "                   all         40        150      0.553      0.251      0.276      0.164\n"
     ]
    },
    {
     "name": "stderr",
     "output_type": "stream",
     "text": [
      "\n"
     ]
    },
    {
     "name": "stdout",
     "output_type": "stream",
     "text": [
      "\n",
      "      Epoch    GPU_mem   box_loss   cls_loss   dfl_loss  Instances       Size\n"
     ]
    },
    {
     "name": "stderr",
     "output_type": "stream",
     "text": [
      "    104/200      1.98G     0.9193       0.61     0.9555         11        416: 100%|██████████| 11/11 [00:01<00:00,  8.13it/s]\n",
      "                 Class     Images  Instances      Box(P          R      mAP50  mAP50-95): 100%|██████████| 2/2 [00:00<00:00,  8.46it/s]"
     ]
    },
    {
     "name": "stdout",
     "output_type": "stream",
     "text": [
      "                   all         40        150      0.493       0.34      0.285       0.16\n"
     ]
    },
    {
     "name": "stderr",
     "output_type": "stream",
     "text": [
      "\n"
     ]
    },
    {
     "name": "stdout",
     "output_type": "stream",
     "text": [
      "\n",
      "      Epoch    GPU_mem   box_loss   cls_loss   dfl_loss  Instances       Size\n"
     ]
    },
    {
     "name": "stderr",
     "output_type": "stream",
     "text": [
      "    105/200      1.98G     0.8947     0.6079     0.9629         20        416: 100%|██████████| 11/11 [00:01<00:00,  8.39it/s]\n",
      "                 Class     Images  Instances      Box(P          R      mAP50  mAP50-95): 100%|██████████| 2/2 [00:00<00:00,  9.20it/s]"
     ]
    },
    {
     "name": "stdout",
     "output_type": "stream",
     "text": [
      "                   all         40        150      0.508      0.358        0.3      0.166\n"
     ]
    },
    {
     "name": "stderr",
     "output_type": "stream",
     "text": [
      "\n"
     ]
    },
    {
     "name": "stdout",
     "output_type": "stream",
     "text": [
      "\n",
      "      Epoch    GPU_mem   box_loss   cls_loss   dfl_loss  Instances       Size\n"
     ]
    },
    {
     "name": "stderr",
     "output_type": "stream",
     "text": [
      "    106/200      1.97G      0.989     0.6146      1.027          2        416: 100%|██████████| 11/11 [00:01<00:00,  8.09it/s]\n",
      "                 Class     Images  Instances      Box(P          R      mAP50  mAP50-95): 100%|██████████| 2/2 [00:00<00:00,  8.17it/s]"
     ]
    },
    {
     "name": "stdout",
     "output_type": "stream",
     "text": [
      "                   all         40        150      0.554      0.296      0.306       0.17\n"
     ]
    },
    {
     "name": "stderr",
     "output_type": "stream",
     "text": [
      "\n"
     ]
    },
    {
     "name": "stdout",
     "output_type": "stream",
     "text": [
      "\n",
      "      Epoch    GPU_mem   box_loss   cls_loss   dfl_loss  Instances       Size\n"
     ]
    },
    {
     "name": "stderr",
     "output_type": "stream",
     "text": [
      "    107/200      1.95G     0.8308     0.7873     0.9531          2        416: 100%|██████████| 11/11 [00:01<00:00,  8.04it/s]\n",
      "                 Class     Images  Instances      Box(P          R      mAP50  mAP50-95): 100%|██████████| 2/2 [00:00<00:00,  8.05it/s]"
     ]
    },
    {
     "name": "stdout",
     "output_type": "stream",
     "text": [
      "                   all         40        150      0.536      0.318      0.317      0.177\n"
     ]
    },
    {
     "name": "stderr",
     "output_type": "stream",
     "text": [
      "\n"
     ]
    },
    {
     "name": "stdout",
     "output_type": "stream",
     "text": [
      "\n",
      "      Epoch    GPU_mem   box_loss   cls_loss   dfl_loss  Instances       Size\n"
     ]
    },
    {
     "name": "stderr",
     "output_type": "stream",
     "text": [
      "    108/200      1.98G     0.8983     0.5848     0.9785          4        416: 100%|██████████| 11/11 [00:01<00:00,  7.78it/s]\n",
      "                 Class     Images  Instances      Box(P          R      mAP50  mAP50-95): 100%|██████████| 2/2 [00:00<00:00,  7.56it/s]"
     ]
    },
    {
     "name": "stdout",
     "output_type": "stream",
     "text": [
      "                   all         40        150      0.603      0.303      0.336       0.19\n"
     ]
    },
    {
     "name": "stderr",
     "output_type": "stream",
     "text": [
      "\n"
     ]
    },
    {
     "name": "stdout",
     "output_type": "stream",
     "text": [
      "\n",
      "      Epoch    GPU_mem   box_loss   cls_loss   dfl_loss  Instances       Size\n"
     ]
    },
    {
     "name": "stderr",
     "output_type": "stream",
     "text": [
      "    109/200      1.97G     0.9105     0.5505     0.9481         10        416: 100%|██████████| 11/11 [00:01<00:00,  8.31it/s]\n",
      "                 Class     Images  Instances      Box(P          R      mAP50  mAP50-95): 100%|██████████| 2/2 [00:00<00:00,  7.63it/s]"
     ]
    },
    {
     "name": "stdout",
     "output_type": "stream",
     "text": [
      "                   all         40        150      0.392        0.4      0.355      0.201\n"
     ]
    },
    {
     "name": "stderr",
     "output_type": "stream",
     "text": [
      "\n"
     ]
    },
    {
     "name": "stdout",
     "output_type": "stream",
     "text": [
      "\n",
      "      Epoch    GPU_mem   box_loss   cls_loss   dfl_loss  Instances       Size\n"
     ]
    },
    {
     "name": "stderr",
     "output_type": "stream",
     "text": [
      "    110/200      1.97G     0.9652     0.8708      1.031          3        416: 100%|██████████| 11/11 [00:01<00:00,  8.15it/s]\n",
      "                 Class     Images  Instances      Box(P          R      mAP50  mAP50-95): 100%|██████████| 2/2 [00:00<00:00,  8.76it/s]"
     ]
    },
    {
     "name": "stdout",
     "output_type": "stream",
     "text": [
      "                   all         40        150      0.494      0.389      0.414       0.23\n"
     ]
    },
    {
     "name": "stderr",
     "output_type": "stream",
     "text": [
      "\n"
     ]
    },
    {
     "name": "stdout",
     "output_type": "stream",
     "text": [
      "\n",
      "      Epoch    GPU_mem   box_loss   cls_loss   dfl_loss  Instances       Size\n"
     ]
    },
    {
     "name": "stderr",
     "output_type": "stream",
     "text": [
      "    111/200      1.97G     0.8726     0.5449     0.9524          2        416: 100%|██████████| 11/11 [00:01<00:00,  7.95it/s]\n",
      "                 Class     Images  Instances      Box(P          R      mAP50  mAP50-95): 100%|██████████| 2/2 [00:00<00:00,  7.22it/s]"
     ]
    },
    {
     "name": "stdout",
     "output_type": "stream",
     "text": [
      "                   all         40        150      0.451      0.425      0.409      0.228\n"
     ]
    },
    {
     "name": "stderr",
     "output_type": "stream",
     "text": [
      "\n"
     ]
    },
    {
     "name": "stdout",
     "output_type": "stream",
     "text": [
      "\n",
      "      Epoch    GPU_mem   box_loss   cls_loss   dfl_loss  Instances       Size\n"
     ]
    },
    {
     "name": "stderr",
     "output_type": "stream",
     "text": [
      "    112/200      1.98G     0.9053     0.5925     0.9549          2        416: 100%|██████████| 11/11 [00:01<00:00,  7.98it/s]\n",
      "                 Class     Images  Instances      Box(P          R      mAP50  mAP50-95): 100%|██████████| 2/2 [00:00<00:00,  7.67it/s]"
     ]
    },
    {
     "name": "stdout",
     "output_type": "stream",
     "text": [
      "                   all         40        150       0.64       0.35      0.404      0.212\n"
     ]
    },
    {
     "name": "stderr",
     "output_type": "stream",
     "text": [
      "\n"
     ]
    },
    {
     "name": "stdout",
     "output_type": "stream",
     "text": [
      "\n",
      "      Epoch    GPU_mem   box_loss   cls_loss   dfl_loss  Instances       Size\n"
     ]
    },
    {
     "name": "stderr",
     "output_type": "stream",
     "text": [
      "    113/200      1.97G     0.9141     0.7926     0.9687          7        416: 100%|██████████| 11/11 [00:01<00:00,  7.90it/s]\n",
      "                 Class     Images  Instances      Box(P          R      mAP50  mAP50-95): 100%|██████████| 2/2 [00:00<00:00,  7.62it/s]"
     ]
    },
    {
     "name": "stdout",
     "output_type": "stream",
     "text": [
      "                   all         40        150      0.485      0.423      0.384      0.211\n"
     ]
    },
    {
     "name": "stderr",
     "output_type": "stream",
     "text": [
      "\n"
     ]
    },
    {
     "name": "stdout",
     "output_type": "stream",
     "text": [
      "\n",
      "      Epoch    GPU_mem   box_loss   cls_loss   dfl_loss  Instances       Size\n"
     ]
    },
    {
     "name": "stderr",
     "output_type": "stream",
     "text": [
      "    114/200      1.98G     0.7845      0.536     0.8682          0        416: 100%|██████████| 11/11 [00:01<00:00,  8.29it/s]\n",
      "                 Class     Images  Instances      Box(P          R      mAP50  mAP50-95): 100%|██████████| 2/2 [00:00<00:00,  7.62it/s]"
     ]
    },
    {
     "name": "stdout",
     "output_type": "stream",
     "text": [
      "                   all         40        150      0.475      0.418      0.381      0.202\n"
     ]
    },
    {
     "name": "stderr",
     "output_type": "stream",
     "text": [
      "\n"
     ]
    },
    {
     "name": "stdout",
     "output_type": "stream",
     "text": [
      "\n",
      "      Epoch    GPU_mem   box_loss   cls_loss   dfl_loss  Instances       Size\n"
     ]
    },
    {
     "name": "stderr",
     "output_type": "stream",
     "text": [
      "    115/200      1.96G     0.8451     0.5082     0.9501          7        416: 100%|██████████| 11/11 [00:01<00:00,  8.05it/s]\n",
      "                 Class     Images  Instances      Box(P          R      mAP50  mAP50-95): 100%|██████████| 2/2 [00:00<00:00,  7.26it/s]"
     ]
    },
    {
     "name": "stdout",
     "output_type": "stream",
     "text": [
      "                   all         40        150      0.394      0.414      0.349       0.19\n"
     ]
    },
    {
     "name": "stderr",
     "output_type": "stream",
     "text": [
      "\n"
     ]
    },
    {
     "name": "stdout",
     "output_type": "stream",
     "text": [
      "\n",
      "      Epoch    GPU_mem   box_loss   cls_loss   dfl_loss  Instances       Size\n"
     ]
    },
    {
     "name": "stderr",
     "output_type": "stream",
     "text": [
      "    116/200      1.97G     0.9221     0.5573     0.9868          4        416: 100%|██████████| 11/11 [00:01<00:00,  7.97it/s]\n",
      "                 Class     Images  Instances      Box(P          R      mAP50  mAP50-95): 100%|██████████| 2/2 [00:00<00:00,  7.90it/s]"
     ]
    },
    {
     "name": "stdout",
     "output_type": "stream",
     "text": [
      "                   all         40        150      0.418      0.289      0.335      0.192\n"
     ]
    },
    {
     "name": "stderr",
     "output_type": "stream",
     "text": [
      "\n"
     ]
    },
    {
     "name": "stdout",
     "output_type": "stream",
     "text": [
      "\n",
      "      Epoch    GPU_mem   box_loss   cls_loss   dfl_loss  Instances       Size\n"
     ]
    },
    {
     "name": "stderr",
     "output_type": "stream",
     "text": [
      "    117/200      1.97G      1.009     0.7657      1.085          3        416: 100%|██████████| 11/11 [00:01<00:00,  8.27it/s]\n",
      "                 Class     Images  Instances      Box(P          R      mAP50  mAP50-95): 100%|██████████| 2/2 [00:00<00:00,  9.18it/s]"
     ]
    },
    {
     "name": "stdout",
     "output_type": "stream",
     "text": [
      "                   all         40        150      0.402       0.28      0.337      0.189\n"
     ]
    },
    {
     "name": "stderr",
     "output_type": "stream",
     "text": [
      "\n"
     ]
    },
    {
     "name": "stdout",
     "output_type": "stream",
     "text": [
      "\n",
      "      Epoch    GPU_mem   box_loss   cls_loss   dfl_loss  Instances       Size\n"
     ]
    },
    {
     "name": "stderr",
     "output_type": "stream",
     "text": [
      "    118/200      1.97G     0.9787     0.6766      1.034          2        416: 100%|██████████| 11/11 [00:01<00:00,  6.56it/s]\n",
      "                 Class     Images  Instances      Box(P          R      mAP50  mAP50-95): 100%|██████████| 2/2 [00:00<00:00,  8.78it/s]"
     ]
    },
    {
     "name": "stdout",
     "output_type": "stream",
     "text": [
      "                   all         40        150      0.326      0.316      0.331      0.191\n"
     ]
    },
    {
     "name": "stderr",
     "output_type": "stream",
     "text": [
      "\n"
     ]
    },
    {
     "name": "stdout",
     "output_type": "stream",
     "text": [
      "\n",
      "      Epoch    GPU_mem   box_loss   cls_loss   dfl_loss  Instances       Size\n"
     ]
    },
    {
     "name": "stderr",
     "output_type": "stream",
     "text": [
      "    119/200      1.96G      0.816     0.5632     0.9566          3        416: 100%|██████████| 11/11 [00:01<00:00,  8.06it/s]\n",
      "                 Class     Images  Instances      Box(P          R      mAP50  mAP50-95): 100%|██████████| 2/2 [00:00<00:00,  8.51it/s]"
     ]
    },
    {
     "name": "stdout",
     "output_type": "stream",
     "text": [
      "                   all         40        150      0.405      0.315      0.353      0.198\n"
     ]
    },
    {
     "name": "stderr",
     "output_type": "stream",
     "text": [
      "\n"
     ]
    },
    {
     "name": "stdout",
     "output_type": "stream",
     "text": [
      "\n",
      "      Epoch    GPU_mem   box_loss   cls_loss   dfl_loss  Instances       Size\n"
     ]
    },
    {
     "name": "stderr",
     "output_type": "stream",
     "text": [
      "    120/200      1.98G     0.8104     0.5249     0.9431          2        416: 100%|██████████| 11/11 [00:01<00:00,  8.13it/s]\n",
      "                 Class     Images  Instances      Box(P          R      mAP50  mAP50-95): 100%|██████████| 2/2 [00:00<00:00,  8.27it/s]"
     ]
    },
    {
     "name": "stdout",
     "output_type": "stream",
     "text": [
      "                   all         40        150      0.341      0.357      0.346      0.188\n"
     ]
    },
    {
     "name": "stderr",
     "output_type": "stream",
     "text": [
      "\n"
     ]
    },
    {
     "name": "stdout",
     "output_type": "stream",
     "text": [
      "\n",
      "      Epoch    GPU_mem   box_loss   cls_loss   dfl_loss  Instances       Size\n"
     ]
    },
    {
     "name": "stderr",
     "output_type": "stream",
     "text": [
      "    121/200      1.98G     0.8155     0.5198     0.9368          9        416: 100%|██████████| 11/11 [00:01<00:00,  8.32it/s]\n",
      "                 Class     Images  Instances      Box(P          R      mAP50  mAP50-95): 100%|██████████| 2/2 [00:00<00:00,  8.12it/s]"
     ]
    },
    {
     "name": "stdout",
     "output_type": "stream",
     "text": [
      "                   all         40        150      0.297      0.382      0.337      0.185\n"
     ]
    },
    {
     "name": "stderr",
     "output_type": "stream",
     "text": [
      "\n"
     ]
    },
    {
     "name": "stdout",
     "output_type": "stream",
     "text": [
      "\n",
      "      Epoch    GPU_mem   box_loss   cls_loss   dfl_loss  Instances       Size\n"
     ]
    },
    {
     "name": "stderr",
     "output_type": "stream",
     "text": [
      "    122/200      1.98G     0.8714     0.6109          1          6        416: 100%|██████████| 11/11 [00:01<00:00,  8.33it/s]\n",
      "                 Class     Images  Instances      Box(P          R      mAP50  mAP50-95): 100%|██████████| 2/2 [00:00<00:00,  7.93it/s]"
     ]
    },
    {
     "name": "stdout",
     "output_type": "stream",
     "text": [
      "                   all         40        150      0.356      0.329      0.317      0.176\n"
     ]
    },
    {
     "name": "stderr",
     "output_type": "stream",
     "text": [
      "\n"
     ]
    },
    {
     "name": "stdout",
     "output_type": "stream",
     "text": [
      "\n",
      "      Epoch    GPU_mem   box_loss   cls_loss   dfl_loss  Instances       Size\n"
     ]
    },
    {
     "name": "stderr",
     "output_type": "stream",
     "text": [
      "    123/200      1.97G     0.8058     0.5489     0.9336         13        416: 100%|██████████| 11/11 [00:01<00:00,  8.14it/s]\n",
      "                 Class     Images  Instances      Box(P          R      mAP50  mAP50-95): 100%|██████████| 2/2 [00:00<00:00,  7.58it/s]"
     ]
    },
    {
     "name": "stdout",
     "output_type": "stream",
     "text": [
      "                   all         40        150      0.339      0.299      0.304      0.166\n"
     ]
    },
    {
     "name": "stderr",
     "output_type": "stream",
     "text": [
      "\n"
     ]
    },
    {
     "name": "stdout",
     "output_type": "stream",
     "text": [
      "\n",
      "      Epoch    GPU_mem   box_loss   cls_loss   dfl_loss  Instances       Size\n"
     ]
    },
    {
     "name": "stderr",
     "output_type": "stream",
     "text": [
      "    124/200      1.98G      0.807     0.5691      0.939          9        416: 100%|██████████| 11/11 [00:01<00:00,  7.75it/s]\n",
      "                 Class     Images  Instances      Box(P          R      mAP50  mAP50-95): 100%|██████████| 2/2 [00:00<00:00,  7.70it/s]"
     ]
    },
    {
     "name": "stdout",
     "output_type": "stream",
     "text": [
      "                   all         40        150      0.314        0.4      0.319      0.176\n"
     ]
    },
    {
     "name": "stderr",
     "output_type": "stream",
     "text": [
      "\n"
     ]
    },
    {
     "name": "stdout",
     "output_type": "stream",
     "text": [
      "\n",
      "      Epoch    GPU_mem   box_loss   cls_loss   dfl_loss  Instances       Size\n"
     ]
    },
    {
     "name": "stderr",
     "output_type": "stream",
     "text": [
      "    125/200      1.97G     0.8211     0.5188     0.9363         16        416: 100%|██████████| 11/11 [00:01<00:00,  8.07it/s]\n",
      "                 Class     Images  Instances      Box(P          R      mAP50  mAP50-95): 100%|██████████| 2/2 [00:00<00:00,  8.40it/s]"
     ]
    },
    {
     "name": "stdout",
     "output_type": "stream",
     "text": [
      "                   all         40        150      0.315      0.426      0.324       0.18\n"
     ]
    },
    {
     "name": "stderr",
     "output_type": "stream",
     "text": [
      "\n"
     ]
    },
    {
     "name": "stdout",
     "output_type": "stream",
     "text": [
      "\n",
      "      Epoch    GPU_mem   box_loss   cls_loss   dfl_loss  Instances       Size\n"
     ]
    },
    {
     "name": "stderr",
     "output_type": "stream",
     "text": [
      "    126/200      1.98G     0.8397       0.57     0.9565          2        416: 100%|██████████| 11/11 [00:01<00:00,  8.09it/s]\n",
      "                 Class     Images  Instances      Box(P          R      mAP50  mAP50-95): 100%|██████████| 2/2 [00:00<00:00,  7.76it/s]"
     ]
    },
    {
     "name": "stdout",
     "output_type": "stream",
     "text": [
      "                   all         40        150      0.341      0.384      0.341      0.192\n"
     ]
    },
    {
     "name": "stderr",
     "output_type": "stream",
     "text": [
      "\n"
     ]
    },
    {
     "name": "stdout",
     "output_type": "stream",
     "text": [
      "\n",
      "      Epoch    GPU_mem   box_loss   cls_loss   dfl_loss  Instances       Size\n"
     ]
    },
    {
     "name": "stderr",
     "output_type": "stream",
     "text": [
      "    127/200      1.95G     0.7979     0.5293     0.9355         21        416: 100%|██████████| 11/11 [00:01<00:00,  8.16it/s]\n",
      "                 Class     Images  Instances      Box(P          R      mAP50  mAP50-95): 100%|██████████| 2/2 [00:00<00:00,  8.03it/s]"
     ]
    },
    {
     "name": "stdout",
     "output_type": "stream",
     "text": [
      "                   all         40        150       0.36      0.398      0.358      0.204\n"
     ]
    },
    {
     "name": "stderr",
     "output_type": "stream",
     "text": [
      "\n"
     ]
    },
    {
     "name": "stdout",
     "output_type": "stream",
     "text": [
      "\n",
      "      Epoch    GPU_mem   box_loss   cls_loss   dfl_loss  Instances       Size\n"
     ]
    },
    {
     "name": "stderr",
     "output_type": "stream",
     "text": [
      "    128/200      1.98G     0.8199     0.5414     0.9512          6        416: 100%|██████████| 11/11 [00:01<00:00,  8.05it/s]\n",
      "                 Class     Images  Instances      Box(P          R      mAP50  mAP50-95): 100%|██████████| 2/2 [00:00<00:00,  8.11it/s]"
     ]
    },
    {
     "name": "stdout",
     "output_type": "stream",
     "text": [
      "                   all         40        150       0.35      0.415      0.353      0.203\n"
     ]
    },
    {
     "name": "stderr",
     "output_type": "stream",
     "text": [
      "\n"
     ]
    },
    {
     "name": "stdout",
     "output_type": "stream",
     "text": [
      "\n",
      "      Epoch    GPU_mem   box_loss   cls_loss   dfl_loss  Instances       Size\n"
     ]
    },
    {
     "name": "stderr",
     "output_type": "stream",
     "text": [
      "    129/200      1.97G     0.8066     0.4982     0.9504          1        416: 100%|██████████| 11/11 [00:01<00:00,  7.94it/s]\n",
      "                 Class     Images  Instances      Box(P          R      mAP50  mAP50-95): 100%|██████████| 2/2 [00:00<00:00,  7.68it/s]"
     ]
    },
    {
     "name": "stdout",
     "output_type": "stream",
     "text": [
      "                   all         40        150      0.348      0.387      0.356      0.203\n"
     ]
    },
    {
     "name": "stderr",
     "output_type": "stream",
     "text": [
      "\n"
     ]
    },
    {
     "name": "stdout",
     "output_type": "stream",
     "text": [
      "\n",
      "      Epoch    GPU_mem   box_loss   cls_loss   dfl_loss  Instances       Size\n"
     ]
    },
    {
     "name": "stderr",
     "output_type": "stream",
     "text": [
      "    130/200      1.97G     0.7116      0.451     0.9192          4        416: 100%|██████████| 11/11 [00:01<00:00,  8.18it/s]\n",
      "                 Class     Images  Instances      Box(P          R      mAP50  mAP50-95): 100%|██████████| 2/2 [00:00<00:00,  8.19it/s]"
     ]
    },
    {
     "name": "stdout",
     "output_type": "stream",
     "text": [
      "                   all         40        150      0.305      0.401      0.351      0.201\n"
     ]
    },
    {
     "name": "stderr",
     "output_type": "stream",
     "text": [
      "\n"
     ]
    },
    {
     "name": "stdout",
     "output_type": "stream",
     "text": [
      "\n",
      "      Epoch    GPU_mem   box_loss   cls_loss   dfl_loss  Instances       Size\n"
     ]
    },
    {
     "name": "stderr",
     "output_type": "stream",
     "text": [
      "    131/200      1.97G      0.826     0.4829     0.9566          3        416: 100%|██████████| 11/11 [00:01<00:00,  8.10it/s]\n",
      "                 Class     Images  Instances      Box(P          R      mAP50  mAP50-95): 100%|██████████| 2/2 [00:00<00:00,  7.54it/s]"
     ]
    },
    {
     "name": "stdout",
     "output_type": "stream",
     "text": [
      "                   all         40        150       0.43      0.415      0.372       0.21\n"
     ]
    },
    {
     "name": "stderr",
     "output_type": "stream",
     "text": [
      "\n"
     ]
    },
    {
     "name": "stdout",
     "output_type": "stream",
     "text": [
      "\n",
      "      Epoch    GPU_mem   box_loss   cls_loss   dfl_loss  Instances       Size\n"
     ]
    },
    {
     "name": "stderr",
     "output_type": "stream",
     "text": [
      "    132/200      1.98G     0.7741     0.4701     0.9146          4        416: 100%|██████████| 11/11 [00:01<00:00,  8.03it/s]\n",
      "                 Class     Images  Instances      Box(P          R      mAP50  mAP50-95): 100%|██████████| 2/2 [00:00<00:00,  8.51it/s]"
     ]
    },
    {
     "name": "stdout",
     "output_type": "stream",
     "text": [
      "                   all         40        150      0.425      0.402      0.363        0.2\n"
     ]
    },
    {
     "name": "stderr",
     "output_type": "stream",
     "text": [
      "\n"
     ]
    },
    {
     "name": "stdout",
     "output_type": "stream",
     "text": [
      "\n",
      "      Epoch    GPU_mem   box_loss   cls_loss   dfl_loss  Instances       Size\n"
     ]
    },
    {
     "name": "stderr",
     "output_type": "stream",
     "text": [
      "    133/200      1.97G     0.6749     0.6068     0.8384          0        416: 100%|██████████| 11/11 [00:01<00:00,  8.38it/s]\n",
      "                 Class     Images  Instances      Box(P          R      mAP50  mAP50-95): 100%|██████████| 2/2 [00:00<00:00,  8.07it/s]"
     ]
    },
    {
     "name": "stdout",
     "output_type": "stream",
     "text": [
      "                   all         40        150      0.379      0.446      0.354      0.196\n"
     ]
    },
    {
     "name": "stderr",
     "output_type": "stream",
     "text": [
      "\n"
     ]
    },
    {
     "name": "stdout",
     "output_type": "stream",
     "text": [
      "\n",
      "      Epoch    GPU_mem   box_loss   cls_loss   dfl_loss  Instances       Size\n"
     ]
    },
    {
     "name": "stderr",
     "output_type": "stream",
     "text": [
      "    134/200      1.97G     0.7451     0.4893     0.9022          3        416: 100%|██████████| 11/11 [00:01<00:00,  8.11it/s]\n",
      "                 Class     Images  Instances      Box(P          R      mAP50  mAP50-95): 100%|██████████| 2/2 [00:00<00:00,  7.52it/s]"
     ]
    },
    {
     "name": "stdout",
     "output_type": "stream",
     "text": [
      "                   all         40        150      0.355      0.332      0.344      0.196\n"
     ]
    },
    {
     "name": "stderr",
     "output_type": "stream",
     "text": [
      "\n"
     ]
    },
    {
     "name": "stdout",
     "output_type": "stream",
     "text": [
      "\n",
      "      Epoch    GPU_mem   box_loss   cls_loss   dfl_loss  Instances       Size\n"
     ]
    },
    {
     "name": "stderr",
     "output_type": "stream",
     "text": [
      "    135/200      1.96G     0.7294     0.5171     0.9546          1        416: 100%|██████████| 11/11 [00:01<00:00,  7.98it/s]\n",
      "                 Class     Images  Instances      Box(P          R      mAP50  mAP50-95): 100%|██████████| 2/2 [00:00<00:00,  7.34it/s]"
     ]
    },
    {
     "name": "stdout",
     "output_type": "stream",
     "text": [
      "                   all         40        150       0.53      0.361      0.345      0.202\n"
     ]
    },
    {
     "name": "stderr",
     "output_type": "stream",
     "text": [
      "\n"
     ]
    },
    {
     "name": "stdout",
     "output_type": "stream",
     "text": [
      "\n",
      "      Epoch    GPU_mem   box_loss   cls_loss   dfl_loss  Instances       Size\n"
     ]
    },
    {
     "name": "stderr",
     "output_type": "stream",
     "text": [
      "    136/200      1.98G     0.8071     0.4985      1.022          2        416: 100%|██████████| 11/11 [00:01<00:00,  8.16it/s]\n",
      "                 Class     Images  Instances      Box(P          R      mAP50  mAP50-95): 100%|██████████| 2/2 [00:00<00:00,  7.78it/s]"
     ]
    },
    {
     "name": "stdout",
     "output_type": "stream",
     "text": [
      "                   all         40        150      0.322      0.332       0.34      0.194\n"
     ]
    },
    {
     "name": "stderr",
     "output_type": "stream",
     "text": [
      "\n"
     ]
    },
    {
     "name": "stdout",
     "output_type": "stream",
     "text": [
      "\n",
      "      Epoch    GPU_mem   box_loss   cls_loss   dfl_loss  Instances       Size\n"
     ]
    },
    {
     "name": "stderr",
     "output_type": "stream",
     "text": [
      "    137/200      1.98G     0.7041     0.4368     0.9058          1        416: 100%|██████████| 11/11 [00:01<00:00,  8.23it/s]\n",
      "                 Class     Images  Instances      Box(P          R      mAP50  mAP50-95): 100%|██████████| 2/2 [00:00<00:00,  7.81it/s]"
     ]
    },
    {
     "name": "stdout",
     "output_type": "stream",
     "text": [
      "                   all         40        150      0.259      0.392      0.338      0.192\n"
     ]
    },
    {
     "name": "stderr",
     "output_type": "stream",
     "text": [
      "\n"
     ]
    },
    {
     "name": "stdout",
     "output_type": "stream",
     "text": [
      "\n",
      "      Epoch    GPU_mem   box_loss   cls_loss   dfl_loss  Instances       Size\n"
     ]
    },
    {
     "name": "stderr",
     "output_type": "stream",
     "text": [
      "    138/200      1.97G     0.7749     0.4638      0.927         12        416: 100%|██████████| 11/11 [00:01<00:00,  8.22it/s]\n",
      "                 Class     Images  Instances      Box(P          R      mAP50  mAP50-95): 100%|██████████| 2/2 [00:00<00:00,  8.16it/s]"
     ]
    },
    {
     "name": "stdout",
     "output_type": "stream",
     "text": [
      "                   all         40        150      0.285      0.343      0.326      0.189\n"
     ]
    },
    {
     "name": "stderr",
     "output_type": "stream",
     "text": [
      "\n"
     ]
    },
    {
     "name": "stdout",
     "output_type": "stream",
     "text": [
      "\n",
      "      Epoch    GPU_mem   box_loss   cls_loss   dfl_loss  Instances       Size\n"
     ]
    },
    {
     "name": "stderr",
     "output_type": "stream",
     "text": [
      "    139/200      1.96G     0.7841     0.5232     0.9319          1        416: 100%|██████████| 11/11 [00:01<00:00,  8.20it/s]\n",
      "                 Class     Images  Instances      Box(P          R      mAP50  mAP50-95): 100%|██████████| 2/2 [00:00<00:00,  8.12it/s]"
     ]
    },
    {
     "name": "stdout",
     "output_type": "stream",
     "text": [
      "                   all         40        150      0.796      0.271      0.333      0.198\n"
     ]
    },
    {
     "name": "stderr",
     "output_type": "stream",
     "text": [
      "\n"
     ]
    },
    {
     "name": "stdout",
     "output_type": "stream",
     "text": [
      "\n",
      "      Epoch    GPU_mem   box_loss   cls_loss   dfl_loss  Instances       Size\n"
     ]
    },
    {
     "name": "stderr",
     "output_type": "stream",
     "text": [
      "    140/200      1.97G     0.7883     0.4766     0.9096          1        416: 100%|██████████| 11/11 [00:01<00:00,  7.84it/s]\n",
      "                 Class     Images  Instances      Box(P          R      mAP50  mAP50-95): 100%|██████████| 2/2 [00:00<00:00,  7.78it/s]"
     ]
    },
    {
     "name": "stdout",
     "output_type": "stream",
     "text": [
      "                   all         40        150      0.608      0.286       0.34      0.199\n"
     ]
    },
    {
     "name": "stderr",
     "output_type": "stream",
     "text": [
      "\n"
     ]
    },
    {
     "name": "stdout",
     "output_type": "stream",
     "text": [
      "\n",
      "      Epoch    GPU_mem   box_loss   cls_loss   dfl_loss  Instances       Size\n"
     ]
    },
    {
     "name": "stderr",
     "output_type": "stream",
     "text": [
      "    141/200      1.98G     0.7673     0.4936     0.9383          5        416: 100%|██████████| 11/11 [00:01<00:00,  8.27it/s]\n",
      "                 Class     Images  Instances      Box(P          R      mAP50  mAP50-95): 100%|██████████| 2/2 [00:00<00:00,  7.99it/s]"
     ]
    },
    {
     "name": "stdout",
     "output_type": "stream",
     "text": [
      "                   all         40        150      0.279      0.383      0.337      0.198\n"
     ]
    },
    {
     "name": "stderr",
     "output_type": "stream",
     "text": [
      "\n"
     ]
    },
    {
     "name": "stdout",
     "output_type": "stream",
     "text": [
      "\n",
      "      Epoch    GPU_mem   box_loss   cls_loss   dfl_loss  Instances       Size\n"
     ]
    },
    {
     "name": "stderr",
     "output_type": "stream",
     "text": [
      "    142/200      1.98G     0.7592     0.4934     0.9436          3        416: 100%|██████████| 11/11 [00:01<00:00,  8.18it/s]\n",
      "                 Class     Images  Instances      Box(P          R      mAP50  mAP50-95): 100%|██████████| 2/2 [00:00<00:00,  7.84it/s]"
     ]
    },
    {
     "name": "stdout",
     "output_type": "stream",
     "text": [
      "                   all         40        150      0.563      0.314       0.34        0.2\n"
     ]
    },
    {
     "name": "stderr",
     "output_type": "stream",
     "text": [
      "\n"
     ]
    },
    {
     "name": "stdout",
     "output_type": "stream",
     "text": [
      "\n",
      "      Epoch    GPU_mem   box_loss   cls_loss   dfl_loss  Instances       Size\n"
     ]
    },
    {
     "name": "stderr",
     "output_type": "stream",
     "text": [
      "    143/200      1.96G     0.7543     0.6537     0.9231          1        416: 100%|██████████| 11/11 [00:01<00:00,  8.11it/s]\n",
      "                 Class     Images  Instances      Box(P          R      mAP50  mAP50-95): 100%|██████████| 2/2 [00:00<00:00,  8.13it/s]"
     ]
    },
    {
     "name": "stdout",
     "output_type": "stream",
     "text": [
      "                   all         40        150      0.358      0.471      0.385      0.222\n"
     ]
    },
    {
     "name": "stderr",
     "output_type": "stream",
     "text": [
      "\n"
     ]
    },
    {
     "name": "stdout",
     "output_type": "stream",
     "text": [
      "\n",
      "      Epoch    GPU_mem   box_loss   cls_loss   dfl_loss  Instances       Size\n"
     ]
    },
    {
     "name": "stderr",
     "output_type": "stream",
     "text": [
      "    144/200      1.98G     0.7301      0.443     0.9009         12        416: 100%|██████████| 11/11 [00:01<00:00,  8.23it/s]\n",
      "                 Class     Images  Instances      Box(P          R      mAP50  mAP50-95): 100%|██████████| 2/2 [00:00<00:00,  6.74it/s]"
     ]
    },
    {
     "name": "stdout",
     "output_type": "stream",
     "text": [
      "                   all         40        150      0.372       0.47      0.384      0.216\n"
     ]
    },
    {
     "name": "stderr",
     "output_type": "stream",
     "text": [
      "\n"
     ]
    },
    {
     "name": "stdout",
     "output_type": "stream",
     "text": [
      "\n",
      "      Epoch    GPU_mem   box_loss   cls_loss   dfl_loss  Instances       Size\n"
     ]
    },
    {
     "name": "stderr",
     "output_type": "stream",
     "text": [
      "    145/200      1.97G     0.6688     0.4889     0.8304          0        416: 100%|██████████| 11/11 [00:01<00:00,  8.24it/s]\n",
      "                 Class     Images  Instances      Box(P          R      mAP50  mAP50-95): 100%|██████████| 2/2 [00:00<00:00,  7.31it/s]"
     ]
    },
    {
     "name": "stdout",
     "output_type": "stream",
     "text": [
      "                   all         40        150       0.42      0.452      0.393      0.224\n"
     ]
    },
    {
     "name": "stderr",
     "output_type": "stream",
     "text": [
      "\n"
     ]
    },
    {
     "name": "stdout",
     "output_type": "stream",
     "text": [
      "\n",
      "      Epoch    GPU_mem   box_loss   cls_loss   dfl_loss  Instances       Size\n"
     ]
    },
    {
     "name": "stderr",
     "output_type": "stream",
     "text": [
      "    146/200      1.97G     0.7995     0.4962     0.9151          6        416: 100%|██████████| 11/11 [00:01<00:00,  7.96it/s]\n",
      "                 Class     Images  Instances      Box(P          R      mAP50  mAP50-95): 100%|██████████| 2/2 [00:00<00:00,  6.82it/s]"
     ]
    },
    {
     "name": "stdout",
     "output_type": "stream",
     "text": [
      "                   all         40        150      0.472      0.459      0.414      0.237\n"
     ]
    },
    {
     "name": "stderr",
     "output_type": "stream",
     "text": [
      "\n"
     ]
    },
    {
     "name": "stdout",
     "output_type": "stream",
     "text": [
      "\n",
      "      Epoch    GPU_mem   box_loss   cls_loss   dfl_loss  Instances       Size\n"
     ]
    },
    {
     "name": "stderr",
     "output_type": "stream",
     "text": [
      "    147/200      1.96G     0.6922     0.4277     0.9048          7        416: 100%|██████████| 11/11 [00:01<00:00,  8.15it/s]\n",
      "                 Class     Images  Instances      Box(P          R      mAP50  mAP50-95): 100%|██████████| 2/2 [00:00<00:00,  8.24it/s]"
     ]
    },
    {
     "name": "stdout",
     "output_type": "stream",
     "text": [
      "                   all         40        150      0.364      0.468      0.372      0.215\n"
     ]
    },
    {
     "name": "stderr",
     "output_type": "stream",
     "text": [
      "\n"
     ]
    },
    {
     "name": "stdout",
     "output_type": "stream",
     "text": [
      "\n",
      "      Epoch    GPU_mem   box_loss   cls_loss   dfl_loss  Instances       Size\n"
     ]
    },
    {
     "name": "stderr",
     "output_type": "stream",
     "text": [
      "    148/200      1.98G     0.7559      0.475      0.948          1        416: 100%|██████████| 11/11 [00:01<00:00,  7.98it/s]\n",
      "                 Class     Images  Instances      Box(P          R      mAP50  mAP50-95): 100%|██████████| 2/2 [00:00<00:00,  8.50it/s]"
     ]
    },
    {
     "name": "stdout",
     "output_type": "stream",
     "text": [
      "                   all         40        150      0.397      0.421      0.372      0.217\n"
     ]
    },
    {
     "name": "stderr",
     "output_type": "stream",
     "text": [
      "\n"
     ]
    },
    {
     "name": "stdout",
     "output_type": "stream",
     "text": [
      "\n",
      "      Epoch    GPU_mem   box_loss   cls_loss   dfl_loss  Instances       Size\n"
     ]
    },
    {
     "name": "stderr",
     "output_type": "stream",
     "text": [
      "    149/200      1.98G     0.7181     0.4466     0.9056         13        416: 100%|██████████| 11/11 [00:01<00:00,  8.27it/s]\n",
      "                 Class     Images  Instances      Box(P          R      mAP50  mAP50-95): 100%|██████████| 2/2 [00:00<00:00,  8.97it/s]"
     ]
    },
    {
     "name": "stdout",
     "output_type": "stream",
     "text": [
      "                   all         40        150      0.324       0.45      0.355       0.21\n"
     ]
    },
    {
     "name": "stderr",
     "output_type": "stream",
     "text": [
      "\n"
     ]
    },
    {
     "name": "stdout",
     "output_type": "stream",
     "text": [
      "\n",
      "      Epoch    GPU_mem   box_loss   cls_loss   dfl_loss  Instances       Size\n"
     ]
    },
    {
     "name": "stderr",
     "output_type": "stream",
     "text": [
      "    150/200      1.97G     0.6915     0.4253     0.8922          1        416: 100%|██████████| 11/11 [00:01<00:00,  8.14it/s]\n",
      "                 Class     Images  Instances      Box(P          R      mAP50  mAP50-95): 100%|██████████| 2/2 [00:00<00:00,  7.51it/s]"
     ]
    },
    {
     "name": "stdout",
     "output_type": "stream",
     "text": [
      "                   all         40        150      0.295      0.459       0.33      0.196\n"
     ]
    },
    {
     "name": "stderr",
     "output_type": "stream",
     "text": [
      "\n"
     ]
    },
    {
     "name": "stdout",
     "output_type": "stream",
     "text": [
      "\n",
      "      Epoch    GPU_mem   box_loss   cls_loss   dfl_loss  Instances       Size\n"
     ]
    },
    {
     "name": "stderr",
     "output_type": "stream",
     "text": [
      "    151/200      1.95G     0.7833      1.178     0.9475          1        416: 100%|██████████| 11/11 [00:01<00:00,  7.95it/s]\n",
      "                 Class     Images  Instances      Box(P          R      mAP50  mAP50-95): 100%|██████████| 2/2 [00:00<00:00,  7.96it/s]"
     ]
    },
    {
     "name": "stdout",
     "output_type": "stream",
     "text": [
      "                   all         40        150      0.286      0.423      0.321      0.192\n"
     ]
    },
    {
     "name": "stderr",
     "output_type": "stream",
     "text": [
      "\n"
     ]
    },
    {
     "name": "stdout",
     "output_type": "stream",
     "text": [
      "\n",
      "      Epoch    GPU_mem   box_loss   cls_loss   dfl_loss  Instances       Size\n"
     ]
    },
    {
     "name": "stderr",
     "output_type": "stream",
     "text": [
      "    152/200      1.99G     0.7025     0.5625     0.9258          6        416: 100%|██████████| 11/11 [00:01<00:00,  8.06it/s]\n",
      "                 Class     Images  Instances      Box(P          R      mAP50  mAP50-95): 100%|██████████| 2/2 [00:00<00:00,  8.44it/s]"
     ]
    },
    {
     "name": "stdout",
     "output_type": "stream",
     "text": [
      "                   all         40        150      0.301      0.411      0.308      0.184\n"
     ]
    },
    {
     "name": "stderr",
     "output_type": "stream",
     "text": [
      "\n"
     ]
    },
    {
     "name": "stdout",
     "output_type": "stream",
     "text": [
      "\n",
      "      Epoch    GPU_mem   box_loss   cls_loss   dfl_loss  Instances       Size\n"
     ]
    },
    {
     "name": "stderr",
     "output_type": "stream",
     "text": [
      "    153/200      1.97G     0.7125      0.437      0.893         14        416: 100%|██████████| 11/11 [00:01<00:00,  8.16it/s]\n",
      "                 Class     Images  Instances      Box(P          R      mAP50  mAP50-95): 100%|██████████| 2/2 [00:00<00:00,  7.84it/s]"
     ]
    },
    {
     "name": "stdout",
     "output_type": "stream",
     "text": [
      "                   all         40        150      0.293      0.402      0.313      0.181\n"
     ]
    },
    {
     "name": "stderr",
     "output_type": "stream",
     "text": [
      "\n"
     ]
    },
    {
     "name": "stdout",
     "output_type": "stream",
     "text": [
      "\n",
      "      Epoch    GPU_mem   box_loss   cls_loss   dfl_loss  Instances       Size\n"
     ]
    },
    {
     "name": "stderr",
     "output_type": "stream",
     "text": [
      "    154/200      1.98G     0.7127     0.5107      0.959          1        416: 100%|██████████| 11/11 [00:01<00:00,  8.04it/s]\n",
      "                 Class     Images  Instances      Box(P          R      mAP50  mAP50-95): 100%|██████████| 2/2 [00:00<00:00,  9.23it/s]"
     ]
    },
    {
     "name": "stdout",
     "output_type": "stream",
     "text": [
      "                   all         40        150      0.522      0.307      0.313       0.18\n"
     ]
    },
    {
     "name": "stderr",
     "output_type": "stream",
     "text": [
      "\n"
     ]
    },
    {
     "name": "stdout",
     "output_type": "stream",
     "text": [
      "\n",
      "      Epoch    GPU_mem   box_loss   cls_loss   dfl_loss  Instances       Size\n"
     ]
    },
    {
     "name": "stderr",
     "output_type": "stream",
     "text": [
      "    155/200      1.95G     0.6551     0.5506     0.8261          0        416: 100%|██████████| 11/11 [00:01<00:00,  8.27it/s]\n",
      "                 Class     Images  Instances      Box(P          R      mAP50  mAP50-95): 100%|██████████| 2/2 [00:00<00:00,  9.06it/s]"
     ]
    },
    {
     "name": "stdout",
     "output_type": "stream",
     "text": [
      "                   all         40        150      0.558      0.307      0.328       0.19\n"
     ]
    },
    {
     "name": "stderr",
     "output_type": "stream",
     "text": [
      "\n"
     ]
    },
    {
     "name": "stdout",
     "output_type": "stream",
     "text": [
      "\n",
      "      Epoch    GPU_mem   box_loss   cls_loss   dfl_loss  Instances       Size\n"
     ]
    },
    {
     "name": "stderr",
     "output_type": "stream",
     "text": [
      "    156/200      1.97G     0.6986     0.4443     0.9142          9        416: 100%|██████████| 11/11 [00:01<00:00,  7.95it/s]\n",
      "                 Class     Images  Instances      Box(P          R      mAP50  mAP50-95): 100%|██████████| 2/2 [00:00<00:00,  7.36it/s]"
     ]
    },
    {
     "name": "stdout",
     "output_type": "stream",
     "text": [
      "                   all         40        150      0.596      0.296      0.327      0.187\n"
     ]
    },
    {
     "name": "stderr",
     "output_type": "stream",
     "text": [
      "\n"
     ]
    },
    {
     "name": "stdout",
     "output_type": "stream",
     "text": [
      "\n",
      "      Epoch    GPU_mem   box_loss   cls_loss   dfl_loss  Instances       Size\n"
     ]
    },
    {
     "name": "stderr",
     "output_type": "stream",
     "text": [
      "    157/200      1.97G     0.6894     0.4679     0.8917          5        416: 100%|██████████| 11/11 [00:01<00:00,  8.08it/s]\n",
      "                 Class     Images  Instances      Box(P          R      mAP50  mAP50-95): 100%|██████████| 2/2 [00:00<00:00,  9.17it/s]"
     ]
    },
    {
     "name": "stdout",
     "output_type": "stream",
     "text": [
      "                   all         40        150      0.592      0.304      0.327      0.189\n"
     ]
    },
    {
     "name": "stderr",
     "output_type": "stream",
     "text": [
      "\n"
     ]
    },
    {
     "name": "stdout",
     "output_type": "stream",
     "text": [
      "\n",
      "      Epoch    GPU_mem   box_loss   cls_loss   dfl_loss  Instances       Size\n"
     ]
    },
    {
     "name": "stderr",
     "output_type": "stream",
     "text": [
      "    158/200      1.98G     0.6818     0.4348     0.9015          9        416: 100%|██████████| 11/11 [00:01<00:00,  8.11it/s]\n",
      "                 Class     Images  Instances      Box(P          R      mAP50  mAP50-95): 100%|██████████| 2/2 [00:00<00:00,  7.83it/s]"
     ]
    },
    {
     "name": "stdout",
     "output_type": "stream",
     "text": [
      "                   all         40        150      0.303      0.376      0.328      0.193\n"
     ]
    },
    {
     "name": "stderr",
     "output_type": "stream",
     "text": [
      "\n"
     ]
    },
    {
     "name": "stdout",
     "output_type": "stream",
     "text": [
      "\n",
      "      Epoch    GPU_mem   box_loss   cls_loss   dfl_loss  Instances       Size\n"
     ]
    },
    {
     "name": "stderr",
     "output_type": "stream",
     "text": [
      "    159/200      1.96G     0.7044     0.4427     0.9048          5        416: 100%|██████████| 11/11 [00:01<00:00,  8.13it/s]\n",
      "                 Class     Images  Instances      Box(P          R      mAP50  mAP50-95): 100%|██████████| 2/2 [00:00<00:00,  8.16it/s]"
     ]
    },
    {
     "name": "stdout",
     "output_type": "stream",
     "text": [
      "                   all         40        150      0.579       0.32      0.332      0.198\n"
     ]
    },
    {
     "name": "stderr",
     "output_type": "stream",
     "text": [
      "\n"
     ]
    },
    {
     "name": "stdout",
     "output_type": "stream",
     "text": [
      "\n",
      "      Epoch    GPU_mem   box_loss   cls_loss   dfl_loss  Instances       Size\n"
     ]
    },
    {
     "name": "stderr",
     "output_type": "stream",
     "text": [
      "    160/200      1.98G     0.6644     0.4741     0.9196          4        416: 100%|██████████| 11/11 [00:01<00:00,  7.94it/s]\n",
      "                 Class     Images  Instances      Box(P          R      mAP50  mAP50-95): 100%|██████████| 2/2 [00:00<00:00,  8.15it/s]"
     ]
    },
    {
     "name": "stdout",
     "output_type": "stream",
     "text": [
      "                   all         40        150      0.335      0.362      0.337      0.197\n"
     ]
    },
    {
     "name": "stderr",
     "output_type": "stream",
     "text": [
      "\n"
     ]
    },
    {
     "name": "stdout",
     "output_type": "stream",
     "text": [
      "\n",
      "      Epoch    GPU_mem   box_loss   cls_loss   dfl_loss  Instances       Size\n"
     ]
    },
    {
     "name": "stderr",
     "output_type": "stream",
     "text": [
      "    161/200      1.97G     0.7491     0.5542     0.9528          9        416: 100%|██████████| 11/11 [00:01<00:00,  8.26it/s]\n",
      "                 Class     Images  Instances      Box(P          R      mAP50  mAP50-95): 100%|██████████| 2/2 [00:00<00:00,  8.35it/s]"
     ]
    },
    {
     "name": "stdout",
     "output_type": "stream",
     "text": [
      "                   all         40        150      0.619       0.29      0.334      0.196\n"
     ]
    },
    {
     "name": "stderr",
     "output_type": "stream",
     "text": [
      "\n"
     ]
    },
    {
     "name": "stdout",
     "output_type": "stream",
     "text": [
      "\n",
      "      Epoch    GPU_mem   box_loss   cls_loss   dfl_loss  Instances       Size\n"
     ]
    },
    {
     "name": "stderr",
     "output_type": "stream",
     "text": [
      "    162/200      1.97G     0.6927     0.4563     0.9011          4        416: 100%|██████████| 11/11 [00:01<00:00,  7.86it/s]\n",
      "                 Class     Images  Instances      Box(P          R      mAP50  mAP50-95): 100%|██████████| 2/2 [00:00<00:00,  7.82it/s]"
     ]
    },
    {
     "name": "stdout",
     "output_type": "stream",
     "text": [
      "                   all         40        150      0.386      0.316      0.335      0.196\n"
     ]
    },
    {
     "name": "stderr",
     "output_type": "stream",
     "text": [
      "\n"
     ]
    },
    {
     "name": "stdout",
     "output_type": "stream",
     "text": [
      "\n",
      "      Epoch    GPU_mem   box_loss   cls_loss   dfl_loss  Instances       Size\n"
     ]
    },
    {
     "name": "stderr",
     "output_type": "stream",
     "text": [
      "    163/200      1.95G     0.6691     0.4086     0.8974          5        416: 100%|██████████| 11/11 [00:01<00:00,  8.12it/s]\n",
      "                 Class     Images  Instances      Box(P          R      mAP50  mAP50-95): 100%|██████████| 2/2 [00:00<00:00,  7.75it/s]"
     ]
    },
    {
     "name": "stdout",
     "output_type": "stream",
     "text": [
      "                   all         40        150      0.634      0.277      0.332      0.197\n"
     ]
    },
    {
     "name": "stderr",
     "output_type": "stream",
     "text": [
      "\n"
     ]
    },
    {
     "name": "stdout",
     "output_type": "stream",
     "text": [
      "\n",
      "      Epoch    GPU_mem   box_loss   cls_loss   dfl_loss  Instances       Size\n"
     ]
    },
    {
     "name": "stderr",
     "output_type": "stream",
     "text": [
      "    164/200      1.97G     0.6888     0.4257     0.9095         10        416: 100%|██████████| 11/11 [00:01<00:00,  8.04it/s]\n",
      "                 Class     Images  Instances      Box(P          R      mAP50  mAP50-95): 100%|██████████| 2/2 [00:00<00:00,  8.75it/s]"
     ]
    },
    {
     "name": "stdout",
     "output_type": "stream",
     "text": [
      "                   all         40        150       0.61      0.288      0.332      0.194\n"
     ]
    },
    {
     "name": "stderr",
     "output_type": "stream",
     "text": [
      "\n"
     ]
    },
    {
     "name": "stdout",
     "output_type": "stream",
     "text": [
      "\n",
      "      Epoch    GPU_mem   box_loss   cls_loss   dfl_loss  Instances       Size\n"
     ]
    },
    {
     "name": "stderr",
     "output_type": "stream",
     "text": [
      "    165/200      1.97G     0.7582      0.434     0.9018          6        416: 100%|██████████| 11/11 [00:01<00:00,  8.30it/s]\n",
      "                 Class     Images  Instances      Box(P          R      mAP50  mAP50-95): 100%|██████████| 2/2 [00:00<00:00,  8.35it/s]"
     ]
    },
    {
     "name": "stdout",
     "output_type": "stream",
     "text": [
      "                   all         40        150      0.617        0.3      0.334      0.194\n"
     ]
    },
    {
     "name": "stderr",
     "output_type": "stream",
     "text": [
      "\n"
     ]
    },
    {
     "name": "stdout",
     "output_type": "stream",
     "text": [
      "\n",
      "      Epoch    GPU_mem   box_loss   cls_loss   dfl_loss  Instances       Size\n"
     ]
    },
    {
     "name": "stderr",
     "output_type": "stream",
     "text": [
      "    166/200      1.98G     0.6953     0.4579     0.9041         11        416: 100%|██████████| 11/11 [00:01<00:00,  8.18it/s]\n",
      "                 Class     Images  Instances      Box(P          R      mAP50  mAP50-95): 100%|██████████| 2/2 [00:00<00:00,  7.86it/s]"
     ]
    },
    {
     "name": "stdout",
     "output_type": "stream",
     "text": [
      "                   all         40        150      0.332      0.363      0.332      0.197\n"
     ]
    },
    {
     "name": "stderr",
     "output_type": "stream",
     "text": [
      "\n"
     ]
    },
    {
     "name": "stdout",
     "output_type": "stream",
     "text": [
      "\n",
      "      Epoch    GPU_mem   box_loss   cls_loss   dfl_loss  Instances       Size\n"
     ]
    },
    {
     "name": "stderr",
     "output_type": "stream",
     "text": [
      "    167/200      1.96G       0.68     0.4503     0.9005         13        416: 100%|██████████| 11/11 [00:01<00:00,  8.14it/s]\n",
      "                 Class     Images  Instances      Box(P          R      mAP50  mAP50-95): 100%|██████████| 2/2 [00:00<00:00,  7.77it/s]"
     ]
    },
    {
     "name": "stdout",
     "output_type": "stream",
     "text": [
      "                   all         40        150      0.555      0.354      0.326      0.194\n"
     ]
    },
    {
     "name": "stderr",
     "output_type": "stream",
     "text": [
      "\n"
     ]
    },
    {
     "name": "stdout",
     "output_type": "stream",
     "text": [
      "\n",
      "      Epoch    GPU_mem   box_loss   cls_loss   dfl_loss  Instances       Size\n"
     ]
    },
    {
     "name": "stderr",
     "output_type": "stream",
     "text": [
      "    168/200      1.97G     0.6725      0.426     0.8875         15        416: 100%|██████████| 11/11 [00:01<00:00,  7.86it/s]\n",
      "                 Class     Images  Instances      Box(P          R      mAP50  mAP50-95): 100%|██████████| 2/2 [00:00<00:00,  8.99it/s]"
     ]
    },
    {
     "name": "stdout",
     "output_type": "stream",
     "text": [
      "                   all         40        150      0.548       0.36      0.331      0.194\n"
     ]
    },
    {
     "name": "stderr",
     "output_type": "stream",
     "text": [
      "\n"
     ]
    },
    {
     "name": "stdout",
     "output_type": "stream",
     "text": [
      "\n",
      "      Epoch    GPU_mem   box_loss   cls_loss   dfl_loss  Instances       Size\n"
     ]
    },
    {
     "name": "stderr",
     "output_type": "stream",
     "text": [
      "    169/200      1.98G     0.6918     0.4107      0.918          3        416: 100%|██████████| 11/11 [00:01<00:00,  8.24it/s]\n",
      "                 Class     Images  Instances      Box(P          R      mAP50  mAP50-95): 100%|██████████| 2/2 [00:00<00:00,  8.30it/s]"
     ]
    },
    {
     "name": "stdout",
     "output_type": "stream",
     "text": [
      "                   all         40        150      0.548      0.359      0.331      0.196\n"
     ]
    },
    {
     "name": "stderr",
     "output_type": "stream",
     "text": [
      "\n"
     ]
    },
    {
     "name": "stdout",
     "output_type": "stream",
     "text": [
      "\n",
      "      Epoch    GPU_mem   box_loss   cls_loss   dfl_loss  Instances       Size\n"
     ]
    },
    {
     "name": "stderr",
     "output_type": "stream",
     "text": [
      "    170/200      1.98G     0.6175     0.5388     0.8263          0        416: 100%|██████████| 11/11 [00:01<00:00,  8.18it/s]\n",
      "                 Class     Images  Instances      Box(P          R      mAP50  mAP50-95): 100%|██████████| 2/2 [00:00<00:00,  8.11it/s]"
     ]
    },
    {
     "name": "stdout",
     "output_type": "stream",
     "text": [
      "                   all         40        150      0.596      0.327      0.325      0.189\n"
     ]
    },
    {
     "name": "stderr",
     "output_type": "stream",
     "text": [
      "\n"
     ]
    },
    {
     "name": "stdout",
     "output_type": "stream",
     "text": [
      "\n",
      "      Epoch    GPU_mem   box_loss   cls_loss   dfl_loss  Instances       Size\n"
     ]
    },
    {
     "name": "stderr",
     "output_type": "stream",
     "text": [
      "    171/200      1.96G      0.669     0.4978     0.8984         10        416: 100%|██████████| 11/11 [00:01<00:00,  8.07it/s]\n",
      "                 Class     Images  Instances      Box(P          R      mAP50  mAP50-95): 100%|██████████| 2/2 [00:00<00:00,  8.22it/s]"
     ]
    },
    {
     "name": "stdout",
     "output_type": "stream",
     "text": [
      "                   all         40        150      0.569      0.339      0.327      0.191\n"
     ]
    },
    {
     "name": "stderr",
     "output_type": "stream",
     "text": [
      "\n"
     ]
    },
    {
     "name": "stdout",
     "output_type": "stream",
     "text": [
      "\n",
      "      Epoch    GPU_mem   box_loss   cls_loss   dfl_loss  Instances       Size\n"
     ]
    },
    {
     "name": "stderr",
     "output_type": "stream",
     "text": [
      "    172/200      1.98G     0.6286     0.4418     0.9036          5        416: 100%|██████████| 11/11 [00:01<00:00,  7.98it/s]\n",
      "                 Class     Images  Instances      Box(P          R      mAP50  mAP50-95): 100%|██████████| 2/2 [00:00<00:00,  8.31it/s]"
     ]
    },
    {
     "name": "stdout",
     "output_type": "stream",
     "text": [
      "                   all         40        150      0.371      0.339      0.334      0.196\n"
     ]
    },
    {
     "name": "stderr",
     "output_type": "stream",
     "text": [
      "\n"
     ]
    },
    {
     "name": "stdout",
     "output_type": "stream",
     "text": [
      "\n",
      "      Epoch    GPU_mem   box_loss   cls_loss   dfl_loss  Instances       Size\n"
     ]
    },
    {
     "name": "stderr",
     "output_type": "stream",
     "text": [
      "    173/200      1.98G     0.6387     0.4087     0.8889          3        416: 100%|██████████| 11/11 [00:01<00:00,  8.01it/s]\n",
      "                 Class     Images  Instances      Box(P          R      mAP50  mAP50-95): 100%|██████████| 2/2 [00:00<00:00,  7.49it/s]"
     ]
    },
    {
     "name": "stdout",
     "output_type": "stream",
     "text": [
      "                   all         40        150      0.589       0.31      0.328      0.191\n"
     ]
    },
    {
     "name": "stderr",
     "output_type": "stream",
     "text": [
      "\n"
     ]
    },
    {
     "name": "stdout",
     "output_type": "stream",
     "text": [
      "\n",
      "      Epoch    GPU_mem   box_loss   cls_loss   dfl_loss  Instances       Size\n"
     ]
    },
    {
     "name": "stderr",
     "output_type": "stream",
     "text": [
      "    174/200      1.97G     0.6321     0.4181     0.8787          2        416: 100%|██████████| 11/11 [00:01<00:00,  8.17it/s]\n",
      "                 Class     Images  Instances      Box(P          R      mAP50  mAP50-95): 100%|██████████| 2/2 [00:00<00:00,  7.86it/s]"
     ]
    },
    {
     "name": "stdout",
     "output_type": "stream",
     "text": [
      "                   all         40        150      0.587      0.311      0.321      0.192\n"
     ]
    },
    {
     "name": "stderr",
     "output_type": "stream",
     "text": [
      "\n"
     ]
    },
    {
     "name": "stdout",
     "output_type": "stream",
     "text": [
      "\n",
      "      Epoch    GPU_mem   box_loss   cls_loss   dfl_loss  Instances       Size\n"
     ]
    },
    {
     "name": "stderr",
     "output_type": "stream",
     "text": [
      "    175/200      1.96G     0.6671     0.4499       0.91          7        416: 100%|██████████| 11/11 [00:01<00:00,  8.15it/s]\n",
      "                 Class     Images  Instances      Box(P          R      mAP50  mAP50-95): 100%|██████████| 2/2 [00:00<00:00,  8.41it/s]"
     ]
    },
    {
     "name": "stdout",
     "output_type": "stream",
     "text": [
      "                   all         40        150        0.6      0.302      0.323      0.192\n"
     ]
    },
    {
     "name": "stderr",
     "output_type": "stream",
     "text": [
      "\n"
     ]
    },
    {
     "name": "stdout",
     "output_type": "stream",
     "text": [
      "\n",
      "      Epoch    GPU_mem   box_loss   cls_loss   dfl_loss  Instances       Size\n"
     ]
    },
    {
     "name": "stderr",
     "output_type": "stream",
     "text": [
      "    176/200      1.97G     0.6362      0.449     0.8776          5        416: 100%|██████████| 11/11 [00:01<00:00,  8.20it/s]\n",
      "                 Class     Images  Instances      Box(P          R      mAP50  mAP50-95): 100%|██████████| 2/2 [00:00<00:00,  8.48it/s]"
     ]
    },
    {
     "name": "stdout",
     "output_type": "stream",
     "text": [
      "                   all         40        150      0.383      0.312      0.325      0.192\n"
     ]
    },
    {
     "name": "stderr",
     "output_type": "stream",
     "text": [
      "\n"
     ]
    },
    {
     "name": "stdout",
     "output_type": "stream",
     "text": [
      "\n",
      "      Epoch    GPU_mem   box_loss   cls_loss   dfl_loss  Instances       Size\n"
     ]
    },
    {
     "name": "stderr",
     "output_type": "stream",
     "text": [
      "    177/200      1.97G     0.6373     0.4019     0.9022          3        416: 100%|██████████| 11/11 [00:01<00:00,  8.20it/s]\n",
      "                 Class     Images  Instances      Box(P          R      mAP50  mAP50-95): 100%|██████████| 2/2 [00:00<00:00,  8.57it/s]"
     ]
    },
    {
     "name": "stdout",
     "output_type": "stream",
     "text": [
      "                   all         40        150      0.367       0.32      0.326      0.194\n"
     ]
    },
    {
     "name": "stderr",
     "output_type": "stream",
     "text": [
      "\n"
     ]
    },
    {
     "name": "stdout",
     "output_type": "stream",
     "text": [
      "\n",
      "      Epoch    GPU_mem   box_loss   cls_loss   dfl_loss  Instances       Size\n"
     ]
    },
    {
     "name": "stderr",
     "output_type": "stream",
     "text": [
      "    178/200      1.97G      0.646     0.3966     0.8859          7        416: 100%|██████████| 11/11 [00:01<00:00,  8.11it/s]\n",
      "                 Class     Images  Instances      Box(P          R      mAP50  mAP50-95): 100%|██████████| 2/2 [00:00<00:00,  8.38it/s]"
     ]
    },
    {
     "name": "stdout",
     "output_type": "stream",
     "text": [
      "                   all         40        150      0.813      0.288      0.327      0.194\n"
     ]
    },
    {
     "name": "stderr",
     "output_type": "stream",
     "text": [
      "\n"
     ]
    },
    {
     "name": "stdout",
     "output_type": "stream",
     "text": [
      "\n",
      "      Epoch    GPU_mem   box_loss   cls_loss   dfl_loss  Instances       Size\n"
     ]
    },
    {
     "name": "stderr",
     "output_type": "stream",
     "text": [
      "    179/200      1.96G     0.6565     0.4138      0.906          4        416: 100%|██████████| 11/11 [00:01<00:00,  7.86it/s]\n",
      "                 Class     Images  Instances      Box(P          R      mAP50  mAP50-95): 100%|██████████| 2/2 [00:00<00:00,  8.04it/s]"
     ]
    },
    {
     "name": "stdout",
     "output_type": "stream",
     "text": [
      "                   all         40        150      0.804      0.306      0.324       0.19\n"
     ]
    },
    {
     "name": "stderr",
     "output_type": "stream",
     "text": [
      "\n"
     ]
    },
    {
     "name": "stdout",
     "output_type": "stream",
     "text": [
      "\n",
      "      Epoch    GPU_mem   box_loss   cls_loss   dfl_loss  Instances       Size\n"
     ]
    },
    {
     "name": "stderr",
     "output_type": "stream",
     "text": [
      "    180/200      1.98G     0.6648      0.401     0.9432          2        416: 100%|██████████| 11/11 [00:01<00:00,  7.94it/s]\n",
      "                 Class     Images  Instances      Box(P          R      mAP50  mAP50-95): 100%|██████████| 2/2 [00:00<00:00,  8.31it/s]"
     ]
    },
    {
     "name": "stdout",
     "output_type": "stream",
     "text": [
      "                   all         40        150      0.824      0.288      0.324       0.19\n"
     ]
    },
    {
     "name": "stderr",
     "output_type": "stream",
     "text": [
      "\n"
     ]
    },
    {
     "name": "stdout",
     "output_type": "stream",
     "text": [
      "\n",
      "      Epoch    GPU_mem   box_loss   cls_loss   dfl_loss  Instances       Size\n"
     ]
    },
    {
     "name": "stderr",
     "output_type": "stream",
     "text": [
      "    181/200      1.97G       0.69     0.3927     0.9429          1        416: 100%|██████████| 11/11 [00:01<00:00,  8.11it/s]\n",
      "                 Class     Images  Instances      Box(P          R      mAP50  mAP50-95): 100%|██████████| 2/2 [00:00<00:00,  8.07it/s]"
     ]
    },
    {
     "name": "stdout",
     "output_type": "stream",
     "text": [
      "                   all         40        150      0.624      0.288      0.325      0.193\n"
     ]
    },
    {
     "name": "stderr",
     "output_type": "stream",
     "text": [
      "\n"
     ]
    },
    {
     "name": "stdout",
     "output_type": "stream",
     "text": [
      "\n",
      "      Epoch    GPU_mem   box_loss   cls_loss   dfl_loss  Instances       Size\n"
     ]
    },
    {
     "name": "stderr",
     "output_type": "stream",
     "text": [
      "    182/200      1.97G     0.6691     0.4169     0.9253          3        416: 100%|██████████| 11/11 [00:01<00:00,  8.18it/s]\n",
      "                 Class     Images  Instances      Box(P          R      mAP50  mAP50-95): 100%|██████████| 2/2 [00:00<00:00,  7.86it/s]"
     ]
    },
    {
     "name": "stdout",
     "output_type": "stream",
     "text": [
      "                   all         40        150      0.621      0.289      0.323       0.19\n"
     ]
    },
    {
     "name": "stderr",
     "output_type": "stream",
     "text": [
      "\n"
     ]
    },
    {
     "name": "stdout",
     "output_type": "stream",
     "text": [
      "\n",
      "      Epoch    GPU_mem   box_loss   cls_loss   dfl_loss  Instances       Size\n"
     ]
    },
    {
     "name": "stderr",
     "output_type": "stream",
     "text": [
      "    183/200      1.96G     0.6933     0.6572     0.9419          9        416: 100%|██████████| 11/11 [00:01<00:00,  8.16it/s]\n",
      "                 Class     Images  Instances      Box(P          R      mAP50  mAP50-95): 100%|██████████| 2/2 [00:00<00:00,  7.31it/s]"
     ]
    },
    {
     "name": "stdout",
     "output_type": "stream",
     "text": [
      "                   all         40        150      0.397      0.293      0.317      0.188\n"
     ]
    },
    {
     "name": "stderr",
     "output_type": "stream",
     "text": [
      "\n"
     ]
    },
    {
     "name": "stdout",
     "output_type": "stream",
     "text": [
      "\n",
      "      Epoch    GPU_mem   box_loss   cls_loss   dfl_loss  Instances       Size\n"
     ]
    },
    {
     "name": "stderr",
     "output_type": "stream",
     "text": [
      "    184/200      1.97G     0.6302      0.457      0.876         11        416: 100%|██████████| 11/11 [00:01<00:00,  7.86it/s]\n",
      "                 Class     Images  Instances      Box(P          R      mAP50  mAP50-95): 100%|██████████| 2/2 [00:00<00:00,  7.57it/s]"
     ]
    },
    {
     "name": "stdout",
     "output_type": "stream",
     "text": [
      "                   all         40        150       0.42      0.283      0.321      0.189\n"
     ]
    },
    {
     "name": "stderr",
     "output_type": "stream",
     "text": [
      "\n"
     ]
    },
    {
     "name": "stdout",
     "output_type": "stream",
     "text": [
      "\n",
      "      Epoch    GPU_mem   box_loss   cls_loss   dfl_loss  Instances       Size\n"
     ]
    },
    {
     "name": "stderr",
     "output_type": "stream",
     "text": [
      "    185/200      1.97G     0.6584     0.4596     0.9094          3        416: 100%|██████████| 11/11 [00:01<00:00,  8.20it/s]\n",
      "                 Class     Images  Instances      Box(P          R      mAP50  mAP50-95): 100%|██████████| 2/2 [00:00<00:00,  7.79it/s]"
     ]
    },
    {
     "name": "stdout",
     "output_type": "stream",
     "text": [
      "                   all         40        150      0.311       0.35      0.322       0.19\n"
     ]
    },
    {
     "name": "stderr",
     "output_type": "stream",
     "text": [
      "\n"
     ]
    },
    {
     "name": "stdout",
     "output_type": "stream",
     "text": [
      "\n",
      "      Epoch    GPU_mem   box_loss   cls_loss   dfl_loss  Instances       Size\n"
     ]
    },
    {
     "name": "stderr",
     "output_type": "stream",
     "text": [
      "    186/200      1.98G     0.6126      0.371     0.8913          4        416: 100%|██████████| 11/11 [00:01<00:00,  8.09it/s]\n",
      "                 Class     Images  Instances      Box(P          R      mAP50  mAP50-95): 100%|██████████| 2/2 [00:00<00:00,  8.04it/s]"
     ]
    },
    {
     "name": "stdout",
     "output_type": "stream",
     "text": [
      "                   all         40        150      0.399      0.283      0.318      0.188\n"
     ]
    },
    {
     "name": "stderr",
     "output_type": "stream",
     "text": [
      "\n"
     ]
    },
    {
     "name": "stdout",
     "output_type": "stream",
     "text": [
      "\n",
      "      Epoch    GPU_mem   box_loss   cls_loss   dfl_loss  Instances       Size\n"
     ]
    },
    {
     "name": "stderr",
     "output_type": "stream",
     "text": [
      "    187/200      1.96G     0.5962     0.4039     0.8891         16        416: 100%|██████████| 11/11 [00:01<00:00,  8.11it/s]\n",
      "                 Class     Images  Instances      Box(P          R      mAP50  mAP50-95): 100%|██████████| 2/2 [00:00<00:00,  8.56it/s]"
     ]
    },
    {
     "name": "stdout",
     "output_type": "stream",
     "text": [
      "                   all         40        150      0.377      0.284      0.316      0.184\n"
     ]
    },
    {
     "name": "stderr",
     "output_type": "stream",
     "text": [
      "\n"
     ]
    },
    {
     "name": "stdout",
     "output_type": "stream",
     "text": [
      "\n",
      "      Epoch    GPU_mem   box_loss   cls_loss   dfl_loss  Instances       Size\n"
     ]
    },
    {
     "name": "stderr",
     "output_type": "stream",
     "text": [
      "    188/200      1.97G      0.653      0.404     0.9057          4        416: 100%|██████████| 11/11 [00:01<00:00,  8.12it/s]\n",
      "                 Class     Images  Instances      Box(P          R      mAP50  mAP50-95): 100%|██████████| 2/2 [00:00<00:00,  7.53it/s]"
     ]
    },
    {
     "name": "stdout",
     "output_type": "stream",
     "text": [
      "                   all         40        150      0.368      0.292      0.319      0.188\n"
     ]
    },
    {
     "name": "stderr",
     "output_type": "stream",
     "text": [
      "\n"
     ]
    },
    {
     "name": "stdout",
     "output_type": "stream",
     "text": [
      "\n",
      "      Epoch    GPU_mem   box_loss   cls_loss   dfl_loss  Instances       Size\n"
     ]
    },
    {
     "name": "stderr",
     "output_type": "stream",
     "text": [
      "    189/200      1.98G     0.5601     0.3582     0.8536          1        416: 100%|██████████| 11/11 [00:01<00:00,  8.33it/s]\n",
      "                 Class     Images  Instances      Box(P          R      mAP50  mAP50-95): 100%|██████████| 2/2 [00:00<00:00,  6.74it/s]"
     ]
    },
    {
     "name": "stdout",
     "output_type": "stream",
     "text": [
      "                   all         40        150      0.384      0.284      0.316      0.185\n"
     ]
    },
    {
     "name": "stderr",
     "output_type": "stream",
     "text": [
      "\n"
     ]
    },
    {
     "name": "stdout",
     "output_type": "stream",
     "text": [
      "\n",
      "      Epoch    GPU_mem   box_loss   cls_loss   dfl_loss  Instances       Size\n"
     ]
    },
    {
     "name": "stderr",
     "output_type": "stream",
     "text": [
      "    190/200      1.97G     0.5865     0.4752     0.9056          2        416: 100%|██████████| 11/11 [00:01<00:00,  8.09it/s]\n",
      "                 Class     Images  Instances      Box(P          R      mAP50  mAP50-95): 100%|██████████| 2/2 [00:00<00:00,  7.09it/s]"
     ]
    },
    {
     "name": "stdout",
     "output_type": "stream",
     "text": [
      "                   all         40        150      0.395       0.28      0.319      0.187\n"
     ]
    },
    {
     "name": "stderr",
     "output_type": "stream",
     "text": [
      "\n"
     ]
    },
    {
     "name": "stdout",
     "output_type": "stream",
     "text": [
      "Closing dataloader mosaic\n",
      "\u001b[34m\u001b[1malbumentations: \u001b[0mBlur(p=0.01, blur_limit=(3, 7)), MedianBlur(p=0.01, blur_limit=(3, 7)), ToGray(p=0.01), CLAHE(p=0.01, clip_limit=(1, 4.0), tile_grid_size=(8, 8))\n",
      "\n",
      "      Epoch    GPU_mem   box_loss   cls_loss   dfl_loss  Instances       Size\n"
     ]
    },
    {
     "name": "stderr",
     "output_type": "stream",
     "text": [
      "    191/200      1.96G     0.5984     0.3562     0.8625          9        416: 100%|██████████| 11/11 [00:03<00:00,  3.19it/s]\n",
      "                 Class     Images  Instances      Box(P          R      mAP50  mAP50-95): 100%|██████████| 2/2 [00:00<00:00,  7.80it/s]"
     ]
    },
    {
     "name": "stdout",
     "output_type": "stream",
     "text": [
      "                   all         40        150      0.377      0.292      0.311      0.185\n"
     ]
    },
    {
     "name": "stderr",
     "output_type": "stream",
     "text": [
      "\n"
     ]
    },
    {
     "name": "stdout",
     "output_type": "stream",
     "text": [
      "\n",
      "      Epoch    GPU_mem   box_loss   cls_loss   dfl_loss  Instances       Size\n"
     ]
    },
    {
     "name": "stderr",
     "output_type": "stream",
     "text": [
      "    192/200      1.98G     0.6592     0.4073     0.8471          7        416: 100%|██████████| 11/11 [00:01<00:00,  7.77it/s]\n",
      "                 Class     Images  Instances      Box(P          R      mAP50  mAP50-95): 100%|██████████| 2/2 [00:00<00:00,  8.63it/s]"
     ]
    },
    {
     "name": "stdout",
     "output_type": "stream",
     "text": [
      "                   all         40        150      0.414      0.287      0.314      0.182\n"
     ]
    },
    {
     "name": "stderr",
     "output_type": "stream",
     "text": [
      "\n"
     ]
    },
    {
     "name": "stdout",
     "output_type": "stream",
     "text": [
      "\n",
      "      Epoch    GPU_mem   box_loss   cls_loss   dfl_loss  Instances       Size\n"
     ]
    },
    {
     "name": "stderr",
     "output_type": "stream",
     "text": [
      "    193/200      1.97G     0.5515     0.4296     0.8465          7        416: 100%|██████████| 11/11 [00:01<00:00,  8.12it/s]\n",
      "                 Class     Images  Instances      Box(P          R      mAP50  mAP50-95): 100%|██████████| 2/2 [00:00<00:00,  7.30it/s]"
     ]
    },
    {
     "name": "stdout",
     "output_type": "stream",
     "text": [
      "                   all         40        150      0.413      0.287      0.313      0.179\n"
     ]
    },
    {
     "name": "stderr",
     "output_type": "stream",
     "text": [
      "\n"
     ]
    },
    {
     "name": "stdout",
     "output_type": "stream",
     "text": [
      "\n",
      "      Epoch    GPU_mem   box_loss   cls_loss   dfl_loss  Instances       Size\n"
     ]
    },
    {
     "name": "stderr",
     "output_type": "stream",
     "text": [
      "    194/200      1.97G      0.583     0.4126     0.8674          6        416: 100%|██████████| 11/11 [00:01<00:00,  7.71it/s]\n",
      "                 Class     Images  Instances      Box(P          R      mAP50  mAP50-95): 100%|██████████| 2/2 [00:00<00:00,  7.54it/s]"
     ]
    },
    {
     "name": "stdout",
     "output_type": "stream",
     "text": [
      "                   all         40        150      0.402      0.285      0.312      0.181\n"
     ]
    },
    {
     "name": "stderr",
     "output_type": "stream",
     "text": [
      "\n"
     ]
    },
    {
     "name": "stdout",
     "output_type": "stream",
     "text": [
      "\n",
      "      Epoch    GPU_mem   box_loss   cls_loss   dfl_loss  Instances       Size\n"
     ]
    },
    {
     "name": "stderr",
     "output_type": "stream",
     "text": [
      "    195/200      1.95G     0.5137      0.315      0.833          1        416: 100%|██████████| 11/11 [00:01<00:00,  7.96it/s]\n",
      "                 Class     Images  Instances      Box(P          R      mAP50  mAP50-95): 100%|██████████| 2/2 [00:00<00:00,  8.32it/s]"
     ]
    },
    {
     "name": "stdout",
     "output_type": "stream",
     "text": [
      "                   all         40        150      0.401      0.283      0.307       0.18\n"
     ]
    },
    {
     "name": "stderr",
     "output_type": "stream",
     "text": [
      "\n"
     ]
    },
    {
     "name": "stdout",
     "output_type": "stream",
     "text": [
      "\n",
      "      Epoch    GPU_mem   box_loss   cls_loss   dfl_loss  Instances       Size\n"
     ]
    },
    {
     "name": "stderr",
     "output_type": "stream",
     "text": [
      "    196/200      1.98G     0.5258     0.3038     0.8316          2        416: 100%|██████████| 11/11 [00:01<00:00,  7.91it/s]\n",
      "                 Class     Images  Instances      Box(P          R      mAP50  mAP50-95): 100%|██████████| 2/2 [00:00<00:00,  7.89it/s]"
     ]
    },
    {
     "name": "stdout",
     "output_type": "stream",
     "text": [
      "                   all         40        150      0.396      0.288      0.308      0.181\n"
     ]
    },
    {
     "name": "stderr",
     "output_type": "stream",
     "text": [
      "\n"
     ]
    },
    {
     "name": "stdout",
     "output_type": "stream",
     "text": [
      "\n",
      "      Epoch    GPU_mem   box_loss   cls_loss   dfl_loss  Instances       Size\n"
     ]
    },
    {
     "name": "stderr",
     "output_type": "stream",
     "text": [
      "    197/200      1.97G     0.5609     0.4888     0.8749          3        416: 100%|██████████| 11/11 [00:01<00:00,  8.22it/s]\n",
      "                 Class     Images  Instances      Box(P          R      mAP50  mAP50-95): 100%|██████████| 2/2 [00:00<00:00,  8.40it/s]"
     ]
    },
    {
     "name": "stdout",
     "output_type": "stream",
     "text": [
      "                   all         40        150      0.394       0.29      0.306       0.18\n"
     ]
    },
    {
     "name": "stderr",
     "output_type": "stream",
     "text": [
      "\n"
     ]
    },
    {
     "name": "stdout",
     "output_type": "stream",
     "text": [
      "\n",
      "      Epoch    GPU_mem   box_loss   cls_loss   dfl_loss  Instances       Size\n"
     ]
    },
    {
     "name": "stderr",
     "output_type": "stream",
     "text": [
      "    198/200      1.97G     0.5512     0.3434     0.8531          8        416: 100%|██████████| 11/11 [00:01<00:00,  8.01it/s]\n",
      "                 Class     Images  Instances      Box(P          R      mAP50  mAP50-95): 100%|██████████| 2/2 [00:00<00:00,  8.26it/s]"
     ]
    },
    {
     "name": "stdout",
     "output_type": "stream",
     "text": [
      "                   all         40        150      0.399       0.29      0.306      0.178\n"
     ]
    },
    {
     "name": "stderr",
     "output_type": "stream",
     "text": [
      "\n"
     ]
    },
    {
     "name": "stdout",
     "output_type": "stream",
     "text": [
      "\n",
      "      Epoch    GPU_mem   box_loss   cls_loss   dfl_loss  Instances       Size\n"
     ]
    },
    {
     "name": "stderr",
     "output_type": "stream",
     "text": [
      "    199/200      1.96G     0.5468      0.307     0.8386          1        416: 100%|██████████| 11/11 [00:01<00:00,  8.09it/s]\n",
      "                 Class     Images  Instances      Box(P          R      mAP50  mAP50-95): 100%|██████████| 2/2 [00:00<00:00,  7.79it/s]"
     ]
    },
    {
     "name": "stdout",
     "output_type": "stream",
     "text": [
      "                   all         40        150      0.403      0.287      0.307       0.18\n"
     ]
    },
    {
     "name": "stderr",
     "output_type": "stream",
     "text": [
      "\n"
     ]
    },
    {
     "name": "stdout",
     "output_type": "stream",
     "text": [
      "\n",
      "      Epoch    GPU_mem   box_loss   cls_loss   dfl_loss  Instances       Size\n"
     ]
    },
    {
     "name": "stderr",
     "output_type": "stream",
     "text": [
      "    200/200      1.97G     0.5138     0.3069     0.8366          1        416: 100%|██████████| 11/11 [00:01<00:00,  8.02it/s]\n",
      "                 Class     Images  Instances      Box(P          R      mAP50  mAP50-95): 100%|██████████| 2/2 [00:00<00:00,  8.05it/s]"
     ]
    },
    {
     "name": "stdout",
     "output_type": "stream",
     "text": [
      "                   all         40        150      0.393       0.29      0.308       0.18\n"
     ]
    },
    {
     "name": "stderr",
     "output_type": "stream",
     "text": [
      "\n"
     ]
    },
    {
     "name": "stdout",
     "output_type": "stream",
     "text": [
      "\n",
      "200 epochs completed in 0.132 hours.\n",
      "Optimizer stripped from runs/detect/train2/weights/last.pt, 22.5MB\n",
      "Optimizer stripped from runs/detect/train2/weights/best.pt, 22.5MB\n",
      "\n",
      "Validating runs/detect/train2/weights/best.pt...\n",
      "Ultralytics YOLOv8.1.29 🚀 Python-3.10.12 torch-2.2.1+cu121 CUDA:0 (Tesla T4, 15102MiB)\n",
      "Model summary (fused): 168 layers, 11128293 parameters, 0 gradients, 28.5 GFLOPs\n"
     ]
    },
    {
     "name": "stderr",
     "output_type": "stream",
     "text": [
      "                 Class     Images  Instances      Box(P          R      mAP50  mAP50-95): 100%|██████████| 2/2 [00:00<00:00,  7.83it/s]\n"
     ]
    },
    {
     "name": "stdout",
     "output_type": "stream",
     "text": [
      "                   all         40        150      0.477      0.457      0.413      0.236\n",
      "               Car- 45         40          1          0          0          0          0\n",
      "               Car- 60         40         90      0.561      0.722      0.617      0.334\n",
      "           Car- 90-120         40         42      0.578      0.587      0.498       0.27\n",
      "              truck-40         40         14      0.498      0.643      0.609      0.405\n",
      "              truck-60         40          3       0.75      0.333      0.343      0.171\n",
      "Speed: 0.5ms preprocess, 1.8ms inference, 0.0ms loss, 0.8ms postprocess per image\n",
      "Results saved to \u001b[1mruns/detect/train2\u001b[0m\n"
     ]
    }
   ],
   "source": [
    "from ultralytics import YOLO\n",
    "model = YOLO(\"yolov8s.pt\")\n",
    "\n",
    "results = model.train(data=\"/content/drive/MyDrive/20_selected_projects/8_videoestimation/yolov8/data.yaml\", epochs=200, imgsz=416)"
   ]
  },
  {
   "cell_type": "code",
   "execution_count": 8,
   "metadata": {},
   "outputs": [],
   "source": [
    "p_yol5s = 0.477\n",
    "r_yol5s = 0.457\n",
    "mAP_yolo5s = 0.413\n",
    "\n",
    "storeResults('YoloV8s',p_yol5s,r_yol5s,mAP_yolo5s)"
   ]
  },
  {
   "cell_type": "code",
   "execution_count": 7,
   "metadata": {
    "executionInfo": {
     "elapsed": 377,
     "status": "ok",
     "timestamp": 1710872410981,
     "user": {
      "displayName": "TruProjects yolo",
      "userId": "18414174829652366032"
     },
     "user_tz": -330
    },
    "id": "VbDRXiOA8Stl"
   },
   "outputs": [],
   "source": [
    "import locale\n",
    "locale.getpreferredencoding = lambda: \"UTF-8\""
   ]
  },
  {
   "cell_type": "code",
   "execution_count": 8,
   "metadata": {
    "colab": {
     "base_uri": "https://localhost:8080/"
    },
    "executionInfo": {
     "elapsed": 4467,
     "status": "ok",
     "timestamp": 1710872420955,
     "user": {
      "displayName": "TruProjects yolo",
      "userId": "18414174829652366032"
     },
     "user_tz": -330
    },
    "id": "O9rb1eHJ6FOP",
    "outputId": "c7b78b91-bd19-4cb3-846a-8c38defae91e"
   },
   "outputs": [
    {
     "name": "stdout",
     "output_type": "stream",
     "text": [
      "  adding: content/runs/ (stored 0%)\n",
      "  adding: content/runs/detect/ (stored 0%)\n",
      "  adding: content/runs/detect/train2/ (stored 0%)\n",
      "  adding: content/runs/detect/train2/train_batch0.jpg (deflated 2%)\n",
      "  adding: content/runs/detect/train2/P_curve.png (deflated 8%)\n",
      "  adding: content/runs/detect/train2/F1_curve.png (deflated 11%)\n",
      "  adding: content/runs/detect/train2/labels.jpg (deflated 32%)\n",
      "  adding: content/runs/detect/train2/train_batch2091.jpg (deflated 5%)\n",
      "  adding: content/runs/detect/train2/val_batch1_labels.jpg (deflated 10%)\n",
      "  adding: content/runs/detect/train2/val_batch0_labels.jpg (deflated 8%)\n",
      "  adding: content/runs/detect/train2/val_batch0_pred.jpg (deflated 8%)\n",
      "  adding: content/runs/detect/train2/val_batch1_pred.jpg (deflated 10%)\n",
      "  adding: content/runs/detect/train2/results.png (deflated 5%)\n",
      "  adding: content/runs/detect/train2/train_batch1.jpg (deflated 2%)\n",
      "  adding: content/runs/detect/train2/labels_correlogram.jpg (deflated 42%)\n",
      "  adding: content/runs/detect/train2/train_batch2.jpg (deflated 1%)\n",
      "  adding: content/runs/detect/train2/train_batch2092.jpg (deflated 6%)\n",
      "  adding: content/runs/detect/train2/confusion_matrix_normalized.png (deflated 22%)\n",
      "  adding: content/runs/detect/train2/confusion_matrix.png (deflated 26%)\n",
      "  adding: content/runs/detect/train2/PR_curve.png (deflated 13%)\n",
      "  adding: content/runs/detect/train2/events.out.tfevents.1710871814.dc6984662549.2291.1 (deflated 84%)\n",
      "  adding: content/runs/detect/train2/results.csv (deflated 85%)\n",
      "  adding: content/runs/detect/train2/R_curve.png (deflated 12%)\n",
      "  adding: content/runs/detect/train2/args.yaml (deflated 52%)\n",
      "  adding: content/runs/detect/train2/weights/ (stored 0%)\n",
      "  adding: content/runs/detect/train2/weights/best.pt (deflated 8%)\n",
      "  adding: content/runs/detect/train2/weights/last.pt (deflated 8%)\n",
      "  adding: content/runs/detect/train2/train_batch2090.jpg (deflated 6%)\n",
      "  adding: content/runs/detect/train/ (stored 0%)\n",
      "  adding: content/runs/detect/train/train_batch0.jpg (deflated 2%)\n",
      "  adding: content/runs/detect/train/P_curve.png (deflated 8%)\n",
      "  adding: content/runs/detect/train/F1_curve.png (deflated 12%)\n",
      "  adding: content/runs/detect/train/labels.jpg (deflated 32%)\n",
      "  adding: content/runs/detect/train/train_batch2091.jpg (deflated 5%)\n",
      "  adding: content/runs/detect/train/val_batch1_labels.jpg (deflated 10%)\n",
      "  adding: content/runs/detect/train/val_batch0_labels.jpg (deflated 8%)\n",
      "  adding: content/runs/detect/train/val_batch0_pred.jpg (deflated 8%)\n",
      "  adding: content/runs/detect/train/val_batch1_pred.jpg (deflated 10%)\n",
      "  adding: content/runs/detect/train/events.out.tfevents.1710871428.dc6984662549.2291.0 (deflated 84%)\n",
      "  adding: content/runs/detect/train/results.png (deflated 5%)\n",
      "  adding: content/runs/detect/train/train_batch1.jpg (deflated 2%)\n",
      "  adding: content/runs/detect/train/labels_correlogram.jpg (deflated 42%)\n",
      "  adding: content/runs/detect/train/train_batch2.jpg (deflated 1%)\n",
      "  adding: content/runs/detect/train/train_batch2092.jpg (deflated 6%)\n",
      "  adding: content/runs/detect/train/confusion_matrix_normalized.png (deflated 23%)\n",
      "  adding: content/runs/detect/train/confusion_matrix.png (deflated 27%)\n",
      "  adding: content/runs/detect/train/PR_curve.png (deflated 13%)\n",
      "  adding: content/runs/detect/train/results.csv (deflated 85%)\n",
      "  adding: content/runs/detect/train/R_curve.png (deflated 12%)\n",
      "  adding: content/runs/detect/train/args.yaml (deflated 52%)\n",
      "  adding: content/runs/detect/train/weights/ (stored 0%)\n",
      "  adding: content/runs/detect/train/weights/best.pt (deflated 9%)\n",
      "  adding: content/runs/detect/train/weights/last.pt (deflated 9%)\n",
      "  adding: content/runs/detect/train/train_batch2090.jpg (deflated 6%)\n"
     ]
    }
   ],
   "source": [
    "!zip -r /content/drive/MyDrive/20_selected_projects/8_videoestimation/filev8.zip /content/runs"
   ]
  },
  {
   "cell_type": "markdown",
   "metadata": {
    "id": "fnuanu16TgAU"
   },
   "source": [
    "# Comparison"
   ]
  },
  {
   "cell_type": "code",
   "execution_count": 9,
   "metadata": {
    "id": "ZS4SAbm1TgAU"
   },
   "outputs": [],
   "source": [
    "#creating dataframe\n",
    "import pandas as pd\n",
    "result = pd.DataFrame({ 'ML Model' : ML_Model,\n",
    "\n",
    "                       'Precision': precision,\n",
    "                       'Recall'   : recall,\n",
    "                       'mAP' : mAP,\n",
    "\n",
    "\n",
    "                      })"
   ]
  },
  {
   "cell_type": "code",
   "execution_count": 10,
   "metadata": {
    "id": "kKcS2bg-TgAV",
    "outputId": "5c18a70c-c459-4db6-9868-e811387a50f9"
   },
   "outputs": [
    {
     "data": {
      "text/html": [
       "<div>\n",
       "<style scoped>\n",
       "    .dataframe tbody tr th:only-of-type {\n",
       "        vertical-align: middle;\n",
       "    }\n",
       "\n",
       "    .dataframe tbody tr th {\n",
       "        vertical-align: top;\n",
       "    }\n",
       "\n",
       "    .dataframe thead th {\n",
       "        text-align: right;\n",
       "    }\n",
       "</style>\n",
       "<table border=\"1\" class=\"dataframe\">\n",
       "  <thead>\n",
       "    <tr style=\"text-align: right;\">\n",
       "      <th></th>\n",
       "      <th>ML Model</th>\n",
       "      <th>Precision</th>\n",
       "      <th>Recall</th>\n",
       "      <th>mAP</th>\n",
       "    </tr>\n",
       "  </thead>\n",
       "  <tbody>\n",
       "    <tr>\n",
       "      <th>0</th>\n",
       "      <td>YoloV5s</td>\n",
       "      <td>0.296</td>\n",
       "      <td>0.620</td>\n",
       "      <td>0.367</td>\n",
       "    </tr>\n",
       "    <tr>\n",
       "      <th>1</th>\n",
       "      <td>YoloV5x6</td>\n",
       "      <td>0.385</td>\n",
       "      <td>0.411</td>\n",
       "      <td>0.409</td>\n",
       "    </tr>\n",
       "    <tr>\n",
       "      <th>2</th>\n",
       "      <td>YoloV3</td>\n",
       "      <td>0.400</td>\n",
       "      <td>0.309</td>\n",
       "      <td>0.318</td>\n",
       "    </tr>\n",
       "    <tr>\n",
       "      <th>3</th>\n",
       "      <td>YoloV8n</td>\n",
       "      <td>0.511</td>\n",
       "      <td>0.439</td>\n",
       "      <td>0.422</td>\n",
       "    </tr>\n",
       "    <tr>\n",
       "      <th>4</th>\n",
       "      <td>YoloV8s</td>\n",
       "      <td>0.477</td>\n",
       "      <td>0.457</td>\n",
       "      <td>0.413</td>\n",
       "    </tr>\n",
       "  </tbody>\n",
       "</table>\n",
       "</div>"
      ],
      "text/plain": [
       "   ML Model  Precision  Recall    mAP\n",
       "0   YoloV5s      0.296   0.620  0.367\n",
       "1  YoloV5x6      0.385   0.411  0.409\n",
       "2    YoloV3      0.400   0.309  0.318\n",
       "3   YoloV8n      0.511   0.439  0.422\n",
       "4   YoloV8s      0.477   0.457  0.413"
      ]
     },
     "execution_count": 10,
     "metadata": {},
     "output_type": "execute_result"
    }
   ],
   "source": [
    "result"
   ]
  },
  {
   "cell_type": "markdown",
   "metadata": {
    "id": "kk0YncH9TgAV"
   },
   "source": [
    "# Graph"
   ]
  },
  {
   "cell_type": "code",
   "execution_count": 11,
   "metadata": {
    "id": "bczPnzDHTgAV"
   },
   "outputs": [],
   "source": [
    "import numpy as np"
   ]
  },
  {
   "cell_type": "code",
   "execution_count": 12,
   "metadata": {
    "id": "mdZhpcbwTgAV"
   },
   "outputs": [],
   "source": [
    "classifier = ML_Model\n",
    "y_pos = np.arange(len(classifier))"
   ]
  },
  {
   "cell_type": "markdown",
   "metadata": {
    "id": "mFEOOd_HTgAV"
   },
   "source": [
    "# Precision"
   ]
  },
  {
   "cell_type": "code",
   "execution_count": 14,
   "metadata": {
    "id": "OJ6ZWHA0TgAV",
    "outputId": "ff707ff7-3172-473a-8c21-4121574b6f0e"
   },
   "outputs": [
    {
     "data": {
      "image/png": "[encoded data removed]",
      "text/plain": [
       "<Figure size 432x288 with 1 Axes>"
      ]
     },
     "metadata": {
      "needs_background": "light"
     },
     "output_type": "display_data"
    }
   ],
   "source": [
    "import matplotlib.pyplot as plt2\n",
    "plt2.barh(y_pos, precision, align='center', alpha=0.5,color='red')\n",
    "plt2.yticks(y_pos, classifier)\n",
    "plt2.xlabel('Precision Score')\n",
    "plt2.title('Classification Performance')\n",
    "plt2.show()"
   ]
  },
  {
   "cell_type": "markdown",
   "metadata": {
    "id": "-_0u2HlkTgAV"
   },
   "source": [
    "# Recall"
   ]
  },
  {
   "cell_type": "code",
   "execution_count": 15,
   "metadata": {
    "id": "nwK7fdRXTgAV",
    "outputId": "a614b450-ecb9-4e9f-9a8c-533f4b162920"
   },
   "outputs": [
    {
     "data": {
      "image/png": "[encoded data removed]",
      "text/plain": [
       "<Figure size 432x288 with 1 Axes>"
      ]
     },
     "metadata": {
      "needs_background": "light"
     },
     "output_type": "display_data"
    }
   ],
   "source": [
    "import matplotlib.pyplot as plt2\n",
    "plt2.barh(y_pos, recall, align='center', alpha=0.5,color='yellow')\n",
    "plt2.yticks(y_pos, classifier)\n",
    "plt2.xlabel('Recall Score')\n",
    "plt2.title('Classification Performance')\n",
    "plt2.show()"
   ]
  },
  {
   "cell_type": "markdown",
   "metadata": {
    "id": "KHwwAR5MTgAW"
   },
   "source": [
    "# mAP"
   ]
  },
  {
   "cell_type": "code",
   "execution_count": 16,
   "metadata": {
    "id": "gaSKzPnnTgAW",
    "outputId": "03a3eb43-9b28-4c5d-e6fe-ed2f217c5138"
   },
   "outputs": [
    {
     "data": {
      "image/png": "[encoded data removed]",
      "text/plain": [
       "<Figure size 432x288 with 1 Axes>"
      ]
     },
     "metadata": {
      "needs_background": "light"
     },
     "output_type": "display_data"
    }
   ],
   "source": [
    "import matplotlib.pyplot as plt2\n",
    "plt2.barh(y_pos, mAP, align='center', alpha=0.5,color='navy')\n",
    "plt2.yticks(y_pos, classifier)\n",
    "plt2.xlabel('mAP')\n",
    "plt2.title('Classification Performance')\n",
    "plt2.show()"
   ]
  },
  {
   "cell_type": "code",
   "execution_count": null,
   "metadata": {
    "id": "rHbiz6d-TgAW"
   },
   "outputs": [],
   "source": []
  }
 ],
 "metadata": {
  "accelerator": "GPU",
  "colab": {
   "gpuType": "T4",
   "machine_shape": "hm",
   "provenance": []
  },
  "kernelspec": {
   "display_name": "Python 3",
   "language": "python",
   "name": "python3"
  },
  "language_info": {
   "codemirror_mode": {
    "name": "ipython",
    "version": 3
   },
   "file_extension": ".py",
   "mimetype": "text/x-python",
   "name": "python",
   "nbconvert_exporter": "python",
   "pygments_lexer": "ipython3",
   "version": "3.8.8"
  }
 },
 "nbformat": 4,
 "nbformat_minor": 1
}
